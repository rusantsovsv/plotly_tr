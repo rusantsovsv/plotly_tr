{
 "cells": [
  {
   "cell_type": "markdown",
   "metadata": {},
   "source": [
    "# Шпаргалка по визуализации данных в Python с помощью Plotly"
   ]
  },
  {
   "cell_type": "code",
   "execution_count": null,
   "metadata": {},
   "outputs": [],
   "source": [
    "# подгрузим необходимые библиотеки\n",
    "import plotly\n",
    "import plotly.graph_objs as go\n",
    "import plotly.express as px\n",
    "from plotly.subplots import make_subplots\n",
    "import pandas as pd\n",
    "import numpy as np"
   ]
  },
  {
   "cell_type": "markdown",
   "metadata": {},
   "source": [
    "## Линейный график"
   ]
  },
  {
   "cell_type": "markdown",
   "metadata": {},
   "source": [
    "Сперва поступим совсем просто и «в лоб»:\n",
    "\n",
    "- Создадим график с помощью функции scatter из подмодуля plotly.express (внутрь передадим 2 списка точек: координаты X и Y)\n",
    "- Тут же «покажем» его с помощью метода show()"
   ]
  },
  {
   "cell_type": "markdown",
   "metadata": {},
   "source": [
    "График интерактивный, если навести на него курсор, то можно его приближать и удалять, выделять участки, по наведению курсора на точку получать подробную информацию, возвращать картинку в исходное положение, а при необходимости «скриншотить» и сохранять как файл."
   ]
  },
  {
   "cell_type": "code",
   "execution_count": null,
   "metadata": {
    "scrolled": false
   },
   "outputs": [],
   "source": [
    "x = np.arange(0, 5, 0.1)\n",
    "\n",
    "def f(x):\n",
    "    return x**2\n",
    "\n",
    "px.scatter(x=x, y=f(x)).show()"
   ]
  },
  {
   "cell_type": "markdown",
   "metadata": {},
   "source": [
    "Более читабельно и правильно записать тот же в код в следующем виде:"
   ]
  },
  {
   "cell_type": "code",
   "execution_count": null,
   "metadata": {},
   "outputs": [],
   "source": [
    "fig = px.scatter(x=x, y=f(x))\n",
    "fig.show()"
   ]
  },
  {
   "cell_type": "markdown",
   "metadata": {},
   "source": [
    "- Создаём фигуру\n",
    "- Рисуем график\n",
    "- Показываем фигуру"
   ]
  },
  {
   "cell_type": "markdown",
   "metadata": {},
   "source": [
    "2 строчки и готовый результат. Т.к. мы используем Express. Быстро и просто.\n",
    "\n",
    "Но маловато гибкости, поэтому мы практически сразу переходим к более продвинутому уровню — сразу создадим фигуру и нанесём на неё объекты.\n",
    "\n",
    "Так же сразу выведем фигуру для показа с помощью метода show().\n",
    "\n",
    "В отличие от Matplotlib отдельные объекты осей не создаются, хотя мы с ними ещё столкнёмся, когда захотим построить несколько графиков вместе"
   ]
  },
  {
   "cell_type": "code",
   "execution_count": null,
   "metadata": {},
   "outputs": [],
   "source": [
    "fig = go.Figure()\n",
    "# здесь будет код\n",
    "fig.show()"
   ]
  },
  {
   "cell_type": "markdown",
   "metadata": {},
   "source": [
    "Чтобы добавить что на график нам понадобится метод фигуры add_trace."
   ]
  },
  {
   "cell_type": "code",
   "execution_count": null,
   "metadata": {},
   "outputs": [],
   "source": [
    "#fig.add_trace(ТУТ_ТО_ЧТО_ХОТИМ_ПЕРЕДАТЬ_ДЛЯ_ОТОБРАЖЕНИЯ_И_ГДЕ)"
   ]
  },
  {
   "cell_type": "markdown",
   "metadata": {},
   "source": [
    "Но ЧТО мы хотим нарисовать? График по точкам. График мы уже рисовали с помощью Scatter в Экспрессе, у Объектов есть свой Scatter, давайте глянем что он делает:"
   ]
  },
  {
   "cell_type": "code",
   "execution_count": null,
   "metadata": {},
   "outputs": [],
   "source": [
    "go.Scatter(x=x, y=f(x))"
   ]
  },
  {
   "cell_type": "markdown",
   "metadata": {},
   "source": [
    "Вычислили все координаты. Теперь объединим:"
   ]
  },
  {
   "cell_type": "code",
   "execution_count": null,
   "metadata": {},
   "outputs": [],
   "source": [
    "fig = go.Figure()\n",
    "fig.add_trace(go.Scatter(x=x, y=f(x)))\n",
    "fig.show()"
   ]
  },
  {
   "cell_type": "markdown",
   "metadata": {},
   "source": [
    "Как видим, отличия не только в коде, но и в результате — получилась гладкая кривая.\n",
    "\n",
    "Кроме того, такой способ позволит нам нанести на график столько кривых, сколько мы хотим:"
   ]
  },
  {
   "cell_type": "code",
   "execution_count": null,
   "metadata": {},
   "outputs": [],
   "source": [
    "fig = go.Figure()\n",
    "fig.add_trace(go.Scatter(x=x, y=f(x)))\n",
    "fig.add_trace(go.Scatter(x=x, y=x))\n",
    "fig.show()"
   ]
  },
  {
   "cell_type": "markdown",
   "metadata": {},
   "source": [
    "Погодите, что это такое? Справа появилась ещё и легенда!\n",
    "\n",
    "Впрочем, логично, пока график был один, зачем нам легенда?\n",
    "\n",
    "Но магия Plotly тут не заканчивается. Нажмите на любую из подписей в легенде и соответствующий график исчезнет, а надпись станет более бледной. Вернуть их позволит повторный клик."
   ]
  },
  {
   "cell_type": "markdown",
   "metadata": {},
   "source": [
    "### Подписи графиков"
   ]
  },
  {
   "cell_type": "markdown",
   "metadata": {},
   "source": [
    "Добавим атрибут name, в который передадим строку с именем графика, которое мы хотим отображать в легенде.\n",
    "\n",
    "Plotly поддерживает LATEX в подписях (аналогично matplotlib через использование $$ с обеих сторон)."
   ]
  },
  {
   "cell_type": "code",
   "execution_count": null,
   "metadata": {},
   "outputs": [],
   "source": [
    "fig = go.Figure()\n",
    "fig.add_trace(go.Scatter(x=x, y=f(x), name='$$f(x)=x^2$$'))\n",
    "fig.add_trace(go.Scatter(x=x, y=x, name='$$g(x)=x$$'))\n",
    "fig.show()"
   ]
  },
  {
   "cell_type": "markdown",
   "metadata": {},
   "source": [
    "К сожалению, это имеет свои ограничения, как можно заметить подсказка при наведении на график отображается в «сыром» виде, а не в LATEX.\n",
    "\n",
    "Победить это можно, если использовать HTML разметку в подписях. В данном примере я буду использовать тег sup. Так же заметьте, что шрифт для LATEX и HTML отличается начертанием."
   ]
  },
  {
   "cell_type": "code",
   "execution_count": null,
   "metadata": {},
   "outputs": [],
   "source": [
    "fig = go.Figure()\n",
    "fig.add_trace(go.Scatter(x=x, y=f(x), name='f(x)=x<sup>2</sup>'))\n",
    "fig.add_trace(go.Scatter(x=x, y=x, name='$$g(x)=x$$'))\n",
    "fig.show()"
   ]
  },
  {
   "cell_type": "markdown",
   "metadata": {},
   "source": [
    "С увеличением длины подписи графика, легенда начала наезжать на график. Мне это не нравится, поэтому перенесём легенду вниз."
   ]
  },
  {
   "cell_type": "markdown",
   "metadata": {},
   "source": [
    "Для этого применим к фигуре метод update_layout, у которого нас интересует атрибут legend_orientation fig.update_layout(legend_orientation=\"h\")"
   ]
  },
  {
   "cell_type": "code",
   "execution_count": null,
   "metadata": {},
   "outputs": [],
   "source": [
    "fig = go.Figure()\n",
    "fig.add_trace(go.Scatter(x=x, y=f(x), name='f(x)=x<sup>2</sup>'))\n",
    "fig.add_trace(go.Scatter(x=x, y=x, name='$$g(x)=x$$'))\n",
    "fig.update_layout(legend_orientation='h')\n",
    "fig.show()"
   ]
  },
  {
   "cell_type": "markdown",
   "metadata": {},
   "source": [
    "Хорошо, но слишком большая часть рабочего пространства ноутбука не используется. Особенно это заметно сверху — большой отступ сверху до поля графика.\n",
    "\n",
    "По умолчанию поля графика имеют отступ 20 пикселей. Мы можем задать свои значения отступам с помощью update_layout, у которого есть атрибут margin, принимающий словарь из отступов:\n",
    "- l — отступ слева\n",
    "- r — отступ справа\n",
    "- t — отступ сверху\n",
    "- b — отступ снизу"
   ]
  },
  {
   "cell_type": "markdown",
   "metadata": {},
   "source": [
    "Зададим везде нулевые отступы fig.update_layout(margin=dict(l=0, r=0, t=0, b=0))"
   ]
  },
  {
   "cell_type": "code",
   "execution_count": null,
   "metadata": {},
   "outputs": [],
   "source": [
    "fig = go.Figure()\n",
    "fig.add_trace(go.Scatter(x=x, y=f(x),  name='f(x)=x<sup>2</sup>'))\n",
    "fig.add_trace(go.Scatter(x=x, y=x, name='$$g(x)=x$$'))\n",
    "fig.update_layout(legend_orientation=\"h\", \n",
    "                  margin=dict(l=0, r=0, t=0, b=0))\n",
    "fig.show()"
   ]
  },
  {
   "cell_type": "markdown",
   "metadata": {},
   "source": [
    "Поскольку подписи в легенде короткие, мне не нравится, что они расположены слева. Я бы предпочёл выровнять их по центру.\n",
    "\n",
    "Для этого можно использовать у update_layout атрибут legend, куда передать словарь с координатами для сдвига (сдвиг может быть и по вертикали, но мы используем только горизонталь).\n",
    "\n",
    "Сдвиг задаётся в долях от ширины всей фигуры, но важно помнить, что сдвигается левый край легенды. Т.е. если мы укажем 0.5 (50% ширины), то надпись будет на самом деле чуть сдвинута вправо.\n",
    "\n",
    "Т.к. реальная ширина зависит от особенностей вашего экрана, браузера, шрифтов и т.п., то этот параметр часто приходится подгонять. Лично у меня для этого примера неплохо работает 0.43.\n",
    "\n",
    "Чтобы не шаманить с шириной, можно легенду относительно точки сдвига с помощью аргумента xanchor.\n",
    "\n",
    "В итоге для легенды мы получим такой словарь:"
   ]
  },
  {
   "cell_type": "code",
   "execution_count": null,
   "metadata": {},
   "outputs": [],
   "source": [
    "fig = go.Figure()\n",
    "fig.add_trace(go.Scatter(x=x, y=f(x),  name='f(x)=x<sup>2</sup>'))\n",
    "fig.add_trace(go.Scatter(x=x, y=x, name='$$g(x)=x$$'))\n",
    "fig.update_layout(legend_orientation=\"h\",\n",
    "                  legend=dict(x=.5, xanchor=\"center\"),\n",
    "                  margin=dict(l=0, r=0, t=0, b=0))\n",
    "fig.show()"
   ]
  },
  {
   "cell_type": "markdown",
   "metadata": {},
   "source": [
    "Стоит сразу задать подписи к осям и графику в целом. Для этого нам вновь понадобится update_layout, у которого добавится 3 новых аргумента:\n",
    "\n",
    "title=\"Plot Title\",\n",
    "\n",
    "xaxis_title=\"x Axis Title\",\n",
    "\n",
    "yaxis_title=\"y Axis Title\","
   ]
  },
  {
   "cell_type": "markdown",
   "metadata": {},
   "source": [
    "Следует заметить, что сдвиги, которые мы задали ранее могут негавтивно сказаться на читаемости подписей (так заголовок графика вообще вытесняется из области видимости, поэтому я увеличу отступ сверху с 0 до 30 пикселей"
   ]
  },
  {
   "cell_type": "code",
   "execution_count": null,
   "metadata": {},
   "outputs": [],
   "source": [
    "fig = go.Figure()\n",
    "fig.add_trace(go.Scatter(x=x, y=f(x), name='f(x)=x<sup>2</sup>'))\n",
    "fig.add_trace(go.Scatter(x=x, y=x, name='$$g(x)=x$$'))\n",
    "fig.update_layout(legend_orientation='h',\n",
    "                  legend=dict(x=.5, xanchor='center'),\n",
    "                  title='Plot Title',\n",
    "                  xaxis_title='x Axis Title',\n",
    "                  yaxis_title='y Axis Title',\n",
    "                  margin=dict(l=0, r=0, t=30, b=0))\n",
    "fig.show()"
   ]
  },
  {
   "cell_type": "markdown",
   "metadata": {},
   "source": [
    "Вернёмся к самим графикам, и вспомним, что они состоят из точек. Выделим их с помощью атрибута mode у самих объектов Scatter.\n",
    "\n",
    "Используем разные варианты выделения для демонстрации:"
   ]
  },
  {
   "cell_type": "code",
   "execution_count": null,
   "metadata": {},
   "outputs": [],
   "source": [
    "fig = go.Figure()\n",
    "fig.add_trace(go.Scatter(x=x, y=f(x), mode='lines+markers',  name='f(x)=x<sup>2</sup>'))\n",
    "fig.add_trace(go.Scatter(x=x, y=x, mode='markers', name='$$g(x)=x$$'))\n",
    "fig.update_layout(legend_orientation=\"h\",\n",
    "                  legend=dict(x=.5, xanchor=\"center\"),\n",
    "                  margin=dict(l=0, r=0, t=0, b=0))\n",
    "fig.show()"
   ]
  },
  {
   "cell_type": "markdown",
   "metadata": {},
   "source": [
    "Теперь особенно заметно, что LATEX в функции g(x)=x отображается некорректно при наведении курсора мыши на точки.\n",
    "\n",
    "Давайте скроем эту информацию.\n",
    "\n",
    "Зададим для всех графиков с помощью метода update_traces поведение при наведении. Это регулирует атрибут hoverinfo, в который передаётся маска из имён атрибутов, например, «x+y» — это только информация о значениях аргумента и функции:"
   ]
  },
  {
   "cell_type": "code",
   "execution_count": null,
   "metadata": {},
   "outputs": [],
   "source": [
    "fig = go.Figure()\n",
    "fig.add_trace(go.Scatter(x=x, y=f(x), mode='lines+markers',  name='f(x)=x<sup>2</sup>'))\n",
    "fig.add_trace(go.Scatter(x=x, y=x, mode='markers', name='$$g(x)=x$$'))\n",
    "fig.update_layout(legend_orientation=\"h\",\n",
    "                  legend=dict(x=.5, xanchor=\"center\"),\n",
    "                  margin=dict(l=0, r=0, t=0, b=0))\n",
    "fig.update_traces(hoverinfo=\"x+y\")\n",
    "fig.show()"
   ]
  },
  {
   "cell_type": "markdown",
   "metadata": {},
   "source": [
    "Давайте разрешим использовать информацию из всех аргументов и сами зададим шаблон подсказки.\n",
    "\n",
    "hoverinfo=«all»\n",
    "\n",
    "в hovertemplate передаём строку, используем HTML для форматирования, а имена переменных берём в фигурные скобки и выделяем %, например, %{x}"
   ]
  },
  {
   "cell_type": "code",
   "execution_count": null,
   "metadata": {},
   "outputs": [],
   "source": [
    "fig = go.Figure()\n",
    "fig.add_trace(go.Scatter(x=x, y=f(x), mode='lines+markers',  name='f(x)=x<sup>2</sup>'))\n",
    "fig.add_trace(go.Scatter(x=x, y=x, mode='markers', name='g(x)=x'))\n",
    "fig.update_layout(legend_orientation=\"h\",\n",
    "                  legend=dict(x=.5, xanchor=\"center\"),\n",
    "                  margin=dict(l=0, r=0, t=0, b=0))\n",
    "fig.update_traces(hoverinfo=\"all\", hovertemplate=\"Аргумент: %{x}<br>Функция: %{y}\")\n",
    "fig.show()"
   ]
  },
  {
   "cell_type": "markdown",
   "metadata": {},
   "source": [
    "А что если мы хотим сравнить информацию на 2 кривых в точках, например, с одинаковых аргументом?\n",
    "\n",
    "Т.к. это касается всей фигуры, нам нужен update_layout и его аргумент hovermode."
   ]
  },
  {
   "cell_type": "code",
   "execution_count": null,
   "metadata": {},
   "outputs": [],
   "source": [
    "fig = go.Figure()\n",
    "fig.add_trace(go.Scatter(x=x, y=f(x), mode='lines+markers',  name='f(x)=x<sup>2</sup>'))\n",
    "fig.add_trace(go.Scatter(x=x, y=x, mode='markers', name='g(x)=x'))\n",
    "fig.update_layout(legend_orientation=\"h\",\n",
    "                  legend=dict(x=.5, xanchor=\"center\"),\n",
    "                  hovermode=\"x\",\n",
    "                  margin=dict(l=0, r=0, t=0, b=0))\n",
    "fig.update_traces(hoverinfo=\"all\", hovertemplate=\"Аргумент: %{x}<br>Функция: %{y}\")\n",
    "fig.show()"
   ]
  },
  {
   "cell_type": "markdown",
   "metadata": {},
   "source": [
    "Кстати, маркерами можно управлять для конкретной кривой и явно.\n",
    "\n",
    "Для этого используется аргумент marker, который принимает на вход словарь.\n",
    "\n",
    "А мы лишь ограничимся баловством:"
   ]
  },
  {
   "cell_type": "code",
   "execution_count": null,
   "metadata": {},
   "outputs": [],
   "source": [
    "fig = go.Figure()\n",
    "fig.add_trace(go.Scatter(x=x, y=f(x), mode='lines+markers',  name='f(x)=x<sup>2</sup>'))\n",
    "fig.add_trace(go.Scatter(x=x, y=x, mode='markers',name='g(x)=x',\n",
    "                         marker=dict(color='LightSkyBlue', size=20, line=dict(color='MediumPurple', width=3))))\n",
    "fig.update_layout(legend_orientation=\"h\",\n",
    "                  legend=dict(x=.5, xanchor=\"center\"),\n",
    "                  hovermode=\"x\",\n",
    "                  margin=dict(l=0, r=0, t=0, b=0))\n",
    "fig.update_traces(hoverinfo=\"all\", hovertemplate=\"Аргумент: %{x}<br>Функция: %{y}\")\n",
    "fig.show()"
   ]
  },
  {
   "cell_type": "markdown",
   "metadata": {},
   "source": [
    "Кажется теперь на графике плохо видно ту часть, где кривые пересекаются (вероятно наиболее интересную для нас).\n",
    "\n",
    "Для этого у нас есть методы фигуры:\n",
    "\n",
    "update_yaxes — ось Y (вертикаль)\n",
    "update_xaxes — ось X (горизонталь)\n",
    "\n",
    "С их помощью зададим интервалы отображения для осей (это только начальное положение, ничто не мешает нам сменить масштаб в процессе взаимодействия с графиком)."
   ]
  },
  {
   "cell_type": "code",
   "execution_count": null,
   "metadata": {},
   "outputs": [],
   "source": [
    "fig = go.Figure()\n",
    "fig.update_yaxes(range=[-0.5, 1.5])\n",
    "fig.update_xaxes(range=[-0.5, 1.5])\n",
    "fig.add_trace(go.Scatter(x=x, y=f(x), mode='lines+markers',  name='f(x)=x<sup>2</sup>'))\n",
    "fig.add_trace(go.Scatter(x=x, y=x, mode='markers',name='g(x)=x',\n",
    "                         marker=dict(color='LightSkyBlue', size=20, line=dict(color='MediumPurple', width=3))))\n",
    "fig.update_layout(legend_orientation=\"h\",\n",
    "                  legend=dict(x=.5, xanchor=\"center\"),\n",
    "                  hovermode=\"x\",\n",
    "                  margin=dict(l=0, r=0, t=0, b=0))\n",
    "fig.update_traces(hoverinfo=\"all\", hovertemplate=\"Аргумент: %{x}<br>Функция: %{y}\")\n",
    "fig.show()"
   ]
  },
  {
   "cell_type": "markdown",
   "metadata": {},
   "source": [
    "Хорошо, но правильно было бы нанести осевые линии.\n",
    "\n",
    "Для этого у тех же функций есть 3 атрибута:\n",
    "\n",
    "zeroline — выводить или нет осевую линию\n",
    "zerolinewidth — задаёт толщину осевой (в пикселях)\n",
    "zerolinecolor — задаёт цвет осевой (строка, можно указать название цвета, можно его код, как принято в HTML-разметке)"
   ]
  },
  {
   "cell_type": "code",
   "execution_count": null,
   "metadata": {},
   "outputs": [],
   "source": [
    "fig = go.Figure()\n",
    "fig.update_yaxes(range=[-0.5, 1.5], zeroline=True, zerolinewidth=2, zerolinecolor='LightPink')\n",
    "fig.update_xaxes(range=[-0.5, 1.5], zeroline=True, zerolinewidth=2, zerolinecolor='#008000')\n",
    "fig.add_trace(go.Scatter(x=x, y=f(x), mode='lines+markers',  name='f(x)=x<sup>2</sup>'))\n",
    "fig.add_trace(go.Scatter(x=x, y=x, mode='markers',name='g(x)=x',\n",
    "                         marker=dict(color='LightSkyBlue', size=20, line=dict(color='MediumPurple', width=3))))\n",
    "fig.update_layout(legend_orientation=\"h\",\n",
    "                  legend=dict(x=.5, xanchor=\"center\"),\n",
    "                  hovermode=\"x\",\n",
    "                  margin=dict(l=0, r=0, t=0, b=0))\n",
    "fig.update_traces(hoverinfo=\"all\", hovertemplate=\"Аргумент: %{x}<br>Функция: %{y}\")\n",
    "fig.show()"
   ]
  },
  {
   "cell_type": "markdown",
   "metadata": {},
   "source": [
    "Давайте добавим больше разных функций на наш график, но сделаем так, чтобы по умолчанию их не было видно.\n",
    "\n",
    "Для этого у объекта Scatter есть специальный атрибут:\n",
    "\n",
    "visible='legendonly'\n",
    "\n",
    "Т.к. мы центрировали легенду относительно точки сдвига, то нам не пришлось менять величину сдвига с увеличением числа подписей."
   ]
  },
  {
   "cell_type": "code",
   "execution_count": null,
   "metadata": {},
   "outputs": [],
   "source": [
    "def h(x):\n",
    "    return np.sin(x)\n",
    "\n",
    "def k(x):\n",
    "    return np.cos(x)\n",
    "\n",
    "def m(x):\n",
    "    return np.tan(x)\n",
    "\n",
    "\n",
    "fig = go.Figure()\n",
    "fig.update_yaxes(range=[-0.5, 1.5], zeroline=True, zerolinewidth=2, zerolinecolor='LightPink')\n",
    "fig.update_xaxes(range=[-0.5, 1.5], zeroline=True, zerolinewidth=2, zerolinecolor='#008000')\n",
    "\n",
    "fig.add_trace(go.Scatter(visible='legendonly', x=x, y=h(x),  name='h(x)=sin(x)'))\n",
    "fig.add_trace(go.Scatter(visible='legendonly', x=x, y=k(x),  name='k(x)=cos(x)'))\n",
    "fig.add_trace(go.Scatter(visible='legendonly', x=x, y=m(x),  name='m(x)=tg(x)'))\n",
    "\n",
    "fig.add_trace(go.Scatter(x=x, y=f(x), mode='lines+markers',  name='f(x)=x<sup>2</sup>'))\n",
    "fig.add_trace(go.Scatter(x=x, y=x, mode='markers',name='g(x)=x',\n",
    "                         marker=dict(color='LightSkyBlue', size=20, line=dict(color='MediumPurple', width=3))))\n",
    "fig.update_layout(legend_orientation=\"h\",\n",
    "                  legend=dict(x=.5, xanchor=\"center\"),\n",
    "                  hovermode=\"x\",\n",
    "                  margin=dict(l=0, r=0, t=0, b=0))\n",
    "fig.update_traces(hoverinfo=\"all\", hovertemplate=\"Аргумент: %{x}<br>Функция: %{y}\")\n",
    "fig.show()"
   ]
  },
  {
   "cell_type": "markdown",
   "metadata": {},
   "source": [
    "Наверное всё же не следует смешивать вместе тригонометрические и арифметические функции. Давайте отобразим их на разных, соседних графиках.\n",
    "\n",
    "Для этого нам потребуется создать фигуру с несколькими осями.\n",
    "\n",
    "Фигура с несколькими графиками создаётся с помощью подмодуля make_subplots.\n",
    "\n",
    "Необходимо указать количество:\n",
    "\n",
    "row — строк\n",
    "col — столбцов\n",
    "\n",
    "А при построении графика передать «координаты» графика в этой «матрице» (сперва строка, потом столбец)\n",
    "\n",
    "fig = make_subplots(rows=1, cols=2, specs=[[{'type':'domain'}, {'type':'domain'}]])"
   ]
  },
  {
   "cell_type": "code",
   "execution_count": null,
   "metadata": {},
   "outputs": [],
   "source": [
    "fig = make_subplots(rows=1, cols=2)\n",
    "\n",
    "fig.update_yaxes(range=[-0.5, 1.5], zeroline=True, zerolinewidth=2, zerolinecolor='LightPink')\n",
    "fig.update_xaxes(range=[-0.5, 1.5], zeroline=True, zerolinewidth=2, zerolinecolor='#008000')\n",
    "\n",
    "fig.add_trace(go.Scatter(x=x, y=h(x),  name='h(x)=sin(x)'), 1, 1)\n",
    "fig.add_trace(go.Scatter(x=x, y=k(x),  name='k(x)=cos(x)'), 1, 1)\n",
    "fig.add_trace(go.Scatter(visible='legendonly', x=x, y=m(x),  name='m(x)=tg(x)'), 1, 1)\n",
    "\n",
    "fig.add_trace(go.Scatter(x=x, y=f(x), mode='lines+markers',  name='f(x)=x<sup>2</sup>'), 1, 2)\n",
    "fig.add_trace(go.Scatter(x=x, y=x, mode='markers',name='g(x)=x',\n",
    "                         marker=dict(color='LightSkyBlue', size=20, line=dict(color='MediumPurple', width=3))), 1, 2)\n",
    "fig.update_layout(legend_orientation=\"h\",\n",
    "                  legend=dict(x=.5, xanchor=\"center\"),\n",
    "                  hovermode=\"x\",\n",
    "                  margin=dict(l=0, r=0, t=0, b=0))\n",
    "fig.update_traces(hoverinfo=\"all\", hovertemplate=\"Аргумент: %{x}<br>Функция: %{y}\")\n",
    "fig.show()"
   ]
  },
  {
   "cell_type": "markdown",
   "metadata": {},
   "source": [
    "Заметили, наши изменения осей применились к обоим графикам?\n",
    "\n",
    "Естественно, если у метода, изменяющего оси указать аргументы:\n",
    "\n",
    "row — координата строки\n",
    "col — координата столбца\n",
    "\n",
    "то можно изменить ось только на конкретном графике:"
   ]
  },
  {
   "cell_type": "code",
   "execution_count": null,
   "metadata": {},
   "outputs": [],
   "source": [
    "fig = make_subplots(rows=1, cols=2)\n",
    "\n",
    "fig.update_yaxes(range=[-0.5, 1.5], zeroline=True, zerolinewidth=2, zerolinecolor='LightPink', col=2)\n",
    "fig.update_xaxes(range=[-0.5, 1.5], zeroline=True, zerolinewidth=2, zerolinecolor='#008000', col=2)\n",
    "\n",
    "fig.add_trace(go.Scatter(x=x, y=h(x),  name='h(x)=sin(x)'), 1, 1)\n",
    "fig.add_trace(go.Scatter(x=x, y=k(x),  name='k(x)=cos(x)'), 1, 1)\n",
    "fig.add_trace(go.Scatter(visible='legendonly', x=x, y=m(x),  name='m(x)=tg(x)'), 1, 1)\n",
    "\n",
    "fig.add_trace(go.Scatter(x=x, y=f(x), mode='lines+markers',  name='f(x)=x<sup>2</sup>'), 1, 2)\n",
    "fig.add_trace(go.Scatter(x=x, y=x, mode='markers',name='g(x)=x',\n",
    "                         marker=dict(color='LightSkyBlue', size=20, line=dict(color='MediumPurple', width=3))), 1, 2)\n",
    "fig.update_layout(legend_orientation=\"h\",\n",
    "                  legend=dict(x=.5, xanchor=\"center\"),\n",
    "                  hovermode=\"x\",\n",
    "                  margin=dict(l=0, r=0, t=0, b=0))\n",
    "fig.update_traces(hoverinfo=\"all\", hovertemplate=\"Аргумент: %{x}<br>Функция: %{y}\")\n",
    "fig.show()"
   ]
  },
  {
   "cell_type": "markdown",
   "metadata": {},
   "source": [
    "А вот если бездумно использовать title, xaxis_title и yaxis_title для update_layout, то может выйти казус — подписи применятся только к 1 графику:"
   ]
  },
  {
   "cell_type": "code",
   "execution_count": null,
   "metadata": {},
   "outputs": [],
   "source": [
    "fig = make_subplots(rows=1, cols=2)\n",
    "\n",
    "fig.update_yaxes(range=[-0.5, 1.5], zeroline=True, zerolinewidth=2, zerolinecolor='LightPink', col=2)\n",
    "fig.update_xaxes(range=[-0.5, 1.5], zeroline=True, zerolinewidth=2, zerolinecolor='#008000', col=2)\n",
    "\n",
    "fig.add_trace(go.Scatter(x=x, y=h(x),  name='h(x)=sin(x)'), 1, 1)\n",
    "fig.add_trace(go.Scatter(x=x, y=k(x),  name='k(x)=cos(x)'), 1, 1)\n",
    "fig.add_trace(go.Scatter(visible='legendonly', x=x, y=m(x),  name='m(x)=tg(x)'), 1, 1)\n",
    "\n",
    "fig.add_trace(go.Scatter(x=x, y=f(x), mode='lines+markers',  name='f(x)=x<sup>2</sup>'), 1, 2)\n",
    "fig.add_trace(go.Scatter(x=x, y=x, mode='markers',name='g(x)=x',\n",
    "                         marker=dict(color='LightSkyBlue', size=20, line=dict(color='MediumPurple', width=3))), 1, 2)\n",
    "fig.update_layout(legend_orientation=\"h\",\n",
    "                  legend=dict(x=.5, xanchor=\"center\"),\n",
    "                  hovermode=\"x\",\n",
    "                  margin=dict(l=0, r=0, t=30, b=0))\n",
    "fig.update_layout(title=\"Plot Title\",\n",
    "                  xaxis_title=\"x Axis Title\",\n",
    "                  yaxis_title=\"y Axis Title\")\n",
    "fig.update_traces(hoverinfo=\"all\", hovertemplate=\"Аргумент: %{x}<br>Функция: %{y}\")\n",
    "fig.show()"
   ]
  },
  {
   "cell_type": "markdown",
   "metadata": {},
   "source": [
    "Поэтому заголовки графиков можно задать, при создании фигуры, передав в аргумент subplot_titles кортеж/список с названиями.\n",
    "\n",
    "Подписи осей под графиками можно поменять с помощью методов фигуры:\n",
    "\n",
    "fig.update_xaxes\n",
    "fig.update_yaxes\n",
    "\n",
    "Передавая в них номер строки и колонки (т.е. «координаты изменяемого графика»)"
   ]
  },
  {
   "cell_type": "code",
   "execution_count": null,
   "metadata": {},
   "outputs": [],
   "source": [
    "fig = make_subplots(rows=1, cols=2, subplot_titles=(\"Plot 1\", \"Plot 2\"))\n",
    "\n",
    "fig.update_yaxes(range=[-0.5, 1.5], zeroline=True, zerolinewidth=2, zerolinecolor='LightPink', col=2)\n",
    "fig.update_xaxes(range=[-0.5, 1.5], zeroline=True, zerolinewidth=2, zerolinecolor='#008000', col=2)\n",
    "\n",
    "fig.add_trace(go.Scatter(x=x, y=h(x),  name='h(x)=sin(x)'), 1, 1)\n",
    "fig.add_trace(go.Scatter(x=x, y=k(x),  name='k(x)=cos(x)'), 1, 1)\n",
    "fig.add_trace(go.Scatter(visible='legendonly', x=x, y=m(x),  name='m(x)=tg(x)'), 1, 1)\n",
    "\n",
    "fig.add_trace(go.Scatter(x=x, y=f(x), mode='lines+markers',  name='f(x)=x<sup>2</sup>'), 1, 2)\n",
    "fig.add_trace(go.Scatter(x=x, y=x, mode='markers',name='g(x)=x',\n",
    "                         marker=dict(color='LightSkyBlue', size=20, line=dict(color='MediumPurple', width=3))), 1, 2)\n",
    "fig.update_layout(legend_orientation=\"h\",\n",
    "                  legend=dict(x=.5, xanchor=\"center\"),\n",
    "                  hovermode=\"x\",\n",
    "                  margin=dict(l=0, r=0, t=40, b=0))\n",
    "fig.update_layout(title=\"Plot Title\")\n",
    "fig.update_xaxes(title='Ось X графика 1', col=1, row=1)\n",
    "fig.update_xaxes(title='Ось X графика 2', col=2, row=1)\n",
    "fig.update_yaxes(title='Ось Y графика 1', col=1, row=1)\n",
    "fig.update_yaxes(title='Ось Y графика 2', col=2, row=1)\n",
    "fig.update_traces(hoverinfo=\"all\", hovertemplate=\"Аргумент: %{x}<br>Функция: %{y}\")\n",
    "fig.show()"
   ]
  },
  {
   "cell_type": "markdown",
   "metadata": {},
   "source": [
    "И конечно, если необходимо сделать так, чтобы один график был больше, а другой меньше, то для этого используется аргументы\n",
    "\n",
    "column_widths — задаёт отношения ширины графиков (в одной строке)\n",
    "row_heights — задаёт отношения высот графиков (в одном столбце)\n",
    "\n",
    "Каждый из этих параметров принимает список чисел, которых должно быть столько, сколько графиков в строке/столбце. Отношения чисел задают отношения ширин или высот.\n",
    "\n",
    "Рассмотрим на примере ширин. Сделаем левый график вдвое шире правого, т.е. зададим соотношение 2:1."
   ]
  },
  {
   "cell_type": "code",
   "execution_count": null,
   "metadata": {},
   "outputs": [],
   "source": [
    "fig = make_subplots(rows=1, cols=2, column_widths=[2, 1])\n",
    "\n",
    "fig.update_yaxes(range=[-0.5, 1.5], zeroline=True, zerolinewidth=2, zerolinecolor='LightPink', col=2)\n",
    "fig.update_xaxes(range=[-0.5, 1.5], zeroline=True, zerolinewidth=2, zerolinecolor='#008000', col=2)\n",
    "\n",
    "fig.add_trace(go.Scatter(x=x, y=h(x),  name='h(x)=sin(x)'), 1, 1)\n",
    "fig.add_trace(go.Scatter(x=x, y=k(x),  name='k(x)=cos(x)'), 1, 1)\n",
    "fig.add_trace(go.Scatter(visible='legendonly', x=x, y=m(x),  name='m(x)=tg(x)'), 1, 1)\n",
    "\n",
    "fig.add_trace(go.Scatter(x=x, y=f(x), mode='lines+markers',  name='f(x)=x<sup>2</sup>'), 1, 2)\n",
    "fig.add_trace(go.Scatter(x=x, y=x, mode='markers',name='g(x)=x',\n",
    "                         marker=dict(color='LightSkyBlue', size=20, line=dict(color='MediumPurple', width=3))), 1, 2)\n",
    "fig.update_layout(legend_orientation=\"h\",\n",
    "                  legend=dict(x=.5, xanchor=\"center\"),\n",
    "                  hovermode=\"x\",\n",
    "                  margin=dict(l=0, r=0, t=0, b=0))\n",
    "fig.update_traces(hoverinfo=\"all\", hovertemplate=\"Аргумент: %{x}<br>Функция: %{y}\")\n",
    "fig.show()"
   ]
  },
  {
   "cell_type": "markdown",
   "metadata": {},
   "source": [
    "А что если мы хотим выделить одному из графиков больше места, чем другим, например, 2 строки или наоборот, 2 столбца?\n",
    "\n",
    "В matplotlib мы использовали бы несколько фигур, либо оси с заданными размерами, здесь у нас есть другой инструмент. Мы можем сказать каким-то осям объединиться вдоль колонок или вдоль строк.\n",
    "\n",
    "Для этого нам потребуется написать спецификацию на фигуру (для начала очень простую).\n",
    "\n",
    "Спецификация — это список (если точнее, то даже матрица из списков), каждый объект внутри которого — словарь, описывающий одни из осей.\n",
    "\n",
    "Если каких-то осей нет (например, если их место занимают растянувшиеся соседи, то вместо словаря передаётся None.\n",
    "\n",
    "Давайте сделаем матрицу 2х2 и объединим вместе левые графики, получив одни высокие вертикальные оси. Для этого первому графику передадим атрибут «rowspan» равный 2, а его нижнего соседа уничтожим (None):\n",
    "\n",
    "specs=[\n",
    "[{\"rowspan\": 2}, {}],\n",
    "[None, {}]\n",
    "]"
   ]
  },
  {
   "cell_type": "code",
   "execution_count": null,
   "metadata": {},
   "outputs": [],
   "source": [
    "fig = make_subplots(rows=2, cols=2,\n",
    "                    specs=[[{\"rowspan\": 2}, {}], [None, {}]])\n",
    "\n",
    "\n",
    "fig.update_yaxes(range=[-0.5, 1.5], zeroline=True, zerolinewidth=2, zerolinecolor='LightPink', col=2)\n",
    "fig.update_xaxes(range=[-0.5, 1.5], zeroline=True, zerolinewidth=2, zerolinecolor='#008000', col=2)\n",
    "\n",
    "fig.add_trace(go.Scatter(x=x, y=h(x),  name='h(x)=sin(x)'), 2, 2)\n",
    "fig.add_trace(go.Scatter(x=x, y=k(x),  name='k(x)=cos(x)'), 2, 2)\n",
    "fig.add_trace(go.Scatter(x=x, y=m(x),  name='m(x)=tg(x)'), 1, 1)\n",
    "\n",
    "fig.add_trace(go.Scatter(x=x, y=f(x), mode='lines+markers',  name='f(x)=x<sup>2</sup>'), 1, 2)\n",
    "fig.add_trace(go.Scatter(x=x, y=x, mode='markers',name='g(x)=x',\n",
    "                         marker=dict(color='LightSkyBlue', size=20, line=dict(color='MediumPurple', width=3))), 1, 2)\n",
    "fig.update_layout(legend_orientation=\"h\",\n",
    "                  legend=dict(x=.5, xanchor=\"center\"),\n",
    "                  hovermode=\"x\",\n",
    "                  margin=dict(l=0, r=0, t=0, b=0))\n",
    "fig.update_traces(hoverinfo=\"all\", hovertemplate=\"Аргумент: %{x}<br>Функция: %{y}\")\n",
    "fig.show()"
   ]
  },
  {
   "cell_type": "markdown",
   "metadata": {},
   "source": [
    "Как видим, в вертикальный график идеально вписался тангенс, который отныне не невидим.\n",
    "\n",
    "Для объединения используется:\n",
    "\n",
    "rowspan — по вертикали\n",
    "colspan — по горизонтали"
   ]
  },
  {
   "cell_type": "code",
   "execution_count": null,
   "metadata": {},
   "outputs": [],
   "source": [
    "fig = make_subplots(rows=2, cols=2,\n",
    "                    specs=[[{\"colspan\": 2}, None], [{}, {}]])\n",
    "\n",
    "\n",
    "fig.update_yaxes(range=[-0.5, 1.5], zeroline=True, zerolinewidth=2, zerolinecolor='LightPink', col=2)\n",
    "fig.update_xaxes(range=[-0.5, 1.5], zeroline=True, zerolinewidth=2, zerolinecolor='#008000', col=2)\n",
    "\n",
    "fig.add_trace(go.Scatter(x=x, y=h(x),  name='h(x)=sin(x)'), 2, 2)\n",
    "fig.add_trace(go.Scatter(x=x, y=k(x),  name='k(x)=cos(x)'), 2, 2)\n",
    "fig.add_trace(go.Scatter(x=x, y=m(x),  name='m(x)=tg(x)'), 1, 1)\n",
    "\n",
    "fig.add_trace(go.Scatter(x=x, y=f(x), mode='lines+markers',  name='f(x)=x<sup>2</sup>'), 2, 1)\n",
    "fig.add_trace(go.Scatter(x=x, y=x, mode='markers',name='g(x)=x',\n",
    "                         marker=dict(color='LightSkyBlue', size=20, line=dict(color='MediumPurple', width=3))), 2, 1)\n",
    "fig.update_layout(legend_orientation=\"h\",\n",
    "                  legend=dict(x=.5, xanchor=\"center\"),\n",
    "                  hovermode=\"x\",\n",
    "                  margin=dict(l=0, r=0, t=0, b=0))\n",
    "fig.update_traces(hoverinfo=\"all\", hovertemplate=\"Аргумент: %{x}<br>Функция: %{y}\")\n",
    "fig.show()"
   ]
  },
  {
   "cell_type": "markdown",
   "metadata": {},
   "source": [
    "Последний вариант получился слишком узким по вертикали.\n",
    "\n",
    "Высоту легко увеличить в помощью атрибута height у метода update_layout.\n",
    "\n",
    "Размеры фигуры регулируются 2 атрибутами:\n",
    "\n",
    "width — ширина (в пикселях)\n",
    "height — высота (в пикселях)\n",
    "\n",
    "Но следует помнить, если вы встраиваете фигуры plotly куда-то (а это логично, если вы делаете дашборд, например), то фигура занимает всё отведённое пространство по ширине, поэтому не изменять ширину в plotly будет не лучшей идеей. Лучше использовать стили в разметке."
   ]
  },
  {
   "cell_type": "code",
   "execution_count": null,
   "metadata": {},
   "outputs": [],
   "source": [
    "fig = make_subplots(rows=2, cols=2,\n",
    "                    specs=[[{\"colspan\": 2}, None], [{}, {}]])\n",
    "\n",
    "\n",
    "fig.update_yaxes(range=[-0.5, 1.5], zeroline=True, zerolinewidth=2, zerolinecolor='LightPink', col=2)\n",
    "fig.update_xaxes(range=[-0.5, 1.5], zeroline=True, zerolinewidth=2, zerolinecolor='#008000', col=2)\n",
    "\n",
    "fig.add_trace(go.Scatter(x=x, y=h(x),  name='h(x)=sin(x)'), 2, 2)\n",
    "fig.add_trace(go.Scatter(x=x, y=k(x),  name='k(x)=cos(x)'), 2, 2)\n",
    "fig.add_trace(go.Scatter(x=x, y=m(x),  name='m(x)=tg(x)'), 1, 1)\n",
    "\n",
    "fig.add_trace(go.Scatter(x=x, y=f(x), mode='lines+markers',  name='f(x)=x<sup>2</sup>'), 2, 1)\n",
    "fig.add_trace(go.Scatter(x=x, y=x, mode='markers',name='g(x)=x',\n",
    "                         marker=dict(color='LightSkyBlue', size=20, line=dict(color='MediumPurple', width=3))), 2, 1)\n",
    "fig.update_layout(legend_orientation=\"h\",\n",
    "                  legend=dict(x=.5, xanchor=\"center\"),\n",
    "                  hovermode=\"x\",\n",
    "                  margin=dict(l=0, r=0, t=0, b=0),\n",
    "                  height=1000,\n",
    "                  width=900)\n",
    "fig.update_traces(hoverinfo=\"all\", hovertemplate=\"Аргумент: %{x}<br>Функция: %{y}\")\n",
    "fig.show()"
   ]
  },
  {
   "cell_type": "markdown",
   "metadata": {},
   "source": [
    "## Увеличиваем плотность информации"
   ]
  },
  {
   "cell_type": "markdown",
   "metadata": {},
   "source": [
    "### Тепловая карта"
   ]
  },
  {
   "cell_type": "code",
   "execution_count": null,
   "metadata": {},
   "outputs": [],
   "source": [
    "fig = go.Figure()\n",
    "fig.add_trace(go.Scatter(x=x, y=f(x), mode='lines+markers',  name='f(x)=x<sup>2</sup>', \n",
    "                         marker=dict(color=h(x), colorbar=dict(title=\"h(x)=sin(x)\"))\n",
    "                        ))\n",
    "fig.add_trace(go.Scatter(visible='legendonly', x=x, y=h(x),  name='h(x)=sin(x)'))\n",
    "fig.add_trace(go.Scatter(visible='legendonly', x=x, y=k(x),  name='k(x)=cos(x)'))\n",
    "\n",
    "fig.update_layout(legend_orientation=\"h\",\n",
    "                  legend=dict(x=.5, xanchor=\"center\"),\n",
    "                  margin=dict(l=0, r=0, t=0, b=0))\n",
    "fig.update_traces(hoverinfo=\"all\", hovertemplate=\"Аргумент: %{x}<br>Функция: %{y}\")\n",
    "fig.show()"
   ]
  },
  {
   "cell_type": "markdown",
   "metadata": {},
   "source": [
    "В предыдущем примере цветовая шкала не очень похожа на тепловую карту.\n",
    "\n",
    "На самом деле цвета на шкале можно изменить, для этого служит атрибут colorscale, в который передаётся имя палитры."
   ]
  },
  {
   "cell_type": "code",
   "execution_count": null,
   "metadata": {
    "scrolled": false
   },
   "outputs": [],
   "source": [
    "fig = go.Figure()\n",
    "fig.add_trace(go.Scatter(x=x, y=f(x), mode='lines+markers',  name='f(x)=x<sup>2</sup>', \n",
    "                         marker=dict(color=h(x), colorbar=dict(title=\"h(x)=sin(x)\"), colorscale='Inferno')\n",
    "                        ))\n",
    "fig.add_trace(go.Scatter(visible='legendonly', x=x, y=h(x),  name='h(x)=sin(x)'))\n",
    "fig.add_trace(go.Scatter(visible='legendonly', x=x, y=k(x),  name='k(x)=cos(x)'))\n",
    "\n",
    "fig.update_layout(legend_orientation=\"h\",\n",
    "                  legend=dict(x=.5, xanchor=\"center\"),\n",
    "                  margin=dict(l=0, r=0, t=0, b=0))\n",
    "fig.update_traces(hoverinfo=\"all\", hovertemplate=\"Аргумент: %{x}<br>Функция: %{y}\")\n",
    "fig.show()"
   ]
  },
  {
   "cell_type": "markdown",
   "metadata": {},
   "source": [
    "Можно ли добавить больше информации? Конечно можно, но тут возникают хитрости.\n",
    "\n",
    "Для ещё одного измерения можно использовать размер маркеров.\n",
    "\n",
    "Важно. Размер — задаётся в пикселях, т.е. величина не отрицательная (в отличие от цвета), поэтому мы будем использовать модуль одной из функций.\n",
    "\n",
    "так же, величины меньше 2 пикселей обычно плохо видны на экране, поэтому для размера мы добавим множитель.\n",
    "\n",
    "Размеры задаётся атрибутом size того же словаря внутри marker. Этот атрибут принимает 1 значение (число), либо список (чисел)."
   ]
  },
  {
   "cell_type": "code",
   "execution_count": null,
   "metadata": {},
   "outputs": [],
   "source": [
    "fig = go.Figure()\n",
    "fig.add_trace(go.Scatter(x=x, y=f(x), mode='lines+markers',  name='f(x)=x<sup>2</sup>', \n",
    "                         marker=dict(color=h(x), colorbar=dict(title=\"h(x)=sin(x)\"), \n",
    "                                     colorscale='Inferno',\n",
    "                                     size=50*abs(h(x)))\n",
    "                        ))\n",
    "fig.add_trace(go.Scatter(visible='legendonly', x=x, y=h(x),  name='h(x)=sin(x)'))\n",
    "fig.add_trace(go.Scatter(visible='legendonly', x=x, y=abs(h(x)),  name='h_mod(x)=|sin(x)|'))\n",
    "fig.add_trace(go.Scatter(visible='legendonly', x=x, y=k(x),  name='k(x)=cos(x)'))\n",
    "\n",
    "fig.update_layout(legend_orientation=\"h\",\n",
    "                  legend=dict(x=.5, xanchor=\"center\"),\n",
    "                  margin=dict(l=0, r=0, t=0, b=0))\n",
    "fig.update_traces(hoverinfo=\"all\", hovertemplate=\"Аргумент: %{x}<br>Функция: %{y}\")\n",
    "fig.show()"
   ]
  },
  {
   "cell_type": "markdown",
   "metadata": {},
   "source": [
    "### Анимация"
   ]
  },
  {
   "cell_type": "markdown",
   "metadata": {},
   "source": [
    "Можно ли ещё уплотнить информацию на графике? Да, можно, если использовать «четвёртое измерение» — время. Это так же может быть полезно и само по себе для оживленя вашего графика.\n",
    "\n",
    "Вернёмся на пару шагов назад. Мы будем анимировать график построения параболы. Для этого нам понадобятся:\n",
    "\n",
    "Начальное состояние\n",
    "Кнопки (анимация не должна начинаться сама по себе, поэтому для начала мы создадим простую кнопку, её запускающую, а постепенно перейдём к временной шкале)\n",
    "Фреймы (или кадры) — промежуточные состояния"
   ]
  },
  {
   "cell_type": "code",
   "execution_count": null,
   "metadata": {},
   "outputs": [],
   "source": [
    "fig = go.Figure()\n",
    "# добавляем стартовую точку\n",
    "fig.add_trace(go.Scatter(x=[x[0]], y=[f(x)[0]], mode='lines+markers', name='f(x)=x<sup>2</sup>'))\n",
    "\n",
    "# добавим фреймы\n",
    "frames = []\n",
    "for i in range(1, len(x)):\n",
    "    frames.append(go.Frame(data=[go.Scatter(x=x[:i+1], y=f(x[:i+1]))]))\n",
    "fig.frames = frames\n",
    "\n",
    "\n",
    "# добавляем настройки слоя и кнопку\n",
    "fig.update_layout(legend_orientation='h',\n",
    "                  legend=dict(x=.5, xanchor='center'),\n",
    "                  margin=dict(l=0, r=0, t=0, b=0),\n",
    "                  updatemenus=[dict(type='buttons', buttons=[dict(label='Play', method='animate', args=[None])])])\n",
    "fig.update_traces(hoverinfo='all', hovertemplate='Аргумент: %{x}<br>Функция: %{y}')\n",
    "fig.show()"
   ]
  },
  {
   "cell_type": "markdown",
   "metadata": {},
   "source": [
    "Другой способ задать начальное состояние, слой (с кнопками) и фреймы — сразу передать всё в объект go.Figure:\n",
    "\n",
    "data — атрибут для графика с начальным состоянием\n",
    "\n",
    "layout — описание «декораций» включая кнопки\n",
    "\n",
    "frames — фреймы (кадры) анимации"
   ]
  },
  {
   "cell_type": "code",
   "execution_count": null,
   "metadata": {},
   "outputs": [],
   "source": [
    "frames=[]\n",
    "for i in range(1, len(x)):\n",
    "    frames.append(go.Frame(data=[go.Scatter(x=x[:i+1], y=f(x[:i+1]))]))\n",
    "    \n",
    "    \n",
    "fig = go.Figure(data=go.Scatter(x=[x[0]], y=[f(x[0])], mode='lines+markers',  name='f(x)=x<sup>2</sup>'),\n",
    "                frames=frames,\n",
    "                layout=dict(legend_orientation=\"h\",\n",
    "                            legend=dict(x=.5, xanchor=\"center\"),\n",
    "                            updatemenus=[dict(type=\"buttons\", buttons=[dict(label=\"Play\", method=\"animate\", args=[None])])],\n",
    "                            margin=dict(l=0, r=0, t=0, b=0)))\n",
    "\n",
    "fig.update_traces(hoverinfo=\"all\", hovertemplate=\"Аргумент: %{x}<br>Функция: %{y}\")\n",
    "fig.show()"
   ]
  },
  {
   "cell_type": "markdown",
   "metadata": {},
   "source": [
    "Естественно, если добавить на графики (как на начальный, так и те, что во фреймах) маркеры с указанием цвета, цветовой шкалы и размера, то анимация будет более сложного графика."
   ]
  },
  {
   "cell_type": "code",
   "execution_count": null,
   "metadata": {},
   "outputs": [],
   "source": [
    "fig = go.Figure()\n",
    "fig.add_trace(go.Scatter(x=[x[0]], y=[f(x)[0]], mode='lines+markers',  name='f(x)=x<sup>2</sup>',\n",
    "                         marker=dict(color=h(x[0]), colorbar=dict(title=\"h(x)=sin(x)\"), colorscale='Inferno', size=50*abs(h(x[0])))\n",
    "                        ))\n",
    "\n",
    "frames=[]\n",
    "for i in range(1, len(x)):\n",
    "    frames.append(go.Frame(data=[go.Scatter(x=x[:i+1], y=f(x[:i+1]), marker=dict(color=h(x[:i+1]), size=50*abs(h(x[:i+1]))))]))\n",
    "\n",
    "fig.frames = frames   \n",
    "\n",
    "fig.update_layout(legend_orientation=\"h\",\n",
    "                  legend=dict(x=.5, xanchor=\"center\"),\n",
    "                  updatemenus=[dict(type=\"buttons\", buttons=[dict(label=\"Play\", method=\"animate\", args=[None])])],\n",
    "                  margin=dict(l=0, r=0, t=0, b=0))\n",
    "fig.update_traces(hoverinfo=\"all\", hovertemplate=\"Аргумент: %{x}<br>Функция: %{y}\")\n",
    "fig.show()"
   ]
  },
  {
   "cell_type": "markdown",
   "metadata": {},
   "source": [
    "Если мы хотим добавить кнопку «пауза» (в отличие от стандартной паузы повторное нажатие не будет вызывать воспроизведение, для начала воспроизведения придётся нажат Play), код усложнится:"
   ]
  },
  {
   "cell_type": "code",
   "execution_count": null,
   "metadata": {},
   "outputs": [],
   "source": [
    "frames=[]\n",
    "for i in range(1, len(x)):\n",
    "    frames.append(go.Frame(data=[go.Scatter(x=x[:i+1], y=f(x[:i+1]))]))\n",
    "    \n",
    "    \n",
    "fig = go.Figure(data=go.Scatter(x=[x[0]], y=[f(x[0])], mode='lines+markers',  name='f(x)=x<sup>2</sup>'),\n",
    "                frames=frames,\n",
    "                layout=dict(legend_orientation=\"h\",\n",
    "                            legend=dict(x=.5, xanchor=\"center\"),\n",
    "                            updatemenus=[dict(type=\"buttons\", buttons=[dict(label=\"►\", \n",
    "                                                                            method=\"animate\", \n",
    "                                                                            args=[None, {\"fromcurrent\": True}]),\n",
    "                                         dict(label=\"❚❚\", method=\"animate\", args=[[None], \n",
    "                                                                                  {\"frame\": {\"duration\": 0, \"redraw\": False},\n",
    "                                                                                   \"mode\": \"immediate\",\n",
    "                                                                                   \"transition\": {\"duration\": 0}}])])],\n",
    "                            margin=dict(l=0, r=0, t=0, b=0)))\n",
    "\n",
    "fig.update_traces(hoverinfo=\"all\", hovertemplate=\"Аргумент: %{x}<br>Функция: %{y}\")\n",
    "fig.show()"
   ]
  },
  {
   "cell_type": "markdown",
   "metadata": {},
   "source": [
    "Иногда полезно перенести кнопки в другоме место. Рассмотрим некоторые из атрибутов, которые с этим помогут:\n",
    "\n",
    "direction — направление расположения кнопок (по умолчанию сверху-вниз, но если указать «left», то будет слева-направо)\n",
    "x, y — положение (в долях от фигуры)\n",
    "xanchor, yanchor — как выравнивать кнопки. У нас была раньше проблема с выравниванием легенд, тут та же история. Если хотим выровнять по центру, то x=0.5 и xanchor=«center» помогут."
   ]
  },
  {
   "cell_type": "code",
   "execution_count": null,
   "metadata": {},
   "outputs": [],
   "source": [
    "fig = go.Figure()\n",
    "fig.add_trace(go.Scatter(x=[x[0]], y=[f(x)[0]], mode='lines+markers',  name='f(x)=x<sup>2</sup>',\n",
    "                         marker=dict(color=h(x[0]), colorbar=dict(title=\"h(x)=sin(x)\"), colorscale='Inferno', size=50*abs(h(x[0])))\n",
    "                        ))\n",
    "\n",
    "frames=[]\n",
    "for i in range(1, len(x)):\n",
    "    frames.append(go.Frame(data=[go.Scatter(x=x[:i+1], y=f(x[:i+1]), marker=dict(color=h(x[:i+1]), size=50*abs(h(x[:i+1]))))]))\n",
    "\n",
    "fig.frames = frames   \n",
    "\n",
    "fig.update_layout(legend_orientation=\"h\",\n",
    "                  legend=dict(x=.5, xanchor=\"center\"),\n",
    "                  updatemenus=[dict(direction=\"left\", x=0.5, xanchor=\"center\", y=0,\n",
    "                                    type=\"buttons\", buttons=[dict(label=\"►\", method=\"animate\", args=[None, {\"fromcurrent\": True}]),\n",
    "                                                             dict(label=\"❚❚\", method=\"animate\", args=[[None], {\"frame\": {\"duration\": 0, \"redraw\": False},\n",
    "                                                                                                               \"mode\": \"immediate\",\n",
    "                                                                                                               \"transition\": {\"duration\": 0}}])])],\n",
    "                  margin=dict(l=0, r=0, t=0, b=0))\n",
    "fig.update_traces(hoverinfo=\"all\", hovertemplate=\"Аргумент: %{x}<br>Функция: %{y}\")\n",
    "fig.show()"
   ]
  },
  {
   "cell_type": "markdown",
   "metadata": {},
   "source": [
    "## Слайдер"
   ]
  },
  {
   "cell_type": "markdown",
   "metadata": {},
   "source": [
    "Слайдер по принципу работы похож на анимацию, но есть серьёзное отличие.\n",
    "\n",
    "Слайдер — это элемент навигации, полоска по которой скользит ползунок, который управляет состоянием графиков на фигуре.\n",
    "\n",
    "Т.е. если фреймы в анимации меняются один за другим, то в случае использования слайдера все графики одновременно есть. Но большая часть из них невидима. И при перемещении ползунка мы просто какие-то скрываем, а другие наоборот показываем (и перестраиваем оси, конечно)."
   ]
  },
  {
   "cell_type": "markdown",
   "metadata": {},
   "source": [
    "**1. Создаём список графиков. Важно, что один из графиков (например, 1й) должен быть видимым.**\n",
    "\n",
    "Для установления видимости/невидимости используется аргумент visible:\n",
    "\n",
    "Видимый график — go.Scatter(visible=True, x=[x[0]], y=[f(x)[0]], mode='lines+markers', name='f(x)=x2')\n",
    "\n",
    "Невидимый график — go.Scatter(visible=False, x=[x[0]], y=[f(x)[0]], mode='lines+markers', name='f(x)=x2')\n",
    "\n",
    "**Все графики рисуем на фигуре** — для этого удобно использовать аргумент data фигуры, чтобы передать их все списком:\n",
    "\n",
    "fig = go.Figure(data=trace_list)"
   ]
  },
  {
   "cell_type": "markdown",
   "metadata": {},
   "source": [
    "**2. Создаём список «шагов» слайдера.**\n",
    "\n",
    "Шаг имеет определённый синтаксис. По сути он описывает состояние (какие графики видимы, какие нет) и метод перехода к нему.\n",
    "\n",
    "Шаг должен описывать состояние **всех графиков**.\n",
    "\n",
    "Минимальный синтаксис 1 шага:\n",
    "\n",
    "dict(\n",
    "method = 'restyle',\n",
    "args = #СПИСОК СОСТОЯНИЙ ВСЕХ ГРАФИКОВ\n",
    ")\n",
    "\n",
    "Состояние видимости/невидимости задаётся парой 'visible' и списка логических значений (какие графики 'visible', а какие нет). Поэтому для КАЖДОГО шага мы создадим список False, а потом поменяем нужное значение на True, чтобы показать какой-то конкретный график.\n",
    "\n",
    "Шаги нужно собрать в список (т.е. это будет список словарей).\n",
    "\n",
    "Наконец все шаги надо добавить в фигуру:\n",
    "\n",
    "fig.layout.sliders = sliders\n",
    "\n",
    "Минимально рабочий код (внимательно изучите его, т.к. там есть несколько тонких моментов):\n"
   ]
  },
  {
   "cell_type": "code",
   "execution_count": null,
   "metadata": {},
   "outputs": [],
   "source": [
    "num_steps = len(x)\n",
    "trace_list = [go.Scatter(visible=True, x=[x[0]], y=[f(x)[0]], mode='lines+markers', name='f(x)=x<sup>2</sup>')]\n",
    "\n",
    "for i in range(1, len(x)):\n",
    "    trace_list.append(go.Scatter(visible=False, x=x[:i+1], y=f(x[:i+1]), mode='lines+markers', name='f(x)=x<sup>2</sup>'))\n",
    "\n",
    "fig = go.Figure(data=trace_list)\n",
    "\n",
    "steps = []\n",
    "for i in range(num_steps):\n",
    "    # Hide all traces\n",
    "    step = dict(\n",
    "        method = 'restyle',  \n",
    "        args = ['visible', [False] * len(fig.data)],\n",
    "    )\n",
    "    # Enable trace we want to see\n",
    "    step['args'][1][i] = True\n",
    "    \n",
    "    # Add step to step list\n",
    "    steps.append(step)\n",
    "\n",
    "sliders = [dict(\n",
    "    steps = steps,\n",
    ")]\n",
    "\n",
    "fig.layout.sliders = sliders\n",
    "\n",
    "fig.show()"
   ]
  },
  {
   "cell_type": "markdown",
   "metadata": {},
   "source": [
    "Если мы хотим добавить не 1 график, а 2, то добавить их придётся парой везде:\n",
    "\n",
    "- в первоначальное активное состояние\n",
    "- все неактивные (скрытые)\n",
    "- парами генерировать состояние шагов\n",
    "- парами активировать видимые на шаге графики\n",
    "\n",
    "Поменяем изучаемую фигуру на синус и косинус (чтобы следить за тем как они развиваются):"
   ]
  },
  {
   "cell_type": "code",
   "execution_count": null,
   "metadata": {},
   "outputs": [],
   "source": [
    "num_steps = len(x)\n",
    "trace_list = [go.Scatter(visible=True, x=[x[0]], y=[h(x)[0]], mode='lines+markers', name='h(x)=sin(x)'),\n",
    "              go.Scatter(visible=True, x=[x[0]], y=[k(x)[0]], mode='lines+markers', name='k(x)=cos(x)')]\n",
    "\n",
    "# Так выглядел процесс добавления этих функций раньше:\n",
    "#fig.add_trace(go.Scatter(x=x, y=h(x),  name='h(x)=sin(x)'), 1, 1)\n",
    "#fig.add_trace(go.Scatter(x=x, y=k(x),  name='k(x)=cos(x)'), 1, 1)\n",
    "\n",
    "for i in range(1, len(x)):\n",
    "    trace_list.append(go.Scatter(visible=False, x=x[:i+1], y=h(x[:i+1]), mode='lines+markers', name='h(x)=sin(x)'))\n",
    "    trace_list.append(go.Scatter(visible=False, x=x[:i+1], y=k(x[:i+1]), mode='lines+markers', name='k(x)=cos(x)'))\n",
    "\n",
    "fig = go.Figure(data=trace_list)\n",
    "\n",
    "steps = []\n",
    "for i in range(num_steps):\n",
    "    step = dict(\n",
    "        method = 'restyle',  \n",
    "        args = ['visible', [False] * len(fig.data)],\n",
    "    )\n",
    "    step['args'][1][2*i] = True\n",
    "    step['args'][1][2*i+1] = True\n",
    "    steps.append(step)\n",
    "\n",
    "sliders = [dict(\n",
    "    steps = steps,\n",
    ")]\n",
    "\n",
    "fig.layout.sliders = sliders\n",
    "\n",
    "fig.show()"
   ]
  },
  {
   "cell_type": "markdown",
   "metadata": {},
   "source": [
    "Ниже код нормально анимированного слайдера"
   ]
  },
  {
   "cell_type": "code",
   "execution_count": null,
   "metadata": {},
   "outputs": [],
   "source": [
    "num_steps = len(x)\n",
    "fig = go.Figure(data=[go.Scatter(x=[x[0]], y=[h(x)[0]], mode='lines+markers', name='h(x)=sin(x)'),\n",
    "                      go.Scatter(x=[x[0]], y=[k(x)[0]], mode='lines+markers', name='k(x)=cos(x)')])\n",
    "\n",
    "frames=[]\n",
    "for i in range(0, len(x)):\n",
    "    frames.append(go.Frame(name=str(i),\n",
    "                           data=[go.Scatter(x=x[:i+1], y=h(x[:i+1]), mode='lines+markers', name='h(x)=sin(x)'),\n",
    "                                 go.Scatter(x=x[:i+1], y=k(x[:i+1]), mode='lines+markers', name='k(x)=cos(x)')])) \n",
    "\n",
    "steps = []\n",
    "for i in range(num_steps):\n",
    "    step = dict(\n",
    "        label = str(i),\n",
    "        method = \"animate\",\n",
    "        args = [[str(i)]]\n",
    "    )\n",
    "    steps.append(step)\n",
    "\n",
    "sliders = [dict(\n",
    "    steps = steps,\n",
    ")]\n",
    "\n",
    "fig.update_layout(updatemenus=[dict(direction=\"left\",\n",
    "                                    x=0.5,\n",
    "                                    xanchor=\"center\",\n",
    "                                    y=0,\n",
    "                                    showactive=False,\n",
    "                                    type=\"buttons\", \n",
    "                                    buttons=[dict(label=\"►\", method=\"animate\", args=[None, {\"fromcurrent\": True}]),\n",
    "                                             dict(label=\"❚❚\", method=\"animate\", args=[[None], {\"frame\": {\"duration\": 0, \"redraw\": False},\n",
    "                                                                                               \"mode\": \"immediate\",\n",
    "                                                                                               \"transition\": {\"duration\": 0}}])])],\n",
    "                  )\n",
    "\n",
    "\n",
    "fig.layout.sliders = sliders\n",
    "fig.frames = frames  \n",
    "\n",
    "fig.show()"
   ]
  },
  {
   "cell_type": "markdown",
   "metadata": {},
   "source": [
    "Конечно добавим данные тепловой карты и размер маркера для увеличения плотности информации\n",
    "\n",
    "Заметьте, что colorbar мы добавили всего 1 раз, однако, в него пришлось внести некоторые правки — мы сдвинули его по вертикали слегка вниз, т.к. теперь в правой колонке у нас есть легенда."
   ]
  },
  {
   "cell_type": "code",
   "execution_count": null,
   "metadata": {
    "scrolled": true
   },
   "outputs": [],
   "source": [
    "num_steps = len(x)\n",
    "fig = go.Figure(data=[go.Scatter(x=[x[0]], y=[h(x)[0]], mode='lines+markers', name='h(x)=sin(x)',\n",
    "                                 marker=dict(color=[f(x[0])], colorbar=dict(yanchor='top', y=0.8, title=\"f(x)=x<sup>2</sup>\"), colorscale='Inferno', size=[50*abs(h(x[0]))])),\n",
    "                      go.Scatter(x=[x[0]], y=[k(x)[0]], mode='lines+markers', name='k(x)=cos(x)',\n",
    "                                 marker=dict(color=[f(x[0])], colorscale='Inferno', size=[50*abs(k(x[0]))]))])\n",
    "\n",
    "frames=[]\n",
    "for i in range(0, len(x)):\n",
    "    frames.append(go.Frame(name=str(i),\n",
    "                           data=[go.Scatter(x=x[:i+1], y=h(x[:i+1]), mode='lines+markers', name='h(x)=sin(x)',\n",
    "                                            marker=dict(color=f(x[:i+1]), colorscale='Inferno', size=50*abs(h(x[:i+1])))),\n",
    "                                 go.Scatter(x=x[:i+1], y=k(x[:i+1]), mode='lines+markers', name='k(x)=cos(x)',\n",
    "                                            marker=dict(color=f(x[:i+1]), colorscale='Inferno', size=50*abs(k(x[:i+1]))))])) \n",
    "\n",
    "steps = []\n",
    "for i in range(num_steps):\n",
    "    step = dict(\n",
    "        label = str(i),\n",
    "        method = \"animate\",\n",
    "        args = [[str(i)]]\n",
    "    )\n",
    "    steps.append(step)\n",
    "\n",
    "sliders = [dict(\n",
    "    steps = steps,\n",
    ")]\n",
    "\n",
    "fig.update_layout(updatemenus=[dict(direction=\"left\",\n",
    "                                    x=0.5,\n",
    "                                    xanchor=\"center\",\n",
    "                                    y=0,\n",
    "                                    showactive=False,\n",
    "                                    type=\"buttons\", \n",
    "                                    buttons=[dict(label=\"►\", method=\"animate\", args=[None, {\"fromcurrent\": True}]),\n",
    "                                             dict(label=\"❚❚\", method=\"animate\", args=[[None], {\"frame\": {\"duration\": 0, \"redraw\": False},\n",
    "                                                                                               \"mode\": \"immediate\",\n",
    "                                                                                               \"transition\": {\"duration\": 0}}])])],\n",
    "                  )\n",
    "\n",
    "\n",
    "fig.layout.sliders = sliders\n",
    "fig.frames = frames  \n",
    "\n",
    "fig.show()"
   ]
  },
  {
   "cell_type": "markdown",
   "metadata": {},
   "source": [
    "Осталось немного облагородить панель слайдера.\n",
    "\n",
    "Добавим подписи к графику и осям, увеличим и оформим подпись текущего значения слайдера (в других обстоятельствах он стал бы временной шкалой), сместим кнопки анимации влевой, а слайдер чуть сожмём, чтобы освободить им место.\n",
    "\n",
    "- Аргумент currentvalue — задаёт форматирование подписи к текущему шагу, включая префикс, положение на слайде, шрифт\n",
    "- Аргументы x, y, xanchor, yanchor, pad — задают положение и отступы для слайдера и их синтаксис аналогичен таковому у кнопок"
   ]
  },
  {
   "cell_type": "code",
   "execution_count": 56,
   "metadata": {},
   "outputs": [
    {
     "data": {
      "application/vnd.plotly.v1+json": {
       "config": {
        "plotlyServerURL": "https://plot.ly"
       },
       "data": [
        {
         "marker": {
          "color": [
           0
          ],
          "colorbar": {
           "title": {
            "text": "f(x)=x<sup>2</sup>"
           },
           "y": 0.8,
           "yanchor": "top"
          },
          "colorscale": [
           [
            0,
            "#000004"
           ],
           [
            0.1111111111111111,
            "#1b0c41"
           ],
           [
            0.2222222222222222,
            "#4a0c6b"
           ],
           [
            0.3333333333333333,
            "#781c6d"
           ],
           [
            0.4444444444444444,
            "#a52c60"
           ],
           [
            0.5555555555555556,
            "#cf4446"
           ],
           [
            0.6666666666666666,
            "#ed6925"
           ],
           [
            0.7777777777777778,
            "#fb9b06"
           ],
           [
            0.8888888888888888,
            "#f7d13d"
           ],
           [
            1,
            "#fcffa4"
           ]
          ],
          "size": [
           0
          ]
         },
         "mode": "lines+markers",
         "name": "h(x)=sin(x)",
         "type": "scatter",
         "x": [
          0
         ],
         "y": [
          0
         ]
        },
        {
         "marker": {
          "color": [
           0
          ],
          "colorscale": [
           [
            0,
            "#000004"
           ],
           [
            0.1111111111111111,
            "#1b0c41"
           ],
           [
            0.2222222222222222,
            "#4a0c6b"
           ],
           [
            0.3333333333333333,
            "#781c6d"
           ],
           [
            0.4444444444444444,
            "#a52c60"
           ],
           [
            0.5555555555555556,
            "#cf4446"
           ],
           [
            0.6666666666666666,
            "#ed6925"
           ],
           [
            0.7777777777777778,
            "#fb9b06"
           ],
           [
            0.8888888888888888,
            "#f7d13d"
           ],
           [
            1,
            "#fcffa4"
           ]
          ],
          "size": [
           50
          ]
         },
         "mode": "lines+markers",
         "name": "k(x)=cos(x)",
         "type": "scatter",
         "x": [
          0
         ],
         "y": [
          1
         ]
        }
       ],
       "frames": [
        {
         "data": [
          {
           "marker": {
            "color": [
             0
            ],
            "colorscale": [
             [
              0,
              "#000004"
             ],
             [
              0.1111111111111111,
              "#1b0c41"
             ],
             [
              0.2222222222222222,
              "#4a0c6b"
             ],
             [
              0.3333333333333333,
              "#781c6d"
             ],
             [
              0.4444444444444444,
              "#a52c60"
             ],
             [
              0.5555555555555556,
              "#cf4446"
             ],
             [
              0.6666666666666666,
              "#ed6925"
             ],
             [
              0.7777777777777778,
              "#fb9b06"
             ],
             [
              0.8888888888888888,
              "#f7d13d"
             ],
             [
              1,
              "#fcffa4"
             ]
            ],
            "size": [
             0
            ]
           },
           "mode": "lines+markers",
           "name": "h(x)=sin(x)",
           "type": "scatter",
           "x": [
            0
           ],
           "y": [
            0
           ]
          },
          {
           "marker": {
            "color": [
             0
            ],
            "colorscale": [
             [
              0,
              "#000004"
             ],
             [
              0.1111111111111111,
              "#1b0c41"
             ],
             [
              0.2222222222222222,
              "#4a0c6b"
             ],
             [
              0.3333333333333333,
              "#781c6d"
             ],
             [
              0.4444444444444444,
              "#a52c60"
             ],
             [
              0.5555555555555556,
              "#cf4446"
             ],
             [
              0.6666666666666666,
              "#ed6925"
             ],
             [
              0.7777777777777778,
              "#fb9b06"
             ],
             [
              0.8888888888888888,
              "#f7d13d"
             ],
             [
              1,
              "#fcffa4"
             ]
            ],
            "size": [
             50
            ]
           },
           "mode": "lines+markers",
           "name": "k(x)=cos(x)",
           "type": "scatter",
           "x": [
            0
           ],
           "y": [
            1
           ]
          }
         ],
         "name": "0"
        },
        {
         "data": [
          {
           "marker": {
            "color": [
             0,
             0.010000000000000002
            ],
            "colorscale": [
             [
              0,
              "#000004"
             ],
             [
              0.1111111111111111,
              "#1b0c41"
             ],
             [
              0.2222222222222222,
              "#4a0c6b"
             ],
             [
              0.3333333333333333,
              "#781c6d"
             ],
             [
              0.4444444444444444,
              "#a52c60"
             ],
             [
              0.5555555555555556,
              "#cf4446"
             ],
             [
              0.6666666666666666,
              "#ed6925"
             ],
             [
              0.7777777777777778,
              "#fb9b06"
             ],
             [
              0.8888888888888888,
              "#f7d13d"
             ],
             [
              1,
              "#fcffa4"
             ]
            ],
            "size": [
             0,
             4.991670832341407
            ]
           },
           "mode": "lines+markers",
           "name": "h(x)=sin(x)",
           "type": "scatter",
           "x": [
            0,
            0.1
           ],
           "y": [
            0,
            0.09983341664682815
           ]
          },
          {
           "marker": {
            "color": [
             0,
             0.010000000000000002
            ],
            "colorscale": [
             [
              0,
              "#000004"
             ],
             [
              0.1111111111111111,
              "#1b0c41"
             ],
             [
              0.2222222222222222,
              "#4a0c6b"
             ],
             [
              0.3333333333333333,
              "#781c6d"
             ],
             [
              0.4444444444444444,
              "#a52c60"
             ],
             [
              0.5555555555555556,
              "#cf4446"
             ],
             [
              0.6666666666666666,
              "#ed6925"
             ],
             [
              0.7777777777777778,
              "#fb9b06"
             ],
             [
              0.8888888888888888,
              "#f7d13d"
             ],
             [
              1,
              "#fcffa4"
             ]
            ],
            "size": [
             50,
             49.75020826390129
            ]
           },
           "mode": "lines+markers",
           "name": "k(x)=cos(x)",
           "type": "scatter",
           "x": [
            0,
            0.1
           ],
           "y": [
            1,
            0.9950041652780258
           ]
          }
         ],
         "name": "1"
        },
        {
         "data": [
          {
           "marker": {
            "color": [
             0,
             0.010000000000000002,
             0.04000000000000001
            ],
            "colorscale": [
             [
              0,
              "#000004"
             ],
             [
              0.1111111111111111,
              "#1b0c41"
             ],
             [
              0.2222222222222222,
              "#4a0c6b"
             ],
             [
              0.3333333333333333,
              "#781c6d"
             ],
             [
              0.4444444444444444,
              "#a52c60"
             ],
             [
              0.5555555555555556,
              "#cf4446"
             ],
             [
              0.6666666666666666,
              "#ed6925"
             ],
             [
              0.7777777777777778,
              "#fb9b06"
             ],
             [
              0.8888888888888888,
              "#f7d13d"
             ],
             [
              1,
              "#fcffa4"
             ]
            ],
            "size": [
             0,
             4.991670832341407,
             9.933466539753061
            ]
           },
           "mode": "lines+markers",
           "name": "h(x)=sin(x)",
           "type": "scatter",
           "x": [
            0,
            0.1,
            0.2
           ],
           "y": [
            0,
            0.09983341664682815,
            0.19866933079506122
           ]
          },
          {
           "marker": {
            "color": [
             0,
             0.010000000000000002,
             0.04000000000000001
            ],
            "colorscale": [
             [
              0,
              "#000004"
             ],
             [
              0.1111111111111111,
              "#1b0c41"
             ],
             [
              0.2222222222222222,
              "#4a0c6b"
             ],
             [
              0.3333333333333333,
              "#781c6d"
             ],
             [
              0.4444444444444444,
              "#a52c60"
             ],
             [
              0.5555555555555556,
              "#cf4446"
             ],
             [
              0.6666666666666666,
              "#ed6925"
             ],
             [
              0.7777777777777778,
              "#fb9b06"
             ],
             [
              0.8888888888888888,
              "#f7d13d"
             ],
             [
              1,
              "#fcffa4"
             ]
            ],
            "size": [
             50,
             49.75020826390129,
             49.00332889206208
            ]
           },
           "mode": "lines+markers",
           "name": "k(x)=cos(x)",
           "type": "scatter",
           "x": [
            0,
            0.1,
            0.2
           ],
           "y": [
            1,
            0.9950041652780258,
            0.9800665778412416
           ]
          }
         ],
         "name": "2"
        },
        {
         "data": [
          {
           "marker": {
            "color": [
             0,
             0.010000000000000002,
             0.04000000000000001,
             0.09000000000000002
            ],
            "colorscale": [
             [
              0,
              "#000004"
             ],
             [
              0.1111111111111111,
              "#1b0c41"
             ],
             [
              0.2222222222222222,
              "#4a0c6b"
             ],
             [
              0.3333333333333333,
              "#781c6d"
             ],
             [
              0.4444444444444444,
              "#a52c60"
             ],
             [
              0.5555555555555556,
              "#cf4446"
             ],
             [
              0.6666666666666666,
              "#ed6925"
             ],
             [
              0.7777777777777778,
              "#fb9b06"
             ],
             [
              0.8888888888888888,
              "#f7d13d"
             ],
             [
              1,
              "#fcffa4"
             ]
            ],
            "size": [
             0,
             4.991670832341407,
             9.933466539753061,
             14.77601033306698
            ]
           },
           "mode": "lines+markers",
           "name": "h(x)=sin(x)",
           "type": "scatter",
           "x": [
            0,
            0.1,
            0.2,
            0.30000000000000004
           ],
           "y": [
            0,
            0.09983341664682815,
            0.19866933079506122,
            0.2955202066613396
           ]
          },
          {
           "marker": {
            "color": [
             0,
             0.010000000000000002,
             0.04000000000000001,
             0.09000000000000002
            ],
            "colorscale": [
             [
              0,
              "#000004"
             ],
             [
              0.1111111111111111,
              "#1b0c41"
             ],
             [
              0.2222222222222222,
              "#4a0c6b"
             ],
             [
              0.3333333333333333,
              "#781c6d"
             ],
             [
              0.4444444444444444,
              "#a52c60"
             ],
             [
              0.5555555555555556,
              "#cf4446"
             ],
             [
              0.6666666666666666,
              "#ed6925"
             ],
             [
              0.7777777777777778,
              "#fb9b06"
             ],
             [
              0.8888888888888888,
              "#f7d13d"
             ],
             [
              1,
              "#fcffa4"
             ]
            ],
            "size": [
             50,
             49.75020826390129,
             49.00332889206208,
             47.7668244562803
            ]
           },
           "mode": "lines+markers",
           "name": "k(x)=cos(x)",
           "type": "scatter",
           "x": [
            0,
            0.1,
            0.2,
            0.30000000000000004
           ],
           "y": [
            1,
            0.9950041652780258,
            0.9800665778412416,
            0.955336489125606
           ]
          }
         ],
         "name": "3"
        },
        {
         "data": [
          {
           "marker": {
            "color": [
             0,
             0.010000000000000002,
             0.04000000000000001,
             0.09000000000000002,
             0.16000000000000003
            ],
            "colorscale": [
             [
              0,
              "#000004"
             ],
             [
              0.1111111111111111,
              "#1b0c41"
             ],
             [
              0.2222222222222222,
              "#4a0c6b"
             ],
             [
              0.3333333333333333,
              "#781c6d"
             ],
             [
              0.4444444444444444,
              "#a52c60"
             ],
             [
              0.5555555555555556,
              "#cf4446"
             ],
             [
              0.6666666666666666,
              "#ed6925"
             ],
             [
              0.7777777777777778,
              "#fb9b06"
             ],
             [
              0.8888888888888888,
              "#f7d13d"
             ],
             [
              1,
              "#fcffa4"
             ]
            ],
            "size": [
             0,
             4.991670832341407,
             9.933466539753061,
             14.77601033306698,
             19.470917115432528
            ]
           },
           "mode": "lines+markers",
           "name": "h(x)=sin(x)",
           "type": "scatter",
           "x": [
            0,
            0.1,
            0.2,
            0.30000000000000004,
            0.4
           ],
           "y": [
            0,
            0.09983341664682815,
            0.19866933079506122,
            0.2955202066613396,
            0.3894183423086505
           ]
          },
          {
           "marker": {
            "color": [
             0,
             0.010000000000000002,
             0.04000000000000001,
             0.09000000000000002,
             0.16000000000000003
            ],
            "colorscale": [
             [
              0,
              "#000004"
             ],
             [
              0.1111111111111111,
              "#1b0c41"
             ],
             [
              0.2222222222222222,
              "#4a0c6b"
             ],
             [
              0.3333333333333333,
              "#781c6d"
             ],
             [
              0.4444444444444444,
              "#a52c60"
             ],
             [
              0.5555555555555556,
              "#cf4446"
             ],
             [
              0.6666666666666666,
              "#ed6925"
             ],
             [
              0.7777777777777778,
              "#fb9b06"
             ],
             [
              0.8888888888888888,
              "#f7d13d"
             ],
             [
              1,
              "#fcffa4"
             ]
            ],
            "size": [
             50,
             49.75020826390129,
             49.00332889206208,
             47.7668244562803,
             46.05304970014426
            ]
           },
           "mode": "lines+markers",
           "name": "k(x)=cos(x)",
           "type": "scatter",
           "x": [
            0,
            0.1,
            0.2,
            0.30000000000000004,
            0.4
           ],
           "y": [
            1,
            0.9950041652780258,
            0.9800665778412416,
            0.955336489125606,
            0.9210609940028851
           ]
          }
         ],
         "name": "4"
        },
        {
         "data": [
          {
           "marker": {
            "color": [
             0,
             0.010000000000000002,
             0.04000000000000001,
             0.09000000000000002,
             0.16000000000000003,
             0.25
            ],
            "colorscale": [
             [
              0,
              "#000004"
             ],
             [
              0.1111111111111111,
              "#1b0c41"
             ],
             [
              0.2222222222222222,
              "#4a0c6b"
             ],
             [
              0.3333333333333333,
              "#781c6d"
             ],
             [
              0.4444444444444444,
              "#a52c60"
             ],
             [
              0.5555555555555556,
              "#cf4446"
             ],
             [
              0.6666666666666666,
              "#ed6925"
             ],
             [
              0.7777777777777778,
              "#fb9b06"
             ],
             [
              0.8888888888888888,
              "#f7d13d"
             ],
             [
              1,
              "#fcffa4"
             ]
            ],
            "size": [
             0,
             4.991670832341407,
             9.933466539753061,
             14.77601033306698,
             19.470917115432528,
             23.971276930210152
            ]
           },
           "mode": "lines+markers",
           "name": "h(x)=sin(x)",
           "type": "scatter",
           "x": [
            0,
            0.1,
            0.2,
            0.30000000000000004,
            0.4,
            0.5
           ],
           "y": [
            0,
            0.09983341664682815,
            0.19866933079506122,
            0.2955202066613396,
            0.3894183423086505,
            0.479425538604203
           ]
          },
          {
           "marker": {
            "color": [
             0,
             0.010000000000000002,
             0.04000000000000001,
             0.09000000000000002,
             0.16000000000000003,
             0.25
            ],
            "colorscale": [
             [
              0,
              "#000004"
             ],
             [
              0.1111111111111111,
              "#1b0c41"
             ],
             [
              0.2222222222222222,
              "#4a0c6b"
             ],
             [
              0.3333333333333333,
              "#781c6d"
             ],
             [
              0.4444444444444444,
              "#a52c60"
             ],
             [
              0.5555555555555556,
              "#cf4446"
             ],
             [
              0.6666666666666666,
              "#ed6925"
             ],
             [
              0.7777777777777778,
              "#fb9b06"
             ],
             [
              0.8888888888888888,
              "#f7d13d"
             ],
             [
              1,
              "#fcffa4"
             ]
            ],
            "size": [
             50,
             49.75020826390129,
             49.00332889206208,
             47.7668244562803,
             46.05304970014426,
             43.879128094518634
            ]
           },
           "mode": "lines+markers",
           "name": "k(x)=cos(x)",
           "type": "scatter",
           "x": [
            0,
            0.1,
            0.2,
            0.30000000000000004,
            0.4,
            0.5
           ],
           "y": [
            1,
            0.9950041652780258,
            0.9800665778412416,
            0.955336489125606,
            0.9210609940028851,
            0.8775825618903728
           ]
          }
         ],
         "name": "5"
        },
        {
         "data": [
          {
           "marker": {
            "color": [
             0,
             0.010000000000000002,
             0.04000000000000001,
             0.09000000000000002,
             0.16000000000000003,
             0.25,
             0.3600000000000001
            ],
            "colorscale": [
             [
              0,
              "#000004"
             ],
             [
              0.1111111111111111,
              "#1b0c41"
             ],
             [
              0.2222222222222222,
              "#4a0c6b"
             ],
             [
              0.3333333333333333,
              "#781c6d"
             ],
             [
              0.4444444444444444,
              "#a52c60"
             ],
             [
              0.5555555555555556,
              "#cf4446"
             ],
             [
              0.6666666666666666,
              "#ed6925"
             ],
             [
              0.7777777777777778,
              "#fb9b06"
             ],
             [
              0.8888888888888888,
              "#f7d13d"
             ],
             [
              1,
              "#fcffa4"
             ]
            ],
            "size": [
             0,
             4.991670832341407,
             9.933466539753061,
             14.77601033306698,
             19.470917115432528,
             23.971276930210152,
             28.232123669751775
            ]
           },
           "mode": "lines+markers",
           "name": "h(x)=sin(x)",
           "type": "scatter",
           "x": [
            0,
            0.1,
            0.2,
            0.30000000000000004,
            0.4,
            0.5,
            0.6000000000000001
           ],
           "y": [
            0,
            0.09983341664682815,
            0.19866933079506122,
            0.2955202066613396,
            0.3894183423086505,
            0.479425538604203,
            0.5646424733950355
           ]
          },
          {
           "marker": {
            "color": [
             0,
             0.010000000000000002,
             0.04000000000000001,
             0.09000000000000002,
             0.16000000000000003,
             0.25,
             0.3600000000000001
            ],
            "colorscale": [
             [
              0,
              "#000004"
             ],
             [
              0.1111111111111111,
              "#1b0c41"
             ],
             [
              0.2222222222222222,
              "#4a0c6b"
             ],
             [
              0.3333333333333333,
              "#781c6d"
             ],
             [
              0.4444444444444444,
              "#a52c60"
             ],
             [
              0.5555555555555556,
              "#cf4446"
             ],
             [
              0.6666666666666666,
              "#ed6925"
             ],
             [
              0.7777777777777778,
              "#fb9b06"
             ],
             [
              0.8888888888888888,
              "#f7d13d"
             ],
             [
              1,
              "#fcffa4"
             ]
            ],
            "size": [
             50,
             49.75020826390129,
             49.00332889206208,
             47.7668244562803,
             46.05304970014426,
             43.879128094518634,
             41.26678074548391
            ]
           },
           "mode": "lines+markers",
           "name": "k(x)=cos(x)",
           "type": "scatter",
           "x": [
            0,
            0.1,
            0.2,
            0.30000000000000004,
            0.4,
            0.5,
            0.6000000000000001
           ],
           "y": [
            1,
            0.9950041652780258,
            0.9800665778412416,
            0.955336489125606,
            0.9210609940028851,
            0.8775825618903728,
            0.8253356149096782
           ]
          }
         ],
         "name": "6"
        },
        {
         "data": [
          {
           "marker": {
            "color": [
             0,
             0.010000000000000002,
             0.04000000000000001,
             0.09000000000000002,
             0.16000000000000003,
             0.25,
             0.3600000000000001,
             0.4900000000000001
            ],
            "colorscale": [
             [
              0,
              "#000004"
             ],
             [
              0.1111111111111111,
              "#1b0c41"
             ],
             [
              0.2222222222222222,
              "#4a0c6b"
             ],
             [
              0.3333333333333333,
              "#781c6d"
             ],
             [
              0.4444444444444444,
              "#a52c60"
             ],
             [
              0.5555555555555556,
              "#cf4446"
             ],
             [
              0.6666666666666666,
              "#ed6925"
             ],
             [
              0.7777777777777778,
              "#fb9b06"
             ],
             [
              0.8888888888888888,
              "#f7d13d"
             ],
             [
              1,
              "#fcffa4"
             ]
            ],
            "size": [
             0,
             4.991670832341407,
             9.933466539753061,
             14.77601033306698,
             19.470917115432528,
             23.971276930210152,
             28.232123669751775,
             32.21088436188456
            ]
           },
           "mode": "lines+markers",
           "name": "h(x)=sin(x)",
           "type": "scatter",
           "x": [
            0,
            0.1,
            0.2,
            0.30000000000000004,
            0.4,
            0.5,
            0.6000000000000001,
            0.7000000000000001
           ],
           "y": [
            0,
            0.09983341664682815,
            0.19866933079506122,
            0.2955202066613396,
            0.3894183423086505,
            0.479425538604203,
            0.5646424733950355,
            0.6442176872376911
           ]
          },
          {
           "marker": {
            "color": [
             0,
             0.010000000000000002,
             0.04000000000000001,
             0.09000000000000002,
             0.16000000000000003,
             0.25,
             0.3600000000000001,
             0.4900000000000001
            ],
            "colorscale": [
             [
              0,
              "#000004"
             ],
             [
              0.1111111111111111,
              "#1b0c41"
             ],
             [
              0.2222222222222222,
              "#4a0c6b"
             ],
             [
              0.3333333333333333,
              "#781c6d"
             ],
             [
              0.4444444444444444,
              "#a52c60"
             ],
             [
              0.5555555555555556,
              "#cf4446"
             ],
             [
              0.6666666666666666,
              "#ed6925"
             ],
             [
              0.7777777777777778,
              "#fb9b06"
             ],
             [
              0.8888888888888888,
              "#f7d13d"
             ],
             [
              1,
              "#fcffa4"
             ]
            ],
            "size": [
             50,
             49.75020826390129,
             49.00332889206208,
             47.7668244562803,
             46.05304970014426,
             43.879128094518634,
             41.26678074548391,
             38.24210936422442
            ]
           },
           "mode": "lines+markers",
           "name": "k(x)=cos(x)",
           "type": "scatter",
           "x": [
            0,
            0.1,
            0.2,
            0.30000000000000004,
            0.4,
            0.5,
            0.6000000000000001,
            0.7000000000000001
           ],
           "y": [
            1,
            0.9950041652780258,
            0.9800665778412416,
            0.955336489125606,
            0.9210609940028851,
            0.8775825618903728,
            0.8253356149096782,
            0.7648421872844884
           ]
          }
         ],
         "name": "7"
        },
        {
         "data": [
          {
           "marker": {
            "color": [
             0,
             0.010000000000000002,
             0.04000000000000001,
             0.09000000000000002,
             0.16000000000000003,
             0.25,
             0.3600000000000001,
             0.4900000000000001,
             0.6400000000000001
            ],
            "colorscale": [
             [
              0,
              "#000004"
             ],
             [
              0.1111111111111111,
              "#1b0c41"
             ],
             [
              0.2222222222222222,
              "#4a0c6b"
             ],
             [
              0.3333333333333333,
              "#781c6d"
             ],
             [
              0.4444444444444444,
              "#a52c60"
             ],
             [
              0.5555555555555556,
              "#cf4446"
             ],
             [
              0.6666666666666666,
              "#ed6925"
             ],
             [
              0.7777777777777778,
              "#fb9b06"
             ],
             [
              0.8888888888888888,
              "#f7d13d"
             ],
             [
              1,
              "#fcffa4"
             ]
            ],
            "size": [
             0,
             4.991670832341407,
             9.933466539753061,
             14.77601033306698,
             19.470917115432528,
             23.971276930210152,
             28.232123669751775,
             32.21088436188456,
             35.86780454497614
            ]
           },
           "mode": "lines+markers",
           "name": "h(x)=sin(x)",
           "type": "scatter",
           "x": [
            0,
            0.1,
            0.2,
            0.30000000000000004,
            0.4,
            0.5,
            0.6000000000000001,
            0.7000000000000001,
            0.8
           ],
           "y": [
            0,
            0.09983341664682815,
            0.19866933079506122,
            0.2955202066613396,
            0.3894183423086505,
            0.479425538604203,
            0.5646424733950355,
            0.6442176872376911,
            0.7173560908995228
           ]
          },
          {
           "marker": {
            "color": [
             0,
             0.010000000000000002,
             0.04000000000000001,
             0.09000000000000002,
             0.16000000000000003,
             0.25,
             0.3600000000000001,
             0.4900000000000001,
             0.6400000000000001
            ],
            "colorscale": [
             [
              0,
              "#000004"
             ],
             [
              0.1111111111111111,
              "#1b0c41"
             ],
             [
              0.2222222222222222,
              "#4a0c6b"
             ],
             [
              0.3333333333333333,
              "#781c6d"
             ],
             [
              0.4444444444444444,
              "#a52c60"
             ],
             [
              0.5555555555555556,
              "#cf4446"
             ],
             [
              0.6666666666666666,
              "#ed6925"
             ],
             [
              0.7777777777777778,
              "#fb9b06"
             ],
             [
              0.8888888888888888,
              "#f7d13d"
             ],
             [
              1,
              "#fcffa4"
             ]
            ],
            "size": [
             50,
             49.75020826390129,
             49.00332889206208,
             47.7668244562803,
             46.05304970014426,
             43.879128094518634,
             41.26678074548391,
             38.24210936422442,
             34.83533546735827
            ]
           },
           "mode": "lines+markers",
           "name": "k(x)=cos(x)",
           "type": "scatter",
           "x": [
            0,
            0.1,
            0.2,
            0.30000000000000004,
            0.4,
            0.5,
            0.6000000000000001,
            0.7000000000000001,
            0.8
           ],
           "y": [
            1,
            0.9950041652780258,
            0.9800665778412416,
            0.955336489125606,
            0.9210609940028851,
            0.8775825618903728,
            0.8253356149096782,
            0.7648421872844884,
            0.6967067093471654
           ]
          }
         ],
         "name": "8"
        },
        {
         "data": [
          {
           "marker": {
            "color": [
             0,
             0.010000000000000002,
             0.04000000000000001,
             0.09000000000000002,
             0.16000000000000003,
             0.25,
             0.3600000000000001,
             0.4900000000000001,
             0.6400000000000001,
             0.81
            ],
            "colorscale": [
             [
              0,
              "#000004"
             ],
             [
              0.1111111111111111,
              "#1b0c41"
             ],
             [
              0.2222222222222222,
              "#4a0c6b"
             ],
             [
              0.3333333333333333,
              "#781c6d"
             ],
             [
              0.4444444444444444,
              "#a52c60"
             ],
             [
              0.5555555555555556,
              "#cf4446"
             ],
             [
              0.6666666666666666,
              "#ed6925"
             ],
             [
              0.7777777777777778,
              "#fb9b06"
             ],
             [
              0.8888888888888888,
              "#f7d13d"
             ],
             [
              1,
              "#fcffa4"
             ]
            ],
            "size": [
             0,
             4.991670832341407,
             9.933466539753061,
             14.77601033306698,
             19.470917115432528,
             23.971276930210152,
             28.232123669751775,
             32.21088436188456,
             35.86780454497614,
             39.16634548137417
            ]
           },
           "mode": "lines+markers",
           "name": "h(x)=sin(x)",
           "type": "scatter",
           "x": [
            0,
            0.1,
            0.2,
            0.30000000000000004,
            0.4,
            0.5,
            0.6000000000000001,
            0.7000000000000001,
            0.8,
            0.9
           ],
           "y": [
            0,
            0.09983341664682815,
            0.19866933079506122,
            0.2955202066613396,
            0.3894183423086505,
            0.479425538604203,
            0.5646424733950355,
            0.6442176872376911,
            0.7173560908995228,
            0.7833269096274834
           ]
          },
          {
           "marker": {
            "color": [
             0,
             0.010000000000000002,
             0.04000000000000001,
             0.09000000000000002,
             0.16000000000000003,
             0.25,
             0.3600000000000001,
             0.4900000000000001,
             0.6400000000000001,
             0.81
            ],
            "colorscale": [
             [
              0,
              "#000004"
             ],
             [
              0.1111111111111111,
              "#1b0c41"
             ],
             [
              0.2222222222222222,
              "#4a0c6b"
             ],
             [
              0.3333333333333333,
              "#781c6d"
             ],
             [
              0.4444444444444444,
              "#a52c60"
             ],
             [
              0.5555555555555556,
              "#cf4446"
             ],
             [
              0.6666666666666666,
              "#ed6925"
             ],
             [
              0.7777777777777778,
              "#fb9b06"
             ],
             [
              0.8888888888888888,
              "#f7d13d"
             ],
             [
              1,
              "#fcffa4"
             ]
            ],
            "size": [
             50,
             49.75020826390129,
             49.00332889206208,
             47.7668244562803,
             46.05304970014426,
             43.879128094518634,
             41.26678074548391,
             38.24210936422442,
             34.83533546735827,
             31.08049841353322
            ]
           },
           "mode": "lines+markers",
           "name": "k(x)=cos(x)",
           "type": "scatter",
           "x": [
            0,
            0.1,
            0.2,
            0.30000000000000004,
            0.4,
            0.5,
            0.6000000000000001,
            0.7000000000000001,
            0.8,
            0.9
           ],
           "y": [
            1,
            0.9950041652780258,
            0.9800665778412416,
            0.955336489125606,
            0.9210609940028851,
            0.8775825618903728,
            0.8253356149096782,
            0.7648421872844884,
            0.6967067093471654,
            0.6216099682706644
           ]
          }
         ],
         "name": "9"
        },
        {
         "data": [
          {
           "marker": {
            "color": [
             0,
             0.010000000000000002,
             0.04000000000000001,
             0.09000000000000002,
             0.16000000000000003,
             0.25,
             0.3600000000000001,
             0.4900000000000001,
             0.6400000000000001,
             0.81,
             1
            ],
            "colorscale": [
             [
              0,
              "#000004"
             ],
             [
              0.1111111111111111,
              "#1b0c41"
             ],
             [
              0.2222222222222222,
              "#4a0c6b"
             ],
             [
              0.3333333333333333,
              "#781c6d"
             ],
             [
              0.4444444444444444,
              "#a52c60"
             ],
             [
              0.5555555555555556,
              "#cf4446"
             ],
             [
              0.6666666666666666,
              "#ed6925"
             ],
             [
              0.7777777777777778,
              "#fb9b06"
             ],
             [
              0.8888888888888888,
              "#f7d13d"
             ],
             [
              1,
              "#fcffa4"
             ]
            ],
            "size": [
             0,
             4.991670832341407,
             9.933466539753061,
             14.77601033306698,
             19.470917115432528,
             23.971276930210152,
             28.232123669751775,
             32.21088436188456,
             35.86780454497614,
             39.16634548137417,
             42.073549240394826
            ]
           },
           "mode": "lines+markers",
           "name": "h(x)=sin(x)",
           "type": "scatter",
           "x": [
            0,
            0.1,
            0.2,
            0.30000000000000004,
            0.4,
            0.5,
            0.6000000000000001,
            0.7000000000000001,
            0.8,
            0.9,
            1
           ],
           "y": [
            0,
            0.09983341664682815,
            0.19866933079506122,
            0.2955202066613396,
            0.3894183423086505,
            0.479425538604203,
            0.5646424733950355,
            0.6442176872376911,
            0.7173560908995228,
            0.7833269096274834,
            0.8414709848078965
           ]
          },
          {
           "marker": {
            "color": [
             0,
             0.010000000000000002,
             0.04000000000000001,
             0.09000000000000002,
             0.16000000000000003,
             0.25,
             0.3600000000000001,
             0.4900000000000001,
             0.6400000000000001,
             0.81,
             1
            ],
            "colorscale": [
             [
              0,
              "#000004"
             ],
             [
              0.1111111111111111,
              "#1b0c41"
             ],
             [
              0.2222222222222222,
              "#4a0c6b"
             ],
             [
              0.3333333333333333,
              "#781c6d"
             ],
             [
              0.4444444444444444,
              "#a52c60"
             ],
             [
              0.5555555555555556,
              "#cf4446"
             ],
             [
              0.6666666666666666,
              "#ed6925"
             ],
             [
              0.7777777777777778,
              "#fb9b06"
             ],
             [
              0.8888888888888888,
              "#f7d13d"
             ],
             [
              1,
              "#fcffa4"
             ]
            ],
            "size": [
             50,
             49.75020826390129,
             49.00332889206208,
             47.7668244562803,
             46.05304970014426,
             43.879128094518634,
             41.26678074548391,
             38.24210936422442,
             34.83533546735827,
             31.08049841353322,
             27.01511529340699
            ]
           },
           "mode": "lines+markers",
           "name": "k(x)=cos(x)",
           "type": "scatter",
           "x": [
            0,
            0.1,
            0.2,
            0.30000000000000004,
            0.4,
            0.5,
            0.6000000000000001,
            0.7000000000000001,
            0.8,
            0.9,
            1
           ],
           "y": [
            1,
            0.9950041652780258,
            0.9800665778412416,
            0.955336489125606,
            0.9210609940028851,
            0.8775825618903728,
            0.8253356149096782,
            0.7648421872844884,
            0.6967067093471654,
            0.6216099682706644,
            0.5403023058681398
           ]
          }
         ],
         "name": "10"
        },
        {
         "data": [
          {
           "marker": {
            "color": [
             0,
             0.010000000000000002,
             0.04000000000000001,
             0.09000000000000002,
             0.16000000000000003,
             0.25,
             0.3600000000000001,
             0.4900000000000001,
             0.6400000000000001,
             0.81,
             1,
             1.2100000000000002
            ],
            "colorscale": [
             [
              0,
              "#000004"
             ],
             [
              0.1111111111111111,
              "#1b0c41"
             ],
             [
              0.2222222222222222,
              "#4a0c6b"
             ],
             [
              0.3333333333333333,
              "#781c6d"
             ],
             [
              0.4444444444444444,
              "#a52c60"
             ],
             [
              0.5555555555555556,
              "#cf4446"
             ],
             [
              0.6666666666666666,
              "#ed6925"
             ],
             [
              0.7777777777777778,
              "#fb9b06"
             ],
             [
              0.8888888888888888,
              "#f7d13d"
             ],
             [
              1,
              "#fcffa4"
             ]
            ],
            "size": [
             0,
             4.991670832341407,
             9.933466539753061,
             14.77601033306698,
             19.470917115432528,
             23.971276930210152,
             28.232123669751775,
             32.21088436188456,
             35.86780454497614,
             39.16634548137417,
             42.073549240394826,
             44.56036800307177
            ]
           },
           "mode": "lines+markers",
           "name": "h(x)=sin(x)",
           "type": "scatter",
           "x": [
            0,
            0.1,
            0.2,
            0.30000000000000004,
            0.4,
            0.5,
            0.6000000000000001,
            0.7000000000000001,
            0.8,
            0.9,
            1,
            1.1
           ],
           "y": [
            0,
            0.09983341664682815,
            0.19866933079506122,
            0.2955202066613396,
            0.3894183423086505,
            0.479425538604203,
            0.5646424733950355,
            0.6442176872376911,
            0.7173560908995228,
            0.7833269096274834,
            0.8414709848078965,
            0.8912073600614354
           ]
          },
          {
           "marker": {
            "color": [
             0,
             0.010000000000000002,
             0.04000000000000001,
             0.09000000000000002,
             0.16000000000000003,
             0.25,
             0.3600000000000001,
             0.4900000000000001,
             0.6400000000000001,
             0.81,
             1,
             1.2100000000000002
            ],
            "colorscale": [
             [
              0,
              "#000004"
             ],
             [
              0.1111111111111111,
              "#1b0c41"
             ],
             [
              0.2222222222222222,
              "#4a0c6b"
             ],
             [
              0.3333333333333333,
              "#781c6d"
             ],
             [
              0.4444444444444444,
              "#a52c60"
             ],
             [
              0.5555555555555556,
              "#cf4446"
             ],
             [
              0.6666666666666666,
              "#ed6925"
             ],
             [
              0.7777777777777778,
              "#fb9b06"
             ],
             [
              0.8888888888888888,
              "#f7d13d"
             ],
             [
              1,
              "#fcffa4"
             ]
            ],
            "size": [
             50,
             49.75020826390129,
             49.00332889206208,
             47.7668244562803,
             46.05304970014426,
             43.879128094518634,
             41.26678074548391,
             38.24210936422442,
             34.83533546735827,
             31.08049841353322,
             27.01511529340699,
             22.679806071278865
            ]
           },
           "mode": "lines+markers",
           "name": "k(x)=cos(x)",
           "type": "scatter",
           "x": [
            0,
            0.1,
            0.2,
            0.30000000000000004,
            0.4,
            0.5,
            0.6000000000000001,
            0.7000000000000001,
            0.8,
            0.9,
            1,
            1.1
           ],
           "y": [
            1,
            0.9950041652780258,
            0.9800665778412416,
            0.955336489125606,
            0.9210609940028851,
            0.8775825618903728,
            0.8253356149096782,
            0.7648421872844884,
            0.6967067093471654,
            0.6216099682706644,
            0.5403023058681398,
            0.4535961214255773
           ]
          }
         ],
         "name": "11"
        },
        {
         "data": [
          {
           "marker": {
            "color": [
             0,
             0.010000000000000002,
             0.04000000000000001,
             0.09000000000000002,
             0.16000000000000003,
             0.25,
             0.3600000000000001,
             0.4900000000000001,
             0.6400000000000001,
             0.81,
             1,
             1.2100000000000002,
             1.4400000000000004
            ],
            "colorscale": [
             [
              0,
              "#000004"
             ],
             [
              0.1111111111111111,
              "#1b0c41"
             ],
             [
              0.2222222222222222,
              "#4a0c6b"
             ],
             [
              0.3333333333333333,
              "#781c6d"
             ],
             [
              0.4444444444444444,
              "#a52c60"
             ],
             [
              0.5555555555555556,
              "#cf4446"
             ],
             [
              0.6666666666666666,
              "#ed6925"
             ],
             [
              0.7777777777777778,
              "#fb9b06"
             ],
             [
              0.8888888888888888,
              "#f7d13d"
             ],
             [
              1,
              "#fcffa4"
             ]
            ],
            "size": [
             0,
             4.991670832341407,
             9.933466539753061,
             14.77601033306698,
             19.470917115432528,
             23.971276930210152,
             28.232123669751775,
             32.21088436188456,
             35.86780454497614,
             39.16634548137417,
             42.073549240394826,
             44.56036800307177,
             46.60195429836132
            ]
           },
           "mode": "lines+markers",
           "name": "h(x)=sin(x)",
           "type": "scatter",
           "x": [
            0,
            0.1,
            0.2,
            0.30000000000000004,
            0.4,
            0.5,
            0.6000000000000001,
            0.7000000000000001,
            0.8,
            0.9,
            1,
            1.1,
            1.2000000000000002
           ],
           "y": [
            0,
            0.09983341664682815,
            0.19866933079506122,
            0.2955202066613396,
            0.3894183423086505,
            0.479425538604203,
            0.5646424733950355,
            0.6442176872376911,
            0.7173560908995228,
            0.7833269096274834,
            0.8414709848078965,
            0.8912073600614354,
            0.9320390859672264
           ]
          },
          {
           "marker": {
            "color": [
             0,
             0.010000000000000002,
             0.04000000000000001,
             0.09000000000000002,
             0.16000000000000003,
             0.25,
             0.3600000000000001,
             0.4900000000000001,
             0.6400000000000001,
             0.81,
             1,
             1.2100000000000002,
             1.4400000000000004
            ],
            "colorscale": [
             [
              0,
              "#000004"
             ],
             [
              0.1111111111111111,
              "#1b0c41"
             ],
             [
              0.2222222222222222,
              "#4a0c6b"
             ],
             [
              0.3333333333333333,
              "#781c6d"
             ],
             [
              0.4444444444444444,
              "#a52c60"
             ],
             [
              0.5555555555555556,
              "#cf4446"
             ],
             [
              0.6666666666666666,
              "#ed6925"
             ],
             [
              0.7777777777777778,
              "#fb9b06"
             ],
             [
              0.8888888888888888,
              "#f7d13d"
             ],
             [
              1,
              "#fcffa4"
             ]
            ],
            "size": [
             50,
             49.75020826390129,
             49.00332889206208,
             47.7668244562803,
             46.05304970014426,
             43.879128094518634,
             41.26678074548391,
             38.24210936422442,
             34.83533546735827,
             31.08049841353322,
             27.01511529340699,
             22.679806071278865,
             18.117887723833668
            ]
           },
           "mode": "lines+markers",
           "name": "k(x)=cos(x)",
           "type": "scatter",
           "x": [
            0,
            0.1,
            0.2,
            0.30000000000000004,
            0.4,
            0.5,
            0.6000000000000001,
            0.7000000000000001,
            0.8,
            0.9,
            1,
            1.1,
            1.2000000000000002
           ],
           "y": [
            1,
            0.9950041652780258,
            0.9800665778412416,
            0.955336489125606,
            0.9210609940028851,
            0.8775825618903728,
            0.8253356149096782,
            0.7648421872844884,
            0.6967067093471654,
            0.6216099682706644,
            0.5403023058681398,
            0.4535961214255773,
            0.3623577544766734
           ]
          }
         ],
         "name": "12"
        },
        {
         "data": [
          {
           "marker": {
            "color": [
             0,
             0.010000000000000002,
             0.04000000000000001,
             0.09000000000000002,
             0.16000000000000003,
             0.25,
             0.3600000000000001,
             0.4900000000000001,
             0.6400000000000001,
             0.81,
             1,
             1.2100000000000002,
             1.4400000000000004,
             1.6900000000000002
            ],
            "colorscale": [
             [
              0,
              "#000004"
             ],
             [
              0.1111111111111111,
              "#1b0c41"
             ],
             [
              0.2222222222222222,
              "#4a0c6b"
             ],
             [
              0.3333333333333333,
              "#781c6d"
             ],
             [
              0.4444444444444444,
              "#a52c60"
             ],
             [
              0.5555555555555556,
              "#cf4446"
             ],
             [
              0.6666666666666666,
              "#ed6925"
             ],
             [
              0.7777777777777778,
              "#fb9b06"
             ],
             [
              0.8888888888888888,
              "#f7d13d"
             ],
             [
              1,
              "#fcffa4"
             ]
            ],
            "size": [
             0,
             4.991670832341407,
             9.933466539753061,
             14.77601033306698,
             19.470917115432528,
             23.971276930210152,
             28.232123669751775,
             32.21088436188456,
             35.86780454497614,
             39.16634548137417,
             42.073549240394826,
             44.56036800307177,
             46.60195429836132,
             48.17790927085965
            ]
           },
           "mode": "lines+markers",
           "name": "h(x)=sin(x)",
           "type": "scatter",
           "x": [
            0,
            0.1,
            0.2,
            0.30000000000000004,
            0.4,
            0.5,
            0.6000000000000001,
            0.7000000000000001,
            0.8,
            0.9,
            1,
            1.1,
            1.2000000000000002,
            1.3
           ],
           "y": [
            0,
            0.09983341664682815,
            0.19866933079506122,
            0.2955202066613396,
            0.3894183423086505,
            0.479425538604203,
            0.5646424733950355,
            0.6442176872376911,
            0.7173560908995228,
            0.7833269096274834,
            0.8414709848078965,
            0.8912073600614354,
            0.9320390859672264,
            0.963558185417193
           ]
          },
          {
           "marker": {
            "color": [
             0,
             0.010000000000000002,
             0.04000000000000001,
             0.09000000000000002,
             0.16000000000000003,
             0.25,
             0.3600000000000001,
             0.4900000000000001,
             0.6400000000000001,
             0.81,
             1,
             1.2100000000000002,
             1.4400000000000004,
             1.6900000000000002
            ],
            "colorscale": [
             [
              0,
              "#000004"
             ],
             [
              0.1111111111111111,
              "#1b0c41"
             ],
             [
              0.2222222222222222,
              "#4a0c6b"
             ],
             [
              0.3333333333333333,
              "#781c6d"
             ],
             [
              0.4444444444444444,
              "#a52c60"
             ],
             [
              0.5555555555555556,
              "#cf4446"
             ],
             [
              0.6666666666666666,
              "#ed6925"
             ],
             [
              0.7777777777777778,
              "#fb9b06"
             ],
             [
              0.8888888888888888,
              "#f7d13d"
             ],
             [
              1,
              "#fcffa4"
             ]
            ],
            "size": [
             50,
             49.75020826390129,
             49.00332889206208,
             47.7668244562803,
             46.05304970014426,
             43.879128094518634,
             41.26678074548391,
             38.24210936422442,
             34.83533546735827,
             31.08049841353322,
             27.01511529340699,
             22.679806071278865,
             18.117887723833668,
             13.374941431229367
            ]
           },
           "mode": "lines+markers",
           "name": "k(x)=cos(x)",
           "type": "scatter",
           "x": [
            0,
            0.1,
            0.2,
            0.30000000000000004,
            0.4,
            0.5,
            0.6000000000000001,
            0.7000000000000001,
            0.8,
            0.9,
            1,
            1.1,
            1.2000000000000002,
            1.3
           ],
           "y": [
            1,
            0.9950041652780258,
            0.9800665778412416,
            0.955336489125606,
            0.9210609940028851,
            0.8775825618903728,
            0.8253356149096782,
            0.7648421872844884,
            0.6967067093471654,
            0.6216099682706644,
            0.5403023058681398,
            0.4535961214255773,
            0.3623577544766734,
            0.26749882862458735
           ]
          }
         ],
         "name": "13"
        },
        {
         "data": [
          {
           "marker": {
            "color": [
             0,
             0.010000000000000002,
             0.04000000000000001,
             0.09000000000000002,
             0.16000000000000003,
             0.25,
             0.3600000000000001,
             0.4900000000000001,
             0.6400000000000001,
             0.81,
             1,
             1.2100000000000002,
             1.4400000000000004,
             1.6900000000000002,
             1.9600000000000004
            ],
            "colorscale": [
             [
              0,
              "#000004"
             ],
             [
              0.1111111111111111,
              "#1b0c41"
             ],
             [
              0.2222222222222222,
              "#4a0c6b"
             ],
             [
              0.3333333333333333,
              "#781c6d"
             ],
             [
              0.4444444444444444,
              "#a52c60"
             ],
             [
              0.5555555555555556,
              "#cf4446"
             ],
             [
              0.6666666666666666,
              "#ed6925"
             ],
             [
              0.7777777777777778,
              "#fb9b06"
             ],
             [
              0.8888888888888888,
              "#f7d13d"
             ],
             [
              1,
              "#fcffa4"
             ]
            ],
            "size": [
             0,
             4.991670832341407,
             9.933466539753061,
             14.77601033306698,
             19.470917115432528,
             23.971276930210152,
             28.232123669751775,
             32.21088436188456,
             35.86780454497614,
             39.16634548137417,
             42.073549240394826,
             44.56036800307177,
             46.60195429836132,
             48.17790927085965,
             49.27248649942301
            ]
           },
           "mode": "lines+markers",
           "name": "h(x)=sin(x)",
           "type": "scatter",
           "x": [
            0,
            0.1,
            0.2,
            0.30000000000000004,
            0.4,
            0.5,
            0.6000000000000001,
            0.7000000000000001,
            0.8,
            0.9,
            1,
            1.1,
            1.2000000000000002,
            1.3,
            1.4000000000000001
           ],
           "y": [
            0,
            0.09983341664682815,
            0.19866933079506122,
            0.2955202066613396,
            0.3894183423086505,
            0.479425538604203,
            0.5646424733950355,
            0.6442176872376911,
            0.7173560908995228,
            0.7833269096274834,
            0.8414709848078965,
            0.8912073600614354,
            0.9320390859672264,
            0.963558185417193,
            0.9854497299884603
           ]
          },
          {
           "marker": {
            "color": [
             0,
             0.010000000000000002,
             0.04000000000000001,
             0.09000000000000002,
             0.16000000000000003,
             0.25,
             0.3600000000000001,
             0.4900000000000001,
             0.6400000000000001,
             0.81,
             1,
             1.2100000000000002,
             1.4400000000000004,
             1.6900000000000002,
             1.9600000000000004
            ],
            "colorscale": [
             [
              0,
              "#000004"
             ],
             [
              0.1111111111111111,
              "#1b0c41"
             ],
             [
              0.2222222222222222,
              "#4a0c6b"
             ],
             [
              0.3333333333333333,
              "#781c6d"
             ],
             [
              0.4444444444444444,
              "#a52c60"
             ],
             [
              0.5555555555555556,
              "#cf4446"
             ],
             [
              0.6666666666666666,
              "#ed6925"
             ],
             [
              0.7777777777777778,
              "#fb9b06"
             ],
             [
              0.8888888888888888,
              "#f7d13d"
             ],
             [
              1,
              "#fcffa4"
             ]
            ],
            "size": [
             50,
             49.75020826390129,
             49.00332889206208,
             47.7668244562803,
             46.05304970014426,
             43.879128094518634,
             41.26678074548391,
             38.24210936422442,
             34.83533546735827,
             31.08049841353322,
             27.01511529340699,
             22.679806071278865,
             18.117887723833668,
             13.374941431229367,
             8.49835714501204
            ]
           },
           "mode": "lines+markers",
           "name": "k(x)=cos(x)",
           "type": "scatter",
           "x": [
            0,
            0.1,
            0.2,
            0.30000000000000004,
            0.4,
            0.5,
            0.6000000000000001,
            0.7000000000000001,
            0.8,
            0.9,
            1,
            1.1,
            1.2000000000000002,
            1.3,
            1.4000000000000001
           ],
           "y": [
            1,
            0.9950041652780258,
            0.9800665778412416,
            0.955336489125606,
            0.9210609940028851,
            0.8775825618903728,
            0.8253356149096782,
            0.7648421872844884,
            0.6967067093471654,
            0.6216099682706644,
            0.5403023058681398,
            0.4535961214255773,
            0.3623577544766734,
            0.26749882862458735,
            0.16996714290024081
           ]
          }
         ],
         "name": "14"
        },
        {
         "data": [
          {
           "marker": {
            "color": [
             0,
             0.010000000000000002,
             0.04000000000000001,
             0.09000000000000002,
             0.16000000000000003,
             0.25,
             0.3600000000000001,
             0.4900000000000001,
             0.6400000000000001,
             0.81,
             1,
             1.2100000000000002,
             1.4400000000000004,
             1.6900000000000002,
             1.9600000000000004,
             2.25
            ],
            "colorscale": [
             [
              0,
              "#000004"
             ],
             [
              0.1111111111111111,
              "#1b0c41"
             ],
             [
              0.2222222222222222,
              "#4a0c6b"
             ],
             [
              0.3333333333333333,
              "#781c6d"
             ],
             [
              0.4444444444444444,
              "#a52c60"
             ],
             [
              0.5555555555555556,
              "#cf4446"
             ],
             [
              0.6666666666666666,
              "#ed6925"
             ],
             [
              0.7777777777777778,
              "#fb9b06"
             ],
             [
              0.8888888888888888,
              "#f7d13d"
             ],
             [
              1,
              "#fcffa4"
             ]
            ],
            "size": [
             0,
             4.991670832341407,
             9.933466539753061,
             14.77601033306698,
             19.470917115432528,
             23.971276930210152,
             28.232123669751775,
             32.21088436188456,
             35.86780454497614,
             39.16634548137417,
             42.073549240394826,
             44.56036800307177,
             46.60195429836132,
             48.17790927085965,
             49.27248649942301,
             49.874749330202725
            ]
           },
           "mode": "lines+markers",
           "name": "h(x)=sin(x)",
           "type": "scatter",
           "x": [
            0,
            0.1,
            0.2,
            0.30000000000000004,
            0.4,
            0.5,
            0.6000000000000001,
            0.7000000000000001,
            0.8,
            0.9,
            1,
            1.1,
            1.2000000000000002,
            1.3,
            1.4000000000000001,
            1.5
           ],
           "y": [
            0,
            0.09983341664682815,
            0.19866933079506122,
            0.2955202066613396,
            0.3894183423086505,
            0.479425538604203,
            0.5646424733950355,
            0.6442176872376911,
            0.7173560908995228,
            0.7833269096274834,
            0.8414709848078965,
            0.8912073600614354,
            0.9320390859672264,
            0.963558185417193,
            0.9854497299884603,
            0.9974949866040544
           ]
          },
          {
           "marker": {
            "color": [
             0,
             0.010000000000000002,
             0.04000000000000001,
             0.09000000000000002,
             0.16000000000000003,
             0.25,
             0.3600000000000001,
             0.4900000000000001,
             0.6400000000000001,
             0.81,
             1,
             1.2100000000000002,
             1.4400000000000004,
             1.6900000000000002,
             1.9600000000000004,
             2.25
            ],
            "colorscale": [
             [
              0,
              "#000004"
             ],
             [
              0.1111111111111111,
              "#1b0c41"
             ],
             [
              0.2222222222222222,
              "#4a0c6b"
             ],
             [
              0.3333333333333333,
              "#781c6d"
             ],
             [
              0.4444444444444444,
              "#a52c60"
             ],
             [
              0.5555555555555556,
              "#cf4446"
             ],
             [
              0.6666666666666666,
              "#ed6925"
             ],
             [
              0.7777777777777778,
              "#fb9b06"
             ],
             [
              0.8888888888888888,
              "#f7d13d"
             ],
             [
              1,
              "#fcffa4"
             ]
            ],
            "size": [
             50,
             49.75020826390129,
             49.00332889206208,
             47.7668244562803,
             46.05304970014426,
             43.879128094518634,
             41.26678074548391,
             38.24210936422442,
             34.83533546735827,
             31.08049841353322,
             27.01511529340699,
             22.679806071278865,
             18.117887723833668,
             13.374941431229367,
             8.49835714501204,
             3.5368600833851453
            ]
           },
           "mode": "lines+markers",
           "name": "k(x)=cos(x)",
           "type": "scatter",
           "x": [
            0,
            0.1,
            0.2,
            0.30000000000000004,
            0.4,
            0.5,
            0.6000000000000001,
            0.7000000000000001,
            0.8,
            0.9,
            1,
            1.1,
            1.2000000000000002,
            1.3,
            1.4000000000000001,
            1.5
           ],
           "y": [
            1,
            0.9950041652780258,
            0.9800665778412416,
            0.955336489125606,
            0.9210609940028851,
            0.8775825618903728,
            0.8253356149096782,
            0.7648421872844884,
            0.6967067093471654,
            0.6216099682706644,
            0.5403023058681398,
            0.4535961214255773,
            0.3623577544766734,
            0.26749882862458735,
            0.16996714290024081,
            0.0707372016677029
           ]
          }
         ],
         "name": "15"
        },
        {
         "data": [
          {
           "marker": {
            "color": [
             0,
             0.010000000000000002,
             0.04000000000000001,
             0.09000000000000002,
             0.16000000000000003,
             0.25,
             0.3600000000000001,
             0.4900000000000001,
             0.6400000000000001,
             0.81,
             1,
             1.2100000000000002,
             1.4400000000000004,
             1.6900000000000002,
             1.9600000000000004,
             2.25,
             2.5600000000000005
            ],
            "colorscale": [
             [
              0,
              "#000004"
             ],
             [
              0.1111111111111111,
              "#1b0c41"
             ],
             [
              0.2222222222222222,
              "#4a0c6b"
             ],
             [
              0.3333333333333333,
              "#781c6d"
             ],
             [
              0.4444444444444444,
              "#a52c60"
             ],
             [
              0.5555555555555556,
              "#cf4446"
             ],
             [
              0.6666666666666666,
              "#ed6925"
             ],
             [
              0.7777777777777778,
              "#fb9b06"
             ],
             [
              0.8888888888888888,
              "#f7d13d"
             ],
             [
              1,
              "#fcffa4"
             ]
            ],
            "size": [
             0,
             4.991670832341407,
             9.933466539753061,
             14.77601033306698,
             19.470917115432528,
             23.971276930210152,
             28.232123669751775,
             32.21088436188456,
             35.86780454497614,
             39.16634548137417,
             42.073549240394826,
             44.56036800307177,
             46.60195429836132,
             48.17790927085965,
             49.27248649942301,
             49.874749330202725,
             49.978680152075256
            ]
           },
           "mode": "lines+markers",
           "name": "h(x)=sin(x)",
           "type": "scatter",
           "x": [
            0,
            0.1,
            0.2,
            0.30000000000000004,
            0.4,
            0.5,
            0.6000000000000001,
            0.7000000000000001,
            0.8,
            0.9,
            1,
            1.1,
            1.2000000000000002,
            1.3,
            1.4000000000000001,
            1.5,
            1.6
           ],
           "y": [
            0,
            0.09983341664682815,
            0.19866933079506122,
            0.2955202066613396,
            0.3894183423086505,
            0.479425538604203,
            0.5646424733950355,
            0.6442176872376911,
            0.7173560908995228,
            0.7833269096274834,
            0.8414709848078965,
            0.8912073600614354,
            0.9320390859672264,
            0.963558185417193,
            0.9854497299884603,
            0.9974949866040544,
            0.9995736030415051
           ]
          },
          {
           "marker": {
            "color": [
             0,
             0.010000000000000002,
             0.04000000000000001,
             0.09000000000000002,
             0.16000000000000003,
             0.25,
             0.3600000000000001,
             0.4900000000000001,
             0.6400000000000001,
             0.81,
             1,
             1.2100000000000002,
             1.4400000000000004,
             1.6900000000000002,
             1.9600000000000004,
             2.25,
             2.5600000000000005
            ],
            "colorscale": [
             [
              0,
              "#000004"
             ],
             [
              0.1111111111111111,
              "#1b0c41"
             ],
             [
              0.2222222222222222,
              "#4a0c6b"
             ],
             [
              0.3333333333333333,
              "#781c6d"
             ],
             [
              0.4444444444444444,
              "#a52c60"
             ],
             [
              0.5555555555555556,
              "#cf4446"
             ],
             [
              0.6666666666666666,
              "#ed6925"
             ],
             [
              0.7777777777777778,
              "#fb9b06"
             ],
             [
              0.8888888888888888,
              "#f7d13d"
             ],
             [
              1,
              "#fcffa4"
             ]
            ],
            "size": [
             50,
             49.75020826390129,
             49.00332889206208,
             47.7668244562803,
             46.05304970014426,
             43.879128094518634,
             41.26678074548391,
             38.24210936422442,
             34.83533546735827,
             31.08049841353322,
             27.01511529340699,
             22.679806071278865,
             18.117887723833668,
             13.374941431229367,
             8.49835714501204,
             3.5368600833851453,
             1.4599761150644408
            ]
           },
           "mode": "lines+markers",
           "name": "k(x)=cos(x)",
           "type": "scatter",
           "x": [
            0,
            0.1,
            0.2,
            0.30000000000000004,
            0.4,
            0.5,
            0.6000000000000001,
            0.7000000000000001,
            0.8,
            0.9,
            1,
            1.1,
            1.2000000000000002,
            1.3,
            1.4000000000000001,
            1.5,
            1.6
           ],
           "y": [
            1,
            0.9950041652780258,
            0.9800665778412416,
            0.955336489125606,
            0.9210609940028851,
            0.8775825618903728,
            0.8253356149096782,
            0.7648421872844884,
            0.6967067093471654,
            0.6216099682706644,
            0.5403023058681398,
            0.4535961214255773,
            0.3623577544766734,
            0.26749882862458735,
            0.16996714290024081,
            0.0707372016677029,
            -0.029199522301288815
           ]
          }
         ],
         "name": "16"
        },
        {
         "data": [
          {
           "marker": {
            "color": [
             0,
             0.010000000000000002,
             0.04000000000000001,
             0.09000000000000002,
             0.16000000000000003,
             0.25,
             0.3600000000000001,
             0.4900000000000001,
             0.6400000000000001,
             0.81,
             1,
             1.2100000000000002,
             1.4400000000000004,
             1.6900000000000002,
             1.9600000000000004,
             2.25,
             2.5600000000000005,
             2.8900000000000006
            ],
            "colorscale": [
             [
              0,
              "#000004"
             ],
             [
              0.1111111111111111,
              "#1b0c41"
             ],
             [
              0.2222222222222222,
              "#4a0c6b"
             ],
             [
              0.3333333333333333,
              "#781c6d"
             ],
             [
              0.4444444444444444,
              "#a52c60"
             ],
             [
              0.5555555555555556,
              "#cf4446"
             ],
             [
              0.6666666666666666,
              "#ed6925"
             ],
             [
              0.7777777777777778,
              "#fb9b06"
             ],
             [
              0.8888888888888888,
              "#f7d13d"
             ],
             [
              1,
              "#fcffa4"
             ]
            ],
            "size": [
             0,
             4.991670832341407,
             9.933466539753061,
             14.77601033306698,
             19.470917115432528,
             23.971276930210152,
             28.232123669751775,
             32.21088436188456,
             35.86780454497614,
             39.16634548137417,
             42.073549240394826,
             44.56036800307177,
             46.60195429836132,
             48.17790927085965,
             49.27248649942301,
             49.874749330202725,
             49.978680152075256,
             49.58324052262343
            ]
           },
           "mode": "lines+markers",
           "name": "h(x)=sin(x)",
           "type": "scatter",
           "x": [
            0,
            0.1,
            0.2,
            0.30000000000000004,
            0.4,
            0.5,
            0.6000000000000001,
            0.7000000000000001,
            0.8,
            0.9,
            1,
            1.1,
            1.2000000000000002,
            1.3,
            1.4000000000000001,
            1.5,
            1.6,
            1.7000000000000002
           ],
           "y": [
            0,
            0.09983341664682815,
            0.19866933079506122,
            0.2955202066613396,
            0.3894183423086505,
            0.479425538604203,
            0.5646424733950355,
            0.6442176872376911,
            0.7173560908995228,
            0.7833269096274834,
            0.8414709848078965,
            0.8912073600614354,
            0.9320390859672264,
            0.963558185417193,
            0.9854497299884603,
            0.9974949866040544,
            0.9995736030415051,
            0.9916648104524686
           ]
          },
          {
           "marker": {
            "color": [
             0,
             0.010000000000000002,
             0.04000000000000001,
             0.09000000000000002,
             0.16000000000000003,
             0.25,
             0.3600000000000001,
             0.4900000000000001,
             0.6400000000000001,
             0.81,
             1,
             1.2100000000000002,
             1.4400000000000004,
             1.6900000000000002,
             1.9600000000000004,
             2.25,
             2.5600000000000005,
             2.8900000000000006
            ],
            "colorscale": [
             [
              0,
              "#000004"
             ],
             [
              0.1111111111111111,
              "#1b0c41"
             ],
             [
              0.2222222222222222,
              "#4a0c6b"
             ],
             [
              0.3333333333333333,
              "#781c6d"
             ],
             [
              0.4444444444444444,
              "#a52c60"
             ],
             [
              0.5555555555555556,
              "#cf4446"
             ],
             [
              0.6666666666666666,
              "#ed6925"
             ],
             [
              0.7777777777777778,
              "#fb9b06"
             ],
             [
              0.8888888888888888,
              "#f7d13d"
             ],
             [
              1,
              "#fcffa4"
             ]
            ],
            "size": [
             50,
             49.75020826390129,
             49.00332889206208,
             47.7668244562803,
             46.05304970014426,
             43.879128094518634,
             41.26678074548391,
             38.24210936422442,
             34.83533546735827,
             31.08049841353322,
             27.01511529340699,
             22.679806071278865,
             18.117887723833668,
             13.374941431229367,
             8.49835714501204,
             3.5368600833851453,
             1.4599761150644408,
             6.442224714776243
            ]
           },
           "mode": "lines+markers",
           "name": "k(x)=cos(x)",
           "type": "scatter",
           "x": [
            0,
            0.1,
            0.2,
            0.30000000000000004,
            0.4,
            0.5,
            0.6000000000000001,
            0.7000000000000001,
            0.8,
            0.9,
            1,
            1.1,
            1.2000000000000002,
            1.3,
            1.4000000000000001,
            1.5,
            1.6,
            1.7000000000000002
           ],
           "y": [
            1,
            0.9950041652780258,
            0.9800665778412416,
            0.955336489125606,
            0.9210609940028851,
            0.8775825618903728,
            0.8253356149096782,
            0.7648421872844884,
            0.6967067093471654,
            0.6216099682706644,
            0.5403023058681398,
            0.4535961214255773,
            0.3623577544766734,
            0.26749882862458735,
            0.16996714290024081,
            0.0707372016677029,
            -0.029199522301288815,
            -0.12884449429552486
           ]
          }
         ],
         "name": "17"
        },
        {
         "data": [
          {
           "marker": {
            "color": [
             0,
             0.010000000000000002,
             0.04000000000000001,
             0.09000000000000002,
             0.16000000000000003,
             0.25,
             0.3600000000000001,
             0.4900000000000001,
             0.6400000000000001,
             0.81,
             1,
             1.2100000000000002,
             1.4400000000000004,
             1.6900000000000002,
             1.9600000000000004,
             2.25,
             2.5600000000000005,
             2.8900000000000006,
             3.24
            ],
            "colorscale": [
             [
              0,
              "#000004"
             ],
             [
              0.1111111111111111,
              "#1b0c41"
             ],
             [
              0.2222222222222222,
              "#4a0c6b"
             ],
             [
              0.3333333333333333,
              "#781c6d"
             ],
             [
              0.4444444444444444,
              "#a52c60"
             ],
             [
              0.5555555555555556,
              "#cf4446"
             ],
             [
              0.6666666666666666,
              "#ed6925"
             ],
             [
              0.7777777777777778,
              "#fb9b06"
             ],
             [
              0.8888888888888888,
              "#f7d13d"
             ],
             [
              1,
              "#fcffa4"
             ]
            ],
            "size": [
             0,
             4.991670832341407,
             9.933466539753061,
             14.77601033306698,
             19.470917115432528,
             23.971276930210152,
             28.232123669751775,
             32.21088436188456,
             35.86780454497614,
             39.16634548137417,
             42.073549240394826,
             44.56036800307177,
             46.60195429836132,
             48.17790927085965,
             49.27248649942301,
             49.874749330202725,
             49.978680152075256,
             49.58324052262343,
             48.69238154390976
            ]
           },
           "mode": "lines+markers",
           "name": "h(x)=sin(x)",
           "type": "scatter",
           "x": [
            0,
            0.1,
            0.2,
            0.30000000000000004,
            0.4,
            0.5,
            0.6000000000000001,
            0.7000000000000001,
            0.8,
            0.9,
            1,
            1.1,
            1.2000000000000002,
            1.3,
            1.4000000000000001,
            1.5,
            1.6,
            1.7000000000000002,
            1.8
           ],
           "y": [
            0,
            0.09983341664682815,
            0.19866933079506122,
            0.2955202066613396,
            0.3894183423086505,
            0.479425538604203,
            0.5646424733950355,
            0.6442176872376911,
            0.7173560908995228,
            0.7833269096274834,
            0.8414709848078965,
            0.8912073600614354,
            0.9320390859672264,
            0.963558185417193,
            0.9854497299884603,
            0.9974949866040544,
            0.9995736030415051,
            0.9916648104524686,
            0.9738476308781951
           ]
          },
          {
           "marker": {
            "color": [
             0,
             0.010000000000000002,
             0.04000000000000001,
             0.09000000000000002,
             0.16000000000000003,
             0.25,
             0.3600000000000001,
             0.4900000000000001,
             0.6400000000000001,
             0.81,
             1,
             1.2100000000000002,
             1.4400000000000004,
             1.6900000000000002,
             1.9600000000000004,
             2.25,
             2.5600000000000005,
             2.8900000000000006,
             3.24
            ],
            "colorscale": [
             [
              0,
              "#000004"
             ],
             [
              0.1111111111111111,
              "#1b0c41"
             ],
             [
              0.2222222222222222,
              "#4a0c6b"
             ],
             [
              0.3333333333333333,
              "#781c6d"
             ],
             [
              0.4444444444444444,
              "#a52c60"
             ],
             [
              0.5555555555555556,
              "#cf4446"
             ],
             [
              0.6666666666666666,
              "#ed6925"
             ],
             [
              0.7777777777777778,
              "#fb9b06"
             ],
             [
              0.8888888888888888,
              "#f7d13d"
             ],
             [
              1,
              "#fcffa4"
             ]
            ],
            "size": [
             50,
             49.75020826390129,
             49.00332889206208,
             47.7668244562803,
             46.05304970014426,
             43.879128094518634,
             41.26678074548391,
             38.24210936422442,
             34.83533546735827,
             31.08049841353322,
             27.01511529340699,
             22.679806071278865,
             18.117887723833668,
             13.374941431229367,
             8.49835714501204,
             3.5368600833851453,
             1.4599761150644408,
             6.442224714776243,
             11.360104734654355
            ]
           },
           "mode": "lines+markers",
           "name": "k(x)=cos(x)",
           "type": "scatter",
           "x": [
            0,
            0.1,
            0.2,
            0.30000000000000004,
            0.4,
            0.5,
            0.6000000000000001,
            0.7000000000000001,
            0.8,
            0.9,
            1,
            1.1,
            1.2000000000000002,
            1.3,
            1.4000000000000001,
            1.5,
            1.6,
            1.7000000000000002,
            1.8
           ],
           "y": [
            1,
            0.9950041652780258,
            0.9800665778412416,
            0.955336489125606,
            0.9210609940028851,
            0.8775825618903728,
            0.8253356149096782,
            0.7648421872844884,
            0.6967067093471654,
            0.6216099682706644,
            0.5403023058681398,
            0.4535961214255773,
            0.3623577544766734,
            0.26749882862458735,
            0.16996714290024081,
            0.0707372016677029,
            -0.029199522301288815,
            -0.12884449429552486,
            -0.2272020946930871
           ]
          }
         ],
         "name": "18"
        },
        {
         "data": [
          {
           "marker": {
            "color": [
             0,
             0.010000000000000002,
             0.04000000000000001,
             0.09000000000000002,
             0.16000000000000003,
             0.25,
             0.3600000000000001,
             0.4900000000000001,
             0.6400000000000001,
             0.81,
             1,
             1.2100000000000002,
             1.4400000000000004,
             1.6900000000000002,
             1.9600000000000004,
             2.25,
             2.5600000000000005,
             2.8900000000000006,
             3.24,
             3.6100000000000003
            ],
            "colorscale": [
             [
              0,
              "#000004"
             ],
             [
              0.1111111111111111,
              "#1b0c41"
             ],
             [
              0.2222222222222222,
              "#4a0c6b"
             ],
             [
              0.3333333333333333,
              "#781c6d"
             ],
             [
              0.4444444444444444,
              "#a52c60"
             ],
             [
              0.5555555555555556,
              "#cf4446"
             ],
             [
              0.6666666666666666,
              "#ed6925"
             ],
             [
              0.7777777777777778,
              "#fb9b06"
             ],
             [
              0.8888888888888888,
              "#f7d13d"
             ],
             [
              1,
              "#fcffa4"
             ]
            ],
            "size": [
             0,
             4.991670832341407,
             9.933466539753061,
             14.77601033306698,
             19.470917115432528,
             23.971276930210152,
             28.232123669751775,
             32.21088436188456,
             35.86780454497614,
             39.16634548137417,
             42.073549240394826,
             44.56036800307177,
             46.60195429836132,
             48.17790927085965,
             49.27248649942301,
             49.874749330202725,
             49.978680152075256,
             49.58324052262343,
             48.69238154390976,
             47.315004384370724
            ]
           },
           "mode": "lines+markers",
           "name": "h(x)=sin(x)",
           "type": "scatter",
           "x": [
            0,
            0.1,
            0.2,
            0.30000000000000004,
            0.4,
            0.5,
            0.6000000000000001,
            0.7000000000000001,
            0.8,
            0.9,
            1,
            1.1,
            1.2000000000000002,
            1.3,
            1.4000000000000001,
            1.5,
            1.6,
            1.7000000000000002,
            1.8,
            1.9000000000000001
           ],
           "y": [
            0,
            0.09983341664682815,
            0.19866933079506122,
            0.2955202066613396,
            0.3894183423086505,
            0.479425538604203,
            0.5646424733950355,
            0.6442176872376911,
            0.7173560908995228,
            0.7833269096274834,
            0.8414709848078965,
            0.8912073600614354,
            0.9320390859672264,
            0.963558185417193,
            0.9854497299884603,
            0.9974949866040544,
            0.9995736030415051,
            0.9916648104524686,
            0.9738476308781951,
            0.9463000876874145
           ]
          },
          {
           "marker": {
            "color": [
             0,
             0.010000000000000002,
             0.04000000000000001,
             0.09000000000000002,
             0.16000000000000003,
             0.25,
             0.3600000000000001,
             0.4900000000000001,
             0.6400000000000001,
             0.81,
             1,
             1.2100000000000002,
             1.4400000000000004,
             1.6900000000000002,
             1.9600000000000004,
             2.25,
             2.5600000000000005,
             2.8900000000000006,
             3.24,
             3.6100000000000003
            ],
            "colorscale": [
             [
              0,
              "#000004"
             ],
             [
              0.1111111111111111,
              "#1b0c41"
             ],
             [
              0.2222222222222222,
              "#4a0c6b"
             ],
             [
              0.3333333333333333,
              "#781c6d"
             ],
             [
              0.4444444444444444,
              "#a52c60"
             ],
             [
              0.5555555555555556,
              "#cf4446"
             ],
             [
              0.6666666666666666,
              "#ed6925"
             ],
             [
              0.7777777777777778,
              "#fb9b06"
             ],
             [
              0.8888888888888888,
              "#f7d13d"
             ],
             [
              1,
              "#fcffa4"
             ]
            ],
            "size": [
             50,
             49.75020826390129,
             49.00332889206208,
             47.7668244562803,
             46.05304970014426,
             43.879128094518634,
             41.26678074548391,
             38.24210936422442,
             34.83533546735827,
             31.08049841353322,
             27.01511529340699,
             22.679806071278865,
             18.117887723833668,
             13.374941431229367,
             8.49835714501204,
             3.5368600833851453,
             1.4599761150644408,
             6.442224714776243,
             11.360104734654355,
             16.16447834317518
            ]
           },
           "mode": "lines+markers",
           "name": "k(x)=cos(x)",
           "type": "scatter",
           "x": [
            0,
            0.1,
            0.2,
            0.30000000000000004,
            0.4,
            0.5,
            0.6000000000000001,
            0.7000000000000001,
            0.8,
            0.9,
            1,
            1.1,
            1.2000000000000002,
            1.3,
            1.4000000000000001,
            1.5,
            1.6,
            1.7000000000000002,
            1.8,
            1.9000000000000001
           ],
           "y": [
            1,
            0.9950041652780258,
            0.9800665778412416,
            0.955336489125606,
            0.9210609940028851,
            0.8775825618903728,
            0.8253356149096782,
            0.7648421872844884,
            0.6967067093471654,
            0.6216099682706644,
            0.5403023058681398,
            0.4535961214255773,
            0.3623577544766734,
            0.26749882862458735,
            0.16996714290024081,
            0.0707372016677029,
            -0.029199522301288815,
            -0.12884449429552486,
            -0.2272020946930871,
            -0.3232895668635036
           ]
          }
         ],
         "name": "19"
        },
        {
         "data": [
          {
           "marker": {
            "color": [
             0,
             0.010000000000000002,
             0.04000000000000001,
             0.09000000000000002,
             0.16000000000000003,
             0.25,
             0.3600000000000001,
             0.4900000000000001,
             0.6400000000000001,
             0.81,
             1,
             1.2100000000000002,
             1.4400000000000004,
             1.6900000000000002,
             1.9600000000000004,
             2.25,
             2.5600000000000005,
             2.8900000000000006,
             3.24,
             3.6100000000000003,
             4
            ],
            "colorscale": [
             [
              0,
              "#000004"
             ],
             [
              0.1111111111111111,
              "#1b0c41"
             ],
             [
              0.2222222222222222,
              "#4a0c6b"
             ],
             [
              0.3333333333333333,
              "#781c6d"
             ],
             [
              0.4444444444444444,
              "#a52c60"
             ],
             [
              0.5555555555555556,
              "#cf4446"
             ],
             [
              0.6666666666666666,
              "#ed6925"
             ],
             [
              0.7777777777777778,
              "#fb9b06"
             ],
             [
              0.8888888888888888,
              "#f7d13d"
             ],
             [
              1,
              "#fcffa4"
             ]
            ],
            "size": [
             0,
             4.991670832341407,
             9.933466539753061,
             14.77601033306698,
             19.470917115432528,
             23.971276930210152,
             28.232123669751775,
             32.21088436188456,
             35.86780454497614,
             39.16634548137417,
             42.073549240394826,
             44.56036800307177,
             46.60195429836132,
             48.17790927085965,
             49.27248649942301,
             49.874749330202725,
             49.978680152075256,
             49.58324052262343,
             48.69238154390976,
             47.315004384370724,
             45.46487134128409
            ]
           },
           "mode": "lines+markers",
           "name": "h(x)=sin(x)",
           "type": "scatter",
           "x": [
            0,
            0.1,
            0.2,
            0.30000000000000004,
            0.4,
            0.5,
            0.6000000000000001,
            0.7000000000000001,
            0.8,
            0.9,
            1,
            1.1,
            1.2000000000000002,
            1.3,
            1.4000000000000001,
            1.5,
            1.6,
            1.7000000000000002,
            1.8,
            1.9000000000000001,
            2
           ],
           "y": [
            0,
            0.09983341664682815,
            0.19866933079506122,
            0.2955202066613396,
            0.3894183423086505,
            0.479425538604203,
            0.5646424733950355,
            0.6442176872376911,
            0.7173560908995228,
            0.7833269096274834,
            0.8414709848078965,
            0.8912073600614354,
            0.9320390859672264,
            0.963558185417193,
            0.9854497299884603,
            0.9974949866040544,
            0.9995736030415051,
            0.9916648104524686,
            0.9738476308781951,
            0.9463000876874145,
            0.9092974268256817
           ]
          },
          {
           "marker": {
            "color": [
             0,
             0.010000000000000002,
             0.04000000000000001,
             0.09000000000000002,
             0.16000000000000003,
             0.25,
             0.3600000000000001,
             0.4900000000000001,
             0.6400000000000001,
             0.81,
             1,
             1.2100000000000002,
             1.4400000000000004,
             1.6900000000000002,
             1.9600000000000004,
             2.25,
             2.5600000000000005,
             2.8900000000000006,
             3.24,
             3.6100000000000003,
             4
            ],
            "colorscale": [
             [
              0,
              "#000004"
             ],
             [
              0.1111111111111111,
              "#1b0c41"
             ],
             [
              0.2222222222222222,
              "#4a0c6b"
             ],
             [
              0.3333333333333333,
              "#781c6d"
             ],
             [
              0.4444444444444444,
              "#a52c60"
             ],
             [
              0.5555555555555556,
              "#cf4446"
             ],
             [
              0.6666666666666666,
              "#ed6925"
             ],
             [
              0.7777777777777778,
              "#fb9b06"
             ],
             [
              0.8888888888888888,
              "#f7d13d"
             ],
             [
              1,
              "#fcffa4"
             ]
            ],
            "size": [
             50,
             49.75020826390129,
             49.00332889206208,
             47.7668244562803,
             46.05304970014426,
             43.879128094518634,
             41.26678074548391,
             38.24210936422442,
             34.83533546735827,
             31.08049841353322,
             27.01511529340699,
             22.679806071278865,
             18.117887723833668,
             13.374941431229367,
             8.49835714501204,
             3.5368600833851453,
             1.4599761150644408,
             6.442224714776243,
             11.360104734654355,
             16.16447834317518,
             20.80734182735712
            ]
           },
           "mode": "lines+markers",
           "name": "k(x)=cos(x)",
           "type": "scatter",
           "x": [
            0,
            0.1,
            0.2,
            0.30000000000000004,
            0.4,
            0.5,
            0.6000000000000001,
            0.7000000000000001,
            0.8,
            0.9,
            1,
            1.1,
            1.2000000000000002,
            1.3,
            1.4000000000000001,
            1.5,
            1.6,
            1.7000000000000002,
            1.8,
            1.9000000000000001,
            2
           ],
           "y": [
            1,
            0.9950041652780258,
            0.9800665778412416,
            0.955336489125606,
            0.9210609940028851,
            0.8775825618903728,
            0.8253356149096782,
            0.7648421872844884,
            0.6967067093471654,
            0.6216099682706644,
            0.5403023058681398,
            0.4535961214255773,
            0.3623577544766734,
            0.26749882862458735,
            0.16996714290024081,
            0.0707372016677029,
            -0.029199522301288815,
            -0.12884449429552486,
            -0.2272020946930871,
            -0.3232895668635036,
            -0.4161468365471424
           ]
          }
         ],
         "name": "20"
        },
        {
         "data": [
          {
           "marker": {
            "color": [
             0,
             0.010000000000000002,
             0.04000000000000001,
             0.09000000000000002,
             0.16000000000000003,
             0.25,
             0.3600000000000001,
             0.4900000000000001,
             0.6400000000000001,
             0.81,
             1,
             1.2100000000000002,
             1.4400000000000004,
             1.6900000000000002,
             1.9600000000000004,
             2.25,
             2.5600000000000005,
             2.8900000000000006,
             3.24,
             3.6100000000000003,
             4,
             4.41
            ],
            "colorscale": [
             [
              0,
              "#000004"
             ],
             [
              0.1111111111111111,
              "#1b0c41"
             ],
             [
              0.2222222222222222,
              "#4a0c6b"
             ],
             [
              0.3333333333333333,
              "#781c6d"
             ],
             [
              0.4444444444444444,
              "#a52c60"
             ],
             [
              0.5555555555555556,
              "#cf4446"
             ],
             [
              0.6666666666666666,
              "#ed6925"
             ],
             [
              0.7777777777777778,
              "#fb9b06"
             ],
             [
              0.8888888888888888,
              "#f7d13d"
             ],
             [
              1,
              "#fcffa4"
             ]
            ],
            "size": [
             0,
             4.991670832341407,
             9.933466539753061,
             14.77601033306698,
             19.470917115432528,
             23.971276930210152,
             28.232123669751775,
             32.21088436188456,
             35.86780454497614,
             39.16634548137417,
             42.073549240394826,
             44.56036800307177,
             46.60195429836132,
             48.17790927085965,
             49.27248649942301,
             49.874749330202725,
             49.978680152075256,
             49.58324052262343,
             48.69238154390976,
             47.315004384370724,
             45.46487134128409,
             43.160468332443685
            ]
           },
           "mode": "lines+markers",
           "name": "h(x)=sin(x)",
           "type": "scatter",
           "x": [
            0,
            0.1,
            0.2,
            0.30000000000000004,
            0.4,
            0.5,
            0.6000000000000001,
            0.7000000000000001,
            0.8,
            0.9,
            1,
            1.1,
            1.2000000000000002,
            1.3,
            1.4000000000000001,
            1.5,
            1.6,
            1.7000000000000002,
            1.8,
            1.9000000000000001,
            2,
            2.1
           ],
           "y": [
            0,
            0.09983341664682815,
            0.19866933079506122,
            0.2955202066613396,
            0.3894183423086505,
            0.479425538604203,
            0.5646424733950355,
            0.6442176872376911,
            0.7173560908995228,
            0.7833269096274834,
            0.8414709848078965,
            0.8912073600614354,
            0.9320390859672264,
            0.963558185417193,
            0.9854497299884603,
            0.9974949866040544,
            0.9995736030415051,
            0.9916648104524686,
            0.9738476308781951,
            0.9463000876874145,
            0.9092974268256817,
            0.8632093666488737
           ]
          },
          {
           "marker": {
            "color": [
             0,
             0.010000000000000002,
             0.04000000000000001,
             0.09000000000000002,
             0.16000000000000003,
             0.25,
             0.3600000000000001,
             0.4900000000000001,
             0.6400000000000001,
             0.81,
             1,
             1.2100000000000002,
             1.4400000000000004,
             1.6900000000000002,
             1.9600000000000004,
             2.25,
             2.5600000000000005,
             2.8900000000000006,
             3.24,
             3.6100000000000003,
             4,
             4.41
            ],
            "colorscale": [
             [
              0,
              "#000004"
             ],
             [
              0.1111111111111111,
              "#1b0c41"
             ],
             [
              0.2222222222222222,
              "#4a0c6b"
             ],
             [
              0.3333333333333333,
              "#781c6d"
             ],
             [
              0.4444444444444444,
              "#a52c60"
             ],
             [
              0.5555555555555556,
              "#cf4446"
             ],
             [
              0.6666666666666666,
              "#ed6925"
             ],
             [
              0.7777777777777778,
              "#fb9b06"
             ],
             [
              0.8888888888888888,
              "#f7d13d"
             ],
             [
              1,
              "#fcffa4"
             ]
            ],
            "size": [
             50,
             49.75020826390129,
             49.00332889206208,
             47.7668244562803,
             46.05304970014426,
             43.879128094518634,
             41.26678074548391,
             38.24210936422442,
             34.83533546735827,
             31.08049841353322,
             27.01511529340699,
             22.679806071278865,
             18.117887723833668,
             13.374941431229367,
             8.49835714501204,
             3.5368600833851453,
             1.4599761150644408,
             6.442224714776243,
             11.360104734654355,
             16.16447834317518,
             20.80734182735712,
             25.24230522999288
            ]
           },
           "mode": "lines+markers",
           "name": "k(x)=cos(x)",
           "type": "scatter",
           "x": [
            0,
            0.1,
            0.2,
            0.30000000000000004,
            0.4,
            0.5,
            0.6000000000000001,
            0.7000000000000001,
            0.8,
            0.9,
            1,
            1.1,
            1.2000000000000002,
            1.3,
            1.4000000000000001,
            1.5,
            1.6,
            1.7000000000000002,
            1.8,
            1.9000000000000001,
            2,
            2.1
           ],
           "y": [
            1,
            0.9950041652780258,
            0.9800665778412416,
            0.955336489125606,
            0.9210609940028851,
            0.8775825618903728,
            0.8253356149096782,
            0.7648421872844884,
            0.6967067093471654,
            0.6216099682706644,
            0.5403023058681398,
            0.4535961214255773,
            0.3623577544766734,
            0.26749882862458735,
            0.16996714290024081,
            0.0707372016677029,
            -0.029199522301288815,
            -0.12884449429552486,
            -0.2272020946930871,
            -0.3232895668635036,
            -0.4161468365471424,
            -0.5048461045998576
           ]
          }
         ],
         "name": "21"
        },
        {
         "data": [
          {
           "marker": {
            "color": [
             0,
             0.010000000000000002,
             0.04000000000000001,
             0.09000000000000002,
             0.16000000000000003,
             0.25,
             0.3600000000000001,
             0.4900000000000001,
             0.6400000000000001,
             0.81,
             1,
             1.2100000000000002,
             1.4400000000000004,
             1.6900000000000002,
             1.9600000000000004,
             2.25,
             2.5600000000000005,
             2.8900000000000006,
             3.24,
             3.6100000000000003,
             4,
             4.41,
             4.840000000000001
            ],
            "colorscale": [
             [
              0,
              "#000004"
             ],
             [
              0.1111111111111111,
              "#1b0c41"
             ],
             [
              0.2222222222222222,
              "#4a0c6b"
             ],
             [
              0.3333333333333333,
              "#781c6d"
             ],
             [
              0.4444444444444444,
              "#a52c60"
             ],
             [
              0.5555555555555556,
              "#cf4446"
             ],
             [
              0.6666666666666666,
              "#ed6925"
             ],
             [
              0.7777777777777778,
              "#fb9b06"
             ],
             [
              0.8888888888888888,
              "#f7d13d"
             ],
             [
              1,
              "#fcffa4"
             ]
            ],
            "size": [
             0,
             4.991670832341407,
             9.933466539753061,
             14.77601033306698,
             19.470917115432528,
             23.971276930210152,
             28.232123669751775,
             32.21088436188456,
             35.86780454497614,
             39.16634548137417,
             42.073549240394826,
             44.56036800307177,
             46.60195429836132,
             48.17790927085965,
             49.27248649942301,
             49.874749330202725,
             49.978680152075256,
             49.58324052262343,
             48.69238154390976,
             47.315004384370724,
             45.46487134128409,
             43.160468332443685,
             40.4248201909795
            ]
           },
           "mode": "lines+markers",
           "name": "h(x)=sin(x)",
           "type": "scatter",
           "x": [
            0,
            0.1,
            0.2,
            0.30000000000000004,
            0.4,
            0.5,
            0.6000000000000001,
            0.7000000000000001,
            0.8,
            0.9,
            1,
            1.1,
            1.2000000000000002,
            1.3,
            1.4000000000000001,
            1.5,
            1.6,
            1.7000000000000002,
            1.8,
            1.9000000000000001,
            2,
            2.1,
            2.2
           ],
           "y": [
            0,
            0.09983341664682815,
            0.19866933079506122,
            0.2955202066613396,
            0.3894183423086505,
            0.479425538604203,
            0.5646424733950355,
            0.6442176872376911,
            0.7173560908995228,
            0.7833269096274834,
            0.8414709848078965,
            0.8912073600614354,
            0.9320390859672264,
            0.963558185417193,
            0.9854497299884603,
            0.9974949866040544,
            0.9995736030415051,
            0.9916648104524686,
            0.9738476308781951,
            0.9463000876874145,
            0.9092974268256817,
            0.8632093666488737,
            0.8084964038195901
           ]
          },
          {
           "marker": {
            "color": [
             0,
             0.010000000000000002,
             0.04000000000000001,
             0.09000000000000002,
             0.16000000000000003,
             0.25,
             0.3600000000000001,
             0.4900000000000001,
             0.6400000000000001,
             0.81,
             1,
             1.2100000000000002,
             1.4400000000000004,
             1.6900000000000002,
             1.9600000000000004,
             2.25,
             2.5600000000000005,
             2.8900000000000006,
             3.24,
             3.6100000000000003,
             4,
             4.41,
             4.840000000000001
            ],
            "colorscale": [
             [
              0,
              "#000004"
             ],
             [
              0.1111111111111111,
              "#1b0c41"
             ],
             [
              0.2222222222222222,
              "#4a0c6b"
             ],
             [
              0.3333333333333333,
              "#781c6d"
             ],
             [
              0.4444444444444444,
              "#a52c60"
             ],
             [
              0.5555555555555556,
              "#cf4446"
             ],
             [
              0.6666666666666666,
              "#ed6925"
             ],
             [
              0.7777777777777778,
              "#fb9b06"
             ],
             [
              0.8888888888888888,
              "#f7d13d"
             ],
             [
              1,
              "#fcffa4"
             ]
            ],
            "size": [
             50,
             49.75020826390129,
             49.00332889206208,
             47.7668244562803,
             46.05304970014426,
             43.879128094518634,
             41.26678074548391,
             38.24210936422442,
             34.83533546735827,
             31.08049841353322,
             27.01511529340699,
             22.679806071278865,
             18.117887723833668,
             13.374941431229367,
             8.49835714501204,
             3.5368600833851453,
             1.4599761150644408,
             6.442224714776243,
             11.360104734654355,
             16.16447834317518,
             20.80734182735712,
             25.24230522999288,
             29.42505586276729
            ]
           },
           "mode": "lines+markers",
           "name": "k(x)=cos(x)",
           "type": "scatter",
           "x": [
            0,
            0.1,
            0.2,
            0.30000000000000004,
            0.4,
            0.5,
            0.6000000000000001,
            0.7000000000000001,
            0.8,
            0.9,
            1,
            1.1,
            1.2000000000000002,
            1.3,
            1.4000000000000001,
            1.5,
            1.6,
            1.7000000000000002,
            1.8,
            1.9000000000000001,
            2,
            2.1,
            2.2
           ],
           "y": [
            1,
            0.9950041652780258,
            0.9800665778412416,
            0.955336489125606,
            0.9210609940028851,
            0.8775825618903728,
            0.8253356149096782,
            0.7648421872844884,
            0.6967067093471654,
            0.6216099682706644,
            0.5403023058681398,
            0.4535961214255773,
            0.3623577544766734,
            0.26749882862458735,
            0.16996714290024081,
            0.0707372016677029,
            -0.029199522301288815,
            -0.12884449429552486,
            -0.2272020946930871,
            -0.3232895668635036,
            -0.4161468365471424,
            -0.5048461045998576,
            -0.5885011172553458
           ]
          }
         ],
         "name": "22"
        },
        {
         "data": [
          {
           "marker": {
            "color": [
             0,
             0.010000000000000002,
             0.04000000000000001,
             0.09000000000000002,
             0.16000000000000003,
             0.25,
             0.3600000000000001,
             0.4900000000000001,
             0.6400000000000001,
             0.81,
             1,
             1.2100000000000002,
             1.4400000000000004,
             1.6900000000000002,
             1.9600000000000004,
             2.25,
             2.5600000000000005,
             2.8900000000000006,
             3.24,
             3.6100000000000003,
             4,
             4.41,
             4.840000000000001,
             5.290000000000001
            ],
            "colorscale": [
             [
              0,
              "#000004"
             ],
             [
              0.1111111111111111,
              "#1b0c41"
             ],
             [
              0.2222222222222222,
              "#4a0c6b"
             ],
             [
              0.3333333333333333,
              "#781c6d"
             ],
             [
              0.4444444444444444,
              "#a52c60"
             ],
             [
              0.5555555555555556,
              "#cf4446"
             ],
             [
              0.6666666666666666,
              "#ed6925"
             ],
             [
              0.7777777777777778,
              "#fb9b06"
             ],
             [
              0.8888888888888888,
              "#f7d13d"
             ],
             [
              1,
              "#fcffa4"
             ]
            ],
            "size": [
             0,
             4.991670832341407,
             9.933466539753061,
             14.77601033306698,
             19.470917115432528,
             23.971276930210152,
             28.232123669751775,
             32.21088436188456,
             35.86780454497614,
             39.16634548137417,
             42.073549240394826,
             44.56036800307177,
             46.60195429836132,
             48.17790927085965,
             49.27248649942301,
             49.874749330202725,
             49.978680152075256,
             49.58324052262343,
             48.69238154390976,
             47.315004384370724,
             45.46487134128409,
             43.160468332443685,
             40.4248201909795,
             37.285260608836005
            ]
           },
           "mode": "lines+markers",
           "name": "h(x)=sin(x)",
           "type": "scatter",
           "x": [
            0,
            0.1,
            0.2,
            0.30000000000000004,
            0.4,
            0.5,
            0.6000000000000001,
            0.7000000000000001,
            0.8,
            0.9,
            1,
            1.1,
            1.2000000000000002,
            1.3,
            1.4000000000000001,
            1.5,
            1.6,
            1.7000000000000002,
            1.8,
            1.9000000000000001,
            2,
            2.1,
            2.2,
            2.3000000000000003
           ],
           "y": [
            0,
            0.09983341664682815,
            0.19866933079506122,
            0.2955202066613396,
            0.3894183423086505,
            0.479425538604203,
            0.5646424733950355,
            0.6442176872376911,
            0.7173560908995228,
            0.7833269096274834,
            0.8414709848078965,
            0.8912073600614354,
            0.9320390859672264,
            0.963558185417193,
            0.9854497299884603,
            0.9974949866040544,
            0.9995736030415051,
            0.9916648104524686,
            0.9738476308781951,
            0.9463000876874145,
            0.9092974268256817,
            0.8632093666488737,
            0.8084964038195901,
            0.74570521217672
           ]
          },
          {
           "marker": {
            "color": [
             0,
             0.010000000000000002,
             0.04000000000000001,
             0.09000000000000002,
             0.16000000000000003,
             0.25,
             0.3600000000000001,
             0.4900000000000001,
             0.6400000000000001,
             0.81,
             1,
             1.2100000000000002,
             1.4400000000000004,
             1.6900000000000002,
             1.9600000000000004,
             2.25,
             2.5600000000000005,
             2.8900000000000006,
             3.24,
             3.6100000000000003,
             4,
             4.41,
             4.840000000000001,
             5.290000000000001
            ],
            "colorscale": [
             [
              0,
              "#000004"
             ],
             [
              0.1111111111111111,
              "#1b0c41"
             ],
             [
              0.2222222222222222,
              "#4a0c6b"
             ],
             [
              0.3333333333333333,
              "#781c6d"
             ],
             [
              0.4444444444444444,
              "#a52c60"
             ],
             [
              0.5555555555555556,
              "#cf4446"
             ],
             [
              0.6666666666666666,
              "#ed6925"
             ],
             [
              0.7777777777777778,
              "#fb9b06"
             ],
             [
              0.8888888888888888,
              "#f7d13d"
             ],
             [
              1,
              "#fcffa4"
             ]
            ],
            "size": [
             50,
             49.75020826390129,
             49.00332889206208,
             47.7668244562803,
             46.05304970014426,
             43.879128094518634,
             41.26678074548391,
             38.24210936422442,
             34.83533546735827,
             31.08049841353322,
             27.01511529340699,
             22.679806071278865,
             18.117887723833668,
             13.374941431229367,
             8.49835714501204,
             3.5368600833851453,
             1.4599761150644408,
             6.442224714776243,
             11.360104734654355,
             16.16447834317518,
             20.80734182735712,
             25.24230522999288,
             29.42505586276729,
             33.31380106399122
            ]
           },
           "mode": "lines+markers",
           "name": "k(x)=cos(x)",
           "type": "scatter",
           "x": [
            0,
            0.1,
            0.2,
            0.30000000000000004,
            0.4,
            0.5,
            0.6000000000000001,
            0.7000000000000001,
            0.8,
            0.9,
            1,
            1.1,
            1.2000000000000002,
            1.3,
            1.4000000000000001,
            1.5,
            1.6,
            1.7000000000000002,
            1.8,
            1.9000000000000001,
            2,
            2.1,
            2.2,
            2.3000000000000003
           ],
           "y": [
            1,
            0.9950041652780258,
            0.9800665778412416,
            0.955336489125606,
            0.9210609940028851,
            0.8775825618903728,
            0.8253356149096782,
            0.7648421872844884,
            0.6967067093471654,
            0.6216099682706644,
            0.5403023058681398,
            0.4535961214255773,
            0.3623577544766734,
            0.26749882862458735,
            0.16996714290024081,
            0.0707372016677029,
            -0.029199522301288815,
            -0.12884449429552486,
            -0.2272020946930871,
            -0.3232895668635036,
            -0.4161468365471424,
            -0.5048461045998576,
            -0.5885011172553458,
            -0.6662760212798244
           ]
          }
         ],
         "name": "23"
        },
        {
         "data": [
          {
           "marker": {
            "color": [
             0,
             0.010000000000000002,
             0.04000000000000001,
             0.09000000000000002,
             0.16000000000000003,
             0.25,
             0.3600000000000001,
             0.4900000000000001,
             0.6400000000000001,
             0.81,
             1,
             1.2100000000000002,
             1.4400000000000004,
             1.6900000000000002,
             1.9600000000000004,
             2.25,
             2.5600000000000005,
             2.8900000000000006,
             3.24,
             3.6100000000000003,
             4,
             4.41,
             4.840000000000001,
             5.290000000000001,
             5.760000000000002
            ],
            "colorscale": [
             [
              0,
              "#000004"
             ],
             [
              0.1111111111111111,
              "#1b0c41"
             ],
             [
              0.2222222222222222,
              "#4a0c6b"
             ],
             [
              0.3333333333333333,
              "#781c6d"
             ],
             [
              0.4444444444444444,
              "#a52c60"
             ],
             [
              0.5555555555555556,
              "#cf4446"
             ],
             [
              0.6666666666666666,
              "#ed6925"
             ],
             [
              0.7777777777777778,
              "#fb9b06"
             ],
             [
              0.8888888888888888,
              "#f7d13d"
             ],
             [
              1,
              "#fcffa4"
             ]
            ],
            "size": [
             0,
             4.991670832341407,
             9.933466539753061,
             14.77601033306698,
             19.470917115432528,
             23.971276930210152,
             28.232123669751775,
             32.21088436188456,
             35.86780454497614,
             39.16634548137417,
             42.073549240394826,
             44.56036800307177,
             46.60195429836132,
             48.17790927085965,
             49.27248649942301,
             49.874749330202725,
             49.978680152075256,
             49.58324052262343,
             48.69238154390976,
             47.315004384370724,
             45.46487134128409,
             43.160468332443685,
             40.4248201909795,
             37.285260608836005,
             33.77315902755753
            ]
           },
           "mode": "lines+markers",
           "name": "h(x)=sin(x)",
           "type": "scatter",
           "x": [
            0,
            0.1,
            0.2,
            0.30000000000000004,
            0.4,
            0.5,
            0.6000000000000001,
            0.7000000000000001,
            0.8,
            0.9,
            1,
            1.1,
            1.2000000000000002,
            1.3,
            1.4000000000000001,
            1.5,
            1.6,
            1.7000000000000002,
            1.8,
            1.9000000000000001,
            2,
            2.1,
            2.2,
            2.3000000000000003,
            2.4000000000000004
           ],
           "y": [
            0,
            0.09983341664682815,
            0.19866933079506122,
            0.2955202066613396,
            0.3894183423086505,
            0.479425538604203,
            0.5646424733950355,
            0.6442176872376911,
            0.7173560908995228,
            0.7833269096274834,
            0.8414709848078965,
            0.8912073600614354,
            0.9320390859672264,
            0.963558185417193,
            0.9854497299884603,
            0.9974949866040544,
            0.9995736030415051,
            0.9916648104524686,
            0.9738476308781951,
            0.9463000876874145,
            0.9092974268256817,
            0.8632093666488737,
            0.8084964038195901,
            0.74570521217672,
            0.6754631805511506
           ]
          },
          {
           "marker": {
            "color": [
             0,
             0.010000000000000002,
             0.04000000000000001,
             0.09000000000000002,
             0.16000000000000003,
             0.25,
             0.3600000000000001,
             0.4900000000000001,
             0.6400000000000001,
             0.81,
             1,
             1.2100000000000002,
             1.4400000000000004,
             1.6900000000000002,
             1.9600000000000004,
             2.25,
             2.5600000000000005,
             2.8900000000000006,
             3.24,
             3.6100000000000003,
             4,
             4.41,
             4.840000000000001,
             5.290000000000001,
             5.760000000000002
            ],
            "colorscale": [
             [
              0,
              "#000004"
             ],
             [
              0.1111111111111111,
              "#1b0c41"
             ],
             [
              0.2222222222222222,
              "#4a0c6b"
             ],
             [
              0.3333333333333333,
              "#781c6d"
             ],
             [
              0.4444444444444444,
              "#a52c60"
             ],
             [
              0.5555555555555556,
              "#cf4446"
             ],
             [
              0.6666666666666666,
              "#ed6925"
             ],
             [
              0.7777777777777778,
              "#fb9b06"
             ],
             [
              0.8888888888888888,
              "#f7d13d"
             ],
             [
              1,
              "#fcffa4"
             ]
            ],
            "size": [
             50,
             49.75020826390129,
             49.00332889206208,
             47.7668244562803,
             46.05304970014426,
             43.879128094518634,
             41.26678074548391,
             38.24210936422442,
             34.83533546735827,
             31.08049841353322,
             27.01511529340699,
             22.679806071278865,
             18.117887723833668,
             13.374941431229367,
             8.49835714501204,
             3.5368600833851453,
             1.4599761150644408,
             6.442224714776243,
             11.360104734654355,
             16.16447834317518,
             20.80734182735712,
             25.24230522999288,
             29.42505586276729,
             33.31380106399122,
             36.86968577706229
            ]
           },
           "mode": "lines+markers",
           "name": "k(x)=cos(x)",
           "type": "scatter",
           "x": [
            0,
            0.1,
            0.2,
            0.30000000000000004,
            0.4,
            0.5,
            0.6000000000000001,
            0.7000000000000001,
            0.8,
            0.9,
            1,
            1.1,
            1.2000000000000002,
            1.3,
            1.4000000000000001,
            1.5,
            1.6,
            1.7000000000000002,
            1.8,
            1.9000000000000001,
            2,
            2.1,
            2.2,
            2.3000000000000003,
            2.4000000000000004
           ],
           "y": [
            1,
            0.9950041652780258,
            0.9800665778412416,
            0.955336489125606,
            0.9210609940028851,
            0.8775825618903728,
            0.8253356149096782,
            0.7648421872844884,
            0.6967067093471654,
            0.6216099682706644,
            0.5403023058681398,
            0.4535961214255773,
            0.3623577544766734,
            0.26749882862458735,
            0.16996714290024081,
            0.0707372016677029,
            -0.029199522301288815,
            -0.12884449429552486,
            -0.2272020946930871,
            -0.3232895668635036,
            -0.4161468365471424,
            -0.5048461045998576,
            -0.5885011172553458,
            -0.6662760212798244,
            -0.7373937155412458
           ]
          }
         ],
         "name": "24"
        },
        {
         "data": [
          {
           "marker": {
            "color": [
             0,
             0.010000000000000002,
             0.04000000000000001,
             0.09000000000000002,
             0.16000000000000003,
             0.25,
             0.3600000000000001,
             0.4900000000000001,
             0.6400000000000001,
             0.81,
             1,
             1.2100000000000002,
             1.4400000000000004,
             1.6900000000000002,
             1.9600000000000004,
             2.25,
             2.5600000000000005,
             2.8900000000000006,
             3.24,
             3.6100000000000003,
             4,
             4.41,
             4.840000000000001,
             5.290000000000001,
             5.760000000000002,
             6.25
            ],
            "colorscale": [
             [
              0,
              "#000004"
             ],
             [
              0.1111111111111111,
              "#1b0c41"
             ],
             [
              0.2222222222222222,
              "#4a0c6b"
             ],
             [
              0.3333333333333333,
              "#781c6d"
             ],
             [
              0.4444444444444444,
              "#a52c60"
             ],
             [
              0.5555555555555556,
              "#cf4446"
             ],
             [
              0.6666666666666666,
              "#ed6925"
             ],
             [
              0.7777777777777778,
              "#fb9b06"
             ],
             [
              0.8888888888888888,
              "#f7d13d"
             ],
             [
              1,
              "#fcffa4"
             ]
            ],
            "size": [
             0,
             4.991670832341407,
             9.933466539753061,
             14.77601033306698,
             19.470917115432528,
             23.971276930210152,
             28.232123669751775,
             32.21088436188456,
             35.86780454497614,
             39.16634548137417,
             42.073549240394826,
             44.56036800307177,
             46.60195429836132,
             48.17790927085965,
             49.27248649942301,
             49.874749330202725,
             49.978680152075256,
             49.58324052262343,
             48.69238154390976,
             47.315004384370724,
             45.46487134128409,
             43.160468332443685,
             40.4248201909795,
             37.285260608836005,
             33.77315902755753,
             29.923607205197822
            ]
           },
           "mode": "lines+markers",
           "name": "h(x)=sin(x)",
           "type": "scatter",
           "x": [
            0,
            0.1,
            0.2,
            0.30000000000000004,
            0.4,
            0.5,
            0.6000000000000001,
            0.7000000000000001,
            0.8,
            0.9,
            1,
            1.1,
            1.2000000000000002,
            1.3,
            1.4000000000000001,
            1.5,
            1.6,
            1.7000000000000002,
            1.8,
            1.9000000000000001,
            2,
            2.1,
            2.2,
            2.3000000000000003,
            2.4000000000000004,
            2.5
           ],
           "y": [
            0,
            0.09983341664682815,
            0.19866933079506122,
            0.2955202066613396,
            0.3894183423086505,
            0.479425538604203,
            0.5646424733950355,
            0.6442176872376911,
            0.7173560908995228,
            0.7833269096274834,
            0.8414709848078965,
            0.8912073600614354,
            0.9320390859672264,
            0.963558185417193,
            0.9854497299884603,
            0.9974949866040544,
            0.9995736030415051,
            0.9916648104524686,
            0.9738476308781951,
            0.9463000876874145,
            0.9092974268256817,
            0.8632093666488737,
            0.8084964038195901,
            0.74570521217672,
            0.6754631805511506,
            0.5984721441039564
           ]
          },
          {
           "marker": {
            "color": [
             0,
             0.010000000000000002,
             0.04000000000000001,
             0.09000000000000002,
             0.16000000000000003,
             0.25,
             0.3600000000000001,
             0.4900000000000001,
             0.6400000000000001,
             0.81,
             1,
             1.2100000000000002,
             1.4400000000000004,
             1.6900000000000002,
             1.9600000000000004,
             2.25,
             2.5600000000000005,
             2.8900000000000006,
             3.24,
             3.6100000000000003,
             4,
             4.41,
             4.840000000000001,
             5.290000000000001,
             5.760000000000002,
             6.25
            ],
            "colorscale": [
             [
              0,
              "#000004"
             ],
             [
              0.1111111111111111,
              "#1b0c41"
             ],
             [
              0.2222222222222222,
              "#4a0c6b"
             ],
             [
              0.3333333333333333,
              "#781c6d"
             ],
             [
              0.4444444444444444,
              "#a52c60"
             ],
             [
              0.5555555555555556,
              "#cf4446"
             ],
             [
              0.6666666666666666,
              "#ed6925"
             ],
             [
              0.7777777777777778,
              "#fb9b06"
             ],
             [
              0.8888888888888888,
              "#f7d13d"
             ],
             [
              1,
              "#fcffa4"
             ]
            ],
            "size": [
             50,
             49.75020826390129,
             49.00332889206208,
             47.7668244562803,
             46.05304970014426,
             43.879128094518634,
             41.26678074548391,
             38.24210936422442,
             34.83533546735827,
             31.08049841353322,
             27.01511529340699,
             22.679806071278865,
             18.117887723833668,
             13.374941431229367,
             8.49835714501204,
             3.5368600833851453,
             1.4599761150644408,
             6.442224714776243,
             11.360104734654355,
             16.16447834317518,
             20.80734182735712,
             25.24230522999288,
             29.42505586276729,
             33.31380106399122,
             36.86968577706229,
             40.05718077734669
            ]
           },
           "mode": "lines+markers",
           "name": "k(x)=cos(x)",
           "type": "scatter",
           "x": [
            0,
            0.1,
            0.2,
            0.30000000000000004,
            0.4,
            0.5,
            0.6000000000000001,
            0.7000000000000001,
            0.8,
            0.9,
            1,
            1.1,
            1.2000000000000002,
            1.3,
            1.4000000000000001,
            1.5,
            1.6,
            1.7000000000000002,
            1.8,
            1.9000000000000001,
            2,
            2.1,
            2.2,
            2.3000000000000003,
            2.4000000000000004,
            2.5
           ],
           "y": [
            1,
            0.9950041652780258,
            0.9800665778412416,
            0.955336489125606,
            0.9210609940028851,
            0.8775825618903728,
            0.8253356149096782,
            0.7648421872844884,
            0.6967067093471654,
            0.6216099682706644,
            0.5403023058681398,
            0.4535961214255773,
            0.3623577544766734,
            0.26749882862458735,
            0.16996714290024081,
            0.0707372016677029,
            -0.029199522301288815,
            -0.12884449429552486,
            -0.2272020946930871,
            -0.3232895668635036,
            -0.4161468365471424,
            -0.5048461045998576,
            -0.5885011172553458,
            -0.6662760212798244,
            -0.7373937155412458,
            -0.8011436155469337
           ]
          }
         ],
         "name": "25"
        },
        {
         "data": [
          {
           "marker": {
            "color": [
             0,
             0.010000000000000002,
             0.04000000000000001,
             0.09000000000000002,
             0.16000000000000003,
             0.25,
             0.3600000000000001,
             0.4900000000000001,
             0.6400000000000001,
             0.81,
             1,
             1.2100000000000002,
             1.4400000000000004,
             1.6900000000000002,
             1.9600000000000004,
             2.25,
             2.5600000000000005,
             2.8900000000000006,
             3.24,
             3.6100000000000003,
             4,
             4.41,
             4.840000000000001,
             5.290000000000001,
             5.760000000000002,
             6.25,
             6.760000000000001
            ],
            "colorscale": [
             [
              0,
              "#000004"
             ],
             [
              0.1111111111111111,
              "#1b0c41"
             ],
             [
              0.2222222222222222,
              "#4a0c6b"
             ],
             [
              0.3333333333333333,
              "#781c6d"
             ],
             [
              0.4444444444444444,
              "#a52c60"
             ],
             [
              0.5555555555555556,
              "#cf4446"
             ],
             [
              0.6666666666666666,
              "#ed6925"
             ],
             [
              0.7777777777777778,
              "#fb9b06"
             ],
             [
              0.8888888888888888,
              "#f7d13d"
             ],
             [
              1,
              "#fcffa4"
             ]
            ],
            "size": [
             0,
             4.991670832341407,
             9.933466539753061,
             14.77601033306698,
             19.470917115432528,
             23.971276930210152,
             28.232123669751775,
             32.21088436188456,
             35.86780454497614,
             39.16634548137417,
             42.073549240394826,
             44.56036800307177,
             46.60195429836132,
             48.17790927085965,
             49.27248649942301,
             49.874749330202725,
             49.978680152075256,
             49.58324052262343,
             48.69238154390976,
             47.315004384370724,
             45.46487134128409,
             43.160468332443685,
             40.4248201909795,
             37.285260608836005,
             33.77315902755753,
             29.923607205197822,
             25.775068591073207
            ]
           },
           "mode": "lines+markers",
           "name": "h(x)=sin(x)",
           "type": "scatter",
           "x": [
            0,
            0.1,
            0.2,
            0.30000000000000004,
            0.4,
            0.5,
            0.6000000000000001,
            0.7000000000000001,
            0.8,
            0.9,
            1,
            1.1,
            1.2000000000000002,
            1.3,
            1.4000000000000001,
            1.5,
            1.6,
            1.7000000000000002,
            1.8,
            1.9000000000000001,
            2,
            2.1,
            2.2,
            2.3000000000000003,
            2.4000000000000004,
            2.5,
            2.6
           ],
           "y": [
            0,
            0.09983341664682815,
            0.19866933079506122,
            0.2955202066613396,
            0.3894183423086505,
            0.479425538604203,
            0.5646424733950355,
            0.6442176872376911,
            0.7173560908995228,
            0.7833269096274834,
            0.8414709848078965,
            0.8912073600614354,
            0.9320390859672264,
            0.963558185417193,
            0.9854497299884603,
            0.9974949866040544,
            0.9995736030415051,
            0.9916648104524686,
            0.9738476308781951,
            0.9463000876874145,
            0.9092974268256817,
            0.8632093666488737,
            0.8084964038195901,
            0.74570521217672,
            0.6754631805511506,
            0.5984721441039564,
            0.5155013718214642
           ]
          },
          {
           "marker": {
            "color": [
             0,
             0.010000000000000002,
             0.04000000000000001,
             0.09000000000000002,
             0.16000000000000003,
             0.25,
             0.3600000000000001,
             0.4900000000000001,
             0.6400000000000001,
             0.81,
             1,
             1.2100000000000002,
             1.4400000000000004,
             1.6900000000000002,
             1.9600000000000004,
             2.25,
             2.5600000000000005,
             2.8900000000000006,
             3.24,
             3.6100000000000003,
             4,
             4.41,
             4.840000000000001,
             5.290000000000001,
             5.760000000000002,
             6.25,
             6.760000000000001
            ],
            "colorscale": [
             [
              0,
              "#000004"
             ],
             [
              0.1111111111111111,
              "#1b0c41"
             ],
             [
              0.2222222222222222,
              "#4a0c6b"
             ],
             [
              0.3333333333333333,
              "#781c6d"
             ],
             [
              0.4444444444444444,
              "#a52c60"
             ],
             [
              0.5555555555555556,
              "#cf4446"
             ],
             [
              0.6666666666666666,
              "#ed6925"
             ],
             [
              0.7777777777777778,
              "#fb9b06"
             ],
             [
              0.8888888888888888,
              "#f7d13d"
             ],
             [
              1,
              "#fcffa4"
             ]
            ],
            "size": [
             50,
             49.75020826390129,
             49.00332889206208,
             47.7668244562803,
             46.05304970014426,
             43.879128094518634,
             41.26678074548391,
             38.24210936422442,
             34.83533546735827,
             31.08049841353322,
             27.01511529340699,
             22.679806071278865,
             18.117887723833668,
             13.374941431229367,
             8.49835714501204,
             3.5368600833851453,
             1.4599761150644408,
             6.442224714776243,
             11.360104734654355,
             16.16447834317518,
             20.80734182735712,
             25.24230522999288,
             29.42505586276729,
             33.31380106399122,
             36.86968577706229,
             40.05718077734669,
             42.84443766844737
            ]
           },
           "mode": "lines+markers",
           "name": "k(x)=cos(x)",
           "type": "scatter",
           "x": [
            0,
            0.1,
            0.2,
            0.30000000000000004,
            0.4,
            0.5,
            0.6000000000000001,
            0.7000000000000001,
            0.8,
            0.9,
            1,
            1.1,
            1.2000000000000002,
            1.3,
            1.4000000000000001,
            1.5,
            1.6,
            1.7000000000000002,
            1.8,
            1.9000000000000001,
            2,
            2.1,
            2.2,
            2.3000000000000003,
            2.4000000000000004,
            2.5,
            2.6
           ],
           "y": [
            1,
            0.9950041652780258,
            0.9800665778412416,
            0.955336489125606,
            0.9210609940028851,
            0.8775825618903728,
            0.8253356149096782,
            0.7648421872844884,
            0.6967067093471654,
            0.6216099682706644,
            0.5403023058681398,
            0.4535961214255773,
            0.3623577544766734,
            0.26749882862458735,
            0.16996714290024081,
            0.0707372016677029,
            -0.029199522301288815,
            -0.12884449429552486,
            -0.2272020946930871,
            -0.3232895668635036,
            -0.4161468365471424,
            -0.5048461045998576,
            -0.5885011172553458,
            -0.6662760212798244,
            -0.7373937155412458,
            -0.8011436155469337,
            -0.8568887533689473
           ]
          }
         ],
         "name": "26"
        },
        {
         "data": [
          {
           "marker": {
            "color": [
             0,
             0.010000000000000002,
             0.04000000000000001,
             0.09000000000000002,
             0.16000000000000003,
             0.25,
             0.3600000000000001,
             0.4900000000000001,
             0.6400000000000001,
             0.81,
             1,
             1.2100000000000002,
             1.4400000000000004,
             1.6900000000000002,
             1.9600000000000004,
             2.25,
             2.5600000000000005,
             2.8900000000000006,
             3.24,
             3.6100000000000003,
             4,
             4.41,
             4.840000000000001,
             5.290000000000001,
             5.760000000000002,
             6.25,
             6.760000000000001,
             7.290000000000001
            ],
            "colorscale": [
             [
              0,
              "#000004"
             ],
             [
              0.1111111111111111,
              "#1b0c41"
             ],
             [
              0.2222222222222222,
              "#4a0c6b"
             ],
             [
              0.3333333333333333,
              "#781c6d"
             ],
             [
              0.4444444444444444,
              "#a52c60"
             ],
             [
              0.5555555555555556,
              "#cf4446"
             ],
             [
              0.6666666666666666,
              "#ed6925"
             ],
             [
              0.7777777777777778,
              "#fb9b06"
             ],
             [
              0.8888888888888888,
              "#f7d13d"
             ],
             [
              1,
              "#fcffa4"
             ]
            ],
            "size": [
             0,
             4.991670832341407,
             9.933466539753061,
             14.77601033306698,
             19.470917115432528,
             23.971276930210152,
             28.232123669751775,
             32.21088436188456,
             35.86780454497614,
             39.16634548137417,
             42.073549240394826,
             44.56036800307177,
             46.60195429836132,
             48.17790927085965,
             49.27248649942301,
             49.874749330202725,
             49.978680152075256,
             49.58324052262343,
             48.69238154390976,
             47.315004384370724,
             45.46487134128409,
             43.160468332443685,
             40.4248201909795,
             37.285260608836005,
             33.77315902755753,
             29.923607205197822,
             25.775068591073207,
             21.368994011691488
            ]
           },
           "mode": "lines+markers",
           "name": "h(x)=sin(x)",
           "type": "scatter",
           "x": [
            0,
            0.1,
            0.2,
            0.30000000000000004,
            0.4,
            0.5,
            0.6000000000000001,
            0.7000000000000001,
            0.8,
            0.9,
            1,
            1.1,
            1.2000000000000002,
            1.3,
            1.4000000000000001,
            1.5,
            1.6,
            1.7000000000000002,
            1.8,
            1.9000000000000001,
            2,
            2.1,
            2.2,
            2.3000000000000003,
            2.4000000000000004,
            2.5,
            2.6,
            2.7
           ],
           "y": [
            0,
            0.09983341664682815,
            0.19866933079506122,
            0.2955202066613396,
            0.3894183423086505,
            0.479425538604203,
            0.5646424733950355,
            0.6442176872376911,
            0.7173560908995228,
            0.7833269096274834,
            0.8414709848078965,
            0.8912073600614354,
            0.9320390859672264,
            0.963558185417193,
            0.9854497299884603,
            0.9974949866040544,
            0.9995736030415051,
            0.9916648104524686,
            0.9738476308781951,
            0.9463000876874145,
            0.9092974268256817,
            0.8632093666488737,
            0.8084964038195901,
            0.74570521217672,
            0.6754631805511506,
            0.5984721441039564,
            0.5155013718214642,
            0.4273798802338298
           ]
          },
          {
           "marker": {
            "color": [
             0,
             0.010000000000000002,
             0.04000000000000001,
             0.09000000000000002,
             0.16000000000000003,
             0.25,
             0.3600000000000001,
             0.4900000000000001,
             0.6400000000000001,
             0.81,
             1,
             1.2100000000000002,
             1.4400000000000004,
             1.6900000000000002,
             1.9600000000000004,
             2.25,
             2.5600000000000005,
             2.8900000000000006,
             3.24,
             3.6100000000000003,
             4,
             4.41,
             4.840000000000001,
             5.290000000000001,
             5.760000000000002,
             6.25,
             6.760000000000001,
             7.290000000000001
            ],
            "colorscale": [
             [
              0,
              "#000004"
             ],
             [
              0.1111111111111111,
              "#1b0c41"
             ],
             [
              0.2222222222222222,
              "#4a0c6b"
             ],
             [
              0.3333333333333333,
              "#781c6d"
             ],
             [
              0.4444444444444444,
              "#a52c60"
             ],
             [
              0.5555555555555556,
              "#cf4446"
             ],
             [
              0.6666666666666666,
              "#ed6925"
             ],
             [
              0.7777777777777778,
              "#fb9b06"
             ],
             [
              0.8888888888888888,
              "#f7d13d"
             ],
             [
              1,
              "#fcffa4"
             ]
            ],
            "size": [
             50,
             49.75020826390129,
             49.00332889206208,
             47.7668244562803,
             46.05304970014426,
             43.879128094518634,
             41.26678074548391,
             38.24210936422442,
             34.83533546735827,
             31.08049841353322,
             27.01511529340699,
             22.679806071278865,
             18.117887723833668,
             13.374941431229367,
             8.49835714501204,
             3.5368600833851453,
             1.4599761150644408,
             6.442224714776243,
             11.360104734654355,
             16.16447834317518,
             20.80734182735712,
             25.24230522999288,
             29.42505586276729,
             33.31380106399122,
             36.86968577706229,
             40.05718077734669,
             42.84443766844737,
             45.20360710085306
            ]
           },
           "mode": "lines+markers",
           "name": "k(x)=cos(x)",
           "type": "scatter",
           "x": [
            0,
            0.1,
            0.2,
            0.30000000000000004,
            0.4,
            0.5,
            0.6000000000000001,
            0.7000000000000001,
            0.8,
            0.9,
            1,
            1.1,
            1.2000000000000002,
            1.3,
            1.4000000000000001,
            1.5,
            1.6,
            1.7000000000000002,
            1.8,
            1.9000000000000001,
            2,
            2.1,
            2.2,
            2.3000000000000003,
            2.4000000000000004,
            2.5,
            2.6,
            2.7
           ],
           "y": [
            1,
            0.9950041652780258,
            0.9800665778412416,
            0.955336489125606,
            0.9210609940028851,
            0.8775825618903728,
            0.8253356149096782,
            0.7648421872844884,
            0.6967067093471654,
            0.6216099682706644,
            0.5403023058681398,
            0.4535961214255773,
            0.3623577544766734,
            0.26749882862458735,
            0.16996714290024081,
            0.0707372016677029,
            -0.029199522301288815,
            -0.12884449429552486,
            -0.2272020946930871,
            -0.3232895668635036,
            -0.4161468365471424,
            -0.5048461045998576,
            -0.5885011172553458,
            -0.6662760212798244,
            -0.7373937155412458,
            -0.8011436155469337,
            -0.8568887533689473,
            -0.9040721420170612
           ]
          }
         ],
         "name": "27"
        },
        {
         "data": [
          {
           "marker": {
            "color": [
             0,
             0.010000000000000002,
             0.04000000000000001,
             0.09000000000000002,
             0.16000000000000003,
             0.25,
             0.3600000000000001,
             0.4900000000000001,
             0.6400000000000001,
             0.81,
             1,
             1.2100000000000002,
             1.4400000000000004,
             1.6900000000000002,
             1.9600000000000004,
             2.25,
             2.5600000000000005,
             2.8900000000000006,
             3.24,
             3.6100000000000003,
             4,
             4.41,
             4.840000000000001,
             5.290000000000001,
             5.760000000000002,
             6.25,
             6.760000000000001,
             7.290000000000001,
             7.840000000000002
            ],
            "colorscale": [
             [
              0,
              "#000004"
             ],
             [
              0.1111111111111111,
              "#1b0c41"
             ],
             [
              0.2222222222222222,
              "#4a0c6b"
             ],
             [
              0.3333333333333333,
              "#781c6d"
             ],
             [
              0.4444444444444444,
              "#a52c60"
             ],
             [
              0.5555555555555556,
              "#cf4446"
             ],
             [
              0.6666666666666666,
              "#ed6925"
             ],
             [
              0.7777777777777778,
              "#fb9b06"
             ],
             [
              0.8888888888888888,
              "#f7d13d"
             ],
             [
              1,
              "#fcffa4"
             ]
            ],
            "size": [
             0,
             4.991670832341407,
             9.933466539753061,
             14.77601033306698,
             19.470917115432528,
             23.971276930210152,
             28.232123669751775,
             32.21088436188456,
             35.86780454497614,
             39.16634548137417,
             42.073549240394826,
             44.56036800307177,
             46.60195429836132,
             48.17790927085965,
             49.27248649942301,
             49.874749330202725,
             49.978680152075256,
             49.58324052262343,
             48.69238154390976,
             47.315004384370724,
             45.46487134128409,
             43.160468332443685,
             40.4248201909795,
             37.285260608836005,
             33.77315902755753,
             29.923607205197822,
             25.775068591073207,
             21.368994011691488,
             16.749407507795233
            ]
           },
           "mode": "lines+markers",
           "name": "h(x)=sin(x)",
           "type": "scatter",
           "x": [
            0,
            0.1,
            0.2,
            0.30000000000000004,
            0.4,
            0.5,
            0.6000000000000001,
            0.7000000000000001,
            0.8,
            0.9,
            1,
            1.1,
            1.2000000000000002,
            1.3,
            1.4000000000000001,
            1.5,
            1.6,
            1.7000000000000002,
            1.8,
            1.9000000000000001,
            2,
            2.1,
            2.2,
            2.3000000000000003,
            2.4000000000000004,
            2.5,
            2.6,
            2.7,
            2.8000000000000003
           ],
           "y": [
            0,
            0.09983341664682815,
            0.19866933079506122,
            0.2955202066613396,
            0.3894183423086505,
            0.479425538604203,
            0.5646424733950355,
            0.6442176872376911,
            0.7173560908995228,
            0.7833269096274834,
            0.8414709848078965,
            0.8912073600614354,
            0.9320390859672264,
            0.963558185417193,
            0.9854497299884603,
            0.9974949866040544,
            0.9995736030415051,
            0.9916648104524686,
            0.9738476308781951,
            0.9463000876874145,
            0.9092974268256817,
            0.8632093666488737,
            0.8084964038195901,
            0.74570521217672,
            0.6754631805511506,
            0.5984721441039564,
            0.5155013718214642,
            0.4273798802338298,
            0.33498815015590466
           ]
          },
          {
           "marker": {
            "color": [
             0,
             0.010000000000000002,
             0.04000000000000001,
             0.09000000000000002,
             0.16000000000000003,
             0.25,
             0.3600000000000001,
             0.4900000000000001,
             0.6400000000000001,
             0.81,
             1,
             1.2100000000000002,
             1.4400000000000004,
             1.6900000000000002,
             1.9600000000000004,
             2.25,
             2.5600000000000005,
             2.8900000000000006,
             3.24,
             3.6100000000000003,
             4,
             4.41,
             4.840000000000001,
             5.290000000000001,
             5.760000000000002,
             6.25,
             6.760000000000001,
             7.290000000000001,
             7.840000000000002
            ],
            "colorscale": [
             [
              0,
              "#000004"
             ],
             [
              0.1111111111111111,
              "#1b0c41"
             ],
             [
              0.2222222222222222,
              "#4a0c6b"
             ],
             [
              0.3333333333333333,
              "#781c6d"
             ],
             [
              0.4444444444444444,
              "#a52c60"
             ],
             [
              0.5555555555555556,
              "#cf4446"
             ],
             [
              0.6666666666666666,
              "#ed6925"
             ],
             [
              0.7777777777777778,
              "#fb9b06"
             ],
             [
              0.8888888888888888,
              "#f7d13d"
             ],
             [
              1,
              "#fcffa4"
             ]
            ],
            "size": [
             50,
             49.75020826390129,
             49.00332889206208,
             47.7668244562803,
             46.05304970014426,
             43.879128094518634,
             41.26678074548391,
             38.24210936422442,
             34.83533546735827,
             31.08049841353322,
             27.01511529340699,
             22.679806071278865,
             18.117887723833668,
             13.374941431229367,
             8.49835714501204,
             3.5368600833851453,
             1.4599761150644408,
             6.442224714776243,
             11.360104734654355,
             16.16447834317518,
             20.80734182735712,
             25.24230522999288,
             29.42505586276729,
             33.31380106399122,
             36.86968577706229,
             40.05718077734669,
             42.84443766844737,
             45.20360710085306,
             47.11111703343291
            ]
           },
           "mode": "lines+markers",
           "name": "k(x)=cos(x)",
           "type": "scatter",
           "x": [
            0,
            0.1,
            0.2,
            0.30000000000000004,
            0.4,
            0.5,
            0.6000000000000001,
            0.7000000000000001,
            0.8,
            0.9,
            1,
            1.1,
            1.2000000000000002,
            1.3,
            1.4000000000000001,
            1.5,
            1.6,
            1.7000000000000002,
            1.8,
            1.9000000000000001,
            2,
            2.1,
            2.2,
            2.3000000000000003,
            2.4000000000000004,
            2.5,
            2.6,
            2.7,
            2.8000000000000003
           ],
           "y": [
            1,
            0.9950041652780258,
            0.9800665778412416,
            0.955336489125606,
            0.9210609940028851,
            0.8775825618903728,
            0.8253356149096782,
            0.7648421872844884,
            0.6967067093471654,
            0.6216099682706644,
            0.5403023058681398,
            0.4535961214255773,
            0.3623577544766734,
            0.26749882862458735,
            0.16996714290024081,
            0.0707372016677029,
            -0.029199522301288815,
            -0.12884449429552486,
            -0.2272020946930871,
            -0.3232895668635036,
            -0.4161468365471424,
            -0.5048461045998576,
            -0.5885011172553458,
            -0.6662760212798244,
            -0.7373937155412458,
            -0.8011436155469337,
            -0.8568887533689473,
            -0.9040721420170612,
            -0.9422223406686583
           ]
          }
         ],
         "name": "28"
        },
        {
         "data": [
          {
           "marker": {
            "color": [
             0,
             0.010000000000000002,
             0.04000000000000001,
             0.09000000000000002,
             0.16000000000000003,
             0.25,
             0.3600000000000001,
             0.4900000000000001,
             0.6400000000000001,
             0.81,
             1,
             1.2100000000000002,
             1.4400000000000004,
             1.6900000000000002,
             1.9600000000000004,
             2.25,
             2.5600000000000005,
             2.8900000000000006,
             3.24,
             3.6100000000000003,
             4,
             4.41,
             4.840000000000001,
             5.290000000000001,
             5.760000000000002,
             6.25,
             6.760000000000001,
             7.290000000000001,
             7.840000000000002,
             8.410000000000002
            ],
            "colorscale": [
             [
              0,
              "#000004"
             ],
             [
              0.1111111111111111,
              "#1b0c41"
             ],
             [
              0.2222222222222222,
              "#4a0c6b"
             ],
             [
              0.3333333333333333,
              "#781c6d"
             ],
             [
              0.4444444444444444,
              "#a52c60"
             ],
             [
              0.5555555555555556,
              "#cf4446"
             ],
             [
              0.6666666666666666,
              "#ed6925"
             ],
             [
              0.7777777777777778,
              "#fb9b06"
             ],
             [
              0.8888888888888888,
              "#f7d13d"
             ],
             [
              1,
              "#fcffa4"
             ]
            ],
            "size": [
             0,
             4.991670832341407,
             9.933466539753061,
             14.77601033306698,
             19.470917115432528,
             23.971276930210152,
             28.232123669751775,
             32.21088436188456,
             35.86780454497614,
             39.16634548137417,
             42.073549240394826,
             44.56036800307177,
             46.60195429836132,
             48.17790927085965,
             49.27248649942301,
             49.874749330202725,
             49.978680152075256,
             49.58324052262343,
             48.69238154390976,
             47.315004384370724,
             45.46487134128409,
             43.160468332443685,
             40.4248201909795,
             37.285260608836005,
             33.77315902755753,
             29.923607205197822,
             25.775068591073207,
             21.368994011691488,
             16.749407507795233,
             11.9624664606991
            ]
           },
           "mode": "lines+markers",
           "name": "h(x)=sin(x)",
           "type": "scatter",
           "x": [
            0,
            0.1,
            0.2,
            0.30000000000000004,
            0.4,
            0.5,
            0.6000000000000001,
            0.7000000000000001,
            0.8,
            0.9,
            1,
            1.1,
            1.2000000000000002,
            1.3,
            1.4000000000000001,
            1.5,
            1.6,
            1.7000000000000002,
            1.8,
            1.9000000000000001,
            2,
            2.1,
            2.2,
            2.3000000000000003,
            2.4000000000000004,
            2.5,
            2.6,
            2.7,
            2.8000000000000003,
            2.9000000000000004
           ],
           "y": [
            0,
            0.09983341664682815,
            0.19866933079506122,
            0.2955202066613396,
            0.3894183423086505,
            0.479425538604203,
            0.5646424733950355,
            0.6442176872376911,
            0.7173560908995228,
            0.7833269096274834,
            0.8414709848078965,
            0.8912073600614354,
            0.9320390859672264,
            0.963558185417193,
            0.9854497299884603,
            0.9974949866040544,
            0.9995736030415051,
            0.9916648104524686,
            0.9738476308781951,
            0.9463000876874145,
            0.9092974268256817,
            0.8632093666488737,
            0.8084964038195901,
            0.74570521217672,
            0.6754631805511506,
            0.5984721441039564,
            0.5155013718214642,
            0.4273798802338298,
            0.33498815015590466,
            0.23924932921398198
           ]
          },
          {
           "marker": {
            "color": [
             0,
             0.010000000000000002,
             0.04000000000000001,
             0.09000000000000002,
             0.16000000000000003,
             0.25,
             0.3600000000000001,
             0.4900000000000001,
             0.6400000000000001,
             0.81,
             1,
             1.2100000000000002,
             1.4400000000000004,
             1.6900000000000002,
             1.9600000000000004,
             2.25,
             2.5600000000000005,
             2.8900000000000006,
             3.24,
             3.6100000000000003,
             4,
             4.41,
             4.840000000000001,
             5.290000000000001,
             5.760000000000002,
             6.25,
             6.760000000000001,
             7.290000000000001,
             7.840000000000002,
             8.410000000000002
            ],
            "colorscale": [
             [
              0,
              "#000004"
             ],
             [
              0.1111111111111111,
              "#1b0c41"
             ],
             [
              0.2222222222222222,
              "#4a0c6b"
             ],
             [
              0.3333333333333333,
              "#781c6d"
             ],
             [
              0.4444444444444444,
              "#a52c60"
             ],
             [
              0.5555555555555556,
              "#cf4446"
             ],
             [
              0.6666666666666666,
              "#ed6925"
             ],
             [
              0.7777777777777778,
              "#fb9b06"
             ],
             [
              0.8888888888888888,
              "#f7d13d"
             ],
             [
              1,
              "#fcffa4"
             ]
            ],
            "size": [
             50,
             49.75020826390129,
             49.00332889206208,
             47.7668244562803,
             46.05304970014426,
             43.879128094518634,
             41.26678074548391,
             38.24210936422442,
             34.83533546735827,
             31.08049841353322,
             27.01511529340699,
             22.679806071278865,
             18.117887723833668,
             13.374941431229367,
             8.49835714501204,
             3.5368600833851453,
             1.4599761150644408,
             6.442224714776243,
             11.360104734654355,
             16.16447834317518,
             20.80734182735712,
             25.24230522999288,
             29.42505586276729,
             33.31380106399122,
             36.86968577706229,
             40.05718077734669,
             42.84443766844737,
             45.20360710085306,
             47.11111703343291,
             48.547908257479534
            ]
           },
           "mode": "lines+markers",
           "name": "k(x)=cos(x)",
           "type": "scatter",
           "x": [
            0,
            0.1,
            0.2,
            0.30000000000000004,
            0.4,
            0.5,
            0.6000000000000001,
            0.7000000000000001,
            0.8,
            0.9,
            1,
            1.1,
            1.2000000000000002,
            1.3,
            1.4000000000000001,
            1.5,
            1.6,
            1.7000000000000002,
            1.8,
            1.9000000000000001,
            2,
            2.1,
            2.2,
            2.3000000000000003,
            2.4000000000000004,
            2.5,
            2.6,
            2.7,
            2.8000000000000003,
            2.9000000000000004
           ],
           "y": [
            1,
            0.9950041652780258,
            0.9800665778412416,
            0.955336489125606,
            0.9210609940028851,
            0.8775825618903728,
            0.8253356149096782,
            0.7648421872844884,
            0.6967067093471654,
            0.6216099682706644,
            0.5403023058681398,
            0.4535961214255773,
            0.3623577544766734,
            0.26749882862458735,
            0.16996714290024081,
            0.0707372016677029,
            -0.029199522301288815,
            -0.12884449429552486,
            -0.2272020946930871,
            -0.3232895668635036,
            -0.4161468365471424,
            -0.5048461045998576,
            -0.5885011172553458,
            -0.6662760212798244,
            -0.7373937155412458,
            -0.8011436155469337,
            -0.8568887533689473,
            -0.9040721420170612,
            -0.9422223406686583,
            -0.9709581651495907
           ]
          }
         ],
         "name": "29"
        },
        {
         "data": [
          {
           "marker": {
            "color": [
             0,
             0.010000000000000002,
             0.04000000000000001,
             0.09000000000000002,
             0.16000000000000003,
             0.25,
             0.3600000000000001,
             0.4900000000000001,
             0.6400000000000001,
             0.81,
             1,
             1.2100000000000002,
             1.4400000000000004,
             1.6900000000000002,
             1.9600000000000004,
             2.25,
             2.5600000000000005,
             2.8900000000000006,
             3.24,
             3.6100000000000003,
             4,
             4.41,
             4.840000000000001,
             5.290000000000001,
             5.760000000000002,
             6.25,
             6.760000000000001,
             7.290000000000001,
             7.840000000000002,
             8.410000000000002,
             9
            ],
            "colorscale": [
             [
              0,
              "#000004"
             ],
             [
              0.1111111111111111,
              "#1b0c41"
             ],
             [
              0.2222222222222222,
              "#4a0c6b"
             ],
             [
              0.3333333333333333,
              "#781c6d"
             ],
             [
              0.4444444444444444,
              "#a52c60"
             ],
             [
              0.5555555555555556,
              "#cf4446"
             ],
             [
              0.6666666666666666,
              "#ed6925"
             ],
             [
              0.7777777777777778,
              "#fb9b06"
             ],
             [
              0.8888888888888888,
              "#f7d13d"
             ],
             [
              1,
              "#fcffa4"
             ]
            ],
            "size": [
             0,
             4.991670832341407,
             9.933466539753061,
             14.77601033306698,
             19.470917115432528,
             23.971276930210152,
             28.232123669751775,
             32.21088436188456,
             35.86780454497614,
             39.16634548137417,
             42.073549240394826,
             44.56036800307177,
             46.60195429836132,
             48.17790927085965,
             49.27248649942301,
             49.874749330202725,
             49.978680152075256,
             49.58324052262343,
             48.69238154390976,
             47.315004384370724,
             45.46487134128409,
             43.160468332443685,
             40.4248201909795,
             37.285260608836005,
             33.77315902755753,
             29.923607205197822,
             25.775068591073207,
             21.368994011691488,
             16.749407507795233,
             11.9624664606991,
             7.0560004029933605
            ]
           },
           "mode": "lines+markers",
           "name": "h(x)=sin(x)",
           "type": "scatter",
           "x": [
            0,
            0.1,
            0.2,
            0.30000000000000004,
            0.4,
            0.5,
            0.6000000000000001,
            0.7000000000000001,
            0.8,
            0.9,
            1,
            1.1,
            1.2000000000000002,
            1.3,
            1.4000000000000001,
            1.5,
            1.6,
            1.7000000000000002,
            1.8,
            1.9000000000000001,
            2,
            2.1,
            2.2,
            2.3000000000000003,
            2.4000000000000004,
            2.5,
            2.6,
            2.7,
            2.8000000000000003,
            2.9000000000000004,
            3
           ],
           "y": [
            0,
            0.09983341664682815,
            0.19866933079506122,
            0.2955202066613396,
            0.3894183423086505,
            0.479425538604203,
            0.5646424733950355,
            0.6442176872376911,
            0.7173560908995228,
            0.7833269096274834,
            0.8414709848078965,
            0.8912073600614354,
            0.9320390859672264,
            0.963558185417193,
            0.9854497299884603,
            0.9974949866040544,
            0.9995736030415051,
            0.9916648104524686,
            0.9738476308781951,
            0.9463000876874145,
            0.9092974268256817,
            0.8632093666488737,
            0.8084964038195901,
            0.74570521217672,
            0.6754631805511506,
            0.5984721441039564,
            0.5155013718214642,
            0.4273798802338298,
            0.33498815015590466,
            0.23924932921398198,
            0.1411200080598672
           ]
          },
          {
           "marker": {
            "color": [
             0,
             0.010000000000000002,
             0.04000000000000001,
             0.09000000000000002,
             0.16000000000000003,
             0.25,
             0.3600000000000001,
             0.4900000000000001,
             0.6400000000000001,
             0.81,
             1,
             1.2100000000000002,
             1.4400000000000004,
             1.6900000000000002,
             1.9600000000000004,
             2.25,
             2.5600000000000005,
             2.8900000000000006,
             3.24,
             3.6100000000000003,
             4,
             4.41,
             4.840000000000001,
             5.290000000000001,
             5.760000000000002,
             6.25,
             6.760000000000001,
             7.290000000000001,
             7.840000000000002,
             8.410000000000002,
             9
            ],
            "colorscale": [
             [
              0,
              "#000004"
             ],
             [
              0.1111111111111111,
              "#1b0c41"
             ],
             [
              0.2222222222222222,
              "#4a0c6b"
             ],
             [
              0.3333333333333333,
              "#781c6d"
             ],
             [
              0.4444444444444444,
              "#a52c60"
             ],
             [
              0.5555555555555556,
              "#cf4446"
             ],
             [
              0.6666666666666666,
              "#ed6925"
             ],
             [
              0.7777777777777778,
              "#fb9b06"
             ],
             [
              0.8888888888888888,
              "#f7d13d"
             ],
             [
              1,
              "#fcffa4"
             ]
            ],
            "size": [
             50,
             49.75020826390129,
             49.00332889206208,
             47.7668244562803,
             46.05304970014426,
             43.879128094518634,
             41.26678074548391,
             38.24210936422442,
             34.83533546735827,
             31.08049841353322,
             27.01511529340699,
             22.679806071278865,
             18.117887723833668,
             13.374941431229367,
             8.49835714501204,
             3.5368600833851453,
             1.4599761150644408,
             6.442224714776243,
             11.360104734654355,
             16.16447834317518,
             20.80734182735712,
             25.24230522999288,
             29.42505586276729,
             33.31380106399122,
             36.86968577706229,
             40.05718077734669,
             42.84443766844737,
             45.20360710085306,
             47.11111703343291,
             48.547908257479534,
             49.49962483002227
            ]
           },
           "mode": "lines+markers",
           "name": "k(x)=cos(x)",
           "type": "scatter",
           "x": [
            0,
            0.1,
            0.2,
            0.30000000000000004,
            0.4,
            0.5,
            0.6000000000000001,
            0.7000000000000001,
            0.8,
            0.9,
            1,
            1.1,
            1.2000000000000002,
            1.3,
            1.4000000000000001,
            1.5,
            1.6,
            1.7000000000000002,
            1.8,
            1.9000000000000001,
            2,
            2.1,
            2.2,
            2.3000000000000003,
            2.4000000000000004,
            2.5,
            2.6,
            2.7,
            2.8000000000000003,
            2.9000000000000004,
            3
           ],
           "y": [
            1,
            0.9950041652780258,
            0.9800665778412416,
            0.955336489125606,
            0.9210609940028851,
            0.8775825618903728,
            0.8253356149096782,
            0.7648421872844884,
            0.6967067093471654,
            0.6216099682706644,
            0.5403023058681398,
            0.4535961214255773,
            0.3623577544766734,
            0.26749882862458735,
            0.16996714290024081,
            0.0707372016677029,
            -0.029199522301288815,
            -0.12884449429552486,
            -0.2272020946930871,
            -0.3232895668635036,
            -0.4161468365471424,
            -0.5048461045998576,
            -0.5885011172553458,
            -0.6662760212798244,
            -0.7373937155412458,
            -0.8011436155469337,
            -0.8568887533689473,
            -0.9040721420170612,
            -0.9422223406686583,
            -0.9709581651495907,
            -0.9899924966004454
           ]
          }
         ],
         "name": "30"
        },
        {
         "data": [
          {
           "marker": {
            "color": [
             0,
             0.010000000000000002,
             0.04000000000000001,
             0.09000000000000002,
             0.16000000000000003,
             0.25,
             0.3600000000000001,
             0.4900000000000001,
             0.6400000000000001,
             0.81,
             1,
             1.2100000000000002,
             1.4400000000000004,
             1.6900000000000002,
             1.9600000000000004,
             2.25,
             2.5600000000000005,
             2.8900000000000006,
             3.24,
             3.6100000000000003,
             4,
             4.41,
             4.840000000000001,
             5.290000000000001,
             5.760000000000002,
             6.25,
             6.760000000000001,
             7.290000000000001,
             7.840000000000002,
             8.410000000000002,
             9,
             9.610000000000001
            ],
            "colorscale": [
             [
              0,
              "#000004"
             ],
             [
              0.1111111111111111,
              "#1b0c41"
             ],
             [
              0.2222222222222222,
              "#4a0c6b"
             ],
             [
              0.3333333333333333,
              "#781c6d"
             ],
             [
              0.4444444444444444,
              "#a52c60"
             ],
             [
              0.5555555555555556,
              "#cf4446"
             ],
             [
              0.6666666666666666,
              "#ed6925"
             ],
             [
              0.7777777777777778,
              "#fb9b06"
             ],
             [
              0.8888888888888888,
              "#f7d13d"
             ],
             [
              1,
              "#fcffa4"
             ]
            ],
            "size": [
             0,
             4.991670832341407,
             9.933466539753061,
             14.77601033306698,
             19.470917115432528,
             23.971276930210152,
             28.232123669751775,
             32.21088436188456,
             35.86780454497614,
             39.16634548137417,
             42.073549240394826,
             44.56036800307177,
             46.60195429836132,
             48.17790927085965,
             49.27248649942301,
             49.874749330202725,
             49.978680152075256,
             49.58324052262343,
             48.69238154390976,
             47.315004384370724,
             45.46487134128409,
             43.160468332443685,
             40.4248201909795,
             37.285260608836005,
             33.77315902755753,
             29.923607205197822,
             25.775068591073207,
             21.368994011691488,
             16.749407507795233,
             11.9624664606991,
             7.0560004029933605,
             2.0790331216645246
            ]
           },
           "mode": "lines+markers",
           "name": "h(x)=sin(x)",
           "type": "scatter",
           "x": [
            0,
            0.1,
            0.2,
            0.30000000000000004,
            0.4,
            0.5,
            0.6000000000000001,
            0.7000000000000001,
            0.8,
            0.9,
            1,
            1.1,
            1.2000000000000002,
            1.3,
            1.4000000000000001,
            1.5,
            1.6,
            1.7000000000000002,
            1.8,
            1.9000000000000001,
            2,
            2.1,
            2.2,
            2.3000000000000003,
            2.4000000000000004,
            2.5,
            2.6,
            2.7,
            2.8000000000000003,
            2.9000000000000004,
            3,
            3.1
           ],
           "y": [
            0,
            0.09983341664682815,
            0.19866933079506122,
            0.2955202066613396,
            0.3894183423086505,
            0.479425538604203,
            0.5646424733950355,
            0.6442176872376911,
            0.7173560908995228,
            0.7833269096274834,
            0.8414709848078965,
            0.8912073600614354,
            0.9320390859672264,
            0.963558185417193,
            0.9854497299884603,
            0.9974949866040544,
            0.9995736030415051,
            0.9916648104524686,
            0.9738476308781951,
            0.9463000876874145,
            0.9092974268256817,
            0.8632093666488737,
            0.8084964038195901,
            0.74570521217672,
            0.6754631805511506,
            0.5984721441039564,
            0.5155013718214642,
            0.4273798802338298,
            0.33498815015590466,
            0.23924932921398198,
            0.1411200080598672,
            0.04158066243329049
           ]
          },
          {
           "marker": {
            "color": [
             0,
             0.010000000000000002,
             0.04000000000000001,
             0.09000000000000002,
             0.16000000000000003,
             0.25,
             0.3600000000000001,
             0.4900000000000001,
             0.6400000000000001,
             0.81,
             1,
             1.2100000000000002,
             1.4400000000000004,
             1.6900000000000002,
             1.9600000000000004,
             2.25,
             2.5600000000000005,
             2.8900000000000006,
             3.24,
             3.6100000000000003,
             4,
             4.41,
             4.840000000000001,
             5.290000000000001,
             5.760000000000002,
             6.25,
             6.760000000000001,
             7.290000000000001,
             7.840000000000002,
             8.410000000000002,
             9,
             9.610000000000001
            ],
            "colorscale": [
             [
              0,
              "#000004"
             ],
             [
              0.1111111111111111,
              "#1b0c41"
             ],
             [
              0.2222222222222222,
              "#4a0c6b"
             ],
             [
              0.3333333333333333,
              "#781c6d"
             ],
             [
              0.4444444444444444,
              "#a52c60"
             ],
             [
              0.5555555555555556,
              "#cf4446"
             ],
             [
              0.6666666666666666,
              "#ed6925"
             ],
             [
              0.7777777777777778,
              "#fb9b06"
             ],
             [
              0.8888888888888888,
              "#f7d13d"
             ],
             [
              1,
              "#fcffa4"
             ]
            ],
            "size": [
             50,
             49.75020826390129,
             49.00332889206208,
             47.7668244562803,
             46.05304970014426,
             43.879128094518634,
             41.26678074548391,
             38.24210936422442,
             34.83533546735827,
             31.08049841353322,
             27.01511529340699,
             22.679806071278865,
             18.117887723833668,
             13.374941431229367,
             8.49835714501204,
             3.5368600833851453,
             1.4599761150644408,
             6.442224714776243,
             11.360104734654355,
             16.16447834317518,
             20.80734182735712,
             25.24230522999288,
             29.42505586276729,
             33.31380106399122,
             36.86968577706229,
             40.05718077734669,
             42.84443766844737,
             45.20360710085306,
             47.11111703343291,
             48.547908257479534,
             49.49962483002227,
             49.95675751366397
            ]
           },
           "mode": "lines+markers",
           "name": "k(x)=cos(x)",
           "type": "scatter",
           "x": [
            0,
            0.1,
            0.2,
            0.30000000000000004,
            0.4,
            0.5,
            0.6000000000000001,
            0.7000000000000001,
            0.8,
            0.9,
            1,
            1.1,
            1.2000000000000002,
            1.3,
            1.4000000000000001,
            1.5,
            1.6,
            1.7000000000000002,
            1.8,
            1.9000000000000001,
            2,
            2.1,
            2.2,
            2.3000000000000003,
            2.4000000000000004,
            2.5,
            2.6,
            2.7,
            2.8000000000000003,
            2.9000000000000004,
            3,
            3.1
           ],
           "y": [
            1,
            0.9950041652780258,
            0.9800665778412416,
            0.955336489125606,
            0.9210609940028851,
            0.8775825618903728,
            0.8253356149096782,
            0.7648421872844884,
            0.6967067093471654,
            0.6216099682706644,
            0.5403023058681398,
            0.4535961214255773,
            0.3623577544766734,
            0.26749882862458735,
            0.16996714290024081,
            0.0707372016677029,
            -0.029199522301288815,
            -0.12884449429552486,
            -0.2272020946930871,
            -0.3232895668635036,
            -0.4161468365471424,
            -0.5048461045998576,
            -0.5885011172553458,
            -0.6662760212798244,
            -0.7373937155412458,
            -0.8011436155469337,
            -0.8568887533689473,
            -0.9040721420170612,
            -0.9422223406686583,
            -0.9709581651495907,
            -0.9899924966004454,
            -0.9991351502732795
           ]
          }
         ],
         "name": "31"
        },
        {
         "data": [
          {
           "marker": {
            "color": [
             0,
             0.010000000000000002,
             0.04000000000000001,
             0.09000000000000002,
             0.16000000000000003,
             0.25,
             0.3600000000000001,
             0.4900000000000001,
             0.6400000000000001,
             0.81,
             1,
             1.2100000000000002,
             1.4400000000000004,
             1.6900000000000002,
             1.9600000000000004,
             2.25,
             2.5600000000000005,
             2.8900000000000006,
             3.24,
             3.6100000000000003,
             4,
             4.41,
             4.840000000000001,
             5.290000000000001,
             5.760000000000002,
             6.25,
             6.760000000000001,
             7.290000000000001,
             7.840000000000002,
             8.410000000000002,
             9,
             9.610000000000001,
             10.240000000000002
            ],
            "colorscale": [
             [
              0,
              "#000004"
             ],
             [
              0.1111111111111111,
              "#1b0c41"
             ],
             [
              0.2222222222222222,
              "#4a0c6b"
             ],
             [
              0.3333333333333333,
              "#781c6d"
             ],
             [
              0.4444444444444444,
              "#a52c60"
             ],
             [
              0.5555555555555556,
              "#cf4446"
             ],
             [
              0.6666666666666666,
              "#ed6925"
             ],
             [
              0.7777777777777778,
              "#fb9b06"
             ],
             [
              0.8888888888888888,
              "#f7d13d"
             ],
             [
              1,
              "#fcffa4"
             ]
            ],
            "size": [
             0,
             4.991670832341407,
             9.933466539753061,
             14.77601033306698,
             19.470917115432528,
             23.971276930210152,
             28.232123669751775,
             32.21088436188456,
             35.86780454497614,
             39.16634548137417,
             42.073549240394826,
             44.56036800307177,
             46.60195429836132,
             48.17790927085965,
             49.27248649942301,
             49.874749330202725,
             49.978680152075256,
             49.58324052262343,
             48.69238154390976,
             47.315004384370724,
             45.46487134128409,
             43.160468332443685,
             40.4248201909795,
             37.285260608836005,
             33.77315902755753,
             29.923607205197822,
             25.775068591073207,
             21.368994011691488,
             16.749407507795233,
             11.9624664606991,
             7.0560004029933605,
             2.0790331216645246,
             2.9187071713790043
            ]
           },
           "mode": "lines+markers",
           "name": "h(x)=sin(x)",
           "type": "scatter",
           "x": [
            0,
            0.1,
            0.2,
            0.30000000000000004,
            0.4,
            0.5,
            0.6000000000000001,
            0.7000000000000001,
            0.8,
            0.9,
            1,
            1.1,
            1.2000000000000002,
            1.3,
            1.4000000000000001,
            1.5,
            1.6,
            1.7000000000000002,
            1.8,
            1.9000000000000001,
            2,
            2.1,
            2.2,
            2.3000000000000003,
            2.4000000000000004,
            2.5,
            2.6,
            2.7,
            2.8000000000000003,
            2.9000000000000004,
            3,
            3.1,
            3.2
           ],
           "y": [
            0,
            0.09983341664682815,
            0.19866933079506122,
            0.2955202066613396,
            0.3894183423086505,
            0.479425538604203,
            0.5646424733950355,
            0.6442176872376911,
            0.7173560908995228,
            0.7833269096274834,
            0.8414709848078965,
            0.8912073600614354,
            0.9320390859672264,
            0.963558185417193,
            0.9854497299884603,
            0.9974949866040544,
            0.9995736030415051,
            0.9916648104524686,
            0.9738476308781951,
            0.9463000876874145,
            0.9092974268256817,
            0.8632093666488737,
            0.8084964038195901,
            0.74570521217672,
            0.6754631805511506,
            0.5984721441039564,
            0.5155013718214642,
            0.4273798802338298,
            0.33498815015590466,
            0.23924932921398198,
            0.1411200080598672,
            0.04158066243329049,
            -0.058374143427580086
           ]
          },
          {
           "marker": {
            "color": [
             0,
             0.010000000000000002,
             0.04000000000000001,
             0.09000000000000002,
             0.16000000000000003,
             0.25,
             0.3600000000000001,
             0.4900000000000001,
             0.6400000000000001,
             0.81,
             1,
             1.2100000000000002,
             1.4400000000000004,
             1.6900000000000002,
             1.9600000000000004,
             2.25,
             2.5600000000000005,
             2.8900000000000006,
             3.24,
             3.6100000000000003,
             4,
             4.41,
             4.840000000000001,
             5.290000000000001,
             5.760000000000002,
             6.25,
             6.760000000000001,
             7.290000000000001,
             7.840000000000002,
             8.410000000000002,
             9,
             9.610000000000001,
             10.240000000000002
            ],
            "colorscale": [
             [
              0,
              "#000004"
             ],
             [
              0.1111111111111111,
              "#1b0c41"
             ],
             [
              0.2222222222222222,
              "#4a0c6b"
             ],
             [
              0.3333333333333333,
              "#781c6d"
             ],
             [
              0.4444444444444444,
              "#a52c60"
             ],
             [
              0.5555555555555556,
              "#cf4446"
             ],
             [
              0.6666666666666666,
              "#ed6925"
             ],
             [
              0.7777777777777778,
              "#fb9b06"
             ],
             [
              0.8888888888888888,
              "#f7d13d"
             ],
             [
              1,
              "#fcffa4"
             ]
            ],
            "size": [
             50,
             49.75020826390129,
             49.00332889206208,
             47.7668244562803,
             46.05304970014426,
             43.879128094518634,
             41.26678074548391,
             38.24210936422442,
             34.83533546735827,
             31.08049841353322,
             27.01511529340699,
             22.679806071278865,
             18.117887723833668,
             13.374941431229367,
             8.49835714501204,
             3.5368600833851453,
             1.4599761150644408,
             6.442224714776243,
             11.360104734654355,
             16.16447834317518,
             20.80734182735712,
             25.24230522999288,
             29.42505586276729,
             33.31380106399122,
             36.86968577706229,
             40.05718077734669,
             42.84443766844737,
             45.20360710085306,
             47.11111703343291,
             48.547908257479534,
             49.49962483002227,
             49.95675751366397,
             49.914738789737655
            ]
           },
           "mode": "lines+markers",
           "name": "k(x)=cos(x)",
           "type": "scatter",
           "x": [
            0,
            0.1,
            0.2,
            0.30000000000000004,
            0.4,
            0.5,
            0.6000000000000001,
            0.7000000000000001,
            0.8,
            0.9,
            1,
            1.1,
            1.2000000000000002,
            1.3,
            1.4000000000000001,
            1.5,
            1.6,
            1.7000000000000002,
            1.8,
            1.9000000000000001,
            2,
            2.1,
            2.2,
            2.3000000000000003,
            2.4000000000000004,
            2.5,
            2.6,
            2.7,
            2.8000000000000003,
            2.9000000000000004,
            3,
            3.1,
            3.2
           ],
           "y": [
            1,
            0.9950041652780258,
            0.9800665778412416,
            0.955336489125606,
            0.9210609940028851,
            0.8775825618903728,
            0.8253356149096782,
            0.7648421872844884,
            0.6967067093471654,
            0.6216099682706644,
            0.5403023058681398,
            0.4535961214255773,
            0.3623577544766734,
            0.26749882862458735,
            0.16996714290024081,
            0.0707372016677029,
            -0.029199522301288815,
            -0.12884449429552486,
            -0.2272020946930871,
            -0.3232895668635036,
            -0.4161468365471424,
            -0.5048461045998576,
            -0.5885011172553458,
            -0.6662760212798244,
            -0.7373937155412458,
            -0.8011436155469337,
            -0.8568887533689473,
            -0.9040721420170612,
            -0.9422223406686583,
            -0.9709581651495907,
            -0.9899924966004454,
            -0.9991351502732795,
            -0.9982947757947531
           ]
          }
         ],
         "name": "32"
        },
        {
         "data": [
          {
           "marker": {
            "color": [
             0,
             0.010000000000000002,
             0.04000000000000001,
             0.09000000000000002,
             0.16000000000000003,
             0.25,
             0.3600000000000001,
             0.4900000000000001,
             0.6400000000000001,
             0.81,
             1,
             1.2100000000000002,
             1.4400000000000004,
             1.6900000000000002,
             1.9600000000000004,
             2.25,
             2.5600000000000005,
             2.8900000000000006,
             3.24,
             3.6100000000000003,
             4,
             4.41,
             4.840000000000001,
             5.290000000000001,
             5.760000000000002,
             6.25,
             6.760000000000001,
             7.290000000000001,
             7.840000000000002,
             8.410000000000002,
             9,
             9.610000000000001,
             10.240000000000002,
             10.890000000000002
            ],
            "colorscale": [
             [
              0,
              "#000004"
             ],
             [
              0.1111111111111111,
              "#1b0c41"
             ],
             [
              0.2222222222222222,
              "#4a0c6b"
             ],
             [
              0.3333333333333333,
              "#781c6d"
             ],
             [
              0.4444444444444444,
              "#a52c60"
             ],
             [
              0.5555555555555556,
              "#cf4446"
             ],
             [
              0.6666666666666666,
              "#ed6925"
             ],
             [
              0.7777777777777778,
              "#fb9b06"
             ],
             [
              0.8888888888888888,
              "#f7d13d"
             ],
             [
              1,
              "#fcffa4"
             ]
            ],
            "size": [
             0,
             4.991670832341407,
             9.933466539753061,
             14.77601033306698,
             19.470917115432528,
             23.971276930210152,
             28.232123669751775,
             32.21088436188456,
             35.86780454497614,
             39.16634548137417,
             42.073549240394826,
             44.56036800307177,
             46.60195429836132,
             48.17790927085965,
             49.27248649942301,
             49.874749330202725,
             49.978680152075256,
             49.58324052262343,
             48.69238154390976,
             47.315004384370724,
             45.46487134128409,
             43.160468332443685,
             40.4248201909795,
             37.285260608836005,
             33.77315902755753,
             29.923607205197822,
             25.775068591073207,
             21.368994011691488,
             16.749407507795233,
             11.9624664606991,
             7.0560004029933605,
             2.0790331216645246,
             2.9187071713790043,
             7.887284707162433
            ]
           },
           "mode": "lines+markers",
           "name": "h(x)=sin(x)",
           "type": "scatter",
           "x": [
            0,
            0.1,
            0.2,
            0.30000000000000004,
            0.4,
            0.5,
            0.6000000000000001,
            0.7000000000000001,
            0.8,
            0.9,
            1,
            1.1,
            1.2000000000000002,
            1.3,
            1.4000000000000001,
            1.5,
            1.6,
            1.7000000000000002,
            1.8,
            1.9000000000000001,
            2,
            2.1,
            2.2,
            2.3000000000000003,
            2.4000000000000004,
            2.5,
            2.6,
            2.7,
            2.8000000000000003,
            2.9000000000000004,
            3,
            3.1,
            3.2,
            3.3000000000000003
           ],
           "y": [
            0,
            0.09983341664682815,
            0.19866933079506122,
            0.2955202066613396,
            0.3894183423086505,
            0.479425538604203,
            0.5646424733950355,
            0.6442176872376911,
            0.7173560908995228,
            0.7833269096274834,
            0.8414709848078965,
            0.8912073600614354,
            0.9320390859672264,
            0.963558185417193,
            0.9854497299884603,
            0.9974949866040544,
            0.9995736030415051,
            0.9916648104524686,
            0.9738476308781951,
            0.9463000876874145,
            0.9092974268256817,
            0.8632093666488737,
            0.8084964038195901,
            0.74570521217672,
            0.6754631805511506,
            0.5984721441039564,
            0.5155013718214642,
            0.4273798802338298,
            0.33498815015590466,
            0.23924932921398198,
            0.1411200080598672,
            0.04158066243329049,
            -0.058374143427580086,
            -0.15774569414324865
           ]
          },
          {
           "marker": {
            "color": [
             0,
             0.010000000000000002,
             0.04000000000000001,
             0.09000000000000002,
             0.16000000000000003,
             0.25,
             0.3600000000000001,
             0.4900000000000001,
             0.6400000000000001,
             0.81,
             1,
             1.2100000000000002,
             1.4400000000000004,
             1.6900000000000002,
             1.9600000000000004,
             2.25,
             2.5600000000000005,
             2.8900000000000006,
             3.24,
             3.6100000000000003,
             4,
             4.41,
             4.840000000000001,
             5.290000000000001,
             5.760000000000002,
             6.25,
             6.760000000000001,
             7.290000000000001,
             7.840000000000002,
             8.410000000000002,
             9,
             9.610000000000001,
             10.240000000000002,
             10.890000000000002
            ],
            "colorscale": [
             [
              0,
              "#000004"
             ],
             [
              0.1111111111111111,
              "#1b0c41"
             ],
             [
              0.2222222222222222,
              "#4a0c6b"
             ],
             [
              0.3333333333333333,
              "#781c6d"
             ],
             [
              0.4444444444444444,
              "#a52c60"
             ],
             [
              0.5555555555555556,
              "#cf4446"
             ],
             [
              0.6666666666666666,
              "#ed6925"
             ],
             [
              0.7777777777777778,
              "#fb9b06"
             ],
             [
              0.8888888888888888,
              "#f7d13d"
             ],
             [
              1,
              "#fcffa4"
             ]
            ],
            "size": [
             50,
             49.75020826390129,
             49.00332889206208,
             47.7668244562803,
             46.05304970014426,
             43.879128094518634,
             41.26678074548391,
             38.24210936422442,
             34.83533546735827,
             31.08049841353322,
             27.01511529340699,
             22.679806071278865,
             18.117887723833668,
             13.374941431229367,
             8.49835714501204,
             3.5368600833851453,
             1.4599761150644408,
             6.442224714776243,
             11.360104734654355,
             16.16447834317518,
             20.80734182735712,
             25.24230522999288,
             29.42505586276729,
             33.31380106399122,
             36.86968577706229,
             40.05718077734669,
             42.84443766844737,
             45.20360710085306,
             47.11111703343291,
             48.547908257479534,
             49.49962483002227,
             49.95675751366397,
             49.914738789737655,
             49.37398849544324
            ]
           },
           "mode": "lines+markers",
           "name": "k(x)=cos(x)",
           "type": "scatter",
           "x": [
            0,
            0.1,
            0.2,
            0.30000000000000004,
            0.4,
            0.5,
            0.6000000000000001,
            0.7000000000000001,
            0.8,
            0.9,
            1,
            1.1,
            1.2000000000000002,
            1.3,
            1.4000000000000001,
            1.5,
            1.6,
            1.7000000000000002,
            1.8,
            1.9000000000000001,
            2,
            2.1,
            2.2,
            2.3000000000000003,
            2.4000000000000004,
            2.5,
            2.6,
            2.7,
            2.8000000000000003,
            2.9000000000000004,
            3,
            3.1,
            3.2,
            3.3000000000000003
           ],
           "y": [
            1,
            0.9950041652780258,
            0.9800665778412416,
            0.955336489125606,
            0.9210609940028851,
            0.8775825618903728,
            0.8253356149096782,
            0.7648421872844884,
            0.6967067093471654,
            0.6216099682706644,
            0.5403023058681398,
            0.4535961214255773,
            0.3623577544766734,
            0.26749882862458735,
            0.16996714290024081,
            0.0707372016677029,
            -0.029199522301288815,
            -0.12884449429552486,
            -0.2272020946930871,
            -0.3232895668635036,
            -0.4161468365471424,
            -0.5048461045998576,
            -0.5885011172553458,
            -0.6662760212798244,
            -0.7373937155412458,
            -0.8011436155469337,
            -0.8568887533689473,
            -0.9040721420170612,
            -0.9422223406686583,
            -0.9709581651495907,
            -0.9899924966004454,
            -0.9991351502732795,
            -0.9982947757947531,
            -0.9874797699088649
           ]
          }
         ],
         "name": "33"
        },
        {
         "data": [
          {
           "marker": {
            "color": [
             0,
             0.010000000000000002,
             0.04000000000000001,
             0.09000000000000002,
             0.16000000000000003,
             0.25,
             0.3600000000000001,
             0.4900000000000001,
             0.6400000000000001,
             0.81,
             1,
             1.2100000000000002,
             1.4400000000000004,
             1.6900000000000002,
             1.9600000000000004,
             2.25,
             2.5600000000000005,
             2.8900000000000006,
             3.24,
             3.6100000000000003,
             4,
             4.41,
             4.840000000000001,
             5.290000000000001,
             5.760000000000002,
             6.25,
             6.760000000000001,
             7.290000000000001,
             7.840000000000002,
             8.410000000000002,
             9,
             9.610000000000001,
             10.240000000000002,
             10.890000000000002,
             11.560000000000002
            ],
            "colorscale": [
             [
              0,
              "#000004"
             ],
             [
              0.1111111111111111,
              "#1b0c41"
             ],
             [
              0.2222222222222222,
              "#4a0c6b"
             ],
             [
              0.3333333333333333,
              "#781c6d"
             ],
             [
              0.4444444444444444,
              "#a52c60"
             ],
             [
              0.5555555555555556,
              "#cf4446"
             ],
             [
              0.6666666666666666,
              "#ed6925"
             ],
             [
              0.7777777777777778,
              "#fb9b06"
             ],
             [
              0.8888888888888888,
              "#f7d13d"
             ],
             [
              1,
              "#fcffa4"
             ]
            ],
            "size": [
             0,
             4.991670832341407,
             9.933466539753061,
             14.77601033306698,
             19.470917115432528,
             23.971276930210152,
             28.232123669751775,
             32.21088436188456,
             35.86780454497614,
             39.16634548137417,
             42.073549240394826,
             44.56036800307177,
             46.60195429836132,
             48.17790927085965,
             49.27248649942301,
             49.874749330202725,
             49.978680152075256,
             49.58324052262343,
             48.69238154390976,
             47.315004384370724,
             45.46487134128409,
             43.160468332443685,
             40.4248201909795,
             37.285260608836005,
             33.77315902755753,
             29.923607205197822,
             25.775068591073207,
             21.368994011691488,
             16.749407507795233,
             11.9624664606991,
             7.0560004029933605,
             2.0790331216645246,
             2.9187071713790043,
             7.887284707162433,
             12.777055101341583
            ]
           },
           "mode": "lines+markers",
           "name": "h(x)=sin(x)",
           "type": "scatter",
           "x": [
            0,
            0.1,
            0.2,
            0.30000000000000004,
            0.4,
            0.5,
            0.6000000000000001,
            0.7000000000000001,
            0.8,
            0.9,
            1,
            1.1,
            1.2000000000000002,
            1.3,
            1.4000000000000001,
            1.5,
            1.6,
            1.7000000000000002,
            1.8,
            1.9000000000000001,
            2,
            2.1,
            2.2,
            2.3000000000000003,
            2.4000000000000004,
            2.5,
            2.6,
            2.7,
            2.8000000000000003,
            2.9000000000000004,
            3,
            3.1,
            3.2,
            3.3000000000000003,
            3.4000000000000004
           ],
           "y": [
            0,
            0.09983341664682815,
            0.19866933079506122,
            0.2955202066613396,
            0.3894183423086505,
            0.479425538604203,
            0.5646424733950355,
            0.6442176872376911,
            0.7173560908995228,
            0.7833269096274834,
            0.8414709848078965,
            0.8912073600614354,
            0.9320390859672264,
            0.963558185417193,
            0.9854497299884603,
            0.9974949866040544,
            0.9995736030415051,
            0.9916648104524686,
            0.9738476308781951,
            0.9463000876874145,
            0.9092974268256817,
            0.8632093666488737,
            0.8084964038195901,
            0.74570521217672,
            0.6754631805511506,
            0.5984721441039564,
            0.5155013718214642,
            0.4273798802338298,
            0.33498815015590466,
            0.23924932921398198,
            0.1411200080598672,
            0.04158066243329049,
            -0.058374143427580086,
            -0.15774569414324865,
            -0.25554110202683167
           ]
          },
          {
           "marker": {
            "color": [
             0,
             0.010000000000000002,
             0.04000000000000001,
             0.09000000000000002,
             0.16000000000000003,
             0.25,
             0.3600000000000001,
             0.4900000000000001,
             0.6400000000000001,
             0.81,
             1,
             1.2100000000000002,
             1.4400000000000004,
             1.6900000000000002,
             1.9600000000000004,
             2.25,
             2.5600000000000005,
             2.8900000000000006,
             3.24,
             3.6100000000000003,
             4,
             4.41,
             4.840000000000001,
             5.290000000000001,
             5.760000000000002,
             6.25,
             6.760000000000001,
             7.290000000000001,
             7.840000000000002,
             8.410000000000002,
             9,
             9.610000000000001,
             10.240000000000002,
             10.890000000000002,
             11.560000000000002
            ],
            "colorscale": [
             [
              0,
              "#000004"
             ],
             [
              0.1111111111111111,
              "#1b0c41"
             ],
             [
              0.2222222222222222,
              "#4a0c6b"
             ],
             [
              0.3333333333333333,
              "#781c6d"
             ],
             [
              0.4444444444444444,
              "#a52c60"
             ],
             [
              0.5555555555555556,
              "#cf4446"
             ],
             [
              0.6666666666666666,
              "#ed6925"
             ],
             [
              0.7777777777777778,
              "#fb9b06"
             ],
             [
              0.8888888888888888,
              "#f7d13d"
             ],
             [
              1,
              "#fcffa4"
             ]
            ],
            "size": [
             50,
             49.75020826390129,
             49.00332889206208,
             47.7668244562803,
             46.05304970014426,
             43.879128094518634,
             41.26678074548391,
             38.24210936422442,
             34.83533546735827,
             31.08049841353322,
             27.01511529340699,
             22.679806071278865,
             18.117887723833668,
             13.374941431229367,
             8.49835714501204,
             3.5368600833851453,
             1.4599761150644408,
             6.442224714776243,
             11.360104734654355,
             16.16447834317518,
             20.80734182735712,
             25.24230522999288,
             29.42505586276729,
             33.31380106399122,
             36.86968577706229,
             40.05718077734669,
             42.84443766844737,
             45.20360710085306,
             47.11111703343291,
             48.547908257479534,
             49.49962483002227,
             49.95675751366397,
             49.914738789737655,
             49.37398849544324,
             48.33990962897305
            ]
           },
           "mode": "lines+markers",
           "name": "k(x)=cos(x)",
           "type": "scatter",
           "x": [
            0,
            0.1,
            0.2,
            0.30000000000000004,
            0.4,
            0.5,
            0.6000000000000001,
            0.7000000000000001,
            0.8,
            0.9,
            1,
            1.1,
            1.2000000000000002,
            1.3,
            1.4000000000000001,
            1.5,
            1.6,
            1.7000000000000002,
            1.8,
            1.9000000000000001,
            2,
            2.1,
            2.2,
            2.3000000000000003,
            2.4000000000000004,
            2.5,
            2.6,
            2.7,
            2.8000000000000003,
            2.9000000000000004,
            3,
            3.1,
            3.2,
            3.3000000000000003,
            3.4000000000000004
           ],
           "y": [
            1,
            0.9950041652780258,
            0.9800665778412416,
            0.955336489125606,
            0.9210609940028851,
            0.8775825618903728,
            0.8253356149096782,
            0.7648421872844884,
            0.6967067093471654,
            0.6216099682706644,
            0.5403023058681398,
            0.4535961214255773,
            0.3623577544766734,
            0.26749882862458735,
            0.16996714290024081,
            0.0707372016677029,
            -0.029199522301288815,
            -0.12884449429552486,
            -0.2272020946930871,
            -0.3232895668635036,
            -0.4161468365471424,
            -0.5048461045998576,
            -0.5885011172553458,
            -0.6662760212798244,
            -0.7373937155412458,
            -0.8011436155469337,
            -0.8568887533689473,
            -0.9040721420170612,
            -0.9422223406686583,
            -0.9709581651495907,
            -0.9899924966004454,
            -0.9991351502732795,
            -0.9982947757947531,
            -0.9874797699088649,
            -0.9667981925794609
           ]
          }
         ],
         "name": "34"
        },
        {
         "data": [
          {
           "marker": {
            "color": [
             0,
             0.010000000000000002,
             0.04000000000000001,
             0.09000000000000002,
             0.16000000000000003,
             0.25,
             0.3600000000000001,
             0.4900000000000001,
             0.6400000000000001,
             0.81,
             1,
             1.2100000000000002,
             1.4400000000000004,
             1.6900000000000002,
             1.9600000000000004,
             2.25,
             2.5600000000000005,
             2.8900000000000006,
             3.24,
             3.6100000000000003,
             4,
             4.41,
             4.840000000000001,
             5.290000000000001,
             5.760000000000002,
             6.25,
             6.760000000000001,
             7.290000000000001,
             7.840000000000002,
             8.410000000000002,
             9,
             9.610000000000001,
             10.240000000000002,
             10.890000000000002,
             11.560000000000002,
             12.25
            ],
            "colorscale": [
             [
              0,
              "#000004"
             ],
             [
              0.1111111111111111,
              "#1b0c41"
             ],
             [
              0.2222222222222222,
              "#4a0c6b"
             ],
             [
              0.3333333333333333,
              "#781c6d"
             ],
             [
              0.4444444444444444,
              "#a52c60"
             ],
             [
              0.5555555555555556,
              "#cf4446"
             ],
             [
              0.6666666666666666,
              "#ed6925"
             ],
             [
              0.7777777777777778,
              "#fb9b06"
             ],
             [
              0.8888888888888888,
              "#f7d13d"
             ],
             [
              1,
              "#fcffa4"
             ]
            ],
            "size": [
             0,
             4.991670832341407,
             9.933466539753061,
             14.77601033306698,
             19.470917115432528,
             23.971276930210152,
             28.232123669751775,
             32.21088436188456,
             35.86780454497614,
             39.16634548137417,
             42.073549240394826,
             44.56036800307177,
             46.60195429836132,
             48.17790927085965,
             49.27248649942301,
             49.874749330202725,
             49.978680152075256,
             49.58324052262343,
             48.69238154390976,
             47.315004384370724,
             45.46487134128409,
             43.160468332443685,
             40.4248201909795,
             37.285260608836005,
             33.77315902755753,
             29.923607205197822,
             25.775068591073207,
             21.368994011691488,
             16.749407507795233,
             11.9624664606991,
             7.0560004029933605,
             2.0790331216645246,
             2.9187071713790043,
             7.887284707162433,
             12.777055101341583,
             17.53916138448099
            ]
           },
           "mode": "lines+markers",
           "name": "h(x)=sin(x)",
           "type": "scatter",
           "x": [
            0,
            0.1,
            0.2,
            0.30000000000000004,
            0.4,
            0.5,
            0.6000000000000001,
            0.7000000000000001,
            0.8,
            0.9,
            1,
            1.1,
            1.2000000000000002,
            1.3,
            1.4000000000000001,
            1.5,
            1.6,
            1.7000000000000002,
            1.8,
            1.9000000000000001,
            2,
            2.1,
            2.2,
            2.3000000000000003,
            2.4000000000000004,
            2.5,
            2.6,
            2.7,
            2.8000000000000003,
            2.9000000000000004,
            3,
            3.1,
            3.2,
            3.3000000000000003,
            3.4000000000000004,
            3.5
           ],
           "y": [
            0,
            0.09983341664682815,
            0.19866933079506122,
            0.2955202066613396,
            0.3894183423086505,
            0.479425538604203,
            0.5646424733950355,
            0.6442176872376911,
            0.7173560908995228,
            0.7833269096274834,
            0.8414709848078965,
            0.8912073600614354,
            0.9320390859672264,
            0.963558185417193,
            0.9854497299884603,
            0.9974949866040544,
            0.9995736030415051,
            0.9916648104524686,
            0.9738476308781951,
            0.9463000876874145,
            0.9092974268256817,
            0.8632093666488737,
            0.8084964038195901,
            0.74570521217672,
            0.6754631805511506,
            0.5984721441039564,
            0.5155013718214642,
            0.4273798802338298,
            0.33498815015590466,
            0.23924932921398198,
            0.1411200080598672,
            0.04158066243329049,
            -0.058374143427580086,
            -0.15774569414324865,
            -0.25554110202683167,
            -0.35078322768961984
           ]
          },
          {
           "marker": {
            "color": [
             0,
             0.010000000000000002,
             0.04000000000000001,
             0.09000000000000002,
             0.16000000000000003,
             0.25,
             0.3600000000000001,
             0.4900000000000001,
             0.6400000000000001,
             0.81,
             1,
             1.2100000000000002,
             1.4400000000000004,
             1.6900000000000002,
             1.9600000000000004,
             2.25,
             2.5600000000000005,
             2.8900000000000006,
             3.24,
             3.6100000000000003,
             4,
             4.41,
             4.840000000000001,
             5.290000000000001,
             5.760000000000002,
             6.25,
             6.760000000000001,
             7.290000000000001,
             7.840000000000002,
             8.410000000000002,
             9,
             9.610000000000001,
             10.240000000000002,
             10.890000000000002,
             11.560000000000002,
             12.25
            ],
            "colorscale": [
             [
              0,
              "#000004"
             ],
             [
              0.1111111111111111,
              "#1b0c41"
             ],
             [
              0.2222222222222222,
              "#4a0c6b"
             ],
             [
              0.3333333333333333,
              "#781c6d"
             ],
             [
              0.4444444444444444,
              "#a52c60"
             ],
             [
              0.5555555555555556,
              "#cf4446"
             ],
             [
              0.6666666666666666,
              "#ed6925"
             ],
             [
              0.7777777777777778,
              "#fb9b06"
             ],
             [
              0.8888888888888888,
              "#f7d13d"
             ],
             [
              1,
              "#fcffa4"
             ]
            ],
            "size": [
             50,
             49.75020826390129,
             49.00332889206208,
             47.7668244562803,
             46.05304970014426,
             43.879128094518634,
             41.26678074548391,
             38.24210936422442,
             34.83533546735827,
             31.08049841353322,
             27.01511529340699,
             22.679806071278865,
             18.117887723833668,
             13.374941431229367,
             8.49835714501204,
             3.5368600833851453,
             1.4599761150644408,
             6.442224714776243,
             11.360104734654355,
             16.16447834317518,
             20.80734182735712,
             25.24230522999288,
             29.42505586276729,
             33.31380106399122,
             36.86968577706229,
             40.05718077734669,
             42.84443766844737,
             45.20360710085306,
             47.11111703343291,
             48.547908257479534,
             49.49962483002227,
             49.95675751366397,
             49.914738789737655,
             49.37398849544324,
             48.33990962897305,
             46.822834364539816
            ]
           },
           "mode": "lines+markers",
           "name": "k(x)=cos(x)",
           "type": "scatter",
           "x": [
            0,
            0.1,
            0.2,
            0.30000000000000004,
            0.4,
            0.5,
            0.6000000000000001,
            0.7000000000000001,
            0.8,
            0.9,
            1,
            1.1,
            1.2000000000000002,
            1.3,
            1.4000000000000001,
            1.5,
            1.6,
            1.7000000000000002,
            1.8,
            1.9000000000000001,
            2,
            2.1,
            2.2,
            2.3000000000000003,
            2.4000000000000004,
            2.5,
            2.6,
            2.7,
            2.8000000000000003,
            2.9000000000000004,
            3,
            3.1,
            3.2,
            3.3000000000000003,
            3.4000000000000004,
            3.5
           ],
           "y": [
            1,
            0.9950041652780258,
            0.9800665778412416,
            0.955336489125606,
            0.9210609940028851,
            0.8775825618903728,
            0.8253356149096782,
            0.7648421872844884,
            0.6967067093471654,
            0.6216099682706644,
            0.5403023058681398,
            0.4535961214255773,
            0.3623577544766734,
            0.26749882862458735,
            0.16996714290024081,
            0.0707372016677029,
            -0.029199522301288815,
            -0.12884449429552486,
            -0.2272020946930871,
            -0.3232895668635036,
            -0.4161468365471424,
            -0.5048461045998576,
            -0.5885011172553458,
            -0.6662760212798244,
            -0.7373937155412458,
            -0.8011436155469337,
            -0.8568887533689473,
            -0.9040721420170612,
            -0.9422223406686583,
            -0.9709581651495907,
            -0.9899924966004454,
            -0.9991351502732795,
            -0.9982947757947531,
            -0.9874797699088649,
            -0.9667981925794609,
            -0.9364566872907963
           ]
          }
         ],
         "name": "35"
        },
        {
         "data": [
          {
           "marker": {
            "color": [
             0,
             0.010000000000000002,
             0.04000000000000001,
             0.09000000000000002,
             0.16000000000000003,
             0.25,
             0.3600000000000001,
             0.4900000000000001,
             0.6400000000000001,
             0.81,
             1,
             1.2100000000000002,
             1.4400000000000004,
             1.6900000000000002,
             1.9600000000000004,
             2.25,
             2.5600000000000005,
             2.8900000000000006,
             3.24,
             3.6100000000000003,
             4,
             4.41,
             4.840000000000001,
             5.290000000000001,
             5.760000000000002,
             6.25,
             6.760000000000001,
             7.290000000000001,
             7.840000000000002,
             8.410000000000002,
             9,
             9.610000000000001,
             10.240000000000002,
             10.890000000000002,
             11.560000000000002,
             12.25,
             12.96
            ],
            "colorscale": [
             [
              0,
              "#000004"
             ],
             [
              0.1111111111111111,
              "#1b0c41"
             ],
             [
              0.2222222222222222,
              "#4a0c6b"
             ],
             [
              0.3333333333333333,
              "#781c6d"
             ],
             [
              0.4444444444444444,
              "#a52c60"
             ],
             [
              0.5555555555555556,
              "#cf4446"
             ],
             [
              0.6666666666666666,
              "#ed6925"
             ],
             [
              0.7777777777777778,
              "#fb9b06"
             ],
             [
              0.8888888888888888,
              "#f7d13d"
             ],
             [
              1,
              "#fcffa4"
             ]
            ],
            "size": [
             0,
             4.991670832341407,
             9.933466539753061,
             14.77601033306698,
             19.470917115432528,
             23.971276930210152,
             28.232123669751775,
             32.21088436188456,
             35.86780454497614,
             39.16634548137417,
             42.073549240394826,
             44.56036800307177,
             46.60195429836132,
             48.17790927085965,
             49.27248649942301,
             49.874749330202725,
             49.978680152075256,
             49.58324052262343,
             48.69238154390976,
             47.315004384370724,
             45.46487134128409,
             43.160468332443685,
             40.4248201909795,
             37.285260608836005,
             33.77315902755753,
             29.923607205197822,
             25.775068591073207,
             21.368994011691488,
             16.749407507795233,
             11.9624664606991,
             7.0560004029933605,
             2.0790331216645246,
             2.9187071713790043,
             7.887284707162433,
             12.777055101341583,
             17.53916138448099,
             22.126022164742622
            ]
           },
           "mode": "lines+markers",
           "name": "h(x)=sin(x)",
           "type": "scatter",
           "x": [
            0,
            0.1,
            0.2,
            0.30000000000000004,
            0.4,
            0.5,
            0.6000000000000001,
            0.7000000000000001,
            0.8,
            0.9,
            1,
            1.1,
            1.2000000000000002,
            1.3,
            1.4000000000000001,
            1.5,
            1.6,
            1.7000000000000002,
            1.8,
            1.9000000000000001,
            2,
            2.1,
            2.2,
            2.3000000000000003,
            2.4000000000000004,
            2.5,
            2.6,
            2.7,
            2.8000000000000003,
            2.9000000000000004,
            3,
            3.1,
            3.2,
            3.3000000000000003,
            3.4000000000000004,
            3.5,
            3.6
           ],
           "y": [
            0,
            0.09983341664682815,
            0.19866933079506122,
            0.2955202066613396,
            0.3894183423086505,
            0.479425538604203,
            0.5646424733950355,
            0.6442176872376911,
            0.7173560908995228,
            0.7833269096274834,
            0.8414709848078965,
            0.8912073600614354,
            0.9320390859672264,
            0.963558185417193,
            0.9854497299884603,
            0.9974949866040544,
            0.9995736030415051,
            0.9916648104524686,
            0.9738476308781951,
            0.9463000876874145,
            0.9092974268256817,
            0.8632093666488737,
            0.8084964038195901,
            0.74570521217672,
            0.6754631805511506,
            0.5984721441039564,
            0.5155013718214642,
            0.4273798802338298,
            0.33498815015590466,
            0.23924932921398198,
            0.1411200080598672,
            0.04158066243329049,
            -0.058374143427580086,
            -0.15774569414324865,
            -0.25554110202683167,
            -0.35078322768961984,
            -0.44252044329485246
           ]
          },
          {
           "marker": {
            "color": [
             0,
             0.010000000000000002,
             0.04000000000000001,
             0.09000000000000002,
             0.16000000000000003,
             0.25,
             0.3600000000000001,
             0.4900000000000001,
             0.6400000000000001,
             0.81,
             1,
             1.2100000000000002,
             1.4400000000000004,
             1.6900000000000002,
             1.9600000000000004,
             2.25,
             2.5600000000000005,
             2.8900000000000006,
             3.24,
             3.6100000000000003,
             4,
             4.41,
             4.840000000000001,
             5.290000000000001,
             5.760000000000002,
             6.25,
             6.760000000000001,
             7.290000000000001,
             7.840000000000002,
             8.410000000000002,
             9,
             9.610000000000001,
             10.240000000000002,
             10.890000000000002,
             11.560000000000002,
             12.25,
             12.96
            ],
            "colorscale": [
             [
              0,
              "#000004"
             ],
             [
              0.1111111111111111,
              "#1b0c41"
             ],
             [
              0.2222222222222222,
              "#4a0c6b"
             ],
             [
              0.3333333333333333,
              "#781c6d"
             ],
             [
              0.4444444444444444,
              "#a52c60"
             ],
             [
              0.5555555555555556,
              "#cf4446"
             ],
             [
              0.6666666666666666,
              "#ed6925"
             ],
             [
              0.7777777777777778,
              "#fb9b06"
             ],
             [
              0.8888888888888888,
              "#f7d13d"
             ],
             [
              1,
              "#fcffa4"
             ]
            ],
            "size": [
             50,
             49.75020826390129,
             49.00332889206208,
             47.7668244562803,
             46.05304970014426,
             43.879128094518634,
             41.26678074548391,
             38.24210936422442,
             34.83533546735827,
             31.08049841353322,
             27.01511529340699,
             22.679806071278865,
             18.117887723833668,
             13.374941431229367,
             8.49835714501204,
             3.5368600833851453,
             1.4599761150644408,
             6.442224714776243,
             11.360104734654355,
             16.16447834317518,
             20.80734182735712,
             25.24230522999288,
             29.42505586276729,
             33.31380106399122,
             36.86968577706229,
             40.05718077734669,
             42.84443766844737,
             45.20360710085306,
             47.11111703343291,
             48.547908257479534,
             49.49962483002227,
             49.95675751366397,
             49.914738789737655,
             49.37398849544324,
             48.33990962897305,
             46.822834364539816,
             44.83792081670735
            ]
           },
           "mode": "lines+markers",
           "name": "k(x)=cos(x)",
           "type": "scatter",
           "x": [
            0,
            0.1,
            0.2,
            0.30000000000000004,
            0.4,
            0.5,
            0.6000000000000001,
            0.7000000000000001,
            0.8,
            0.9,
            1,
            1.1,
            1.2000000000000002,
            1.3,
            1.4000000000000001,
            1.5,
            1.6,
            1.7000000000000002,
            1.8,
            1.9000000000000001,
            2,
            2.1,
            2.2,
            2.3000000000000003,
            2.4000000000000004,
            2.5,
            2.6,
            2.7,
            2.8000000000000003,
            2.9000000000000004,
            3,
            3.1,
            3.2,
            3.3000000000000003,
            3.4000000000000004,
            3.5,
            3.6
           ],
           "y": [
            1,
            0.9950041652780258,
            0.9800665778412416,
            0.955336489125606,
            0.9210609940028851,
            0.8775825618903728,
            0.8253356149096782,
            0.7648421872844884,
            0.6967067093471654,
            0.6216099682706644,
            0.5403023058681398,
            0.4535961214255773,
            0.3623577544766734,
            0.26749882862458735,
            0.16996714290024081,
            0.0707372016677029,
            -0.029199522301288815,
            -0.12884449429552486,
            -0.2272020946930871,
            -0.3232895668635036,
            -0.4161468365471424,
            -0.5048461045998576,
            -0.5885011172553458,
            -0.6662760212798244,
            -0.7373937155412458,
            -0.8011436155469337,
            -0.8568887533689473,
            -0.9040721420170612,
            -0.9422223406686583,
            -0.9709581651495907,
            -0.9899924966004454,
            -0.9991351502732795,
            -0.9982947757947531,
            -0.9874797699088649,
            -0.9667981925794609,
            -0.9364566872907963,
            -0.896758416334147
           ]
          }
         ],
         "name": "36"
        },
        {
         "data": [
          {
           "marker": {
            "color": [
             0,
             0.010000000000000002,
             0.04000000000000001,
             0.09000000000000002,
             0.16000000000000003,
             0.25,
             0.3600000000000001,
             0.4900000000000001,
             0.6400000000000001,
             0.81,
             1,
             1.2100000000000002,
             1.4400000000000004,
             1.6900000000000002,
             1.9600000000000004,
             2.25,
             2.5600000000000005,
             2.8900000000000006,
             3.24,
             3.6100000000000003,
             4,
             4.41,
             4.840000000000001,
             5.290000000000001,
             5.760000000000002,
             6.25,
             6.760000000000001,
             7.290000000000001,
             7.840000000000002,
             8.410000000000002,
             9,
             9.610000000000001,
             10.240000000000002,
             10.890000000000002,
             11.560000000000002,
             12.25,
             12.96,
             13.690000000000001
            ],
            "colorscale": [
             [
              0,
              "#000004"
             ],
             [
              0.1111111111111111,
              "#1b0c41"
             ],
             [
              0.2222222222222222,
              "#4a0c6b"
             ],
             [
              0.3333333333333333,
              "#781c6d"
             ],
             [
              0.4444444444444444,
              "#a52c60"
             ],
             [
              0.5555555555555556,
              "#cf4446"
             ],
             [
              0.6666666666666666,
              "#ed6925"
             ],
             [
              0.7777777777777778,
              "#fb9b06"
             ],
             [
              0.8888888888888888,
              "#f7d13d"
             ],
             [
              1,
              "#fcffa4"
             ]
            ],
            "size": [
             0,
             4.991670832341407,
             9.933466539753061,
             14.77601033306698,
             19.470917115432528,
             23.971276930210152,
             28.232123669751775,
             32.21088436188456,
             35.86780454497614,
             39.16634548137417,
             42.073549240394826,
             44.56036800307177,
             46.60195429836132,
             48.17790927085965,
             49.27248649942301,
             49.874749330202725,
             49.978680152075256,
             49.58324052262343,
             48.69238154390976,
             47.315004384370724,
             45.46487134128409,
             43.160468332443685,
             40.4248201909795,
             37.285260608836005,
             33.77315902755753,
             29.923607205197822,
             25.775068591073207,
             21.368994011691488,
             16.749407507795233,
             11.9624664606991,
             7.0560004029933605,
             2.0790331216645246,
             2.9187071713790043,
             7.887284707162433,
             12.777055101341583,
             17.53916138448099,
             22.126022164742622,
             26.49180704542467
            ]
           },
           "mode": "lines+markers",
           "name": "h(x)=sin(x)",
           "type": "scatter",
           "x": [
            0,
            0.1,
            0.2,
            0.30000000000000004,
            0.4,
            0.5,
            0.6000000000000001,
            0.7000000000000001,
            0.8,
            0.9,
            1,
            1.1,
            1.2000000000000002,
            1.3,
            1.4000000000000001,
            1.5,
            1.6,
            1.7000000000000002,
            1.8,
            1.9000000000000001,
            2,
            2.1,
            2.2,
            2.3000000000000003,
            2.4000000000000004,
            2.5,
            2.6,
            2.7,
            2.8000000000000003,
            2.9000000000000004,
            3,
            3.1,
            3.2,
            3.3000000000000003,
            3.4000000000000004,
            3.5,
            3.6,
            3.7
           ],
           "y": [
            0,
            0.09983341664682815,
            0.19866933079506122,
            0.2955202066613396,
            0.3894183423086505,
            0.479425538604203,
            0.5646424733950355,
            0.6442176872376911,
            0.7173560908995228,
            0.7833269096274834,
            0.8414709848078965,
            0.8912073600614354,
            0.9320390859672264,
            0.963558185417193,
            0.9854497299884603,
            0.9974949866040544,
            0.9995736030415051,
            0.9916648104524686,
            0.9738476308781951,
            0.9463000876874145,
            0.9092974268256817,
            0.8632093666488737,
            0.8084964038195901,
            0.74570521217672,
            0.6754631805511506,
            0.5984721441039564,
            0.5155013718214642,
            0.4273798802338298,
            0.33498815015590466,
            0.23924932921398198,
            0.1411200080598672,
            0.04158066243329049,
            -0.058374143427580086,
            -0.15774569414324865,
            -0.25554110202683167,
            -0.35078322768961984,
            -0.44252044329485246,
            -0.5298361409084934
           ]
          },
          {
           "marker": {
            "color": [
             0,
             0.010000000000000002,
             0.04000000000000001,
             0.09000000000000002,
             0.16000000000000003,
             0.25,
             0.3600000000000001,
             0.4900000000000001,
             0.6400000000000001,
             0.81,
             1,
             1.2100000000000002,
             1.4400000000000004,
             1.6900000000000002,
             1.9600000000000004,
             2.25,
             2.5600000000000005,
             2.8900000000000006,
             3.24,
             3.6100000000000003,
             4,
             4.41,
             4.840000000000001,
             5.290000000000001,
             5.760000000000002,
             6.25,
             6.760000000000001,
             7.290000000000001,
             7.840000000000002,
             8.410000000000002,
             9,
             9.610000000000001,
             10.240000000000002,
             10.890000000000002,
             11.560000000000002,
             12.25,
             12.96,
             13.690000000000001
            ],
            "colorscale": [
             [
              0,
              "#000004"
             ],
             [
              0.1111111111111111,
              "#1b0c41"
             ],
             [
              0.2222222222222222,
              "#4a0c6b"
             ],
             [
              0.3333333333333333,
              "#781c6d"
             ],
             [
              0.4444444444444444,
              "#a52c60"
             ],
             [
              0.5555555555555556,
              "#cf4446"
             ],
             [
              0.6666666666666666,
              "#ed6925"
             ],
             [
              0.7777777777777778,
              "#fb9b06"
             ],
             [
              0.8888888888888888,
              "#f7d13d"
             ],
             [
              1,
              "#fcffa4"
             ]
            ],
            "size": [
             50,
             49.75020826390129,
             49.00332889206208,
             47.7668244562803,
             46.05304970014426,
             43.879128094518634,
             41.26678074548391,
             38.24210936422442,
             34.83533546735827,
             31.08049841353322,
             27.01511529340699,
             22.679806071278865,
             18.117887723833668,
             13.374941431229367,
             8.49835714501204,
             3.5368600833851453,
             1.4599761150644408,
             6.442224714776243,
             11.360104734654355,
             16.16447834317518,
             20.80734182735712,
             25.24230522999288,
             29.42505586276729,
             33.31380106399122,
             36.86968577706229,
             40.05718077734669,
             42.84443766844737,
             45.20360710085306,
             47.11111703343291,
             48.547908257479534,
             49.49962483002227,
             49.95675751366397,
             49.914738789737655,
             49.37398849544324,
             48.33990962897305,
             46.822834364539816,
             44.83792081670735,
             42.4050015855204
            ]
           },
           "mode": "lines+markers",
           "name": "k(x)=cos(x)",
           "type": "scatter",
           "x": [
            0,
            0.1,
            0.2,
            0.30000000000000004,
            0.4,
            0.5,
            0.6000000000000001,
            0.7000000000000001,
            0.8,
            0.9,
            1,
            1.1,
            1.2000000000000002,
            1.3,
            1.4000000000000001,
            1.5,
            1.6,
            1.7000000000000002,
            1.8,
            1.9000000000000001,
            2,
            2.1,
            2.2,
            2.3000000000000003,
            2.4000000000000004,
            2.5,
            2.6,
            2.7,
            2.8000000000000003,
            2.9000000000000004,
            3,
            3.1,
            3.2,
            3.3000000000000003,
            3.4000000000000004,
            3.5,
            3.6,
            3.7
           ],
           "y": [
            1,
            0.9950041652780258,
            0.9800665778412416,
            0.955336489125606,
            0.9210609940028851,
            0.8775825618903728,
            0.8253356149096782,
            0.7648421872844884,
            0.6967067093471654,
            0.6216099682706644,
            0.5403023058681398,
            0.4535961214255773,
            0.3623577544766734,
            0.26749882862458735,
            0.16996714290024081,
            0.0707372016677029,
            -0.029199522301288815,
            -0.12884449429552486,
            -0.2272020946930871,
            -0.3232895668635036,
            -0.4161468365471424,
            -0.5048461045998576,
            -0.5885011172553458,
            -0.6662760212798244,
            -0.7373937155412458,
            -0.8011436155469337,
            -0.8568887533689473,
            -0.9040721420170612,
            -0.9422223406686583,
            -0.9709581651495907,
            -0.9899924966004454,
            -0.9991351502732795,
            -0.9982947757947531,
            -0.9874797699088649,
            -0.9667981925794609,
            -0.9364566872907963,
            -0.896758416334147,
            -0.848100031710408
           ]
          }
         ],
         "name": "37"
        },
        {
         "data": [
          {
           "marker": {
            "color": [
             0,
             0.010000000000000002,
             0.04000000000000001,
             0.09000000000000002,
             0.16000000000000003,
             0.25,
             0.3600000000000001,
             0.4900000000000001,
             0.6400000000000001,
             0.81,
             1,
             1.2100000000000002,
             1.4400000000000004,
             1.6900000000000002,
             1.9600000000000004,
             2.25,
             2.5600000000000005,
             2.8900000000000006,
             3.24,
             3.6100000000000003,
             4,
             4.41,
             4.840000000000001,
             5.290000000000001,
             5.760000000000002,
             6.25,
             6.760000000000001,
             7.290000000000001,
             7.840000000000002,
             8.410000000000002,
             9,
             9.610000000000001,
             10.240000000000002,
             10.890000000000002,
             11.560000000000002,
             12.25,
             12.96,
             13.690000000000001,
             14.440000000000001
            ],
            "colorscale": [
             [
              0,
              "#000004"
             ],
             [
              0.1111111111111111,
              "#1b0c41"
             ],
             [
              0.2222222222222222,
              "#4a0c6b"
             ],
             [
              0.3333333333333333,
              "#781c6d"
             ],
             [
              0.4444444444444444,
              "#a52c60"
             ],
             [
              0.5555555555555556,
              "#cf4446"
             ],
             [
              0.6666666666666666,
              "#ed6925"
             ],
             [
              0.7777777777777778,
              "#fb9b06"
             ],
             [
              0.8888888888888888,
              "#f7d13d"
             ],
             [
              1,
              "#fcffa4"
             ]
            ],
            "size": [
             0,
             4.991670832341407,
             9.933466539753061,
             14.77601033306698,
             19.470917115432528,
             23.971276930210152,
             28.232123669751775,
             32.21088436188456,
             35.86780454497614,
             39.16634548137417,
             42.073549240394826,
             44.56036800307177,
             46.60195429836132,
             48.17790927085965,
             49.27248649942301,
             49.874749330202725,
             49.978680152075256,
             49.58324052262343,
             48.69238154390976,
             47.315004384370724,
             45.46487134128409,
             43.160468332443685,
             40.4248201909795,
             37.285260608836005,
             33.77315902755753,
             29.923607205197822,
             25.775068591073207,
             21.368994011691488,
             16.749407507795233,
             11.9624664606991,
             7.0560004029933605,
             2.0790331216645246,
             2.9187071713790043,
             7.887284707162433,
             12.777055101341583,
             17.53916138448099,
             22.126022164742622,
             26.49180704542467,
             30.592894547135963
            ]
           },
           "mode": "lines+markers",
           "name": "h(x)=sin(x)",
           "type": "scatter",
           "x": [
            0,
            0.1,
            0.2,
            0.30000000000000004,
            0.4,
            0.5,
            0.6000000000000001,
            0.7000000000000001,
            0.8,
            0.9,
            1,
            1.1,
            1.2000000000000002,
            1.3,
            1.4000000000000001,
            1.5,
            1.6,
            1.7000000000000002,
            1.8,
            1.9000000000000001,
            2,
            2.1,
            2.2,
            2.3000000000000003,
            2.4000000000000004,
            2.5,
            2.6,
            2.7,
            2.8000000000000003,
            2.9000000000000004,
            3,
            3.1,
            3.2,
            3.3000000000000003,
            3.4000000000000004,
            3.5,
            3.6,
            3.7,
            3.8000000000000003
           ],
           "y": [
            0,
            0.09983341664682815,
            0.19866933079506122,
            0.2955202066613396,
            0.3894183423086505,
            0.479425538604203,
            0.5646424733950355,
            0.6442176872376911,
            0.7173560908995228,
            0.7833269096274834,
            0.8414709848078965,
            0.8912073600614354,
            0.9320390859672264,
            0.963558185417193,
            0.9854497299884603,
            0.9974949866040544,
            0.9995736030415051,
            0.9916648104524686,
            0.9738476308781951,
            0.9463000876874145,
            0.9092974268256817,
            0.8632093666488737,
            0.8084964038195901,
            0.74570521217672,
            0.6754631805511506,
            0.5984721441039564,
            0.5155013718214642,
            0.4273798802338298,
            0.33498815015590466,
            0.23924932921398198,
            0.1411200080598672,
            0.04158066243329049,
            -0.058374143427580086,
            -0.15774569414324865,
            -0.25554110202683167,
            -0.35078322768961984,
            -0.44252044329485246,
            -0.5298361409084934,
            -0.6118578909427193
           ]
          },
          {
           "marker": {
            "color": [
             0,
             0.010000000000000002,
             0.04000000000000001,
             0.09000000000000002,
             0.16000000000000003,
             0.25,
             0.3600000000000001,
             0.4900000000000001,
             0.6400000000000001,
             0.81,
             1,
             1.2100000000000002,
             1.4400000000000004,
             1.6900000000000002,
             1.9600000000000004,
             2.25,
             2.5600000000000005,
             2.8900000000000006,
             3.24,
             3.6100000000000003,
             4,
             4.41,
             4.840000000000001,
             5.290000000000001,
             5.760000000000002,
             6.25,
             6.760000000000001,
             7.290000000000001,
             7.840000000000002,
             8.410000000000002,
             9,
             9.610000000000001,
             10.240000000000002,
             10.890000000000002,
             11.560000000000002,
             12.25,
             12.96,
             13.690000000000001,
             14.440000000000001
            ],
            "colorscale": [
             [
              0,
              "#000004"
             ],
             [
              0.1111111111111111,
              "#1b0c41"
             ],
             [
              0.2222222222222222,
              "#4a0c6b"
             ],
             [
              0.3333333333333333,
              "#781c6d"
             ],
             [
              0.4444444444444444,
              "#a52c60"
             ],
             [
              0.5555555555555556,
              "#cf4446"
             ],
             [
              0.6666666666666666,
              "#ed6925"
             ],
             [
              0.7777777777777778,
              "#fb9b06"
             ],
             [
              0.8888888888888888,
              "#f7d13d"
             ],
             [
              1,
              "#fcffa4"
             ]
            ],
            "size": [
             50,
             49.75020826390129,
             49.00332889206208,
             47.7668244562803,
             46.05304970014426,
             43.879128094518634,
             41.26678074548391,
             38.24210936422442,
             34.83533546735827,
             31.08049841353322,
             27.01511529340699,
             22.679806071278865,
             18.117887723833668,
             13.374941431229367,
             8.49835714501204,
             3.5368600833851453,
             1.4599761150644408,
             6.442224714776243,
             11.360104734654355,
             16.16447834317518,
             20.80734182735712,
             25.24230522999288,
             29.42505586276729,
             33.31380106399122,
             36.86968577706229,
             40.05718077734669,
             42.84443766844737,
             45.20360710085306,
             47.11111703343291,
             48.547908257479534,
             49.49962483002227,
             49.95675751366397,
             49.914738789737655,
             49.37398849544324,
             48.33990962897305,
             46.822834364539816,
             44.83792081670735,
             42.4050015855204,
             39.54838559572082
            ]
           },
           "mode": "lines+markers",
           "name": "k(x)=cos(x)",
           "type": "scatter",
           "x": [
            0,
            0.1,
            0.2,
            0.30000000000000004,
            0.4,
            0.5,
            0.6000000000000001,
            0.7000000000000001,
            0.8,
            0.9,
            1,
            1.1,
            1.2000000000000002,
            1.3,
            1.4000000000000001,
            1.5,
            1.6,
            1.7000000000000002,
            1.8,
            1.9000000000000001,
            2,
            2.1,
            2.2,
            2.3000000000000003,
            2.4000000000000004,
            2.5,
            2.6,
            2.7,
            2.8000000000000003,
            2.9000000000000004,
            3,
            3.1,
            3.2,
            3.3000000000000003,
            3.4000000000000004,
            3.5,
            3.6,
            3.7,
            3.8000000000000003
           ],
           "y": [
            1,
            0.9950041652780258,
            0.9800665778412416,
            0.955336489125606,
            0.9210609940028851,
            0.8775825618903728,
            0.8253356149096782,
            0.7648421872844884,
            0.6967067093471654,
            0.6216099682706644,
            0.5403023058681398,
            0.4535961214255773,
            0.3623577544766734,
            0.26749882862458735,
            0.16996714290024081,
            0.0707372016677029,
            -0.029199522301288815,
            -0.12884449429552486,
            -0.2272020946930871,
            -0.3232895668635036,
            -0.4161468365471424,
            -0.5048461045998576,
            -0.5885011172553458,
            -0.6662760212798244,
            -0.7373937155412458,
            -0.8011436155469337,
            -0.8568887533689473,
            -0.9040721420170612,
            -0.9422223406686583,
            -0.9709581651495907,
            -0.9899924966004454,
            -0.9991351502732795,
            -0.9982947757947531,
            -0.9874797699088649,
            -0.9667981925794609,
            -0.9364566872907963,
            -0.896758416334147,
            -0.848100031710408,
            -0.7909677119144165
           ]
          }
         ],
         "name": "38"
        },
        {
         "data": [
          {
           "marker": {
            "color": [
             0,
             0.010000000000000002,
             0.04000000000000001,
             0.09000000000000002,
             0.16000000000000003,
             0.25,
             0.3600000000000001,
             0.4900000000000001,
             0.6400000000000001,
             0.81,
             1,
             1.2100000000000002,
             1.4400000000000004,
             1.6900000000000002,
             1.9600000000000004,
             2.25,
             2.5600000000000005,
             2.8900000000000006,
             3.24,
             3.6100000000000003,
             4,
             4.41,
             4.840000000000001,
             5.290000000000001,
             5.760000000000002,
             6.25,
             6.760000000000001,
             7.290000000000001,
             7.840000000000002,
             8.410000000000002,
             9,
             9.610000000000001,
             10.240000000000002,
             10.890000000000002,
             11.560000000000002,
             12.25,
             12.96,
             13.690000000000001,
             14.440000000000001,
             15.210000000000003
            ],
            "colorscale": [
             [
              0,
              "#000004"
             ],
             [
              0.1111111111111111,
              "#1b0c41"
             ],
             [
              0.2222222222222222,
              "#4a0c6b"
             ],
             [
              0.3333333333333333,
              "#781c6d"
             ],
             [
              0.4444444444444444,
              "#a52c60"
             ],
             [
              0.5555555555555556,
              "#cf4446"
             ],
             [
              0.6666666666666666,
              "#ed6925"
             ],
             [
              0.7777777777777778,
              "#fb9b06"
             ],
             [
              0.8888888888888888,
              "#f7d13d"
             ],
             [
              1,
              "#fcffa4"
             ]
            ],
            "size": [
             0,
             4.991670832341407,
             9.933466539753061,
             14.77601033306698,
             19.470917115432528,
             23.971276930210152,
             28.232123669751775,
             32.21088436188456,
             35.86780454497614,
             39.16634548137417,
             42.073549240394826,
             44.56036800307177,
             46.60195429836132,
             48.17790927085965,
             49.27248649942301,
             49.874749330202725,
             49.978680152075256,
             49.58324052262343,
             48.69238154390976,
             47.315004384370724,
             45.46487134128409,
             43.160468332443685,
             40.4248201909795,
             37.285260608836005,
             33.77315902755753,
             29.923607205197822,
             25.775068591073207,
             21.368994011691488,
             16.749407507795233,
             11.9624664606991,
             7.0560004029933605,
             2.0790331216645246,
             2.9187071713790043,
             7.887284707162433,
             12.777055101341583,
             17.53916138448099,
             22.126022164742622,
             26.49180704542467,
             30.592894547135963,
             34.388307959198706
            ]
           },
           "mode": "lines+markers",
           "name": "h(x)=sin(x)",
           "type": "scatter",
           "x": [
            0,
            0.1,
            0.2,
            0.30000000000000004,
            0.4,
            0.5,
            0.6000000000000001,
            0.7000000000000001,
            0.8,
            0.9,
            1,
            1.1,
            1.2000000000000002,
            1.3,
            1.4000000000000001,
            1.5,
            1.6,
            1.7000000000000002,
            1.8,
            1.9000000000000001,
            2,
            2.1,
            2.2,
            2.3000000000000003,
            2.4000000000000004,
            2.5,
            2.6,
            2.7,
            2.8000000000000003,
            2.9000000000000004,
            3,
            3.1,
            3.2,
            3.3000000000000003,
            3.4000000000000004,
            3.5,
            3.6,
            3.7,
            3.8000000000000003,
            3.9000000000000004
           ],
           "y": [
            0,
            0.09983341664682815,
            0.19866933079506122,
            0.2955202066613396,
            0.3894183423086505,
            0.479425538604203,
            0.5646424733950355,
            0.6442176872376911,
            0.7173560908995228,
            0.7833269096274834,
            0.8414709848078965,
            0.8912073600614354,
            0.9320390859672264,
            0.963558185417193,
            0.9854497299884603,
            0.9974949866040544,
            0.9995736030415051,
            0.9916648104524686,
            0.9738476308781951,
            0.9463000876874145,
            0.9092974268256817,
            0.8632093666488737,
            0.8084964038195901,
            0.74570521217672,
            0.6754631805511506,
            0.5984721441039564,
            0.5155013718214642,
            0.4273798802338298,
            0.33498815015590466,
            0.23924932921398198,
            0.1411200080598672,
            0.04158066243329049,
            -0.058374143427580086,
            -0.15774569414324865,
            -0.25554110202683167,
            -0.35078322768961984,
            -0.44252044329485246,
            -0.5298361409084934,
            -0.6118578909427193,
            -0.6877661591839741
           ]
          },
          {
           "marker": {
            "color": [
             0,
             0.010000000000000002,
             0.04000000000000001,
             0.09000000000000002,
             0.16000000000000003,
             0.25,
             0.3600000000000001,
             0.4900000000000001,
             0.6400000000000001,
             0.81,
             1,
             1.2100000000000002,
             1.4400000000000004,
             1.6900000000000002,
             1.9600000000000004,
             2.25,
             2.5600000000000005,
             2.8900000000000006,
             3.24,
             3.6100000000000003,
             4,
             4.41,
             4.840000000000001,
             5.290000000000001,
             5.760000000000002,
             6.25,
             6.760000000000001,
             7.290000000000001,
             7.840000000000002,
             8.410000000000002,
             9,
             9.610000000000001,
             10.240000000000002,
             10.890000000000002,
             11.560000000000002,
             12.25,
             12.96,
             13.690000000000001,
             14.440000000000001,
             15.210000000000003
            ],
            "colorscale": [
             [
              0,
              "#000004"
             ],
             [
              0.1111111111111111,
              "#1b0c41"
             ],
             [
              0.2222222222222222,
              "#4a0c6b"
             ],
             [
              0.3333333333333333,
              "#781c6d"
             ],
             [
              0.4444444444444444,
              "#a52c60"
             ],
             [
              0.5555555555555556,
              "#cf4446"
             ],
             [
              0.6666666666666666,
              "#ed6925"
             ],
             [
              0.7777777777777778,
              "#fb9b06"
             ],
             [
              0.8888888888888888,
              "#f7d13d"
             ],
             [
              1,
              "#fcffa4"
             ]
            ],
            "size": [
             50,
             49.75020826390129,
             49.00332889206208,
             47.7668244562803,
             46.05304970014426,
             43.879128094518634,
             41.26678074548391,
             38.24210936422442,
             34.83533546735827,
             31.08049841353322,
             27.01511529340699,
             22.679806071278865,
             18.117887723833668,
             13.374941431229367,
             8.49835714501204,
             3.5368600833851453,
             1.4599761150644408,
             6.442224714776243,
             11.360104734654355,
             16.16447834317518,
             20.80734182735712,
             25.24230522999288,
             29.42505586276729,
             33.31380106399122,
             36.86968577706229,
             40.05718077734669,
             42.84443766844737,
             45.20360710085306,
             47.11111703343291,
             48.547908257479534,
             49.49962483002227,
             49.95675751366397,
             49.914738789737655,
             49.37398849544324,
             48.33990962897305,
             46.822834364539816,
             44.83792081670735,
             42.4050015855204,
             39.54838559572082,
             36.29661521000699
            ]
           },
           "mode": "lines+markers",
           "name": "k(x)=cos(x)",
           "type": "scatter",
           "x": [
            0,
            0.1,
            0.2,
            0.30000000000000004,
            0.4,
            0.5,
            0.6000000000000001,
            0.7000000000000001,
            0.8,
            0.9,
            1,
            1.1,
            1.2000000000000002,
            1.3,
            1.4000000000000001,
            1.5,
            1.6,
            1.7000000000000002,
            1.8,
            1.9000000000000001,
            2,
            2.1,
            2.2,
            2.3000000000000003,
            2.4000000000000004,
            2.5,
            2.6,
            2.7,
            2.8000000000000003,
            2.9000000000000004,
            3,
            3.1,
            3.2,
            3.3000000000000003,
            3.4000000000000004,
            3.5,
            3.6,
            3.7,
            3.8000000000000003,
            3.9000000000000004
           ],
           "y": [
            1,
            0.9950041652780258,
            0.9800665778412416,
            0.955336489125606,
            0.9210609940028851,
            0.8775825618903728,
            0.8253356149096782,
            0.7648421872844884,
            0.6967067093471654,
            0.6216099682706644,
            0.5403023058681398,
            0.4535961214255773,
            0.3623577544766734,
            0.26749882862458735,
            0.16996714290024081,
            0.0707372016677029,
            -0.029199522301288815,
            -0.12884449429552486,
            -0.2272020946930871,
            -0.3232895668635036,
            -0.4161468365471424,
            -0.5048461045998576,
            -0.5885011172553458,
            -0.6662760212798244,
            -0.7373937155412458,
            -0.8011436155469337,
            -0.8568887533689473,
            -0.9040721420170612,
            -0.9422223406686583,
            -0.9709581651495907,
            -0.9899924966004454,
            -0.9991351502732795,
            -0.9982947757947531,
            -0.9874797699088649,
            -0.9667981925794609,
            -0.9364566872907963,
            -0.896758416334147,
            -0.848100031710408,
            -0.7909677119144165,
            -0.7259323042001399
           ]
          }
         ],
         "name": "39"
        },
        {
         "data": [
          {
           "marker": {
            "color": [
             0,
             0.010000000000000002,
             0.04000000000000001,
             0.09000000000000002,
             0.16000000000000003,
             0.25,
             0.3600000000000001,
             0.4900000000000001,
             0.6400000000000001,
             0.81,
             1,
             1.2100000000000002,
             1.4400000000000004,
             1.6900000000000002,
             1.9600000000000004,
             2.25,
             2.5600000000000005,
             2.8900000000000006,
             3.24,
             3.6100000000000003,
             4,
             4.41,
             4.840000000000001,
             5.290000000000001,
             5.760000000000002,
             6.25,
             6.760000000000001,
             7.290000000000001,
             7.840000000000002,
             8.410000000000002,
             9,
             9.610000000000001,
             10.240000000000002,
             10.890000000000002,
             11.560000000000002,
             12.25,
             12.96,
             13.690000000000001,
             14.440000000000001,
             15.210000000000003,
             16
            ],
            "colorscale": [
             [
              0,
              "#000004"
             ],
             [
              0.1111111111111111,
              "#1b0c41"
             ],
             [
              0.2222222222222222,
              "#4a0c6b"
             ],
             [
              0.3333333333333333,
              "#781c6d"
             ],
             [
              0.4444444444444444,
              "#a52c60"
             ],
             [
              0.5555555555555556,
              "#cf4446"
             ],
             [
              0.6666666666666666,
              "#ed6925"
             ],
             [
              0.7777777777777778,
              "#fb9b06"
             ],
             [
              0.8888888888888888,
              "#f7d13d"
             ],
             [
              1,
              "#fcffa4"
             ]
            ],
            "size": [
             0,
             4.991670832341407,
             9.933466539753061,
             14.77601033306698,
             19.470917115432528,
             23.971276930210152,
             28.232123669751775,
             32.21088436188456,
             35.86780454497614,
             39.16634548137417,
             42.073549240394826,
             44.56036800307177,
             46.60195429836132,
             48.17790927085965,
             49.27248649942301,
             49.874749330202725,
             49.978680152075256,
             49.58324052262343,
             48.69238154390976,
             47.315004384370724,
             45.46487134128409,
             43.160468332443685,
             40.4248201909795,
             37.285260608836005,
             33.77315902755753,
             29.923607205197822,
             25.775068591073207,
             21.368994011691488,
             16.749407507795233,
             11.9624664606991,
             7.0560004029933605,
             2.0790331216645246,
             2.9187071713790043,
             7.887284707162433,
             12.777055101341583,
             17.53916138448099,
             22.126022164742622,
             26.49180704542467,
             30.592894547135963,
             34.388307959198706,
             37.84012476539641
            ]
           },
           "mode": "lines+markers",
           "name": "h(x)=sin(x)",
           "type": "scatter",
           "x": [
            0,
            0.1,
            0.2,
            0.30000000000000004,
            0.4,
            0.5,
            0.6000000000000001,
            0.7000000000000001,
            0.8,
            0.9,
            1,
            1.1,
            1.2000000000000002,
            1.3,
            1.4000000000000001,
            1.5,
            1.6,
            1.7000000000000002,
            1.8,
            1.9000000000000001,
            2,
            2.1,
            2.2,
            2.3000000000000003,
            2.4000000000000004,
            2.5,
            2.6,
            2.7,
            2.8000000000000003,
            2.9000000000000004,
            3,
            3.1,
            3.2,
            3.3000000000000003,
            3.4000000000000004,
            3.5,
            3.6,
            3.7,
            3.8000000000000003,
            3.9000000000000004,
            4
           ],
           "y": [
            0,
            0.09983341664682815,
            0.19866933079506122,
            0.2955202066613396,
            0.3894183423086505,
            0.479425538604203,
            0.5646424733950355,
            0.6442176872376911,
            0.7173560908995228,
            0.7833269096274834,
            0.8414709848078965,
            0.8912073600614354,
            0.9320390859672264,
            0.963558185417193,
            0.9854497299884603,
            0.9974949866040544,
            0.9995736030415051,
            0.9916648104524686,
            0.9738476308781951,
            0.9463000876874145,
            0.9092974268256817,
            0.8632093666488737,
            0.8084964038195901,
            0.74570521217672,
            0.6754631805511506,
            0.5984721441039564,
            0.5155013718214642,
            0.4273798802338298,
            0.33498815015590466,
            0.23924932921398198,
            0.1411200080598672,
            0.04158066243329049,
            -0.058374143427580086,
            -0.15774569414324865,
            -0.25554110202683167,
            -0.35078322768961984,
            -0.44252044329485246,
            -0.5298361409084934,
            -0.6118578909427193,
            -0.6877661591839741,
            -0.7568024953079282
           ]
          },
          {
           "marker": {
            "color": [
             0,
             0.010000000000000002,
             0.04000000000000001,
             0.09000000000000002,
             0.16000000000000003,
             0.25,
             0.3600000000000001,
             0.4900000000000001,
             0.6400000000000001,
             0.81,
             1,
             1.2100000000000002,
             1.4400000000000004,
             1.6900000000000002,
             1.9600000000000004,
             2.25,
             2.5600000000000005,
             2.8900000000000006,
             3.24,
             3.6100000000000003,
             4,
             4.41,
             4.840000000000001,
             5.290000000000001,
             5.760000000000002,
             6.25,
             6.760000000000001,
             7.290000000000001,
             7.840000000000002,
             8.410000000000002,
             9,
             9.610000000000001,
             10.240000000000002,
             10.890000000000002,
             11.560000000000002,
             12.25,
             12.96,
             13.690000000000001,
             14.440000000000001,
             15.210000000000003,
             16
            ],
            "colorscale": [
             [
              0,
              "#000004"
             ],
             [
              0.1111111111111111,
              "#1b0c41"
             ],
             [
              0.2222222222222222,
              "#4a0c6b"
             ],
             [
              0.3333333333333333,
              "#781c6d"
             ],
             [
              0.4444444444444444,
              "#a52c60"
             ],
             [
              0.5555555555555556,
              "#cf4446"
             ],
             [
              0.6666666666666666,
              "#ed6925"
             ],
             [
              0.7777777777777778,
              "#fb9b06"
             ],
             [
              0.8888888888888888,
              "#f7d13d"
             ],
             [
              1,
              "#fcffa4"
             ]
            ],
            "size": [
             50,
             49.75020826390129,
             49.00332889206208,
             47.7668244562803,
             46.05304970014426,
             43.879128094518634,
             41.26678074548391,
             38.24210936422442,
             34.83533546735827,
             31.08049841353322,
             27.01511529340699,
             22.679806071278865,
             18.117887723833668,
             13.374941431229367,
             8.49835714501204,
             3.5368600833851453,
             1.4599761150644408,
             6.442224714776243,
             11.360104734654355,
             16.16447834317518,
             20.80734182735712,
             25.24230522999288,
             29.42505586276729,
             33.31380106399122,
             36.86968577706229,
             40.05718077734669,
             42.84443766844737,
             45.20360710085306,
             47.11111703343291,
             48.547908257479534,
             49.49962483002227,
             49.95675751366397,
             49.914738789737655,
             49.37398849544324,
             48.33990962897305,
             46.822834364539816,
             44.83792081670735,
             42.4050015855204,
             39.54838559572082,
             36.29661521000699,
             32.6821810431806
            ]
           },
           "mode": "lines+markers",
           "name": "k(x)=cos(x)",
           "type": "scatter",
           "x": [
            0,
            0.1,
            0.2,
            0.30000000000000004,
            0.4,
            0.5,
            0.6000000000000001,
            0.7000000000000001,
            0.8,
            0.9,
            1,
            1.1,
            1.2000000000000002,
            1.3,
            1.4000000000000001,
            1.5,
            1.6,
            1.7000000000000002,
            1.8,
            1.9000000000000001,
            2,
            2.1,
            2.2,
            2.3000000000000003,
            2.4000000000000004,
            2.5,
            2.6,
            2.7,
            2.8000000000000003,
            2.9000000000000004,
            3,
            3.1,
            3.2,
            3.3000000000000003,
            3.4000000000000004,
            3.5,
            3.6,
            3.7,
            3.8000000000000003,
            3.9000000000000004,
            4
           ],
           "y": [
            1,
            0.9950041652780258,
            0.9800665778412416,
            0.955336489125606,
            0.9210609940028851,
            0.8775825618903728,
            0.8253356149096782,
            0.7648421872844884,
            0.6967067093471654,
            0.6216099682706644,
            0.5403023058681398,
            0.4535961214255773,
            0.3623577544766734,
            0.26749882862458735,
            0.16996714290024081,
            0.0707372016677029,
            -0.029199522301288815,
            -0.12884449429552486,
            -0.2272020946930871,
            -0.3232895668635036,
            -0.4161468365471424,
            -0.5048461045998576,
            -0.5885011172553458,
            -0.6662760212798244,
            -0.7373937155412458,
            -0.8011436155469337,
            -0.8568887533689473,
            -0.9040721420170612,
            -0.9422223406686583,
            -0.9709581651495907,
            -0.9899924966004454,
            -0.9991351502732795,
            -0.9982947757947531,
            -0.9874797699088649,
            -0.9667981925794609,
            -0.9364566872907963,
            -0.896758416334147,
            -0.848100031710408,
            -0.7909677119144165,
            -0.7259323042001399,
            -0.6536436208636119
           ]
          }
         ],
         "name": "40"
        },
        {
         "data": [
          {
           "marker": {
            "color": [
             0,
             0.010000000000000002,
             0.04000000000000001,
             0.09000000000000002,
             0.16000000000000003,
             0.25,
             0.3600000000000001,
             0.4900000000000001,
             0.6400000000000001,
             0.81,
             1,
             1.2100000000000002,
             1.4400000000000004,
             1.6900000000000002,
             1.9600000000000004,
             2.25,
             2.5600000000000005,
             2.8900000000000006,
             3.24,
             3.6100000000000003,
             4,
             4.41,
             4.840000000000001,
             5.290000000000001,
             5.760000000000002,
             6.25,
             6.760000000000001,
             7.290000000000001,
             7.840000000000002,
             8.410000000000002,
             9,
             9.610000000000001,
             10.240000000000002,
             10.890000000000002,
             11.560000000000002,
             12.25,
             12.96,
             13.690000000000001,
             14.440000000000001,
             15.210000000000003,
             16,
             16.810000000000006
            ],
            "colorscale": [
             [
              0,
              "#000004"
             ],
             [
              0.1111111111111111,
              "#1b0c41"
             ],
             [
              0.2222222222222222,
              "#4a0c6b"
             ],
             [
              0.3333333333333333,
              "#781c6d"
             ],
             [
              0.4444444444444444,
              "#a52c60"
             ],
             [
              0.5555555555555556,
              "#cf4446"
             ],
             [
              0.6666666666666666,
              "#ed6925"
             ],
             [
              0.7777777777777778,
              "#fb9b06"
             ],
             [
              0.8888888888888888,
              "#f7d13d"
             ],
             [
              1,
              "#fcffa4"
             ]
            ],
            "size": [
             0,
             4.991670832341407,
             9.933466539753061,
             14.77601033306698,
             19.470917115432528,
             23.971276930210152,
             28.232123669751775,
             32.21088436188456,
             35.86780454497614,
             39.16634548137417,
             42.073549240394826,
             44.56036800307177,
             46.60195429836132,
             48.17790927085965,
             49.27248649942301,
             49.874749330202725,
             49.978680152075256,
             49.58324052262343,
             48.69238154390976,
             47.315004384370724,
             45.46487134128409,
             43.160468332443685,
             40.4248201909795,
             37.285260608836005,
             33.77315902755753,
             29.923607205197822,
             25.775068591073207,
             21.368994011691488,
             16.749407507795233,
             11.9624664606991,
             7.0560004029933605,
             2.0790331216645246,
             2.9187071713790043,
             7.887284707162433,
             12.777055101341583,
             17.53916138448099,
             22.126022164742622,
             26.49180704542467,
             30.592894547135963,
             34.388307959198706,
             37.84012476539641,
             40.91385555322054
            ]
           },
           "mode": "lines+markers",
           "name": "h(x)=sin(x)",
           "type": "scatter",
           "x": [
            0,
            0.1,
            0.2,
            0.30000000000000004,
            0.4,
            0.5,
            0.6000000000000001,
            0.7000000000000001,
            0.8,
            0.9,
            1,
            1.1,
            1.2000000000000002,
            1.3,
            1.4000000000000001,
            1.5,
            1.6,
            1.7000000000000002,
            1.8,
            1.9000000000000001,
            2,
            2.1,
            2.2,
            2.3000000000000003,
            2.4000000000000004,
            2.5,
            2.6,
            2.7,
            2.8000000000000003,
            2.9000000000000004,
            3,
            3.1,
            3.2,
            3.3000000000000003,
            3.4000000000000004,
            3.5,
            3.6,
            3.7,
            3.8000000000000003,
            3.9000000000000004,
            4,
            4.1000000000000005
           ],
           "y": [
            0,
            0.09983341664682815,
            0.19866933079506122,
            0.2955202066613396,
            0.3894183423086505,
            0.479425538604203,
            0.5646424733950355,
            0.6442176872376911,
            0.7173560908995228,
            0.7833269096274834,
            0.8414709848078965,
            0.8912073600614354,
            0.9320390859672264,
            0.963558185417193,
            0.9854497299884603,
            0.9974949866040544,
            0.9995736030415051,
            0.9916648104524686,
            0.9738476308781951,
            0.9463000876874145,
            0.9092974268256817,
            0.8632093666488737,
            0.8084964038195901,
            0.74570521217672,
            0.6754631805511506,
            0.5984721441039564,
            0.5155013718214642,
            0.4273798802338298,
            0.33498815015590466,
            0.23924932921398198,
            0.1411200080598672,
            0.04158066243329049,
            -0.058374143427580086,
            -0.15774569414324865,
            -0.25554110202683167,
            -0.35078322768961984,
            -0.44252044329485246,
            -0.5298361409084934,
            -0.6118578909427193,
            -0.6877661591839741,
            -0.7568024953079282,
            -0.8182771110644108
           ]
          },
          {
           "marker": {
            "color": [
             0,
             0.010000000000000002,
             0.04000000000000001,
             0.09000000000000002,
             0.16000000000000003,
             0.25,
             0.3600000000000001,
             0.4900000000000001,
             0.6400000000000001,
             0.81,
             1,
             1.2100000000000002,
             1.4400000000000004,
             1.6900000000000002,
             1.9600000000000004,
             2.25,
             2.5600000000000005,
             2.8900000000000006,
             3.24,
             3.6100000000000003,
             4,
             4.41,
             4.840000000000001,
             5.290000000000001,
             5.760000000000002,
             6.25,
             6.760000000000001,
             7.290000000000001,
             7.840000000000002,
             8.410000000000002,
             9,
             9.610000000000001,
             10.240000000000002,
             10.890000000000002,
             11.560000000000002,
             12.25,
             12.96,
             13.690000000000001,
             14.440000000000001,
             15.210000000000003,
             16,
             16.810000000000006
            ],
            "colorscale": [
             [
              0,
              "#000004"
             ],
             [
              0.1111111111111111,
              "#1b0c41"
             ],
             [
              0.2222222222222222,
              "#4a0c6b"
             ],
             [
              0.3333333333333333,
              "#781c6d"
             ],
             [
              0.4444444444444444,
              "#a52c60"
             ],
             [
              0.5555555555555556,
              "#cf4446"
             ],
             [
              0.6666666666666666,
              "#ed6925"
             ],
             [
              0.7777777777777778,
              "#fb9b06"
             ],
             [
              0.8888888888888888,
              "#f7d13d"
             ],
             [
              1,
              "#fcffa4"
             ]
            ],
            "size": [
             50,
             49.75020826390129,
             49.00332889206208,
             47.7668244562803,
             46.05304970014426,
             43.879128094518634,
             41.26678074548391,
             38.24210936422442,
             34.83533546735827,
             31.08049841353322,
             27.01511529340699,
             22.679806071278865,
             18.117887723833668,
             13.374941431229367,
             8.49835714501204,
             3.5368600833851453,
             1.4599761150644408,
             6.442224714776243,
             11.360104734654355,
             16.16447834317518,
             20.80734182735712,
             25.24230522999288,
             29.42505586276729,
             33.31380106399122,
             36.86968577706229,
             40.05718077734669,
             42.84443766844737,
             45.20360710085306,
             47.11111703343291,
             48.547908257479534,
             49.49962483002227,
             49.95675751366397,
             49.914738789737655,
             49.37398849544324,
             48.33990962897305,
             46.822834364539816,
             44.83792081670735,
             42.4050015855204,
             39.54838559572082,
             36.29661521000699,
             32.6821810431806,
             28.741197326663425
            ]
           },
           "mode": "lines+markers",
           "name": "k(x)=cos(x)",
           "type": "scatter",
           "x": [
            0,
            0.1,
            0.2,
            0.30000000000000004,
            0.4,
            0.5,
            0.6000000000000001,
            0.7000000000000001,
            0.8,
            0.9,
            1,
            1.1,
            1.2000000000000002,
            1.3,
            1.4000000000000001,
            1.5,
            1.6,
            1.7000000000000002,
            1.8,
            1.9000000000000001,
            2,
            2.1,
            2.2,
            2.3000000000000003,
            2.4000000000000004,
            2.5,
            2.6,
            2.7,
            2.8000000000000003,
            2.9000000000000004,
            3,
            3.1,
            3.2,
            3.3000000000000003,
            3.4000000000000004,
            3.5,
            3.6,
            3.7,
            3.8000000000000003,
            3.9000000000000004,
            4,
            4.1000000000000005
           ],
           "y": [
            1,
            0.9950041652780258,
            0.9800665778412416,
            0.955336489125606,
            0.9210609940028851,
            0.8775825618903728,
            0.8253356149096782,
            0.7648421872844884,
            0.6967067093471654,
            0.6216099682706644,
            0.5403023058681398,
            0.4535961214255773,
            0.3623577544766734,
            0.26749882862458735,
            0.16996714290024081,
            0.0707372016677029,
            -0.029199522301288815,
            -0.12884449429552486,
            -0.2272020946930871,
            -0.3232895668635036,
            -0.4161468365471424,
            -0.5048461045998576,
            -0.5885011172553458,
            -0.6662760212798244,
            -0.7373937155412458,
            -0.8011436155469337,
            -0.8568887533689473,
            -0.9040721420170612,
            -0.9422223406686583,
            -0.9709581651495907,
            -0.9899924966004454,
            -0.9991351502732795,
            -0.9982947757947531,
            -0.9874797699088649,
            -0.9667981925794609,
            -0.9364566872907963,
            -0.896758416334147,
            -0.848100031710408,
            -0.7909677119144165,
            -0.7259323042001399,
            -0.6536436208636119,
            -0.5748239465332685
           ]
          }
         ],
         "name": "41"
        },
        {
         "data": [
          {
           "marker": {
            "color": [
             0,
             0.010000000000000002,
             0.04000000000000001,
             0.09000000000000002,
             0.16000000000000003,
             0.25,
             0.3600000000000001,
             0.4900000000000001,
             0.6400000000000001,
             0.81,
             1,
             1.2100000000000002,
             1.4400000000000004,
             1.6900000000000002,
             1.9600000000000004,
             2.25,
             2.5600000000000005,
             2.8900000000000006,
             3.24,
             3.6100000000000003,
             4,
             4.41,
             4.840000000000001,
             5.290000000000001,
             5.760000000000002,
             6.25,
             6.760000000000001,
             7.290000000000001,
             7.840000000000002,
             8.410000000000002,
             9,
             9.610000000000001,
             10.240000000000002,
             10.890000000000002,
             11.560000000000002,
             12.25,
             12.96,
             13.690000000000001,
             14.440000000000001,
             15.210000000000003,
             16,
             16.810000000000006,
             17.64
            ],
            "colorscale": [
             [
              0,
              "#000004"
             ],
             [
              0.1111111111111111,
              "#1b0c41"
             ],
             [
              0.2222222222222222,
              "#4a0c6b"
             ],
             [
              0.3333333333333333,
              "#781c6d"
             ],
             [
              0.4444444444444444,
              "#a52c60"
             ],
             [
              0.5555555555555556,
              "#cf4446"
             ],
             [
              0.6666666666666666,
              "#ed6925"
             ],
             [
              0.7777777777777778,
              "#fb9b06"
             ],
             [
              0.8888888888888888,
              "#f7d13d"
             ],
             [
              1,
              "#fcffa4"
             ]
            ],
            "size": [
             0,
             4.991670832341407,
             9.933466539753061,
             14.77601033306698,
             19.470917115432528,
             23.971276930210152,
             28.232123669751775,
             32.21088436188456,
             35.86780454497614,
             39.16634548137417,
             42.073549240394826,
             44.56036800307177,
             46.60195429836132,
             48.17790927085965,
             49.27248649942301,
             49.874749330202725,
             49.978680152075256,
             49.58324052262343,
             48.69238154390976,
             47.315004384370724,
             45.46487134128409,
             43.160468332443685,
             40.4248201909795,
             37.285260608836005,
             33.77315902755753,
             29.923607205197822,
             25.775068591073207,
             21.368994011691488,
             16.749407507795233,
             11.9624664606991,
             7.0560004029933605,
             2.0790331216645246,
             2.9187071713790043,
             7.887284707162433,
             12.777055101341583,
             17.53916138448099,
             22.126022164742622,
             26.49180704542467,
             30.592894547135963,
             34.388307959198706,
             37.84012476539641,
             40.91385555322054,
             43.57878862067941
            ]
           },
           "mode": "lines+markers",
           "name": "h(x)=sin(x)",
           "type": "scatter",
           "x": [
            0,
            0.1,
            0.2,
            0.30000000000000004,
            0.4,
            0.5,
            0.6000000000000001,
            0.7000000000000001,
            0.8,
            0.9,
            1,
            1.1,
            1.2000000000000002,
            1.3,
            1.4000000000000001,
            1.5,
            1.6,
            1.7000000000000002,
            1.8,
            1.9000000000000001,
            2,
            2.1,
            2.2,
            2.3000000000000003,
            2.4000000000000004,
            2.5,
            2.6,
            2.7,
            2.8000000000000003,
            2.9000000000000004,
            3,
            3.1,
            3.2,
            3.3000000000000003,
            3.4000000000000004,
            3.5,
            3.6,
            3.7,
            3.8000000000000003,
            3.9000000000000004,
            4,
            4.1000000000000005,
            4.2
           ],
           "y": [
            0,
            0.09983341664682815,
            0.19866933079506122,
            0.2955202066613396,
            0.3894183423086505,
            0.479425538604203,
            0.5646424733950355,
            0.6442176872376911,
            0.7173560908995228,
            0.7833269096274834,
            0.8414709848078965,
            0.8912073600614354,
            0.9320390859672264,
            0.963558185417193,
            0.9854497299884603,
            0.9974949866040544,
            0.9995736030415051,
            0.9916648104524686,
            0.9738476308781951,
            0.9463000876874145,
            0.9092974268256817,
            0.8632093666488737,
            0.8084964038195901,
            0.74570521217672,
            0.6754631805511506,
            0.5984721441039564,
            0.5155013718214642,
            0.4273798802338298,
            0.33498815015590466,
            0.23924932921398198,
            0.1411200080598672,
            0.04158066243329049,
            -0.058374143427580086,
            -0.15774569414324865,
            -0.25554110202683167,
            -0.35078322768961984,
            -0.44252044329485246,
            -0.5298361409084934,
            -0.6118578909427193,
            -0.6877661591839741,
            -0.7568024953079282,
            -0.8182771110644108,
            -0.8715757724135882
           ]
          },
          {
           "marker": {
            "color": [
             0,
             0.010000000000000002,
             0.04000000000000001,
             0.09000000000000002,
             0.16000000000000003,
             0.25,
             0.3600000000000001,
             0.4900000000000001,
             0.6400000000000001,
             0.81,
             1,
             1.2100000000000002,
             1.4400000000000004,
             1.6900000000000002,
             1.9600000000000004,
             2.25,
             2.5600000000000005,
             2.8900000000000006,
             3.24,
             3.6100000000000003,
             4,
             4.41,
             4.840000000000001,
             5.290000000000001,
             5.760000000000002,
             6.25,
             6.760000000000001,
             7.290000000000001,
             7.840000000000002,
             8.410000000000002,
             9,
             9.610000000000001,
             10.240000000000002,
             10.890000000000002,
             11.560000000000002,
             12.25,
             12.96,
             13.690000000000001,
             14.440000000000001,
             15.210000000000003,
             16,
             16.810000000000006,
             17.64
            ],
            "colorscale": [
             [
              0,
              "#000004"
             ],
             [
              0.1111111111111111,
              "#1b0c41"
             ],
             [
              0.2222222222222222,
              "#4a0c6b"
             ],
             [
              0.3333333333333333,
              "#781c6d"
             ],
             [
              0.4444444444444444,
              "#a52c60"
             ],
             [
              0.5555555555555556,
              "#cf4446"
             ],
             [
              0.6666666666666666,
              "#ed6925"
             ],
             [
              0.7777777777777778,
              "#fb9b06"
             ],
             [
              0.8888888888888888,
              "#f7d13d"
             ],
             [
              1,
              "#fcffa4"
             ]
            ],
            "size": [
             50,
             49.75020826390129,
             49.00332889206208,
             47.7668244562803,
             46.05304970014426,
             43.879128094518634,
             41.26678074548391,
             38.24210936422442,
             34.83533546735827,
             31.08049841353322,
             27.01511529340699,
             22.679806071278865,
             18.117887723833668,
             13.374941431229367,
             8.49835714501204,
             3.5368600833851453,
             1.4599761150644408,
             6.442224714776243,
             11.360104734654355,
             16.16447834317518,
             20.80734182735712,
             25.24230522999288,
             29.42505586276729,
             33.31380106399122,
             36.86968577706229,
             40.05718077734669,
             42.84443766844737,
             45.20360710085306,
             47.11111703343291,
             48.547908257479534,
             49.49962483002227,
             49.95675751366397,
             49.914738789737655,
             49.37398849544324,
             48.33990962897305,
             46.822834364539816,
             44.83792081670735,
             42.4050015855204,
             39.54838559572082,
             36.29661521000699,
             32.6821810431806,
             28.741197326663425,
             24.513041067034973
            ]
           },
           "mode": "lines+markers",
           "name": "k(x)=cos(x)",
           "type": "scatter",
           "x": [
            0,
            0.1,
            0.2,
            0.30000000000000004,
            0.4,
            0.5,
            0.6000000000000001,
            0.7000000000000001,
            0.8,
            0.9,
            1,
            1.1,
            1.2000000000000002,
            1.3,
            1.4000000000000001,
            1.5,
            1.6,
            1.7000000000000002,
            1.8,
            1.9000000000000001,
            2,
            2.1,
            2.2,
            2.3000000000000003,
            2.4000000000000004,
            2.5,
            2.6,
            2.7,
            2.8000000000000003,
            2.9000000000000004,
            3,
            3.1,
            3.2,
            3.3000000000000003,
            3.4000000000000004,
            3.5,
            3.6,
            3.7,
            3.8000000000000003,
            3.9000000000000004,
            4,
            4.1000000000000005,
            4.2
           ],
           "y": [
            1,
            0.9950041652780258,
            0.9800665778412416,
            0.955336489125606,
            0.9210609940028851,
            0.8775825618903728,
            0.8253356149096782,
            0.7648421872844884,
            0.6967067093471654,
            0.6216099682706644,
            0.5403023058681398,
            0.4535961214255773,
            0.3623577544766734,
            0.26749882862458735,
            0.16996714290024081,
            0.0707372016677029,
            -0.029199522301288815,
            -0.12884449429552486,
            -0.2272020946930871,
            -0.3232895668635036,
            -0.4161468365471424,
            -0.5048461045998576,
            -0.5885011172553458,
            -0.6662760212798244,
            -0.7373937155412458,
            -0.8011436155469337,
            -0.8568887533689473,
            -0.9040721420170612,
            -0.9422223406686583,
            -0.9709581651495907,
            -0.9899924966004454,
            -0.9991351502732795,
            -0.9982947757947531,
            -0.9874797699088649,
            -0.9667981925794609,
            -0.9364566872907963,
            -0.896758416334147,
            -0.848100031710408,
            -0.7909677119144165,
            -0.7259323042001399,
            -0.6536436208636119,
            -0.5748239465332685,
            -0.4902608213406994
           ]
          }
         ],
         "name": "42"
        },
        {
         "data": [
          {
           "marker": {
            "color": [
             0,
             0.010000000000000002,
             0.04000000000000001,
             0.09000000000000002,
             0.16000000000000003,
             0.25,
             0.3600000000000001,
             0.4900000000000001,
             0.6400000000000001,
             0.81,
             1,
             1.2100000000000002,
             1.4400000000000004,
             1.6900000000000002,
             1.9600000000000004,
             2.25,
             2.5600000000000005,
             2.8900000000000006,
             3.24,
             3.6100000000000003,
             4,
             4.41,
             4.840000000000001,
             5.290000000000001,
             5.760000000000002,
             6.25,
             6.760000000000001,
             7.290000000000001,
             7.840000000000002,
             8.410000000000002,
             9,
             9.610000000000001,
             10.240000000000002,
             10.890000000000002,
             11.560000000000002,
             12.25,
             12.96,
             13.690000000000001,
             14.440000000000001,
             15.210000000000003,
             16,
             16.810000000000006,
             17.64,
             18.49
            ],
            "colorscale": [
             [
              0,
              "#000004"
             ],
             [
              0.1111111111111111,
              "#1b0c41"
             ],
             [
              0.2222222222222222,
              "#4a0c6b"
             ],
             [
              0.3333333333333333,
              "#781c6d"
             ],
             [
              0.4444444444444444,
              "#a52c60"
             ],
             [
              0.5555555555555556,
              "#cf4446"
             ],
             [
              0.6666666666666666,
              "#ed6925"
             ],
             [
              0.7777777777777778,
              "#fb9b06"
             ],
             [
              0.8888888888888888,
              "#f7d13d"
             ],
             [
              1,
              "#fcffa4"
             ]
            ],
            "size": [
             0,
             4.991670832341407,
             9.933466539753061,
             14.77601033306698,
             19.470917115432528,
             23.971276930210152,
             28.232123669751775,
             32.21088436188456,
             35.86780454497614,
             39.16634548137417,
             42.073549240394826,
             44.56036800307177,
             46.60195429836132,
             48.17790927085965,
             49.27248649942301,
             49.874749330202725,
             49.978680152075256,
             49.58324052262343,
             48.69238154390976,
             47.315004384370724,
             45.46487134128409,
             43.160468332443685,
             40.4248201909795,
             37.285260608836005,
             33.77315902755753,
             29.923607205197822,
             25.775068591073207,
             21.368994011691488,
             16.749407507795233,
             11.9624664606991,
             7.0560004029933605,
             2.0790331216645246,
             2.9187071713790043,
             7.887284707162433,
             12.777055101341583,
             17.53916138448099,
             22.126022164742622,
             26.49180704542467,
             30.592894547135963,
             34.388307959198706,
             37.84012476539641,
             40.91385555322054,
             43.57878862067941,
             45.808296837472746
            ]
           },
           "mode": "lines+markers",
           "name": "h(x)=sin(x)",
           "type": "scatter",
           "x": [
            0,
            0.1,
            0.2,
            0.30000000000000004,
            0.4,
            0.5,
            0.6000000000000001,
            0.7000000000000001,
            0.8,
            0.9,
            1,
            1.1,
            1.2000000000000002,
            1.3,
            1.4000000000000001,
            1.5,
            1.6,
            1.7000000000000002,
            1.8,
            1.9000000000000001,
            2,
            2.1,
            2.2,
            2.3000000000000003,
            2.4000000000000004,
            2.5,
            2.6,
            2.7,
            2.8000000000000003,
            2.9000000000000004,
            3,
            3.1,
            3.2,
            3.3000000000000003,
            3.4000000000000004,
            3.5,
            3.6,
            3.7,
            3.8000000000000003,
            3.9000000000000004,
            4,
            4.1000000000000005,
            4.2,
            4.3
           ],
           "y": [
            0,
            0.09983341664682815,
            0.19866933079506122,
            0.2955202066613396,
            0.3894183423086505,
            0.479425538604203,
            0.5646424733950355,
            0.6442176872376911,
            0.7173560908995228,
            0.7833269096274834,
            0.8414709848078965,
            0.8912073600614354,
            0.9320390859672264,
            0.963558185417193,
            0.9854497299884603,
            0.9974949866040544,
            0.9995736030415051,
            0.9916648104524686,
            0.9738476308781951,
            0.9463000876874145,
            0.9092974268256817,
            0.8632093666488737,
            0.8084964038195901,
            0.74570521217672,
            0.6754631805511506,
            0.5984721441039564,
            0.5155013718214642,
            0.4273798802338298,
            0.33498815015590466,
            0.23924932921398198,
            0.1411200080598672,
            0.04158066243329049,
            -0.058374143427580086,
            -0.15774569414324865,
            -0.25554110202683167,
            -0.35078322768961984,
            -0.44252044329485246,
            -0.5298361409084934,
            -0.6118578909427193,
            -0.6877661591839741,
            -0.7568024953079282,
            -0.8182771110644108,
            -0.8715757724135882,
            -0.9161659367494549
           ]
          },
          {
           "marker": {
            "color": [
             0,
             0.010000000000000002,
             0.04000000000000001,
             0.09000000000000002,
             0.16000000000000003,
             0.25,
             0.3600000000000001,
             0.4900000000000001,
             0.6400000000000001,
             0.81,
             1,
             1.2100000000000002,
             1.4400000000000004,
             1.6900000000000002,
             1.9600000000000004,
             2.25,
             2.5600000000000005,
             2.8900000000000006,
             3.24,
             3.6100000000000003,
             4,
             4.41,
             4.840000000000001,
             5.290000000000001,
             5.760000000000002,
             6.25,
             6.760000000000001,
             7.290000000000001,
             7.840000000000002,
             8.410000000000002,
             9,
             9.610000000000001,
             10.240000000000002,
             10.890000000000002,
             11.560000000000002,
             12.25,
             12.96,
             13.690000000000001,
             14.440000000000001,
             15.210000000000003,
             16,
             16.810000000000006,
             17.64,
             18.49
            ],
            "colorscale": [
             [
              0,
              "#000004"
             ],
             [
              0.1111111111111111,
              "#1b0c41"
             ],
             [
              0.2222222222222222,
              "#4a0c6b"
             ],
             [
              0.3333333333333333,
              "#781c6d"
             ],
             [
              0.4444444444444444,
              "#a52c60"
             ],
             [
              0.5555555555555556,
              "#cf4446"
             ],
             [
              0.6666666666666666,
              "#ed6925"
             ],
             [
              0.7777777777777778,
              "#fb9b06"
             ],
             [
              0.8888888888888888,
              "#f7d13d"
             ],
             [
              1,
              "#fcffa4"
             ]
            ],
            "size": [
             50,
             49.75020826390129,
             49.00332889206208,
             47.7668244562803,
             46.05304970014426,
             43.879128094518634,
             41.26678074548391,
             38.24210936422442,
             34.83533546735827,
             31.08049841353322,
             27.01511529340699,
             22.679806071278865,
             18.117887723833668,
             13.374941431229367,
             8.49835714501204,
             3.5368600833851453,
             1.4599761150644408,
             6.442224714776243,
             11.360104734654355,
             16.16447834317518,
             20.80734182735712,
             25.24230522999288,
             29.42505586276729,
             33.31380106399122,
             36.86968577706229,
             40.05718077734669,
             42.84443766844737,
             45.20360710085306,
             47.11111703343291,
             48.547908257479534,
             49.49962483002227,
             49.95675751366397,
             49.914738789737655,
             49.37398849544324,
             48.33990962897305,
             46.822834364539816,
             44.83792081670735,
             42.4050015855204,
             39.54838559572082,
             36.29661521000699,
             32.6821810431806,
             28.741197326663425,
             24.513041067034973,
             20.039958603998773
            ]
           },
           "mode": "lines+markers",
           "name": "k(x)=cos(x)",
           "type": "scatter",
           "x": [
            0,
            0.1,
            0.2,
            0.30000000000000004,
            0.4,
            0.5,
            0.6000000000000001,
            0.7000000000000001,
            0.8,
            0.9,
            1,
            1.1,
            1.2000000000000002,
            1.3,
            1.4000000000000001,
            1.5,
            1.6,
            1.7000000000000002,
            1.8,
            1.9000000000000001,
            2,
            2.1,
            2.2,
            2.3000000000000003,
            2.4000000000000004,
            2.5,
            2.6,
            2.7,
            2.8000000000000003,
            2.9000000000000004,
            3,
            3.1,
            3.2,
            3.3000000000000003,
            3.4000000000000004,
            3.5,
            3.6,
            3.7,
            3.8000000000000003,
            3.9000000000000004,
            4,
            4.1000000000000005,
            4.2,
            4.3
           ],
           "y": [
            1,
            0.9950041652780258,
            0.9800665778412416,
            0.955336489125606,
            0.9210609940028851,
            0.8775825618903728,
            0.8253356149096782,
            0.7648421872844884,
            0.6967067093471654,
            0.6216099682706644,
            0.5403023058681398,
            0.4535961214255773,
            0.3623577544766734,
            0.26749882862458735,
            0.16996714290024081,
            0.0707372016677029,
            -0.029199522301288815,
            -0.12884449429552486,
            -0.2272020946930871,
            -0.3232895668635036,
            -0.4161468365471424,
            -0.5048461045998576,
            -0.5885011172553458,
            -0.6662760212798244,
            -0.7373937155412458,
            -0.8011436155469337,
            -0.8568887533689473,
            -0.9040721420170612,
            -0.9422223406686583,
            -0.9709581651495907,
            -0.9899924966004454,
            -0.9991351502732795,
            -0.9982947757947531,
            -0.9874797699088649,
            -0.9667981925794609,
            -0.9364566872907963,
            -0.896758416334147,
            -0.848100031710408,
            -0.7909677119144165,
            -0.7259323042001399,
            -0.6536436208636119,
            -0.5748239465332685,
            -0.4902608213406994,
            -0.40079917207997545
           ]
          }
         ],
         "name": "43"
        },
        {
         "data": [
          {
           "marker": {
            "color": [
             0,
             0.010000000000000002,
             0.04000000000000001,
             0.09000000000000002,
             0.16000000000000003,
             0.25,
             0.3600000000000001,
             0.4900000000000001,
             0.6400000000000001,
             0.81,
             1,
             1.2100000000000002,
             1.4400000000000004,
             1.6900000000000002,
             1.9600000000000004,
             2.25,
             2.5600000000000005,
             2.8900000000000006,
             3.24,
             3.6100000000000003,
             4,
             4.41,
             4.840000000000001,
             5.290000000000001,
             5.760000000000002,
             6.25,
             6.760000000000001,
             7.290000000000001,
             7.840000000000002,
             8.410000000000002,
             9,
             9.610000000000001,
             10.240000000000002,
             10.890000000000002,
             11.560000000000002,
             12.25,
             12.96,
             13.690000000000001,
             14.440000000000001,
             15.210000000000003,
             16,
             16.810000000000006,
             17.64,
             18.49,
             19.360000000000003
            ],
            "colorscale": [
             [
              0,
              "#000004"
             ],
             [
              0.1111111111111111,
              "#1b0c41"
             ],
             [
              0.2222222222222222,
              "#4a0c6b"
             ],
             [
              0.3333333333333333,
              "#781c6d"
             ],
             [
              0.4444444444444444,
              "#a52c60"
             ],
             [
              0.5555555555555556,
              "#cf4446"
             ],
             [
              0.6666666666666666,
              "#ed6925"
             ],
             [
              0.7777777777777778,
              "#fb9b06"
             ],
             [
              0.8888888888888888,
              "#f7d13d"
             ],
             [
              1,
              "#fcffa4"
             ]
            ],
            "size": [
             0,
             4.991670832341407,
             9.933466539753061,
             14.77601033306698,
             19.470917115432528,
             23.971276930210152,
             28.232123669751775,
             32.21088436188456,
             35.86780454497614,
             39.16634548137417,
             42.073549240394826,
             44.56036800307177,
             46.60195429836132,
             48.17790927085965,
             49.27248649942301,
             49.874749330202725,
             49.978680152075256,
             49.58324052262343,
             48.69238154390976,
             47.315004384370724,
             45.46487134128409,
             43.160468332443685,
             40.4248201909795,
             37.285260608836005,
             33.77315902755753,
             29.923607205197822,
             25.775068591073207,
             21.368994011691488,
             16.749407507795233,
             11.9624664606991,
             7.0560004029933605,
             2.0790331216645246,
             2.9187071713790043,
             7.887284707162433,
             12.777055101341583,
             17.53916138448099,
             22.126022164742622,
             26.49180704542467,
             30.592894547135963,
             34.388307959198706,
             37.84012476539641,
             40.91385555322054,
             43.57878862067941,
             45.808296837472746,
             47.58010369447581
            ]
           },
           "mode": "lines+markers",
           "name": "h(x)=sin(x)",
           "type": "scatter",
           "x": [
            0,
            0.1,
            0.2,
            0.30000000000000004,
            0.4,
            0.5,
            0.6000000000000001,
            0.7000000000000001,
            0.8,
            0.9,
            1,
            1.1,
            1.2000000000000002,
            1.3,
            1.4000000000000001,
            1.5,
            1.6,
            1.7000000000000002,
            1.8,
            1.9000000000000001,
            2,
            2.1,
            2.2,
            2.3000000000000003,
            2.4000000000000004,
            2.5,
            2.6,
            2.7,
            2.8000000000000003,
            2.9000000000000004,
            3,
            3.1,
            3.2,
            3.3000000000000003,
            3.4000000000000004,
            3.5,
            3.6,
            3.7,
            3.8000000000000003,
            3.9000000000000004,
            4,
            4.1000000000000005,
            4.2,
            4.3,
            4.4
           ],
           "y": [
            0,
            0.09983341664682815,
            0.19866933079506122,
            0.2955202066613396,
            0.3894183423086505,
            0.479425538604203,
            0.5646424733950355,
            0.6442176872376911,
            0.7173560908995228,
            0.7833269096274834,
            0.8414709848078965,
            0.8912073600614354,
            0.9320390859672264,
            0.963558185417193,
            0.9854497299884603,
            0.9974949866040544,
            0.9995736030415051,
            0.9916648104524686,
            0.9738476308781951,
            0.9463000876874145,
            0.9092974268256817,
            0.8632093666488737,
            0.8084964038195901,
            0.74570521217672,
            0.6754631805511506,
            0.5984721441039564,
            0.5155013718214642,
            0.4273798802338298,
            0.33498815015590466,
            0.23924932921398198,
            0.1411200080598672,
            0.04158066243329049,
            -0.058374143427580086,
            -0.15774569414324865,
            -0.25554110202683167,
            -0.35078322768961984,
            -0.44252044329485246,
            -0.5298361409084934,
            -0.6118578909427193,
            -0.6877661591839741,
            -0.7568024953079282,
            -0.8182771110644108,
            -0.8715757724135882,
            -0.9161659367494549,
            -0.9516020738895161
           ]
          },
          {
           "marker": {
            "color": [
             0,
             0.010000000000000002,
             0.04000000000000001,
             0.09000000000000002,
             0.16000000000000003,
             0.25,
             0.3600000000000001,
             0.4900000000000001,
             0.6400000000000001,
             0.81,
             1,
             1.2100000000000002,
             1.4400000000000004,
             1.6900000000000002,
             1.9600000000000004,
             2.25,
             2.5600000000000005,
             2.8900000000000006,
             3.24,
             3.6100000000000003,
             4,
             4.41,
             4.840000000000001,
             5.290000000000001,
             5.760000000000002,
             6.25,
             6.760000000000001,
             7.290000000000001,
             7.840000000000002,
             8.410000000000002,
             9,
             9.610000000000001,
             10.240000000000002,
             10.890000000000002,
             11.560000000000002,
             12.25,
             12.96,
             13.690000000000001,
             14.440000000000001,
             15.210000000000003,
             16,
             16.810000000000006,
             17.64,
             18.49,
             19.360000000000003
            ],
            "colorscale": [
             [
              0,
              "#000004"
             ],
             [
              0.1111111111111111,
              "#1b0c41"
             ],
             [
              0.2222222222222222,
              "#4a0c6b"
             ],
             [
              0.3333333333333333,
              "#781c6d"
             ],
             [
              0.4444444444444444,
              "#a52c60"
             ],
             [
              0.5555555555555556,
              "#cf4446"
             ],
             [
              0.6666666666666666,
              "#ed6925"
             ],
             [
              0.7777777777777778,
              "#fb9b06"
             ],
             [
              0.8888888888888888,
              "#f7d13d"
             ],
             [
              1,
              "#fcffa4"
             ]
            ],
            "size": [
             50,
             49.75020826390129,
             49.00332889206208,
             47.7668244562803,
             46.05304970014426,
             43.879128094518634,
             41.26678074548391,
             38.24210936422442,
             34.83533546735827,
             31.08049841353322,
             27.01511529340699,
             22.679806071278865,
             18.117887723833668,
             13.374941431229367,
             8.49835714501204,
             3.5368600833851453,
             1.4599761150644408,
             6.442224714776243,
             11.360104734654355,
             16.16447834317518,
             20.80734182735712,
             25.24230522999288,
             29.42505586276729,
             33.31380106399122,
             36.86968577706229,
             40.05718077734669,
             42.84443766844737,
             45.20360710085306,
             47.11111703343291,
             48.547908257479534,
             49.49962483002227,
             49.95675751366397,
             49.914738789737655,
             49.37398849544324,
             48.33990962897305,
             46.822834364539816,
             44.83792081670735,
             42.4050015855204,
             39.54838559572082,
             36.29661521000699,
             32.6821810431806,
             28.741197326663425,
             24.513041067034973,
             20.039958603998773,
             15.366643498920968
            ]
           },
           "mode": "lines+markers",
           "name": "k(x)=cos(x)",
           "type": "scatter",
           "x": [
            0,
            0.1,
            0.2,
            0.30000000000000004,
            0.4,
            0.5,
            0.6000000000000001,
            0.7000000000000001,
            0.8,
            0.9,
            1,
            1.1,
            1.2000000000000002,
            1.3,
            1.4000000000000001,
            1.5,
            1.6,
            1.7000000000000002,
            1.8,
            1.9000000000000001,
            2,
            2.1,
            2.2,
            2.3000000000000003,
            2.4000000000000004,
            2.5,
            2.6,
            2.7,
            2.8000000000000003,
            2.9000000000000004,
            3,
            3.1,
            3.2,
            3.3000000000000003,
            3.4000000000000004,
            3.5,
            3.6,
            3.7,
            3.8000000000000003,
            3.9000000000000004,
            4,
            4.1000000000000005,
            4.2,
            4.3,
            4.4
           ],
           "y": [
            1,
            0.9950041652780258,
            0.9800665778412416,
            0.955336489125606,
            0.9210609940028851,
            0.8775825618903728,
            0.8253356149096782,
            0.7648421872844884,
            0.6967067093471654,
            0.6216099682706644,
            0.5403023058681398,
            0.4535961214255773,
            0.3623577544766734,
            0.26749882862458735,
            0.16996714290024081,
            0.0707372016677029,
            -0.029199522301288815,
            -0.12884449429552486,
            -0.2272020946930871,
            -0.3232895668635036,
            -0.4161468365471424,
            -0.5048461045998576,
            -0.5885011172553458,
            -0.6662760212798244,
            -0.7373937155412458,
            -0.8011436155469337,
            -0.8568887533689473,
            -0.9040721420170612,
            -0.9422223406686583,
            -0.9709581651495907,
            -0.9899924966004454,
            -0.9991351502732795,
            -0.9982947757947531,
            -0.9874797699088649,
            -0.9667981925794609,
            -0.9364566872907963,
            -0.896758416334147,
            -0.848100031710408,
            -0.7909677119144165,
            -0.7259323042001399,
            -0.6536436208636119,
            -0.5748239465332685,
            -0.4902608213406994,
            -0.40079917207997545,
            -0.30733286997841935
           ]
          }
         ],
         "name": "44"
        },
        {
         "data": [
          {
           "marker": {
            "color": [
             0,
             0.010000000000000002,
             0.04000000000000001,
             0.09000000000000002,
             0.16000000000000003,
             0.25,
             0.3600000000000001,
             0.4900000000000001,
             0.6400000000000001,
             0.81,
             1,
             1.2100000000000002,
             1.4400000000000004,
             1.6900000000000002,
             1.9600000000000004,
             2.25,
             2.5600000000000005,
             2.8900000000000006,
             3.24,
             3.6100000000000003,
             4,
             4.41,
             4.840000000000001,
             5.290000000000001,
             5.760000000000002,
             6.25,
             6.760000000000001,
             7.290000000000001,
             7.840000000000002,
             8.410000000000002,
             9,
             9.610000000000001,
             10.240000000000002,
             10.890000000000002,
             11.560000000000002,
             12.25,
             12.96,
             13.690000000000001,
             14.440000000000001,
             15.210000000000003,
             16,
             16.810000000000006,
             17.64,
             18.49,
             19.360000000000003,
             20.25
            ],
            "colorscale": [
             [
              0,
              "#000004"
             ],
             [
              0.1111111111111111,
              "#1b0c41"
             ],
             [
              0.2222222222222222,
              "#4a0c6b"
             ],
             [
              0.3333333333333333,
              "#781c6d"
             ],
             [
              0.4444444444444444,
              "#a52c60"
             ],
             [
              0.5555555555555556,
              "#cf4446"
             ],
             [
              0.6666666666666666,
              "#ed6925"
             ],
             [
              0.7777777777777778,
              "#fb9b06"
             ],
             [
              0.8888888888888888,
              "#f7d13d"
             ],
             [
              1,
              "#fcffa4"
             ]
            ],
            "size": [
             0,
             4.991670832341407,
             9.933466539753061,
             14.77601033306698,
             19.470917115432528,
             23.971276930210152,
             28.232123669751775,
             32.21088436188456,
             35.86780454497614,
             39.16634548137417,
             42.073549240394826,
             44.56036800307177,
             46.60195429836132,
             48.17790927085965,
             49.27248649942301,
             49.874749330202725,
             49.978680152075256,
             49.58324052262343,
             48.69238154390976,
             47.315004384370724,
             45.46487134128409,
             43.160468332443685,
             40.4248201909795,
             37.285260608836005,
             33.77315902755753,
             29.923607205197822,
             25.775068591073207,
             21.368994011691488,
             16.749407507795233,
             11.9624664606991,
             7.0560004029933605,
             2.0790331216645246,
             2.9187071713790043,
             7.887284707162433,
             12.777055101341583,
             17.53916138448099,
             22.126022164742622,
             26.49180704542467,
             30.592894547135963,
             34.388307959198706,
             37.84012476539641,
             40.91385555322054,
             43.57878862067941,
             45.808296837472746,
             47.58010369447581,
             48.87650588325485
            ]
           },
           "mode": "lines+markers",
           "name": "h(x)=sin(x)",
           "type": "scatter",
           "x": [
            0,
            0.1,
            0.2,
            0.30000000000000004,
            0.4,
            0.5,
            0.6000000000000001,
            0.7000000000000001,
            0.8,
            0.9,
            1,
            1.1,
            1.2000000000000002,
            1.3,
            1.4000000000000001,
            1.5,
            1.6,
            1.7000000000000002,
            1.8,
            1.9000000000000001,
            2,
            2.1,
            2.2,
            2.3000000000000003,
            2.4000000000000004,
            2.5,
            2.6,
            2.7,
            2.8000000000000003,
            2.9000000000000004,
            3,
            3.1,
            3.2,
            3.3000000000000003,
            3.4000000000000004,
            3.5,
            3.6,
            3.7,
            3.8000000000000003,
            3.9000000000000004,
            4,
            4.1000000000000005,
            4.2,
            4.3,
            4.4,
            4.5
           ],
           "y": [
            0,
            0.09983341664682815,
            0.19866933079506122,
            0.2955202066613396,
            0.3894183423086505,
            0.479425538604203,
            0.5646424733950355,
            0.6442176872376911,
            0.7173560908995228,
            0.7833269096274834,
            0.8414709848078965,
            0.8912073600614354,
            0.9320390859672264,
            0.963558185417193,
            0.9854497299884603,
            0.9974949866040544,
            0.9995736030415051,
            0.9916648104524686,
            0.9738476308781951,
            0.9463000876874145,
            0.9092974268256817,
            0.8632093666488737,
            0.8084964038195901,
            0.74570521217672,
            0.6754631805511506,
            0.5984721441039564,
            0.5155013718214642,
            0.4273798802338298,
            0.33498815015590466,
            0.23924932921398198,
            0.1411200080598672,
            0.04158066243329049,
            -0.058374143427580086,
            -0.15774569414324865,
            -0.25554110202683167,
            -0.35078322768961984,
            -0.44252044329485246,
            -0.5298361409084934,
            -0.6118578909427193,
            -0.6877661591839741,
            -0.7568024953079282,
            -0.8182771110644108,
            -0.8715757724135882,
            -0.9161659367494549,
            -0.9516020738895161,
            -0.977530117665097
           ]
          },
          {
           "marker": {
            "color": [
             0,
             0.010000000000000002,
             0.04000000000000001,
             0.09000000000000002,
             0.16000000000000003,
             0.25,
             0.3600000000000001,
             0.4900000000000001,
             0.6400000000000001,
             0.81,
             1,
             1.2100000000000002,
             1.4400000000000004,
             1.6900000000000002,
             1.9600000000000004,
             2.25,
             2.5600000000000005,
             2.8900000000000006,
             3.24,
             3.6100000000000003,
             4,
             4.41,
             4.840000000000001,
             5.290000000000001,
             5.760000000000002,
             6.25,
             6.760000000000001,
             7.290000000000001,
             7.840000000000002,
             8.410000000000002,
             9,
             9.610000000000001,
             10.240000000000002,
             10.890000000000002,
             11.560000000000002,
             12.25,
             12.96,
             13.690000000000001,
             14.440000000000001,
             15.210000000000003,
             16,
             16.810000000000006,
             17.64,
             18.49,
             19.360000000000003,
             20.25
            ],
            "colorscale": [
             [
              0,
              "#000004"
             ],
             [
              0.1111111111111111,
              "#1b0c41"
             ],
             [
              0.2222222222222222,
              "#4a0c6b"
             ],
             [
              0.3333333333333333,
              "#781c6d"
             ],
             [
              0.4444444444444444,
              "#a52c60"
             ],
             [
              0.5555555555555556,
              "#cf4446"
             ],
             [
              0.6666666666666666,
              "#ed6925"
             ],
             [
              0.7777777777777778,
              "#fb9b06"
             ],
             [
              0.8888888888888888,
              "#f7d13d"
             ],
             [
              1,
              "#fcffa4"
             ]
            ],
            "size": [
             50,
             49.75020826390129,
             49.00332889206208,
             47.7668244562803,
             46.05304970014426,
             43.879128094518634,
             41.26678074548391,
             38.24210936422442,
             34.83533546735827,
             31.08049841353322,
             27.01511529340699,
             22.679806071278865,
             18.117887723833668,
             13.374941431229367,
             8.49835714501204,
             3.5368600833851453,
             1.4599761150644408,
             6.442224714776243,
             11.360104734654355,
             16.16447834317518,
             20.80734182735712,
             25.24230522999288,
             29.42505586276729,
             33.31380106399122,
             36.86968577706229,
             40.05718077734669,
             42.84443766844737,
             45.20360710085306,
             47.11111703343291,
             48.547908257479534,
             49.49962483002227,
             49.95675751366397,
             49.914738789737655,
             49.37398849544324,
             48.33990962897305,
             46.822834364539816,
             44.83792081670735,
             42.4050015855204,
             39.54838559572082,
             36.29661521000699,
             32.6821810431806,
             28.741197326663425,
             24.513041067034973,
             20.039958603998773,
             15.366643498920968,
             10.539789971538985
            ]
           },
           "mode": "lines+markers",
           "name": "k(x)=cos(x)",
           "type": "scatter",
           "x": [
            0,
            0.1,
            0.2,
            0.30000000000000004,
            0.4,
            0.5,
            0.6000000000000001,
            0.7000000000000001,
            0.8,
            0.9,
            1,
            1.1,
            1.2000000000000002,
            1.3,
            1.4000000000000001,
            1.5,
            1.6,
            1.7000000000000002,
            1.8,
            1.9000000000000001,
            2,
            2.1,
            2.2,
            2.3000000000000003,
            2.4000000000000004,
            2.5,
            2.6,
            2.7,
            2.8000000000000003,
            2.9000000000000004,
            3,
            3.1,
            3.2,
            3.3000000000000003,
            3.4000000000000004,
            3.5,
            3.6,
            3.7,
            3.8000000000000003,
            3.9000000000000004,
            4,
            4.1000000000000005,
            4.2,
            4.3,
            4.4,
            4.5
           ],
           "y": [
            1,
            0.9950041652780258,
            0.9800665778412416,
            0.955336489125606,
            0.9210609940028851,
            0.8775825618903728,
            0.8253356149096782,
            0.7648421872844884,
            0.6967067093471654,
            0.6216099682706644,
            0.5403023058681398,
            0.4535961214255773,
            0.3623577544766734,
            0.26749882862458735,
            0.16996714290024081,
            0.0707372016677029,
            -0.029199522301288815,
            -0.12884449429552486,
            -0.2272020946930871,
            -0.3232895668635036,
            -0.4161468365471424,
            -0.5048461045998576,
            -0.5885011172553458,
            -0.6662760212798244,
            -0.7373937155412458,
            -0.8011436155469337,
            -0.8568887533689473,
            -0.9040721420170612,
            -0.9422223406686583,
            -0.9709581651495907,
            -0.9899924966004454,
            -0.9991351502732795,
            -0.9982947757947531,
            -0.9874797699088649,
            -0.9667981925794609,
            -0.9364566872907963,
            -0.896758416334147,
            -0.848100031710408,
            -0.7909677119144165,
            -0.7259323042001399,
            -0.6536436208636119,
            -0.5748239465332685,
            -0.4902608213406994,
            -0.40079917207997545,
            -0.30733286997841935,
            -0.2107957994307797
           ]
          }
         ],
         "name": "45"
        },
        {
         "data": [
          {
           "marker": {
            "color": [
             0,
             0.010000000000000002,
             0.04000000000000001,
             0.09000000000000002,
             0.16000000000000003,
             0.25,
             0.3600000000000001,
             0.4900000000000001,
             0.6400000000000001,
             0.81,
             1,
             1.2100000000000002,
             1.4400000000000004,
             1.6900000000000002,
             1.9600000000000004,
             2.25,
             2.5600000000000005,
             2.8900000000000006,
             3.24,
             3.6100000000000003,
             4,
             4.41,
             4.840000000000001,
             5.290000000000001,
             5.760000000000002,
             6.25,
             6.760000000000001,
             7.290000000000001,
             7.840000000000002,
             8.410000000000002,
             9,
             9.610000000000001,
             10.240000000000002,
             10.890000000000002,
             11.560000000000002,
             12.25,
             12.96,
             13.690000000000001,
             14.440000000000001,
             15.210000000000003,
             16,
             16.810000000000006,
             17.64,
             18.49,
             19.360000000000003,
             20.25,
             21.160000000000004
            ],
            "colorscale": [
             [
              0,
              "#000004"
             ],
             [
              0.1111111111111111,
              "#1b0c41"
             ],
             [
              0.2222222222222222,
              "#4a0c6b"
             ],
             [
              0.3333333333333333,
              "#781c6d"
             ],
             [
              0.4444444444444444,
              "#a52c60"
             ],
             [
              0.5555555555555556,
              "#cf4446"
             ],
             [
              0.6666666666666666,
              "#ed6925"
             ],
             [
              0.7777777777777778,
              "#fb9b06"
             ],
             [
              0.8888888888888888,
              "#f7d13d"
             ],
             [
              1,
              "#fcffa4"
             ]
            ],
            "size": [
             0,
             4.991670832341407,
             9.933466539753061,
             14.77601033306698,
             19.470917115432528,
             23.971276930210152,
             28.232123669751775,
             32.21088436188456,
             35.86780454497614,
             39.16634548137417,
             42.073549240394826,
             44.56036800307177,
             46.60195429836132,
             48.17790927085965,
             49.27248649942301,
             49.874749330202725,
             49.978680152075256,
             49.58324052262343,
             48.69238154390976,
             47.315004384370724,
             45.46487134128409,
             43.160468332443685,
             40.4248201909795,
             37.285260608836005,
             33.77315902755753,
             29.923607205197822,
             25.775068591073207,
             21.368994011691488,
             16.749407507795233,
             11.9624664606991,
             7.0560004029933605,
             2.0790331216645246,
             2.9187071713790043,
             7.887284707162433,
             12.777055101341583,
             17.53916138448099,
             22.126022164742622,
             26.49180704542467,
             30.592894547135963,
             34.388307959198706,
             37.84012476539641,
             40.91385555322054,
             43.57878862067941,
             45.808296837472746,
             47.58010369447581,
             48.87650588325485,
             49.684550181673224
            ]
           },
           "mode": "lines+markers",
           "name": "h(x)=sin(x)",
           "type": "scatter",
           "x": [
            0,
            0.1,
            0.2,
            0.30000000000000004,
            0.4,
            0.5,
            0.6000000000000001,
            0.7000000000000001,
            0.8,
            0.9,
            1,
            1.1,
            1.2000000000000002,
            1.3,
            1.4000000000000001,
            1.5,
            1.6,
            1.7000000000000002,
            1.8,
            1.9000000000000001,
            2,
            2.1,
            2.2,
            2.3000000000000003,
            2.4000000000000004,
            2.5,
            2.6,
            2.7,
            2.8000000000000003,
            2.9000000000000004,
            3,
            3.1,
            3.2,
            3.3000000000000003,
            3.4000000000000004,
            3.5,
            3.6,
            3.7,
            3.8000000000000003,
            3.9000000000000004,
            4,
            4.1000000000000005,
            4.2,
            4.3,
            4.4,
            4.5,
            4.6000000000000005
           ],
           "y": [
            0,
            0.09983341664682815,
            0.19866933079506122,
            0.2955202066613396,
            0.3894183423086505,
            0.479425538604203,
            0.5646424733950355,
            0.6442176872376911,
            0.7173560908995228,
            0.7833269096274834,
            0.8414709848078965,
            0.8912073600614354,
            0.9320390859672264,
            0.963558185417193,
            0.9854497299884603,
            0.9974949866040544,
            0.9995736030415051,
            0.9916648104524686,
            0.9738476308781951,
            0.9463000876874145,
            0.9092974268256817,
            0.8632093666488737,
            0.8084964038195901,
            0.74570521217672,
            0.6754631805511506,
            0.5984721441039564,
            0.5155013718214642,
            0.4273798802338298,
            0.33498815015590466,
            0.23924932921398198,
            0.1411200080598672,
            0.04158066243329049,
            -0.058374143427580086,
            -0.15774569414324865,
            -0.25554110202683167,
            -0.35078322768961984,
            -0.44252044329485246,
            -0.5298361409084934,
            -0.6118578909427193,
            -0.6877661591839741,
            -0.7568024953079282,
            -0.8182771110644108,
            -0.8715757724135882,
            -0.9161659367494549,
            -0.9516020738895161,
            -0.977530117665097,
            -0.9936910036334645
           ]
          },
          {
           "marker": {
            "color": [
             0,
             0.010000000000000002,
             0.04000000000000001,
             0.09000000000000002,
             0.16000000000000003,
             0.25,
             0.3600000000000001,
             0.4900000000000001,
             0.6400000000000001,
             0.81,
             1,
             1.2100000000000002,
             1.4400000000000004,
             1.6900000000000002,
             1.9600000000000004,
             2.25,
             2.5600000000000005,
             2.8900000000000006,
             3.24,
             3.6100000000000003,
             4,
             4.41,
             4.840000000000001,
             5.290000000000001,
             5.760000000000002,
             6.25,
             6.760000000000001,
             7.290000000000001,
             7.840000000000002,
             8.410000000000002,
             9,
             9.610000000000001,
             10.240000000000002,
             10.890000000000002,
             11.560000000000002,
             12.25,
             12.96,
             13.690000000000001,
             14.440000000000001,
             15.210000000000003,
             16,
             16.810000000000006,
             17.64,
             18.49,
             19.360000000000003,
             20.25,
             21.160000000000004
            ],
            "colorscale": [
             [
              0,
              "#000004"
             ],
             [
              0.1111111111111111,
              "#1b0c41"
             ],
             [
              0.2222222222222222,
              "#4a0c6b"
             ],
             [
              0.3333333333333333,
              "#781c6d"
             ],
             [
              0.4444444444444444,
              "#a52c60"
             ],
             [
              0.5555555555555556,
              "#cf4446"
             ],
             [
              0.6666666666666666,
              "#ed6925"
             ],
             [
              0.7777777777777778,
              "#fb9b06"
             ],
             [
              0.8888888888888888,
              "#f7d13d"
             ],
             [
              1,
              "#fcffa4"
             ]
            ],
            "size": [
             50,
             49.75020826390129,
             49.00332889206208,
             47.7668244562803,
             46.05304970014426,
             43.879128094518634,
             41.26678074548391,
             38.24210936422442,
             34.83533546735827,
             31.08049841353322,
             27.01511529340699,
             22.679806071278865,
             18.117887723833668,
             13.374941431229367,
             8.49835714501204,
             3.5368600833851453,
             1.4599761150644408,
             6.442224714776243,
             11.360104734654355,
             16.16447834317518,
             20.80734182735712,
             25.24230522999288,
             29.42505586276729,
             33.31380106399122,
             36.86968577706229,
             40.05718077734669,
             42.84443766844737,
             45.20360710085306,
             47.11111703343291,
             48.547908257479534,
             49.49962483002227,
             49.95675751366397,
             49.914738789737655,
             49.37398849544324,
             48.33990962897305,
             46.822834364539816,
             44.83792081670735,
             42.4050015855204,
             39.54838559572082,
             36.29661521000699,
             32.6821810431806,
             28.741197326663425,
             24.513041067034973,
             20.039958603998773,
             15.366643498920968,
             10.539789971538985,
             5.607626346752699
            ]
           },
           "mode": "lines+markers",
           "name": "k(x)=cos(x)",
           "type": "scatter",
           "x": [
            0,
            0.1,
            0.2,
            0.30000000000000004,
            0.4,
            0.5,
            0.6000000000000001,
            0.7000000000000001,
            0.8,
            0.9,
            1,
            1.1,
            1.2000000000000002,
            1.3,
            1.4000000000000001,
            1.5,
            1.6,
            1.7000000000000002,
            1.8,
            1.9000000000000001,
            2,
            2.1,
            2.2,
            2.3000000000000003,
            2.4000000000000004,
            2.5,
            2.6,
            2.7,
            2.8000000000000003,
            2.9000000000000004,
            3,
            3.1,
            3.2,
            3.3000000000000003,
            3.4000000000000004,
            3.5,
            3.6,
            3.7,
            3.8000000000000003,
            3.9000000000000004,
            4,
            4.1000000000000005,
            4.2,
            4.3,
            4.4,
            4.5,
            4.6000000000000005
           ],
           "y": [
            1,
            0.9950041652780258,
            0.9800665778412416,
            0.955336489125606,
            0.9210609940028851,
            0.8775825618903728,
            0.8253356149096782,
            0.7648421872844884,
            0.6967067093471654,
            0.6216099682706644,
            0.5403023058681398,
            0.4535961214255773,
            0.3623577544766734,
            0.26749882862458735,
            0.16996714290024081,
            0.0707372016677029,
            -0.029199522301288815,
            -0.12884449429552486,
            -0.2272020946930871,
            -0.3232895668635036,
            -0.4161468365471424,
            -0.5048461045998576,
            -0.5885011172553458,
            -0.6662760212798244,
            -0.7373937155412458,
            -0.8011436155469337,
            -0.8568887533689473,
            -0.9040721420170612,
            -0.9422223406686583,
            -0.9709581651495907,
            -0.9899924966004454,
            -0.9991351502732795,
            -0.9982947757947531,
            -0.9874797699088649,
            -0.9667981925794609,
            -0.9364566872907963,
            -0.896758416334147,
            -0.848100031710408,
            -0.7909677119144165,
            -0.7259323042001399,
            -0.6536436208636119,
            -0.5748239465332685,
            -0.4902608213406994,
            -0.40079917207997545,
            -0.30733286997841935,
            -0.2107957994307797,
            -0.11215252693505398
           ]
          }
         ],
         "name": "46"
        },
        {
         "data": [
          {
           "marker": {
            "color": [
             0,
             0.010000000000000002,
             0.04000000000000001,
             0.09000000000000002,
             0.16000000000000003,
             0.25,
             0.3600000000000001,
             0.4900000000000001,
             0.6400000000000001,
             0.81,
             1,
             1.2100000000000002,
             1.4400000000000004,
             1.6900000000000002,
             1.9600000000000004,
             2.25,
             2.5600000000000005,
             2.8900000000000006,
             3.24,
             3.6100000000000003,
             4,
             4.41,
             4.840000000000001,
             5.290000000000001,
             5.760000000000002,
             6.25,
             6.760000000000001,
             7.290000000000001,
             7.840000000000002,
             8.410000000000002,
             9,
             9.610000000000001,
             10.240000000000002,
             10.890000000000002,
             11.560000000000002,
             12.25,
             12.96,
             13.690000000000001,
             14.440000000000001,
             15.210000000000003,
             16,
             16.810000000000006,
             17.64,
             18.49,
             19.360000000000003,
             20.25,
             21.160000000000004,
             22.090000000000003
            ],
            "colorscale": [
             [
              0,
              "#000004"
             ],
             [
              0.1111111111111111,
              "#1b0c41"
             ],
             [
              0.2222222222222222,
              "#4a0c6b"
             ],
             [
              0.3333333333333333,
              "#781c6d"
             ],
             [
              0.4444444444444444,
              "#a52c60"
             ],
             [
              0.5555555555555556,
              "#cf4446"
             ],
             [
              0.6666666666666666,
              "#ed6925"
             ],
             [
              0.7777777777777778,
              "#fb9b06"
             ],
             [
              0.8888888888888888,
              "#f7d13d"
             ],
             [
              1,
              "#fcffa4"
             ]
            ],
            "size": [
             0,
             4.991670832341407,
             9.933466539753061,
             14.77601033306698,
             19.470917115432528,
             23.971276930210152,
             28.232123669751775,
             32.21088436188456,
             35.86780454497614,
             39.16634548137417,
             42.073549240394826,
             44.56036800307177,
             46.60195429836132,
             48.17790927085965,
             49.27248649942301,
             49.874749330202725,
             49.978680152075256,
             49.58324052262343,
             48.69238154390976,
             47.315004384370724,
             45.46487134128409,
             43.160468332443685,
             40.4248201909795,
             37.285260608836005,
             33.77315902755753,
             29.923607205197822,
             25.775068591073207,
             21.368994011691488,
             16.749407507795233,
             11.9624664606991,
             7.0560004029933605,
             2.0790331216645246,
             2.9187071713790043,
             7.887284707162433,
             12.777055101341583,
             17.53916138448099,
             22.126022164742622,
             26.49180704542467,
             30.592894547135963,
             34.388307959198706,
             37.84012476539641,
             40.91385555322054,
             43.57878862067941,
             45.808296837472746,
             47.58010369447581,
             48.87650588325485,
             49.684550181673224,
             49.99616287820504
            ]
           },
           "mode": "lines+markers",
           "name": "h(x)=sin(x)",
           "type": "scatter",
           "x": [
            0,
            0.1,
            0.2,
            0.30000000000000004,
            0.4,
            0.5,
            0.6000000000000001,
            0.7000000000000001,
            0.8,
            0.9,
            1,
            1.1,
            1.2000000000000002,
            1.3,
            1.4000000000000001,
            1.5,
            1.6,
            1.7000000000000002,
            1.8,
            1.9000000000000001,
            2,
            2.1,
            2.2,
            2.3000000000000003,
            2.4000000000000004,
            2.5,
            2.6,
            2.7,
            2.8000000000000003,
            2.9000000000000004,
            3,
            3.1,
            3.2,
            3.3000000000000003,
            3.4000000000000004,
            3.5,
            3.6,
            3.7,
            3.8000000000000003,
            3.9000000000000004,
            4,
            4.1000000000000005,
            4.2,
            4.3,
            4.4,
            4.5,
            4.6000000000000005,
            4.7
           ],
           "y": [
            0,
            0.09983341664682815,
            0.19866933079506122,
            0.2955202066613396,
            0.3894183423086505,
            0.479425538604203,
            0.5646424733950355,
            0.6442176872376911,
            0.7173560908995228,
            0.7833269096274834,
            0.8414709848078965,
            0.8912073600614354,
            0.9320390859672264,
            0.963558185417193,
            0.9854497299884603,
            0.9974949866040544,
            0.9995736030415051,
            0.9916648104524686,
            0.9738476308781951,
            0.9463000876874145,
            0.9092974268256817,
            0.8632093666488737,
            0.8084964038195901,
            0.74570521217672,
            0.6754631805511506,
            0.5984721441039564,
            0.5155013718214642,
            0.4273798802338298,
            0.33498815015590466,
            0.23924932921398198,
            0.1411200080598672,
            0.04158066243329049,
            -0.058374143427580086,
            -0.15774569414324865,
            -0.25554110202683167,
            -0.35078322768961984,
            -0.44252044329485246,
            -0.5298361409084934,
            -0.6118578909427193,
            -0.6877661591839741,
            -0.7568024953079282,
            -0.8182771110644108,
            -0.8715757724135882,
            -0.9161659367494549,
            -0.9516020738895161,
            -0.977530117665097,
            -0.9936910036334645,
            -0.9999232575641008
           ]
          },
          {
           "marker": {
            "color": [
             0,
             0.010000000000000002,
             0.04000000000000001,
             0.09000000000000002,
             0.16000000000000003,
             0.25,
             0.3600000000000001,
             0.4900000000000001,
             0.6400000000000001,
             0.81,
             1,
             1.2100000000000002,
             1.4400000000000004,
             1.6900000000000002,
             1.9600000000000004,
             2.25,
             2.5600000000000005,
             2.8900000000000006,
             3.24,
             3.6100000000000003,
             4,
             4.41,
             4.840000000000001,
             5.290000000000001,
             5.760000000000002,
             6.25,
             6.760000000000001,
             7.290000000000001,
             7.840000000000002,
             8.410000000000002,
             9,
             9.610000000000001,
             10.240000000000002,
             10.890000000000002,
             11.560000000000002,
             12.25,
             12.96,
             13.690000000000001,
             14.440000000000001,
             15.210000000000003,
             16,
             16.810000000000006,
             17.64,
             18.49,
             19.360000000000003,
             20.25,
             21.160000000000004,
             22.090000000000003
            ],
            "colorscale": [
             [
              0,
              "#000004"
             ],
             [
              0.1111111111111111,
              "#1b0c41"
             ],
             [
              0.2222222222222222,
              "#4a0c6b"
             ],
             [
              0.3333333333333333,
              "#781c6d"
             ],
             [
              0.4444444444444444,
              "#a52c60"
             ],
             [
              0.5555555555555556,
              "#cf4446"
             ],
             [
              0.6666666666666666,
              "#ed6925"
             ],
             [
              0.7777777777777778,
              "#fb9b06"
             ],
             [
              0.8888888888888888,
              "#f7d13d"
             ],
             [
              1,
              "#fcffa4"
             ]
            ],
            "size": [
             50,
             49.75020826390129,
             49.00332889206208,
             47.7668244562803,
             46.05304970014426,
             43.879128094518634,
             41.26678074548391,
             38.24210936422442,
             34.83533546735827,
             31.08049841353322,
             27.01511529340699,
             22.679806071278865,
             18.117887723833668,
             13.374941431229367,
             8.49835714501204,
             3.5368600833851453,
             1.4599761150644408,
             6.442224714776243,
             11.360104734654355,
             16.16447834317518,
             20.80734182735712,
             25.24230522999288,
             29.42505586276729,
             33.31380106399122,
             36.86968577706229,
             40.05718077734669,
             42.84443766844737,
             45.20360710085306,
             47.11111703343291,
             48.547908257479534,
             49.49962483002227,
             49.95675751366397,
             49.914738789737655,
             49.37398849544324,
             48.33990962897305,
             46.822834364539816,
             44.83792081670735,
             42.4050015855204,
             39.54838559572082,
             36.29661521000699,
             32.6821810431806,
             28.741197326663425,
             24.513041067034973,
             20.039958603998773,
             15.366643498920968,
             10.539789971538985,
             5.607626346752699,
             0.6194331731445281
            ]
           },
           "mode": "lines+markers",
           "name": "k(x)=cos(x)",
           "type": "scatter",
           "x": [
            0,
            0.1,
            0.2,
            0.30000000000000004,
            0.4,
            0.5,
            0.6000000000000001,
            0.7000000000000001,
            0.8,
            0.9,
            1,
            1.1,
            1.2000000000000002,
            1.3,
            1.4000000000000001,
            1.5,
            1.6,
            1.7000000000000002,
            1.8,
            1.9000000000000001,
            2,
            2.1,
            2.2,
            2.3000000000000003,
            2.4000000000000004,
            2.5,
            2.6,
            2.7,
            2.8000000000000003,
            2.9000000000000004,
            3,
            3.1,
            3.2,
            3.3000000000000003,
            3.4000000000000004,
            3.5,
            3.6,
            3.7,
            3.8000000000000003,
            3.9000000000000004,
            4,
            4.1000000000000005,
            4.2,
            4.3,
            4.4,
            4.5,
            4.6000000000000005,
            4.7
           ],
           "y": [
            1,
            0.9950041652780258,
            0.9800665778412416,
            0.955336489125606,
            0.9210609940028851,
            0.8775825618903728,
            0.8253356149096782,
            0.7648421872844884,
            0.6967067093471654,
            0.6216099682706644,
            0.5403023058681398,
            0.4535961214255773,
            0.3623577544766734,
            0.26749882862458735,
            0.16996714290024081,
            0.0707372016677029,
            -0.029199522301288815,
            -0.12884449429552486,
            -0.2272020946930871,
            -0.3232895668635036,
            -0.4161468365471424,
            -0.5048461045998576,
            -0.5885011172553458,
            -0.6662760212798244,
            -0.7373937155412458,
            -0.8011436155469337,
            -0.8568887533689473,
            -0.9040721420170612,
            -0.9422223406686583,
            -0.9709581651495907,
            -0.9899924966004454,
            -0.9991351502732795,
            -0.9982947757947531,
            -0.9874797699088649,
            -0.9667981925794609,
            -0.9364566872907963,
            -0.896758416334147,
            -0.848100031710408,
            -0.7909677119144165,
            -0.7259323042001399,
            -0.6536436208636119,
            -0.5748239465332685,
            -0.4902608213406994,
            -0.40079917207997545,
            -0.30733286997841935,
            -0.2107957994307797,
            -0.11215252693505398,
            -0.01238866346289056
           ]
          }
         ],
         "name": "47"
        },
        {
         "data": [
          {
           "marker": {
            "color": [
             0,
             0.010000000000000002,
             0.04000000000000001,
             0.09000000000000002,
             0.16000000000000003,
             0.25,
             0.3600000000000001,
             0.4900000000000001,
             0.6400000000000001,
             0.81,
             1,
             1.2100000000000002,
             1.4400000000000004,
             1.6900000000000002,
             1.9600000000000004,
             2.25,
             2.5600000000000005,
             2.8900000000000006,
             3.24,
             3.6100000000000003,
             4,
             4.41,
             4.840000000000001,
             5.290000000000001,
             5.760000000000002,
             6.25,
             6.760000000000001,
             7.290000000000001,
             7.840000000000002,
             8.410000000000002,
             9,
             9.610000000000001,
             10.240000000000002,
             10.890000000000002,
             11.560000000000002,
             12.25,
             12.96,
             13.690000000000001,
             14.440000000000001,
             15.210000000000003,
             16,
             16.810000000000006,
             17.64,
             18.49,
             19.360000000000003,
             20.25,
             21.160000000000004,
             22.090000000000003,
             23.040000000000006
            ],
            "colorscale": [
             [
              0,
              "#000004"
             ],
             [
              0.1111111111111111,
              "#1b0c41"
             ],
             [
              0.2222222222222222,
              "#4a0c6b"
             ],
             [
              0.3333333333333333,
              "#781c6d"
             ],
             [
              0.4444444444444444,
              "#a52c60"
             ],
             [
              0.5555555555555556,
              "#cf4446"
             ],
             [
              0.6666666666666666,
              "#ed6925"
             ],
             [
              0.7777777777777778,
              "#fb9b06"
             ],
             [
              0.8888888888888888,
              "#f7d13d"
             ],
             [
              1,
              "#fcffa4"
             ]
            ],
            "size": [
             0,
             4.991670832341407,
             9.933466539753061,
             14.77601033306698,
             19.470917115432528,
             23.971276930210152,
             28.232123669751775,
             32.21088436188456,
             35.86780454497614,
             39.16634548137417,
             42.073549240394826,
             44.56036800307177,
             46.60195429836132,
             48.17790927085965,
             49.27248649942301,
             49.874749330202725,
             49.978680152075256,
             49.58324052262343,
             48.69238154390976,
             47.315004384370724,
             45.46487134128409,
             43.160468332443685,
             40.4248201909795,
             37.285260608836005,
             33.77315902755753,
             29.923607205197822,
             25.775068591073207,
             21.368994011691488,
             16.749407507795233,
             11.9624664606991,
             7.0560004029933605,
             2.0790331216645246,
             2.9187071713790043,
             7.887284707162433,
             12.777055101341583,
             17.53916138448099,
             22.126022164742622,
             26.49180704542467,
             30.592894547135963,
             34.388307959198706,
             37.84012476539641,
             40.91385555322054,
             43.57878862067941,
             45.808296837472746,
             47.58010369447581,
             48.87650588325485,
             49.684550181673224,
             49.99616287820504,
             49.80823044179203
            ]
           },
           "mode": "lines+markers",
           "name": "h(x)=sin(x)",
           "type": "scatter",
           "x": [
            0,
            0.1,
            0.2,
            0.30000000000000004,
            0.4,
            0.5,
            0.6000000000000001,
            0.7000000000000001,
            0.8,
            0.9,
            1,
            1.1,
            1.2000000000000002,
            1.3,
            1.4000000000000001,
            1.5,
            1.6,
            1.7000000000000002,
            1.8,
            1.9000000000000001,
            2,
            2.1,
            2.2,
            2.3000000000000003,
            2.4000000000000004,
            2.5,
            2.6,
            2.7,
            2.8000000000000003,
            2.9000000000000004,
            3,
            3.1,
            3.2,
            3.3000000000000003,
            3.4000000000000004,
            3.5,
            3.6,
            3.7,
            3.8000000000000003,
            3.9000000000000004,
            4,
            4.1000000000000005,
            4.2,
            4.3,
            4.4,
            4.5,
            4.6000000000000005,
            4.7,
            4.800000000000001
           ],
           "y": [
            0,
            0.09983341664682815,
            0.19866933079506122,
            0.2955202066613396,
            0.3894183423086505,
            0.479425538604203,
            0.5646424733950355,
            0.6442176872376911,
            0.7173560908995228,
            0.7833269096274834,
            0.8414709848078965,
            0.8912073600614354,
            0.9320390859672264,
            0.963558185417193,
            0.9854497299884603,
            0.9974949866040544,
            0.9995736030415051,
            0.9916648104524686,
            0.9738476308781951,
            0.9463000876874145,
            0.9092974268256817,
            0.8632093666488737,
            0.8084964038195901,
            0.74570521217672,
            0.6754631805511506,
            0.5984721441039564,
            0.5155013718214642,
            0.4273798802338298,
            0.33498815015590466,
            0.23924932921398198,
            0.1411200080598672,
            0.04158066243329049,
            -0.058374143427580086,
            -0.15774569414324865,
            -0.25554110202683167,
            -0.35078322768961984,
            -0.44252044329485246,
            -0.5298361409084934,
            -0.6118578909427193,
            -0.6877661591839741,
            -0.7568024953079282,
            -0.8182771110644108,
            -0.8715757724135882,
            -0.9161659367494549,
            -0.9516020738895161,
            -0.977530117665097,
            -0.9936910036334645,
            -0.9999232575641008,
            -0.9961646088358406
           ]
          },
          {
           "marker": {
            "color": [
             0,
             0.010000000000000002,
             0.04000000000000001,
             0.09000000000000002,
             0.16000000000000003,
             0.25,
             0.3600000000000001,
             0.4900000000000001,
             0.6400000000000001,
             0.81,
             1,
             1.2100000000000002,
             1.4400000000000004,
             1.6900000000000002,
             1.9600000000000004,
             2.25,
             2.5600000000000005,
             2.8900000000000006,
             3.24,
             3.6100000000000003,
             4,
             4.41,
             4.840000000000001,
             5.290000000000001,
             5.760000000000002,
             6.25,
             6.760000000000001,
             7.290000000000001,
             7.840000000000002,
             8.410000000000002,
             9,
             9.610000000000001,
             10.240000000000002,
             10.890000000000002,
             11.560000000000002,
             12.25,
             12.96,
             13.690000000000001,
             14.440000000000001,
             15.210000000000003,
             16,
             16.810000000000006,
             17.64,
             18.49,
             19.360000000000003,
             20.25,
             21.160000000000004,
             22.090000000000003,
             23.040000000000006
            ],
            "colorscale": [
             [
              0,
              "#000004"
             ],
             [
              0.1111111111111111,
              "#1b0c41"
             ],
             [
              0.2222222222222222,
              "#4a0c6b"
             ],
             [
              0.3333333333333333,
              "#781c6d"
             ],
             [
              0.4444444444444444,
              "#a52c60"
             ],
             [
              0.5555555555555556,
              "#cf4446"
             ],
             [
              0.6666666666666666,
              "#ed6925"
             ],
             [
              0.7777777777777778,
              "#fb9b06"
             ],
             [
              0.8888888888888888,
              "#f7d13d"
             ],
             [
              1,
              "#fcffa4"
             ]
            ],
            "size": [
             50,
             49.75020826390129,
             49.00332889206208,
             47.7668244562803,
             46.05304970014426,
             43.879128094518634,
             41.26678074548391,
             38.24210936422442,
             34.83533546735827,
             31.08049841353322,
             27.01511529340699,
             22.679806071278865,
             18.117887723833668,
             13.374941431229367,
             8.49835714501204,
             3.5368600833851453,
             1.4599761150644408,
             6.442224714776243,
             11.360104734654355,
             16.16447834317518,
             20.80734182735712,
             25.24230522999288,
             29.42505586276729,
             33.31380106399122,
             36.86968577706229,
             40.05718077734669,
             42.84443766844737,
             45.20360710085306,
             47.11111703343291,
             48.547908257479534,
             49.49962483002227,
             49.95675751366397,
             49.914738789737655,
             49.37398849544324,
             48.33990962897305,
             46.822834364539816,
             44.83792081670735,
             42.4050015855204,
             39.54838559572082,
             36.29661521000699,
             32.6821810431806,
             28.741197326663425,
             24.513041067034973,
             20.039958603998773,
             15.366643498920968,
             10.539789971538985,
             5.607626346752699,
             0.6194331731445281,
             4.374949171972363
            ]
           },
           "mode": "lines+markers",
           "name": "k(x)=cos(x)",
           "type": "scatter",
           "x": [
            0,
            0.1,
            0.2,
            0.30000000000000004,
            0.4,
            0.5,
            0.6000000000000001,
            0.7000000000000001,
            0.8,
            0.9,
            1,
            1.1,
            1.2000000000000002,
            1.3,
            1.4000000000000001,
            1.5,
            1.6,
            1.7000000000000002,
            1.8,
            1.9000000000000001,
            2,
            2.1,
            2.2,
            2.3000000000000003,
            2.4000000000000004,
            2.5,
            2.6,
            2.7,
            2.8000000000000003,
            2.9000000000000004,
            3,
            3.1,
            3.2,
            3.3000000000000003,
            3.4000000000000004,
            3.5,
            3.6,
            3.7,
            3.8000000000000003,
            3.9000000000000004,
            4,
            4.1000000000000005,
            4.2,
            4.3,
            4.4,
            4.5,
            4.6000000000000005,
            4.7,
            4.800000000000001
           ],
           "y": [
            1,
            0.9950041652780258,
            0.9800665778412416,
            0.955336489125606,
            0.9210609940028851,
            0.8775825618903728,
            0.8253356149096782,
            0.7648421872844884,
            0.6967067093471654,
            0.6216099682706644,
            0.5403023058681398,
            0.4535961214255773,
            0.3623577544766734,
            0.26749882862458735,
            0.16996714290024081,
            0.0707372016677029,
            -0.029199522301288815,
            -0.12884449429552486,
            -0.2272020946930871,
            -0.3232895668635036,
            -0.4161468365471424,
            -0.5048461045998576,
            -0.5885011172553458,
            -0.6662760212798244,
            -0.7373937155412458,
            -0.8011436155469337,
            -0.8568887533689473,
            -0.9040721420170612,
            -0.9422223406686583,
            -0.9709581651495907,
            -0.9899924966004454,
            -0.9991351502732795,
            -0.9982947757947531,
            -0.9874797699088649,
            -0.9667981925794609,
            -0.9364566872907963,
            -0.896758416334147,
            -0.848100031710408,
            -0.7909677119144165,
            -0.7259323042001399,
            -0.6536436208636119,
            -0.5748239465332685,
            -0.4902608213406994,
            -0.40079917207997545,
            -0.30733286997841935,
            -0.2107957994307797,
            -0.11215252693505398,
            -0.01238866346289056,
            0.08749898343944727
           ]
          }
         ],
         "name": "48"
        },
        {
         "data": [
          {
           "marker": {
            "color": [
             0,
             0.010000000000000002,
             0.04000000000000001,
             0.09000000000000002,
             0.16000000000000003,
             0.25,
             0.3600000000000001,
             0.4900000000000001,
             0.6400000000000001,
             0.81,
             1,
             1.2100000000000002,
             1.4400000000000004,
             1.6900000000000002,
             1.9600000000000004,
             2.25,
             2.5600000000000005,
             2.8900000000000006,
             3.24,
             3.6100000000000003,
             4,
             4.41,
             4.840000000000001,
             5.290000000000001,
             5.760000000000002,
             6.25,
             6.760000000000001,
             7.290000000000001,
             7.840000000000002,
             8.410000000000002,
             9,
             9.610000000000001,
             10.240000000000002,
             10.890000000000002,
             11.560000000000002,
             12.25,
             12.96,
             13.690000000000001,
             14.440000000000001,
             15.210000000000003,
             16,
             16.810000000000006,
             17.64,
             18.49,
             19.360000000000003,
             20.25,
             21.160000000000004,
             22.090000000000003,
             23.040000000000006,
             24.010000000000005
            ],
            "colorscale": [
             [
              0,
              "#000004"
             ],
             [
              0.1111111111111111,
              "#1b0c41"
             ],
             [
              0.2222222222222222,
              "#4a0c6b"
             ],
             [
              0.3333333333333333,
              "#781c6d"
             ],
             [
              0.4444444444444444,
              "#a52c60"
             ],
             [
              0.5555555555555556,
              "#cf4446"
             ],
             [
              0.6666666666666666,
              "#ed6925"
             ],
             [
              0.7777777777777778,
              "#fb9b06"
             ],
             [
              0.8888888888888888,
              "#f7d13d"
             ],
             [
              1,
              "#fcffa4"
             ]
            ],
            "size": [
             0,
             4.991670832341407,
             9.933466539753061,
             14.77601033306698,
             19.470917115432528,
             23.971276930210152,
             28.232123669751775,
             32.21088436188456,
             35.86780454497614,
             39.16634548137417,
             42.073549240394826,
             44.56036800307177,
             46.60195429836132,
             48.17790927085965,
             49.27248649942301,
             49.874749330202725,
             49.978680152075256,
             49.58324052262343,
             48.69238154390976,
             47.315004384370724,
             45.46487134128409,
             43.160468332443685,
             40.4248201909795,
             37.285260608836005,
             33.77315902755753,
             29.923607205197822,
             25.775068591073207,
             21.368994011691488,
             16.749407507795233,
             11.9624664606991,
             7.0560004029933605,
             2.0790331216645246,
             2.9187071713790043,
             7.887284707162433,
             12.777055101341583,
             17.53916138448099,
             22.126022164742622,
             26.49180704542467,
             30.592894547135963,
             34.388307959198706,
             37.84012476539641,
             40.91385555322054,
             43.57878862067941,
             45.808296837472746,
             47.58010369447581,
             48.87650588325485,
             49.684550181673224,
             49.99616287820504,
             49.80823044179203,
             49.12263063121662
            ]
           },
           "mode": "lines+markers",
           "name": "h(x)=sin(x)",
           "type": "scatter",
           "x": [
            0,
            0.1,
            0.2,
            0.30000000000000004,
            0.4,
            0.5,
            0.6000000000000001,
            0.7000000000000001,
            0.8,
            0.9,
            1,
            1.1,
            1.2000000000000002,
            1.3,
            1.4000000000000001,
            1.5,
            1.6,
            1.7000000000000002,
            1.8,
            1.9000000000000001,
            2,
            2.1,
            2.2,
            2.3000000000000003,
            2.4000000000000004,
            2.5,
            2.6,
            2.7,
            2.8000000000000003,
            2.9000000000000004,
            3,
            3.1,
            3.2,
            3.3000000000000003,
            3.4000000000000004,
            3.5,
            3.6,
            3.7,
            3.8000000000000003,
            3.9000000000000004,
            4,
            4.1000000000000005,
            4.2,
            4.3,
            4.4,
            4.5,
            4.6000000000000005,
            4.7,
            4.800000000000001,
            4.9
           ],
           "y": [
            0,
            0.09983341664682815,
            0.19866933079506122,
            0.2955202066613396,
            0.3894183423086505,
            0.479425538604203,
            0.5646424733950355,
            0.6442176872376911,
            0.7173560908995228,
            0.7833269096274834,
            0.8414709848078965,
            0.8912073600614354,
            0.9320390859672264,
            0.963558185417193,
            0.9854497299884603,
            0.9974949866040544,
            0.9995736030415051,
            0.9916648104524686,
            0.9738476308781951,
            0.9463000876874145,
            0.9092974268256817,
            0.8632093666488737,
            0.8084964038195901,
            0.74570521217672,
            0.6754631805511506,
            0.5984721441039564,
            0.5155013718214642,
            0.4273798802338298,
            0.33498815015590466,
            0.23924932921398198,
            0.1411200080598672,
            0.04158066243329049,
            -0.058374143427580086,
            -0.15774569414324865,
            -0.25554110202683167,
            -0.35078322768961984,
            -0.44252044329485246,
            -0.5298361409084934,
            -0.6118578909427193,
            -0.6877661591839741,
            -0.7568024953079282,
            -0.8182771110644108,
            -0.8715757724135882,
            -0.9161659367494549,
            -0.9516020738895161,
            -0.977530117665097,
            -0.9936910036334645,
            -0.9999232575641008,
            -0.9961646088358406,
            -0.9824526126243325
           ]
          },
          {
           "marker": {
            "color": [
             0,
             0.010000000000000002,
             0.04000000000000001,
             0.09000000000000002,
             0.16000000000000003,
             0.25,
             0.3600000000000001,
             0.4900000000000001,
             0.6400000000000001,
             0.81,
             1,
             1.2100000000000002,
             1.4400000000000004,
             1.6900000000000002,
             1.9600000000000004,
             2.25,
             2.5600000000000005,
             2.8900000000000006,
             3.24,
             3.6100000000000003,
             4,
             4.41,
             4.840000000000001,
             5.290000000000001,
             5.760000000000002,
             6.25,
             6.760000000000001,
             7.290000000000001,
             7.840000000000002,
             8.410000000000002,
             9,
             9.610000000000001,
             10.240000000000002,
             10.890000000000002,
             11.560000000000002,
             12.25,
             12.96,
             13.690000000000001,
             14.440000000000001,
             15.210000000000003,
             16,
             16.810000000000006,
             17.64,
             18.49,
             19.360000000000003,
             20.25,
             21.160000000000004,
             22.090000000000003,
             23.040000000000006,
             24.010000000000005
            ],
            "colorscale": [
             [
              0,
              "#000004"
             ],
             [
              0.1111111111111111,
              "#1b0c41"
             ],
             [
              0.2222222222222222,
              "#4a0c6b"
             ],
             [
              0.3333333333333333,
              "#781c6d"
             ],
             [
              0.4444444444444444,
              "#a52c60"
             ],
             [
              0.5555555555555556,
              "#cf4446"
             ],
             [
              0.6666666666666666,
              "#ed6925"
             ],
             [
              0.7777777777777778,
              "#fb9b06"
             ],
             [
              0.8888888888888888,
              "#f7d13d"
             ],
             [
              1,
              "#fcffa4"
             ]
            ],
            "size": [
             50,
             49.75020826390129,
             49.00332889206208,
             47.7668244562803,
             46.05304970014426,
             43.879128094518634,
             41.26678074548391,
             38.24210936422442,
             34.83533546735827,
             31.08049841353322,
             27.01511529340699,
             22.679806071278865,
             18.117887723833668,
             13.374941431229367,
             8.49835714501204,
             3.5368600833851453,
             1.4599761150644408,
             6.442224714776243,
             11.360104734654355,
             16.16447834317518,
             20.80734182735712,
             25.24230522999288,
             29.42505586276729,
             33.31380106399122,
             36.86968577706229,
             40.05718077734669,
             42.84443766844737,
             45.20360710085306,
             47.11111703343291,
             48.547908257479534,
             49.49962483002227,
             49.95675751366397,
             49.914738789737655,
             49.37398849544324,
             48.33990962897305,
             46.822834364539816,
             44.83792081670735,
             42.4050015855204,
             39.54838559572082,
             36.29661521000699,
             32.6821810431806,
             28.741197326663425,
             24.513041067034973,
             20.039958603998773,
             15.366643498920968,
             10.539789971538985,
             5.607626346752699,
             0.6194331731445281,
             4.374949171972363,
             9.325618471128788
            ]
           },
           "mode": "lines+markers",
           "name": "k(x)=cos(x)",
           "type": "scatter",
           "x": [
            0,
            0.1,
            0.2,
            0.30000000000000004,
            0.4,
            0.5,
            0.6000000000000001,
            0.7000000000000001,
            0.8,
            0.9,
            1,
            1.1,
            1.2000000000000002,
            1.3,
            1.4000000000000001,
            1.5,
            1.6,
            1.7000000000000002,
            1.8,
            1.9000000000000001,
            2,
            2.1,
            2.2,
            2.3000000000000003,
            2.4000000000000004,
            2.5,
            2.6,
            2.7,
            2.8000000000000003,
            2.9000000000000004,
            3,
            3.1,
            3.2,
            3.3000000000000003,
            3.4000000000000004,
            3.5,
            3.6,
            3.7,
            3.8000000000000003,
            3.9000000000000004,
            4,
            4.1000000000000005,
            4.2,
            4.3,
            4.4,
            4.5,
            4.6000000000000005,
            4.7,
            4.800000000000001,
            4.9
           ],
           "y": [
            1,
            0.9950041652780258,
            0.9800665778412416,
            0.955336489125606,
            0.9210609940028851,
            0.8775825618903728,
            0.8253356149096782,
            0.7648421872844884,
            0.6967067093471654,
            0.6216099682706644,
            0.5403023058681398,
            0.4535961214255773,
            0.3623577544766734,
            0.26749882862458735,
            0.16996714290024081,
            0.0707372016677029,
            -0.029199522301288815,
            -0.12884449429552486,
            -0.2272020946930871,
            -0.3232895668635036,
            -0.4161468365471424,
            -0.5048461045998576,
            -0.5885011172553458,
            -0.6662760212798244,
            -0.7373937155412458,
            -0.8011436155469337,
            -0.8568887533689473,
            -0.9040721420170612,
            -0.9422223406686583,
            -0.9709581651495907,
            -0.9899924966004454,
            -0.9991351502732795,
            -0.9982947757947531,
            -0.9874797699088649,
            -0.9667981925794609,
            -0.9364566872907963,
            -0.896758416334147,
            -0.848100031710408,
            -0.7909677119144165,
            -0.7259323042001399,
            -0.6536436208636119,
            -0.5748239465332685,
            -0.4902608213406994,
            -0.40079917207997545,
            -0.30733286997841935,
            -0.2107957994307797,
            -0.11215252693505398,
            -0.01238866346289056,
            0.08749898343944727,
            0.18651236942257576
           ]
          }
         ],
         "name": "49"
        }
       ],
       "layout": {
        "sliders": [
         {
          "currentvalue": {
           "font": {
            "size": 20
           },
           "prefix": "Шаг №"
          },
          "len": 0.9,
          "pad": {
           "b": 10,
           "t": 50
          },
          "steps": [
           {
            "args": [
             [
              "0"
             ]
            ],
            "label": "0",
            "method": "animate"
           },
           {
            "args": [
             [
              "1"
             ]
            ],
            "label": "1",
            "method": "animate"
           },
           {
            "args": [
             [
              "2"
             ]
            ],
            "label": "2",
            "method": "animate"
           },
           {
            "args": [
             [
              "3"
             ]
            ],
            "label": "3",
            "method": "animate"
           },
           {
            "args": [
             [
              "4"
             ]
            ],
            "label": "4",
            "method": "animate"
           },
           {
            "args": [
             [
              "5"
             ]
            ],
            "label": "5",
            "method": "animate"
           },
           {
            "args": [
             [
              "6"
             ]
            ],
            "label": "6",
            "method": "animate"
           },
           {
            "args": [
             [
              "7"
             ]
            ],
            "label": "7",
            "method": "animate"
           },
           {
            "args": [
             [
              "8"
             ]
            ],
            "label": "8",
            "method": "animate"
           },
           {
            "args": [
             [
              "9"
             ]
            ],
            "label": "9",
            "method": "animate"
           },
           {
            "args": [
             [
              "10"
             ]
            ],
            "label": "10",
            "method": "animate"
           },
           {
            "args": [
             [
              "11"
             ]
            ],
            "label": "11",
            "method": "animate"
           },
           {
            "args": [
             [
              "12"
             ]
            ],
            "label": "12",
            "method": "animate"
           },
           {
            "args": [
             [
              "13"
             ]
            ],
            "label": "13",
            "method": "animate"
           },
           {
            "args": [
             [
              "14"
             ]
            ],
            "label": "14",
            "method": "animate"
           },
           {
            "args": [
             [
              "15"
             ]
            ],
            "label": "15",
            "method": "animate"
           },
           {
            "args": [
             [
              "16"
             ]
            ],
            "label": "16",
            "method": "animate"
           },
           {
            "args": [
             [
              "17"
             ]
            ],
            "label": "17",
            "method": "animate"
           },
           {
            "args": [
             [
              "18"
             ]
            ],
            "label": "18",
            "method": "animate"
           },
           {
            "args": [
             [
              "19"
             ]
            ],
            "label": "19",
            "method": "animate"
           },
           {
            "args": [
             [
              "20"
             ]
            ],
            "label": "20",
            "method": "animate"
           },
           {
            "args": [
             [
              "21"
             ]
            ],
            "label": "21",
            "method": "animate"
           },
           {
            "args": [
             [
              "22"
             ]
            ],
            "label": "22",
            "method": "animate"
           },
           {
            "args": [
             [
              "23"
             ]
            ],
            "label": "23",
            "method": "animate"
           },
           {
            "args": [
             [
              "24"
             ]
            ],
            "label": "24",
            "method": "animate"
           },
           {
            "args": [
             [
              "25"
             ]
            ],
            "label": "25",
            "method": "animate"
           },
           {
            "args": [
             [
              "26"
             ]
            ],
            "label": "26",
            "method": "animate"
           },
           {
            "args": [
             [
              "27"
             ]
            ],
            "label": "27",
            "method": "animate"
           },
           {
            "args": [
             [
              "28"
             ]
            ],
            "label": "28",
            "method": "animate"
           },
           {
            "args": [
             [
              "29"
             ]
            ],
            "label": "29",
            "method": "animate"
           },
           {
            "args": [
             [
              "30"
             ]
            ],
            "label": "30",
            "method": "animate"
           },
           {
            "args": [
             [
              "31"
             ]
            ],
            "label": "31",
            "method": "animate"
           },
           {
            "args": [
             [
              "32"
             ]
            ],
            "label": "32",
            "method": "animate"
           },
           {
            "args": [
             [
              "33"
             ]
            ],
            "label": "33",
            "method": "animate"
           },
           {
            "args": [
             [
              "34"
             ]
            ],
            "label": "34",
            "method": "animate"
           },
           {
            "args": [
             [
              "35"
             ]
            ],
            "label": "35",
            "method": "animate"
           },
           {
            "args": [
             [
              "36"
             ]
            ],
            "label": "36",
            "method": "animate"
           },
           {
            "args": [
             [
              "37"
             ]
            ],
            "label": "37",
            "method": "animate"
           },
           {
            "args": [
             [
              "38"
             ]
            ],
            "label": "38",
            "method": "animate"
           },
           {
            "args": [
             [
              "39"
             ]
            ],
            "label": "39",
            "method": "animate"
           },
           {
            "args": [
             [
              "40"
             ]
            ],
            "label": "40",
            "method": "animate"
           },
           {
            "args": [
             [
              "41"
             ]
            ],
            "label": "41",
            "method": "animate"
           },
           {
            "args": [
             [
              "42"
             ]
            ],
            "label": "42",
            "method": "animate"
           },
           {
            "args": [
             [
              "43"
             ]
            ],
            "label": "43",
            "method": "animate"
           },
           {
            "args": [
             [
              "44"
             ]
            ],
            "label": "44",
            "method": "animate"
           },
           {
            "args": [
             [
              "45"
             ]
            ],
            "label": "45",
            "method": "animate"
           },
           {
            "args": [
             [
              "46"
             ]
            ],
            "label": "46",
            "method": "animate"
           },
           {
            "args": [
             [
              "47"
             ]
            ],
            "label": "47",
            "method": "animate"
           },
           {
            "args": [
             [
              "48"
             ]
            ],
            "label": "48",
            "method": "animate"
           },
           {
            "args": [
             [
              "49"
             ]
            ],
            "label": "49",
            "method": "animate"
           }
          ],
          "x": 0.1
         }
        ],
        "template": {
         "data": {
          "bar": [
           {
            "error_x": {
             "color": "#2a3f5f"
            },
            "error_y": {
             "color": "#2a3f5f"
            },
            "marker": {
             "line": {
              "color": "#E5ECF6",
              "width": 0.5
             }
            },
            "type": "bar"
           }
          ],
          "barpolar": [
           {
            "marker": {
             "line": {
              "color": "#E5ECF6",
              "width": 0.5
             }
            },
            "type": "barpolar"
           }
          ],
          "carpet": [
           {
            "aaxis": {
             "endlinecolor": "#2a3f5f",
             "gridcolor": "white",
             "linecolor": "white",
             "minorgridcolor": "white",
             "startlinecolor": "#2a3f5f"
            },
            "baxis": {
             "endlinecolor": "#2a3f5f",
             "gridcolor": "white",
             "linecolor": "white",
             "minorgridcolor": "white",
             "startlinecolor": "#2a3f5f"
            },
            "type": "carpet"
           }
          ],
          "choropleth": [
           {
            "colorbar": {
             "outlinewidth": 0,
             "ticks": ""
            },
            "type": "choropleth"
           }
          ],
          "contour": [
           {
            "colorbar": {
             "outlinewidth": 0,
             "ticks": ""
            },
            "colorscale": [
             [
              0,
              "#0d0887"
             ],
             [
              0.1111111111111111,
              "#46039f"
             ],
             [
              0.2222222222222222,
              "#7201a8"
             ],
             [
              0.3333333333333333,
              "#9c179e"
             ],
             [
              0.4444444444444444,
              "#bd3786"
             ],
             [
              0.5555555555555556,
              "#d8576b"
             ],
             [
              0.6666666666666666,
              "#ed7953"
             ],
             [
              0.7777777777777778,
              "#fb9f3a"
             ],
             [
              0.8888888888888888,
              "#fdca26"
             ],
             [
              1,
              "#f0f921"
             ]
            ],
            "type": "contour"
           }
          ],
          "contourcarpet": [
           {
            "colorbar": {
             "outlinewidth": 0,
             "ticks": ""
            },
            "type": "contourcarpet"
           }
          ],
          "heatmap": [
           {
            "colorbar": {
             "outlinewidth": 0,
             "ticks": ""
            },
            "colorscale": [
             [
              0,
              "#0d0887"
             ],
             [
              0.1111111111111111,
              "#46039f"
             ],
             [
              0.2222222222222222,
              "#7201a8"
             ],
             [
              0.3333333333333333,
              "#9c179e"
             ],
             [
              0.4444444444444444,
              "#bd3786"
             ],
             [
              0.5555555555555556,
              "#d8576b"
             ],
             [
              0.6666666666666666,
              "#ed7953"
             ],
             [
              0.7777777777777778,
              "#fb9f3a"
             ],
             [
              0.8888888888888888,
              "#fdca26"
             ],
             [
              1,
              "#f0f921"
             ]
            ],
            "type": "heatmap"
           }
          ],
          "heatmapgl": [
           {
            "colorbar": {
             "outlinewidth": 0,
             "ticks": ""
            },
            "colorscale": [
             [
              0,
              "#0d0887"
             ],
             [
              0.1111111111111111,
              "#46039f"
             ],
             [
              0.2222222222222222,
              "#7201a8"
             ],
             [
              0.3333333333333333,
              "#9c179e"
             ],
             [
              0.4444444444444444,
              "#bd3786"
             ],
             [
              0.5555555555555556,
              "#d8576b"
             ],
             [
              0.6666666666666666,
              "#ed7953"
             ],
             [
              0.7777777777777778,
              "#fb9f3a"
             ],
             [
              0.8888888888888888,
              "#fdca26"
             ],
             [
              1,
              "#f0f921"
             ]
            ],
            "type": "heatmapgl"
           }
          ],
          "histogram": [
           {
            "marker": {
             "colorbar": {
              "outlinewidth": 0,
              "ticks": ""
             }
            },
            "type": "histogram"
           }
          ],
          "histogram2d": [
           {
            "colorbar": {
             "outlinewidth": 0,
             "ticks": ""
            },
            "colorscale": [
             [
              0,
              "#0d0887"
             ],
             [
              0.1111111111111111,
              "#46039f"
             ],
             [
              0.2222222222222222,
              "#7201a8"
             ],
             [
              0.3333333333333333,
              "#9c179e"
             ],
             [
              0.4444444444444444,
              "#bd3786"
             ],
             [
              0.5555555555555556,
              "#d8576b"
             ],
             [
              0.6666666666666666,
              "#ed7953"
             ],
             [
              0.7777777777777778,
              "#fb9f3a"
             ],
             [
              0.8888888888888888,
              "#fdca26"
             ],
             [
              1,
              "#f0f921"
             ]
            ],
            "type": "histogram2d"
           }
          ],
          "histogram2dcontour": [
           {
            "colorbar": {
             "outlinewidth": 0,
             "ticks": ""
            },
            "colorscale": [
             [
              0,
              "#0d0887"
             ],
             [
              0.1111111111111111,
              "#46039f"
             ],
             [
              0.2222222222222222,
              "#7201a8"
             ],
             [
              0.3333333333333333,
              "#9c179e"
             ],
             [
              0.4444444444444444,
              "#bd3786"
             ],
             [
              0.5555555555555556,
              "#d8576b"
             ],
             [
              0.6666666666666666,
              "#ed7953"
             ],
             [
              0.7777777777777778,
              "#fb9f3a"
             ],
             [
              0.8888888888888888,
              "#fdca26"
             ],
             [
              1,
              "#f0f921"
             ]
            ],
            "type": "histogram2dcontour"
           }
          ],
          "mesh3d": [
           {
            "colorbar": {
             "outlinewidth": 0,
             "ticks": ""
            },
            "type": "mesh3d"
           }
          ],
          "parcoords": [
           {
            "line": {
             "colorbar": {
              "outlinewidth": 0,
              "ticks": ""
             }
            },
            "type": "parcoords"
           }
          ],
          "pie": [
           {
            "automargin": true,
            "type": "pie"
           }
          ],
          "scatter": [
           {
            "marker": {
             "colorbar": {
              "outlinewidth": 0,
              "ticks": ""
             }
            },
            "type": "scatter"
           }
          ],
          "scatter3d": [
           {
            "line": {
             "colorbar": {
              "outlinewidth": 0,
              "ticks": ""
             }
            },
            "marker": {
             "colorbar": {
              "outlinewidth": 0,
              "ticks": ""
             }
            },
            "type": "scatter3d"
           }
          ],
          "scattercarpet": [
           {
            "marker": {
             "colorbar": {
              "outlinewidth": 0,
              "ticks": ""
             }
            },
            "type": "scattercarpet"
           }
          ],
          "scattergeo": [
           {
            "marker": {
             "colorbar": {
              "outlinewidth": 0,
              "ticks": ""
             }
            },
            "type": "scattergeo"
           }
          ],
          "scattergl": [
           {
            "marker": {
             "colorbar": {
              "outlinewidth": 0,
              "ticks": ""
             }
            },
            "type": "scattergl"
           }
          ],
          "scattermapbox": [
           {
            "marker": {
             "colorbar": {
              "outlinewidth": 0,
              "ticks": ""
             }
            },
            "type": "scattermapbox"
           }
          ],
          "scatterpolar": [
           {
            "marker": {
             "colorbar": {
              "outlinewidth": 0,
              "ticks": ""
             }
            },
            "type": "scatterpolar"
           }
          ],
          "scatterpolargl": [
           {
            "marker": {
             "colorbar": {
              "outlinewidth": 0,
              "ticks": ""
             }
            },
            "type": "scatterpolargl"
           }
          ],
          "scatterternary": [
           {
            "marker": {
             "colorbar": {
              "outlinewidth": 0,
              "ticks": ""
             }
            },
            "type": "scatterternary"
           }
          ],
          "surface": [
           {
            "colorbar": {
             "outlinewidth": 0,
             "ticks": ""
            },
            "colorscale": [
             [
              0,
              "#0d0887"
             ],
             [
              0.1111111111111111,
              "#46039f"
             ],
             [
              0.2222222222222222,
              "#7201a8"
             ],
             [
              0.3333333333333333,
              "#9c179e"
             ],
             [
              0.4444444444444444,
              "#bd3786"
             ],
             [
              0.5555555555555556,
              "#d8576b"
             ],
             [
              0.6666666666666666,
              "#ed7953"
             ],
             [
              0.7777777777777778,
              "#fb9f3a"
             ],
             [
              0.8888888888888888,
              "#fdca26"
             ],
             [
              1,
              "#f0f921"
             ]
            ],
            "type": "surface"
           }
          ],
          "table": [
           {
            "cells": {
             "fill": {
              "color": "#EBF0F8"
             },
             "line": {
              "color": "white"
             }
            },
            "header": {
             "fill": {
              "color": "#C8D4E3"
             },
             "line": {
              "color": "white"
             }
            },
            "type": "table"
           }
          ]
         },
         "layout": {
          "annotationdefaults": {
           "arrowcolor": "#2a3f5f",
           "arrowhead": 0,
           "arrowwidth": 1
          },
          "coloraxis": {
           "colorbar": {
            "outlinewidth": 0,
            "ticks": ""
           }
          },
          "colorscale": {
           "diverging": [
            [
             0,
             "#8e0152"
            ],
            [
             0.1,
             "#c51b7d"
            ],
            [
             0.2,
             "#de77ae"
            ],
            [
             0.3,
             "#f1b6da"
            ],
            [
             0.4,
             "#fde0ef"
            ],
            [
             0.5,
             "#f7f7f7"
            ],
            [
             0.6,
             "#e6f5d0"
            ],
            [
             0.7,
             "#b8e186"
            ],
            [
             0.8,
             "#7fbc41"
            ],
            [
             0.9,
             "#4d9221"
            ],
            [
             1,
             "#276419"
            ]
           ],
           "sequential": [
            [
             0,
             "#0d0887"
            ],
            [
             0.1111111111111111,
             "#46039f"
            ],
            [
             0.2222222222222222,
             "#7201a8"
            ],
            [
             0.3333333333333333,
             "#9c179e"
            ],
            [
             0.4444444444444444,
             "#bd3786"
            ],
            [
             0.5555555555555556,
             "#d8576b"
            ],
            [
             0.6666666666666666,
             "#ed7953"
            ],
            [
             0.7777777777777778,
             "#fb9f3a"
            ],
            [
             0.8888888888888888,
             "#fdca26"
            ],
            [
             1,
             "#f0f921"
            ]
           ],
           "sequentialminus": [
            [
             0,
             "#0d0887"
            ],
            [
             0.1111111111111111,
             "#46039f"
            ],
            [
             0.2222222222222222,
             "#7201a8"
            ],
            [
             0.3333333333333333,
             "#9c179e"
            ],
            [
             0.4444444444444444,
             "#bd3786"
            ],
            [
             0.5555555555555556,
             "#d8576b"
            ],
            [
             0.6666666666666666,
             "#ed7953"
            ],
            [
             0.7777777777777778,
             "#fb9f3a"
            ],
            [
             0.8888888888888888,
             "#fdca26"
            ],
            [
             1,
             "#f0f921"
            ]
           ]
          },
          "colorway": [
           "#636efa",
           "#EF553B",
           "#00cc96",
           "#ab63fa",
           "#FFA15A",
           "#19d3f3",
           "#FF6692",
           "#B6E880",
           "#FF97FF",
           "#FECB52"
          ],
          "font": {
           "color": "#2a3f5f"
          },
          "geo": {
           "bgcolor": "white",
           "lakecolor": "white",
           "landcolor": "#E5ECF6",
           "showlakes": true,
           "showland": true,
           "subunitcolor": "white"
          },
          "hoverlabel": {
           "align": "left"
          },
          "hovermode": "closest",
          "mapbox": {
           "style": "light"
          },
          "paper_bgcolor": "white",
          "plot_bgcolor": "#E5ECF6",
          "polar": {
           "angularaxis": {
            "gridcolor": "white",
            "linecolor": "white",
            "ticks": ""
           },
           "bgcolor": "#E5ECF6",
           "radialaxis": {
            "gridcolor": "white",
            "linecolor": "white",
            "ticks": ""
           }
          },
          "scene": {
           "xaxis": {
            "backgroundcolor": "#E5ECF6",
            "gridcolor": "white",
            "gridwidth": 2,
            "linecolor": "white",
            "showbackground": true,
            "ticks": "",
            "zerolinecolor": "white"
           },
           "yaxis": {
            "backgroundcolor": "#E5ECF6",
            "gridcolor": "white",
            "gridwidth": 2,
            "linecolor": "white",
            "showbackground": true,
            "ticks": "",
            "zerolinecolor": "white"
           },
           "zaxis": {
            "backgroundcolor": "#E5ECF6",
            "gridcolor": "white",
            "gridwidth": 2,
            "linecolor": "white",
            "showbackground": true,
            "ticks": "",
            "zerolinecolor": "white"
           }
          },
          "shapedefaults": {
           "line": {
            "color": "#2a3f5f"
           }
          },
          "ternary": {
           "aaxis": {
            "gridcolor": "white",
            "linecolor": "white",
            "ticks": ""
           },
           "baxis": {
            "gridcolor": "white",
            "linecolor": "white",
            "ticks": ""
           },
           "bgcolor": "#E5ECF6",
           "caxis": {
            "gridcolor": "white",
            "linecolor": "white",
            "ticks": ""
           }
          },
          "title": {
           "x": 0.05
          },
          "xaxis": {
           "automargin": true,
           "gridcolor": "white",
           "linecolor": "white",
           "ticks": "",
           "title": {
            "standoff": 15
           },
           "zerolinecolor": "white",
           "zerolinewidth": 2
          },
          "yaxis": {
           "automargin": true,
           "gridcolor": "white",
           "linecolor": "white",
           "ticks": "",
           "title": {
            "standoff": 15
           },
           "zerolinecolor": "white",
           "zerolinewidth": 2
          }
         }
        },
        "title": {
         "text": "Строим синус и косинус по шагам"
        },
        "updatemenus": [
         {
          "buttons": [
           {
            "args": [
             null,
             {
              "fromcurrent": true
             }
            ],
            "label": "►",
            "method": "animate"
           },
           {
            "args": [
             [
              null
             ],
             {
              "frame": {
               "duration": 0,
               "redraw": false
              },
              "mode": "immediate",
              "transition": {
               "duration": 0
              }
             }
            ],
            "label": "❚❚",
            "method": "animate"
           }
          ],
          "direction": "left",
          "pad": {
           "r": 10,
           "t": 80
          },
          "showactive": false,
          "type": "buttons",
          "x": 0.1,
          "xanchor": "right",
          "y": 0,
          "yanchor": "top"
         }
        ],
        "xaxis": {
         "title": {
          "text": "Ось X"
         }
        },
        "yaxis": {
         "title": {
          "text": "Ось Y"
         }
        }
       }
      },
      "text/html": [
       "<div>\n",
       "        \n",
       "        \n",
       "            <div id=\"c3f45d06-31a0-4542-aa97-09e67b20c5b0\" class=\"plotly-graph-div\" style=\"height:525px; width:100%;\"></div>\n",
       "            <script type=\"text/javascript\">\n",
       "                require([\"plotly\"], function(Plotly) {\n",
       "                    window.PLOTLYENV=window.PLOTLYENV || {};\n",
       "                    \n",
       "                if (document.getElementById(\"c3f45d06-31a0-4542-aa97-09e67b20c5b0\")) {\n",
       "                    Plotly.newPlot(\n",
       "                        'c3f45d06-31a0-4542-aa97-09e67b20c5b0',\n",
       "                        [{\"marker\": {\"color\": [0.0], \"colorbar\": {\"title\": {\"text\": \"f(x)=x<sup>2</sup>\"}, \"y\": 0.8, \"yanchor\": \"top\"}, \"colorscale\": [[0.0, \"#000004\"], [0.1111111111111111, \"#1b0c41\"], [0.2222222222222222, \"#4a0c6b\"], [0.3333333333333333, \"#781c6d\"], [0.4444444444444444, \"#a52c60\"], [0.5555555555555556, \"#cf4446\"], [0.6666666666666666, \"#ed6925\"], [0.7777777777777778, \"#fb9b06\"], [0.8888888888888888, \"#f7d13d\"], [1.0, \"#fcffa4\"]], \"size\": [0.0]}, \"mode\": \"lines+markers\", \"name\": \"h(x)=sin(x)\", \"type\": \"scatter\", \"x\": [0.0], \"y\": [0.0]}, {\"marker\": {\"color\": [0.0], \"colorscale\": [[0.0, \"#000004\"], [0.1111111111111111, \"#1b0c41\"], [0.2222222222222222, \"#4a0c6b\"], [0.3333333333333333, \"#781c6d\"], [0.4444444444444444, \"#a52c60\"], [0.5555555555555556, \"#cf4446\"], [0.6666666666666666, \"#ed6925\"], [0.7777777777777778, \"#fb9b06\"], [0.8888888888888888, \"#f7d13d\"], [1.0, \"#fcffa4\"]], \"size\": [50.0]}, \"mode\": \"lines+markers\", \"name\": \"k(x)=cos(x)\", \"type\": \"scatter\", \"x\": [0.0], \"y\": [1.0]}],\n",
       "                        {\"sliders\": [{\"currentvalue\": {\"font\": {\"size\": 20}, \"prefix\": \"\\u0428\\u0430\\u0433 \\u2116\"}, \"len\": 0.9, \"pad\": {\"b\": 10, \"t\": 50}, \"steps\": [{\"args\": [[\"0\"]], \"label\": \"0\", \"method\": \"animate\"}, {\"args\": [[\"1\"]], \"label\": \"1\", \"method\": \"animate\"}, {\"args\": [[\"2\"]], \"label\": \"2\", \"method\": \"animate\"}, {\"args\": [[\"3\"]], \"label\": \"3\", \"method\": \"animate\"}, {\"args\": [[\"4\"]], \"label\": \"4\", \"method\": \"animate\"}, {\"args\": [[\"5\"]], \"label\": \"5\", \"method\": \"animate\"}, {\"args\": [[\"6\"]], \"label\": \"6\", \"method\": \"animate\"}, {\"args\": [[\"7\"]], \"label\": \"7\", \"method\": \"animate\"}, {\"args\": [[\"8\"]], \"label\": \"8\", \"method\": \"animate\"}, {\"args\": [[\"9\"]], \"label\": \"9\", \"method\": \"animate\"}, {\"args\": [[\"10\"]], \"label\": \"10\", \"method\": \"animate\"}, {\"args\": [[\"11\"]], \"label\": \"11\", \"method\": \"animate\"}, {\"args\": [[\"12\"]], \"label\": \"12\", \"method\": \"animate\"}, {\"args\": [[\"13\"]], \"label\": \"13\", \"method\": \"animate\"}, {\"args\": [[\"14\"]], \"label\": \"14\", \"method\": \"animate\"}, {\"args\": [[\"15\"]], \"label\": \"15\", \"method\": \"animate\"}, {\"args\": [[\"16\"]], \"label\": \"16\", \"method\": \"animate\"}, {\"args\": [[\"17\"]], \"label\": \"17\", \"method\": \"animate\"}, {\"args\": [[\"18\"]], \"label\": \"18\", \"method\": \"animate\"}, {\"args\": [[\"19\"]], \"label\": \"19\", \"method\": \"animate\"}, {\"args\": [[\"20\"]], \"label\": \"20\", \"method\": \"animate\"}, {\"args\": [[\"21\"]], \"label\": \"21\", \"method\": \"animate\"}, {\"args\": [[\"22\"]], \"label\": \"22\", \"method\": \"animate\"}, {\"args\": [[\"23\"]], \"label\": \"23\", \"method\": \"animate\"}, {\"args\": [[\"24\"]], \"label\": \"24\", \"method\": \"animate\"}, {\"args\": [[\"25\"]], \"label\": \"25\", \"method\": \"animate\"}, {\"args\": [[\"26\"]], \"label\": \"26\", \"method\": \"animate\"}, {\"args\": [[\"27\"]], \"label\": \"27\", \"method\": \"animate\"}, {\"args\": [[\"28\"]], \"label\": \"28\", \"method\": \"animate\"}, {\"args\": [[\"29\"]], \"label\": \"29\", \"method\": \"animate\"}, {\"args\": [[\"30\"]], \"label\": \"30\", \"method\": \"animate\"}, {\"args\": [[\"31\"]], \"label\": \"31\", \"method\": \"animate\"}, {\"args\": [[\"32\"]], \"label\": \"32\", \"method\": \"animate\"}, {\"args\": [[\"33\"]], \"label\": \"33\", \"method\": \"animate\"}, {\"args\": [[\"34\"]], \"label\": \"34\", \"method\": \"animate\"}, {\"args\": [[\"35\"]], \"label\": \"35\", \"method\": \"animate\"}, {\"args\": [[\"36\"]], \"label\": \"36\", \"method\": \"animate\"}, {\"args\": [[\"37\"]], \"label\": \"37\", \"method\": \"animate\"}, {\"args\": [[\"38\"]], \"label\": \"38\", \"method\": \"animate\"}, {\"args\": [[\"39\"]], \"label\": \"39\", \"method\": \"animate\"}, {\"args\": [[\"40\"]], \"label\": \"40\", \"method\": \"animate\"}, {\"args\": [[\"41\"]], \"label\": \"41\", \"method\": \"animate\"}, {\"args\": [[\"42\"]], \"label\": \"42\", \"method\": \"animate\"}, {\"args\": [[\"43\"]], \"label\": \"43\", \"method\": \"animate\"}, {\"args\": [[\"44\"]], \"label\": \"44\", \"method\": \"animate\"}, {\"args\": [[\"45\"]], \"label\": \"45\", \"method\": \"animate\"}, {\"args\": [[\"46\"]], \"label\": \"46\", \"method\": \"animate\"}, {\"args\": [[\"47\"]], \"label\": \"47\", \"method\": \"animate\"}, {\"args\": [[\"48\"]], \"label\": \"48\", \"method\": \"animate\"}, {\"args\": [[\"49\"]], \"label\": \"49\", \"method\": \"animate\"}], \"x\": 0.1}], \"template\": {\"data\": {\"bar\": [{\"error_x\": {\"color\": \"#2a3f5f\"}, \"error_y\": {\"color\": \"#2a3f5f\"}, \"marker\": {\"line\": {\"color\": \"#E5ECF6\", \"width\": 0.5}}, \"type\": \"bar\"}], \"barpolar\": [{\"marker\": {\"line\": {\"color\": \"#E5ECF6\", \"width\": 0.5}}, \"type\": \"barpolar\"}], \"carpet\": [{\"aaxis\": {\"endlinecolor\": \"#2a3f5f\", \"gridcolor\": \"white\", \"linecolor\": \"white\", \"minorgridcolor\": \"white\", \"startlinecolor\": \"#2a3f5f\"}, \"baxis\": {\"endlinecolor\": \"#2a3f5f\", \"gridcolor\": \"white\", \"linecolor\": \"white\", \"minorgridcolor\": \"white\", \"startlinecolor\": \"#2a3f5f\"}, \"type\": \"carpet\"}], \"choropleth\": [{\"colorbar\": {\"outlinewidth\": 0, \"ticks\": \"\"}, \"type\": \"choropleth\"}], \"contour\": [{\"colorbar\": {\"outlinewidth\": 0, \"ticks\": \"\"}, \"colorscale\": [[0.0, \"#0d0887\"], [0.1111111111111111, \"#46039f\"], [0.2222222222222222, \"#7201a8\"], [0.3333333333333333, \"#9c179e\"], [0.4444444444444444, \"#bd3786\"], [0.5555555555555556, \"#d8576b\"], [0.6666666666666666, \"#ed7953\"], [0.7777777777777778, \"#fb9f3a\"], [0.8888888888888888, \"#fdca26\"], [1.0, \"#f0f921\"]], \"type\": \"contour\"}], \"contourcarpet\": [{\"colorbar\": {\"outlinewidth\": 0, \"ticks\": \"\"}, \"type\": \"contourcarpet\"}], \"heatmap\": [{\"colorbar\": {\"outlinewidth\": 0, \"ticks\": \"\"}, \"colorscale\": [[0.0, \"#0d0887\"], [0.1111111111111111, \"#46039f\"], [0.2222222222222222, \"#7201a8\"], [0.3333333333333333, \"#9c179e\"], [0.4444444444444444, \"#bd3786\"], [0.5555555555555556, \"#d8576b\"], [0.6666666666666666, \"#ed7953\"], [0.7777777777777778, \"#fb9f3a\"], [0.8888888888888888, \"#fdca26\"], [1.0, \"#f0f921\"]], \"type\": \"heatmap\"}], \"heatmapgl\": [{\"colorbar\": {\"outlinewidth\": 0, \"ticks\": \"\"}, \"colorscale\": [[0.0, \"#0d0887\"], [0.1111111111111111, \"#46039f\"], [0.2222222222222222, \"#7201a8\"], [0.3333333333333333, \"#9c179e\"], [0.4444444444444444, \"#bd3786\"], [0.5555555555555556, \"#d8576b\"], [0.6666666666666666, \"#ed7953\"], [0.7777777777777778, \"#fb9f3a\"], [0.8888888888888888, \"#fdca26\"], [1.0, \"#f0f921\"]], \"type\": \"heatmapgl\"}], \"histogram\": [{\"marker\": {\"colorbar\": {\"outlinewidth\": 0, \"ticks\": \"\"}}, \"type\": \"histogram\"}], \"histogram2d\": [{\"colorbar\": {\"outlinewidth\": 0, \"ticks\": \"\"}, \"colorscale\": [[0.0, \"#0d0887\"], [0.1111111111111111, \"#46039f\"], [0.2222222222222222, \"#7201a8\"], [0.3333333333333333, \"#9c179e\"], [0.4444444444444444, \"#bd3786\"], [0.5555555555555556, \"#d8576b\"], [0.6666666666666666, \"#ed7953\"], [0.7777777777777778, \"#fb9f3a\"], [0.8888888888888888, \"#fdca26\"], [1.0, \"#f0f921\"]], \"type\": \"histogram2d\"}], \"histogram2dcontour\": [{\"colorbar\": {\"outlinewidth\": 0, \"ticks\": \"\"}, \"colorscale\": [[0.0, \"#0d0887\"], [0.1111111111111111, \"#46039f\"], [0.2222222222222222, \"#7201a8\"], [0.3333333333333333, \"#9c179e\"], [0.4444444444444444, \"#bd3786\"], [0.5555555555555556, \"#d8576b\"], [0.6666666666666666, \"#ed7953\"], [0.7777777777777778, \"#fb9f3a\"], [0.8888888888888888, \"#fdca26\"], [1.0, \"#f0f921\"]], \"type\": \"histogram2dcontour\"}], \"mesh3d\": [{\"colorbar\": {\"outlinewidth\": 0, \"ticks\": \"\"}, \"type\": \"mesh3d\"}], \"parcoords\": [{\"line\": {\"colorbar\": {\"outlinewidth\": 0, \"ticks\": \"\"}}, \"type\": \"parcoords\"}], \"pie\": [{\"automargin\": true, \"type\": \"pie\"}], \"scatter\": [{\"marker\": {\"colorbar\": {\"outlinewidth\": 0, \"ticks\": \"\"}}, \"type\": \"scatter\"}], \"scatter3d\": [{\"line\": {\"colorbar\": {\"outlinewidth\": 0, \"ticks\": \"\"}}, \"marker\": {\"colorbar\": {\"outlinewidth\": 0, \"ticks\": \"\"}}, \"type\": \"scatter3d\"}], \"scattercarpet\": [{\"marker\": {\"colorbar\": {\"outlinewidth\": 0, \"ticks\": \"\"}}, \"type\": \"scattercarpet\"}], \"scattergeo\": [{\"marker\": {\"colorbar\": {\"outlinewidth\": 0, \"ticks\": \"\"}}, \"type\": \"scattergeo\"}], \"scattergl\": [{\"marker\": {\"colorbar\": {\"outlinewidth\": 0, \"ticks\": \"\"}}, \"type\": \"scattergl\"}], \"scattermapbox\": [{\"marker\": {\"colorbar\": {\"outlinewidth\": 0, \"ticks\": \"\"}}, \"type\": \"scattermapbox\"}], \"scatterpolar\": [{\"marker\": {\"colorbar\": {\"outlinewidth\": 0, \"ticks\": \"\"}}, \"type\": \"scatterpolar\"}], \"scatterpolargl\": [{\"marker\": {\"colorbar\": {\"outlinewidth\": 0, \"ticks\": \"\"}}, \"type\": \"scatterpolargl\"}], \"scatterternary\": [{\"marker\": {\"colorbar\": {\"outlinewidth\": 0, \"ticks\": \"\"}}, \"type\": \"scatterternary\"}], \"surface\": [{\"colorbar\": {\"outlinewidth\": 0, \"ticks\": \"\"}, \"colorscale\": [[0.0, \"#0d0887\"], [0.1111111111111111, \"#46039f\"], [0.2222222222222222, \"#7201a8\"], [0.3333333333333333, \"#9c179e\"], [0.4444444444444444, \"#bd3786\"], [0.5555555555555556, \"#d8576b\"], [0.6666666666666666, \"#ed7953\"], [0.7777777777777778, \"#fb9f3a\"], [0.8888888888888888, \"#fdca26\"], [1.0, \"#f0f921\"]], \"type\": \"surface\"}], \"table\": [{\"cells\": {\"fill\": {\"color\": \"#EBF0F8\"}, \"line\": {\"color\": \"white\"}}, \"header\": {\"fill\": {\"color\": \"#C8D4E3\"}, \"line\": {\"color\": \"white\"}}, \"type\": \"table\"}]}, \"layout\": {\"annotationdefaults\": {\"arrowcolor\": \"#2a3f5f\", \"arrowhead\": 0, \"arrowwidth\": 1}, \"coloraxis\": {\"colorbar\": {\"outlinewidth\": 0, \"ticks\": \"\"}}, \"colorscale\": {\"diverging\": [[0, \"#8e0152\"], [0.1, \"#c51b7d\"], [0.2, \"#de77ae\"], [0.3, \"#f1b6da\"], [0.4, \"#fde0ef\"], [0.5, \"#f7f7f7\"], [0.6, \"#e6f5d0\"], [0.7, \"#b8e186\"], [0.8, \"#7fbc41\"], [0.9, \"#4d9221\"], [1, \"#276419\"]], \"sequential\": [[0.0, \"#0d0887\"], [0.1111111111111111, \"#46039f\"], [0.2222222222222222, \"#7201a8\"], [0.3333333333333333, \"#9c179e\"], [0.4444444444444444, \"#bd3786\"], [0.5555555555555556, \"#d8576b\"], [0.6666666666666666, \"#ed7953\"], [0.7777777777777778, \"#fb9f3a\"], [0.8888888888888888, \"#fdca26\"], [1.0, \"#f0f921\"]], \"sequentialminus\": [[0.0, \"#0d0887\"], [0.1111111111111111, \"#46039f\"], [0.2222222222222222, \"#7201a8\"], [0.3333333333333333, \"#9c179e\"], [0.4444444444444444, \"#bd3786\"], [0.5555555555555556, \"#d8576b\"], [0.6666666666666666, \"#ed7953\"], [0.7777777777777778, \"#fb9f3a\"], [0.8888888888888888, \"#fdca26\"], [1.0, \"#f0f921\"]]}, \"colorway\": [\"#636efa\", \"#EF553B\", \"#00cc96\", \"#ab63fa\", \"#FFA15A\", \"#19d3f3\", \"#FF6692\", \"#B6E880\", \"#FF97FF\", \"#FECB52\"], \"font\": {\"color\": \"#2a3f5f\"}, \"geo\": {\"bgcolor\": \"white\", \"lakecolor\": \"white\", \"landcolor\": \"#E5ECF6\", \"showlakes\": true, \"showland\": true, \"subunitcolor\": \"white\"}, \"hoverlabel\": {\"align\": \"left\"}, \"hovermode\": \"closest\", \"mapbox\": {\"style\": \"light\"}, \"paper_bgcolor\": \"white\", \"plot_bgcolor\": \"#E5ECF6\", \"polar\": {\"angularaxis\": {\"gridcolor\": \"white\", \"linecolor\": \"white\", \"ticks\": \"\"}, \"bgcolor\": \"#E5ECF6\", \"radialaxis\": {\"gridcolor\": \"white\", \"linecolor\": \"white\", \"ticks\": \"\"}}, \"scene\": {\"xaxis\": {\"backgroundcolor\": \"#E5ECF6\", \"gridcolor\": \"white\", \"gridwidth\": 2, \"linecolor\": \"white\", \"showbackground\": true, \"ticks\": \"\", \"zerolinecolor\": \"white\"}, \"yaxis\": {\"backgroundcolor\": \"#E5ECF6\", \"gridcolor\": \"white\", \"gridwidth\": 2, \"linecolor\": \"white\", \"showbackground\": true, \"ticks\": \"\", \"zerolinecolor\": \"white\"}, \"zaxis\": {\"backgroundcolor\": \"#E5ECF6\", \"gridcolor\": \"white\", \"gridwidth\": 2, \"linecolor\": \"white\", \"showbackground\": true, \"ticks\": \"\", \"zerolinecolor\": \"white\"}}, \"shapedefaults\": {\"line\": {\"color\": \"#2a3f5f\"}}, \"ternary\": {\"aaxis\": {\"gridcolor\": \"white\", \"linecolor\": \"white\", \"ticks\": \"\"}, \"baxis\": {\"gridcolor\": \"white\", \"linecolor\": \"white\", \"ticks\": \"\"}, \"bgcolor\": \"#E5ECF6\", \"caxis\": {\"gridcolor\": \"white\", \"linecolor\": \"white\", \"ticks\": \"\"}}, \"title\": {\"x\": 0.05}, \"xaxis\": {\"automargin\": true, \"gridcolor\": \"white\", \"linecolor\": \"white\", \"ticks\": \"\", \"title\": {\"standoff\": 15}, \"zerolinecolor\": \"white\", \"zerolinewidth\": 2}, \"yaxis\": {\"automargin\": true, \"gridcolor\": \"white\", \"linecolor\": \"white\", \"ticks\": \"\", \"title\": {\"standoff\": 15}, \"zerolinecolor\": \"white\", \"zerolinewidth\": 2}}}, \"title\": {\"text\": \"\\u0421\\u0442\\u0440\\u043e\\u0438\\u043c \\u0441\\u0438\\u043d\\u0443\\u0441 \\u0438 \\u043a\\u043e\\u0441\\u0438\\u043d\\u0443\\u0441 \\u043f\\u043e \\u0448\\u0430\\u0433\\u0430\\u043c\"}, \"updatemenus\": [{\"buttons\": [{\"args\": [null, {\"fromcurrent\": true}], \"label\": \"\\u25ba\", \"method\": \"animate\"}, {\"args\": [[null], {\"frame\": {\"duration\": 0, \"redraw\": false}, \"mode\": \"immediate\", \"transition\": {\"duration\": 0}}], \"label\": \"\\u275a\\u275a\", \"method\": \"animate\"}], \"direction\": \"left\", \"pad\": {\"r\": 10, \"t\": 80}, \"showactive\": false, \"type\": \"buttons\", \"x\": 0.1, \"xanchor\": \"right\", \"y\": 0, \"yanchor\": \"top\"}], \"xaxis\": {\"title\": {\"text\": \"\\u041e\\u0441\\u044c X\"}}, \"yaxis\": {\"title\": {\"text\": \"\\u041e\\u0441\\u044c Y\"}}},\n",
       "                        {\"responsive\": true}\n",
       "                    ).then(function(){\n",
       "                            Plotly.addFrames('c3f45d06-31a0-4542-aa97-09e67b20c5b0', [{\"data\": [{\"marker\": {\"color\": [0.0], \"colorscale\": [[0.0, \"#000004\"], [0.1111111111111111, \"#1b0c41\"], [0.2222222222222222, \"#4a0c6b\"], [0.3333333333333333, \"#781c6d\"], [0.4444444444444444, \"#a52c60\"], [0.5555555555555556, \"#cf4446\"], [0.6666666666666666, \"#ed6925\"], [0.7777777777777778, \"#fb9b06\"], [0.8888888888888888, \"#f7d13d\"], [1.0, \"#fcffa4\"]], \"size\": [0.0]}, \"mode\": \"lines+markers\", \"name\": \"h(x)=sin(x)\", \"x\": [0.0], \"y\": [0.0], \"type\": \"scatter\"}, {\"marker\": {\"color\": [0.0], \"colorscale\": [[0.0, \"#000004\"], [0.1111111111111111, \"#1b0c41\"], [0.2222222222222222, \"#4a0c6b\"], [0.3333333333333333, \"#781c6d\"], [0.4444444444444444, \"#a52c60\"], [0.5555555555555556, \"#cf4446\"], [0.6666666666666666, \"#ed6925\"], [0.7777777777777778, \"#fb9b06\"], [0.8888888888888888, \"#f7d13d\"], [1.0, \"#fcffa4\"]], \"size\": [50.0]}, \"mode\": \"lines+markers\", \"name\": \"k(x)=cos(x)\", \"x\": [0.0], \"y\": [1.0], \"type\": \"scatter\"}], \"name\": \"0\"}, {\"data\": [{\"marker\": {\"color\": [0.0, 0.010000000000000002], \"colorscale\": [[0.0, \"#000004\"], [0.1111111111111111, \"#1b0c41\"], [0.2222222222222222, \"#4a0c6b\"], [0.3333333333333333, \"#781c6d\"], [0.4444444444444444, \"#a52c60\"], [0.5555555555555556, \"#cf4446\"], [0.6666666666666666, \"#ed6925\"], [0.7777777777777778, \"#fb9b06\"], [0.8888888888888888, \"#f7d13d\"], [1.0, \"#fcffa4\"]], \"size\": [0.0, 4.991670832341407]}, \"mode\": \"lines+markers\", \"name\": \"h(x)=sin(x)\", \"x\": [0.0, 0.1], \"y\": [0.0, 0.09983341664682815], \"type\": \"scatter\"}, {\"marker\": {\"color\": [0.0, 0.010000000000000002], \"colorscale\": [[0.0, \"#000004\"], [0.1111111111111111, \"#1b0c41\"], [0.2222222222222222, \"#4a0c6b\"], [0.3333333333333333, \"#781c6d\"], [0.4444444444444444, \"#a52c60\"], [0.5555555555555556, \"#cf4446\"], [0.6666666666666666, \"#ed6925\"], [0.7777777777777778, \"#fb9b06\"], [0.8888888888888888, \"#f7d13d\"], [1.0, \"#fcffa4\"]], \"size\": [50.0, 49.75020826390129]}, \"mode\": \"lines+markers\", \"name\": \"k(x)=cos(x)\", \"x\": [0.0, 0.1], \"y\": [1.0, 0.9950041652780258], \"type\": \"scatter\"}], \"name\": \"1\"}, {\"data\": [{\"marker\": {\"color\": [0.0, 0.010000000000000002, 0.04000000000000001], \"colorscale\": [[0.0, \"#000004\"], [0.1111111111111111, \"#1b0c41\"], [0.2222222222222222, \"#4a0c6b\"], [0.3333333333333333, \"#781c6d\"], [0.4444444444444444, \"#a52c60\"], [0.5555555555555556, \"#cf4446\"], [0.6666666666666666, \"#ed6925\"], [0.7777777777777778, \"#fb9b06\"], [0.8888888888888888, \"#f7d13d\"], [1.0, \"#fcffa4\"]], \"size\": [0.0, 4.991670832341407, 9.933466539753061]}, \"mode\": \"lines+markers\", \"name\": \"h(x)=sin(x)\", \"x\": [0.0, 0.1, 0.2], \"y\": [0.0, 0.09983341664682815, 0.19866933079506122], \"type\": \"scatter\"}, {\"marker\": {\"color\": [0.0, 0.010000000000000002, 0.04000000000000001], \"colorscale\": [[0.0, \"#000004\"], [0.1111111111111111, \"#1b0c41\"], [0.2222222222222222, \"#4a0c6b\"], [0.3333333333333333, \"#781c6d\"], [0.4444444444444444, \"#a52c60\"], [0.5555555555555556, \"#cf4446\"], [0.6666666666666666, \"#ed6925\"], [0.7777777777777778, \"#fb9b06\"], [0.8888888888888888, \"#f7d13d\"], [1.0, \"#fcffa4\"]], \"size\": [50.0, 49.75020826390129, 49.00332889206208]}, \"mode\": \"lines+markers\", \"name\": \"k(x)=cos(x)\", \"x\": [0.0, 0.1, 0.2], \"y\": [1.0, 0.9950041652780258, 0.9800665778412416], \"type\": \"scatter\"}], \"name\": \"2\"}, {\"data\": [{\"marker\": {\"color\": [0.0, 0.010000000000000002, 0.04000000000000001, 0.09000000000000002], \"colorscale\": [[0.0, \"#000004\"], [0.1111111111111111, \"#1b0c41\"], [0.2222222222222222, \"#4a0c6b\"], [0.3333333333333333, \"#781c6d\"], [0.4444444444444444, \"#a52c60\"], [0.5555555555555556, \"#cf4446\"], [0.6666666666666666, \"#ed6925\"], [0.7777777777777778, \"#fb9b06\"], [0.8888888888888888, \"#f7d13d\"], [1.0, \"#fcffa4\"]], \"size\": [0.0, 4.991670832341407, 9.933466539753061, 14.77601033306698]}, \"mode\": \"lines+markers\", \"name\": \"h(x)=sin(x)\", \"x\": [0.0, 0.1, 0.2, 0.30000000000000004], \"y\": [0.0, 0.09983341664682815, 0.19866933079506122, 0.2955202066613396], \"type\": \"scatter\"}, {\"marker\": {\"color\": [0.0, 0.010000000000000002, 0.04000000000000001, 0.09000000000000002], \"colorscale\": [[0.0, \"#000004\"], [0.1111111111111111, \"#1b0c41\"], [0.2222222222222222, \"#4a0c6b\"], [0.3333333333333333, \"#781c6d\"], [0.4444444444444444, \"#a52c60\"], [0.5555555555555556, \"#cf4446\"], [0.6666666666666666, \"#ed6925\"], [0.7777777777777778, \"#fb9b06\"], [0.8888888888888888, \"#f7d13d\"], [1.0, \"#fcffa4\"]], \"size\": [50.0, 49.75020826390129, 49.00332889206208, 47.7668244562803]}, \"mode\": \"lines+markers\", \"name\": \"k(x)=cos(x)\", \"x\": [0.0, 0.1, 0.2, 0.30000000000000004], \"y\": [1.0, 0.9950041652780258, 0.9800665778412416, 0.955336489125606], \"type\": \"scatter\"}], \"name\": \"3\"}, {\"data\": [{\"marker\": {\"color\": [0.0, 0.010000000000000002, 0.04000000000000001, 0.09000000000000002, 0.16000000000000003], \"colorscale\": [[0.0, \"#000004\"], [0.1111111111111111, \"#1b0c41\"], [0.2222222222222222, \"#4a0c6b\"], [0.3333333333333333, \"#781c6d\"], [0.4444444444444444, \"#a52c60\"], [0.5555555555555556, \"#cf4446\"], [0.6666666666666666, \"#ed6925\"], [0.7777777777777778, \"#fb9b06\"], [0.8888888888888888, \"#f7d13d\"], [1.0, \"#fcffa4\"]], \"size\": [0.0, 4.991670832341407, 9.933466539753061, 14.77601033306698, 19.470917115432528]}, \"mode\": \"lines+markers\", \"name\": \"h(x)=sin(x)\", \"x\": [0.0, 0.1, 0.2, 0.30000000000000004, 0.4], \"y\": [0.0, 0.09983341664682815, 0.19866933079506122, 0.2955202066613396, 0.3894183423086505], \"type\": \"scatter\"}, {\"marker\": {\"color\": [0.0, 0.010000000000000002, 0.04000000000000001, 0.09000000000000002, 0.16000000000000003], \"colorscale\": [[0.0, \"#000004\"], [0.1111111111111111, \"#1b0c41\"], [0.2222222222222222, \"#4a0c6b\"], [0.3333333333333333, \"#781c6d\"], [0.4444444444444444, \"#a52c60\"], [0.5555555555555556, \"#cf4446\"], [0.6666666666666666, \"#ed6925\"], [0.7777777777777778, \"#fb9b06\"], [0.8888888888888888, \"#f7d13d\"], [1.0, \"#fcffa4\"]], \"size\": [50.0, 49.75020826390129, 49.00332889206208, 47.7668244562803, 46.05304970014426]}, \"mode\": \"lines+markers\", \"name\": \"k(x)=cos(x)\", \"x\": [0.0, 0.1, 0.2, 0.30000000000000004, 0.4], \"y\": [1.0, 0.9950041652780258, 0.9800665778412416, 0.955336489125606, 0.9210609940028851], \"type\": \"scatter\"}], \"name\": \"4\"}, {\"data\": [{\"marker\": {\"color\": [0.0, 0.010000000000000002, 0.04000000000000001, 0.09000000000000002, 0.16000000000000003, 0.25], \"colorscale\": [[0.0, \"#000004\"], [0.1111111111111111, \"#1b0c41\"], [0.2222222222222222, \"#4a0c6b\"], [0.3333333333333333, \"#781c6d\"], [0.4444444444444444, \"#a52c60\"], [0.5555555555555556, \"#cf4446\"], [0.6666666666666666, \"#ed6925\"], [0.7777777777777778, \"#fb9b06\"], [0.8888888888888888, \"#f7d13d\"], [1.0, \"#fcffa4\"]], \"size\": [0.0, 4.991670832341407, 9.933466539753061, 14.77601033306698, 19.470917115432528, 23.971276930210152]}, \"mode\": \"lines+markers\", \"name\": \"h(x)=sin(x)\", \"x\": [0.0, 0.1, 0.2, 0.30000000000000004, 0.4, 0.5], \"y\": [0.0, 0.09983341664682815, 0.19866933079506122, 0.2955202066613396, 0.3894183423086505, 0.479425538604203], \"type\": \"scatter\"}, {\"marker\": {\"color\": [0.0, 0.010000000000000002, 0.04000000000000001, 0.09000000000000002, 0.16000000000000003, 0.25], \"colorscale\": [[0.0, \"#000004\"], [0.1111111111111111, \"#1b0c41\"], [0.2222222222222222, \"#4a0c6b\"], [0.3333333333333333, \"#781c6d\"], [0.4444444444444444, \"#a52c60\"], [0.5555555555555556, \"#cf4446\"], [0.6666666666666666, \"#ed6925\"], [0.7777777777777778, \"#fb9b06\"], [0.8888888888888888, \"#f7d13d\"], [1.0, \"#fcffa4\"]], \"size\": [50.0, 49.75020826390129, 49.00332889206208, 47.7668244562803, 46.05304970014426, 43.879128094518634]}, \"mode\": \"lines+markers\", \"name\": \"k(x)=cos(x)\", \"x\": [0.0, 0.1, 0.2, 0.30000000000000004, 0.4, 0.5], \"y\": [1.0, 0.9950041652780258, 0.9800665778412416, 0.955336489125606, 0.9210609940028851, 0.8775825618903728], \"type\": \"scatter\"}], \"name\": \"5\"}, {\"data\": [{\"marker\": {\"color\": [0.0, 0.010000000000000002, 0.04000000000000001, 0.09000000000000002, 0.16000000000000003, 0.25, 0.3600000000000001], \"colorscale\": [[0.0, \"#000004\"], [0.1111111111111111, \"#1b0c41\"], [0.2222222222222222, \"#4a0c6b\"], [0.3333333333333333, \"#781c6d\"], [0.4444444444444444, \"#a52c60\"], [0.5555555555555556, \"#cf4446\"], [0.6666666666666666, \"#ed6925\"], [0.7777777777777778, \"#fb9b06\"], [0.8888888888888888, \"#f7d13d\"], [1.0, \"#fcffa4\"]], \"size\": [0.0, 4.991670832341407, 9.933466539753061, 14.77601033306698, 19.470917115432528, 23.971276930210152, 28.232123669751775]}, \"mode\": \"lines+markers\", \"name\": \"h(x)=sin(x)\", \"x\": [0.0, 0.1, 0.2, 0.30000000000000004, 0.4, 0.5, 0.6000000000000001], \"y\": [0.0, 0.09983341664682815, 0.19866933079506122, 0.2955202066613396, 0.3894183423086505, 0.479425538604203, 0.5646424733950355], \"type\": \"scatter\"}, {\"marker\": {\"color\": [0.0, 0.010000000000000002, 0.04000000000000001, 0.09000000000000002, 0.16000000000000003, 0.25, 0.3600000000000001], \"colorscale\": [[0.0, \"#000004\"], [0.1111111111111111, \"#1b0c41\"], [0.2222222222222222, \"#4a0c6b\"], [0.3333333333333333, \"#781c6d\"], [0.4444444444444444, \"#a52c60\"], [0.5555555555555556, \"#cf4446\"], [0.6666666666666666, \"#ed6925\"], [0.7777777777777778, \"#fb9b06\"], [0.8888888888888888, \"#f7d13d\"], [1.0, \"#fcffa4\"]], \"size\": [50.0, 49.75020826390129, 49.00332889206208, 47.7668244562803, 46.05304970014426, 43.879128094518634, 41.26678074548391]}, \"mode\": \"lines+markers\", \"name\": \"k(x)=cos(x)\", \"x\": [0.0, 0.1, 0.2, 0.30000000000000004, 0.4, 0.5, 0.6000000000000001], \"y\": [1.0, 0.9950041652780258, 0.9800665778412416, 0.955336489125606, 0.9210609940028851, 0.8775825618903728, 0.8253356149096782], \"type\": \"scatter\"}], \"name\": \"6\"}, {\"data\": [{\"marker\": {\"color\": [0.0, 0.010000000000000002, 0.04000000000000001, 0.09000000000000002, 0.16000000000000003, 0.25, 0.3600000000000001, 0.4900000000000001], \"colorscale\": [[0.0, \"#000004\"], [0.1111111111111111, \"#1b0c41\"], [0.2222222222222222, \"#4a0c6b\"], [0.3333333333333333, \"#781c6d\"], [0.4444444444444444, \"#a52c60\"], [0.5555555555555556, \"#cf4446\"], [0.6666666666666666, \"#ed6925\"], [0.7777777777777778, \"#fb9b06\"], [0.8888888888888888, \"#f7d13d\"], [1.0, \"#fcffa4\"]], \"size\": [0.0, 4.991670832341407, 9.933466539753061, 14.77601033306698, 19.470917115432528, 23.971276930210152, 28.232123669751775, 32.21088436188456]}, \"mode\": \"lines+markers\", \"name\": \"h(x)=sin(x)\", \"x\": [0.0, 0.1, 0.2, 0.30000000000000004, 0.4, 0.5, 0.6000000000000001, 0.7000000000000001], \"y\": [0.0, 0.09983341664682815, 0.19866933079506122, 0.2955202066613396, 0.3894183423086505, 0.479425538604203, 0.5646424733950355, 0.6442176872376911], \"type\": \"scatter\"}, {\"marker\": {\"color\": [0.0, 0.010000000000000002, 0.04000000000000001, 0.09000000000000002, 0.16000000000000003, 0.25, 0.3600000000000001, 0.4900000000000001], \"colorscale\": [[0.0, \"#000004\"], [0.1111111111111111, \"#1b0c41\"], [0.2222222222222222, \"#4a0c6b\"], [0.3333333333333333, \"#781c6d\"], [0.4444444444444444, \"#a52c60\"], [0.5555555555555556, \"#cf4446\"], [0.6666666666666666, \"#ed6925\"], [0.7777777777777778, \"#fb9b06\"], [0.8888888888888888, \"#f7d13d\"], [1.0, \"#fcffa4\"]], \"size\": [50.0, 49.75020826390129, 49.00332889206208, 47.7668244562803, 46.05304970014426, 43.879128094518634, 41.26678074548391, 38.24210936422442]}, \"mode\": \"lines+markers\", \"name\": \"k(x)=cos(x)\", \"x\": [0.0, 0.1, 0.2, 0.30000000000000004, 0.4, 0.5, 0.6000000000000001, 0.7000000000000001], \"y\": [1.0, 0.9950041652780258, 0.9800665778412416, 0.955336489125606, 0.9210609940028851, 0.8775825618903728, 0.8253356149096782, 0.7648421872844884], \"type\": \"scatter\"}], \"name\": \"7\"}, {\"data\": [{\"marker\": {\"color\": [0.0, 0.010000000000000002, 0.04000000000000001, 0.09000000000000002, 0.16000000000000003, 0.25, 0.3600000000000001, 0.4900000000000001, 0.6400000000000001], \"colorscale\": [[0.0, \"#000004\"], [0.1111111111111111, \"#1b0c41\"], [0.2222222222222222, \"#4a0c6b\"], [0.3333333333333333, \"#781c6d\"], [0.4444444444444444, \"#a52c60\"], [0.5555555555555556, \"#cf4446\"], [0.6666666666666666, \"#ed6925\"], [0.7777777777777778, \"#fb9b06\"], [0.8888888888888888, \"#f7d13d\"], [1.0, \"#fcffa4\"]], \"size\": [0.0, 4.991670832341407, 9.933466539753061, 14.77601033306698, 19.470917115432528, 23.971276930210152, 28.232123669751775, 32.21088436188456, 35.86780454497614]}, \"mode\": \"lines+markers\", \"name\": \"h(x)=sin(x)\", \"x\": [0.0, 0.1, 0.2, 0.30000000000000004, 0.4, 0.5, 0.6000000000000001, 0.7000000000000001, 0.8], \"y\": [0.0, 0.09983341664682815, 0.19866933079506122, 0.2955202066613396, 0.3894183423086505, 0.479425538604203, 0.5646424733950355, 0.6442176872376911, 0.7173560908995228], \"type\": \"scatter\"}, {\"marker\": {\"color\": [0.0, 0.010000000000000002, 0.04000000000000001, 0.09000000000000002, 0.16000000000000003, 0.25, 0.3600000000000001, 0.4900000000000001, 0.6400000000000001], \"colorscale\": [[0.0, \"#000004\"], [0.1111111111111111, \"#1b0c41\"], [0.2222222222222222, \"#4a0c6b\"], [0.3333333333333333, \"#781c6d\"], [0.4444444444444444, \"#a52c60\"], [0.5555555555555556, \"#cf4446\"], [0.6666666666666666, \"#ed6925\"], [0.7777777777777778, \"#fb9b06\"], [0.8888888888888888, \"#f7d13d\"], [1.0, \"#fcffa4\"]], \"size\": [50.0, 49.75020826390129, 49.00332889206208, 47.7668244562803, 46.05304970014426, 43.879128094518634, 41.26678074548391, 38.24210936422442, 34.83533546735827]}, \"mode\": \"lines+markers\", \"name\": \"k(x)=cos(x)\", \"x\": [0.0, 0.1, 0.2, 0.30000000000000004, 0.4, 0.5, 0.6000000000000001, 0.7000000000000001, 0.8], \"y\": [1.0, 0.9950041652780258, 0.9800665778412416, 0.955336489125606, 0.9210609940028851, 0.8775825618903728, 0.8253356149096782, 0.7648421872844884, 0.6967067093471654], \"type\": \"scatter\"}], \"name\": \"8\"}, {\"data\": [{\"marker\": {\"color\": [0.0, 0.010000000000000002, 0.04000000000000001, 0.09000000000000002, 0.16000000000000003, 0.25, 0.3600000000000001, 0.4900000000000001, 0.6400000000000001, 0.81], \"colorscale\": [[0.0, \"#000004\"], [0.1111111111111111, \"#1b0c41\"], [0.2222222222222222, \"#4a0c6b\"], [0.3333333333333333, \"#781c6d\"], [0.4444444444444444, \"#a52c60\"], [0.5555555555555556, \"#cf4446\"], [0.6666666666666666, \"#ed6925\"], [0.7777777777777778, \"#fb9b06\"], [0.8888888888888888, \"#f7d13d\"], [1.0, \"#fcffa4\"]], \"size\": [0.0, 4.991670832341407, 9.933466539753061, 14.77601033306698, 19.470917115432528, 23.971276930210152, 28.232123669751775, 32.21088436188456, 35.86780454497614, 39.16634548137417]}, \"mode\": \"lines+markers\", \"name\": \"h(x)=sin(x)\", \"x\": [0.0, 0.1, 0.2, 0.30000000000000004, 0.4, 0.5, 0.6000000000000001, 0.7000000000000001, 0.8, 0.9], \"y\": [0.0, 0.09983341664682815, 0.19866933079506122, 0.2955202066613396, 0.3894183423086505, 0.479425538604203, 0.5646424733950355, 0.6442176872376911, 0.7173560908995228, 0.7833269096274834], \"type\": \"scatter\"}, {\"marker\": {\"color\": [0.0, 0.010000000000000002, 0.04000000000000001, 0.09000000000000002, 0.16000000000000003, 0.25, 0.3600000000000001, 0.4900000000000001, 0.6400000000000001, 0.81], \"colorscale\": [[0.0, \"#000004\"], [0.1111111111111111, \"#1b0c41\"], [0.2222222222222222, \"#4a0c6b\"], [0.3333333333333333, \"#781c6d\"], [0.4444444444444444, \"#a52c60\"], [0.5555555555555556, \"#cf4446\"], [0.6666666666666666, \"#ed6925\"], [0.7777777777777778, \"#fb9b06\"], [0.8888888888888888, \"#f7d13d\"], [1.0, \"#fcffa4\"]], \"size\": [50.0, 49.75020826390129, 49.00332889206208, 47.7668244562803, 46.05304970014426, 43.879128094518634, 41.26678074548391, 38.24210936422442, 34.83533546735827, 31.08049841353322]}, \"mode\": \"lines+markers\", \"name\": \"k(x)=cos(x)\", \"x\": [0.0, 0.1, 0.2, 0.30000000000000004, 0.4, 0.5, 0.6000000000000001, 0.7000000000000001, 0.8, 0.9], \"y\": [1.0, 0.9950041652780258, 0.9800665778412416, 0.955336489125606, 0.9210609940028851, 0.8775825618903728, 0.8253356149096782, 0.7648421872844884, 0.6967067093471654, 0.6216099682706644], \"type\": \"scatter\"}], \"name\": \"9\"}, {\"data\": [{\"marker\": {\"color\": [0.0, 0.010000000000000002, 0.04000000000000001, 0.09000000000000002, 0.16000000000000003, 0.25, 0.3600000000000001, 0.4900000000000001, 0.6400000000000001, 0.81, 1.0], \"colorscale\": [[0.0, \"#000004\"], [0.1111111111111111, \"#1b0c41\"], [0.2222222222222222, \"#4a0c6b\"], [0.3333333333333333, \"#781c6d\"], [0.4444444444444444, \"#a52c60\"], [0.5555555555555556, \"#cf4446\"], [0.6666666666666666, \"#ed6925\"], [0.7777777777777778, \"#fb9b06\"], [0.8888888888888888, \"#f7d13d\"], [1.0, \"#fcffa4\"]], \"size\": [0.0, 4.991670832341407, 9.933466539753061, 14.77601033306698, 19.470917115432528, 23.971276930210152, 28.232123669751775, 32.21088436188456, 35.86780454497614, 39.16634548137417, 42.073549240394826]}, \"mode\": \"lines+markers\", \"name\": \"h(x)=sin(x)\", \"x\": [0.0, 0.1, 0.2, 0.30000000000000004, 0.4, 0.5, 0.6000000000000001, 0.7000000000000001, 0.8, 0.9, 1.0], \"y\": [0.0, 0.09983341664682815, 0.19866933079506122, 0.2955202066613396, 0.3894183423086505, 0.479425538604203, 0.5646424733950355, 0.6442176872376911, 0.7173560908995228, 0.7833269096274834, 0.8414709848078965], \"type\": \"scatter\"}, {\"marker\": {\"color\": [0.0, 0.010000000000000002, 0.04000000000000001, 0.09000000000000002, 0.16000000000000003, 0.25, 0.3600000000000001, 0.4900000000000001, 0.6400000000000001, 0.81, 1.0], \"colorscale\": [[0.0, \"#000004\"], [0.1111111111111111, \"#1b0c41\"], [0.2222222222222222, \"#4a0c6b\"], [0.3333333333333333, \"#781c6d\"], [0.4444444444444444, \"#a52c60\"], [0.5555555555555556, \"#cf4446\"], [0.6666666666666666, \"#ed6925\"], [0.7777777777777778, \"#fb9b06\"], [0.8888888888888888, \"#f7d13d\"], [1.0, \"#fcffa4\"]], \"size\": [50.0, 49.75020826390129, 49.00332889206208, 47.7668244562803, 46.05304970014426, 43.879128094518634, 41.26678074548391, 38.24210936422442, 34.83533546735827, 31.08049841353322, 27.01511529340699]}, \"mode\": \"lines+markers\", \"name\": \"k(x)=cos(x)\", \"x\": [0.0, 0.1, 0.2, 0.30000000000000004, 0.4, 0.5, 0.6000000000000001, 0.7000000000000001, 0.8, 0.9, 1.0], \"y\": [1.0, 0.9950041652780258, 0.9800665778412416, 0.955336489125606, 0.9210609940028851, 0.8775825618903728, 0.8253356149096782, 0.7648421872844884, 0.6967067093471654, 0.6216099682706644, 0.5403023058681398], \"type\": \"scatter\"}], \"name\": \"10\"}, {\"data\": [{\"marker\": {\"color\": [0.0, 0.010000000000000002, 0.04000000000000001, 0.09000000000000002, 0.16000000000000003, 0.25, 0.3600000000000001, 0.4900000000000001, 0.6400000000000001, 0.81, 1.0, 1.2100000000000002], \"colorscale\": [[0.0, \"#000004\"], [0.1111111111111111, \"#1b0c41\"], [0.2222222222222222, \"#4a0c6b\"], [0.3333333333333333, \"#781c6d\"], [0.4444444444444444, \"#a52c60\"], [0.5555555555555556, \"#cf4446\"], [0.6666666666666666, \"#ed6925\"], [0.7777777777777778, \"#fb9b06\"], [0.8888888888888888, \"#f7d13d\"], [1.0, \"#fcffa4\"]], \"size\": [0.0, 4.991670832341407, 9.933466539753061, 14.77601033306698, 19.470917115432528, 23.971276930210152, 28.232123669751775, 32.21088436188456, 35.86780454497614, 39.16634548137417, 42.073549240394826, 44.56036800307177]}, \"mode\": \"lines+markers\", \"name\": \"h(x)=sin(x)\", \"x\": [0.0, 0.1, 0.2, 0.30000000000000004, 0.4, 0.5, 0.6000000000000001, 0.7000000000000001, 0.8, 0.9, 1.0, 1.1], \"y\": [0.0, 0.09983341664682815, 0.19866933079506122, 0.2955202066613396, 0.3894183423086505, 0.479425538604203, 0.5646424733950355, 0.6442176872376911, 0.7173560908995228, 0.7833269096274834, 0.8414709848078965, 0.8912073600614354], \"type\": \"scatter\"}, {\"marker\": {\"color\": [0.0, 0.010000000000000002, 0.04000000000000001, 0.09000000000000002, 0.16000000000000003, 0.25, 0.3600000000000001, 0.4900000000000001, 0.6400000000000001, 0.81, 1.0, 1.2100000000000002], \"colorscale\": [[0.0, \"#000004\"], [0.1111111111111111, \"#1b0c41\"], [0.2222222222222222, \"#4a0c6b\"], [0.3333333333333333, \"#781c6d\"], [0.4444444444444444, \"#a52c60\"], [0.5555555555555556, \"#cf4446\"], [0.6666666666666666, \"#ed6925\"], [0.7777777777777778, \"#fb9b06\"], [0.8888888888888888, \"#f7d13d\"], [1.0, \"#fcffa4\"]], \"size\": [50.0, 49.75020826390129, 49.00332889206208, 47.7668244562803, 46.05304970014426, 43.879128094518634, 41.26678074548391, 38.24210936422442, 34.83533546735827, 31.08049841353322, 27.01511529340699, 22.679806071278865]}, \"mode\": \"lines+markers\", \"name\": \"k(x)=cos(x)\", \"x\": [0.0, 0.1, 0.2, 0.30000000000000004, 0.4, 0.5, 0.6000000000000001, 0.7000000000000001, 0.8, 0.9, 1.0, 1.1], \"y\": [1.0, 0.9950041652780258, 0.9800665778412416, 0.955336489125606, 0.9210609940028851, 0.8775825618903728, 0.8253356149096782, 0.7648421872844884, 0.6967067093471654, 0.6216099682706644, 0.5403023058681398, 0.4535961214255773], \"type\": \"scatter\"}], \"name\": \"11\"}, {\"data\": [{\"marker\": {\"color\": [0.0, 0.010000000000000002, 0.04000000000000001, 0.09000000000000002, 0.16000000000000003, 0.25, 0.3600000000000001, 0.4900000000000001, 0.6400000000000001, 0.81, 1.0, 1.2100000000000002, 1.4400000000000004], \"colorscale\": [[0.0, \"#000004\"], [0.1111111111111111, \"#1b0c41\"], [0.2222222222222222, \"#4a0c6b\"], [0.3333333333333333, \"#781c6d\"], [0.4444444444444444, \"#a52c60\"], [0.5555555555555556, \"#cf4446\"], [0.6666666666666666, \"#ed6925\"], [0.7777777777777778, \"#fb9b06\"], [0.8888888888888888, \"#f7d13d\"], [1.0, \"#fcffa4\"]], \"size\": [0.0, 4.991670832341407, 9.933466539753061, 14.77601033306698, 19.470917115432528, 23.971276930210152, 28.232123669751775, 32.21088436188456, 35.86780454497614, 39.16634548137417, 42.073549240394826, 44.56036800307177, 46.60195429836132]}, \"mode\": \"lines+markers\", \"name\": \"h(x)=sin(x)\", \"x\": [0.0, 0.1, 0.2, 0.30000000000000004, 0.4, 0.5, 0.6000000000000001, 0.7000000000000001, 0.8, 0.9, 1.0, 1.1, 1.2000000000000002], \"y\": [0.0, 0.09983341664682815, 0.19866933079506122, 0.2955202066613396, 0.3894183423086505, 0.479425538604203, 0.5646424733950355, 0.6442176872376911, 0.7173560908995228, 0.7833269096274834, 0.8414709848078965, 0.8912073600614354, 0.9320390859672264], \"type\": \"scatter\"}, {\"marker\": {\"color\": [0.0, 0.010000000000000002, 0.04000000000000001, 0.09000000000000002, 0.16000000000000003, 0.25, 0.3600000000000001, 0.4900000000000001, 0.6400000000000001, 0.81, 1.0, 1.2100000000000002, 1.4400000000000004], \"colorscale\": [[0.0, \"#000004\"], [0.1111111111111111, \"#1b0c41\"], [0.2222222222222222, \"#4a0c6b\"], [0.3333333333333333, \"#781c6d\"], [0.4444444444444444, \"#a52c60\"], [0.5555555555555556, \"#cf4446\"], [0.6666666666666666, \"#ed6925\"], [0.7777777777777778, \"#fb9b06\"], [0.8888888888888888, \"#f7d13d\"], [1.0, \"#fcffa4\"]], \"size\": [50.0, 49.75020826390129, 49.00332889206208, 47.7668244562803, 46.05304970014426, 43.879128094518634, 41.26678074548391, 38.24210936422442, 34.83533546735827, 31.08049841353322, 27.01511529340699, 22.679806071278865, 18.117887723833668]}, \"mode\": \"lines+markers\", \"name\": \"k(x)=cos(x)\", \"x\": [0.0, 0.1, 0.2, 0.30000000000000004, 0.4, 0.5, 0.6000000000000001, 0.7000000000000001, 0.8, 0.9, 1.0, 1.1, 1.2000000000000002], \"y\": [1.0, 0.9950041652780258, 0.9800665778412416, 0.955336489125606, 0.9210609940028851, 0.8775825618903728, 0.8253356149096782, 0.7648421872844884, 0.6967067093471654, 0.6216099682706644, 0.5403023058681398, 0.4535961214255773, 0.3623577544766734], \"type\": \"scatter\"}], \"name\": \"12\"}, {\"data\": [{\"marker\": {\"color\": [0.0, 0.010000000000000002, 0.04000000000000001, 0.09000000000000002, 0.16000000000000003, 0.25, 0.3600000000000001, 0.4900000000000001, 0.6400000000000001, 0.81, 1.0, 1.2100000000000002, 1.4400000000000004, 1.6900000000000002], \"colorscale\": [[0.0, \"#000004\"], [0.1111111111111111, \"#1b0c41\"], [0.2222222222222222, \"#4a0c6b\"], [0.3333333333333333, \"#781c6d\"], [0.4444444444444444, \"#a52c60\"], [0.5555555555555556, \"#cf4446\"], [0.6666666666666666, \"#ed6925\"], [0.7777777777777778, \"#fb9b06\"], [0.8888888888888888, \"#f7d13d\"], [1.0, \"#fcffa4\"]], \"size\": [0.0, 4.991670832341407, 9.933466539753061, 14.77601033306698, 19.470917115432528, 23.971276930210152, 28.232123669751775, 32.21088436188456, 35.86780454497614, 39.16634548137417, 42.073549240394826, 44.56036800307177, 46.60195429836132, 48.17790927085965]}, \"mode\": \"lines+markers\", \"name\": \"h(x)=sin(x)\", \"x\": [0.0, 0.1, 0.2, 0.30000000000000004, 0.4, 0.5, 0.6000000000000001, 0.7000000000000001, 0.8, 0.9, 1.0, 1.1, 1.2000000000000002, 1.3], \"y\": [0.0, 0.09983341664682815, 0.19866933079506122, 0.2955202066613396, 0.3894183423086505, 0.479425538604203, 0.5646424733950355, 0.6442176872376911, 0.7173560908995228, 0.7833269096274834, 0.8414709848078965, 0.8912073600614354, 0.9320390859672264, 0.963558185417193], \"type\": \"scatter\"}, {\"marker\": {\"color\": [0.0, 0.010000000000000002, 0.04000000000000001, 0.09000000000000002, 0.16000000000000003, 0.25, 0.3600000000000001, 0.4900000000000001, 0.6400000000000001, 0.81, 1.0, 1.2100000000000002, 1.4400000000000004, 1.6900000000000002], \"colorscale\": [[0.0, \"#000004\"], [0.1111111111111111, \"#1b0c41\"], [0.2222222222222222, \"#4a0c6b\"], [0.3333333333333333, \"#781c6d\"], [0.4444444444444444, \"#a52c60\"], [0.5555555555555556, \"#cf4446\"], [0.6666666666666666, \"#ed6925\"], [0.7777777777777778, \"#fb9b06\"], [0.8888888888888888, \"#f7d13d\"], [1.0, \"#fcffa4\"]], \"size\": [50.0, 49.75020826390129, 49.00332889206208, 47.7668244562803, 46.05304970014426, 43.879128094518634, 41.26678074548391, 38.24210936422442, 34.83533546735827, 31.08049841353322, 27.01511529340699, 22.679806071278865, 18.117887723833668, 13.374941431229367]}, \"mode\": \"lines+markers\", \"name\": \"k(x)=cos(x)\", \"x\": [0.0, 0.1, 0.2, 0.30000000000000004, 0.4, 0.5, 0.6000000000000001, 0.7000000000000001, 0.8, 0.9, 1.0, 1.1, 1.2000000000000002, 1.3], \"y\": [1.0, 0.9950041652780258, 0.9800665778412416, 0.955336489125606, 0.9210609940028851, 0.8775825618903728, 0.8253356149096782, 0.7648421872844884, 0.6967067093471654, 0.6216099682706644, 0.5403023058681398, 0.4535961214255773, 0.3623577544766734, 0.26749882862458735], \"type\": \"scatter\"}], \"name\": \"13\"}, {\"data\": [{\"marker\": {\"color\": [0.0, 0.010000000000000002, 0.04000000000000001, 0.09000000000000002, 0.16000000000000003, 0.25, 0.3600000000000001, 0.4900000000000001, 0.6400000000000001, 0.81, 1.0, 1.2100000000000002, 1.4400000000000004, 1.6900000000000002, 1.9600000000000004], \"colorscale\": [[0.0, \"#000004\"], [0.1111111111111111, \"#1b0c41\"], [0.2222222222222222, \"#4a0c6b\"], [0.3333333333333333, \"#781c6d\"], [0.4444444444444444, \"#a52c60\"], [0.5555555555555556, \"#cf4446\"], [0.6666666666666666, \"#ed6925\"], [0.7777777777777778, \"#fb9b06\"], [0.8888888888888888, \"#f7d13d\"], [1.0, \"#fcffa4\"]], \"size\": [0.0, 4.991670832341407, 9.933466539753061, 14.77601033306698, 19.470917115432528, 23.971276930210152, 28.232123669751775, 32.21088436188456, 35.86780454497614, 39.16634548137417, 42.073549240394826, 44.56036800307177, 46.60195429836132, 48.17790927085965, 49.27248649942301]}, \"mode\": \"lines+markers\", \"name\": \"h(x)=sin(x)\", \"x\": [0.0, 0.1, 0.2, 0.30000000000000004, 0.4, 0.5, 0.6000000000000001, 0.7000000000000001, 0.8, 0.9, 1.0, 1.1, 1.2000000000000002, 1.3, 1.4000000000000001], \"y\": [0.0, 0.09983341664682815, 0.19866933079506122, 0.2955202066613396, 0.3894183423086505, 0.479425538604203, 0.5646424733950355, 0.6442176872376911, 0.7173560908995228, 0.7833269096274834, 0.8414709848078965, 0.8912073600614354, 0.9320390859672264, 0.963558185417193, 0.9854497299884603], \"type\": \"scatter\"}, {\"marker\": {\"color\": [0.0, 0.010000000000000002, 0.04000000000000001, 0.09000000000000002, 0.16000000000000003, 0.25, 0.3600000000000001, 0.4900000000000001, 0.6400000000000001, 0.81, 1.0, 1.2100000000000002, 1.4400000000000004, 1.6900000000000002, 1.9600000000000004], \"colorscale\": [[0.0, \"#000004\"], [0.1111111111111111, \"#1b0c41\"], [0.2222222222222222, \"#4a0c6b\"], [0.3333333333333333, \"#781c6d\"], [0.4444444444444444, \"#a52c60\"], [0.5555555555555556, \"#cf4446\"], [0.6666666666666666, \"#ed6925\"], [0.7777777777777778, \"#fb9b06\"], [0.8888888888888888, \"#f7d13d\"], [1.0, \"#fcffa4\"]], \"size\": [50.0, 49.75020826390129, 49.00332889206208, 47.7668244562803, 46.05304970014426, 43.879128094518634, 41.26678074548391, 38.24210936422442, 34.83533546735827, 31.08049841353322, 27.01511529340699, 22.679806071278865, 18.117887723833668, 13.374941431229367, 8.49835714501204]}, \"mode\": \"lines+markers\", \"name\": \"k(x)=cos(x)\", \"x\": [0.0, 0.1, 0.2, 0.30000000000000004, 0.4, 0.5, 0.6000000000000001, 0.7000000000000001, 0.8, 0.9, 1.0, 1.1, 1.2000000000000002, 1.3, 1.4000000000000001], \"y\": [1.0, 0.9950041652780258, 0.9800665778412416, 0.955336489125606, 0.9210609940028851, 0.8775825618903728, 0.8253356149096782, 0.7648421872844884, 0.6967067093471654, 0.6216099682706644, 0.5403023058681398, 0.4535961214255773, 0.3623577544766734, 0.26749882862458735, 0.16996714290024081], \"type\": \"scatter\"}], \"name\": \"14\"}, {\"data\": [{\"marker\": {\"color\": [0.0, 0.010000000000000002, 0.04000000000000001, 0.09000000000000002, 0.16000000000000003, 0.25, 0.3600000000000001, 0.4900000000000001, 0.6400000000000001, 0.81, 1.0, 1.2100000000000002, 1.4400000000000004, 1.6900000000000002, 1.9600000000000004, 2.25], \"colorscale\": [[0.0, \"#000004\"], [0.1111111111111111, \"#1b0c41\"], [0.2222222222222222, \"#4a0c6b\"], [0.3333333333333333, \"#781c6d\"], [0.4444444444444444, \"#a52c60\"], [0.5555555555555556, \"#cf4446\"], [0.6666666666666666, \"#ed6925\"], [0.7777777777777778, \"#fb9b06\"], [0.8888888888888888, \"#f7d13d\"], [1.0, \"#fcffa4\"]], \"size\": [0.0, 4.991670832341407, 9.933466539753061, 14.77601033306698, 19.470917115432528, 23.971276930210152, 28.232123669751775, 32.21088436188456, 35.86780454497614, 39.16634548137417, 42.073549240394826, 44.56036800307177, 46.60195429836132, 48.17790927085965, 49.27248649942301, 49.874749330202725]}, \"mode\": \"lines+markers\", \"name\": \"h(x)=sin(x)\", \"x\": [0.0, 0.1, 0.2, 0.30000000000000004, 0.4, 0.5, 0.6000000000000001, 0.7000000000000001, 0.8, 0.9, 1.0, 1.1, 1.2000000000000002, 1.3, 1.4000000000000001, 1.5], \"y\": [0.0, 0.09983341664682815, 0.19866933079506122, 0.2955202066613396, 0.3894183423086505, 0.479425538604203, 0.5646424733950355, 0.6442176872376911, 0.7173560908995228, 0.7833269096274834, 0.8414709848078965, 0.8912073600614354, 0.9320390859672264, 0.963558185417193, 0.9854497299884603, 0.9974949866040544], \"type\": \"scatter\"}, {\"marker\": {\"color\": [0.0, 0.010000000000000002, 0.04000000000000001, 0.09000000000000002, 0.16000000000000003, 0.25, 0.3600000000000001, 0.4900000000000001, 0.6400000000000001, 0.81, 1.0, 1.2100000000000002, 1.4400000000000004, 1.6900000000000002, 1.9600000000000004, 2.25], \"colorscale\": [[0.0, \"#000004\"], [0.1111111111111111, \"#1b0c41\"], [0.2222222222222222, \"#4a0c6b\"], [0.3333333333333333, \"#781c6d\"], [0.4444444444444444, \"#a52c60\"], [0.5555555555555556, \"#cf4446\"], [0.6666666666666666, \"#ed6925\"], [0.7777777777777778, \"#fb9b06\"], [0.8888888888888888, \"#f7d13d\"], [1.0, \"#fcffa4\"]], \"size\": [50.0, 49.75020826390129, 49.00332889206208, 47.7668244562803, 46.05304970014426, 43.879128094518634, 41.26678074548391, 38.24210936422442, 34.83533546735827, 31.08049841353322, 27.01511529340699, 22.679806071278865, 18.117887723833668, 13.374941431229367, 8.49835714501204, 3.5368600833851453]}, \"mode\": \"lines+markers\", \"name\": \"k(x)=cos(x)\", \"x\": [0.0, 0.1, 0.2, 0.30000000000000004, 0.4, 0.5, 0.6000000000000001, 0.7000000000000001, 0.8, 0.9, 1.0, 1.1, 1.2000000000000002, 1.3, 1.4000000000000001, 1.5], \"y\": [1.0, 0.9950041652780258, 0.9800665778412416, 0.955336489125606, 0.9210609940028851, 0.8775825618903728, 0.8253356149096782, 0.7648421872844884, 0.6967067093471654, 0.6216099682706644, 0.5403023058681398, 0.4535961214255773, 0.3623577544766734, 0.26749882862458735, 0.16996714290024081, 0.0707372016677029], \"type\": \"scatter\"}], \"name\": \"15\"}, {\"data\": [{\"marker\": {\"color\": [0.0, 0.010000000000000002, 0.04000000000000001, 0.09000000000000002, 0.16000000000000003, 0.25, 0.3600000000000001, 0.4900000000000001, 0.6400000000000001, 0.81, 1.0, 1.2100000000000002, 1.4400000000000004, 1.6900000000000002, 1.9600000000000004, 2.25, 2.5600000000000005], \"colorscale\": [[0.0, \"#000004\"], [0.1111111111111111, \"#1b0c41\"], [0.2222222222222222, \"#4a0c6b\"], [0.3333333333333333, \"#781c6d\"], [0.4444444444444444, \"#a52c60\"], [0.5555555555555556, \"#cf4446\"], [0.6666666666666666, \"#ed6925\"], [0.7777777777777778, \"#fb9b06\"], [0.8888888888888888, \"#f7d13d\"], [1.0, \"#fcffa4\"]], \"size\": [0.0, 4.991670832341407, 9.933466539753061, 14.77601033306698, 19.470917115432528, 23.971276930210152, 28.232123669751775, 32.21088436188456, 35.86780454497614, 39.16634548137417, 42.073549240394826, 44.56036800307177, 46.60195429836132, 48.17790927085965, 49.27248649942301, 49.874749330202725, 49.978680152075256]}, \"mode\": \"lines+markers\", \"name\": \"h(x)=sin(x)\", \"x\": [0.0, 0.1, 0.2, 0.30000000000000004, 0.4, 0.5, 0.6000000000000001, 0.7000000000000001, 0.8, 0.9, 1.0, 1.1, 1.2000000000000002, 1.3, 1.4000000000000001, 1.5, 1.6], \"y\": [0.0, 0.09983341664682815, 0.19866933079506122, 0.2955202066613396, 0.3894183423086505, 0.479425538604203, 0.5646424733950355, 0.6442176872376911, 0.7173560908995228, 0.7833269096274834, 0.8414709848078965, 0.8912073600614354, 0.9320390859672264, 0.963558185417193, 0.9854497299884603, 0.9974949866040544, 0.9995736030415051], \"type\": \"scatter\"}, {\"marker\": {\"color\": [0.0, 0.010000000000000002, 0.04000000000000001, 0.09000000000000002, 0.16000000000000003, 0.25, 0.3600000000000001, 0.4900000000000001, 0.6400000000000001, 0.81, 1.0, 1.2100000000000002, 1.4400000000000004, 1.6900000000000002, 1.9600000000000004, 2.25, 2.5600000000000005], \"colorscale\": [[0.0, \"#000004\"], [0.1111111111111111, \"#1b0c41\"], [0.2222222222222222, \"#4a0c6b\"], [0.3333333333333333, \"#781c6d\"], [0.4444444444444444, \"#a52c60\"], [0.5555555555555556, \"#cf4446\"], [0.6666666666666666, \"#ed6925\"], [0.7777777777777778, \"#fb9b06\"], [0.8888888888888888, \"#f7d13d\"], [1.0, \"#fcffa4\"]], \"size\": [50.0, 49.75020826390129, 49.00332889206208, 47.7668244562803, 46.05304970014426, 43.879128094518634, 41.26678074548391, 38.24210936422442, 34.83533546735827, 31.08049841353322, 27.01511529340699, 22.679806071278865, 18.117887723833668, 13.374941431229367, 8.49835714501204, 3.5368600833851453, 1.4599761150644408]}, \"mode\": \"lines+markers\", \"name\": \"k(x)=cos(x)\", \"x\": [0.0, 0.1, 0.2, 0.30000000000000004, 0.4, 0.5, 0.6000000000000001, 0.7000000000000001, 0.8, 0.9, 1.0, 1.1, 1.2000000000000002, 1.3, 1.4000000000000001, 1.5, 1.6], \"y\": [1.0, 0.9950041652780258, 0.9800665778412416, 0.955336489125606, 0.9210609940028851, 0.8775825618903728, 0.8253356149096782, 0.7648421872844884, 0.6967067093471654, 0.6216099682706644, 0.5403023058681398, 0.4535961214255773, 0.3623577544766734, 0.26749882862458735, 0.16996714290024081, 0.0707372016677029, -0.029199522301288815], \"type\": \"scatter\"}], \"name\": \"16\"}, {\"data\": [{\"marker\": {\"color\": [0.0, 0.010000000000000002, 0.04000000000000001, 0.09000000000000002, 0.16000000000000003, 0.25, 0.3600000000000001, 0.4900000000000001, 0.6400000000000001, 0.81, 1.0, 1.2100000000000002, 1.4400000000000004, 1.6900000000000002, 1.9600000000000004, 2.25, 2.5600000000000005, 2.8900000000000006], \"colorscale\": [[0.0, \"#000004\"], [0.1111111111111111, \"#1b0c41\"], [0.2222222222222222, \"#4a0c6b\"], [0.3333333333333333, \"#781c6d\"], [0.4444444444444444, \"#a52c60\"], [0.5555555555555556, \"#cf4446\"], [0.6666666666666666, \"#ed6925\"], [0.7777777777777778, \"#fb9b06\"], [0.8888888888888888, \"#f7d13d\"], [1.0, \"#fcffa4\"]], \"size\": [0.0, 4.991670832341407, 9.933466539753061, 14.77601033306698, 19.470917115432528, 23.971276930210152, 28.232123669751775, 32.21088436188456, 35.86780454497614, 39.16634548137417, 42.073549240394826, 44.56036800307177, 46.60195429836132, 48.17790927085965, 49.27248649942301, 49.874749330202725, 49.978680152075256, 49.58324052262343]}, \"mode\": \"lines+markers\", \"name\": \"h(x)=sin(x)\", \"x\": [0.0, 0.1, 0.2, 0.30000000000000004, 0.4, 0.5, 0.6000000000000001, 0.7000000000000001, 0.8, 0.9, 1.0, 1.1, 1.2000000000000002, 1.3, 1.4000000000000001, 1.5, 1.6, 1.7000000000000002], \"y\": [0.0, 0.09983341664682815, 0.19866933079506122, 0.2955202066613396, 0.3894183423086505, 0.479425538604203, 0.5646424733950355, 0.6442176872376911, 0.7173560908995228, 0.7833269096274834, 0.8414709848078965, 0.8912073600614354, 0.9320390859672264, 0.963558185417193, 0.9854497299884603, 0.9974949866040544, 0.9995736030415051, 0.9916648104524686], \"type\": \"scatter\"}, {\"marker\": {\"color\": [0.0, 0.010000000000000002, 0.04000000000000001, 0.09000000000000002, 0.16000000000000003, 0.25, 0.3600000000000001, 0.4900000000000001, 0.6400000000000001, 0.81, 1.0, 1.2100000000000002, 1.4400000000000004, 1.6900000000000002, 1.9600000000000004, 2.25, 2.5600000000000005, 2.8900000000000006], \"colorscale\": [[0.0, \"#000004\"], [0.1111111111111111, \"#1b0c41\"], [0.2222222222222222, \"#4a0c6b\"], [0.3333333333333333, \"#781c6d\"], [0.4444444444444444, \"#a52c60\"], [0.5555555555555556, \"#cf4446\"], [0.6666666666666666, \"#ed6925\"], [0.7777777777777778, \"#fb9b06\"], [0.8888888888888888, \"#f7d13d\"], [1.0, \"#fcffa4\"]], \"size\": [50.0, 49.75020826390129, 49.00332889206208, 47.7668244562803, 46.05304970014426, 43.879128094518634, 41.26678074548391, 38.24210936422442, 34.83533546735827, 31.08049841353322, 27.01511529340699, 22.679806071278865, 18.117887723833668, 13.374941431229367, 8.49835714501204, 3.5368600833851453, 1.4599761150644408, 6.442224714776243]}, \"mode\": \"lines+markers\", \"name\": \"k(x)=cos(x)\", \"x\": [0.0, 0.1, 0.2, 0.30000000000000004, 0.4, 0.5, 0.6000000000000001, 0.7000000000000001, 0.8, 0.9, 1.0, 1.1, 1.2000000000000002, 1.3, 1.4000000000000001, 1.5, 1.6, 1.7000000000000002], \"y\": [1.0, 0.9950041652780258, 0.9800665778412416, 0.955336489125606, 0.9210609940028851, 0.8775825618903728, 0.8253356149096782, 0.7648421872844884, 0.6967067093471654, 0.6216099682706644, 0.5403023058681398, 0.4535961214255773, 0.3623577544766734, 0.26749882862458735, 0.16996714290024081, 0.0707372016677029, -0.029199522301288815, -0.12884449429552486], \"type\": \"scatter\"}], \"name\": \"17\"}, {\"data\": [{\"marker\": {\"color\": [0.0, 0.010000000000000002, 0.04000000000000001, 0.09000000000000002, 0.16000000000000003, 0.25, 0.3600000000000001, 0.4900000000000001, 0.6400000000000001, 0.81, 1.0, 1.2100000000000002, 1.4400000000000004, 1.6900000000000002, 1.9600000000000004, 2.25, 2.5600000000000005, 2.8900000000000006, 3.24], \"colorscale\": [[0.0, \"#000004\"], [0.1111111111111111, \"#1b0c41\"], [0.2222222222222222, \"#4a0c6b\"], [0.3333333333333333, \"#781c6d\"], [0.4444444444444444, \"#a52c60\"], [0.5555555555555556, \"#cf4446\"], [0.6666666666666666, \"#ed6925\"], [0.7777777777777778, \"#fb9b06\"], [0.8888888888888888, \"#f7d13d\"], [1.0, \"#fcffa4\"]], \"size\": [0.0, 4.991670832341407, 9.933466539753061, 14.77601033306698, 19.470917115432528, 23.971276930210152, 28.232123669751775, 32.21088436188456, 35.86780454497614, 39.16634548137417, 42.073549240394826, 44.56036800307177, 46.60195429836132, 48.17790927085965, 49.27248649942301, 49.874749330202725, 49.978680152075256, 49.58324052262343, 48.69238154390976]}, \"mode\": \"lines+markers\", \"name\": \"h(x)=sin(x)\", \"x\": [0.0, 0.1, 0.2, 0.30000000000000004, 0.4, 0.5, 0.6000000000000001, 0.7000000000000001, 0.8, 0.9, 1.0, 1.1, 1.2000000000000002, 1.3, 1.4000000000000001, 1.5, 1.6, 1.7000000000000002, 1.8], \"y\": [0.0, 0.09983341664682815, 0.19866933079506122, 0.2955202066613396, 0.3894183423086505, 0.479425538604203, 0.5646424733950355, 0.6442176872376911, 0.7173560908995228, 0.7833269096274834, 0.8414709848078965, 0.8912073600614354, 0.9320390859672264, 0.963558185417193, 0.9854497299884603, 0.9974949866040544, 0.9995736030415051, 0.9916648104524686, 0.9738476308781951], \"type\": \"scatter\"}, {\"marker\": {\"color\": [0.0, 0.010000000000000002, 0.04000000000000001, 0.09000000000000002, 0.16000000000000003, 0.25, 0.3600000000000001, 0.4900000000000001, 0.6400000000000001, 0.81, 1.0, 1.2100000000000002, 1.4400000000000004, 1.6900000000000002, 1.9600000000000004, 2.25, 2.5600000000000005, 2.8900000000000006, 3.24], \"colorscale\": [[0.0, \"#000004\"], [0.1111111111111111, \"#1b0c41\"], [0.2222222222222222, \"#4a0c6b\"], [0.3333333333333333, \"#781c6d\"], [0.4444444444444444, \"#a52c60\"], [0.5555555555555556, \"#cf4446\"], [0.6666666666666666, \"#ed6925\"], [0.7777777777777778, \"#fb9b06\"], [0.8888888888888888, \"#f7d13d\"], [1.0, \"#fcffa4\"]], \"size\": [50.0, 49.75020826390129, 49.00332889206208, 47.7668244562803, 46.05304970014426, 43.879128094518634, 41.26678074548391, 38.24210936422442, 34.83533546735827, 31.08049841353322, 27.01511529340699, 22.679806071278865, 18.117887723833668, 13.374941431229367, 8.49835714501204, 3.5368600833851453, 1.4599761150644408, 6.442224714776243, 11.360104734654355]}, \"mode\": \"lines+markers\", \"name\": \"k(x)=cos(x)\", \"x\": [0.0, 0.1, 0.2, 0.30000000000000004, 0.4, 0.5, 0.6000000000000001, 0.7000000000000001, 0.8, 0.9, 1.0, 1.1, 1.2000000000000002, 1.3, 1.4000000000000001, 1.5, 1.6, 1.7000000000000002, 1.8], \"y\": [1.0, 0.9950041652780258, 0.9800665778412416, 0.955336489125606, 0.9210609940028851, 0.8775825618903728, 0.8253356149096782, 0.7648421872844884, 0.6967067093471654, 0.6216099682706644, 0.5403023058681398, 0.4535961214255773, 0.3623577544766734, 0.26749882862458735, 0.16996714290024081, 0.0707372016677029, -0.029199522301288815, -0.12884449429552486, -0.2272020946930871], \"type\": \"scatter\"}], \"name\": \"18\"}, {\"data\": [{\"marker\": {\"color\": [0.0, 0.010000000000000002, 0.04000000000000001, 0.09000000000000002, 0.16000000000000003, 0.25, 0.3600000000000001, 0.4900000000000001, 0.6400000000000001, 0.81, 1.0, 1.2100000000000002, 1.4400000000000004, 1.6900000000000002, 1.9600000000000004, 2.25, 2.5600000000000005, 2.8900000000000006, 3.24, 3.6100000000000003], \"colorscale\": [[0.0, \"#000004\"], [0.1111111111111111, \"#1b0c41\"], [0.2222222222222222, \"#4a0c6b\"], [0.3333333333333333, \"#781c6d\"], [0.4444444444444444, \"#a52c60\"], [0.5555555555555556, \"#cf4446\"], [0.6666666666666666, \"#ed6925\"], [0.7777777777777778, \"#fb9b06\"], [0.8888888888888888, \"#f7d13d\"], [1.0, \"#fcffa4\"]], \"size\": [0.0, 4.991670832341407, 9.933466539753061, 14.77601033306698, 19.470917115432528, 23.971276930210152, 28.232123669751775, 32.21088436188456, 35.86780454497614, 39.16634548137417, 42.073549240394826, 44.56036800307177, 46.60195429836132, 48.17790927085965, 49.27248649942301, 49.874749330202725, 49.978680152075256, 49.58324052262343, 48.69238154390976, 47.315004384370724]}, \"mode\": \"lines+markers\", \"name\": \"h(x)=sin(x)\", \"x\": [0.0, 0.1, 0.2, 0.30000000000000004, 0.4, 0.5, 0.6000000000000001, 0.7000000000000001, 0.8, 0.9, 1.0, 1.1, 1.2000000000000002, 1.3, 1.4000000000000001, 1.5, 1.6, 1.7000000000000002, 1.8, 1.9000000000000001], \"y\": [0.0, 0.09983341664682815, 0.19866933079506122, 0.2955202066613396, 0.3894183423086505, 0.479425538604203, 0.5646424733950355, 0.6442176872376911, 0.7173560908995228, 0.7833269096274834, 0.8414709848078965, 0.8912073600614354, 0.9320390859672264, 0.963558185417193, 0.9854497299884603, 0.9974949866040544, 0.9995736030415051, 0.9916648104524686, 0.9738476308781951, 0.9463000876874145], \"type\": \"scatter\"}, {\"marker\": {\"color\": [0.0, 0.010000000000000002, 0.04000000000000001, 0.09000000000000002, 0.16000000000000003, 0.25, 0.3600000000000001, 0.4900000000000001, 0.6400000000000001, 0.81, 1.0, 1.2100000000000002, 1.4400000000000004, 1.6900000000000002, 1.9600000000000004, 2.25, 2.5600000000000005, 2.8900000000000006, 3.24, 3.6100000000000003], \"colorscale\": [[0.0, \"#000004\"], [0.1111111111111111, \"#1b0c41\"], [0.2222222222222222, \"#4a0c6b\"], [0.3333333333333333, \"#781c6d\"], [0.4444444444444444, \"#a52c60\"], [0.5555555555555556, \"#cf4446\"], [0.6666666666666666, \"#ed6925\"], [0.7777777777777778, \"#fb9b06\"], [0.8888888888888888, \"#f7d13d\"], [1.0, \"#fcffa4\"]], \"size\": [50.0, 49.75020826390129, 49.00332889206208, 47.7668244562803, 46.05304970014426, 43.879128094518634, 41.26678074548391, 38.24210936422442, 34.83533546735827, 31.08049841353322, 27.01511529340699, 22.679806071278865, 18.117887723833668, 13.374941431229367, 8.49835714501204, 3.5368600833851453, 1.4599761150644408, 6.442224714776243, 11.360104734654355, 16.16447834317518]}, \"mode\": \"lines+markers\", \"name\": \"k(x)=cos(x)\", \"x\": [0.0, 0.1, 0.2, 0.30000000000000004, 0.4, 0.5, 0.6000000000000001, 0.7000000000000001, 0.8, 0.9, 1.0, 1.1, 1.2000000000000002, 1.3, 1.4000000000000001, 1.5, 1.6, 1.7000000000000002, 1.8, 1.9000000000000001], \"y\": [1.0, 0.9950041652780258, 0.9800665778412416, 0.955336489125606, 0.9210609940028851, 0.8775825618903728, 0.8253356149096782, 0.7648421872844884, 0.6967067093471654, 0.6216099682706644, 0.5403023058681398, 0.4535961214255773, 0.3623577544766734, 0.26749882862458735, 0.16996714290024081, 0.0707372016677029, -0.029199522301288815, -0.12884449429552486, -0.2272020946930871, -0.3232895668635036], \"type\": \"scatter\"}], \"name\": \"19\"}, {\"data\": [{\"marker\": {\"color\": [0.0, 0.010000000000000002, 0.04000000000000001, 0.09000000000000002, 0.16000000000000003, 0.25, 0.3600000000000001, 0.4900000000000001, 0.6400000000000001, 0.81, 1.0, 1.2100000000000002, 1.4400000000000004, 1.6900000000000002, 1.9600000000000004, 2.25, 2.5600000000000005, 2.8900000000000006, 3.24, 3.6100000000000003, 4.0], \"colorscale\": [[0.0, \"#000004\"], [0.1111111111111111, \"#1b0c41\"], [0.2222222222222222, \"#4a0c6b\"], [0.3333333333333333, \"#781c6d\"], [0.4444444444444444, \"#a52c60\"], [0.5555555555555556, \"#cf4446\"], [0.6666666666666666, \"#ed6925\"], [0.7777777777777778, \"#fb9b06\"], [0.8888888888888888, \"#f7d13d\"], [1.0, \"#fcffa4\"]], \"size\": [0.0, 4.991670832341407, 9.933466539753061, 14.77601033306698, 19.470917115432528, 23.971276930210152, 28.232123669751775, 32.21088436188456, 35.86780454497614, 39.16634548137417, 42.073549240394826, 44.56036800307177, 46.60195429836132, 48.17790927085965, 49.27248649942301, 49.874749330202725, 49.978680152075256, 49.58324052262343, 48.69238154390976, 47.315004384370724, 45.46487134128409]}, \"mode\": \"lines+markers\", \"name\": \"h(x)=sin(x)\", \"x\": [0.0, 0.1, 0.2, 0.30000000000000004, 0.4, 0.5, 0.6000000000000001, 0.7000000000000001, 0.8, 0.9, 1.0, 1.1, 1.2000000000000002, 1.3, 1.4000000000000001, 1.5, 1.6, 1.7000000000000002, 1.8, 1.9000000000000001, 2.0], \"y\": [0.0, 0.09983341664682815, 0.19866933079506122, 0.2955202066613396, 0.3894183423086505, 0.479425538604203, 0.5646424733950355, 0.6442176872376911, 0.7173560908995228, 0.7833269096274834, 0.8414709848078965, 0.8912073600614354, 0.9320390859672264, 0.963558185417193, 0.9854497299884603, 0.9974949866040544, 0.9995736030415051, 0.9916648104524686, 0.9738476308781951, 0.9463000876874145, 0.9092974268256817], \"type\": \"scatter\"}, {\"marker\": {\"color\": [0.0, 0.010000000000000002, 0.04000000000000001, 0.09000000000000002, 0.16000000000000003, 0.25, 0.3600000000000001, 0.4900000000000001, 0.6400000000000001, 0.81, 1.0, 1.2100000000000002, 1.4400000000000004, 1.6900000000000002, 1.9600000000000004, 2.25, 2.5600000000000005, 2.8900000000000006, 3.24, 3.6100000000000003, 4.0], \"colorscale\": [[0.0, \"#000004\"], [0.1111111111111111, \"#1b0c41\"], [0.2222222222222222, \"#4a0c6b\"], [0.3333333333333333, \"#781c6d\"], [0.4444444444444444, \"#a52c60\"], [0.5555555555555556, \"#cf4446\"], [0.6666666666666666, \"#ed6925\"], [0.7777777777777778, \"#fb9b06\"], [0.8888888888888888, \"#f7d13d\"], [1.0, \"#fcffa4\"]], \"size\": [50.0, 49.75020826390129, 49.00332889206208, 47.7668244562803, 46.05304970014426, 43.879128094518634, 41.26678074548391, 38.24210936422442, 34.83533546735827, 31.08049841353322, 27.01511529340699, 22.679806071278865, 18.117887723833668, 13.374941431229367, 8.49835714501204, 3.5368600833851453, 1.4599761150644408, 6.442224714776243, 11.360104734654355, 16.16447834317518, 20.80734182735712]}, \"mode\": \"lines+markers\", \"name\": \"k(x)=cos(x)\", \"x\": [0.0, 0.1, 0.2, 0.30000000000000004, 0.4, 0.5, 0.6000000000000001, 0.7000000000000001, 0.8, 0.9, 1.0, 1.1, 1.2000000000000002, 1.3, 1.4000000000000001, 1.5, 1.6, 1.7000000000000002, 1.8, 1.9000000000000001, 2.0], \"y\": [1.0, 0.9950041652780258, 0.9800665778412416, 0.955336489125606, 0.9210609940028851, 0.8775825618903728, 0.8253356149096782, 0.7648421872844884, 0.6967067093471654, 0.6216099682706644, 0.5403023058681398, 0.4535961214255773, 0.3623577544766734, 0.26749882862458735, 0.16996714290024081, 0.0707372016677029, -0.029199522301288815, -0.12884449429552486, -0.2272020946930871, -0.3232895668635036, -0.4161468365471424], \"type\": \"scatter\"}], \"name\": \"20\"}, {\"data\": [{\"marker\": {\"color\": [0.0, 0.010000000000000002, 0.04000000000000001, 0.09000000000000002, 0.16000000000000003, 0.25, 0.3600000000000001, 0.4900000000000001, 0.6400000000000001, 0.81, 1.0, 1.2100000000000002, 1.4400000000000004, 1.6900000000000002, 1.9600000000000004, 2.25, 2.5600000000000005, 2.8900000000000006, 3.24, 3.6100000000000003, 4.0, 4.41], \"colorscale\": [[0.0, \"#000004\"], [0.1111111111111111, \"#1b0c41\"], [0.2222222222222222, \"#4a0c6b\"], [0.3333333333333333, \"#781c6d\"], [0.4444444444444444, \"#a52c60\"], [0.5555555555555556, \"#cf4446\"], [0.6666666666666666, \"#ed6925\"], [0.7777777777777778, \"#fb9b06\"], [0.8888888888888888, \"#f7d13d\"], [1.0, \"#fcffa4\"]], \"size\": [0.0, 4.991670832341407, 9.933466539753061, 14.77601033306698, 19.470917115432528, 23.971276930210152, 28.232123669751775, 32.21088436188456, 35.86780454497614, 39.16634548137417, 42.073549240394826, 44.56036800307177, 46.60195429836132, 48.17790927085965, 49.27248649942301, 49.874749330202725, 49.978680152075256, 49.58324052262343, 48.69238154390976, 47.315004384370724, 45.46487134128409, 43.160468332443685]}, \"mode\": \"lines+markers\", \"name\": \"h(x)=sin(x)\", \"x\": [0.0, 0.1, 0.2, 0.30000000000000004, 0.4, 0.5, 0.6000000000000001, 0.7000000000000001, 0.8, 0.9, 1.0, 1.1, 1.2000000000000002, 1.3, 1.4000000000000001, 1.5, 1.6, 1.7000000000000002, 1.8, 1.9000000000000001, 2.0, 2.1], \"y\": [0.0, 0.09983341664682815, 0.19866933079506122, 0.2955202066613396, 0.3894183423086505, 0.479425538604203, 0.5646424733950355, 0.6442176872376911, 0.7173560908995228, 0.7833269096274834, 0.8414709848078965, 0.8912073600614354, 0.9320390859672264, 0.963558185417193, 0.9854497299884603, 0.9974949866040544, 0.9995736030415051, 0.9916648104524686, 0.9738476308781951, 0.9463000876874145, 0.9092974268256817, 0.8632093666488737], \"type\": \"scatter\"}, {\"marker\": {\"color\": [0.0, 0.010000000000000002, 0.04000000000000001, 0.09000000000000002, 0.16000000000000003, 0.25, 0.3600000000000001, 0.4900000000000001, 0.6400000000000001, 0.81, 1.0, 1.2100000000000002, 1.4400000000000004, 1.6900000000000002, 1.9600000000000004, 2.25, 2.5600000000000005, 2.8900000000000006, 3.24, 3.6100000000000003, 4.0, 4.41], \"colorscale\": [[0.0, \"#000004\"], [0.1111111111111111, \"#1b0c41\"], [0.2222222222222222, \"#4a0c6b\"], [0.3333333333333333, \"#781c6d\"], [0.4444444444444444, \"#a52c60\"], [0.5555555555555556, \"#cf4446\"], [0.6666666666666666, \"#ed6925\"], [0.7777777777777778, \"#fb9b06\"], [0.8888888888888888, \"#f7d13d\"], [1.0, \"#fcffa4\"]], \"size\": [50.0, 49.75020826390129, 49.00332889206208, 47.7668244562803, 46.05304970014426, 43.879128094518634, 41.26678074548391, 38.24210936422442, 34.83533546735827, 31.08049841353322, 27.01511529340699, 22.679806071278865, 18.117887723833668, 13.374941431229367, 8.49835714501204, 3.5368600833851453, 1.4599761150644408, 6.442224714776243, 11.360104734654355, 16.16447834317518, 20.80734182735712, 25.24230522999288]}, \"mode\": \"lines+markers\", \"name\": \"k(x)=cos(x)\", \"x\": [0.0, 0.1, 0.2, 0.30000000000000004, 0.4, 0.5, 0.6000000000000001, 0.7000000000000001, 0.8, 0.9, 1.0, 1.1, 1.2000000000000002, 1.3, 1.4000000000000001, 1.5, 1.6, 1.7000000000000002, 1.8, 1.9000000000000001, 2.0, 2.1], \"y\": [1.0, 0.9950041652780258, 0.9800665778412416, 0.955336489125606, 0.9210609940028851, 0.8775825618903728, 0.8253356149096782, 0.7648421872844884, 0.6967067093471654, 0.6216099682706644, 0.5403023058681398, 0.4535961214255773, 0.3623577544766734, 0.26749882862458735, 0.16996714290024081, 0.0707372016677029, -0.029199522301288815, -0.12884449429552486, -0.2272020946930871, -0.3232895668635036, -0.4161468365471424, -0.5048461045998576], \"type\": \"scatter\"}], \"name\": \"21\"}, {\"data\": [{\"marker\": {\"color\": [0.0, 0.010000000000000002, 0.04000000000000001, 0.09000000000000002, 0.16000000000000003, 0.25, 0.3600000000000001, 0.4900000000000001, 0.6400000000000001, 0.81, 1.0, 1.2100000000000002, 1.4400000000000004, 1.6900000000000002, 1.9600000000000004, 2.25, 2.5600000000000005, 2.8900000000000006, 3.24, 3.6100000000000003, 4.0, 4.41, 4.840000000000001], \"colorscale\": [[0.0, \"#000004\"], [0.1111111111111111, \"#1b0c41\"], [0.2222222222222222, \"#4a0c6b\"], [0.3333333333333333, \"#781c6d\"], [0.4444444444444444, \"#a52c60\"], [0.5555555555555556, \"#cf4446\"], [0.6666666666666666, \"#ed6925\"], [0.7777777777777778, \"#fb9b06\"], [0.8888888888888888, \"#f7d13d\"], [1.0, \"#fcffa4\"]], \"size\": [0.0, 4.991670832341407, 9.933466539753061, 14.77601033306698, 19.470917115432528, 23.971276930210152, 28.232123669751775, 32.21088436188456, 35.86780454497614, 39.16634548137417, 42.073549240394826, 44.56036800307177, 46.60195429836132, 48.17790927085965, 49.27248649942301, 49.874749330202725, 49.978680152075256, 49.58324052262343, 48.69238154390976, 47.315004384370724, 45.46487134128409, 43.160468332443685, 40.4248201909795]}, \"mode\": \"lines+markers\", \"name\": \"h(x)=sin(x)\", \"x\": [0.0, 0.1, 0.2, 0.30000000000000004, 0.4, 0.5, 0.6000000000000001, 0.7000000000000001, 0.8, 0.9, 1.0, 1.1, 1.2000000000000002, 1.3, 1.4000000000000001, 1.5, 1.6, 1.7000000000000002, 1.8, 1.9000000000000001, 2.0, 2.1, 2.2], \"y\": [0.0, 0.09983341664682815, 0.19866933079506122, 0.2955202066613396, 0.3894183423086505, 0.479425538604203, 0.5646424733950355, 0.6442176872376911, 0.7173560908995228, 0.7833269096274834, 0.8414709848078965, 0.8912073600614354, 0.9320390859672264, 0.963558185417193, 0.9854497299884603, 0.9974949866040544, 0.9995736030415051, 0.9916648104524686, 0.9738476308781951, 0.9463000876874145, 0.9092974268256817, 0.8632093666488737, 0.8084964038195901], \"type\": \"scatter\"}, {\"marker\": {\"color\": [0.0, 0.010000000000000002, 0.04000000000000001, 0.09000000000000002, 0.16000000000000003, 0.25, 0.3600000000000001, 0.4900000000000001, 0.6400000000000001, 0.81, 1.0, 1.2100000000000002, 1.4400000000000004, 1.6900000000000002, 1.9600000000000004, 2.25, 2.5600000000000005, 2.8900000000000006, 3.24, 3.6100000000000003, 4.0, 4.41, 4.840000000000001], \"colorscale\": [[0.0, \"#000004\"], [0.1111111111111111, \"#1b0c41\"], [0.2222222222222222, \"#4a0c6b\"], [0.3333333333333333, \"#781c6d\"], [0.4444444444444444, \"#a52c60\"], [0.5555555555555556, \"#cf4446\"], [0.6666666666666666, \"#ed6925\"], [0.7777777777777778, \"#fb9b06\"], [0.8888888888888888, \"#f7d13d\"], [1.0, \"#fcffa4\"]], \"size\": [50.0, 49.75020826390129, 49.00332889206208, 47.7668244562803, 46.05304970014426, 43.879128094518634, 41.26678074548391, 38.24210936422442, 34.83533546735827, 31.08049841353322, 27.01511529340699, 22.679806071278865, 18.117887723833668, 13.374941431229367, 8.49835714501204, 3.5368600833851453, 1.4599761150644408, 6.442224714776243, 11.360104734654355, 16.16447834317518, 20.80734182735712, 25.24230522999288, 29.42505586276729]}, \"mode\": \"lines+markers\", \"name\": \"k(x)=cos(x)\", \"x\": [0.0, 0.1, 0.2, 0.30000000000000004, 0.4, 0.5, 0.6000000000000001, 0.7000000000000001, 0.8, 0.9, 1.0, 1.1, 1.2000000000000002, 1.3, 1.4000000000000001, 1.5, 1.6, 1.7000000000000002, 1.8, 1.9000000000000001, 2.0, 2.1, 2.2], \"y\": [1.0, 0.9950041652780258, 0.9800665778412416, 0.955336489125606, 0.9210609940028851, 0.8775825618903728, 0.8253356149096782, 0.7648421872844884, 0.6967067093471654, 0.6216099682706644, 0.5403023058681398, 0.4535961214255773, 0.3623577544766734, 0.26749882862458735, 0.16996714290024081, 0.0707372016677029, -0.029199522301288815, -0.12884449429552486, -0.2272020946930871, -0.3232895668635036, -0.4161468365471424, -0.5048461045998576, -0.5885011172553458], \"type\": \"scatter\"}], \"name\": \"22\"}, {\"data\": [{\"marker\": {\"color\": [0.0, 0.010000000000000002, 0.04000000000000001, 0.09000000000000002, 0.16000000000000003, 0.25, 0.3600000000000001, 0.4900000000000001, 0.6400000000000001, 0.81, 1.0, 1.2100000000000002, 1.4400000000000004, 1.6900000000000002, 1.9600000000000004, 2.25, 2.5600000000000005, 2.8900000000000006, 3.24, 3.6100000000000003, 4.0, 4.41, 4.840000000000001, 5.290000000000001], \"colorscale\": [[0.0, \"#000004\"], [0.1111111111111111, \"#1b0c41\"], [0.2222222222222222, \"#4a0c6b\"], [0.3333333333333333, \"#781c6d\"], [0.4444444444444444, \"#a52c60\"], [0.5555555555555556, \"#cf4446\"], [0.6666666666666666, \"#ed6925\"], [0.7777777777777778, \"#fb9b06\"], [0.8888888888888888, \"#f7d13d\"], [1.0, \"#fcffa4\"]], \"size\": [0.0, 4.991670832341407, 9.933466539753061, 14.77601033306698, 19.470917115432528, 23.971276930210152, 28.232123669751775, 32.21088436188456, 35.86780454497614, 39.16634548137417, 42.073549240394826, 44.56036800307177, 46.60195429836132, 48.17790927085965, 49.27248649942301, 49.874749330202725, 49.978680152075256, 49.58324052262343, 48.69238154390976, 47.315004384370724, 45.46487134128409, 43.160468332443685, 40.4248201909795, 37.285260608836005]}, \"mode\": \"lines+markers\", \"name\": \"h(x)=sin(x)\", \"x\": [0.0, 0.1, 0.2, 0.30000000000000004, 0.4, 0.5, 0.6000000000000001, 0.7000000000000001, 0.8, 0.9, 1.0, 1.1, 1.2000000000000002, 1.3, 1.4000000000000001, 1.5, 1.6, 1.7000000000000002, 1.8, 1.9000000000000001, 2.0, 2.1, 2.2, 2.3000000000000003], \"y\": [0.0, 0.09983341664682815, 0.19866933079506122, 0.2955202066613396, 0.3894183423086505, 0.479425538604203, 0.5646424733950355, 0.6442176872376911, 0.7173560908995228, 0.7833269096274834, 0.8414709848078965, 0.8912073600614354, 0.9320390859672264, 0.963558185417193, 0.9854497299884603, 0.9974949866040544, 0.9995736030415051, 0.9916648104524686, 0.9738476308781951, 0.9463000876874145, 0.9092974268256817, 0.8632093666488737, 0.8084964038195901, 0.74570521217672], \"type\": \"scatter\"}, {\"marker\": {\"color\": [0.0, 0.010000000000000002, 0.04000000000000001, 0.09000000000000002, 0.16000000000000003, 0.25, 0.3600000000000001, 0.4900000000000001, 0.6400000000000001, 0.81, 1.0, 1.2100000000000002, 1.4400000000000004, 1.6900000000000002, 1.9600000000000004, 2.25, 2.5600000000000005, 2.8900000000000006, 3.24, 3.6100000000000003, 4.0, 4.41, 4.840000000000001, 5.290000000000001], \"colorscale\": [[0.0, \"#000004\"], [0.1111111111111111, \"#1b0c41\"], [0.2222222222222222, \"#4a0c6b\"], [0.3333333333333333, \"#781c6d\"], [0.4444444444444444, \"#a52c60\"], [0.5555555555555556, \"#cf4446\"], [0.6666666666666666, \"#ed6925\"], [0.7777777777777778, \"#fb9b06\"], [0.8888888888888888, \"#f7d13d\"], [1.0, \"#fcffa4\"]], \"size\": [50.0, 49.75020826390129, 49.00332889206208, 47.7668244562803, 46.05304970014426, 43.879128094518634, 41.26678074548391, 38.24210936422442, 34.83533546735827, 31.08049841353322, 27.01511529340699, 22.679806071278865, 18.117887723833668, 13.374941431229367, 8.49835714501204, 3.5368600833851453, 1.4599761150644408, 6.442224714776243, 11.360104734654355, 16.16447834317518, 20.80734182735712, 25.24230522999288, 29.42505586276729, 33.31380106399122]}, \"mode\": \"lines+markers\", \"name\": \"k(x)=cos(x)\", \"x\": [0.0, 0.1, 0.2, 0.30000000000000004, 0.4, 0.5, 0.6000000000000001, 0.7000000000000001, 0.8, 0.9, 1.0, 1.1, 1.2000000000000002, 1.3, 1.4000000000000001, 1.5, 1.6, 1.7000000000000002, 1.8, 1.9000000000000001, 2.0, 2.1, 2.2, 2.3000000000000003], \"y\": [1.0, 0.9950041652780258, 0.9800665778412416, 0.955336489125606, 0.9210609940028851, 0.8775825618903728, 0.8253356149096782, 0.7648421872844884, 0.6967067093471654, 0.6216099682706644, 0.5403023058681398, 0.4535961214255773, 0.3623577544766734, 0.26749882862458735, 0.16996714290024081, 0.0707372016677029, -0.029199522301288815, -0.12884449429552486, -0.2272020946930871, -0.3232895668635036, -0.4161468365471424, -0.5048461045998576, -0.5885011172553458, -0.6662760212798244], \"type\": \"scatter\"}], \"name\": \"23\"}, {\"data\": [{\"marker\": {\"color\": [0.0, 0.010000000000000002, 0.04000000000000001, 0.09000000000000002, 0.16000000000000003, 0.25, 0.3600000000000001, 0.4900000000000001, 0.6400000000000001, 0.81, 1.0, 1.2100000000000002, 1.4400000000000004, 1.6900000000000002, 1.9600000000000004, 2.25, 2.5600000000000005, 2.8900000000000006, 3.24, 3.6100000000000003, 4.0, 4.41, 4.840000000000001, 5.290000000000001, 5.760000000000002], \"colorscale\": [[0.0, \"#000004\"], [0.1111111111111111, \"#1b0c41\"], [0.2222222222222222, \"#4a0c6b\"], [0.3333333333333333, \"#781c6d\"], [0.4444444444444444, \"#a52c60\"], [0.5555555555555556, \"#cf4446\"], [0.6666666666666666, \"#ed6925\"], [0.7777777777777778, \"#fb9b06\"], [0.8888888888888888, \"#f7d13d\"], [1.0, \"#fcffa4\"]], \"size\": [0.0, 4.991670832341407, 9.933466539753061, 14.77601033306698, 19.470917115432528, 23.971276930210152, 28.232123669751775, 32.21088436188456, 35.86780454497614, 39.16634548137417, 42.073549240394826, 44.56036800307177, 46.60195429836132, 48.17790927085965, 49.27248649942301, 49.874749330202725, 49.978680152075256, 49.58324052262343, 48.69238154390976, 47.315004384370724, 45.46487134128409, 43.160468332443685, 40.4248201909795, 37.285260608836005, 33.77315902755753]}, \"mode\": \"lines+markers\", \"name\": \"h(x)=sin(x)\", \"x\": [0.0, 0.1, 0.2, 0.30000000000000004, 0.4, 0.5, 0.6000000000000001, 0.7000000000000001, 0.8, 0.9, 1.0, 1.1, 1.2000000000000002, 1.3, 1.4000000000000001, 1.5, 1.6, 1.7000000000000002, 1.8, 1.9000000000000001, 2.0, 2.1, 2.2, 2.3000000000000003, 2.4000000000000004], \"y\": [0.0, 0.09983341664682815, 0.19866933079506122, 0.2955202066613396, 0.3894183423086505, 0.479425538604203, 0.5646424733950355, 0.6442176872376911, 0.7173560908995228, 0.7833269096274834, 0.8414709848078965, 0.8912073600614354, 0.9320390859672264, 0.963558185417193, 0.9854497299884603, 0.9974949866040544, 0.9995736030415051, 0.9916648104524686, 0.9738476308781951, 0.9463000876874145, 0.9092974268256817, 0.8632093666488737, 0.8084964038195901, 0.74570521217672, 0.6754631805511506], \"type\": \"scatter\"}, {\"marker\": {\"color\": [0.0, 0.010000000000000002, 0.04000000000000001, 0.09000000000000002, 0.16000000000000003, 0.25, 0.3600000000000001, 0.4900000000000001, 0.6400000000000001, 0.81, 1.0, 1.2100000000000002, 1.4400000000000004, 1.6900000000000002, 1.9600000000000004, 2.25, 2.5600000000000005, 2.8900000000000006, 3.24, 3.6100000000000003, 4.0, 4.41, 4.840000000000001, 5.290000000000001, 5.760000000000002], \"colorscale\": [[0.0, \"#000004\"], [0.1111111111111111, \"#1b0c41\"], [0.2222222222222222, \"#4a0c6b\"], [0.3333333333333333, \"#781c6d\"], [0.4444444444444444, \"#a52c60\"], [0.5555555555555556, \"#cf4446\"], [0.6666666666666666, \"#ed6925\"], [0.7777777777777778, \"#fb9b06\"], [0.8888888888888888, \"#f7d13d\"], [1.0, \"#fcffa4\"]], \"size\": [50.0, 49.75020826390129, 49.00332889206208, 47.7668244562803, 46.05304970014426, 43.879128094518634, 41.26678074548391, 38.24210936422442, 34.83533546735827, 31.08049841353322, 27.01511529340699, 22.679806071278865, 18.117887723833668, 13.374941431229367, 8.49835714501204, 3.5368600833851453, 1.4599761150644408, 6.442224714776243, 11.360104734654355, 16.16447834317518, 20.80734182735712, 25.24230522999288, 29.42505586276729, 33.31380106399122, 36.86968577706229]}, \"mode\": \"lines+markers\", \"name\": \"k(x)=cos(x)\", \"x\": [0.0, 0.1, 0.2, 0.30000000000000004, 0.4, 0.5, 0.6000000000000001, 0.7000000000000001, 0.8, 0.9, 1.0, 1.1, 1.2000000000000002, 1.3, 1.4000000000000001, 1.5, 1.6, 1.7000000000000002, 1.8, 1.9000000000000001, 2.0, 2.1, 2.2, 2.3000000000000003, 2.4000000000000004], \"y\": [1.0, 0.9950041652780258, 0.9800665778412416, 0.955336489125606, 0.9210609940028851, 0.8775825618903728, 0.8253356149096782, 0.7648421872844884, 0.6967067093471654, 0.6216099682706644, 0.5403023058681398, 0.4535961214255773, 0.3623577544766734, 0.26749882862458735, 0.16996714290024081, 0.0707372016677029, -0.029199522301288815, -0.12884449429552486, -0.2272020946930871, -0.3232895668635036, -0.4161468365471424, -0.5048461045998576, -0.5885011172553458, -0.6662760212798244, -0.7373937155412458], \"type\": \"scatter\"}], \"name\": \"24\"}, {\"data\": [{\"marker\": {\"color\": [0.0, 0.010000000000000002, 0.04000000000000001, 0.09000000000000002, 0.16000000000000003, 0.25, 0.3600000000000001, 0.4900000000000001, 0.6400000000000001, 0.81, 1.0, 1.2100000000000002, 1.4400000000000004, 1.6900000000000002, 1.9600000000000004, 2.25, 2.5600000000000005, 2.8900000000000006, 3.24, 3.6100000000000003, 4.0, 4.41, 4.840000000000001, 5.290000000000001, 5.760000000000002, 6.25], \"colorscale\": [[0.0, \"#000004\"], [0.1111111111111111, \"#1b0c41\"], [0.2222222222222222, \"#4a0c6b\"], [0.3333333333333333, \"#781c6d\"], [0.4444444444444444, \"#a52c60\"], [0.5555555555555556, \"#cf4446\"], [0.6666666666666666, \"#ed6925\"], [0.7777777777777778, \"#fb9b06\"], [0.8888888888888888, \"#f7d13d\"], [1.0, \"#fcffa4\"]], \"size\": [0.0, 4.991670832341407, 9.933466539753061, 14.77601033306698, 19.470917115432528, 23.971276930210152, 28.232123669751775, 32.21088436188456, 35.86780454497614, 39.16634548137417, 42.073549240394826, 44.56036800307177, 46.60195429836132, 48.17790927085965, 49.27248649942301, 49.874749330202725, 49.978680152075256, 49.58324052262343, 48.69238154390976, 47.315004384370724, 45.46487134128409, 43.160468332443685, 40.4248201909795, 37.285260608836005, 33.77315902755753, 29.923607205197822]}, \"mode\": \"lines+markers\", \"name\": \"h(x)=sin(x)\", \"x\": [0.0, 0.1, 0.2, 0.30000000000000004, 0.4, 0.5, 0.6000000000000001, 0.7000000000000001, 0.8, 0.9, 1.0, 1.1, 1.2000000000000002, 1.3, 1.4000000000000001, 1.5, 1.6, 1.7000000000000002, 1.8, 1.9000000000000001, 2.0, 2.1, 2.2, 2.3000000000000003, 2.4000000000000004, 2.5], \"y\": [0.0, 0.09983341664682815, 0.19866933079506122, 0.2955202066613396, 0.3894183423086505, 0.479425538604203, 0.5646424733950355, 0.6442176872376911, 0.7173560908995228, 0.7833269096274834, 0.8414709848078965, 0.8912073600614354, 0.9320390859672264, 0.963558185417193, 0.9854497299884603, 0.9974949866040544, 0.9995736030415051, 0.9916648104524686, 0.9738476308781951, 0.9463000876874145, 0.9092974268256817, 0.8632093666488737, 0.8084964038195901, 0.74570521217672, 0.6754631805511506, 0.5984721441039564], \"type\": \"scatter\"}, {\"marker\": {\"color\": [0.0, 0.010000000000000002, 0.04000000000000001, 0.09000000000000002, 0.16000000000000003, 0.25, 0.3600000000000001, 0.4900000000000001, 0.6400000000000001, 0.81, 1.0, 1.2100000000000002, 1.4400000000000004, 1.6900000000000002, 1.9600000000000004, 2.25, 2.5600000000000005, 2.8900000000000006, 3.24, 3.6100000000000003, 4.0, 4.41, 4.840000000000001, 5.290000000000001, 5.760000000000002, 6.25], \"colorscale\": [[0.0, \"#000004\"], [0.1111111111111111, \"#1b0c41\"], [0.2222222222222222, \"#4a0c6b\"], [0.3333333333333333, \"#781c6d\"], [0.4444444444444444, \"#a52c60\"], [0.5555555555555556, \"#cf4446\"], [0.6666666666666666, \"#ed6925\"], [0.7777777777777778, \"#fb9b06\"], [0.8888888888888888, \"#f7d13d\"], [1.0, \"#fcffa4\"]], \"size\": [50.0, 49.75020826390129, 49.00332889206208, 47.7668244562803, 46.05304970014426, 43.879128094518634, 41.26678074548391, 38.24210936422442, 34.83533546735827, 31.08049841353322, 27.01511529340699, 22.679806071278865, 18.117887723833668, 13.374941431229367, 8.49835714501204, 3.5368600833851453, 1.4599761150644408, 6.442224714776243, 11.360104734654355, 16.16447834317518, 20.80734182735712, 25.24230522999288, 29.42505586276729, 33.31380106399122, 36.86968577706229, 40.05718077734669]}, \"mode\": \"lines+markers\", \"name\": \"k(x)=cos(x)\", \"x\": [0.0, 0.1, 0.2, 0.30000000000000004, 0.4, 0.5, 0.6000000000000001, 0.7000000000000001, 0.8, 0.9, 1.0, 1.1, 1.2000000000000002, 1.3, 1.4000000000000001, 1.5, 1.6, 1.7000000000000002, 1.8, 1.9000000000000001, 2.0, 2.1, 2.2, 2.3000000000000003, 2.4000000000000004, 2.5], \"y\": [1.0, 0.9950041652780258, 0.9800665778412416, 0.955336489125606, 0.9210609940028851, 0.8775825618903728, 0.8253356149096782, 0.7648421872844884, 0.6967067093471654, 0.6216099682706644, 0.5403023058681398, 0.4535961214255773, 0.3623577544766734, 0.26749882862458735, 0.16996714290024081, 0.0707372016677029, -0.029199522301288815, -0.12884449429552486, -0.2272020946930871, -0.3232895668635036, -0.4161468365471424, -0.5048461045998576, -0.5885011172553458, -0.6662760212798244, -0.7373937155412458, -0.8011436155469337], \"type\": \"scatter\"}], \"name\": \"25\"}, {\"data\": [{\"marker\": {\"color\": [0.0, 0.010000000000000002, 0.04000000000000001, 0.09000000000000002, 0.16000000000000003, 0.25, 0.3600000000000001, 0.4900000000000001, 0.6400000000000001, 0.81, 1.0, 1.2100000000000002, 1.4400000000000004, 1.6900000000000002, 1.9600000000000004, 2.25, 2.5600000000000005, 2.8900000000000006, 3.24, 3.6100000000000003, 4.0, 4.41, 4.840000000000001, 5.290000000000001, 5.760000000000002, 6.25, 6.760000000000001], \"colorscale\": [[0.0, \"#000004\"], [0.1111111111111111, \"#1b0c41\"], [0.2222222222222222, \"#4a0c6b\"], [0.3333333333333333, \"#781c6d\"], [0.4444444444444444, \"#a52c60\"], [0.5555555555555556, \"#cf4446\"], [0.6666666666666666, \"#ed6925\"], [0.7777777777777778, \"#fb9b06\"], [0.8888888888888888, \"#f7d13d\"], [1.0, \"#fcffa4\"]], \"size\": [0.0, 4.991670832341407, 9.933466539753061, 14.77601033306698, 19.470917115432528, 23.971276930210152, 28.232123669751775, 32.21088436188456, 35.86780454497614, 39.16634548137417, 42.073549240394826, 44.56036800307177, 46.60195429836132, 48.17790927085965, 49.27248649942301, 49.874749330202725, 49.978680152075256, 49.58324052262343, 48.69238154390976, 47.315004384370724, 45.46487134128409, 43.160468332443685, 40.4248201909795, 37.285260608836005, 33.77315902755753, 29.923607205197822, 25.775068591073207]}, \"mode\": \"lines+markers\", \"name\": \"h(x)=sin(x)\", \"x\": [0.0, 0.1, 0.2, 0.30000000000000004, 0.4, 0.5, 0.6000000000000001, 0.7000000000000001, 0.8, 0.9, 1.0, 1.1, 1.2000000000000002, 1.3, 1.4000000000000001, 1.5, 1.6, 1.7000000000000002, 1.8, 1.9000000000000001, 2.0, 2.1, 2.2, 2.3000000000000003, 2.4000000000000004, 2.5, 2.6], \"y\": [0.0, 0.09983341664682815, 0.19866933079506122, 0.2955202066613396, 0.3894183423086505, 0.479425538604203, 0.5646424733950355, 0.6442176872376911, 0.7173560908995228, 0.7833269096274834, 0.8414709848078965, 0.8912073600614354, 0.9320390859672264, 0.963558185417193, 0.9854497299884603, 0.9974949866040544, 0.9995736030415051, 0.9916648104524686, 0.9738476308781951, 0.9463000876874145, 0.9092974268256817, 0.8632093666488737, 0.8084964038195901, 0.74570521217672, 0.6754631805511506, 0.5984721441039564, 0.5155013718214642], \"type\": \"scatter\"}, {\"marker\": {\"color\": [0.0, 0.010000000000000002, 0.04000000000000001, 0.09000000000000002, 0.16000000000000003, 0.25, 0.3600000000000001, 0.4900000000000001, 0.6400000000000001, 0.81, 1.0, 1.2100000000000002, 1.4400000000000004, 1.6900000000000002, 1.9600000000000004, 2.25, 2.5600000000000005, 2.8900000000000006, 3.24, 3.6100000000000003, 4.0, 4.41, 4.840000000000001, 5.290000000000001, 5.760000000000002, 6.25, 6.760000000000001], \"colorscale\": [[0.0, \"#000004\"], [0.1111111111111111, \"#1b0c41\"], [0.2222222222222222, \"#4a0c6b\"], [0.3333333333333333, \"#781c6d\"], [0.4444444444444444, \"#a52c60\"], [0.5555555555555556, \"#cf4446\"], [0.6666666666666666, \"#ed6925\"], [0.7777777777777778, \"#fb9b06\"], [0.8888888888888888, \"#f7d13d\"], [1.0, \"#fcffa4\"]], \"size\": [50.0, 49.75020826390129, 49.00332889206208, 47.7668244562803, 46.05304970014426, 43.879128094518634, 41.26678074548391, 38.24210936422442, 34.83533546735827, 31.08049841353322, 27.01511529340699, 22.679806071278865, 18.117887723833668, 13.374941431229367, 8.49835714501204, 3.5368600833851453, 1.4599761150644408, 6.442224714776243, 11.360104734654355, 16.16447834317518, 20.80734182735712, 25.24230522999288, 29.42505586276729, 33.31380106399122, 36.86968577706229, 40.05718077734669, 42.84443766844737]}, \"mode\": \"lines+markers\", \"name\": \"k(x)=cos(x)\", \"x\": [0.0, 0.1, 0.2, 0.30000000000000004, 0.4, 0.5, 0.6000000000000001, 0.7000000000000001, 0.8, 0.9, 1.0, 1.1, 1.2000000000000002, 1.3, 1.4000000000000001, 1.5, 1.6, 1.7000000000000002, 1.8, 1.9000000000000001, 2.0, 2.1, 2.2, 2.3000000000000003, 2.4000000000000004, 2.5, 2.6], \"y\": [1.0, 0.9950041652780258, 0.9800665778412416, 0.955336489125606, 0.9210609940028851, 0.8775825618903728, 0.8253356149096782, 0.7648421872844884, 0.6967067093471654, 0.6216099682706644, 0.5403023058681398, 0.4535961214255773, 0.3623577544766734, 0.26749882862458735, 0.16996714290024081, 0.0707372016677029, -0.029199522301288815, -0.12884449429552486, -0.2272020946930871, -0.3232895668635036, -0.4161468365471424, -0.5048461045998576, -0.5885011172553458, -0.6662760212798244, -0.7373937155412458, -0.8011436155469337, -0.8568887533689473], \"type\": \"scatter\"}], \"name\": \"26\"}, {\"data\": [{\"marker\": {\"color\": [0.0, 0.010000000000000002, 0.04000000000000001, 0.09000000000000002, 0.16000000000000003, 0.25, 0.3600000000000001, 0.4900000000000001, 0.6400000000000001, 0.81, 1.0, 1.2100000000000002, 1.4400000000000004, 1.6900000000000002, 1.9600000000000004, 2.25, 2.5600000000000005, 2.8900000000000006, 3.24, 3.6100000000000003, 4.0, 4.41, 4.840000000000001, 5.290000000000001, 5.760000000000002, 6.25, 6.760000000000001, 7.290000000000001], \"colorscale\": [[0.0, \"#000004\"], [0.1111111111111111, \"#1b0c41\"], [0.2222222222222222, \"#4a0c6b\"], [0.3333333333333333, \"#781c6d\"], [0.4444444444444444, \"#a52c60\"], [0.5555555555555556, \"#cf4446\"], [0.6666666666666666, \"#ed6925\"], [0.7777777777777778, \"#fb9b06\"], [0.8888888888888888, \"#f7d13d\"], [1.0, \"#fcffa4\"]], \"size\": [0.0, 4.991670832341407, 9.933466539753061, 14.77601033306698, 19.470917115432528, 23.971276930210152, 28.232123669751775, 32.21088436188456, 35.86780454497614, 39.16634548137417, 42.073549240394826, 44.56036800307177, 46.60195429836132, 48.17790927085965, 49.27248649942301, 49.874749330202725, 49.978680152075256, 49.58324052262343, 48.69238154390976, 47.315004384370724, 45.46487134128409, 43.160468332443685, 40.4248201909795, 37.285260608836005, 33.77315902755753, 29.923607205197822, 25.775068591073207, 21.368994011691488]}, \"mode\": \"lines+markers\", \"name\": \"h(x)=sin(x)\", \"x\": [0.0, 0.1, 0.2, 0.30000000000000004, 0.4, 0.5, 0.6000000000000001, 0.7000000000000001, 0.8, 0.9, 1.0, 1.1, 1.2000000000000002, 1.3, 1.4000000000000001, 1.5, 1.6, 1.7000000000000002, 1.8, 1.9000000000000001, 2.0, 2.1, 2.2, 2.3000000000000003, 2.4000000000000004, 2.5, 2.6, 2.7], \"y\": [0.0, 0.09983341664682815, 0.19866933079506122, 0.2955202066613396, 0.3894183423086505, 0.479425538604203, 0.5646424733950355, 0.6442176872376911, 0.7173560908995228, 0.7833269096274834, 0.8414709848078965, 0.8912073600614354, 0.9320390859672264, 0.963558185417193, 0.9854497299884603, 0.9974949866040544, 0.9995736030415051, 0.9916648104524686, 0.9738476308781951, 0.9463000876874145, 0.9092974268256817, 0.8632093666488737, 0.8084964038195901, 0.74570521217672, 0.6754631805511506, 0.5984721441039564, 0.5155013718214642, 0.4273798802338298], \"type\": \"scatter\"}, {\"marker\": {\"color\": [0.0, 0.010000000000000002, 0.04000000000000001, 0.09000000000000002, 0.16000000000000003, 0.25, 0.3600000000000001, 0.4900000000000001, 0.6400000000000001, 0.81, 1.0, 1.2100000000000002, 1.4400000000000004, 1.6900000000000002, 1.9600000000000004, 2.25, 2.5600000000000005, 2.8900000000000006, 3.24, 3.6100000000000003, 4.0, 4.41, 4.840000000000001, 5.290000000000001, 5.760000000000002, 6.25, 6.760000000000001, 7.290000000000001], \"colorscale\": [[0.0, \"#000004\"], [0.1111111111111111, \"#1b0c41\"], [0.2222222222222222, \"#4a0c6b\"], [0.3333333333333333, \"#781c6d\"], [0.4444444444444444, \"#a52c60\"], [0.5555555555555556, \"#cf4446\"], [0.6666666666666666, \"#ed6925\"], [0.7777777777777778, \"#fb9b06\"], [0.8888888888888888, \"#f7d13d\"], [1.0, \"#fcffa4\"]], \"size\": [50.0, 49.75020826390129, 49.00332889206208, 47.7668244562803, 46.05304970014426, 43.879128094518634, 41.26678074548391, 38.24210936422442, 34.83533546735827, 31.08049841353322, 27.01511529340699, 22.679806071278865, 18.117887723833668, 13.374941431229367, 8.49835714501204, 3.5368600833851453, 1.4599761150644408, 6.442224714776243, 11.360104734654355, 16.16447834317518, 20.80734182735712, 25.24230522999288, 29.42505586276729, 33.31380106399122, 36.86968577706229, 40.05718077734669, 42.84443766844737, 45.20360710085306]}, \"mode\": \"lines+markers\", \"name\": \"k(x)=cos(x)\", \"x\": [0.0, 0.1, 0.2, 0.30000000000000004, 0.4, 0.5, 0.6000000000000001, 0.7000000000000001, 0.8, 0.9, 1.0, 1.1, 1.2000000000000002, 1.3, 1.4000000000000001, 1.5, 1.6, 1.7000000000000002, 1.8, 1.9000000000000001, 2.0, 2.1, 2.2, 2.3000000000000003, 2.4000000000000004, 2.5, 2.6, 2.7], \"y\": [1.0, 0.9950041652780258, 0.9800665778412416, 0.955336489125606, 0.9210609940028851, 0.8775825618903728, 0.8253356149096782, 0.7648421872844884, 0.6967067093471654, 0.6216099682706644, 0.5403023058681398, 0.4535961214255773, 0.3623577544766734, 0.26749882862458735, 0.16996714290024081, 0.0707372016677029, -0.029199522301288815, -0.12884449429552486, -0.2272020946930871, -0.3232895668635036, -0.4161468365471424, -0.5048461045998576, -0.5885011172553458, -0.6662760212798244, -0.7373937155412458, -0.8011436155469337, -0.8568887533689473, -0.9040721420170612], \"type\": \"scatter\"}], \"name\": \"27\"}, {\"data\": [{\"marker\": {\"color\": [0.0, 0.010000000000000002, 0.04000000000000001, 0.09000000000000002, 0.16000000000000003, 0.25, 0.3600000000000001, 0.4900000000000001, 0.6400000000000001, 0.81, 1.0, 1.2100000000000002, 1.4400000000000004, 1.6900000000000002, 1.9600000000000004, 2.25, 2.5600000000000005, 2.8900000000000006, 3.24, 3.6100000000000003, 4.0, 4.41, 4.840000000000001, 5.290000000000001, 5.760000000000002, 6.25, 6.760000000000001, 7.290000000000001, 7.840000000000002], \"colorscale\": [[0.0, \"#000004\"], [0.1111111111111111, \"#1b0c41\"], [0.2222222222222222, \"#4a0c6b\"], [0.3333333333333333, \"#781c6d\"], [0.4444444444444444, \"#a52c60\"], [0.5555555555555556, \"#cf4446\"], [0.6666666666666666, \"#ed6925\"], [0.7777777777777778, \"#fb9b06\"], [0.8888888888888888, \"#f7d13d\"], [1.0, \"#fcffa4\"]], \"size\": [0.0, 4.991670832341407, 9.933466539753061, 14.77601033306698, 19.470917115432528, 23.971276930210152, 28.232123669751775, 32.21088436188456, 35.86780454497614, 39.16634548137417, 42.073549240394826, 44.56036800307177, 46.60195429836132, 48.17790927085965, 49.27248649942301, 49.874749330202725, 49.978680152075256, 49.58324052262343, 48.69238154390976, 47.315004384370724, 45.46487134128409, 43.160468332443685, 40.4248201909795, 37.285260608836005, 33.77315902755753, 29.923607205197822, 25.775068591073207, 21.368994011691488, 16.749407507795233]}, \"mode\": \"lines+markers\", \"name\": \"h(x)=sin(x)\", \"x\": [0.0, 0.1, 0.2, 0.30000000000000004, 0.4, 0.5, 0.6000000000000001, 0.7000000000000001, 0.8, 0.9, 1.0, 1.1, 1.2000000000000002, 1.3, 1.4000000000000001, 1.5, 1.6, 1.7000000000000002, 1.8, 1.9000000000000001, 2.0, 2.1, 2.2, 2.3000000000000003, 2.4000000000000004, 2.5, 2.6, 2.7, 2.8000000000000003], \"y\": [0.0, 0.09983341664682815, 0.19866933079506122, 0.2955202066613396, 0.3894183423086505, 0.479425538604203, 0.5646424733950355, 0.6442176872376911, 0.7173560908995228, 0.7833269096274834, 0.8414709848078965, 0.8912073600614354, 0.9320390859672264, 0.963558185417193, 0.9854497299884603, 0.9974949866040544, 0.9995736030415051, 0.9916648104524686, 0.9738476308781951, 0.9463000876874145, 0.9092974268256817, 0.8632093666488737, 0.8084964038195901, 0.74570521217672, 0.6754631805511506, 0.5984721441039564, 0.5155013718214642, 0.4273798802338298, 0.33498815015590466], \"type\": \"scatter\"}, {\"marker\": {\"color\": [0.0, 0.010000000000000002, 0.04000000000000001, 0.09000000000000002, 0.16000000000000003, 0.25, 0.3600000000000001, 0.4900000000000001, 0.6400000000000001, 0.81, 1.0, 1.2100000000000002, 1.4400000000000004, 1.6900000000000002, 1.9600000000000004, 2.25, 2.5600000000000005, 2.8900000000000006, 3.24, 3.6100000000000003, 4.0, 4.41, 4.840000000000001, 5.290000000000001, 5.760000000000002, 6.25, 6.760000000000001, 7.290000000000001, 7.840000000000002], \"colorscale\": [[0.0, \"#000004\"], [0.1111111111111111, \"#1b0c41\"], [0.2222222222222222, \"#4a0c6b\"], [0.3333333333333333, \"#781c6d\"], [0.4444444444444444, \"#a52c60\"], [0.5555555555555556, \"#cf4446\"], [0.6666666666666666, \"#ed6925\"], [0.7777777777777778, \"#fb9b06\"], [0.8888888888888888, \"#f7d13d\"], [1.0, \"#fcffa4\"]], \"size\": [50.0, 49.75020826390129, 49.00332889206208, 47.7668244562803, 46.05304970014426, 43.879128094518634, 41.26678074548391, 38.24210936422442, 34.83533546735827, 31.08049841353322, 27.01511529340699, 22.679806071278865, 18.117887723833668, 13.374941431229367, 8.49835714501204, 3.5368600833851453, 1.4599761150644408, 6.442224714776243, 11.360104734654355, 16.16447834317518, 20.80734182735712, 25.24230522999288, 29.42505586276729, 33.31380106399122, 36.86968577706229, 40.05718077734669, 42.84443766844737, 45.20360710085306, 47.11111703343291]}, \"mode\": \"lines+markers\", \"name\": \"k(x)=cos(x)\", \"x\": [0.0, 0.1, 0.2, 0.30000000000000004, 0.4, 0.5, 0.6000000000000001, 0.7000000000000001, 0.8, 0.9, 1.0, 1.1, 1.2000000000000002, 1.3, 1.4000000000000001, 1.5, 1.6, 1.7000000000000002, 1.8, 1.9000000000000001, 2.0, 2.1, 2.2, 2.3000000000000003, 2.4000000000000004, 2.5, 2.6, 2.7, 2.8000000000000003], \"y\": [1.0, 0.9950041652780258, 0.9800665778412416, 0.955336489125606, 0.9210609940028851, 0.8775825618903728, 0.8253356149096782, 0.7648421872844884, 0.6967067093471654, 0.6216099682706644, 0.5403023058681398, 0.4535961214255773, 0.3623577544766734, 0.26749882862458735, 0.16996714290024081, 0.0707372016677029, -0.029199522301288815, -0.12884449429552486, -0.2272020946930871, -0.3232895668635036, -0.4161468365471424, -0.5048461045998576, -0.5885011172553458, -0.6662760212798244, -0.7373937155412458, -0.8011436155469337, -0.8568887533689473, -0.9040721420170612, -0.9422223406686583], \"type\": \"scatter\"}], \"name\": \"28\"}, {\"data\": [{\"marker\": {\"color\": [0.0, 0.010000000000000002, 0.04000000000000001, 0.09000000000000002, 0.16000000000000003, 0.25, 0.3600000000000001, 0.4900000000000001, 0.6400000000000001, 0.81, 1.0, 1.2100000000000002, 1.4400000000000004, 1.6900000000000002, 1.9600000000000004, 2.25, 2.5600000000000005, 2.8900000000000006, 3.24, 3.6100000000000003, 4.0, 4.41, 4.840000000000001, 5.290000000000001, 5.760000000000002, 6.25, 6.760000000000001, 7.290000000000001, 7.840000000000002, 8.410000000000002], \"colorscale\": [[0.0, \"#000004\"], [0.1111111111111111, \"#1b0c41\"], [0.2222222222222222, \"#4a0c6b\"], [0.3333333333333333, \"#781c6d\"], [0.4444444444444444, \"#a52c60\"], [0.5555555555555556, \"#cf4446\"], [0.6666666666666666, \"#ed6925\"], [0.7777777777777778, \"#fb9b06\"], [0.8888888888888888, \"#f7d13d\"], [1.0, \"#fcffa4\"]], \"size\": [0.0, 4.991670832341407, 9.933466539753061, 14.77601033306698, 19.470917115432528, 23.971276930210152, 28.232123669751775, 32.21088436188456, 35.86780454497614, 39.16634548137417, 42.073549240394826, 44.56036800307177, 46.60195429836132, 48.17790927085965, 49.27248649942301, 49.874749330202725, 49.978680152075256, 49.58324052262343, 48.69238154390976, 47.315004384370724, 45.46487134128409, 43.160468332443685, 40.4248201909795, 37.285260608836005, 33.77315902755753, 29.923607205197822, 25.775068591073207, 21.368994011691488, 16.749407507795233, 11.9624664606991]}, \"mode\": \"lines+markers\", \"name\": \"h(x)=sin(x)\", \"x\": [0.0, 0.1, 0.2, 0.30000000000000004, 0.4, 0.5, 0.6000000000000001, 0.7000000000000001, 0.8, 0.9, 1.0, 1.1, 1.2000000000000002, 1.3, 1.4000000000000001, 1.5, 1.6, 1.7000000000000002, 1.8, 1.9000000000000001, 2.0, 2.1, 2.2, 2.3000000000000003, 2.4000000000000004, 2.5, 2.6, 2.7, 2.8000000000000003, 2.9000000000000004], \"y\": [0.0, 0.09983341664682815, 0.19866933079506122, 0.2955202066613396, 0.3894183423086505, 0.479425538604203, 0.5646424733950355, 0.6442176872376911, 0.7173560908995228, 0.7833269096274834, 0.8414709848078965, 0.8912073600614354, 0.9320390859672264, 0.963558185417193, 0.9854497299884603, 0.9974949866040544, 0.9995736030415051, 0.9916648104524686, 0.9738476308781951, 0.9463000876874145, 0.9092974268256817, 0.8632093666488737, 0.8084964038195901, 0.74570521217672, 0.6754631805511506, 0.5984721441039564, 0.5155013718214642, 0.4273798802338298, 0.33498815015590466, 0.23924932921398198], \"type\": \"scatter\"}, {\"marker\": {\"color\": [0.0, 0.010000000000000002, 0.04000000000000001, 0.09000000000000002, 0.16000000000000003, 0.25, 0.3600000000000001, 0.4900000000000001, 0.6400000000000001, 0.81, 1.0, 1.2100000000000002, 1.4400000000000004, 1.6900000000000002, 1.9600000000000004, 2.25, 2.5600000000000005, 2.8900000000000006, 3.24, 3.6100000000000003, 4.0, 4.41, 4.840000000000001, 5.290000000000001, 5.760000000000002, 6.25, 6.760000000000001, 7.290000000000001, 7.840000000000002, 8.410000000000002], \"colorscale\": [[0.0, \"#000004\"], [0.1111111111111111, \"#1b0c41\"], [0.2222222222222222, \"#4a0c6b\"], [0.3333333333333333, \"#781c6d\"], [0.4444444444444444, \"#a52c60\"], [0.5555555555555556, \"#cf4446\"], [0.6666666666666666, \"#ed6925\"], [0.7777777777777778, \"#fb9b06\"], [0.8888888888888888, \"#f7d13d\"], [1.0, \"#fcffa4\"]], \"size\": [50.0, 49.75020826390129, 49.00332889206208, 47.7668244562803, 46.05304970014426, 43.879128094518634, 41.26678074548391, 38.24210936422442, 34.83533546735827, 31.08049841353322, 27.01511529340699, 22.679806071278865, 18.117887723833668, 13.374941431229367, 8.49835714501204, 3.5368600833851453, 1.4599761150644408, 6.442224714776243, 11.360104734654355, 16.16447834317518, 20.80734182735712, 25.24230522999288, 29.42505586276729, 33.31380106399122, 36.86968577706229, 40.05718077734669, 42.84443766844737, 45.20360710085306, 47.11111703343291, 48.547908257479534]}, \"mode\": \"lines+markers\", \"name\": \"k(x)=cos(x)\", \"x\": [0.0, 0.1, 0.2, 0.30000000000000004, 0.4, 0.5, 0.6000000000000001, 0.7000000000000001, 0.8, 0.9, 1.0, 1.1, 1.2000000000000002, 1.3, 1.4000000000000001, 1.5, 1.6, 1.7000000000000002, 1.8, 1.9000000000000001, 2.0, 2.1, 2.2, 2.3000000000000003, 2.4000000000000004, 2.5, 2.6, 2.7, 2.8000000000000003, 2.9000000000000004], \"y\": [1.0, 0.9950041652780258, 0.9800665778412416, 0.955336489125606, 0.9210609940028851, 0.8775825618903728, 0.8253356149096782, 0.7648421872844884, 0.6967067093471654, 0.6216099682706644, 0.5403023058681398, 0.4535961214255773, 0.3623577544766734, 0.26749882862458735, 0.16996714290024081, 0.0707372016677029, -0.029199522301288815, -0.12884449429552486, -0.2272020946930871, -0.3232895668635036, -0.4161468365471424, -0.5048461045998576, -0.5885011172553458, -0.6662760212798244, -0.7373937155412458, -0.8011436155469337, -0.8568887533689473, -0.9040721420170612, -0.9422223406686583, -0.9709581651495907], \"type\": \"scatter\"}], \"name\": \"29\"}, {\"data\": [{\"marker\": {\"color\": [0.0, 0.010000000000000002, 0.04000000000000001, 0.09000000000000002, 0.16000000000000003, 0.25, 0.3600000000000001, 0.4900000000000001, 0.6400000000000001, 0.81, 1.0, 1.2100000000000002, 1.4400000000000004, 1.6900000000000002, 1.9600000000000004, 2.25, 2.5600000000000005, 2.8900000000000006, 3.24, 3.6100000000000003, 4.0, 4.41, 4.840000000000001, 5.290000000000001, 5.760000000000002, 6.25, 6.760000000000001, 7.290000000000001, 7.840000000000002, 8.410000000000002, 9.0], \"colorscale\": [[0.0, \"#000004\"], [0.1111111111111111, \"#1b0c41\"], [0.2222222222222222, \"#4a0c6b\"], [0.3333333333333333, \"#781c6d\"], [0.4444444444444444, \"#a52c60\"], [0.5555555555555556, \"#cf4446\"], [0.6666666666666666, \"#ed6925\"], [0.7777777777777778, \"#fb9b06\"], [0.8888888888888888, \"#f7d13d\"], [1.0, \"#fcffa4\"]], \"size\": [0.0, 4.991670832341407, 9.933466539753061, 14.77601033306698, 19.470917115432528, 23.971276930210152, 28.232123669751775, 32.21088436188456, 35.86780454497614, 39.16634548137417, 42.073549240394826, 44.56036800307177, 46.60195429836132, 48.17790927085965, 49.27248649942301, 49.874749330202725, 49.978680152075256, 49.58324052262343, 48.69238154390976, 47.315004384370724, 45.46487134128409, 43.160468332443685, 40.4248201909795, 37.285260608836005, 33.77315902755753, 29.923607205197822, 25.775068591073207, 21.368994011691488, 16.749407507795233, 11.9624664606991, 7.0560004029933605]}, \"mode\": \"lines+markers\", \"name\": \"h(x)=sin(x)\", \"x\": [0.0, 0.1, 0.2, 0.30000000000000004, 0.4, 0.5, 0.6000000000000001, 0.7000000000000001, 0.8, 0.9, 1.0, 1.1, 1.2000000000000002, 1.3, 1.4000000000000001, 1.5, 1.6, 1.7000000000000002, 1.8, 1.9000000000000001, 2.0, 2.1, 2.2, 2.3000000000000003, 2.4000000000000004, 2.5, 2.6, 2.7, 2.8000000000000003, 2.9000000000000004, 3.0], \"y\": [0.0, 0.09983341664682815, 0.19866933079506122, 0.2955202066613396, 0.3894183423086505, 0.479425538604203, 0.5646424733950355, 0.6442176872376911, 0.7173560908995228, 0.7833269096274834, 0.8414709848078965, 0.8912073600614354, 0.9320390859672264, 0.963558185417193, 0.9854497299884603, 0.9974949866040544, 0.9995736030415051, 0.9916648104524686, 0.9738476308781951, 0.9463000876874145, 0.9092974268256817, 0.8632093666488737, 0.8084964038195901, 0.74570521217672, 0.6754631805511506, 0.5984721441039564, 0.5155013718214642, 0.4273798802338298, 0.33498815015590466, 0.23924932921398198, 0.1411200080598672], \"type\": \"scatter\"}, {\"marker\": {\"color\": [0.0, 0.010000000000000002, 0.04000000000000001, 0.09000000000000002, 0.16000000000000003, 0.25, 0.3600000000000001, 0.4900000000000001, 0.6400000000000001, 0.81, 1.0, 1.2100000000000002, 1.4400000000000004, 1.6900000000000002, 1.9600000000000004, 2.25, 2.5600000000000005, 2.8900000000000006, 3.24, 3.6100000000000003, 4.0, 4.41, 4.840000000000001, 5.290000000000001, 5.760000000000002, 6.25, 6.760000000000001, 7.290000000000001, 7.840000000000002, 8.410000000000002, 9.0], \"colorscale\": [[0.0, \"#000004\"], [0.1111111111111111, \"#1b0c41\"], [0.2222222222222222, \"#4a0c6b\"], [0.3333333333333333, \"#781c6d\"], [0.4444444444444444, \"#a52c60\"], [0.5555555555555556, \"#cf4446\"], [0.6666666666666666, \"#ed6925\"], [0.7777777777777778, \"#fb9b06\"], [0.8888888888888888, \"#f7d13d\"], [1.0, \"#fcffa4\"]], \"size\": [50.0, 49.75020826390129, 49.00332889206208, 47.7668244562803, 46.05304970014426, 43.879128094518634, 41.26678074548391, 38.24210936422442, 34.83533546735827, 31.08049841353322, 27.01511529340699, 22.679806071278865, 18.117887723833668, 13.374941431229367, 8.49835714501204, 3.5368600833851453, 1.4599761150644408, 6.442224714776243, 11.360104734654355, 16.16447834317518, 20.80734182735712, 25.24230522999288, 29.42505586276729, 33.31380106399122, 36.86968577706229, 40.05718077734669, 42.84443766844737, 45.20360710085306, 47.11111703343291, 48.547908257479534, 49.49962483002227]}, \"mode\": \"lines+markers\", \"name\": \"k(x)=cos(x)\", \"x\": [0.0, 0.1, 0.2, 0.30000000000000004, 0.4, 0.5, 0.6000000000000001, 0.7000000000000001, 0.8, 0.9, 1.0, 1.1, 1.2000000000000002, 1.3, 1.4000000000000001, 1.5, 1.6, 1.7000000000000002, 1.8, 1.9000000000000001, 2.0, 2.1, 2.2, 2.3000000000000003, 2.4000000000000004, 2.5, 2.6, 2.7, 2.8000000000000003, 2.9000000000000004, 3.0], \"y\": [1.0, 0.9950041652780258, 0.9800665778412416, 0.955336489125606, 0.9210609940028851, 0.8775825618903728, 0.8253356149096782, 0.7648421872844884, 0.6967067093471654, 0.6216099682706644, 0.5403023058681398, 0.4535961214255773, 0.3623577544766734, 0.26749882862458735, 0.16996714290024081, 0.0707372016677029, -0.029199522301288815, -0.12884449429552486, -0.2272020946930871, -0.3232895668635036, -0.4161468365471424, -0.5048461045998576, -0.5885011172553458, -0.6662760212798244, -0.7373937155412458, -0.8011436155469337, -0.8568887533689473, -0.9040721420170612, -0.9422223406686583, -0.9709581651495907, -0.9899924966004454], \"type\": \"scatter\"}], \"name\": \"30\"}, {\"data\": [{\"marker\": {\"color\": [0.0, 0.010000000000000002, 0.04000000000000001, 0.09000000000000002, 0.16000000000000003, 0.25, 0.3600000000000001, 0.4900000000000001, 0.6400000000000001, 0.81, 1.0, 1.2100000000000002, 1.4400000000000004, 1.6900000000000002, 1.9600000000000004, 2.25, 2.5600000000000005, 2.8900000000000006, 3.24, 3.6100000000000003, 4.0, 4.41, 4.840000000000001, 5.290000000000001, 5.760000000000002, 6.25, 6.760000000000001, 7.290000000000001, 7.840000000000002, 8.410000000000002, 9.0, 9.610000000000001], \"colorscale\": [[0.0, \"#000004\"], [0.1111111111111111, \"#1b0c41\"], [0.2222222222222222, \"#4a0c6b\"], [0.3333333333333333, \"#781c6d\"], [0.4444444444444444, \"#a52c60\"], [0.5555555555555556, \"#cf4446\"], [0.6666666666666666, \"#ed6925\"], [0.7777777777777778, \"#fb9b06\"], [0.8888888888888888, \"#f7d13d\"], [1.0, \"#fcffa4\"]], \"size\": [0.0, 4.991670832341407, 9.933466539753061, 14.77601033306698, 19.470917115432528, 23.971276930210152, 28.232123669751775, 32.21088436188456, 35.86780454497614, 39.16634548137417, 42.073549240394826, 44.56036800307177, 46.60195429836132, 48.17790927085965, 49.27248649942301, 49.874749330202725, 49.978680152075256, 49.58324052262343, 48.69238154390976, 47.315004384370724, 45.46487134128409, 43.160468332443685, 40.4248201909795, 37.285260608836005, 33.77315902755753, 29.923607205197822, 25.775068591073207, 21.368994011691488, 16.749407507795233, 11.9624664606991, 7.0560004029933605, 2.0790331216645246]}, \"mode\": \"lines+markers\", \"name\": \"h(x)=sin(x)\", \"x\": [0.0, 0.1, 0.2, 0.30000000000000004, 0.4, 0.5, 0.6000000000000001, 0.7000000000000001, 0.8, 0.9, 1.0, 1.1, 1.2000000000000002, 1.3, 1.4000000000000001, 1.5, 1.6, 1.7000000000000002, 1.8, 1.9000000000000001, 2.0, 2.1, 2.2, 2.3000000000000003, 2.4000000000000004, 2.5, 2.6, 2.7, 2.8000000000000003, 2.9000000000000004, 3.0, 3.1], \"y\": [0.0, 0.09983341664682815, 0.19866933079506122, 0.2955202066613396, 0.3894183423086505, 0.479425538604203, 0.5646424733950355, 0.6442176872376911, 0.7173560908995228, 0.7833269096274834, 0.8414709848078965, 0.8912073600614354, 0.9320390859672264, 0.963558185417193, 0.9854497299884603, 0.9974949866040544, 0.9995736030415051, 0.9916648104524686, 0.9738476308781951, 0.9463000876874145, 0.9092974268256817, 0.8632093666488737, 0.8084964038195901, 0.74570521217672, 0.6754631805511506, 0.5984721441039564, 0.5155013718214642, 0.4273798802338298, 0.33498815015590466, 0.23924932921398198, 0.1411200080598672, 0.04158066243329049], \"type\": \"scatter\"}, {\"marker\": {\"color\": [0.0, 0.010000000000000002, 0.04000000000000001, 0.09000000000000002, 0.16000000000000003, 0.25, 0.3600000000000001, 0.4900000000000001, 0.6400000000000001, 0.81, 1.0, 1.2100000000000002, 1.4400000000000004, 1.6900000000000002, 1.9600000000000004, 2.25, 2.5600000000000005, 2.8900000000000006, 3.24, 3.6100000000000003, 4.0, 4.41, 4.840000000000001, 5.290000000000001, 5.760000000000002, 6.25, 6.760000000000001, 7.290000000000001, 7.840000000000002, 8.410000000000002, 9.0, 9.610000000000001], \"colorscale\": [[0.0, \"#000004\"], [0.1111111111111111, \"#1b0c41\"], [0.2222222222222222, \"#4a0c6b\"], [0.3333333333333333, \"#781c6d\"], [0.4444444444444444, \"#a52c60\"], [0.5555555555555556, \"#cf4446\"], [0.6666666666666666, \"#ed6925\"], [0.7777777777777778, \"#fb9b06\"], [0.8888888888888888, \"#f7d13d\"], [1.0, \"#fcffa4\"]], \"size\": [50.0, 49.75020826390129, 49.00332889206208, 47.7668244562803, 46.05304970014426, 43.879128094518634, 41.26678074548391, 38.24210936422442, 34.83533546735827, 31.08049841353322, 27.01511529340699, 22.679806071278865, 18.117887723833668, 13.374941431229367, 8.49835714501204, 3.5368600833851453, 1.4599761150644408, 6.442224714776243, 11.360104734654355, 16.16447834317518, 20.80734182735712, 25.24230522999288, 29.42505586276729, 33.31380106399122, 36.86968577706229, 40.05718077734669, 42.84443766844737, 45.20360710085306, 47.11111703343291, 48.547908257479534, 49.49962483002227, 49.95675751366397]}, \"mode\": \"lines+markers\", \"name\": \"k(x)=cos(x)\", \"x\": [0.0, 0.1, 0.2, 0.30000000000000004, 0.4, 0.5, 0.6000000000000001, 0.7000000000000001, 0.8, 0.9, 1.0, 1.1, 1.2000000000000002, 1.3, 1.4000000000000001, 1.5, 1.6, 1.7000000000000002, 1.8, 1.9000000000000001, 2.0, 2.1, 2.2, 2.3000000000000003, 2.4000000000000004, 2.5, 2.6, 2.7, 2.8000000000000003, 2.9000000000000004, 3.0, 3.1], \"y\": [1.0, 0.9950041652780258, 0.9800665778412416, 0.955336489125606, 0.9210609940028851, 0.8775825618903728, 0.8253356149096782, 0.7648421872844884, 0.6967067093471654, 0.6216099682706644, 0.5403023058681398, 0.4535961214255773, 0.3623577544766734, 0.26749882862458735, 0.16996714290024081, 0.0707372016677029, -0.029199522301288815, -0.12884449429552486, -0.2272020946930871, -0.3232895668635036, -0.4161468365471424, -0.5048461045998576, -0.5885011172553458, -0.6662760212798244, -0.7373937155412458, -0.8011436155469337, -0.8568887533689473, -0.9040721420170612, -0.9422223406686583, -0.9709581651495907, -0.9899924966004454, -0.9991351502732795], \"type\": \"scatter\"}], \"name\": \"31\"}, {\"data\": [{\"marker\": {\"color\": [0.0, 0.010000000000000002, 0.04000000000000001, 0.09000000000000002, 0.16000000000000003, 0.25, 0.3600000000000001, 0.4900000000000001, 0.6400000000000001, 0.81, 1.0, 1.2100000000000002, 1.4400000000000004, 1.6900000000000002, 1.9600000000000004, 2.25, 2.5600000000000005, 2.8900000000000006, 3.24, 3.6100000000000003, 4.0, 4.41, 4.840000000000001, 5.290000000000001, 5.760000000000002, 6.25, 6.760000000000001, 7.290000000000001, 7.840000000000002, 8.410000000000002, 9.0, 9.610000000000001, 10.240000000000002], \"colorscale\": [[0.0, \"#000004\"], [0.1111111111111111, \"#1b0c41\"], [0.2222222222222222, \"#4a0c6b\"], [0.3333333333333333, \"#781c6d\"], [0.4444444444444444, \"#a52c60\"], [0.5555555555555556, \"#cf4446\"], [0.6666666666666666, \"#ed6925\"], [0.7777777777777778, \"#fb9b06\"], [0.8888888888888888, \"#f7d13d\"], [1.0, \"#fcffa4\"]], \"size\": [0.0, 4.991670832341407, 9.933466539753061, 14.77601033306698, 19.470917115432528, 23.971276930210152, 28.232123669751775, 32.21088436188456, 35.86780454497614, 39.16634548137417, 42.073549240394826, 44.56036800307177, 46.60195429836132, 48.17790927085965, 49.27248649942301, 49.874749330202725, 49.978680152075256, 49.58324052262343, 48.69238154390976, 47.315004384370724, 45.46487134128409, 43.160468332443685, 40.4248201909795, 37.285260608836005, 33.77315902755753, 29.923607205197822, 25.775068591073207, 21.368994011691488, 16.749407507795233, 11.9624664606991, 7.0560004029933605, 2.0790331216645246, 2.9187071713790043]}, \"mode\": \"lines+markers\", \"name\": \"h(x)=sin(x)\", \"x\": [0.0, 0.1, 0.2, 0.30000000000000004, 0.4, 0.5, 0.6000000000000001, 0.7000000000000001, 0.8, 0.9, 1.0, 1.1, 1.2000000000000002, 1.3, 1.4000000000000001, 1.5, 1.6, 1.7000000000000002, 1.8, 1.9000000000000001, 2.0, 2.1, 2.2, 2.3000000000000003, 2.4000000000000004, 2.5, 2.6, 2.7, 2.8000000000000003, 2.9000000000000004, 3.0, 3.1, 3.2], \"y\": [0.0, 0.09983341664682815, 0.19866933079506122, 0.2955202066613396, 0.3894183423086505, 0.479425538604203, 0.5646424733950355, 0.6442176872376911, 0.7173560908995228, 0.7833269096274834, 0.8414709848078965, 0.8912073600614354, 0.9320390859672264, 0.963558185417193, 0.9854497299884603, 0.9974949866040544, 0.9995736030415051, 0.9916648104524686, 0.9738476308781951, 0.9463000876874145, 0.9092974268256817, 0.8632093666488737, 0.8084964038195901, 0.74570521217672, 0.6754631805511506, 0.5984721441039564, 0.5155013718214642, 0.4273798802338298, 0.33498815015590466, 0.23924932921398198, 0.1411200080598672, 0.04158066243329049, -0.058374143427580086], \"type\": \"scatter\"}, {\"marker\": {\"color\": [0.0, 0.010000000000000002, 0.04000000000000001, 0.09000000000000002, 0.16000000000000003, 0.25, 0.3600000000000001, 0.4900000000000001, 0.6400000000000001, 0.81, 1.0, 1.2100000000000002, 1.4400000000000004, 1.6900000000000002, 1.9600000000000004, 2.25, 2.5600000000000005, 2.8900000000000006, 3.24, 3.6100000000000003, 4.0, 4.41, 4.840000000000001, 5.290000000000001, 5.760000000000002, 6.25, 6.760000000000001, 7.290000000000001, 7.840000000000002, 8.410000000000002, 9.0, 9.610000000000001, 10.240000000000002], \"colorscale\": [[0.0, \"#000004\"], [0.1111111111111111, \"#1b0c41\"], [0.2222222222222222, \"#4a0c6b\"], [0.3333333333333333, \"#781c6d\"], [0.4444444444444444, \"#a52c60\"], [0.5555555555555556, \"#cf4446\"], [0.6666666666666666, \"#ed6925\"], [0.7777777777777778, \"#fb9b06\"], [0.8888888888888888, \"#f7d13d\"], [1.0, \"#fcffa4\"]], \"size\": [50.0, 49.75020826390129, 49.00332889206208, 47.7668244562803, 46.05304970014426, 43.879128094518634, 41.26678074548391, 38.24210936422442, 34.83533546735827, 31.08049841353322, 27.01511529340699, 22.679806071278865, 18.117887723833668, 13.374941431229367, 8.49835714501204, 3.5368600833851453, 1.4599761150644408, 6.442224714776243, 11.360104734654355, 16.16447834317518, 20.80734182735712, 25.24230522999288, 29.42505586276729, 33.31380106399122, 36.86968577706229, 40.05718077734669, 42.84443766844737, 45.20360710085306, 47.11111703343291, 48.547908257479534, 49.49962483002227, 49.95675751366397, 49.914738789737655]}, \"mode\": \"lines+markers\", \"name\": \"k(x)=cos(x)\", \"x\": [0.0, 0.1, 0.2, 0.30000000000000004, 0.4, 0.5, 0.6000000000000001, 0.7000000000000001, 0.8, 0.9, 1.0, 1.1, 1.2000000000000002, 1.3, 1.4000000000000001, 1.5, 1.6, 1.7000000000000002, 1.8, 1.9000000000000001, 2.0, 2.1, 2.2, 2.3000000000000003, 2.4000000000000004, 2.5, 2.6, 2.7, 2.8000000000000003, 2.9000000000000004, 3.0, 3.1, 3.2], \"y\": [1.0, 0.9950041652780258, 0.9800665778412416, 0.955336489125606, 0.9210609940028851, 0.8775825618903728, 0.8253356149096782, 0.7648421872844884, 0.6967067093471654, 0.6216099682706644, 0.5403023058681398, 0.4535961214255773, 0.3623577544766734, 0.26749882862458735, 0.16996714290024081, 0.0707372016677029, -0.029199522301288815, -0.12884449429552486, -0.2272020946930871, -0.3232895668635036, -0.4161468365471424, -0.5048461045998576, -0.5885011172553458, -0.6662760212798244, -0.7373937155412458, -0.8011436155469337, -0.8568887533689473, -0.9040721420170612, -0.9422223406686583, -0.9709581651495907, -0.9899924966004454, -0.9991351502732795, -0.9982947757947531], \"type\": \"scatter\"}], \"name\": \"32\"}, {\"data\": [{\"marker\": {\"color\": [0.0, 0.010000000000000002, 0.04000000000000001, 0.09000000000000002, 0.16000000000000003, 0.25, 0.3600000000000001, 0.4900000000000001, 0.6400000000000001, 0.81, 1.0, 1.2100000000000002, 1.4400000000000004, 1.6900000000000002, 1.9600000000000004, 2.25, 2.5600000000000005, 2.8900000000000006, 3.24, 3.6100000000000003, 4.0, 4.41, 4.840000000000001, 5.290000000000001, 5.760000000000002, 6.25, 6.760000000000001, 7.290000000000001, 7.840000000000002, 8.410000000000002, 9.0, 9.610000000000001, 10.240000000000002, 10.890000000000002], \"colorscale\": [[0.0, \"#000004\"], [0.1111111111111111, \"#1b0c41\"], [0.2222222222222222, \"#4a0c6b\"], [0.3333333333333333, \"#781c6d\"], [0.4444444444444444, \"#a52c60\"], [0.5555555555555556, \"#cf4446\"], [0.6666666666666666, \"#ed6925\"], [0.7777777777777778, \"#fb9b06\"], [0.8888888888888888, \"#f7d13d\"], [1.0, \"#fcffa4\"]], \"size\": [0.0, 4.991670832341407, 9.933466539753061, 14.77601033306698, 19.470917115432528, 23.971276930210152, 28.232123669751775, 32.21088436188456, 35.86780454497614, 39.16634548137417, 42.073549240394826, 44.56036800307177, 46.60195429836132, 48.17790927085965, 49.27248649942301, 49.874749330202725, 49.978680152075256, 49.58324052262343, 48.69238154390976, 47.315004384370724, 45.46487134128409, 43.160468332443685, 40.4248201909795, 37.285260608836005, 33.77315902755753, 29.923607205197822, 25.775068591073207, 21.368994011691488, 16.749407507795233, 11.9624664606991, 7.0560004029933605, 2.0790331216645246, 2.9187071713790043, 7.887284707162433]}, \"mode\": \"lines+markers\", \"name\": \"h(x)=sin(x)\", \"x\": [0.0, 0.1, 0.2, 0.30000000000000004, 0.4, 0.5, 0.6000000000000001, 0.7000000000000001, 0.8, 0.9, 1.0, 1.1, 1.2000000000000002, 1.3, 1.4000000000000001, 1.5, 1.6, 1.7000000000000002, 1.8, 1.9000000000000001, 2.0, 2.1, 2.2, 2.3000000000000003, 2.4000000000000004, 2.5, 2.6, 2.7, 2.8000000000000003, 2.9000000000000004, 3.0, 3.1, 3.2, 3.3000000000000003], \"y\": [0.0, 0.09983341664682815, 0.19866933079506122, 0.2955202066613396, 0.3894183423086505, 0.479425538604203, 0.5646424733950355, 0.6442176872376911, 0.7173560908995228, 0.7833269096274834, 0.8414709848078965, 0.8912073600614354, 0.9320390859672264, 0.963558185417193, 0.9854497299884603, 0.9974949866040544, 0.9995736030415051, 0.9916648104524686, 0.9738476308781951, 0.9463000876874145, 0.9092974268256817, 0.8632093666488737, 0.8084964038195901, 0.74570521217672, 0.6754631805511506, 0.5984721441039564, 0.5155013718214642, 0.4273798802338298, 0.33498815015590466, 0.23924932921398198, 0.1411200080598672, 0.04158066243329049, -0.058374143427580086, -0.15774569414324865], \"type\": \"scatter\"}, {\"marker\": {\"color\": [0.0, 0.010000000000000002, 0.04000000000000001, 0.09000000000000002, 0.16000000000000003, 0.25, 0.3600000000000001, 0.4900000000000001, 0.6400000000000001, 0.81, 1.0, 1.2100000000000002, 1.4400000000000004, 1.6900000000000002, 1.9600000000000004, 2.25, 2.5600000000000005, 2.8900000000000006, 3.24, 3.6100000000000003, 4.0, 4.41, 4.840000000000001, 5.290000000000001, 5.760000000000002, 6.25, 6.760000000000001, 7.290000000000001, 7.840000000000002, 8.410000000000002, 9.0, 9.610000000000001, 10.240000000000002, 10.890000000000002], \"colorscale\": [[0.0, \"#000004\"], [0.1111111111111111, \"#1b0c41\"], [0.2222222222222222, \"#4a0c6b\"], [0.3333333333333333, \"#781c6d\"], [0.4444444444444444, \"#a52c60\"], [0.5555555555555556, \"#cf4446\"], [0.6666666666666666, \"#ed6925\"], [0.7777777777777778, \"#fb9b06\"], [0.8888888888888888, \"#f7d13d\"], [1.0, \"#fcffa4\"]], \"size\": [50.0, 49.75020826390129, 49.00332889206208, 47.7668244562803, 46.05304970014426, 43.879128094518634, 41.26678074548391, 38.24210936422442, 34.83533546735827, 31.08049841353322, 27.01511529340699, 22.679806071278865, 18.117887723833668, 13.374941431229367, 8.49835714501204, 3.5368600833851453, 1.4599761150644408, 6.442224714776243, 11.360104734654355, 16.16447834317518, 20.80734182735712, 25.24230522999288, 29.42505586276729, 33.31380106399122, 36.86968577706229, 40.05718077734669, 42.84443766844737, 45.20360710085306, 47.11111703343291, 48.547908257479534, 49.49962483002227, 49.95675751366397, 49.914738789737655, 49.37398849544324]}, \"mode\": \"lines+markers\", \"name\": \"k(x)=cos(x)\", \"x\": [0.0, 0.1, 0.2, 0.30000000000000004, 0.4, 0.5, 0.6000000000000001, 0.7000000000000001, 0.8, 0.9, 1.0, 1.1, 1.2000000000000002, 1.3, 1.4000000000000001, 1.5, 1.6, 1.7000000000000002, 1.8, 1.9000000000000001, 2.0, 2.1, 2.2, 2.3000000000000003, 2.4000000000000004, 2.5, 2.6, 2.7, 2.8000000000000003, 2.9000000000000004, 3.0, 3.1, 3.2, 3.3000000000000003], \"y\": [1.0, 0.9950041652780258, 0.9800665778412416, 0.955336489125606, 0.9210609940028851, 0.8775825618903728, 0.8253356149096782, 0.7648421872844884, 0.6967067093471654, 0.6216099682706644, 0.5403023058681398, 0.4535961214255773, 0.3623577544766734, 0.26749882862458735, 0.16996714290024081, 0.0707372016677029, -0.029199522301288815, -0.12884449429552486, -0.2272020946930871, -0.3232895668635036, -0.4161468365471424, -0.5048461045998576, -0.5885011172553458, -0.6662760212798244, -0.7373937155412458, -0.8011436155469337, -0.8568887533689473, -0.9040721420170612, -0.9422223406686583, -0.9709581651495907, -0.9899924966004454, -0.9991351502732795, -0.9982947757947531, -0.9874797699088649], \"type\": \"scatter\"}], \"name\": \"33\"}, {\"data\": [{\"marker\": {\"color\": [0.0, 0.010000000000000002, 0.04000000000000001, 0.09000000000000002, 0.16000000000000003, 0.25, 0.3600000000000001, 0.4900000000000001, 0.6400000000000001, 0.81, 1.0, 1.2100000000000002, 1.4400000000000004, 1.6900000000000002, 1.9600000000000004, 2.25, 2.5600000000000005, 2.8900000000000006, 3.24, 3.6100000000000003, 4.0, 4.41, 4.840000000000001, 5.290000000000001, 5.760000000000002, 6.25, 6.760000000000001, 7.290000000000001, 7.840000000000002, 8.410000000000002, 9.0, 9.610000000000001, 10.240000000000002, 10.890000000000002, 11.560000000000002], \"colorscale\": [[0.0, \"#000004\"], [0.1111111111111111, \"#1b0c41\"], [0.2222222222222222, \"#4a0c6b\"], [0.3333333333333333, \"#781c6d\"], [0.4444444444444444, \"#a52c60\"], [0.5555555555555556, \"#cf4446\"], [0.6666666666666666, \"#ed6925\"], [0.7777777777777778, \"#fb9b06\"], [0.8888888888888888, \"#f7d13d\"], [1.0, \"#fcffa4\"]], \"size\": [0.0, 4.991670832341407, 9.933466539753061, 14.77601033306698, 19.470917115432528, 23.971276930210152, 28.232123669751775, 32.21088436188456, 35.86780454497614, 39.16634548137417, 42.073549240394826, 44.56036800307177, 46.60195429836132, 48.17790927085965, 49.27248649942301, 49.874749330202725, 49.978680152075256, 49.58324052262343, 48.69238154390976, 47.315004384370724, 45.46487134128409, 43.160468332443685, 40.4248201909795, 37.285260608836005, 33.77315902755753, 29.923607205197822, 25.775068591073207, 21.368994011691488, 16.749407507795233, 11.9624664606991, 7.0560004029933605, 2.0790331216645246, 2.9187071713790043, 7.887284707162433, 12.777055101341583]}, \"mode\": \"lines+markers\", \"name\": \"h(x)=sin(x)\", \"x\": [0.0, 0.1, 0.2, 0.30000000000000004, 0.4, 0.5, 0.6000000000000001, 0.7000000000000001, 0.8, 0.9, 1.0, 1.1, 1.2000000000000002, 1.3, 1.4000000000000001, 1.5, 1.6, 1.7000000000000002, 1.8, 1.9000000000000001, 2.0, 2.1, 2.2, 2.3000000000000003, 2.4000000000000004, 2.5, 2.6, 2.7, 2.8000000000000003, 2.9000000000000004, 3.0, 3.1, 3.2, 3.3000000000000003, 3.4000000000000004], \"y\": [0.0, 0.09983341664682815, 0.19866933079506122, 0.2955202066613396, 0.3894183423086505, 0.479425538604203, 0.5646424733950355, 0.6442176872376911, 0.7173560908995228, 0.7833269096274834, 0.8414709848078965, 0.8912073600614354, 0.9320390859672264, 0.963558185417193, 0.9854497299884603, 0.9974949866040544, 0.9995736030415051, 0.9916648104524686, 0.9738476308781951, 0.9463000876874145, 0.9092974268256817, 0.8632093666488737, 0.8084964038195901, 0.74570521217672, 0.6754631805511506, 0.5984721441039564, 0.5155013718214642, 0.4273798802338298, 0.33498815015590466, 0.23924932921398198, 0.1411200080598672, 0.04158066243329049, -0.058374143427580086, -0.15774569414324865, -0.25554110202683167], \"type\": \"scatter\"}, {\"marker\": {\"color\": [0.0, 0.010000000000000002, 0.04000000000000001, 0.09000000000000002, 0.16000000000000003, 0.25, 0.3600000000000001, 0.4900000000000001, 0.6400000000000001, 0.81, 1.0, 1.2100000000000002, 1.4400000000000004, 1.6900000000000002, 1.9600000000000004, 2.25, 2.5600000000000005, 2.8900000000000006, 3.24, 3.6100000000000003, 4.0, 4.41, 4.840000000000001, 5.290000000000001, 5.760000000000002, 6.25, 6.760000000000001, 7.290000000000001, 7.840000000000002, 8.410000000000002, 9.0, 9.610000000000001, 10.240000000000002, 10.890000000000002, 11.560000000000002], \"colorscale\": [[0.0, \"#000004\"], [0.1111111111111111, \"#1b0c41\"], [0.2222222222222222, \"#4a0c6b\"], [0.3333333333333333, \"#781c6d\"], [0.4444444444444444, \"#a52c60\"], [0.5555555555555556, \"#cf4446\"], [0.6666666666666666, \"#ed6925\"], [0.7777777777777778, \"#fb9b06\"], [0.8888888888888888, \"#f7d13d\"], [1.0, \"#fcffa4\"]], \"size\": [50.0, 49.75020826390129, 49.00332889206208, 47.7668244562803, 46.05304970014426, 43.879128094518634, 41.26678074548391, 38.24210936422442, 34.83533546735827, 31.08049841353322, 27.01511529340699, 22.679806071278865, 18.117887723833668, 13.374941431229367, 8.49835714501204, 3.5368600833851453, 1.4599761150644408, 6.442224714776243, 11.360104734654355, 16.16447834317518, 20.80734182735712, 25.24230522999288, 29.42505586276729, 33.31380106399122, 36.86968577706229, 40.05718077734669, 42.84443766844737, 45.20360710085306, 47.11111703343291, 48.547908257479534, 49.49962483002227, 49.95675751366397, 49.914738789737655, 49.37398849544324, 48.33990962897305]}, \"mode\": \"lines+markers\", \"name\": \"k(x)=cos(x)\", \"x\": [0.0, 0.1, 0.2, 0.30000000000000004, 0.4, 0.5, 0.6000000000000001, 0.7000000000000001, 0.8, 0.9, 1.0, 1.1, 1.2000000000000002, 1.3, 1.4000000000000001, 1.5, 1.6, 1.7000000000000002, 1.8, 1.9000000000000001, 2.0, 2.1, 2.2, 2.3000000000000003, 2.4000000000000004, 2.5, 2.6, 2.7, 2.8000000000000003, 2.9000000000000004, 3.0, 3.1, 3.2, 3.3000000000000003, 3.4000000000000004], \"y\": [1.0, 0.9950041652780258, 0.9800665778412416, 0.955336489125606, 0.9210609940028851, 0.8775825618903728, 0.8253356149096782, 0.7648421872844884, 0.6967067093471654, 0.6216099682706644, 0.5403023058681398, 0.4535961214255773, 0.3623577544766734, 0.26749882862458735, 0.16996714290024081, 0.0707372016677029, -0.029199522301288815, -0.12884449429552486, -0.2272020946930871, -0.3232895668635036, -0.4161468365471424, -0.5048461045998576, -0.5885011172553458, -0.6662760212798244, -0.7373937155412458, -0.8011436155469337, -0.8568887533689473, -0.9040721420170612, -0.9422223406686583, -0.9709581651495907, -0.9899924966004454, -0.9991351502732795, -0.9982947757947531, -0.9874797699088649, -0.9667981925794609], \"type\": \"scatter\"}], \"name\": \"34\"}, {\"data\": [{\"marker\": {\"color\": [0.0, 0.010000000000000002, 0.04000000000000001, 0.09000000000000002, 0.16000000000000003, 0.25, 0.3600000000000001, 0.4900000000000001, 0.6400000000000001, 0.81, 1.0, 1.2100000000000002, 1.4400000000000004, 1.6900000000000002, 1.9600000000000004, 2.25, 2.5600000000000005, 2.8900000000000006, 3.24, 3.6100000000000003, 4.0, 4.41, 4.840000000000001, 5.290000000000001, 5.760000000000002, 6.25, 6.760000000000001, 7.290000000000001, 7.840000000000002, 8.410000000000002, 9.0, 9.610000000000001, 10.240000000000002, 10.890000000000002, 11.560000000000002, 12.25], \"colorscale\": [[0.0, \"#000004\"], [0.1111111111111111, \"#1b0c41\"], [0.2222222222222222, \"#4a0c6b\"], [0.3333333333333333, \"#781c6d\"], [0.4444444444444444, \"#a52c60\"], [0.5555555555555556, \"#cf4446\"], [0.6666666666666666, \"#ed6925\"], [0.7777777777777778, \"#fb9b06\"], [0.8888888888888888, \"#f7d13d\"], [1.0, \"#fcffa4\"]], \"size\": [0.0, 4.991670832341407, 9.933466539753061, 14.77601033306698, 19.470917115432528, 23.971276930210152, 28.232123669751775, 32.21088436188456, 35.86780454497614, 39.16634548137417, 42.073549240394826, 44.56036800307177, 46.60195429836132, 48.17790927085965, 49.27248649942301, 49.874749330202725, 49.978680152075256, 49.58324052262343, 48.69238154390976, 47.315004384370724, 45.46487134128409, 43.160468332443685, 40.4248201909795, 37.285260608836005, 33.77315902755753, 29.923607205197822, 25.775068591073207, 21.368994011691488, 16.749407507795233, 11.9624664606991, 7.0560004029933605, 2.0790331216645246, 2.9187071713790043, 7.887284707162433, 12.777055101341583, 17.53916138448099]}, \"mode\": \"lines+markers\", \"name\": \"h(x)=sin(x)\", \"x\": [0.0, 0.1, 0.2, 0.30000000000000004, 0.4, 0.5, 0.6000000000000001, 0.7000000000000001, 0.8, 0.9, 1.0, 1.1, 1.2000000000000002, 1.3, 1.4000000000000001, 1.5, 1.6, 1.7000000000000002, 1.8, 1.9000000000000001, 2.0, 2.1, 2.2, 2.3000000000000003, 2.4000000000000004, 2.5, 2.6, 2.7, 2.8000000000000003, 2.9000000000000004, 3.0, 3.1, 3.2, 3.3000000000000003, 3.4000000000000004, 3.5], \"y\": [0.0, 0.09983341664682815, 0.19866933079506122, 0.2955202066613396, 0.3894183423086505, 0.479425538604203, 0.5646424733950355, 0.6442176872376911, 0.7173560908995228, 0.7833269096274834, 0.8414709848078965, 0.8912073600614354, 0.9320390859672264, 0.963558185417193, 0.9854497299884603, 0.9974949866040544, 0.9995736030415051, 0.9916648104524686, 0.9738476308781951, 0.9463000876874145, 0.9092974268256817, 0.8632093666488737, 0.8084964038195901, 0.74570521217672, 0.6754631805511506, 0.5984721441039564, 0.5155013718214642, 0.4273798802338298, 0.33498815015590466, 0.23924932921398198, 0.1411200080598672, 0.04158066243329049, -0.058374143427580086, -0.15774569414324865, -0.25554110202683167, -0.35078322768961984], \"type\": \"scatter\"}, {\"marker\": {\"color\": [0.0, 0.010000000000000002, 0.04000000000000001, 0.09000000000000002, 0.16000000000000003, 0.25, 0.3600000000000001, 0.4900000000000001, 0.6400000000000001, 0.81, 1.0, 1.2100000000000002, 1.4400000000000004, 1.6900000000000002, 1.9600000000000004, 2.25, 2.5600000000000005, 2.8900000000000006, 3.24, 3.6100000000000003, 4.0, 4.41, 4.840000000000001, 5.290000000000001, 5.760000000000002, 6.25, 6.760000000000001, 7.290000000000001, 7.840000000000002, 8.410000000000002, 9.0, 9.610000000000001, 10.240000000000002, 10.890000000000002, 11.560000000000002, 12.25], \"colorscale\": [[0.0, \"#000004\"], [0.1111111111111111, \"#1b0c41\"], [0.2222222222222222, \"#4a0c6b\"], [0.3333333333333333, \"#781c6d\"], [0.4444444444444444, \"#a52c60\"], [0.5555555555555556, \"#cf4446\"], [0.6666666666666666, \"#ed6925\"], [0.7777777777777778, \"#fb9b06\"], [0.8888888888888888, \"#f7d13d\"], [1.0, \"#fcffa4\"]], \"size\": [50.0, 49.75020826390129, 49.00332889206208, 47.7668244562803, 46.05304970014426, 43.879128094518634, 41.26678074548391, 38.24210936422442, 34.83533546735827, 31.08049841353322, 27.01511529340699, 22.679806071278865, 18.117887723833668, 13.374941431229367, 8.49835714501204, 3.5368600833851453, 1.4599761150644408, 6.442224714776243, 11.360104734654355, 16.16447834317518, 20.80734182735712, 25.24230522999288, 29.42505586276729, 33.31380106399122, 36.86968577706229, 40.05718077734669, 42.84443766844737, 45.20360710085306, 47.11111703343291, 48.547908257479534, 49.49962483002227, 49.95675751366397, 49.914738789737655, 49.37398849544324, 48.33990962897305, 46.822834364539816]}, \"mode\": \"lines+markers\", \"name\": \"k(x)=cos(x)\", \"x\": [0.0, 0.1, 0.2, 0.30000000000000004, 0.4, 0.5, 0.6000000000000001, 0.7000000000000001, 0.8, 0.9, 1.0, 1.1, 1.2000000000000002, 1.3, 1.4000000000000001, 1.5, 1.6, 1.7000000000000002, 1.8, 1.9000000000000001, 2.0, 2.1, 2.2, 2.3000000000000003, 2.4000000000000004, 2.5, 2.6, 2.7, 2.8000000000000003, 2.9000000000000004, 3.0, 3.1, 3.2, 3.3000000000000003, 3.4000000000000004, 3.5], \"y\": [1.0, 0.9950041652780258, 0.9800665778412416, 0.955336489125606, 0.9210609940028851, 0.8775825618903728, 0.8253356149096782, 0.7648421872844884, 0.6967067093471654, 0.6216099682706644, 0.5403023058681398, 0.4535961214255773, 0.3623577544766734, 0.26749882862458735, 0.16996714290024081, 0.0707372016677029, -0.029199522301288815, -0.12884449429552486, -0.2272020946930871, -0.3232895668635036, -0.4161468365471424, -0.5048461045998576, -0.5885011172553458, -0.6662760212798244, -0.7373937155412458, -0.8011436155469337, -0.8568887533689473, -0.9040721420170612, -0.9422223406686583, -0.9709581651495907, -0.9899924966004454, -0.9991351502732795, -0.9982947757947531, -0.9874797699088649, -0.9667981925794609, -0.9364566872907963], \"type\": \"scatter\"}], \"name\": \"35\"}, {\"data\": [{\"marker\": {\"color\": [0.0, 0.010000000000000002, 0.04000000000000001, 0.09000000000000002, 0.16000000000000003, 0.25, 0.3600000000000001, 0.4900000000000001, 0.6400000000000001, 0.81, 1.0, 1.2100000000000002, 1.4400000000000004, 1.6900000000000002, 1.9600000000000004, 2.25, 2.5600000000000005, 2.8900000000000006, 3.24, 3.6100000000000003, 4.0, 4.41, 4.840000000000001, 5.290000000000001, 5.760000000000002, 6.25, 6.760000000000001, 7.290000000000001, 7.840000000000002, 8.410000000000002, 9.0, 9.610000000000001, 10.240000000000002, 10.890000000000002, 11.560000000000002, 12.25, 12.96], \"colorscale\": [[0.0, \"#000004\"], [0.1111111111111111, \"#1b0c41\"], [0.2222222222222222, \"#4a0c6b\"], [0.3333333333333333, \"#781c6d\"], [0.4444444444444444, \"#a52c60\"], [0.5555555555555556, \"#cf4446\"], [0.6666666666666666, \"#ed6925\"], [0.7777777777777778, \"#fb9b06\"], [0.8888888888888888, \"#f7d13d\"], [1.0, \"#fcffa4\"]], \"size\": [0.0, 4.991670832341407, 9.933466539753061, 14.77601033306698, 19.470917115432528, 23.971276930210152, 28.232123669751775, 32.21088436188456, 35.86780454497614, 39.16634548137417, 42.073549240394826, 44.56036800307177, 46.60195429836132, 48.17790927085965, 49.27248649942301, 49.874749330202725, 49.978680152075256, 49.58324052262343, 48.69238154390976, 47.315004384370724, 45.46487134128409, 43.160468332443685, 40.4248201909795, 37.285260608836005, 33.77315902755753, 29.923607205197822, 25.775068591073207, 21.368994011691488, 16.749407507795233, 11.9624664606991, 7.0560004029933605, 2.0790331216645246, 2.9187071713790043, 7.887284707162433, 12.777055101341583, 17.53916138448099, 22.126022164742622]}, \"mode\": \"lines+markers\", \"name\": \"h(x)=sin(x)\", \"x\": [0.0, 0.1, 0.2, 0.30000000000000004, 0.4, 0.5, 0.6000000000000001, 0.7000000000000001, 0.8, 0.9, 1.0, 1.1, 1.2000000000000002, 1.3, 1.4000000000000001, 1.5, 1.6, 1.7000000000000002, 1.8, 1.9000000000000001, 2.0, 2.1, 2.2, 2.3000000000000003, 2.4000000000000004, 2.5, 2.6, 2.7, 2.8000000000000003, 2.9000000000000004, 3.0, 3.1, 3.2, 3.3000000000000003, 3.4000000000000004, 3.5, 3.6], \"y\": [0.0, 0.09983341664682815, 0.19866933079506122, 0.2955202066613396, 0.3894183423086505, 0.479425538604203, 0.5646424733950355, 0.6442176872376911, 0.7173560908995228, 0.7833269096274834, 0.8414709848078965, 0.8912073600614354, 0.9320390859672264, 0.963558185417193, 0.9854497299884603, 0.9974949866040544, 0.9995736030415051, 0.9916648104524686, 0.9738476308781951, 0.9463000876874145, 0.9092974268256817, 0.8632093666488737, 0.8084964038195901, 0.74570521217672, 0.6754631805511506, 0.5984721441039564, 0.5155013718214642, 0.4273798802338298, 0.33498815015590466, 0.23924932921398198, 0.1411200080598672, 0.04158066243329049, -0.058374143427580086, -0.15774569414324865, -0.25554110202683167, -0.35078322768961984, -0.44252044329485246], \"type\": \"scatter\"}, {\"marker\": {\"color\": [0.0, 0.010000000000000002, 0.04000000000000001, 0.09000000000000002, 0.16000000000000003, 0.25, 0.3600000000000001, 0.4900000000000001, 0.6400000000000001, 0.81, 1.0, 1.2100000000000002, 1.4400000000000004, 1.6900000000000002, 1.9600000000000004, 2.25, 2.5600000000000005, 2.8900000000000006, 3.24, 3.6100000000000003, 4.0, 4.41, 4.840000000000001, 5.290000000000001, 5.760000000000002, 6.25, 6.760000000000001, 7.290000000000001, 7.840000000000002, 8.410000000000002, 9.0, 9.610000000000001, 10.240000000000002, 10.890000000000002, 11.560000000000002, 12.25, 12.96], \"colorscale\": [[0.0, \"#000004\"], [0.1111111111111111, \"#1b0c41\"], [0.2222222222222222, \"#4a0c6b\"], [0.3333333333333333, \"#781c6d\"], [0.4444444444444444, \"#a52c60\"], [0.5555555555555556, \"#cf4446\"], [0.6666666666666666, \"#ed6925\"], [0.7777777777777778, \"#fb9b06\"], [0.8888888888888888, \"#f7d13d\"], [1.0, \"#fcffa4\"]], \"size\": [50.0, 49.75020826390129, 49.00332889206208, 47.7668244562803, 46.05304970014426, 43.879128094518634, 41.26678074548391, 38.24210936422442, 34.83533546735827, 31.08049841353322, 27.01511529340699, 22.679806071278865, 18.117887723833668, 13.374941431229367, 8.49835714501204, 3.5368600833851453, 1.4599761150644408, 6.442224714776243, 11.360104734654355, 16.16447834317518, 20.80734182735712, 25.24230522999288, 29.42505586276729, 33.31380106399122, 36.86968577706229, 40.05718077734669, 42.84443766844737, 45.20360710085306, 47.11111703343291, 48.547908257479534, 49.49962483002227, 49.95675751366397, 49.914738789737655, 49.37398849544324, 48.33990962897305, 46.822834364539816, 44.83792081670735]}, \"mode\": \"lines+markers\", \"name\": \"k(x)=cos(x)\", \"x\": [0.0, 0.1, 0.2, 0.30000000000000004, 0.4, 0.5, 0.6000000000000001, 0.7000000000000001, 0.8, 0.9, 1.0, 1.1, 1.2000000000000002, 1.3, 1.4000000000000001, 1.5, 1.6, 1.7000000000000002, 1.8, 1.9000000000000001, 2.0, 2.1, 2.2, 2.3000000000000003, 2.4000000000000004, 2.5, 2.6, 2.7, 2.8000000000000003, 2.9000000000000004, 3.0, 3.1, 3.2, 3.3000000000000003, 3.4000000000000004, 3.5, 3.6], \"y\": [1.0, 0.9950041652780258, 0.9800665778412416, 0.955336489125606, 0.9210609940028851, 0.8775825618903728, 0.8253356149096782, 0.7648421872844884, 0.6967067093471654, 0.6216099682706644, 0.5403023058681398, 0.4535961214255773, 0.3623577544766734, 0.26749882862458735, 0.16996714290024081, 0.0707372016677029, -0.029199522301288815, -0.12884449429552486, -0.2272020946930871, -0.3232895668635036, -0.4161468365471424, -0.5048461045998576, -0.5885011172553458, -0.6662760212798244, -0.7373937155412458, -0.8011436155469337, -0.8568887533689473, -0.9040721420170612, -0.9422223406686583, -0.9709581651495907, -0.9899924966004454, -0.9991351502732795, -0.9982947757947531, -0.9874797699088649, -0.9667981925794609, -0.9364566872907963, -0.896758416334147], \"type\": \"scatter\"}], \"name\": \"36\"}, {\"data\": [{\"marker\": {\"color\": [0.0, 0.010000000000000002, 0.04000000000000001, 0.09000000000000002, 0.16000000000000003, 0.25, 0.3600000000000001, 0.4900000000000001, 0.6400000000000001, 0.81, 1.0, 1.2100000000000002, 1.4400000000000004, 1.6900000000000002, 1.9600000000000004, 2.25, 2.5600000000000005, 2.8900000000000006, 3.24, 3.6100000000000003, 4.0, 4.41, 4.840000000000001, 5.290000000000001, 5.760000000000002, 6.25, 6.760000000000001, 7.290000000000001, 7.840000000000002, 8.410000000000002, 9.0, 9.610000000000001, 10.240000000000002, 10.890000000000002, 11.560000000000002, 12.25, 12.96, 13.690000000000001], \"colorscale\": [[0.0, \"#000004\"], [0.1111111111111111, \"#1b0c41\"], [0.2222222222222222, \"#4a0c6b\"], [0.3333333333333333, \"#781c6d\"], [0.4444444444444444, \"#a52c60\"], [0.5555555555555556, \"#cf4446\"], [0.6666666666666666, \"#ed6925\"], [0.7777777777777778, \"#fb9b06\"], [0.8888888888888888, \"#f7d13d\"], [1.0, \"#fcffa4\"]], \"size\": [0.0, 4.991670832341407, 9.933466539753061, 14.77601033306698, 19.470917115432528, 23.971276930210152, 28.232123669751775, 32.21088436188456, 35.86780454497614, 39.16634548137417, 42.073549240394826, 44.56036800307177, 46.60195429836132, 48.17790927085965, 49.27248649942301, 49.874749330202725, 49.978680152075256, 49.58324052262343, 48.69238154390976, 47.315004384370724, 45.46487134128409, 43.160468332443685, 40.4248201909795, 37.285260608836005, 33.77315902755753, 29.923607205197822, 25.775068591073207, 21.368994011691488, 16.749407507795233, 11.9624664606991, 7.0560004029933605, 2.0790331216645246, 2.9187071713790043, 7.887284707162433, 12.777055101341583, 17.53916138448099, 22.126022164742622, 26.49180704542467]}, \"mode\": \"lines+markers\", \"name\": \"h(x)=sin(x)\", \"x\": [0.0, 0.1, 0.2, 0.30000000000000004, 0.4, 0.5, 0.6000000000000001, 0.7000000000000001, 0.8, 0.9, 1.0, 1.1, 1.2000000000000002, 1.3, 1.4000000000000001, 1.5, 1.6, 1.7000000000000002, 1.8, 1.9000000000000001, 2.0, 2.1, 2.2, 2.3000000000000003, 2.4000000000000004, 2.5, 2.6, 2.7, 2.8000000000000003, 2.9000000000000004, 3.0, 3.1, 3.2, 3.3000000000000003, 3.4000000000000004, 3.5, 3.6, 3.7], \"y\": [0.0, 0.09983341664682815, 0.19866933079506122, 0.2955202066613396, 0.3894183423086505, 0.479425538604203, 0.5646424733950355, 0.6442176872376911, 0.7173560908995228, 0.7833269096274834, 0.8414709848078965, 0.8912073600614354, 0.9320390859672264, 0.963558185417193, 0.9854497299884603, 0.9974949866040544, 0.9995736030415051, 0.9916648104524686, 0.9738476308781951, 0.9463000876874145, 0.9092974268256817, 0.8632093666488737, 0.8084964038195901, 0.74570521217672, 0.6754631805511506, 0.5984721441039564, 0.5155013718214642, 0.4273798802338298, 0.33498815015590466, 0.23924932921398198, 0.1411200080598672, 0.04158066243329049, -0.058374143427580086, -0.15774569414324865, -0.25554110202683167, -0.35078322768961984, -0.44252044329485246, -0.5298361409084934], \"type\": \"scatter\"}, {\"marker\": {\"color\": [0.0, 0.010000000000000002, 0.04000000000000001, 0.09000000000000002, 0.16000000000000003, 0.25, 0.3600000000000001, 0.4900000000000001, 0.6400000000000001, 0.81, 1.0, 1.2100000000000002, 1.4400000000000004, 1.6900000000000002, 1.9600000000000004, 2.25, 2.5600000000000005, 2.8900000000000006, 3.24, 3.6100000000000003, 4.0, 4.41, 4.840000000000001, 5.290000000000001, 5.760000000000002, 6.25, 6.760000000000001, 7.290000000000001, 7.840000000000002, 8.410000000000002, 9.0, 9.610000000000001, 10.240000000000002, 10.890000000000002, 11.560000000000002, 12.25, 12.96, 13.690000000000001], \"colorscale\": [[0.0, \"#000004\"], [0.1111111111111111, \"#1b0c41\"], [0.2222222222222222, \"#4a0c6b\"], [0.3333333333333333, \"#781c6d\"], [0.4444444444444444, \"#a52c60\"], [0.5555555555555556, \"#cf4446\"], [0.6666666666666666, \"#ed6925\"], [0.7777777777777778, \"#fb9b06\"], [0.8888888888888888, \"#f7d13d\"], [1.0, \"#fcffa4\"]], \"size\": [50.0, 49.75020826390129, 49.00332889206208, 47.7668244562803, 46.05304970014426, 43.879128094518634, 41.26678074548391, 38.24210936422442, 34.83533546735827, 31.08049841353322, 27.01511529340699, 22.679806071278865, 18.117887723833668, 13.374941431229367, 8.49835714501204, 3.5368600833851453, 1.4599761150644408, 6.442224714776243, 11.360104734654355, 16.16447834317518, 20.80734182735712, 25.24230522999288, 29.42505586276729, 33.31380106399122, 36.86968577706229, 40.05718077734669, 42.84443766844737, 45.20360710085306, 47.11111703343291, 48.547908257479534, 49.49962483002227, 49.95675751366397, 49.914738789737655, 49.37398849544324, 48.33990962897305, 46.822834364539816, 44.83792081670735, 42.4050015855204]}, \"mode\": \"lines+markers\", \"name\": \"k(x)=cos(x)\", \"x\": [0.0, 0.1, 0.2, 0.30000000000000004, 0.4, 0.5, 0.6000000000000001, 0.7000000000000001, 0.8, 0.9, 1.0, 1.1, 1.2000000000000002, 1.3, 1.4000000000000001, 1.5, 1.6, 1.7000000000000002, 1.8, 1.9000000000000001, 2.0, 2.1, 2.2, 2.3000000000000003, 2.4000000000000004, 2.5, 2.6, 2.7, 2.8000000000000003, 2.9000000000000004, 3.0, 3.1, 3.2, 3.3000000000000003, 3.4000000000000004, 3.5, 3.6, 3.7], \"y\": [1.0, 0.9950041652780258, 0.9800665778412416, 0.955336489125606, 0.9210609940028851, 0.8775825618903728, 0.8253356149096782, 0.7648421872844884, 0.6967067093471654, 0.6216099682706644, 0.5403023058681398, 0.4535961214255773, 0.3623577544766734, 0.26749882862458735, 0.16996714290024081, 0.0707372016677029, -0.029199522301288815, -0.12884449429552486, -0.2272020946930871, -0.3232895668635036, -0.4161468365471424, -0.5048461045998576, -0.5885011172553458, -0.6662760212798244, -0.7373937155412458, -0.8011436155469337, -0.8568887533689473, -0.9040721420170612, -0.9422223406686583, -0.9709581651495907, -0.9899924966004454, -0.9991351502732795, -0.9982947757947531, -0.9874797699088649, -0.9667981925794609, -0.9364566872907963, -0.896758416334147, -0.848100031710408], \"type\": \"scatter\"}], \"name\": \"37\"}, {\"data\": [{\"marker\": {\"color\": [0.0, 0.010000000000000002, 0.04000000000000001, 0.09000000000000002, 0.16000000000000003, 0.25, 0.3600000000000001, 0.4900000000000001, 0.6400000000000001, 0.81, 1.0, 1.2100000000000002, 1.4400000000000004, 1.6900000000000002, 1.9600000000000004, 2.25, 2.5600000000000005, 2.8900000000000006, 3.24, 3.6100000000000003, 4.0, 4.41, 4.840000000000001, 5.290000000000001, 5.760000000000002, 6.25, 6.760000000000001, 7.290000000000001, 7.840000000000002, 8.410000000000002, 9.0, 9.610000000000001, 10.240000000000002, 10.890000000000002, 11.560000000000002, 12.25, 12.96, 13.690000000000001, 14.440000000000001], \"colorscale\": [[0.0, \"#000004\"], [0.1111111111111111, \"#1b0c41\"], [0.2222222222222222, \"#4a0c6b\"], [0.3333333333333333, \"#781c6d\"], [0.4444444444444444, \"#a52c60\"], [0.5555555555555556, \"#cf4446\"], [0.6666666666666666, \"#ed6925\"], [0.7777777777777778, \"#fb9b06\"], [0.8888888888888888, \"#f7d13d\"], [1.0, \"#fcffa4\"]], \"size\": [0.0, 4.991670832341407, 9.933466539753061, 14.77601033306698, 19.470917115432528, 23.971276930210152, 28.232123669751775, 32.21088436188456, 35.86780454497614, 39.16634548137417, 42.073549240394826, 44.56036800307177, 46.60195429836132, 48.17790927085965, 49.27248649942301, 49.874749330202725, 49.978680152075256, 49.58324052262343, 48.69238154390976, 47.315004384370724, 45.46487134128409, 43.160468332443685, 40.4248201909795, 37.285260608836005, 33.77315902755753, 29.923607205197822, 25.775068591073207, 21.368994011691488, 16.749407507795233, 11.9624664606991, 7.0560004029933605, 2.0790331216645246, 2.9187071713790043, 7.887284707162433, 12.777055101341583, 17.53916138448099, 22.126022164742622, 26.49180704542467, 30.592894547135963]}, \"mode\": \"lines+markers\", \"name\": \"h(x)=sin(x)\", \"x\": [0.0, 0.1, 0.2, 0.30000000000000004, 0.4, 0.5, 0.6000000000000001, 0.7000000000000001, 0.8, 0.9, 1.0, 1.1, 1.2000000000000002, 1.3, 1.4000000000000001, 1.5, 1.6, 1.7000000000000002, 1.8, 1.9000000000000001, 2.0, 2.1, 2.2, 2.3000000000000003, 2.4000000000000004, 2.5, 2.6, 2.7, 2.8000000000000003, 2.9000000000000004, 3.0, 3.1, 3.2, 3.3000000000000003, 3.4000000000000004, 3.5, 3.6, 3.7, 3.8000000000000003], \"y\": [0.0, 0.09983341664682815, 0.19866933079506122, 0.2955202066613396, 0.3894183423086505, 0.479425538604203, 0.5646424733950355, 0.6442176872376911, 0.7173560908995228, 0.7833269096274834, 0.8414709848078965, 0.8912073600614354, 0.9320390859672264, 0.963558185417193, 0.9854497299884603, 0.9974949866040544, 0.9995736030415051, 0.9916648104524686, 0.9738476308781951, 0.9463000876874145, 0.9092974268256817, 0.8632093666488737, 0.8084964038195901, 0.74570521217672, 0.6754631805511506, 0.5984721441039564, 0.5155013718214642, 0.4273798802338298, 0.33498815015590466, 0.23924932921398198, 0.1411200080598672, 0.04158066243329049, -0.058374143427580086, -0.15774569414324865, -0.25554110202683167, -0.35078322768961984, -0.44252044329485246, -0.5298361409084934, -0.6118578909427193], \"type\": \"scatter\"}, {\"marker\": {\"color\": [0.0, 0.010000000000000002, 0.04000000000000001, 0.09000000000000002, 0.16000000000000003, 0.25, 0.3600000000000001, 0.4900000000000001, 0.6400000000000001, 0.81, 1.0, 1.2100000000000002, 1.4400000000000004, 1.6900000000000002, 1.9600000000000004, 2.25, 2.5600000000000005, 2.8900000000000006, 3.24, 3.6100000000000003, 4.0, 4.41, 4.840000000000001, 5.290000000000001, 5.760000000000002, 6.25, 6.760000000000001, 7.290000000000001, 7.840000000000002, 8.410000000000002, 9.0, 9.610000000000001, 10.240000000000002, 10.890000000000002, 11.560000000000002, 12.25, 12.96, 13.690000000000001, 14.440000000000001], \"colorscale\": [[0.0, \"#000004\"], [0.1111111111111111, \"#1b0c41\"], [0.2222222222222222, \"#4a0c6b\"], [0.3333333333333333, \"#781c6d\"], [0.4444444444444444, \"#a52c60\"], [0.5555555555555556, \"#cf4446\"], [0.6666666666666666, \"#ed6925\"], [0.7777777777777778, \"#fb9b06\"], [0.8888888888888888, \"#f7d13d\"], [1.0, \"#fcffa4\"]], \"size\": [50.0, 49.75020826390129, 49.00332889206208, 47.7668244562803, 46.05304970014426, 43.879128094518634, 41.26678074548391, 38.24210936422442, 34.83533546735827, 31.08049841353322, 27.01511529340699, 22.679806071278865, 18.117887723833668, 13.374941431229367, 8.49835714501204, 3.5368600833851453, 1.4599761150644408, 6.442224714776243, 11.360104734654355, 16.16447834317518, 20.80734182735712, 25.24230522999288, 29.42505586276729, 33.31380106399122, 36.86968577706229, 40.05718077734669, 42.84443766844737, 45.20360710085306, 47.11111703343291, 48.547908257479534, 49.49962483002227, 49.95675751366397, 49.914738789737655, 49.37398849544324, 48.33990962897305, 46.822834364539816, 44.83792081670735, 42.4050015855204, 39.54838559572082]}, \"mode\": \"lines+markers\", \"name\": \"k(x)=cos(x)\", \"x\": [0.0, 0.1, 0.2, 0.30000000000000004, 0.4, 0.5, 0.6000000000000001, 0.7000000000000001, 0.8, 0.9, 1.0, 1.1, 1.2000000000000002, 1.3, 1.4000000000000001, 1.5, 1.6, 1.7000000000000002, 1.8, 1.9000000000000001, 2.0, 2.1, 2.2, 2.3000000000000003, 2.4000000000000004, 2.5, 2.6, 2.7, 2.8000000000000003, 2.9000000000000004, 3.0, 3.1, 3.2, 3.3000000000000003, 3.4000000000000004, 3.5, 3.6, 3.7, 3.8000000000000003], \"y\": [1.0, 0.9950041652780258, 0.9800665778412416, 0.955336489125606, 0.9210609940028851, 0.8775825618903728, 0.8253356149096782, 0.7648421872844884, 0.6967067093471654, 0.6216099682706644, 0.5403023058681398, 0.4535961214255773, 0.3623577544766734, 0.26749882862458735, 0.16996714290024081, 0.0707372016677029, -0.029199522301288815, -0.12884449429552486, -0.2272020946930871, -0.3232895668635036, -0.4161468365471424, -0.5048461045998576, -0.5885011172553458, -0.6662760212798244, -0.7373937155412458, -0.8011436155469337, -0.8568887533689473, -0.9040721420170612, -0.9422223406686583, -0.9709581651495907, -0.9899924966004454, -0.9991351502732795, -0.9982947757947531, -0.9874797699088649, -0.9667981925794609, -0.9364566872907963, -0.896758416334147, -0.848100031710408, -0.7909677119144165], \"type\": \"scatter\"}], \"name\": \"38\"}, {\"data\": [{\"marker\": {\"color\": [0.0, 0.010000000000000002, 0.04000000000000001, 0.09000000000000002, 0.16000000000000003, 0.25, 0.3600000000000001, 0.4900000000000001, 0.6400000000000001, 0.81, 1.0, 1.2100000000000002, 1.4400000000000004, 1.6900000000000002, 1.9600000000000004, 2.25, 2.5600000000000005, 2.8900000000000006, 3.24, 3.6100000000000003, 4.0, 4.41, 4.840000000000001, 5.290000000000001, 5.760000000000002, 6.25, 6.760000000000001, 7.290000000000001, 7.840000000000002, 8.410000000000002, 9.0, 9.610000000000001, 10.240000000000002, 10.890000000000002, 11.560000000000002, 12.25, 12.96, 13.690000000000001, 14.440000000000001, 15.210000000000003], \"colorscale\": [[0.0, \"#000004\"], [0.1111111111111111, \"#1b0c41\"], [0.2222222222222222, \"#4a0c6b\"], [0.3333333333333333, \"#781c6d\"], [0.4444444444444444, \"#a52c60\"], [0.5555555555555556, \"#cf4446\"], [0.6666666666666666, \"#ed6925\"], [0.7777777777777778, \"#fb9b06\"], [0.8888888888888888, \"#f7d13d\"], [1.0, \"#fcffa4\"]], \"size\": [0.0, 4.991670832341407, 9.933466539753061, 14.77601033306698, 19.470917115432528, 23.971276930210152, 28.232123669751775, 32.21088436188456, 35.86780454497614, 39.16634548137417, 42.073549240394826, 44.56036800307177, 46.60195429836132, 48.17790927085965, 49.27248649942301, 49.874749330202725, 49.978680152075256, 49.58324052262343, 48.69238154390976, 47.315004384370724, 45.46487134128409, 43.160468332443685, 40.4248201909795, 37.285260608836005, 33.77315902755753, 29.923607205197822, 25.775068591073207, 21.368994011691488, 16.749407507795233, 11.9624664606991, 7.0560004029933605, 2.0790331216645246, 2.9187071713790043, 7.887284707162433, 12.777055101341583, 17.53916138448099, 22.126022164742622, 26.49180704542467, 30.592894547135963, 34.388307959198706]}, \"mode\": \"lines+markers\", \"name\": \"h(x)=sin(x)\", \"x\": [0.0, 0.1, 0.2, 0.30000000000000004, 0.4, 0.5, 0.6000000000000001, 0.7000000000000001, 0.8, 0.9, 1.0, 1.1, 1.2000000000000002, 1.3, 1.4000000000000001, 1.5, 1.6, 1.7000000000000002, 1.8, 1.9000000000000001, 2.0, 2.1, 2.2, 2.3000000000000003, 2.4000000000000004, 2.5, 2.6, 2.7, 2.8000000000000003, 2.9000000000000004, 3.0, 3.1, 3.2, 3.3000000000000003, 3.4000000000000004, 3.5, 3.6, 3.7, 3.8000000000000003, 3.9000000000000004], \"y\": [0.0, 0.09983341664682815, 0.19866933079506122, 0.2955202066613396, 0.3894183423086505, 0.479425538604203, 0.5646424733950355, 0.6442176872376911, 0.7173560908995228, 0.7833269096274834, 0.8414709848078965, 0.8912073600614354, 0.9320390859672264, 0.963558185417193, 0.9854497299884603, 0.9974949866040544, 0.9995736030415051, 0.9916648104524686, 0.9738476308781951, 0.9463000876874145, 0.9092974268256817, 0.8632093666488737, 0.8084964038195901, 0.74570521217672, 0.6754631805511506, 0.5984721441039564, 0.5155013718214642, 0.4273798802338298, 0.33498815015590466, 0.23924932921398198, 0.1411200080598672, 0.04158066243329049, -0.058374143427580086, -0.15774569414324865, -0.25554110202683167, -0.35078322768961984, -0.44252044329485246, -0.5298361409084934, -0.6118578909427193, -0.6877661591839741], \"type\": \"scatter\"}, {\"marker\": {\"color\": [0.0, 0.010000000000000002, 0.04000000000000001, 0.09000000000000002, 0.16000000000000003, 0.25, 0.3600000000000001, 0.4900000000000001, 0.6400000000000001, 0.81, 1.0, 1.2100000000000002, 1.4400000000000004, 1.6900000000000002, 1.9600000000000004, 2.25, 2.5600000000000005, 2.8900000000000006, 3.24, 3.6100000000000003, 4.0, 4.41, 4.840000000000001, 5.290000000000001, 5.760000000000002, 6.25, 6.760000000000001, 7.290000000000001, 7.840000000000002, 8.410000000000002, 9.0, 9.610000000000001, 10.240000000000002, 10.890000000000002, 11.560000000000002, 12.25, 12.96, 13.690000000000001, 14.440000000000001, 15.210000000000003], \"colorscale\": [[0.0, \"#000004\"], [0.1111111111111111, \"#1b0c41\"], [0.2222222222222222, \"#4a0c6b\"], [0.3333333333333333, \"#781c6d\"], [0.4444444444444444, \"#a52c60\"], [0.5555555555555556, \"#cf4446\"], [0.6666666666666666, \"#ed6925\"], [0.7777777777777778, \"#fb9b06\"], [0.8888888888888888, \"#f7d13d\"], [1.0, \"#fcffa4\"]], \"size\": [50.0, 49.75020826390129, 49.00332889206208, 47.7668244562803, 46.05304970014426, 43.879128094518634, 41.26678074548391, 38.24210936422442, 34.83533546735827, 31.08049841353322, 27.01511529340699, 22.679806071278865, 18.117887723833668, 13.374941431229367, 8.49835714501204, 3.5368600833851453, 1.4599761150644408, 6.442224714776243, 11.360104734654355, 16.16447834317518, 20.80734182735712, 25.24230522999288, 29.42505586276729, 33.31380106399122, 36.86968577706229, 40.05718077734669, 42.84443766844737, 45.20360710085306, 47.11111703343291, 48.547908257479534, 49.49962483002227, 49.95675751366397, 49.914738789737655, 49.37398849544324, 48.33990962897305, 46.822834364539816, 44.83792081670735, 42.4050015855204, 39.54838559572082, 36.29661521000699]}, \"mode\": \"lines+markers\", \"name\": \"k(x)=cos(x)\", \"x\": [0.0, 0.1, 0.2, 0.30000000000000004, 0.4, 0.5, 0.6000000000000001, 0.7000000000000001, 0.8, 0.9, 1.0, 1.1, 1.2000000000000002, 1.3, 1.4000000000000001, 1.5, 1.6, 1.7000000000000002, 1.8, 1.9000000000000001, 2.0, 2.1, 2.2, 2.3000000000000003, 2.4000000000000004, 2.5, 2.6, 2.7, 2.8000000000000003, 2.9000000000000004, 3.0, 3.1, 3.2, 3.3000000000000003, 3.4000000000000004, 3.5, 3.6, 3.7, 3.8000000000000003, 3.9000000000000004], \"y\": [1.0, 0.9950041652780258, 0.9800665778412416, 0.955336489125606, 0.9210609940028851, 0.8775825618903728, 0.8253356149096782, 0.7648421872844884, 0.6967067093471654, 0.6216099682706644, 0.5403023058681398, 0.4535961214255773, 0.3623577544766734, 0.26749882862458735, 0.16996714290024081, 0.0707372016677029, -0.029199522301288815, -0.12884449429552486, -0.2272020946930871, -0.3232895668635036, -0.4161468365471424, -0.5048461045998576, -0.5885011172553458, -0.6662760212798244, -0.7373937155412458, -0.8011436155469337, -0.8568887533689473, -0.9040721420170612, -0.9422223406686583, -0.9709581651495907, -0.9899924966004454, -0.9991351502732795, -0.9982947757947531, -0.9874797699088649, -0.9667981925794609, -0.9364566872907963, -0.896758416334147, -0.848100031710408, -0.7909677119144165, -0.7259323042001399], \"type\": \"scatter\"}], \"name\": \"39\"}, {\"data\": [{\"marker\": {\"color\": [0.0, 0.010000000000000002, 0.04000000000000001, 0.09000000000000002, 0.16000000000000003, 0.25, 0.3600000000000001, 0.4900000000000001, 0.6400000000000001, 0.81, 1.0, 1.2100000000000002, 1.4400000000000004, 1.6900000000000002, 1.9600000000000004, 2.25, 2.5600000000000005, 2.8900000000000006, 3.24, 3.6100000000000003, 4.0, 4.41, 4.840000000000001, 5.290000000000001, 5.760000000000002, 6.25, 6.760000000000001, 7.290000000000001, 7.840000000000002, 8.410000000000002, 9.0, 9.610000000000001, 10.240000000000002, 10.890000000000002, 11.560000000000002, 12.25, 12.96, 13.690000000000001, 14.440000000000001, 15.210000000000003, 16.0], \"colorscale\": [[0.0, \"#000004\"], [0.1111111111111111, \"#1b0c41\"], [0.2222222222222222, \"#4a0c6b\"], [0.3333333333333333, \"#781c6d\"], [0.4444444444444444, \"#a52c60\"], [0.5555555555555556, \"#cf4446\"], [0.6666666666666666, \"#ed6925\"], [0.7777777777777778, \"#fb9b06\"], [0.8888888888888888, \"#f7d13d\"], [1.0, \"#fcffa4\"]], \"size\": [0.0, 4.991670832341407, 9.933466539753061, 14.77601033306698, 19.470917115432528, 23.971276930210152, 28.232123669751775, 32.21088436188456, 35.86780454497614, 39.16634548137417, 42.073549240394826, 44.56036800307177, 46.60195429836132, 48.17790927085965, 49.27248649942301, 49.874749330202725, 49.978680152075256, 49.58324052262343, 48.69238154390976, 47.315004384370724, 45.46487134128409, 43.160468332443685, 40.4248201909795, 37.285260608836005, 33.77315902755753, 29.923607205197822, 25.775068591073207, 21.368994011691488, 16.749407507795233, 11.9624664606991, 7.0560004029933605, 2.0790331216645246, 2.9187071713790043, 7.887284707162433, 12.777055101341583, 17.53916138448099, 22.126022164742622, 26.49180704542467, 30.592894547135963, 34.388307959198706, 37.84012476539641]}, \"mode\": \"lines+markers\", \"name\": \"h(x)=sin(x)\", \"x\": [0.0, 0.1, 0.2, 0.30000000000000004, 0.4, 0.5, 0.6000000000000001, 0.7000000000000001, 0.8, 0.9, 1.0, 1.1, 1.2000000000000002, 1.3, 1.4000000000000001, 1.5, 1.6, 1.7000000000000002, 1.8, 1.9000000000000001, 2.0, 2.1, 2.2, 2.3000000000000003, 2.4000000000000004, 2.5, 2.6, 2.7, 2.8000000000000003, 2.9000000000000004, 3.0, 3.1, 3.2, 3.3000000000000003, 3.4000000000000004, 3.5, 3.6, 3.7, 3.8000000000000003, 3.9000000000000004, 4.0], \"y\": [0.0, 0.09983341664682815, 0.19866933079506122, 0.2955202066613396, 0.3894183423086505, 0.479425538604203, 0.5646424733950355, 0.6442176872376911, 0.7173560908995228, 0.7833269096274834, 0.8414709848078965, 0.8912073600614354, 0.9320390859672264, 0.963558185417193, 0.9854497299884603, 0.9974949866040544, 0.9995736030415051, 0.9916648104524686, 0.9738476308781951, 0.9463000876874145, 0.9092974268256817, 0.8632093666488737, 0.8084964038195901, 0.74570521217672, 0.6754631805511506, 0.5984721441039564, 0.5155013718214642, 0.4273798802338298, 0.33498815015590466, 0.23924932921398198, 0.1411200080598672, 0.04158066243329049, -0.058374143427580086, -0.15774569414324865, -0.25554110202683167, -0.35078322768961984, -0.44252044329485246, -0.5298361409084934, -0.6118578909427193, -0.6877661591839741, -0.7568024953079282], \"type\": \"scatter\"}, {\"marker\": {\"color\": [0.0, 0.010000000000000002, 0.04000000000000001, 0.09000000000000002, 0.16000000000000003, 0.25, 0.3600000000000001, 0.4900000000000001, 0.6400000000000001, 0.81, 1.0, 1.2100000000000002, 1.4400000000000004, 1.6900000000000002, 1.9600000000000004, 2.25, 2.5600000000000005, 2.8900000000000006, 3.24, 3.6100000000000003, 4.0, 4.41, 4.840000000000001, 5.290000000000001, 5.760000000000002, 6.25, 6.760000000000001, 7.290000000000001, 7.840000000000002, 8.410000000000002, 9.0, 9.610000000000001, 10.240000000000002, 10.890000000000002, 11.560000000000002, 12.25, 12.96, 13.690000000000001, 14.440000000000001, 15.210000000000003, 16.0], \"colorscale\": [[0.0, \"#000004\"], [0.1111111111111111, \"#1b0c41\"], [0.2222222222222222, \"#4a0c6b\"], [0.3333333333333333, \"#781c6d\"], [0.4444444444444444, \"#a52c60\"], [0.5555555555555556, \"#cf4446\"], [0.6666666666666666, \"#ed6925\"], [0.7777777777777778, \"#fb9b06\"], [0.8888888888888888, \"#f7d13d\"], [1.0, \"#fcffa4\"]], \"size\": [50.0, 49.75020826390129, 49.00332889206208, 47.7668244562803, 46.05304970014426, 43.879128094518634, 41.26678074548391, 38.24210936422442, 34.83533546735827, 31.08049841353322, 27.01511529340699, 22.679806071278865, 18.117887723833668, 13.374941431229367, 8.49835714501204, 3.5368600833851453, 1.4599761150644408, 6.442224714776243, 11.360104734654355, 16.16447834317518, 20.80734182735712, 25.24230522999288, 29.42505586276729, 33.31380106399122, 36.86968577706229, 40.05718077734669, 42.84443766844737, 45.20360710085306, 47.11111703343291, 48.547908257479534, 49.49962483002227, 49.95675751366397, 49.914738789737655, 49.37398849544324, 48.33990962897305, 46.822834364539816, 44.83792081670735, 42.4050015855204, 39.54838559572082, 36.29661521000699, 32.6821810431806]}, \"mode\": \"lines+markers\", \"name\": \"k(x)=cos(x)\", \"x\": [0.0, 0.1, 0.2, 0.30000000000000004, 0.4, 0.5, 0.6000000000000001, 0.7000000000000001, 0.8, 0.9, 1.0, 1.1, 1.2000000000000002, 1.3, 1.4000000000000001, 1.5, 1.6, 1.7000000000000002, 1.8, 1.9000000000000001, 2.0, 2.1, 2.2, 2.3000000000000003, 2.4000000000000004, 2.5, 2.6, 2.7, 2.8000000000000003, 2.9000000000000004, 3.0, 3.1, 3.2, 3.3000000000000003, 3.4000000000000004, 3.5, 3.6, 3.7, 3.8000000000000003, 3.9000000000000004, 4.0], \"y\": [1.0, 0.9950041652780258, 0.9800665778412416, 0.955336489125606, 0.9210609940028851, 0.8775825618903728, 0.8253356149096782, 0.7648421872844884, 0.6967067093471654, 0.6216099682706644, 0.5403023058681398, 0.4535961214255773, 0.3623577544766734, 0.26749882862458735, 0.16996714290024081, 0.0707372016677029, -0.029199522301288815, -0.12884449429552486, -0.2272020946930871, -0.3232895668635036, -0.4161468365471424, -0.5048461045998576, -0.5885011172553458, -0.6662760212798244, -0.7373937155412458, -0.8011436155469337, -0.8568887533689473, -0.9040721420170612, -0.9422223406686583, -0.9709581651495907, -0.9899924966004454, -0.9991351502732795, -0.9982947757947531, -0.9874797699088649, -0.9667981925794609, -0.9364566872907963, -0.896758416334147, -0.848100031710408, -0.7909677119144165, -0.7259323042001399, -0.6536436208636119], \"type\": \"scatter\"}], \"name\": \"40\"}, {\"data\": [{\"marker\": {\"color\": [0.0, 0.010000000000000002, 0.04000000000000001, 0.09000000000000002, 0.16000000000000003, 0.25, 0.3600000000000001, 0.4900000000000001, 0.6400000000000001, 0.81, 1.0, 1.2100000000000002, 1.4400000000000004, 1.6900000000000002, 1.9600000000000004, 2.25, 2.5600000000000005, 2.8900000000000006, 3.24, 3.6100000000000003, 4.0, 4.41, 4.840000000000001, 5.290000000000001, 5.760000000000002, 6.25, 6.760000000000001, 7.290000000000001, 7.840000000000002, 8.410000000000002, 9.0, 9.610000000000001, 10.240000000000002, 10.890000000000002, 11.560000000000002, 12.25, 12.96, 13.690000000000001, 14.440000000000001, 15.210000000000003, 16.0, 16.810000000000006], \"colorscale\": [[0.0, \"#000004\"], [0.1111111111111111, \"#1b0c41\"], [0.2222222222222222, \"#4a0c6b\"], [0.3333333333333333, \"#781c6d\"], [0.4444444444444444, \"#a52c60\"], [0.5555555555555556, \"#cf4446\"], [0.6666666666666666, \"#ed6925\"], [0.7777777777777778, \"#fb9b06\"], [0.8888888888888888, \"#f7d13d\"], [1.0, \"#fcffa4\"]], \"size\": [0.0, 4.991670832341407, 9.933466539753061, 14.77601033306698, 19.470917115432528, 23.971276930210152, 28.232123669751775, 32.21088436188456, 35.86780454497614, 39.16634548137417, 42.073549240394826, 44.56036800307177, 46.60195429836132, 48.17790927085965, 49.27248649942301, 49.874749330202725, 49.978680152075256, 49.58324052262343, 48.69238154390976, 47.315004384370724, 45.46487134128409, 43.160468332443685, 40.4248201909795, 37.285260608836005, 33.77315902755753, 29.923607205197822, 25.775068591073207, 21.368994011691488, 16.749407507795233, 11.9624664606991, 7.0560004029933605, 2.0790331216645246, 2.9187071713790043, 7.887284707162433, 12.777055101341583, 17.53916138448099, 22.126022164742622, 26.49180704542467, 30.592894547135963, 34.388307959198706, 37.84012476539641, 40.91385555322054]}, \"mode\": \"lines+markers\", \"name\": \"h(x)=sin(x)\", \"x\": [0.0, 0.1, 0.2, 0.30000000000000004, 0.4, 0.5, 0.6000000000000001, 0.7000000000000001, 0.8, 0.9, 1.0, 1.1, 1.2000000000000002, 1.3, 1.4000000000000001, 1.5, 1.6, 1.7000000000000002, 1.8, 1.9000000000000001, 2.0, 2.1, 2.2, 2.3000000000000003, 2.4000000000000004, 2.5, 2.6, 2.7, 2.8000000000000003, 2.9000000000000004, 3.0, 3.1, 3.2, 3.3000000000000003, 3.4000000000000004, 3.5, 3.6, 3.7, 3.8000000000000003, 3.9000000000000004, 4.0, 4.1000000000000005], \"y\": [0.0, 0.09983341664682815, 0.19866933079506122, 0.2955202066613396, 0.3894183423086505, 0.479425538604203, 0.5646424733950355, 0.6442176872376911, 0.7173560908995228, 0.7833269096274834, 0.8414709848078965, 0.8912073600614354, 0.9320390859672264, 0.963558185417193, 0.9854497299884603, 0.9974949866040544, 0.9995736030415051, 0.9916648104524686, 0.9738476308781951, 0.9463000876874145, 0.9092974268256817, 0.8632093666488737, 0.8084964038195901, 0.74570521217672, 0.6754631805511506, 0.5984721441039564, 0.5155013718214642, 0.4273798802338298, 0.33498815015590466, 0.23924932921398198, 0.1411200080598672, 0.04158066243329049, -0.058374143427580086, -0.15774569414324865, -0.25554110202683167, -0.35078322768961984, -0.44252044329485246, -0.5298361409084934, -0.6118578909427193, -0.6877661591839741, -0.7568024953079282, -0.8182771110644108], \"type\": \"scatter\"}, {\"marker\": {\"color\": [0.0, 0.010000000000000002, 0.04000000000000001, 0.09000000000000002, 0.16000000000000003, 0.25, 0.3600000000000001, 0.4900000000000001, 0.6400000000000001, 0.81, 1.0, 1.2100000000000002, 1.4400000000000004, 1.6900000000000002, 1.9600000000000004, 2.25, 2.5600000000000005, 2.8900000000000006, 3.24, 3.6100000000000003, 4.0, 4.41, 4.840000000000001, 5.290000000000001, 5.760000000000002, 6.25, 6.760000000000001, 7.290000000000001, 7.840000000000002, 8.410000000000002, 9.0, 9.610000000000001, 10.240000000000002, 10.890000000000002, 11.560000000000002, 12.25, 12.96, 13.690000000000001, 14.440000000000001, 15.210000000000003, 16.0, 16.810000000000006], \"colorscale\": [[0.0, \"#000004\"], [0.1111111111111111, \"#1b0c41\"], [0.2222222222222222, \"#4a0c6b\"], [0.3333333333333333, \"#781c6d\"], [0.4444444444444444, \"#a52c60\"], [0.5555555555555556, \"#cf4446\"], [0.6666666666666666, \"#ed6925\"], [0.7777777777777778, \"#fb9b06\"], [0.8888888888888888, \"#f7d13d\"], [1.0, \"#fcffa4\"]], \"size\": [50.0, 49.75020826390129, 49.00332889206208, 47.7668244562803, 46.05304970014426, 43.879128094518634, 41.26678074548391, 38.24210936422442, 34.83533546735827, 31.08049841353322, 27.01511529340699, 22.679806071278865, 18.117887723833668, 13.374941431229367, 8.49835714501204, 3.5368600833851453, 1.4599761150644408, 6.442224714776243, 11.360104734654355, 16.16447834317518, 20.80734182735712, 25.24230522999288, 29.42505586276729, 33.31380106399122, 36.86968577706229, 40.05718077734669, 42.84443766844737, 45.20360710085306, 47.11111703343291, 48.547908257479534, 49.49962483002227, 49.95675751366397, 49.914738789737655, 49.37398849544324, 48.33990962897305, 46.822834364539816, 44.83792081670735, 42.4050015855204, 39.54838559572082, 36.29661521000699, 32.6821810431806, 28.741197326663425]}, \"mode\": \"lines+markers\", \"name\": \"k(x)=cos(x)\", \"x\": [0.0, 0.1, 0.2, 0.30000000000000004, 0.4, 0.5, 0.6000000000000001, 0.7000000000000001, 0.8, 0.9, 1.0, 1.1, 1.2000000000000002, 1.3, 1.4000000000000001, 1.5, 1.6, 1.7000000000000002, 1.8, 1.9000000000000001, 2.0, 2.1, 2.2, 2.3000000000000003, 2.4000000000000004, 2.5, 2.6, 2.7, 2.8000000000000003, 2.9000000000000004, 3.0, 3.1, 3.2, 3.3000000000000003, 3.4000000000000004, 3.5, 3.6, 3.7, 3.8000000000000003, 3.9000000000000004, 4.0, 4.1000000000000005], \"y\": [1.0, 0.9950041652780258, 0.9800665778412416, 0.955336489125606, 0.9210609940028851, 0.8775825618903728, 0.8253356149096782, 0.7648421872844884, 0.6967067093471654, 0.6216099682706644, 0.5403023058681398, 0.4535961214255773, 0.3623577544766734, 0.26749882862458735, 0.16996714290024081, 0.0707372016677029, -0.029199522301288815, -0.12884449429552486, -0.2272020946930871, -0.3232895668635036, -0.4161468365471424, -0.5048461045998576, -0.5885011172553458, -0.6662760212798244, -0.7373937155412458, -0.8011436155469337, -0.8568887533689473, -0.9040721420170612, -0.9422223406686583, -0.9709581651495907, -0.9899924966004454, -0.9991351502732795, -0.9982947757947531, -0.9874797699088649, -0.9667981925794609, -0.9364566872907963, -0.896758416334147, -0.848100031710408, -0.7909677119144165, -0.7259323042001399, -0.6536436208636119, -0.5748239465332685], \"type\": \"scatter\"}], \"name\": \"41\"}, {\"data\": [{\"marker\": {\"color\": [0.0, 0.010000000000000002, 0.04000000000000001, 0.09000000000000002, 0.16000000000000003, 0.25, 0.3600000000000001, 0.4900000000000001, 0.6400000000000001, 0.81, 1.0, 1.2100000000000002, 1.4400000000000004, 1.6900000000000002, 1.9600000000000004, 2.25, 2.5600000000000005, 2.8900000000000006, 3.24, 3.6100000000000003, 4.0, 4.41, 4.840000000000001, 5.290000000000001, 5.760000000000002, 6.25, 6.760000000000001, 7.290000000000001, 7.840000000000002, 8.410000000000002, 9.0, 9.610000000000001, 10.240000000000002, 10.890000000000002, 11.560000000000002, 12.25, 12.96, 13.690000000000001, 14.440000000000001, 15.210000000000003, 16.0, 16.810000000000006, 17.64], \"colorscale\": [[0.0, \"#000004\"], [0.1111111111111111, \"#1b0c41\"], [0.2222222222222222, \"#4a0c6b\"], [0.3333333333333333, \"#781c6d\"], [0.4444444444444444, \"#a52c60\"], [0.5555555555555556, \"#cf4446\"], [0.6666666666666666, \"#ed6925\"], [0.7777777777777778, \"#fb9b06\"], [0.8888888888888888, \"#f7d13d\"], [1.0, \"#fcffa4\"]], \"size\": [0.0, 4.991670832341407, 9.933466539753061, 14.77601033306698, 19.470917115432528, 23.971276930210152, 28.232123669751775, 32.21088436188456, 35.86780454497614, 39.16634548137417, 42.073549240394826, 44.56036800307177, 46.60195429836132, 48.17790927085965, 49.27248649942301, 49.874749330202725, 49.978680152075256, 49.58324052262343, 48.69238154390976, 47.315004384370724, 45.46487134128409, 43.160468332443685, 40.4248201909795, 37.285260608836005, 33.77315902755753, 29.923607205197822, 25.775068591073207, 21.368994011691488, 16.749407507795233, 11.9624664606991, 7.0560004029933605, 2.0790331216645246, 2.9187071713790043, 7.887284707162433, 12.777055101341583, 17.53916138448099, 22.126022164742622, 26.49180704542467, 30.592894547135963, 34.388307959198706, 37.84012476539641, 40.91385555322054, 43.57878862067941]}, \"mode\": \"lines+markers\", \"name\": \"h(x)=sin(x)\", \"x\": [0.0, 0.1, 0.2, 0.30000000000000004, 0.4, 0.5, 0.6000000000000001, 0.7000000000000001, 0.8, 0.9, 1.0, 1.1, 1.2000000000000002, 1.3, 1.4000000000000001, 1.5, 1.6, 1.7000000000000002, 1.8, 1.9000000000000001, 2.0, 2.1, 2.2, 2.3000000000000003, 2.4000000000000004, 2.5, 2.6, 2.7, 2.8000000000000003, 2.9000000000000004, 3.0, 3.1, 3.2, 3.3000000000000003, 3.4000000000000004, 3.5, 3.6, 3.7, 3.8000000000000003, 3.9000000000000004, 4.0, 4.1000000000000005, 4.2], \"y\": [0.0, 0.09983341664682815, 0.19866933079506122, 0.2955202066613396, 0.3894183423086505, 0.479425538604203, 0.5646424733950355, 0.6442176872376911, 0.7173560908995228, 0.7833269096274834, 0.8414709848078965, 0.8912073600614354, 0.9320390859672264, 0.963558185417193, 0.9854497299884603, 0.9974949866040544, 0.9995736030415051, 0.9916648104524686, 0.9738476308781951, 0.9463000876874145, 0.9092974268256817, 0.8632093666488737, 0.8084964038195901, 0.74570521217672, 0.6754631805511506, 0.5984721441039564, 0.5155013718214642, 0.4273798802338298, 0.33498815015590466, 0.23924932921398198, 0.1411200080598672, 0.04158066243329049, -0.058374143427580086, -0.15774569414324865, -0.25554110202683167, -0.35078322768961984, -0.44252044329485246, -0.5298361409084934, -0.6118578909427193, -0.6877661591839741, -0.7568024953079282, -0.8182771110644108, -0.8715757724135882], \"type\": \"scatter\"}, {\"marker\": {\"color\": [0.0, 0.010000000000000002, 0.04000000000000001, 0.09000000000000002, 0.16000000000000003, 0.25, 0.3600000000000001, 0.4900000000000001, 0.6400000000000001, 0.81, 1.0, 1.2100000000000002, 1.4400000000000004, 1.6900000000000002, 1.9600000000000004, 2.25, 2.5600000000000005, 2.8900000000000006, 3.24, 3.6100000000000003, 4.0, 4.41, 4.840000000000001, 5.290000000000001, 5.760000000000002, 6.25, 6.760000000000001, 7.290000000000001, 7.840000000000002, 8.410000000000002, 9.0, 9.610000000000001, 10.240000000000002, 10.890000000000002, 11.560000000000002, 12.25, 12.96, 13.690000000000001, 14.440000000000001, 15.210000000000003, 16.0, 16.810000000000006, 17.64], \"colorscale\": [[0.0, \"#000004\"], [0.1111111111111111, \"#1b0c41\"], [0.2222222222222222, \"#4a0c6b\"], [0.3333333333333333, \"#781c6d\"], [0.4444444444444444, \"#a52c60\"], [0.5555555555555556, \"#cf4446\"], [0.6666666666666666, \"#ed6925\"], [0.7777777777777778, \"#fb9b06\"], [0.8888888888888888, \"#f7d13d\"], [1.0, \"#fcffa4\"]], \"size\": [50.0, 49.75020826390129, 49.00332889206208, 47.7668244562803, 46.05304970014426, 43.879128094518634, 41.26678074548391, 38.24210936422442, 34.83533546735827, 31.08049841353322, 27.01511529340699, 22.679806071278865, 18.117887723833668, 13.374941431229367, 8.49835714501204, 3.5368600833851453, 1.4599761150644408, 6.442224714776243, 11.360104734654355, 16.16447834317518, 20.80734182735712, 25.24230522999288, 29.42505586276729, 33.31380106399122, 36.86968577706229, 40.05718077734669, 42.84443766844737, 45.20360710085306, 47.11111703343291, 48.547908257479534, 49.49962483002227, 49.95675751366397, 49.914738789737655, 49.37398849544324, 48.33990962897305, 46.822834364539816, 44.83792081670735, 42.4050015855204, 39.54838559572082, 36.29661521000699, 32.6821810431806, 28.741197326663425, 24.513041067034973]}, \"mode\": \"lines+markers\", \"name\": \"k(x)=cos(x)\", \"x\": [0.0, 0.1, 0.2, 0.30000000000000004, 0.4, 0.5, 0.6000000000000001, 0.7000000000000001, 0.8, 0.9, 1.0, 1.1, 1.2000000000000002, 1.3, 1.4000000000000001, 1.5, 1.6, 1.7000000000000002, 1.8, 1.9000000000000001, 2.0, 2.1, 2.2, 2.3000000000000003, 2.4000000000000004, 2.5, 2.6, 2.7, 2.8000000000000003, 2.9000000000000004, 3.0, 3.1, 3.2, 3.3000000000000003, 3.4000000000000004, 3.5, 3.6, 3.7, 3.8000000000000003, 3.9000000000000004, 4.0, 4.1000000000000005, 4.2], \"y\": [1.0, 0.9950041652780258, 0.9800665778412416, 0.955336489125606, 0.9210609940028851, 0.8775825618903728, 0.8253356149096782, 0.7648421872844884, 0.6967067093471654, 0.6216099682706644, 0.5403023058681398, 0.4535961214255773, 0.3623577544766734, 0.26749882862458735, 0.16996714290024081, 0.0707372016677029, -0.029199522301288815, -0.12884449429552486, -0.2272020946930871, -0.3232895668635036, -0.4161468365471424, -0.5048461045998576, -0.5885011172553458, -0.6662760212798244, -0.7373937155412458, -0.8011436155469337, -0.8568887533689473, -0.9040721420170612, -0.9422223406686583, -0.9709581651495907, -0.9899924966004454, -0.9991351502732795, -0.9982947757947531, -0.9874797699088649, -0.9667981925794609, -0.9364566872907963, -0.896758416334147, -0.848100031710408, -0.7909677119144165, -0.7259323042001399, -0.6536436208636119, -0.5748239465332685, -0.4902608213406994], \"type\": \"scatter\"}], \"name\": \"42\"}, {\"data\": [{\"marker\": {\"color\": [0.0, 0.010000000000000002, 0.04000000000000001, 0.09000000000000002, 0.16000000000000003, 0.25, 0.3600000000000001, 0.4900000000000001, 0.6400000000000001, 0.81, 1.0, 1.2100000000000002, 1.4400000000000004, 1.6900000000000002, 1.9600000000000004, 2.25, 2.5600000000000005, 2.8900000000000006, 3.24, 3.6100000000000003, 4.0, 4.41, 4.840000000000001, 5.290000000000001, 5.760000000000002, 6.25, 6.760000000000001, 7.290000000000001, 7.840000000000002, 8.410000000000002, 9.0, 9.610000000000001, 10.240000000000002, 10.890000000000002, 11.560000000000002, 12.25, 12.96, 13.690000000000001, 14.440000000000001, 15.210000000000003, 16.0, 16.810000000000006, 17.64, 18.49], \"colorscale\": [[0.0, \"#000004\"], [0.1111111111111111, \"#1b0c41\"], [0.2222222222222222, \"#4a0c6b\"], [0.3333333333333333, \"#781c6d\"], [0.4444444444444444, \"#a52c60\"], [0.5555555555555556, \"#cf4446\"], [0.6666666666666666, \"#ed6925\"], [0.7777777777777778, \"#fb9b06\"], [0.8888888888888888, \"#f7d13d\"], [1.0, \"#fcffa4\"]], \"size\": [0.0, 4.991670832341407, 9.933466539753061, 14.77601033306698, 19.470917115432528, 23.971276930210152, 28.232123669751775, 32.21088436188456, 35.86780454497614, 39.16634548137417, 42.073549240394826, 44.56036800307177, 46.60195429836132, 48.17790927085965, 49.27248649942301, 49.874749330202725, 49.978680152075256, 49.58324052262343, 48.69238154390976, 47.315004384370724, 45.46487134128409, 43.160468332443685, 40.4248201909795, 37.285260608836005, 33.77315902755753, 29.923607205197822, 25.775068591073207, 21.368994011691488, 16.749407507795233, 11.9624664606991, 7.0560004029933605, 2.0790331216645246, 2.9187071713790043, 7.887284707162433, 12.777055101341583, 17.53916138448099, 22.126022164742622, 26.49180704542467, 30.592894547135963, 34.388307959198706, 37.84012476539641, 40.91385555322054, 43.57878862067941, 45.808296837472746]}, \"mode\": \"lines+markers\", \"name\": \"h(x)=sin(x)\", \"x\": [0.0, 0.1, 0.2, 0.30000000000000004, 0.4, 0.5, 0.6000000000000001, 0.7000000000000001, 0.8, 0.9, 1.0, 1.1, 1.2000000000000002, 1.3, 1.4000000000000001, 1.5, 1.6, 1.7000000000000002, 1.8, 1.9000000000000001, 2.0, 2.1, 2.2, 2.3000000000000003, 2.4000000000000004, 2.5, 2.6, 2.7, 2.8000000000000003, 2.9000000000000004, 3.0, 3.1, 3.2, 3.3000000000000003, 3.4000000000000004, 3.5, 3.6, 3.7, 3.8000000000000003, 3.9000000000000004, 4.0, 4.1000000000000005, 4.2, 4.3], \"y\": [0.0, 0.09983341664682815, 0.19866933079506122, 0.2955202066613396, 0.3894183423086505, 0.479425538604203, 0.5646424733950355, 0.6442176872376911, 0.7173560908995228, 0.7833269096274834, 0.8414709848078965, 0.8912073600614354, 0.9320390859672264, 0.963558185417193, 0.9854497299884603, 0.9974949866040544, 0.9995736030415051, 0.9916648104524686, 0.9738476308781951, 0.9463000876874145, 0.9092974268256817, 0.8632093666488737, 0.8084964038195901, 0.74570521217672, 0.6754631805511506, 0.5984721441039564, 0.5155013718214642, 0.4273798802338298, 0.33498815015590466, 0.23924932921398198, 0.1411200080598672, 0.04158066243329049, -0.058374143427580086, -0.15774569414324865, -0.25554110202683167, -0.35078322768961984, -0.44252044329485246, -0.5298361409084934, -0.6118578909427193, -0.6877661591839741, -0.7568024953079282, -0.8182771110644108, -0.8715757724135882, -0.9161659367494549], \"type\": \"scatter\"}, {\"marker\": {\"color\": [0.0, 0.010000000000000002, 0.04000000000000001, 0.09000000000000002, 0.16000000000000003, 0.25, 0.3600000000000001, 0.4900000000000001, 0.6400000000000001, 0.81, 1.0, 1.2100000000000002, 1.4400000000000004, 1.6900000000000002, 1.9600000000000004, 2.25, 2.5600000000000005, 2.8900000000000006, 3.24, 3.6100000000000003, 4.0, 4.41, 4.840000000000001, 5.290000000000001, 5.760000000000002, 6.25, 6.760000000000001, 7.290000000000001, 7.840000000000002, 8.410000000000002, 9.0, 9.610000000000001, 10.240000000000002, 10.890000000000002, 11.560000000000002, 12.25, 12.96, 13.690000000000001, 14.440000000000001, 15.210000000000003, 16.0, 16.810000000000006, 17.64, 18.49], \"colorscale\": [[0.0, \"#000004\"], [0.1111111111111111, \"#1b0c41\"], [0.2222222222222222, \"#4a0c6b\"], [0.3333333333333333, \"#781c6d\"], [0.4444444444444444, \"#a52c60\"], [0.5555555555555556, \"#cf4446\"], [0.6666666666666666, \"#ed6925\"], [0.7777777777777778, \"#fb9b06\"], [0.8888888888888888, \"#f7d13d\"], [1.0, \"#fcffa4\"]], \"size\": [50.0, 49.75020826390129, 49.00332889206208, 47.7668244562803, 46.05304970014426, 43.879128094518634, 41.26678074548391, 38.24210936422442, 34.83533546735827, 31.08049841353322, 27.01511529340699, 22.679806071278865, 18.117887723833668, 13.374941431229367, 8.49835714501204, 3.5368600833851453, 1.4599761150644408, 6.442224714776243, 11.360104734654355, 16.16447834317518, 20.80734182735712, 25.24230522999288, 29.42505586276729, 33.31380106399122, 36.86968577706229, 40.05718077734669, 42.84443766844737, 45.20360710085306, 47.11111703343291, 48.547908257479534, 49.49962483002227, 49.95675751366397, 49.914738789737655, 49.37398849544324, 48.33990962897305, 46.822834364539816, 44.83792081670735, 42.4050015855204, 39.54838559572082, 36.29661521000699, 32.6821810431806, 28.741197326663425, 24.513041067034973, 20.039958603998773]}, \"mode\": \"lines+markers\", \"name\": \"k(x)=cos(x)\", \"x\": [0.0, 0.1, 0.2, 0.30000000000000004, 0.4, 0.5, 0.6000000000000001, 0.7000000000000001, 0.8, 0.9, 1.0, 1.1, 1.2000000000000002, 1.3, 1.4000000000000001, 1.5, 1.6, 1.7000000000000002, 1.8, 1.9000000000000001, 2.0, 2.1, 2.2, 2.3000000000000003, 2.4000000000000004, 2.5, 2.6, 2.7, 2.8000000000000003, 2.9000000000000004, 3.0, 3.1, 3.2, 3.3000000000000003, 3.4000000000000004, 3.5, 3.6, 3.7, 3.8000000000000003, 3.9000000000000004, 4.0, 4.1000000000000005, 4.2, 4.3], \"y\": [1.0, 0.9950041652780258, 0.9800665778412416, 0.955336489125606, 0.9210609940028851, 0.8775825618903728, 0.8253356149096782, 0.7648421872844884, 0.6967067093471654, 0.6216099682706644, 0.5403023058681398, 0.4535961214255773, 0.3623577544766734, 0.26749882862458735, 0.16996714290024081, 0.0707372016677029, -0.029199522301288815, -0.12884449429552486, -0.2272020946930871, -0.3232895668635036, -0.4161468365471424, -0.5048461045998576, -0.5885011172553458, -0.6662760212798244, -0.7373937155412458, -0.8011436155469337, -0.8568887533689473, -0.9040721420170612, -0.9422223406686583, -0.9709581651495907, -0.9899924966004454, -0.9991351502732795, -0.9982947757947531, -0.9874797699088649, -0.9667981925794609, -0.9364566872907963, -0.896758416334147, -0.848100031710408, -0.7909677119144165, -0.7259323042001399, -0.6536436208636119, -0.5748239465332685, -0.4902608213406994, -0.40079917207997545], \"type\": \"scatter\"}], \"name\": \"43\"}, {\"data\": [{\"marker\": {\"color\": [0.0, 0.010000000000000002, 0.04000000000000001, 0.09000000000000002, 0.16000000000000003, 0.25, 0.3600000000000001, 0.4900000000000001, 0.6400000000000001, 0.81, 1.0, 1.2100000000000002, 1.4400000000000004, 1.6900000000000002, 1.9600000000000004, 2.25, 2.5600000000000005, 2.8900000000000006, 3.24, 3.6100000000000003, 4.0, 4.41, 4.840000000000001, 5.290000000000001, 5.760000000000002, 6.25, 6.760000000000001, 7.290000000000001, 7.840000000000002, 8.410000000000002, 9.0, 9.610000000000001, 10.240000000000002, 10.890000000000002, 11.560000000000002, 12.25, 12.96, 13.690000000000001, 14.440000000000001, 15.210000000000003, 16.0, 16.810000000000006, 17.64, 18.49, 19.360000000000003], \"colorscale\": [[0.0, \"#000004\"], [0.1111111111111111, \"#1b0c41\"], [0.2222222222222222, \"#4a0c6b\"], [0.3333333333333333, \"#781c6d\"], [0.4444444444444444, \"#a52c60\"], [0.5555555555555556, \"#cf4446\"], [0.6666666666666666, \"#ed6925\"], [0.7777777777777778, \"#fb9b06\"], [0.8888888888888888, \"#f7d13d\"], [1.0, \"#fcffa4\"]], \"size\": [0.0, 4.991670832341407, 9.933466539753061, 14.77601033306698, 19.470917115432528, 23.971276930210152, 28.232123669751775, 32.21088436188456, 35.86780454497614, 39.16634548137417, 42.073549240394826, 44.56036800307177, 46.60195429836132, 48.17790927085965, 49.27248649942301, 49.874749330202725, 49.978680152075256, 49.58324052262343, 48.69238154390976, 47.315004384370724, 45.46487134128409, 43.160468332443685, 40.4248201909795, 37.285260608836005, 33.77315902755753, 29.923607205197822, 25.775068591073207, 21.368994011691488, 16.749407507795233, 11.9624664606991, 7.0560004029933605, 2.0790331216645246, 2.9187071713790043, 7.887284707162433, 12.777055101341583, 17.53916138448099, 22.126022164742622, 26.49180704542467, 30.592894547135963, 34.388307959198706, 37.84012476539641, 40.91385555322054, 43.57878862067941, 45.808296837472746, 47.58010369447581]}, \"mode\": \"lines+markers\", \"name\": \"h(x)=sin(x)\", \"x\": [0.0, 0.1, 0.2, 0.30000000000000004, 0.4, 0.5, 0.6000000000000001, 0.7000000000000001, 0.8, 0.9, 1.0, 1.1, 1.2000000000000002, 1.3, 1.4000000000000001, 1.5, 1.6, 1.7000000000000002, 1.8, 1.9000000000000001, 2.0, 2.1, 2.2, 2.3000000000000003, 2.4000000000000004, 2.5, 2.6, 2.7, 2.8000000000000003, 2.9000000000000004, 3.0, 3.1, 3.2, 3.3000000000000003, 3.4000000000000004, 3.5, 3.6, 3.7, 3.8000000000000003, 3.9000000000000004, 4.0, 4.1000000000000005, 4.2, 4.3, 4.4], \"y\": [0.0, 0.09983341664682815, 0.19866933079506122, 0.2955202066613396, 0.3894183423086505, 0.479425538604203, 0.5646424733950355, 0.6442176872376911, 0.7173560908995228, 0.7833269096274834, 0.8414709848078965, 0.8912073600614354, 0.9320390859672264, 0.963558185417193, 0.9854497299884603, 0.9974949866040544, 0.9995736030415051, 0.9916648104524686, 0.9738476308781951, 0.9463000876874145, 0.9092974268256817, 0.8632093666488737, 0.8084964038195901, 0.74570521217672, 0.6754631805511506, 0.5984721441039564, 0.5155013718214642, 0.4273798802338298, 0.33498815015590466, 0.23924932921398198, 0.1411200080598672, 0.04158066243329049, -0.058374143427580086, -0.15774569414324865, -0.25554110202683167, -0.35078322768961984, -0.44252044329485246, -0.5298361409084934, -0.6118578909427193, -0.6877661591839741, -0.7568024953079282, -0.8182771110644108, -0.8715757724135882, -0.9161659367494549, -0.9516020738895161], \"type\": \"scatter\"}, {\"marker\": {\"color\": [0.0, 0.010000000000000002, 0.04000000000000001, 0.09000000000000002, 0.16000000000000003, 0.25, 0.3600000000000001, 0.4900000000000001, 0.6400000000000001, 0.81, 1.0, 1.2100000000000002, 1.4400000000000004, 1.6900000000000002, 1.9600000000000004, 2.25, 2.5600000000000005, 2.8900000000000006, 3.24, 3.6100000000000003, 4.0, 4.41, 4.840000000000001, 5.290000000000001, 5.760000000000002, 6.25, 6.760000000000001, 7.290000000000001, 7.840000000000002, 8.410000000000002, 9.0, 9.610000000000001, 10.240000000000002, 10.890000000000002, 11.560000000000002, 12.25, 12.96, 13.690000000000001, 14.440000000000001, 15.210000000000003, 16.0, 16.810000000000006, 17.64, 18.49, 19.360000000000003], \"colorscale\": [[0.0, \"#000004\"], [0.1111111111111111, \"#1b0c41\"], [0.2222222222222222, \"#4a0c6b\"], [0.3333333333333333, \"#781c6d\"], [0.4444444444444444, \"#a52c60\"], [0.5555555555555556, \"#cf4446\"], [0.6666666666666666, \"#ed6925\"], [0.7777777777777778, \"#fb9b06\"], [0.8888888888888888, \"#f7d13d\"], [1.0, \"#fcffa4\"]], \"size\": [50.0, 49.75020826390129, 49.00332889206208, 47.7668244562803, 46.05304970014426, 43.879128094518634, 41.26678074548391, 38.24210936422442, 34.83533546735827, 31.08049841353322, 27.01511529340699, 22.679806071278865, 18.117887723833668, 13.374941431229367, 8.49835714501204, 3.5368600833851453, 1.4599761150644408, 6.442224714776243, 11.360104734654355, 16.16447834317518, 20.80734182735712, 25.24230522999288, 29.42505586276729, 33.31380106399122, 36.86968577706229, 40.05718077734669, 42.84443766844737, 45.20360710085306, 47.11111703343291, 48.547908257479534, 49.49962483002227, 49.95675751366397, 49.914738789737655, 49.37398849544324, 48.33990962897305, 46.822834364539816, 44.83792081670735, 42.4050015855204, 39.54838559572082, 36.29661521000699, 32.6821810431806, 28.741197326663425, 24.513041067034973, 20.039958603998773, 15.366643498920968]}, \"mode\": \"lines+markers\", \"name\": \"k(x)=cos(x)\", \"x\": [0.0, 0.1, 0.2, 0.30000000000000004, 0.4, 0.5, 0.6000000000000001, 0.7000000000000001, 0.8, 0.9, 1.0, 1.1, 1.2000000000000002, 1.3, 1.4000000000000001, 1.5, 1.6, 1.7000000000000002, 1.8, 1.9000000000000001, 2.0, 2.1, 2.2, 2.3000000000000003, 2.4000000000000004, 2.5, 2.6, 2.7, 2.8000000000000003, 2.9000000000000004, 3.0, 3.1, 3.2, 3.3000000000000003, 3.4000000000000004, 3.5, 3.6, 3.7, 3.8000000000000003, 3.9000000000000004, 4.0, 4.1000000000000005, 4.2, 4.3, 4.4], \"y\": [1.0, 0.9950041652780258, 0.9800665778412416, 0.955336489125606, 0.9210609940028851, 0.8775825618903728, 0.8253356149096782, 0.7648421872844884, 0.6967067093471654, 0.6216099682706644, 0.5403023058681398, 0.4535961214255773, 0.3623577544766734, 0.26749882862458735, 0.16996714290024081, 0.0707372016677029, -0.029199522301288815, -0.12884449429552486, -0.2272020946930871, -0.3232895668635036, -0.4161468365471424, -0.5048461045998576, -0.5885011172553458, -0.6662760212798244, -0.7373937155412458, -0.8011436155469337, -0.8568887533689473, -0.9040721420170612, -0.9422223406686583, -0.9709581651495907, -0.9899924966004454, -0.9991351502732795, -0.9982947757947531, -0.9874797699088649, -0.9667981925794609, -0.9364566872907963, -0.896758416334147, -0.848100031710408, -0.7909677119144165, -0.7259323042001399, -0.6536436208636119, -0.5748239465332685, -0.4902608213406994, -0.40079917207997545, -0.30733286997841935], \"type\": \"scatter\"}], \"name\": \"44\"}, {\"data\": [{\"marker\": {\"color\": [0.0, 0.010000000000000002, 0.04000000000000001, 0.09000000000000002, 0.16000000000000003, 0.25, 0.3600000000000001, 0.4900000000000001, 0.6400000000000001, 0.81, 1.0, 1.2100000000000002, 1.4400000000000004, 1.6900000000000002, 1.9600000000000004, 2.25, 2.5600000000000005, 2.8900000000000006, 3.24, 3.6100000000000003, 4.0, 4.41, 4.840000000000001, 5.290000000000001, 5.760000000000002, 6.25, 6.760000000000001, 7.290000000000001, 7.840000000000002, 8.410000000000002, 9.0, 9.610000000000001, 10.240000000000002, 10.890000000000002, 11.560000000000002, 12.25, 12.96, 13.690000000000001, 14.440000000000001, 15.210000000000003, 16.0, 16.810000000000006, 17.64, 18.49, 19.360000000000003, 20.25], \"colorscale\": [[0.0, \"#000004\"], [0.1111111111111111, \"#1b0c41\"], [0.2222222222222222, \"#4a0c6b\"], [0.3333333333333333, \"#781c6d\"], [0.4444444444444444, \"#a52c60\"], [0.5555555555555556, \"#cf4446\"], [0.6666666666666666, \"#ed6925\"], [0.7777777777777778, \"#fb9b06\"], [0.8888888888888888, \"#f7d13d\"], [1.0, \"#fcffa4\"]], \"size\": [0.0, 4.991670832341407, 9.933466539753061, 14.77601033306698, 19.470917115432528, 23.971276930210152, 28.232123669751775, 32.21088436188456, 35.86780454497614, 39.16634548137417, 42.073549240394826, 44.56036800307177, 46.60195429836132, 48.17790927085965, 49.27248649942301, 49.874749330202725, 49.978680152075256, 49.58324052262343, 48.69238154390976, 47.315004384370724, 45.46487134128409, 43.160468332443685, 40.4248201909795, 37.285260608836005, 33.77315902755753, 29.923607205197822, 25.775068591073207, 21.368994011691488, 16.749407507795233, 11.9624664606991, 7.0560004029933605, 2.0790331216645246, 2.9187071713790043, 7.887284707162433, 12.777055101341583, 17.53916138448099, 22.126022164742622, 26.49180704542467, 30.592894547135963, 34.388307959198706, 37.84012476539641, 40.91385555322054, 43.57878862067941, 45.808296837472746, 47.58010369447581, 48.87650588325485]}, \"mode\": \"lines+markers\", \"name\": \"h(x)=sin(x)\", \"x\": [0.0, 0.1, 0.2, 0.30000000000000004, 0.4, 0.5, 0.6000000000000001, 0.7000000000000001, 0.8, 0.9, 1.0, 1.1, 1.2000000000000002, 1.3, 1.4000000000000001, 1.5, 1.6, 1.7000000000000002, 1.8, 1.9000000000000001, 2.0, 2.1, 2.2, 2.3000000000000003, 2.4000000000000004, 2.5, 2.6, 2.7, 2.8000000000000003, 2.9000000000000004, 3.0, 3.1, 3.2, 3.3000000000000003, 3.4000000000000004, 3.5, 3.6, 3.7, 3.8000000000000003, 3.9000000000000004, 4.0, 4.1000000000000005, 4.2, 4.3, 4.4, 4.5], \"y\": [0.0, 0.09983341664682815, 0.19866933079506122, 0.2955202066613396, 0.3894183423086505, 0.479425538604203, 0.5646424733950355, 0.6442176872376911, 0.7173560908995228, 0.7833269096274834, 0.8414709848078965, 0.8912073600614354, 0.9320390859672264, 0.963558185417193, 0.9854497299884603, 0.9974949866040544, 0.9995736030415051, 0.9916648104524686, 0.9738476308781951, 0.9463000876874145, 0.9092974268256817, 0.8632093666488737, 0.8084964038195901, 0.74570521217672, 0.6754631805511506, 0.5984721441039564, 0.5155013718214642, 0.4273798802338298, 0.33498815015590466, 0.23924932921398198, 0.1411200080598672, 0.04158066243329049, -0.058374143427580086, -0.15774569414324865, -0.25554110202683167, -0.35078322768961984, -0.44252044329485246, -0.5298361409084934, -0.6118578909427193, -0.6877661591839741, -0.7568024953079282, -0.8182771110644108, -0.8715757724135882, -0.9161659367494549, -0.9516020738895161, -0.977530117665097], \"type\": \"scatter\"}, {\"marker\": {\"color\": [0.0, 0.010000000000000002, 0.04000000000000001, 0.09000000000000002, 0.16000000000000003, 0.25, 0.3600000000000001, 0.4900000000000001, 0.6400000000000001, 0.81, 1.0, 1.2100000000000002, 1.4400000000000004, 1.6900000000000002, 1.9600000000000004, 2.25, 2.5600000000000005, 2.8900000000000006, 3.24, 3.6100000000000003, 4.0, 4.41, 4.840000000000001, 5.290000000000001, 5.760000000000002, 6.25, 6.760000000000001, 7.290000000000001, 7.840000000000002, 8.410000000000002, 9.0, 9.610000000000001, 10.240000000000002, 10.890000000000002, 11.560000000000002, 12.25, 12.96, 13.690000000000001, 14.440000000000001, 15.210000000000003, 16.0, 16.810000000000006, 17.64, 18.49, 19.360000000000003, 20.25], \"colorscale\": [[0.0, \"#000004\"], [0.1111111111111111, \"#1b0c41\"], [0.2222222222222222, \"#4a0c6b\"], [0.3333333333333333, \"#781c6d\"], [0.4444444444444444, \"#a52c60\"], [0.5555555555555556, \"#cf4446\"], [0.6666666666666666, \"#ed6925\"], [0.7777777777777778, \"#fb9b06\"], [0.8888888888888888, \"#f7d13d\"], [1.0, \"#fcffa4\"]], \"size\": [50.0, 49.75020826390129, 49.00332889206208, 47.7668244562803, 46.05304970014426, 43.879128094518634, 41.26678074548391, 38.24210936422442, 34.83533546735827, 31.08049841353322, 27.01511529340699, 22.679806071278865, 18.117887723833668, 13.374941431229367, 8.49835714501204, 3.5368600833851453, 1.4599761150644408, 6.442224714776243, 11.360104734654355, 16.16447834317518, 20.80734182735712, 25.24230522999288, 29.42505586276729, 33.31380106399122, 36.86968577706229, 40.05718077734669, 42.84443766844737, 45.20360710085306, 47.11111703343291, 48.547908257479534, 49.49962483002227, 49.95675751366397, 49.914738789737655, 49.37398849544324, 48.33990962897305, 46.822834364539816, 44.83792081670735, 42.4050015855204, 39.54838559572082, 36.29661521000699, 32.6821810431806, 28.741197326663425, 24.513041067034973, 20.039958603998773, 15.366643498920968, 10.539789971538985]}, \"mode\": \"lines+markers\", \"name\": \"k(x)=cos(x)\", \"x\": [0.0, 0.1, 0.2, 0.30000000000000004, 0.4, 0.5, 0.6000000000000001, 0.7000000000000001, 0.8, 0.9, 1.0, 1.1, 1.2000000000000002, 1.3, 1.4000000000000001, 1.5, 1.6, 1.7000000000000002, 1.8, 1.9000000000000001, 2.0, 2.1, 2.2, 2.3000000000000003, 2.4000000000000004, 2.5, 2.6, 2.7, 2.8000000000000003, 2.9000000000000004, 3.0, 3.1, 3.2, 3.3000000000000003, 3.4000000000000004, 3.5, 3.6, 3.7, 3.8000000000000003, 3.9000000000000004, 4.0, 4.1000000000000005, 4.2, 4.3, 4.4, 4.5], \"y\": [1.0, 0.9950041652780258, 0.9800665778412416, 0.955336489125606, 0.9210609940028851, 0.8775825618903728, 0.8253356149096782, 0.7648421872844884, 0.6967067093471654, 0.6216099682706644, 0.5403023058681398, 0.4535961214255773, 0.3623577544766734, 0.26749882862458735, 0.16996714290024081, 0.0707372016677029, -0.029199522301288815, -0.12884449429552486, -0.2272020946930871, -0.3232895668635036, -0.4161468365471424, -0.5048461045998576, -0.5885011172553458, -0.6662760212798244, -0.7373937155412458, -0.8011436155469337, -0.8568887533689473, -0.9040721420170612, -0.9422223406686583, -0.9709581651495907, -0.9899924966004454, -0.9991351502732795, -0.9982947757947531, -0.9874797699088649, -0.9667981925794609, -0.9364566872907963, -0.896758416334147, -0.848100031710408, -0.7909677119144165, -0.7259323042001399, -0.6536436208636119, -0.5748239465332685, -0.4902608213406994, -0.40079917207997545, -0.30733286997841935, -0.2107957994307797], \"type\": \"scatter\"}], \"name\": \"45\"}, {\"data\": [{\"marker\": {\"color\": [0.0, 0.010000000000000002, 0.04000000000000001, 0.09000000000000002, 0.16000000000000003, 0.25, 0.3600000000000001, 0.4900000000000001, 0.6400000000000001, 0.81, 1.0, 1.2100000000000002, 1.4400000000000004, 1.6900000000000002, 1.9600000000000004, 2.25, 2.5600000000000005, 2.8900000000000006, 3.24, 3.6100000000000003, 4.0, 4.41, 4.840000000000001, 5.290000000000001, 5.760000000000002, 6.25, 6.760000000000001, 7.290000000000001, 7.840000000000002, 8.410000000000002, 9.0, 9.610000000000001, 10.240000000000002, 10.890000000000002, 11.560000000000002, 12.25, 12.96, 13.690000000000001, 14.440000000000001, 15.210000000000003, 16.0, 16.810000000000006, 17.64, 18.49, 19.360000000000003, 20.25, 21.160000000000004], \"colorscale\": [[0.0, \"#000004\"], [0.1111111111111111, \"#1b0c41\"], [0.2222222222222222, \"#4a0c6b\"], [0.3333333333333333, \"#781c6d\"], [0.4444444444444444, \"#a52c60\"], [0.5555555555555556, \"#cf4446\"], [0.6666666666666666, \"#ed6925\"], [0.7777777777777778, \"#fb9b06\"], [0.8888888888888888, \"#f7d13d\"], [1.0, \"#fcffa4\"]], \"size\": [0.0, 4.991670832341407, 9.933466539753061, 14.77601033306698, 19.470917115432528, 23.971276930210152, 28.232123669751775, 32.21088436188456, 35.86780454497614, 39.16634548137417, 42.073549240394826, 44.56036800307177, 46.60195429836132, 48.17790927085965, 49.27248649942301, 49.874749330202725, 49.978680152075256, 49.58324052262343, 48.69238154390976, 47.315004384370724, 45.46487134128409, 43.160468332443685, 40.4248201909795, 37.285260608836005, 33.77315902755753, 29.923607205197822, 25.775068591073207, 21.368994011691488, 16.749407507795233, 11.9624664606991, 7.0560004029933605, 2.0790331216645246, 2.9187071713790043, 7.887284707162433, 12.777055101341583, 17.53916138448099, 22.126022164742622, 26.49180704542467, 30.592894547135963, 34.388307959198706, 37.84012476539641, 40.91385555322054, 43.57878862067941, 45.808296837472746, 47.58010369447581, 48.87650588325485, 49.684550181673224]}, \"mode\": \"lines+markers\", \"name\": \"h(x)=sin(x)\", \"x\": [0.0, 0.1, 0.2, 0.30000000000000004, 0.4, 0.5, 0.6000000000000001, 0.7000000000000001, 0.8, 0.9, 1.0, 1.1, 1.2000000000000002, 1.3, 1.4000000000000001, 1.5, 1.6, 1.7000000000000002, 1.8, 1.9000000000000001, 2.0, 2.1, 2.2, 2.3000000000000003, 2.4000000000000004, 2.5, 2.6, 2.7, 2.8000000000000003, 2.9000000000000004, 3.0, 3.1, 3.2, 3.3000000000000003, 3.4000000000000004, 3.5, 3.6, 3.7, 3.8000000000000003, 3.9000000000000004, 4.0, 4.1000000000000005, 4.2, 4.3, 4.4, 4.5, 4.6000000000000005], \"y\": [0.0, 0.09983341664682815, 0.19866933079506122, 0.2955202066613396, 0.3894183423086505, 0.479425538604203, 0.5646424733950355, 0.6442176872376911, 0.7173560908995228, 0.7833269096274834, 0.8414709848078965, 0.8912073600614354, 0.9320390859672264, 0.963558185417193, 0.9854497299884603, 0.9974949866040544, 0.9995736030415051, 0.9916648104524686, 0.9738476308781951, 0.9463000876874145, 0.9092974268256817, 0.8632093666488737, 0.8084964038195901, 0.74570521217672, 0.6754631805511506, 0.5984721441039564, 0.5155013718214642, 0.4273798802338298, 0.33498815015590466, 0.23924932921398198, 0.1411200080598672, 0.04158066243329049, -0.058374143427580086, -0.15774569414324865, -0.25554110202683167, -0.35078322768961984, -0.44252044329485246, -0.5298361409084934, -0.6118578909427193, -0.6877661591839741, -0.7568024953079282, -0.8182771110644108, -0.8715757724135882, -0.9161659367494549, -0.9516020738895161, -0.977530117665097, -0.9936910036334645], \"type\": \"scatter\"}, {\"marker\": {\"color\": [0.0, 0.010000000000000002, 0.04000000000000001, 0.09000000000000002, 0.16000000000000003, 0.25, 0.3600000000000001, 0.4900000000000001, 0.6400000000000001, 0.81, 1.0, 1.2100000000000002, 1.4400000000000004, 1.6900000000000002, 1.9600000000000004, 2.25, 2.5600000000000005, 2.8900000000000006, 3.24, 3.6100000000000003, 4.0, 4.41, 4.840000000000001, 5.290000000000001, 5.760000000000002, 6.25, 6.760000000000001, 7.290000000000001, 7.840000000000002, 8.410000000000002, 9.0, 9.610000000000001, 10.240000000000002, 10.890000000000002, 11.560000000000002, 12.25, 12.96, 13.690000000000001, 14.440000000000001, 15.210000000000003, 16.0, 16.810000000000006, 17.64, 18.49, 19.360000000000003, 20.25, 21.160000000000004], \"colorscale\": [[0.0, \"#000004\"], [0.1111111111111111, \"#1b0c41\"], [0.2222222222222222, \"#4a0c6b\"], [0.3333333333333333, \"#781c6d\"], [0.4444444444444444, \"#a52c60\"], [0.5555555555555556, \"#cf4446\"], [0.6666666666666666, \"#ed6925\"], [0.7777777777777778, \"#fb9b06\"], [0.8888888888888888, \"#f7d13d\"], [1.0, \"#fcffa4\"]], \"size\": [50.0, 49.75020826390129, 49.00332889206208, 47.7668244562803, 46.05304970014426, 43.879128094518634, 41.26678074548391, 38.24210936422442, 34.83533546735827, 31.08049841353322, 27.01511529340699, 22.679806071278865, 18.117887723833668, 13.374941431229367, 8.49835714501204, 3.5368600833851453, 1.4599761150644408, 6.442224714776243, 11.360104734654355, 16.16447834317518, 20.80734182735712, 25.24230522999288, 29.42505586276729, 33.31380106399122, 36.86968577706229, 40.05718077734669, 42.84443766844737, 45.20360710085306, 47.11111703343291, 48.547908257479534, 49.49962483002227, 49.95675751366397, 49.914738789737655, 49.37398849544324, 48.33990962897305, 46.822834364539816, 44.83792081670735, 42.4050015855204, 39.54838559572082, 36.29661521000699, 32.6821810431806, 28.741197326663425, 24.513041067034973, 20.039958603998773, 15.366643498920968, 10.539789971538985, 5.607626346752699]}, \"mode\": \"lines+markers\", \"name\": \"k(x)=cos(x)\", \"x\": [0.0, 0.1, 0.2, 0.30000000000000004, 0.4, 0.5, 0.6000000000000001, 0.7000000000000001, 0.8, 0.9, 1.0, 1.1, 1.2000000000000002, 1.3, 1.4000000000000001, 1.5, 1.6, 1.7000000000000002, 1.8, 1.9000000000000001, 2.0, 2.1, 2.2, 2.3000000000000003, 2.4000000000000004, 2.5, 2.6, 2.7, 2.8000000000000003, 2.9000000000000004, 3.0, 3.1, 3.2, 3.3000000000000003, 3.4000000000000004, 3.5, 3.6, 3.7, 3.8000000000000003, 3.9000000000000004, 4.0, 4.1000000000000005, 4.2, 4.3, 4.4, 4.5, 4.6000000000000005], \"y\": [1.0, 0.9950041652780258, 0.9800665778412416, 0.955336489125606, 0.9210609940028851, 0.8775825618903728, 0.8253356149096782, 0.7648421872844884, 0.6967067093471654, 0.6216099682706644, 0.5403023058681398, 0.4535961214255773, 0.3623577544766734, 0.26749882862458735, 0.16996714290024081, 0.0707372016677029, -0.029199522301288815, -0.12884449429552486, -0.2272020946930871, -0.3232895668635036, -0.4161468365471424, -0.5048461045998576, -0.5885011172553458, -0.6662760212798244, -0.7373937155412458, -0.8011436155469337, -0.8568887533689473, -0.9040721420170612, -0.9422223406686583, -0.9709581651495907, -0.9899924966004454, -0.9991351502732795, -0.9982947757947531, -0.9874797699088649, -0.9667981925794609, -0.9364566872907963, -0.896758416334147, -0.848100031710408, -0.7909677119144165, -0.7259323042001399, -0.6536436208636119, -0.5748239465332685, -0.4902608213406994, -0.40079917207997545, -0.30733286997841935, -0.2107957994307797, -0.11215252693505398], \"type\": \"scatter\"}], \"name\": \"46\"}, {\"data\": [{\"marker\": {\"color\": [0.0, 0.010000000000000002, 0.04000000000000001, 0.09000000000000002, 0.16000000000000003, 0.25, 0.3600000000000001, 0.4900000000000001, 0.6400000000000001, 0.81, 1.0, 1.2100000000000002, 1.4400000000000004, 1.6900000000000002, 1.9600000000000004, 2.25, 2.5600000000000005, 2.8900000000000006, 3.24, 3.6100000000000003, 4.0, 4.41, 4.840000000000001, 5.290000000000001, 5.760000000000002, 6.25, 6.760000000000001, 7.290000000000001, 7.840000000000002, 8.410000000000002, 9.0, 9.610000000000001, 10.240000000000002, 10.890000000000002, 11.560000000000002, 12.25, 12.96, 13.690000000000001, 14.440000000000001, 15.210000000000003, 16.0, 16.810000000000006, 17.64, 18.49, 19.360000000000003, 20.25, 21.160000000000004, 22.090000000000003], \"colorscale\": [[0.0, \"#000004\"], [0.1111111111111111, \"#1b0c41\"], [0.2222222222222222, \"#4a0c6b\"], [0.3333333333333333, \"#781c6d\"], [0.4444444444444444, \"#a52c60\"], [0.5555555555555556, \"#cf4446\"], [0.6666666666666666, \"#ed6925\"], [0.7777777777777778, \"#fb9b06\"], [0.8888888888888888, \"#f7d13d\"], [1.0, \"#fcffa4\"]], \"size\": [0.0, 4.991670832341407, 9.933466539753061, 14.77601033306698, 19.470917115432528, 23.971276930210152, 28.232123669751775, 32.21088436188456, 35.86780454497614, 39.16634548137417, 42.073549240394826, 44.56036800307177, 46.60195429836132, 48.17790927085965, 49.27248649942301, 49.874749330202725, 49.978680152075256, 49.58324052262343, 48.69238154390976, 47.315004384370724, 45.46487134128409, 43.160468332443685, 40.4248201909795, 37.285260608836005, 33.77315902755753, 29.923607205197822, 25.775068591073207, 21.368994011691488, 16.749407507795233, 11.9624664606991, 7.0560004029933605, 2.0790331216645246, 2.9187071713790043, 7.887284707162433, 12.777055101341583, 17.53916138448099, 22.126022164742622, 26.49180704542467, 30.592894547135963, 34.388307959198706, 37.84012476539641, 40.91385555322054, 43.57878862067941, 45.808296837472746, 47.58010369447581, 48.87650588325485, 49.684550181673224, 49.99616287820504]}, \"mode\": \"lines+markers\", \"name\": \"h(x)=sin(x)\", \"x\": [0.0, 0.1, 0.2, 0.30000000000000004, 0.4, 0.5, 0.6000000000000001, 0.7000000000000001, 0.8, 0.9, 1.0, 1.1, 1.2000000000000002, 1.3, 1.4000000000000001, 1.5, 1.6, 1.7000000000000002, 1.8, 1.9000000000000001, 2.0, 2.1, 2.2, 2.3000000000000003, 2.4000000000000004, 2.5, 2.6, 2.7, 2.8000000000000003, 2.9000000000000004, 3.0, 3.1, 3.2, 3.3000000000000003, 3.4000000000000004, 3.5, 3.6, 3.7, 3.8000000000000003, 3.9000000000000004, 4.0, 4.1000000000000005, 4.2, 4.3, 4.4, 4.5, 4.6000000000000005, 4.7], \"y\": [0.0, 0.09983341664682815, 0.19866933079506122, 0.2955202066613396, 0.3894183423086505, 0.479425538604203, 0.5646424733950355, 0.6442176872376911, 0.7173560908995228, 0.7833269096274834, 0.8414709848078965, 0.8912073600614354, 0.9320390859672264, 0.963558185417193, 0.9854497299884603, 0.9974949866040544, 0.9995736030415051, 0.9916648104524686, 0.9738476308781951, 0.9463000876874145, 0.9092974268256817, 0.8632093666488737, 0.8084964038195901, 0.74570521217672, 0.6754631805511506, 0.5984721441039564, 0.5155013718214642, 0.4273798802338298, 0.33498815015590466, 0.23924932921398198, 0.1411200080598672, 0.04158066243329049, -0.058374143427580086, -0.15774569414324865, -0.25554110202683167, -0.35078322768961984, -0.44252044329485246, -0.5298361409084934, -0.6118578909427193, -0.6877661591839741, -0.7568024953079282, -0.8182771110644108, -0.8715757724135882, -0.9161659367494549, -0.9516020738895161, -0.977530117665097, -0.9936910036334645, -0.9999232575641008], \"type\": \"scatter\"}, {\"marker\": {\"color\": [0.0, 0.010000000000000002, 0.04000000000000001, 0.09000000000000002, 0.16000000000000003, 0.25, 0.3600000000000001, 0.4900000000000001, 0.6400000000000001, 0.81, 1.0, 1.2100000000000002, 1.4400000000000004, 1.6900000000000002, 1.9600000000000004, 2.25, 2.5600000000000005, 2.8900000000000006, 3.24, 3.6100000000000003, 4.0, 4.41, 4.840000000000001, 5.290000000000001, 5.760000000000002, 6.25, 6.760000000000001, 7.290000000000001, 7.840000000000002, 8.410000000000002, 9.0, 9.610000000000001, 10.240000000000002, 10.890000000000002, 11.560000000000002, 12.25, 12.96, 13.690000000000001, 14.440000000000001, 15.210000000000003, 16.0, 16.810000000000006, 17.64, 18.49, 19.360000000000003, 20.25, 21.160000000000004, 22.090000000000003], \"colorscale\": [[0.0, \"#000004\"], [0.1111111111111111, \"#1b0c41\"], [0.2222222222222222, \"#4a0c6b\"], [0.3333333333333333, \"#781c6d\"], [0.4444444444444444, \"#a52c60\"], [0.5555555555555556, \"#cf4446\"], [0.6666666666666666, \"#ed6925\"], [0.7777777777777778, \"#fb9b06\"], [0.8888888888888888, \"#f7d13d\"], [1.0, \"#fcffa4\"]], \"size\": [50.0, 49.75020826390129, 49.00332889206208, 47.7668244562803, 46.05304970014426, 43.879128094518634, 41.26678074548391, 38.24210936422442, 34.83533546735827, 31.08049841353322, 27.01511529340699, 22.679806071278865, 18.117887723833668, 13.374941431229367, 8.49835714501204, 3.5368600833851453, 1.4599761150644408, 6.442224714776243, 11.360104734654355, 16.16447834317518, 20.80734182735712, 25.24230522999288, 29.42505586276729, 33.31380106399122, 36.86968577706229, 40.05718077734669, 42.84443766844737, 45.20360710085306, 47.11111703343291, 48.547908257479534, 49.49962483002227, 49.95675751366397, 49.914738789737655, 49.37398849544324, 48.33990962897305, 46.822834364539816, 44.83792081670735, 42.4050015855204, 39.54838559572082, 36.29661521000699, 32.6821810431806, 28.741197326663425, 24.513041067034973, 20.039958603998773, 15.366643498920968, 10.539789971538985, 5.607626346752699, 0.6194331731445281]}, \"mode\": \"lines+markers\", \"name\": \"k(x)=cos(x)\", \"x\": [0.0, 0.1, 0.2, 0.30000000000000004, 0.4, 0.5, 0.6000000000000001, 0.7000000000000001, 0.8, 0.9, 1.0, 1.1, 1.2000000000000002, 1.3, 1.4000000000000001, 1.5, 1.6, 1.7000000000000002, 1.8, 1.9000000000000001, 2.0, 2.1, 2.2, 2.3000000000000003, 2.4000000000000004, 2.5, 2.6, 2.7, 2.8000000000000003, 2.9000000000000004, 3.0, 3.1, 3.2, 3.3000000000000003, 3.4000000000000004, 3.5, 3.6, 3.7, 3.8000000000000003, 3.9000000000000004, 4.0, 4.1000000000000005, 4.2, 4.3, 4.4, 4.5, 4.6000000000000005, 4.7], \"y\": [1.0, 0.9950041652780258, 0.9800665778412416, 0.955336489125606, 0.9210609940028851, 0.8775825618903728, 0.8253356149096782, 0.7648421872844884, 0.6967067093471654, 0.6216099682706644, 0.5403023058681398, 0.4535961214255773, 0.3623577544766734, 0.26749882862458735, 0.16996714290024081, 0.0707372016677029, -0.029199522301288815, -0.12884449429552486, -0.2272020946930871, -0.3232895668635036, -0.4161468365471424, -0.5048461045998576, -0.5885011172553458, -0.6662760212798244, -0.7373937155412458, -0.8011436155469337, -0.8568887533689473, -0.9040721420170612, -0.9422223406686583, -0.9709581651495907, -0.9899924966004454, -0.9991351502732795, -0.9982947757947531, -0.9874797699088649, -0.9667981925794609, -0.9364566872907963, -0.896758416334147, -0.848100031710408, -0.7909677119144165, -0.7259323042001399, -0.6536436208636119, -0.5748239465332685, -0.4902608213406994, -0.40079917207997545, -0.30733286997841935, -0.2107957994307797, -0.11215252693505398, -0.01238866346289056], \"type\": \"scatter\"}], \"name\": \"47\"}, {\"data\": [{\"marker\": {\"color\": [0.0, 0.010000000000000002, 0.04000000000000001, 0.09000000000000002, 0.16000000000000003, 0.25, 0.3600000000000001, 0.4900000000000001, 0.6400000000000001, 0.81, 1.0, 1.2100000000000002, 1.4400000000000004, 1.6900000000000002, 1.9600000000000004, 2.25, 2.5600000000000005, 2.8900000000000006, 3.24, 3.6100000000000003, 4.0, 4.41, 4.840000000000001, 5.290000000000001, 5.760000000000002, 6.25, 6.760000000000001, 7.290000000000001, 7.840000000000002, 8.410000000000002, 9.0, 9.610000000000001, 10.240000000000002, 10.890000000000002, 11.560000000000002, 12.25, 12.96, 13.690000000000001, 14.440000000000001, 15.210000000000003, 16.0, 16.810000000000006, 17.64, 18.49, 19.360000000000003, 20.25, 21.160000000000004, 22.090000000000003, 23.040000000000006], \"colorscale\": [[0.0, \"#000004\"], [0.1111111111111111, \"#1b0c41\"], [0.2222222222222222, \"#4a0c6b\"], [0.3333333333333333, \"#781c6d\"], [0.4444444444444444, \"#a52c60\"], [0.5555555555555556, \"#cf4446\"], [0.6666666666666666, \"#ed6925\"], [0.7777777777777778, \"#fb9b06\"], [0.8888888888888888, \"#f7d13d\"], [1.0, \"#fcffa4\"]], \"size\": [0.0, 4.991670832341407, 9.933466539753061, 14.77601033306698, 19.470917115432528, 23.971276930210152, 28.232123669751775, 32.21088436188456, 35.86780454497614, 39.16634548137417, 42.073549240394826, 44.56036800307177, 46.60195429836132, 48.17790927085965, 49.27248649942301, 49.874749330202725, 49.978680152075256, 49.58324052262343, 48.69238154390976, 47.315004384370724, 45.46487134128409, 43.160468332443685, 40.4248201909795, 37.285260608836005, 33.77315902755753, 29.923607205197822, 25.775068591073207, 21.368994011691488, 16.749407507795233, 11.9624664606991, 7.0560004029933605, 2.0790331216645246, 2.9187071713790043, 7.887284707162433, 12.777055101341583, 17.53916138448099, 22.126022164742622, 26.49180704542467, 30.592894547135963, 34.388307959198706, 37.84012476539641, 40.91385555322054, 43.57878862067941, 45.808296837472746, 47.58010369447581, 48.87650588325485, 49.684550181673224, 49.99616287820504, 49.80823044179203]}, \"mode\": \"lines+markers\", \"name\": \"h(x)=sin(x)\", \"x\": [0.0, 0.1, 0.2, 0.30000000000000004, 0.4, 0.5, 0.6000000000000001, 0.7000000000000001, 0.8, 0.9, 1.0, 1.1, 1.2000000000000002, 1.3, 1.4000000000000001, 1.5, 1.6, 1.7000000000000002, 1.8, 1.9000000000000001, 2.0, 2.1, 2.2, 2.3000000000000003, 2.4000000000000004, 2.5, 2.6, 2.7, 2.8000000000000003, 2.9000000000000004, 3.0, 3.1, 3.2, 3.3000000000000003, 3.4000000000000004, 3.5, 3.6, 3.7, 3.8000000000000003, 3.9000000000000004, 4.0, 4.1000000000000005, 4.2, 4.3, 4.4, 4.5, 4.6000000000000005, 4.7, 4.800000000000001], \"y\": [0.0, 0.09983341664682815, 0.19866933079506122, 0.2955202066613396, 0.3894183423086505, 0.479425538604203, 0.5646424733950355, 0.6442176872376911, 0.7173560908995228, 0.7833269096274834, 0.8414709848078965, 0.8912073600614354, 0.9320390859672264, 0.963558185417193, 0.9854497299884603, 0.9974949866040544, 0.9995736030415051, 0.9916648104524686, 0.9738476308781951, 0.9463000876874145, 0.9092974268256817, 0.8632093666488737, 0.8084964038195901, 0.74570521217672, 0.6754631805511506, 0.5984721441039564, 0.5155013718214642, 0.4273798802338298, 0.33498815015590466, 0.23924932921398198, 0.1411200080598672, 0.04158066243329049, -0.058374143427580086, -0.15774569414324865, -0.25554110202683167, -0.35078322768961984, -0.44252044329485246, -0.5298361409084934, -0.6118578909427193, -0.6877661591839741, -0.7568024953079282, -0.8182771110644108, -0.8715757724135882, -0.9161659367494549, -0.9516020738895161, -0.977530117665097, -0.9936910036334645, -0.9999232575641008, -0.9961646088358406], \"type\": \"scatter\"}, {\"marker\": {\"color\": [0.0, 0.010000000000000002, 0.04000000000000001, 0.09000000000000002, 0.16000000000000003, 0.25, 0.3600000000000001, 0.4900000000000001, 0.6400000000000001, 0.81, 1.0, 1.2100000000000002, 1.4400000000000004, 1.6900000000000002, 1.9600000000000004, 2.25, 2.5600000000000005, 2.8900000000000006, 3.24, 3.6100000000000003, 4.0, 4.41, 4.840000000000001, 5.290000000000001, 5.760000000000002, 6.25, 6.760000000000001, 7.290000000000001, 7.840000000000002, 8.410000000000002, 9.0, 9.610000000000001, 10.240000000000002, 10.890000000000002, 11.560000000000002, 12.25, 12.96, 13.690000000000001, 14.440000000000001, 15.210000000000003, 16.0, 16.810000000000006, 17.64, 18.49, 19.360000000000003, 20.25, 21.160000000000004, 22.090000000000003, 23.040000000000006], \"colorscale\": [[0.0, \"#000004\"], [0.1111111111111111, \"#1b0c41\"], [0.2222222222222222, \"#4a0c6b\"], [0.3333333333333333, \"#781c6d\"], [0.4444444444444444, \"#a52c60\"], [0.5555555555555556, \"#cf4446\"], [0.6666666666666666, \"#ed6925\"], [0.7777777777777778, \"#fb9b06\"], [0.8888888888888888, \"#f7d13d\"], [1.0, \"#fcffa4\"]], \"size\": [50.0, 49.75020826390129, 49.00332889206208, 47.7668244562803, 46.05304970014426, 43.879128094518634, 41.26678074548391, 38.24210936422442, 34.83533546735827, 31.08049841353322, 27.01511529340699, 22.679806071278865, 18.117887723833668, 13.374941431229367, 8.49835714501204, 3.5368600833851453, 1.4599761150644408, 6.442224714776243, 11.360104734654355, 16.16447834317518, 20.80734182735712, 25.24230522999288, 29.42505586276729, 33.31380106399122, 36.86968577706229, 40.05718077734669, 42.84443766844737, 45.20360710085306, 47.11111703343291, 48.547908257479534, 49.49962483002227, 49.95675751366397, 49.914738789737655, 49.37398849544324, 48.33990962897305, 46.822834364539816, 44.83792081670735, 42.4050015855204, 39.54838559572082, 36.29661521000699, 32.6821810431806, 28.741197326663425, 24.513041067034973, 20.039958603998773, 15.366643498920968, 10.539789971538985, 5.607626346752699, 0.6194331731445281, 4.374949171972363]}, \"mode\": \"lines+markers\", \"name\": \"k(x)=cos(x)\", \"x\": [0.0, 0.1, 0.2, 0.30000000000000004, 0.4, 0.5, 0.6000000000000001, 0.7000000000000001, 0.8, 0.9, 1.0, 1.1, 1.2000000000000002, 1.3, 1.4000000000000001, 1.5, 1.6, 1.7000000000000002, 1.8, 1.9000000000000001, 2.0, 2.1, 2.2, 2.3000000000000003, 2.4000000000000004, 2.5, 2.6, 2.7, 2.8000000000000003, 2.9000000000000004, 3.0, 3.1, 3.2, 3.3000000000000003, 3.4000000000000004, 3.5, 3.6, 3.7, 3.8000000000000003, 3.9000000000000004, 4.0, 4.1000000000000005, 4.2, 4.3, 4.4, 4.5, 4.6000000000000005, 4.7, 4.800000000000001], \"y\": [1.0, 0.9950041652780258, 0.9800665778412416, 0.955336489125606, 0.9210609940028851, 0.8775825618903728, 0.8253356149096782, 0.7648421872844884, 0.6967067093471654, 0.6216099682706644, 0.5403023058681398, 0.4535961214255773, 0.3623577544766734, 0.26749882862458735, 0.16996714290024081, 0.0707372016677029, -0.029199522301288815, -0.12884449429552486, -0.2272020946930871, -0.3232895668635036, -0.4161468365471424, -0.5048461045998576, -0.5885011172553458, -0.6662760212798244, -0.7373937155412458, -0.8011436155469337, -0.8568887533689473, -0.9040721420170612, -0.9422223406686583, -0.9709581651495907, -0.9899924966004454, -0.9991351502732795, -0.9982947757947531, -0.9874797699088649, -0.9667981925794609, -0.9364566872907963, -0.896758416334147, -0.848100031710408, -0.7909677119144165, -0.7259323042001399, -0.6536436208636119, -0.5748239465332685, -0.4902608213406994, -0.40079917207997545, -0.30733286997841935, -0.2107957994307797, -0.11215252693505398, -0.01238866346289056, 0.08749898343944727], \"type\": \"scatter\"}], \"name\": \"48\"}, {\"data\": [{\"marker\": {\"color\": [0.0, 0.010000000000000002, 0.04000000000000001, 0.09000000000000002, 0.16000000000000003, 0.25, 0.3600000000000001, 0.4900000000000001, 0.6400000000000001, 0.81, 1.0, 1.2100000000000002, 1.4400000000000004, 1.6900000000000002, 1.9600000000000004, 2.25, 2.5600000000000005, 2.8900000000000006, 3.24, 3.6100000000000003, 4.0, 4.41, 4.840000000000001, 5.290000000000001, 5.760000000000002, 6.25, 6.760000000000001, 7.290000000000001, 7.840000000000002, 8.410000000000002, 9.0, 9.610000000000001, 10.240000000000002, 10.890000000000002, 11.560000000000002, 12.25, 12.96, 13.690000000000001, 14.440000000000001, 15.210000000000003, 16.0, 16.810000000000006, 17.64, 18.49, 19.360000000000003, 20.25, 21.160000000000004, 22.090000000000003, 23.040000000000006, 24.010000000000005], \"colorscale\": [[0.0, \"#000004\"], [0.1111111111111111, \"#1b0c41\"], [0.2222222222222222, \"#4a0c6b\"], [0.3333333333333333, \"#781c6d\"], [0.4444444444444444, \"#a52c60\"], [0.5555555555555556, \"#cf4446\"], [0.6666666666666666, \"#ed6925\"], [0.7777777777777778, \"#fb9b06\"], [0.8888888888888888, \"#f7d13d\"], [1.0, \"#fcffa4\"]], \"size\": [0.0, 4.991670832341407, 9.933466539753061, 14.77601033306698, 19.470917115432528, 23.971276930210152, 28.232123669751775, 32.21088436188456, 35.86780454497614, 39.16634548137417, 42.073549240394826, 44.56036800307177, 46.60195429836132, 48.17790927085965, 49.27248649942301, 49.874749330202725, 49.978680152075256, 49.58324052262343, 48.69238154390976, 47.315004384370724, 45.46487134128409, 43.160468332443685, 40.4248201909795, 37.285260608836005, 33.77315902755753, 29.923607205197822, 25.775068591073207, 21.368994011691488, 16.749407507795233, 11.9624664606991, 7.0560004029933605, 2.0790331216645246, 2.9187071713790043, 7.887284707162433, 12.777055101341583, 17.53916138448099, 22.126022164742622, 26.49180704542467, 30.592894547135963, 34.388307959198706, 37.84012476539641, 40.91385555322054, 43.57878862067941, 45.808296837472746, 47.58010369447581, 48.87650588325485, 49.684550181673224, 49.99616287820504, 49.80823044179203, 49.12263063121662]}, \"mode\": \"lines+markers\", \"name\": \"h(x)=sin(x)\", \"x\": [0.0, 0.1, 0.2, 0.30000000000000004, 0.4, 0.5, 0.6000000000000001, 0.7000000000000001, 0.8, 0.9, 1.0, 1.1, 1.2000000000000002, 1.3, 1.4000000000000001, 1.5, 1.6, 1.7000000000000002, 1.8, 1.9000000000000001, 2.0, 2.1, 2.2, 2.3000000000000003, 2.4000000000000004, 2.5, 2.6, 2.7, 2.8000000000000003, 2.9000000000000004, 3.0, 3.1, 3.2, 3.3000000000000003, 3.4000000000000004, 3.5, 3.6, 3.7, 3.8000000000000003, 3.9000000000000004, 4.0, 4.1000000000000005, 4.2, 4.3, 4.4, 4.5, 4.6000000000000005, 4.7, 4.800000000000001, 4.9], \"y\": [0.0, 0.09983341664682815, 0.19866933079506122, 0.2955202066613396, 0.3894183423086505, 0.479425538604203, 0.5646424733950355, 0.6442176872376911, 0.7173560908995228, 0.7833269096274834, 0.8414709848078965, 0.8912073600614354, 0.9320390859672264, 0.963558185417193, 0.9854497299884603, 0.9974949866040544, 0.9995736030415051, 0.9916648104524686, 0.9738476308781951, 0.9463000876874145, 0.9092974268256817, 0.8632093666488737, 0.8084964038195901, 0.74570521217672, 0.6754631805511506, 0.5984721441039564, 0.5155013718214642, 0.4273798802338298, 0.33498815015590466, 0.23924932921398198, 0.1411200080598672, 0.04158066243329049, -0.058374143427580086, -0.15774569414324865, -0.25554110202683167, -0.35078322768961984, -0.44252044329485246, -0.5298361409084934, -0.6118578909427193, -0.6877661591839741, -0.7568024953079282, -0.8182771110644108, -0.8715757724135882, -0.9161659367494549, -0.9516020738895161, -0.977530117665097, -0.9936910036334645, -0.9999232575641008, -0.9961646088358406, -0.9824526126243325], \"type\": \"scatter\"}, {\"marker\": {\"color\": [0.0, 0.010000000000000002, 0.04000000000000001, 0.09000000000000002, 0.16000000000000003, 0.25, 0.3600000000000001, 0.4900000000000001, 0.6400000000000001, 0.81, 1.0, 1.2100000000000002, 1.4400000000000004, 1.6900000000000002, 1.9600000000000004, 2.25, 2.5600000000000005, 2.8900000000000006, 3.24, 3.6100000000000003, 4.0, 4.41, 4.840000000000001, 5.290000000000001, 5.760000000000002, 6.25, 6.760000000000001, 7.290000000000001, 7.840000000000002, 8.410000000000002, 9.0, 9.610000000000001, 10.240000000000002, 10.890000000000002, 11.560000000000002, 12.25, 12.96, 13.690000000000001, 14.440000000000001, 15.210000000000003, 16.0, 16.810000000000006, 17.64, 18.49, 19.360000000000003, 20.25, 21.160000000000004, 22.090000000000003, 23.040000000000006, 24.010000000000005], \"colorscale\": [[0.0, \"#000004\"], [0.1111111111111111, \"#1b0c41\"], [0.2222222222222222, \"#4a0c6b\"], [0.3333333333333333, \"#781c6d\"], [0.4444444444444444, \"#a52c60\"], [0.5555555555555556, \"#cf4446\"], [0.6666666666666666, \"#ed6925\"], [0.7777777777777778, \"#fb9b06\"], [0.8888888888888888, \"#f7d13d\"], [1.0, \"#fcffa4\"]], \"size\": [50.0, 49.75020826390129, 49.00332889206208, 47.7668244562803, 46.05304970014426, 43.879128094518634, 41.26678074548391, 38.24210936422442, 34.83533546735827, 31.08049841353322, 27.01511529340699, 22.679806071278865, 18.117887723833668, 13.374941431229367, 8.49835714501204, 3.5368600833851453, 1.4599761150644408, 6.442224714776243, 11.360104734654355, 16.16447834317518, 20.80734182735712, 25.24230522999288, 29.42505586276729, 33.31380106399122, 36.86968577706229, 40.05718077734669, 42.84443766844737, 45.20360710085306, 47.11111703343291, 48.547908257479534, 49.49962483002227, 49.95675751366397, 49.914738789737655, 49.37398849544324, 48.33990962897305, 46.822834364539816, 44.83792081670735, 42.4050015855204, 39.54838559572082, 36.29661521000699, 32.6821810431806, 28.741197326663425, 24.513041067034973, 20.039958603998773, 15.366643498920968, 10.539789971538985, 5.607626346752699, 0.6194331731445281, 4.374949171972363, 9.325618471128788]}, \"mode\": \"lines+markers\", \"name\": \"k(x)=cos(x)\", \"x\": [0.0, 0.1, 0.2, 0.30000000000000004, 0.4, 0.5, 0.6000000000000001, 0.7000000000000001, 0.8, 0.9, 1.0, 1.1, 1.2000000000000002, 1.3, 1.4000000000000001, 1.5, 1.6, 1.7000000000000002, 1.8, 1.9000000000000001, 2.0, 2.1, 2.2, 2.3000000000000003, 2.4000000000000004, 2.5, 2.6, 2.7, 2.8000000000000003, 2.9000000000000004, 3.0, 3.1, 3.2, 3.3000000000000003, 3.4000000000000004, 3.5, 3.6, 3.7, 3.8000000000000003, 3.9000000000000004, 4.0, 4.1000000000000005, 4.2, 4.3, 4.4, 4.5, 4.6000000000000005, 4.7, 4.800000000000001, 4.9], \"y\": [1.0, 0.9950041652780258, 0.9800665778412416, 0.955336489125606, 0.9210609940028851, 0.8775825618903728, 0.8253356149096782, 0.7648421872844884, 0.6967067093471654, 0.6216099682706644, 0.5403023058681398, 0.4535961214255773, 0.3623577544766734, 0.26749882862458735, 0.16996714290024081, 0.0707372016677029, -0.029199522301288815, -0.12884449429552486, -0.2272020946930871, -0.3232895668635036, -0.4161468365471424, -0.5048461045998576, -0.5885011172553458, -0.6662760212798244, -0.7373937155412458, -0.8011436155469337, -0.8568887533689473, -0.9040721420170612, -0.9422223406686583, -0.9709581651495907, -0.9899924966004454, -0.9991351502732795, -0.9982947757947531, -0.9874797699088649, -0.9667981925794609, -0.9364566872907963, -0.896758416334147, -0.848100031710408, -0.7909677119144165, -0.7259323042001399, -0.6536436208636119, -0.5748239465332685, -0.4902608213406994, -0.40079917207997545, -0.30733286997841935, -0.2107957994307797, -0.11215252693505398, -0.01238866346289056, 0.08749898343944727, 0.18651236942257576], \"type\": \"scatter\"}], \"name\": \"49\"}]);\n",
       "                        }).then(function(){\n",
       "                            \n",
       "var gd = document.getElementById('c3f45d06-31a0-4542-aa97-09e67b20c5b0');\n",
       "var x = new MutationObserver(function (mutations, observer) {{\n",
       "        var display = window.getComputedStyle(gd).display;\n",
       "        if (!display || display === 'none') {{\n",
       "            console.log([gd, 'removed!']);\n",
       "            Plotly.purge(gd);\n",
       "            observer.disconnect();\n",
       "        }}\n",
       "}});\n",
       "\n",
       "// Listen for the removal of the full notebook cells\n",
       "var notebookContainer = gd.closest('#notebook-container');\n",
       "if (notebookContainer) {{\n",
       "    x.observe(notebookContainer, {childList: true});\n",
       "}}\n",
       "\n",
       "// Listen for the clearing of the current output cell\n",
       "var outputEl = gd.closest('.output');\n",
       "if (outputEl) {{\n",
       "    x.observe(outputEl, {childList: true});\n",
       "}}\n",
       "\n",
       "                        })\n",
       "                };\n",
       "                });\n",
       "            </script>\n",
       "        </div>"
      ]
     },
     "metadata": {},
     "output_type": "display_data"
    }
   ],
   "source": [
    "num_steps = len(x)\n",
    "fig = go.Figure(data=[go.Scatter(x=[x[0]], y=[h(x)[0]], mode='lines+markers', name='h(x)=sin(x)',\n",
    "                                 marker=dict(color=[f(x[0])], colorbar=dict(yanchor='top', y=0.8, title=\"f(x)=x<sup>2</sup>\"), colorscale='Inferno', size=[50*abs(h(x[0]))])),\n",
    "                      go.Scatter(x=[x[0]], y=[k(x)[0]], mode='lines+markers', name='k(x)=cos(x)',\n",
    "                                 marker=dict(color=[f(x[0])], colorscale='Inferno', size=[50*abs(k(x[0]))]))])\n",
    "\n",
    "frames=[]\n",
    "for i in range(0, len(x)):\n",
    "    frames.append(go.Frame(name=str(i),\n",
    "                           data=[go.Scatter(x=x[:i+1], y=h(x[:i+1]), mode='lines+markers', name='h(x)=sin(x)',\n",
    "                                            marker=dict(color=f(x[:i+1]), colorscale='Inferno', size=50*abs(h(x[:i+1])))),\n",
    "                                 go.Scatter(x=x[:i+1], y=k(x[:i+1]), mode='lines+markers', name='k(x)=cos(x)',\n",
    "                                            marker=dict(color=f(x[:i+1]), colorscale='Inferno', size=50*abs(k(x[:i+1]))))])) \n",
    "\n",
    "steps = []\n",
    "for i in range(num_steps):\n",
    "    step = dict(\n",
    "        label = str(i),\n",
    "        method = \"animate\",\n",
    "        args = [[str(i)]]\n",
    "    )\n",
    "    steps.append(step)\n",
    "\n",
    "sliders = [dict(\n",
    "    currentvalue = {\"prefix\": \"Шаг №\", \"font\": {\"size\": 20}},\n",
    "    len = 0.9,\n",
    "    x = 0.1,\n",
    "    pad = {\"b\": 10, \"t\": 50},\n",
    "    steps = steps,\n",
    ")]\n",
    "\n",
    "fig.update_layout(title=\"Строим синус и косинус по шагам\",\n",
    "                  xaxis_title=\"Ось X\",\n",
    "                  yaxis_title=\"Ось Y\",\n",
    "                  updatemenus=[dict(direction=\"left\",\n",
    "                                    pad = {\"r\": 10, \"t\": 80},\n",
    "                                    x = 0.1,\n",
    "                                    xanchor = \"right\",\n",
    "                                    y = 0,\n",
    "                                    yanchor = \"top\",\n",
    "                                    showactive=False,\n",
    "                                    type=\"buttons\", \n",
    "                                    buttons=[dict(label=\"►\", method=\"animate\", args=[None, {\"fromcurrent\": True}]),\n",
    "                                             dict(label=\"❚❚\", method=\"animate\", args=[[None], {\"frame\": {\"duration\": 0, \"redraw\": False},\n",
    "                                                                                               \"mode\": \"immediate\",\n",
    "                                                                                               \"transition\": {\"duration\": 0}}])])],\n",
    "                  )\n",
    "\n",
    "\n",
    "fig.layout.sliders = sliders\n",
    "fig.frames = frames  \n",
    "\n",
    "fig.show()"
   ]
  },
  {
   "cell_type": "markdown",
   "metadata": {},
   "source": [
    "Возникает вопрос зачем же мы делали вариант с невидимыми графиками, если они не пригодились?\n",
    "\n",
    "На самом деле они нужны, в том числе для анимации. Дело в том, что если вы хотите на разных слайдах анимации показывать разное количество графиков, то вам надо в самом начале на этапе создания фигуры добавить столько графиков, сколько их может отображаться максимально. Они все должны быть невидимыми.\n",
    "\n",
    "Я специально задам 2 переменные:\n",
    "\n",
    "graphs_invisible — содержит как невидимый корректный график, так и пустой объект графика вообще без указания видимости\n",
    "graphs_visible — содержит корректные видимые графики, которые надо показывать по очереди\n",
    "\n",
    "В первоначальном состоянии мы отобразим невидимые графики или пустышки, а в каждом фрейме будем комбинировать видимые и невидимые, чтобы их количество было постоянным.\n"
   ]
  },
  {
   "cell_type": "code",
   "execution_count": 48,
   "metadata": {},
   "outputs": [
    {
     "data": {
      "application/vnd.plotly.v1+json": {
       "config": {
        "plotlyServerURL": "https://plot.ly"
       },
       "data": [
        {
         "name": "f(x)=x<sup>2</sup>",
         "type": "scatter",
         "visible": false,
         "x": [
          0,
          0.1,
          0.2,
          0.30000000000000004,
          0.4,
          0.5,
          0.6000000000000001,
          0.7000000000000001,
          0.8,
          0.9,
          1,
          1.1,
          1.2000000000000002,
          1.3,
          1.4000000000000001,
          1.5,
          1.6,
          1.7000000000000002,
          1.8,
          1.9000000000000001,
          2,
          2.1,
          2.2,
          2.3000000000000003,
          2.4000000000000004,
          2.5,
          2.6,
          2.7,
          2.8000000000000003,
          2.9000000000000004,
          3,
          3.1,
          3.2,
          3.3000000000000003,
          3.4000000000000004,
          3.5,
          3.6,
          3.7,
          3.8000000000000003,
          3.9000000000000004,
          4,
          4.1000000000000005,
          4.2,
          4.3,
          4.4,
          4.5,
          4.6000000000000005,
          4.7,
          4.800000000000001,
          4.9
         ],
         "y": [
          0,
          0.010000000000000002,
          0.04000000000000001,
          0.09000000000000002,
          0.16000000000000003,
          0.25,
          0.3600000000000001,
          0.4900000000000001,
          0.6400000000000001,
          0.81,
          1,
          1.2100000000000002,
          1.4400000000000004,
          1.6900000000000002,
          1.9600000000000004,
          2.25,
          2.5600000000000005,
          2.8900000000000006,
          3.24,
          3.6100000000000003,
          4,
          4.41,
          4.840000000000001,
          5.290000000000001,
          5.760000000000002,
          6.25,
          6.760000000000001,
          7.290000000000001,
          7.840000000000002,
          8.410000000000002,
          9,
          9.610000000000001,
          10.240000000000002,
          10.890000000000002,
          11.560000000000002,
          12.25,
          12.96,
          13.690000000000001,
          14.440000000000001,
          15.210000000000003,
          16,
          16.810000000000006,
          17.64,
          18.49,
          19.360000000000003,
          20.25,
          21.160000000000004,
          22.090000000000003,
          23.040000000000006,
          24.010000000000005
         ]
        },
        {
         "name": "g(x)=x",
         "type": "scatter",
         "visible": false,
         "x": [
          0,
          0.1,
          0.2,
          0.30000000000000004,
          0.4,
          0.5,
          0.6000000000000001,
          0.7000000000000001,
          0.8,
          0.9,
          1,
          1.1,
          1.2000000000000002,
          1.3,
          1.4000000000000001,
          1.5,
          1.6,
          1.7000000000000002,
          1.8,
          1.9000000000000001,
          2,
          2.1,
          2.2,
          2.3000000000000003,
          2.4000000000000004,
          2.5,
          2.6,
          2.7,
          2.8000000000000003,
          2.9000000000000004,
          3,
          3.1,
          3.2,
          3.3000000000000003,
          3.4000000000000004,
          3.5,
          3.6,
          3.7,
          3.8000000000000003,
          3.9000000000000004,
          4,
          4.1000000000000005,
          4.2,
          4.3,
          4.4,
          4.5,
          4.6000000000000005,
          4.7,
          4.800000000000001,
          4.9
         ],
         "y": [
          0,
          0.1,
          0.2,
          0.30000000000000004,
          0.4,
          0.5,
          0.6000000000000001,
          0.7000000000000001,
          0.8,
          0.9,
          1,
          1.1,
          1.2000000000000002,
          1.3,
          1.4000000000000001,
          1.5,
          1.6,
          1.7000000000000002,
          1.8,
          1.9000000000000001,
          2,
          2.1,
          2.2,
          2.3000000000000003,
          2.4000000000000004,
          2.5,
          2.6,
          2.7,
          2.8000000000000003,
          2.9000000000000004,
          3,
          3.1,
          3.2,
          3.3000000000000003,
          3.4000000000000004,
          3.5,
          3.6,
          3.7,
          3.8000000000000003,
          3.9000000000000004,
          4,
          4.1000000000000005,
          4.2,
          4.3,
          4.4,
          4.5,
          4.6000000000000005,
          4.7,
          4.800000000000001,
          4.9
         ]
        },
        {
         "name": "h(x)=sin(x)",
         "type": "scatter",
         "visible": false,
         "x": [
          0,
          0.1,
          0.2,
          0.30000000000000004,
          0.4,
          0.5,
          0.6000000000000001,
          0.7000000000000001,
          0.8,
          0.9,
          1,
          1.1,
          1.2000000000000002,
          1.3,
          1.4000000000000001,
          1.5,
          1.6,
          1.7000000000000002,
          1.8,
          1.9000000000000001,
          2,
          2.1,
          2.2,
          2.3000000000000003,
          2.4000000000000004,
          2.5,
          2.6,
          2.7,
          2.8000000000000003,
          2.9000000000000004,
          3,
          3.1,
          3.2,
          3.3000000000000003,
          3.4000000000000004,
          3.5,
          3.6,
          3.7,
          3.8000000000000003,
          3.9000000000000004,
          4,
          4.1000000000000005,
          4.2,
          4.3,
          4.4,
          4.5,
          4.6000000000000005,
          4.7,
          4.800000000000001,
          4.9
         ],
         "y": [
          0,
          0.09983341664682815,
          0.19866933079506122,
          0.2955202066613396,
          0.3894183423086505,
          0.479425538604203,
          0.5646424733950355,
          0.6442176872376911,
          0.7173560908995228,
          0.7833269096274834,
          0.8414709848078965,
          0.8912073600614354,
          0.9320390859672264,
          0.963558185417193,
          0.9854497299884603,
          0.9974949866040544,
          0.9995736030415051,
          0.9916648104524686,
          0.9738476308781951,
          0.9463000876874145,
          0.9092974268256817,
          0.8632093666488737,
          0.8084964038195901,
          0.74570521217672,
          0.6754631805511506,
          0.5984721441039564,
          0.5155013718214642,
          0.4273798802338298,
          0.33498815015590466,
          0.23924932921398198,
          0.1411200080598672,
          0.04158066243329049,
          -0.058374143427580086,
          -0.15774569414324865,
          -0.25554110202683167,
          -0.35078322768961984,
          -0.44252044329485246,
          -0.5298361409084934,
          -0.6118578909427193,
          -0.6877661591839741,
          -0.7568024953079282,
          -0.8182771110644108,
          -0.8715757724135882,
          -0.9161659367494549,
          -0.9516020738895161,
          -0.977530117665097,
          -0.9936910036334645,
          -0.9999232575641008,
          -0.9961646088358406,
          -0.9824526126243325
         ]
        },
        {
         "name": "k(x)=cos(x)",
         "type": "scatter",
         "visible": false,
         "x": [
          0,
          0.1,
          0.2,
          0.30000000000000004,
          0.4,
          0.5,
          0.6000000000000001,
          0.7000000000000001,
          0.8,
          0.9,
          1,
          1.1,
          1.2000000000000002,
          1.3,
          1.4000000000000001,
          1.5,
          1.6,
          1.7000000000000002,
          1.8,
          1.9000000000000001,
          2,
          2.1,
          2.2,
          2.3000000000000003,
          2.4000000000000004,
          2.5,
          2.6,
          2.7,
          2.8000000000000003,
          2.9000000000000004,
          3,
          3.1,
          3.2,
          3.3000000000000003,
          3.4000000000000004,
          3.5,
          3.6,
          3.7,
          3.8000000000000003,
          3.9000000000000004,
          4,
          4.1000000000000005,
          4.2,
          4.3,
          4.4,
          4.5,
          4.6000000000000005,
          4.7,
          4.800000000000001,
          4.9
         ],
         "y": [
          1,
          0.9950041652780258,
          0.9800665778412416,
          0.955336489125606,
          0.9210609940028851,
          0.8775825618903728,
          0.8253356149096782,
          0.7648421872844884,
          0.6967067093471654,
          0.6216099682706644,
          0.5403023058681398,
          0.4535961214255773,
          0.3623577544766734,
          0.26749882862458735,
          0.16996714290024081,
          0.0707372016677029,
          -0.029199522301288815,
          -0.12884449429552486,
          -0.2272020946930871,
          -0.3232895668635036,
          -0.4161468365471424,
          -0.5048461045998576,
          -0.5885011172553458,
          -0.6662760212798244,
          -0.7373937155412458,
          -0.8011436155469337,
          -0.8568887533689473,
          -0.9040721420170612,
          -0.9422223406686583,
          -0.9709581651495907,
          -0.9899924966004454,
          -0.9991351502732795,
          -0.9982947757947531,
          -0.9874797699088649,
          -0.9667981925794609,
          -0.9364566872907963,
          -0.896758416334147,
          -0.848100031710408,
          -0.7909677119144165,
          -0.7259323042001399,
          -0.6536436208636119,
          -0.5748239465332685,
          -0.4902608213406994,
          -0.40079917207997545,
          -0.30733286997841935,
          -0.2107957994307797,
          -0.11215252693505398,
          -0.01238866346289056,
          0.08749898343944727,
          0.18651236942257576
         ]
        }
       ],
       "frames": [
        {
         "data": [
          {
           "name": "f(x)=x<sup>2</sup>",
           "type": "scatter",
           "visible": false,
           "x": [
            0,
            0.1,
            0.2,
            0.30000000000000004,
            0.4,
            0.5,
            0.6000000000000001,
            0.7000000000000001,
            0.8,
            0.9,
            1,
            1.1,
            1.2000000000000002,
            1.3,
            1.4000000000000001,
            1.5,
            1.6,
            1.7000000000000002,
            1.8,
            1.9000000000000001,
            2,
            2.1,
            2.2,
            2.3000000000000003,
            2.4000000000000004,
            2.5,
            2.6,
            2.7,
            2.8000000000000003,
            2.9000000000000004,
            3,
            3.1,
            3.2,
            3.3000000000000003,
            3.4000000000000004,
            3.5,
            3.6,
            3.7,
            3.8000000000000003,
            3.9000000000000004,
            4,
            4.1000000000000005,
            4.2,
            4.3,
            4.4,
            4.5,
            4.6000000000000005,
            4.7,
            4.800000000000001,
            4.9
           ],
           "y": [
            0,
            0.010000000000000002,
            0.04000000000000001,
            0.09000000000000002,
            0.16000000000000003,
            0.25,
            0.3600000000000001,
            0.4900000000000001,
            0.6400000000000001,
            0.81,
            1,
            1.2100000000000002,
            1.4400000000000004,
            1.6900000000000002,
            1.9600000000000004,
            2.25,
            2.5600000000000005,
            2.8900000000000006,
            3.24,
            3.6100000000000003,
            4,
            4.41,
            4.840000000000001,
            5.290000000000001,
            5.760000000000002,
            6.25,
            6.760000000000001,
            7.290000000000001,
            7.840000000000002,
            8.410000000000002,
            9,
            9.610000000000001,
            10.240000000000002,
            10.890000000000002,
            11.560000000000002,
            12.25,
            12.96,
            13.690000000000001,
            14.440000000000001,
            15.210000000000003,
            16,
            16.810000000000006,
            17.64,
            18.49,
            19.360000000000003,
            20.25,
            21.160000000000004,
            22.090000000000003,
            23.040000000000006,
            24.010000000000005
           ]
          },
          {
           "name": "g(x)=x",
           "type": "scatter",
           "visible": false,
           "x": [
            0,
            0.1,
            0.2,
            0.30000000000000004,
            0.4,
            0.5,
            0.6000000000000001,
            0.7000000000000001,
            0.8,
            0.9,
            1,
            1.1,
            1.2000000000000002,
            1.3,
            1.4000000000000001,
            1.5,
            1.6,
            1.7000000000000002,
            1.8,
            1.9000000000000001,
            2,
            2.1,
            2.2,
            2.3000000000000003,
            2.4000000000000004,
            2.5,
            2.6,
            2.7,
            2.8000000000000003,
            2.9000000000000004,
            3,
            3.1,
            3.2,
            3.3000000000000003,
            3.4000000000000004,
            3.5,
            3.6,
            3.7,
            3.8000000000000003,
            3.9000000000000004,
            4,
            4.1000000000000005,
            4.2,
            4.3,
            4.4,
            4.5,
            4.6000000000000005,
            4.7,
            4.800000000000001,
            4.9
           ],
           "y": [
            0,
            0.1,
            0.2,
            0.30000000000000004,
            0.4,
            0.5,
            0.6000000000000001,
            0.7000000000000001,
            0.8,
            0.9,
            1,
            1.1,
            1.2000000000000002,
            1.3,
            1.4000000000000001,
            1.5,
            1.6,
            1.7000000000000002,
            1.8,
            1.9000000000000001,
            2,
            2.1,
            2.2,
            2.3000000000000003,
            2.4000000000000004,
            2.5,
            2.6,
            2.7,
            2.8000000000000003,
            2.9000000000000004,
            3,
            3.1,
            3.2,
            3.3000000000000003,
            3.4000000000000004,
            3.5,
            3.6,
            3.7,
            3.8000000000000003,
            3.9000000000000004,
            4,
            4.1000000000000005,
            4.2,
            4.3,
            4.4,
            4.5,
            4.6000000000000005,
            4.7,
            4.800000000000001,
            4.9
           ]
          },
          {
           "name": "h(x)=sin(x)",
           "type": "scatter",
           "visible": false,
           "x": [
            0,
            0.1,
            0.2,
            0.30000000000000004,
            0.4,
            0.5,
            0.6000000000000001,
            0.7000000000000001,
            0.8,
            0.9,
            1,
            1.1,
            1.2000000000000002,
            1.3,
            1.4000000000000001,
            1.5,
            1.6,
            1.7000000000000002,
            1.8,
            1.9000000000000001,
            2,
            2.1,
            2.2,
            2.3000000000000003,
            2.4000000000000004,
            2.5,
            2.6,
            2.7,
            2.8000000000000003,
            2.9000000000000004,
            3,
            3.1,
            3.2,
            3.3000000000000003,
            3.4000000000000004,
            3.5,
            3.6,
            3.7,
            3.8000000000000003,
            3.9000000000000004,
            4,
            4.1000000000000005,
            4.2,
            4.3,
            4.4,
            4.5,
            4.6000000000000005,
            4.7,
            4.800000000000001,
            4.9
           ],
           "y": [
            0,
            0.09983341664682815,
            0.19866933079506122,
            0.2955202066613396,
            0.3894183423086505,
            0.479425538604203,
            0.5646424733950355,
            0.6442176872376911,
            0.7173560908995228,
            0.7833269096274834,
            0.8414709848078965,
            0.8912073600614354,
            0.9320390859672264,
            0.963558185417193,
            0.9854497299884603,
            0.9974949866040544,
            0.9995736030415051,
            0.9916648104524686,
            0.9738476308781951,
            0.9463000876874145,
            0.9092974268256817,
            0.8632093666488737,
            0.8084964038195901,
            0.74570521217672,
            0.6754631805511506,
            0.5984721441039564,
            0.5155013718214642,
            0.4273798802338298,
            0.33498815015590466,
            0.23924932921398198,
            0.1411200080598672,
            0.04158066243329049,
            -0.058374143427580086,
            -0.15774569414324865,
            -0.25554110202683167,
            -0.35078322768961984,
            -0.44252044329485246,
            -0.5298361409084934,
            -0.6118578909427193,
            -0.6877661591839741,
            -0.7568024953079282,
            -0.8182771110644108,
            -0.8715757724135882,
            -0.9161659367494549,
            -0.9516020738895161,
            -0.977530117665097,
            -0.9936910036334645,
            -0.9999232575641008,
            -0.9961646088358406,
            -0.9824526126243325
           ]
          },
          {
           "name": "k(x)=cos(x)",
           "type": "scatter",
           "visible": false,
           "x": [
            0,
            0.1,
            0.2,
            0.30000000000000004,
            0.4,
            0.5,
            0.6000000000000001,
            0.7000000000000001,
            0.8,
            0.9,
            1,
            1.1,
            1.2000000000000002,
            1.3,
            1.4000000000000001,
            1.5,
            1.6,
            1.7000000000000002,
            1.8,
            1.9000000000000001,
            2,
            2.1,
            2.2,
            2.3000000000000003,
            2.4000000000000004,
            2.5,
            2.6,
            2.7,
            2.8000000000000003,
            2.9000000000000004,
            3,
            3.1,
            3.2,
            3.3000000000000003,
            3.4000000000000004,
            3.5,
            3.6,
            3.7,
            3.8000000000000003,
            3.9000000000000004,
            4,
            4.1000000000000005,
            4.2,
            4.3,
            4.4,
            4.5,
            4.6000000000000005,
            4.7,
            4.800000000000001,
            4.9
           ],
           "y": [
            1,
            0.9950041652780258,
            0.9800665778412416,
            0.955336489125606,
            0.9210609940028851,
            0.8775825618903728,
            0.8253356149096782,
            0.7648421872844884,
            0.6967067093471654,
            0.6216099682706644,
            0.5403023058681398,
            0.4535961214255773,
            0.3623577544766734,
            0.26749882862458735,
            0.16996714290024081,
            0.0707372016677029,
            -0.029199522301288815,
            -0.12884449429552486,
            -0.2272020946930871,
            -0.3232895668635036,
            -0.4161468365471424,
            -0.5048461045998576,
            -0.5885011172553458,
            -0.6662760212798244,
            -0.7373937155412458,
            -0.8011436155469337,
            -0.8568887533689473,
            -0.9040721420170612,
            -0.9422223406686583,
            -0.9709581651495907,
            -0.9899924966004454,
            -0.9991351502732795,
            -0.9982947757947531,
            -0.9874797699088649,
            -0.9667981925794609,
            -0.9364566872907963,
            -0.896758416334147,
            -0.848100031710408,
            -0.7909677119144165,
            -0.7259323042001399,
            -0.6536436208636119,
            -0.5748239465332685,
            -0.4902608213406994,
            -0.40079917207997545,
            -0.30733286997841935,
            -0.2107957994307797,
            -0.11215252693505398,
            -0.01238866346289056,
            0.08749898343944727,
            0.18651236942257576
           ]
          }
         ],
         "name": "0"
        },
        {
         "data": [
          {
           "name": "f(x)=x<sup>2</sup>",
           "type": "scatter",
           "visible": true,
           "x": [
            0,
            0.1,
            0.2,
            0.30000000000000004,
            0.4,
            0.5,
            0.6000000000000001,
            0.7000000000000001,
            0.8,
            0.9,
            1,
            1.1,
            1.2000000000000002,
            1.3,
            1.4000000000000001,
            1.5,
            1.6,
            1.7000000000000002,
            1.8,
            1.9000000000000001,
            2,
            2.1,
            2.2,
            2.3000000000000003,
            2.4000000000000004,
            2.5,
            2.6,
            2.7,
            2.8000000000000003,
            2.9000000000000004,
            3,
            3.1,
            3.2,
            3.3000000000000003,
            3.4000000000000004,
            3.5,
            3.6,
            3.7,
            3.8000000000000003,
            3.9000000000000004,
            4,
            4.1000000000000005,
            4.2,
            4.3,
            4.4,
            4.5,
            4.6000000000000005,
            4.7,
            4.800000000000001,
            4.9
           ],
           "y": [
            0,
            0.010000000000000002,
            0.04000000000000001,
            0.09000000000000002,
            0.16000000000000003,
            0.25,
            0.3600000000000001,
            0.4900000000000001,
            0.6400000000000001,
            0.81,
            1,
            1.2100000000000002,
            1.4400000000000004,
            1.6900000000000002,
            1.9600000000000004,
            2.25,
            2.5600000000000005,
            2.8900000000000006,
            3.24,
            3.6100000000000003,
            4,
            4.41,
            4.840000000000001,
            5.290000000000001,
            5.760000000000002,
            6.25,
            6.760000000000001,
            7.290000000000001,
            7.840000000000002,
            8.410000000000002,
            9,
            9.610000000000001,
            10.240000000000002,
            10.890000000000002,
            11.560000000000002,
            12.25,
            12.96,
            13.690000000000001,
            14.440000000000001,
            15.210000000000003,
            16,
            16.810000000000006,
            17.64,
            18.49,
            19.360000000000003,
            20.25,
            21.160000000000004,
            22.090000000000003,
            23.040000000000006,
            24.010000000000005
           ]
          },
          {
           "name": "g(x)=x",
           "type": "scatter",
           "visible": false,
           "x": [
            0,
            0.1,
            0.2,
            0.30000000000000004,
            0.4,
            0.5,
            0.6000000000000001,
            0.7000000000000001,
            0.8,
            0.9,
            1,
            1.1,
            1.2000000000000002,
            1.3,
            1.4000000000000001,
            1.5,
            1.6,
            1.7000000000000002,
            1.8,
            1.9000000000000001,
            2,
            2.1,
            2.2,
            2.3000000000000003,
            2.4000000000000004,
            2.5,
            2.6,
            2.7,
            2.8000000000000003,
            2.9000000000000004,
            3,
            3.1,
            3.2,
            3.3000000000000003,
            3.4000000000000004,
            3.5,
            3.6,
            3.7,
            3.8000000000000003,
            3.9000000000000004,
            4,
            4.1000000000000005,
            4.2,
            4.3,
            4.4,
            4.5,
            4.6000000000000005,
            4.7,
            4.800000000000001,
            4.9
           ],
           "y": [
            0,
            0.1,
            0.2,
            0.30000000000000004,
            0.4,
            0.5,
            0.6000000000000001,
            0.7000000000000001,
            0.8,
            0.9,
            1,
            1.1,
            1.2000000000000002,
            1.3,
            1.4000000000000001,
            1.5,
            1.6,
            1.7000000000000002,
            1.8,
            1.9000000000000001,
            2,
            2.1,
            2.2,
            2.3000000000000003,
            2.4000000000000004,
            2.5,
            2.6,
            2.7,
            2.8000000000000003,
            2.9000000000000004,
            3,
            3.1,
            3.2,
            3.3000000000000003,
            3.4000000000000004,
            3.5,
            3.6,
            3.7,
            3.8000000000000003,
            3.9000000000000004,
            4,
            4.1000000000000005,
            4.2,
            4.3,
            4.4,
            4.5,
            4.6000000000000005,
            4.7,
            4.800000000000001,
            4.9
           ]
          },
          {
           "name": "h(x)=sin(x)",
           "type": "scatter",
           "visible": false,
           "x": [
            0,
            0.1,
            0.2,
            0.30000000000000004,
            0.4,
            0.5,
            0.6000000000000001,
            0.7000000000000001,
            0.8,
            0.9,
            1,
            1.1,
            1.2000000000000002,
            1.3,
            1.4000000000000001,
            1.5,
            1.6,
            1.7000000000000002,
            1.8,
            1.9000000000000001,
            2,
            2.1,
            2.2,
            2.3000000000000003,
            2.4000000000000004,
            2.5,
            2.6,
            2.7,
            2.8000000000000003,
            2.9000000000000004,
            3,
            3.1,
            3.2,
            3.3000000000000003,
            3.4000000000000004,
            3.5,
            3.6,
            3.7,
            3.8000000000000003,
            3.9000000000000004,
            4,
            4.1000000000000005,
            4.2,
            4.3,
            4.4,
            4.5,
            4.6000000000000005,
            4.7,
            4.800000000000001,
            4.9
           ],
           "y": [
            0,
            0.09983341664682815,
            0.19866933079506122,
            0.2955202066613396,
            0.3894183423086505,
            0.479425538604203,
            0.5646424733950355,
            0.6442176872376911,
            0.7173560908995228,
            0.7833269096274834,
            0.8414709848078965,
            0.8912073600614354,
            0.9320390859672264,
            0.963558185417193,
            0.9854497299884603,
            0.9974949866040544,
            0.9995736030415051,
            0.9916648104524686,
            0.9738476308781951,
            0.9463000876874145,
            0.9092974268256817,
            0.8632093666488737,
            0.8084964038195901,
            0.74570521217672,
            0.6754631805511506,
            0.5984721441039564,
            0.5155013718214642,
            0.4273798802338298,
            0.33498815015590466,
            0.23924932921398198,
            0.1411200080598672,
            0.04158066243329049,
            -0.058374143427580086,
            -0.15774569414324865,
            -0.25554110202683167,
            -0.35078322768961984,
            -0.44252044329485246,
            -0.5298361409084934,
            -0.6118578909427193,
            -0.6877661591839741,
            -0.7568024953079282,
            -0.8182771110644108,
            -0.8715757724135882,
            -0.9161659367494549,
            -0.9516020738895161,
            -0.977530117665097,
            -0.9936910036334645,
            -0.9999232575641008,
            -0.9961646088358406,
            -0.9824526126243325
           ]
          },
          {
           "name": "k(x)=cos(x)",
           "type": "scatter",
           "visible": false,
           "x": [
            0,
            0.1,
            0.2,
            0.30000000000000004,
            0.4,
            0.5,
            0.6000000000000001,
            0.7000000000000001,
            0.8,
            0.9,
            1,
            1.1,
            1.2000000000000002,
            1.3,
            1.4000000000000001,
            1.5,
            1.6,
            1.7000000000000002,
            1.8,
            1.9000000000000001,
            2,
            2.1,
            2.2,
            2.3000000000000003,
            2.4000000000000004,
            2.5,
            2.6,
            2.7,
            2.8000000000000003,
            2.9000000000000004,
            3,
            3.1,
            3.2,
            3.3000000000000003,
            3.4000000000000004,
            3.5,
            3.6,
            3.7,
            3.8000000000000003,
            3.9000000000000004,
            4,
            4.1000000000000005,
            4.2,
            4.3,
            4.4,
            4.5,
            4.6000000000000005,
            4.7,
            4.800000000000001,
            4.9
           ],
           "y": [
            1,
            0.9950041652780258,
            0.9800665778412416,
            0.955336489125606,
            0.9210609940028851,
            0.8775825618903728,
            0.8253356149096782,
            0.7648421872844884,
            0.6967067093471654,
            0.6216099682706644,
            0.5403023058681398,
            0.4535961214255773,
            0.3623577544766734,
            0.26749882862458735,
            0.16996714290024081,
            0.0707372016677029,
            -0.029199522301288815,
            -0.12884449429552486,
            -0.2272020946930871,
            -0.3232895668635036,
            -0.4161468365471424,
            -0.5048461045998576,
            -0.5885011172553458,
            -0.6662760212798244,
            -0.7373937155412458,
            -0.8011436155469337,
            -0.8568887533689473,
            -0.9040721420170612,
            -0.9422223406686583,
            -0.9709581651495907,
            -0.9899924966004454,
            -0.9991351502732795,
            -0.9982947757947531,
            -0.9874797699088649,
            -0.9667981925794609,
            -0.9364566872907963,
            -0.896758416334147,
            -0.848100031710408,
            -0.7909677119144165,
            -0.7259323042001399,
            -0.6536436208636119,
            -0.5748239465332685,
            -0.4902608213406994,
            -0.40079917207997545,
            -0.30733286997841935,
            -0.2107957994307797,
            -0.11215252693505398,
            -0.01238866346289056,
            0.08749898343944727,
            0.18651236942257576
           ]
          }
         ],
         "name": "1"
        },
        {
         "data": [
          {
           "name": "f(x)=x<sup>2</sup>",
           "type": "scatter",
           "visible": true,
           "x": [
            0,
            0.1,
            0.2,
            0.30000000000000004,
            0.4,
            0.5,
            0.6000000000000001,
            0.7000000000000001,
            0.8,
            0.9,
            1,
            1.1,
            1.2000000000000002,
            1.3,
            1.4000000000000001,
            1.5,
            1.6,
            1.7000000000000002,
            1.8,
            1.9000000000000001,
            2,
            2.1,
            2.2,
            2.3000000000000003,
            2.4000000000000004,
            2.5,
            2.6,
            2.7,
            2.8000000000000003,
            2.9000000000000004,
            3,
            3.1,
            3.2,
            3.3000000000000003,
            3.4000000000000004,
            3.5,
            3.6,
            3.7,
            3.8000000000000003,
            3.9000000000000004,
            4,
            4.1000000000000005,
            4.2,
            4.3,
            4.4,
            4.5,
            4.6000000000000005,
            4.7,
            4.800000000000001,
            4.9
           ],
           "y": [
            0,
            0.010000000000000002,
            0.04000000000000001,
            0.09000000000000002,
            0.16000000000000003,
            0.25,
            0.3600000000000001,
            0.4900000000000001,
            0.6400000000000001,
            0.81,
            1,
            1.2100000000000002,
            1.4400000000000004,
            1.6900000000000002,
            1.9600000000000004,
            2.25,
            2.5600000000000005,
            2.8900000000000006,
            3.24,
            3.6100000000000003,
            4,
            4.41,
            4.840000000000001,
            5.290000000000001,
            5.760000000000002,
            6.25,
            6.760000000000001,
            7.290000000000001,
            7.840000000000002,
            8.410000000000002,
            9,
            9.610000000000001,
            10.240000000000002,
            10.890000000000002,
            11.560000000000002,
            12.25,
            12.96,
            13.690000000000001,
            14.440000000000001,
            15.210000000000003,
            16,
            16.810000000000006,
            17.64,
            18.49,
            19.360000000000003,
            20.25,
            21.160000000000004,
            22.090000000000003,
            23.040000000000006,
            24.010000000000005
           ]
          },
          {
           "name": "g(x)=x",
           "type": "scatter",
           "visible": true,
           "x": [
            0,
            0.1,
            0.2,
            0.30000000000000004,
            0.4,
            0.5,
            0.6000000000000001,
            0.7000000000000001,
            0.8,
            0.9,
            1,
            1.1,
            1.2000000000000002,
            1.3,
            1.4000000000000001,
            1.5,
            1.6,
            1.7000000000000002,
            1.8,
            1.9000000000000001,
            2,
            2.1,
            2.2,
            2.3000000000000003,
            2.4000000000000004,
            2.5,
            2.6,
            2.7,
            2.8000000000000003,
            2.9000000000000004,
            3,
            3.1,
            3.2,
            3.3000000000000003,
            3.4000000000000004,
            3.5,
            3.6,
            3.7,
            3.8000000000000003,
            3.9000000000000004,
            4,
            4.1000000000000005,
            4.2,
            4.3,
            4.4,
            4.5,
            4.6000000000000005,
            4.7,
            4.800000000000001,
            4.9
           ],
           "y": [
            0,
            0.1,
            0.2,
            0.30000000000000004,
            0.4,
            0.5,
            0.6000000000000001,
            0.7000000000000001,
            0.8,
            0.9,
            1,
            1.1,
            1.2000000000000002,
            1.3,
            1.4000000000000001,
            1.5,
            1.6,
            1.7000000000000002,
            1.8,
            1.9000000000000001,
            2,
            2.1,
            2.2,
            2.3000000000000003,
            2.4000000000000004,
            2.5,
            2.6,
            2.7,
            2.8000000000000003,
            2.9000000000000004,
            3,
            3.1,
            3.2,
            3.3000000000000003,
            3.4000000000000004,
            3.5,
            3.6,
            3.7,
            3.8000000000000003,
            3.9000000000000004,
            4,
            4.1000000000000005,
            4.2,
            4.3,
            4.4,
            4.5,
            4.6000000000000005,
            4.7,
            4.800000000000001,
            4.9
           ]
          },
          {
           "name": "h(x)=sin(x)",
           "type": "scatter",
           "visible": false,
           "x": [
            0,
            0.1,
            0.2,
            0.30000000000000004,
            0.4,
            0.5,
            0.6000000000000001,
            0.7000000000000001,
            0.8,
            0.9,
            1,
            1.1,
            1.2000000000000002,
            1.3,
            1.4000000000000001,
            1.5,
            1.6,
            1.7000000000000002,
            1.8,
            1.9000000000000001,
            2,
            2.1,
            2.2,
            2.3000000000000003,
            2.4000000000000004,
            2.5,
            2.6,
            2.7,
            2.8000000000000003,
            2.9000000000000004,
            3,
            3.1,
            3.2,
            3.3000000000000003,
            3.4000000000000004,
            3.5,
            3.6,
            3.7,
            3.8000000000000003,
            3.9000000000000004,
            4,
            4.1000000000000005,
            4.2,
            4.3,
            4.4,
            4.5,
            4.6000000000000005,
            4.7,
            4.800000000000001,
            4.9
           ],
           "y": [
            0,
            0.09983341664682815,
            0.19866933079506122,
            0.2955202066613396,
            0.3894183423086505,
            0.479425538604203,
            0.5646424733950355,
            0.6442176872376911,
            0.7173560908995228,
            0.7833269096274834,
            0.8414709848078965,
            0.8912073600614354,
            0.9320390859672264,
            0.963558185417193,
            0.9854497299884603,
            0.9974949866040544,
            0.9995736030415051,
            0.9916648104524686,
            0.9738476308781951,
            0.9463000876874145,
            0.9092974268256817,
            0.8632093666488737,
            0.8084964038195901,
            0.74570521217672,
            0.6754631805511506,
            0.5984721441039564,
            0.5155013718214642,
            0.4273798802338298,
            0.33498815015590466,
            0.23924932921398198,
            0.1411200080598672,
            0.04158066243329049,
            -0.058374143427580086,
            -0.15774569414324865,
            -0.25554110202683167,
            -0.35078322768961984,
            -0.44252044329485246,
            -0.5298361409084934,
            -0.6118578909427193,
            -0.6877661591839741,
            -0.7568024953079282,
            -0.8182771110644108,
            -0.8715757724135882,
            -0.9161659367494549,
            -0.9516020738895161,
            -0.977530117665097,
            -0.9936910036334645,
            -0.9999232575641008,
            -0.9961646088358406,
            -0.9824526126243325
           ]
          },
          {
           "name": "k(x)=cos(x)",
           "type": "scatter",
           "visible": false,
           "x": [
            0,
            0.1,
            0.2,
            0.30000000000000004,
            0.4,
            0.5,
            0.6000000000000001,
            0.7000000000000001,
            0.8,
            0.9,
            1,
            1.1,
            1.2000000000000002,
            1.3,
            1.4000000000000001,
            1.5,
            1.6,
            1.7000000000000002,
            1.8,
            1.9000000000000001,
            2,
            2.1,
            2.2,
            2.3000000000000003,
            2.4000000000000004,
            2.5,
            2.6,
            2.7,
            2.8000000000000003,
            2.9000000000000004,
            3,
            3.1,
            3.2,
            3.3000000000000003,
            3.4000000000000004,
            3.5,
            3.6,
            3.7,
            3.8000000000000003,
            3.9000000000000004,
            4,
            4.1000000000000005,
            4.2,
            4.3,
            4.4,
            4.5,
            4.6000000000000005,
            4.7,
            4.800000000000001,
            4.9
           ],
           "y": [
            1,
            0.9950041652780258,
            0.9800665778412416,
            0.955336489125606,
            0.9210609940028851,
            0.8775825618903728,
            0.8253356149096782,
            0.7648421872844884,
            0.6967067093471654,
            0.6216099682706644,
            0.5403023058681398,
            0.4535961214255773,
            0.3623577544766734,
            0.26749882862458735,
            0.16996714290024081,
            0.0707372016677029,
            -0.029199522301288815,
            -0.12884449429552486,
            -0.2272020946930871,
            -0.3232895668635036,
            -0.4161468365471424,
            -0.5048461045998576,
            -0.5885011172553458,
            -0.6662760212798244,
            -0.7373937155412458,
            -0.8011436155469337,
            -0.8568887533689473,
            -0.9040721420170612,
            -0.9422223406686583,
            -0.9709581651495907,
            -0.9899924966004454,
            -0.9991351502732795,
            -0.9982947757947531,
            -0.9874797699088649,
            -0.9667981925794609,
            -0.9364566872907963,
            -0.896758416334147,
            -0.848100031710408,
            -0.7909677119144165,
            -0.7259323042001399,
            -0.6536436208636119,
            -0.5748239465332685,
            -0.4902608213406994,
            -0.40079917207997545,
            -0.30733286997841935,
            -0.2107957994307797,
            -0.11215252693505398,
            -0.01238866346289056,
            0.08749898343944727,
            0.18651236942257576
           ]
          }
         ],
         "name": "2"
        },
        {
         "data": [
          {
           "name": "f(x)=x<sup>2</sup>",
           "type": "scatter",
           "visible": true,
           "x": [
            0,
            0.1,
            0.2,
            0.30000000000000004,
            0.4,
            0.5,
            0.6000000000000001,
            0.7000000000000001,
            0.8,
            0.9,
            1,
            1.1,
            1.2000000000000002,
            1.3,
            1.4000000000000001,
            1.5,
            1.6,
            1.7000000000000002,
            1.8,
            1.9000000000000001,
            2,
            2.1,
            2.2,
            2.3000000000000003,
            2.4000000000000004,
            2.5,
            2.6,
            2.7,
            2.8000000000000003,
            2.9000000000000004,
            3,
            3.1,
            3.2,
            3.3000000000000003,
            3.4000000000000004,
            3.5,
            3.6,
            3.7,
            3.8000000000000003,
            3.9000000000000004,
            4,
            4.1000000000000005,
            4.2,
            4.3,
            4.4,
            4.5,
            4.6000000000000005,
            4.7,
            4.800000000000001,
            4.9
           ],
           "y": [
            0,
            0.010000000000000002,
            0.04000000000000001,
            0.09000000000000002,
            0.16000000000000003,
            0.25,
            0.3600000000000001,
            0.4900000000000001,
            0.6400000000000001,
            0.81,
            1,
            1.2100000000000002,
            1.4400000000000004,
            1.6900000000000002,
            1.9600000000000004,
            2.25,
            2.5600000000000005,
            2.8900000000000006,
            3.24,
            3.6100000000000003,
            4,
            4.41,
            4.840000000000001,
            5.290000000000001,
            5.760000000000002,
            6.25,
            6.760000000000001,
            7.290000000000001,
            7.840000000000002,
            8.410000000000002,
            9,
            9.610000000000001,
            10.240000000000002,
            10.890000000000002,
            11.560000000000002,
            12.25,
            12.96,
            13.690000000000001,
            14.440000000000001,
            15.210000000000003,
            16,
            16.810000000000006,
            17.64,
            18.49,
            19.360000000000003,
            20.25,
            21.160000000000004,
            22.090000000000003,
            23.040000000000006,
            24.010000000000005
           ]
          },
          {
           "name": "g(x)=x",
           "type": "scatter",
           "visible": true,
           "x": [
            0,
            0.1,
            0.2,
            0.30000000000000004,
            0.4,
            0.5,
            0.6000000000000001,
            0.7000000000000001,
            0.8,
            0.9,
            1,
            1.1,
            1.2000000000000002,
            1.3,
            1.4000000000000001,
            1.5,
            1.6,
            1.7000000000000002,
            1.8,
            1.9000000000000001,
            2,
            2.1,
            2.2,
            2.3000000000000003,
            2.4000000000000004,
            2.5,
            2.6,
            2.7,
            2.8000000000000003,
            2.9000000000000004,
            3,
            3.1,
            3.2,
            3.3000000000000003,
            3.4000000000000004,
            3.5,
            3.6,
            3.7,
            3.8000000000000003,
            3.9000000000000004,
            4,
            4.1000000000000005,
            4.2,
            4.3,
            4.4,
            4.5,
            4.6000000000000005,
            4.7,
            4.800000000000001,
            4.9
           ],
           "y": [
            0,
            0.1,
            0.2,
            0.30000000000000004,
            0.4,
            0.5,
            0.6000000000000001,
            0.7000000000000001,
            0.8,
            0.9,
            1,
            1.1,
            1.2000000000000002,
            1.3,
            1.4000000000000001,
            1.5,
            1.6,
            1.7000000000000002,
            1.8,
            1.9000000000000001,
            2,
            2.1,
            2.2,
            2.3000000000000003,
            2.4000000000000004,
            2.5,
            2.6,
            2.7,
            2.8000000000000003,
            2.9000000000000004,
            3,
            3.1,
            3.2,
            3.3000000000000003,
            3.4000000000000004,
            3.5,
            3.6,
            3.7,
            3.8000000000000003,
            3.9000000000000004,
            4,
            4.1000000000000005,
            4.2,
            4.3,
            4.4,
            4.5,
            4.6000000000000005,
            4.7,
            4.800000000000001,
            4.9
           ]
          },
          {
           "name": "h(x)=sin(x)",
           "type": "scatter",
           "visible": true,
           "x": [
            0,
            0.1,
            0.2,
            0.30000000000000004,
            0.4,
            0.5,
            0.6000000000000001,
            0.7000000000000001,
            0.8,
            0.9,
            1,
            1.1,
            1.2000000000000002,
            1.3,
            1.4000000000000001,
            1.5,
            1.6,
            1.7000000000000002,
            1.8,
            1.9000000000000001,
            2,
            2.1,
            2.2,
            2.3000000000000003,
            2.4000000000000004,
            2.5,
            2.6,
            2.7,
            2.8000000000000003,
            2.9000000000000004,
            3,
            3.1,
            3.2,
            3.3000000000000003,
            3.4000000000000004,
            3.5,
            3.6,
            3.7,
            3.8000000000000003,
            3.9000000000000004,
            4,
            4.1000000000000005,
            4.2,
            4.3,
            4.4,
            4.5,
            4.6000000000000005,
            4.7,
            4.800000000000001,
            4.9
           ],
           "y": [
            0,
            0.09983341664682815,
            0.19866933079506122,
            0.2955202066613396,
            0.3894183423086505,
            0.479425538604203,
            0.5646424733950355,
            0.6442176872376911,
            0.7173560908995228,
            0.7833269096274834,
            0.8414709848078965,
            0.8912073600614354,
            0.9320390859672264,
            0.963558185417193,
            0.9854497299884603,
            0.9974949866040544,
            0.9995736030415051,
            0.9916648104524686,
            0.9738476308781951,
            0.9463000876874145,
            0.9092974268256817,
            0.8632093666488737,
            0.8084964038195901,
            0.74570521217672,
            0.6754631805511506,
            0.5984721441039564,
            0.5155013718214642,
            0.4273798802338298,
            0.33498815015590466,
            0.23924932921398198,
            0.1411200080598672,
            0.04158066243329049,
            -0.058374143427580086,
            -0.15774569414324865,
            -0.25554110202683167,
            -0.35078322768961984,
            -0.44252044329485246,
            -0.5298361409084934,
            -0.6118578909427193,
            -0.6877661591839741,
            -0.7568024953079282,
            -0.8182771110644108,
            -0.8715757724135882,
            -0.9161659367494549,
            -0.9516020738895161,
            -0.977530117665097,
            -0.9936910036334645,
            -0.9999232575641008,
            -0.9961646088358406,
            -0.9824526126243325
           ]
          },
          {
           "name": "k(x)=cos(x)",
           "type": "scatter",
           "visible": false,
           "x": [
            0,
            0.1,
            0.2,
            0.30000000000000004,
            0.4,
            0.5,
            0.6000000000000001,
            0.7000000000000001,
            0.8,
            0.9,
            1,
            1.1,
            1.2000000000000002,
            1.3,
            1.4000000000000001,
            1.5,
            1.6,
            1.7000000000000002,
            1.8,
            1.9000000000000001,
            2,
            2.1,
            2.2,
            2.3000000000000003,
            2.4000000000000004,
            2.5,
            2.6,
            2.7,
            2.8000000000000003,
            2.9000000000000004,
            3,
            3.1,
            3.2,
            3.3000000000000003,
            3.4000000000000004,
            3.5,
            3.6,
            3.7,
            3.8000000000000003,
            3.9000000000000004,
            4,
            4.1000000000000005,
            4.2,
            4.3,
            4.4,
            4.5,
            4.6000000000000005,
            4.7,
            4.800000000000001,
            4.9
           ],
           "y": [
            1,
            0.9950041652780258,
            0.9800665778412416,
            0.955336489125606,
            0.9210609940028851,
            0.8775825618903728,
            0.8253356149096782,
            0.7648421872844884,
            0.6967067093471654,
            0.6216099682706644,
            0.5403023058681398,
            0.4535961214255773,
            0.3623577544766734,
            0.26749882862458735,
            0.16996714290024081,
            0.0707372016677029,
            -0.029199522301288815,
            -0.12884449429552486,
            -0.2272020946930871,
            -0.3232895668635036,
            -0.4161468365471424,
            -0.5048461045998576,
            -0.5885011172553458,
            -0.6662760212798244,
            -0.7373937155412458,
            -0.8011436155469337,
            -0.8568887533689473,
            -0.9040721420170612,
            -0.9422223406686583,
            -0.9709581651495907,
            -0.9899924966004454,
            -0.9991351502732795,
            -0.9982947757947531,
            -0.9874797699088649,
            -0.9667981925794609,
            -0.9364566872907963,
            -0.896758416334147,
            -0.848100031710408,
            -0.7909677119144165,
            -0.7259323042001399,
            -0.6536436208636119,
            -0.5748239465332685,
            -0.4902608213406994,
            -0.40079917207997545,
            -0.30733286997841935,
            -0.2107957994307797,
            -0.11215252693505398,
            -0.01238866346289056,
            0.08749898343944727,
            0.18651236942257576
           ]
          }
         ],
         "name": "3"
        },
        {
         "data": [
          {
           "name": "f(x)=x<sup>2</sup>",
           "type": "scatter",
           "visible": true,
           "x": [
            0,
            0.1,
            0.2,
            0.30000000000000004,
            0.4,
            0.5,
            0.6000000000000001,
            0.7000000000000001,
            0.8,
            0.9,
            1,
            1.1,
            1.2000000000000002,
            1.3,
            1.4000000000000001,
            1.5,
            1.6,
            1.7000000000000002,
            1.8,
            1.9000000000000001,
            2,
            2.1,
            2.2,
            2.3000000000000003,
            2.4000000000000004,
            2.5,
            2.6,
            2.7,
            2.8000000000000003,
            2.9000000000000004,
            3,
            3.1,
            3.2,
            3.3000000000000003,
            3.4000000000000004,
            3.5,
            3.6,
            3.7,
            3.8000000000000003,
            3.9000000000000004,
            4,
            4.1000000000000005,
            4.2,
            4.3,
            4.4,
            4.5,
            4.6000000000000005,
            4.7,
            4.800000000000001,
            4.9
           ],
           "y": [
            0,
            0.010000000000000002,
            0.04000000000000001,
            0.09000000000000002,
            0.16000000000000003,
            0.25,
            0.3600000000000001,
            0.4900000000000001,
            0.6400000000000001,
            0.81,
            1,
            1.2100000000000002,
            1.4400000000000004,
            1.6900000000000002,
            1.9600000000000004,
            2.25,
            2.5600000000000005,
            2.8900000000000006,
            3.24,
            3.6100000000000003,
            4,
            4.41,
            4.840000000000001,
            5.290000000000001,
            5.760000000000002,
            6.25,
            6.760000000000001,
            7.290000000000001,
            7.840000000000002,
            8.410000000000002,
            9,
            9.610000000000001,
            10.240000000000002,
            10.890000000000002,
            11.560000000000002,
            12.25,
            12.96,
            13.690000000000001,
            14.440000000000001,
            15.210000000000003,
            16,
            16.810000000000006,
            17.64,
            18.49,
            19.360000000000003,
            20.25,
            21.160000000000004,
            22.090000000000003,
            23.040000000000006,
            24.010000000000005
           ]
          },
          {
           "name": "g(x)=x",
           "type": "scatter",
           "visible": true,
           "x": [
            0,
            0.1,
            0.2,
            0.30000000000000004,
            0.4,
            0.5,
            0.6000000000000001,
            0.7000000000000001,
            0.8,
            0.9,
            1,
            1.1,
            1.2000000000000002,
            1.3,
            1.4000000000000001,
            1.5,
            1.6,
            1.7000000000000002,
            1.8,
            1.9000000000000001,
            2,
            2.1,
            2.2,
            2.3000000000000003,
            2.4000000000000004,
            2.5,
            2.6,
            2.7,
            2.8000000000000003,
            2.9000000000000004,
            3,
            3.1,
            3.2,
            3.3000000000000003,
            3.4000000000000004,
            3.5,
            3.6,
            3.7,
            3.8000000000000003,
            3.9000000000000004,
            4,
            4.1000000000000005,
            4.2,
            4.3,
            4.4,
            4.5,
            4.6000000000000005,
            4.7,
            4.800000000000001,
            4.9
           ],
           "y": [
            0,
            0.1,
            0.2,
            0.30000000000000004,
            0.4,
            0.5,
            0.6000000000000001,
            0.7000000000000001,
            0.8,
            0.9,
            1,
            1.1,
            1.2000000000000002,
            1.3,
            1.4000000000000001,
            1.5,
            1.6,
            1.7000000000000002,
            1.8,
            1.9000000000000001,
            2,
            2.1,
            2.2,
            2.3000000000000003,
            2.4000000000000004,
            2.5,
            2.6,
            2.7,
            2.8000000000000003,
            2.9000000000000004,
            3,
            3.1,
            3.2,
            3.3000000000000003,
            3.4000000000000004,
            3.5,
            3.6,
            3.7,
            3.8000000000000003,
            3.9000000000000004,
            4,
            4.1000000000000005,
            4.2,
            4.3,
            4.4,
            4.5,
            4.6000000000000005,
            4.7,
            4.800000000000001,
            4.9
           ]
          },
          {
           "name": "h(x)=sin(x)",
           "type": "scatter",
           "visible": true,
           "x": [
            0,
            0.1,
            0.2,
            0.30000000000000004,
            0.4,
            0.5,
            0.6000000000000001,
            0.7000000000000001,
            0.8,
            0.9,
            1,
            1.1,
            1.2000000000000002,
            1.3,
            1.4000000000000001,
            1.5,
            1.6,
            1.7000000000000002,
            1.8,
            1.9000000000000001,
            2,
            2.1,
            2.2,
            2.3000000000000003,
            2.4000000000000004,
            2.5,
            2.6,
            2.7,
            2.8000000000000003,
            2.9000000000000004,
            3,
            3.1,
            3.2,
            3.3000000000000003,
            3.4000000000000004,
            3.5,
            3.6,
            3.7,
            3.8000000000000003,
            3.9000000000000004,
            4,
            4.1000000000000005,
            4.2,
            4.3,
            4.4,
            4.5,
            4.6000000000000005,
            4.7,
            4.800000000000001,
            4.9
           ],
           "y": [
            0,
            0.09983341664682815,
            0.19866933079506122,
            0.2955202066613396,
            0.3894183423086505,
            0.479425538604203,
            0.5646424733950355,
            0.6442176872376911,
            0.7173560908995228,
            0.7833269096274834,
            0.8414709848078965,
            0.8912073600614354,
            0.9320390859672264,
            0.963558185417193,
            0.9854497299884603,
            0.9974949866040544,
            0.9995736030415051,
            0.9916648104524686,
            0.9738476308781951,
            0.9463000876874145,
            0.9092974268256817,
            0.8632093666488737,
            0.8084964038195901,
            0.74570521217672,
            0.6754631805511506,
            0.5984721441039564,
            0.5155013718214642,
            0.4273798802338298,
            0.33498815015590466,
            0.23924932921398198,
            0.1411200080598672,
            0.04158066243329049,
            -0.058374143427580086,
            -0.15774569414324865,
            -0.25554110202683167,
            -0.35078322768961984,
            -0.44252044329485246,
            -0.5298361409084934,
            -0.6118578909427193,
            -0.6877661591839741,
            -0.7568024953079282,
            -0.8182771110644108,
            -0.8715757724135882,
            -0.9161659367494549,
            -0.9516020738895161,
            -0.977530117665097,
            -0.9936910036334645,
            -0.9999232575641008,
            -0.9961646088358406,
            -0.9824526126243325
           ]
          },
          {
           "name": "k(x)=cos(x)",
           "type": "scatter",
           "visible": true,
           "x": [
            0,
            0.1,
            0.2,
            0.30000000000000004,
            0.4,
            0.5,
            0.6000000000000001,
            0.7000000000000001,
            0.8,
            0.9,
            1,
            1.1,
            1.2000000000000002,
            1.3,
            1.4000000000000001,
            1.5,
            1.6,
            1.7000000000000002,
            1.8,
            1.9000000000000001,
            2,
            2.1,
            2.2,
            2.3000000000000003,
            2.4000000000000004,
            2.5,
            2.6,
            2.7,
            2.8000000000000003,
            2.9000000000000004,
            3,
            3.1,
            3.2,
            3.3000000000000003,
            3.4000000000000004,
            3.5,
            3.6,
            3.7,
            3.8000000000000003,
            3.9000000000000004,
            4,
            4.1000000000000005,
            4.2,
            4.3,
            4.4,
            4.5,
            4.6000000000000005,
            4.7,
            4.800000000000001,
            4.9
           ],
           "y": [
            1,
            0.9950041652780258,
            0.9800665778412416,
            0.955336489125606,
            0.9210609940028851,
            0.8775825618903728,
            0.8253356149096782,
            0.7648421872844884,
            0.6967067093471654,
            0.6216099682706644,
            0.5403023058681398,
            0.4535961214255773,
            0.3623577544766734,
            0.26749882862458735,
            0.16996714290024081,
            0.0707372016677029,
            -0.029199522301288815,
            -0.12884449429552486,
            -0.2272020946930871,
            -0.3232895668635036,
            -0.4161468365471424,
            -0.5048461045998576,
            -0.5885011172553458,
            -0.6662760212798244,
            -0.7373937155412458,
            -0.8011436155469337,
            -0.8568887533689473,
            -0.9040721420170612,
            -0.9422223406686583,
            -0.9709581651495907,
            -0.9899924966004454,
            -0.9991351502732795,
            -0.9982947757947531,
            -0.9874797699088649,
            -0.9667981925794609,
            -0.9364566872907963,
            -0.896758416334147,
            -0.848100031710408,
            -0.7909677119144165,
            -0.7259323042001399,
            -0.6536436208636119,
            -0.5748239465332685,
            -0.4902608213406994,
            -0.40079917207997545,
            -0.30733286997841935,
            -0.2107957994307797,
            -0.11215252693505398,
            -0.01238866346289056,
            0.08749898343944727,
            0.18651236942257576
           ]
          }
         ],
         "name": "4"
        }
       ],
       "layout": {
        "sliders": [
         {
          "currentvalue": {
           "font": {
            "size": 20
           },
           "prefix": "Графиков отображается: "
          },
          "len": 0.9,
          "pad": {
           "b": 10,
           "t": 50
          },
          "steps": [
           {
            "args": [
             [
              "0"
             ]
            ],
            "label": "0",
            "method": "animate"
           },
           {
            "args": [
             [
              "1"
             ]
            ],
            "label": "1",
            "method": "animate"
           },
           {
            "args": [
             [
              "2"
             ]
            ],
            "label": "2",
            "method": "animate"
           },
           {
            "args": [
             [
              "3"
             ]
            ],
            "label": "3",
            "method": "animate"
           },
           {
            "args": [
             [
              "4"
             ]
            ],
            "label": "4",
            "method": "animate"
           }
          ],
          "x": 0.1
         }
        ],
        "template": {
         "data": {
          "bar": [
           {
            "error_x": {
             "color": "#2a3f5f"
            },
            "error_y": {
             "color": "#2a3f5f"
            },
            "marker": {
             "line": {
              "color": "#E5ECF6",
              "width": 0.5
             }
            },
            "type": "bar"
           }
          ],
          "barpolar": [
           {
            "marker": {
             "line": {
              "color": "#E5ECF6",
              "width": 0.5
             }
            },
            "type": "barpolar"
           }
          ],
          "carpet": [
           {
            "aaxis": {
             "endlinecolor": "#2a3f5f",
             "gridcolor": "white",
             "linecolor": "white",
             "minorgridcolor": "white",
             "startlinecolor": "#2a3f5f"
            },
            "baxis": {
             "endlinecolor": "#2a3f5f",
             "gridcolor": "white",
             "linecolor": "white",
             "minorgridcolor": "white",
             "startlinecolor": "#2a3f5f"
            },
            "type": "carpet"
           }
          ],
          "choropleth": [
           {
            "colorbar": {
             "outlinewidth": 0,
             "ticks": ""
            },
            "type": "choropleth"
           }
          ],
          "contour": [
           {
            "colorbar": {
             "outlinewidth": 0,
             "ticks": ""
            },
            "colorscale": [
             [
              0,
              "#0d0887"
             ],
             [
              0.1111111111111111,
              "#46039f"
             ],
             [
              0.2222222222222222,
              "#7201a8"
             ],
             [
              0.3333333333333333,
              "#9c179e"
             ],
             [
              0.4444444444444444,
              "#bd3786"
             ],
             [
              0.5555555555555556,
              "#d8576b"
             ],
             [
              0.6666666666666666,
              "#ed7953"
             ],
             [
              0.7777777777777778,
              "#fb9f3a"
             ],
             [
              0.8888888888888888,
              "#fdca26"
             ],
             [
              1,
              "#f0f921"
             ]
            ],
            "type": "contour"
           }
          ],
          "contourcarpet": [
           {
            "colorbar": {
             "outlinewidth": 0,
             "ticks": ""
            },
            "type": "contourcarpet"
           }
          ],
          "heatmap": [
           {
            "colorbar": {
             "outlinewidth": 0,
             "ticks": ""
            },
            "colorscale": [
             [
              0,
              "#0d0887"
             ],
             [
              0.1111111111111111,
              "#46039f"
             ],
             [
              0.2222222222222222,
              "#7201a8"
             ],
             [
              0.3333333333333333,
              "#9c179e"
             ],
             [
              0.4444444444444444,
              "#bd3786"
             ],
             [
              0.5555555555555556,
              "#d8576b"
             ],
             [
              0.6666666666666666,
              "#ed7953"
             ],
             [
              0.7777777777777778,
              "#fb9f3a"
             ],
             [
              0.8888888888888888,
              "#fdca26"
             ],
             [
              1,
              "#f0f921"
             ]
            ],
            "type": "heatmap"
           }
          ],
          "heatmapgl": [
           {
            "colorbar": {
             "outlinewidth": 0,
             "ticks": ""
            },
            "colorscale": [
             [
              0,
              "#0d0887"
             ],
             [
              0.1111111111111111,
              "#46039f"
             ],
             [
              0.2222222222222222,
              "#7201a8"
             ],
             [
              0.3333333333333333,
              "#9c179e"
             ],
             [
              0.4444444444444444,
              "#bd3786"
             ],
             [
              0.5555555555555556,
              "#d8576b"
             ],
             [
              0.6666666666666666,
              "#ed7953"
             ],
             [
              0.7777777777777778,
              "#fb9f3a"
             ],
             [
              0.8888888888888888,
              "#fdca26"
             ],
             [
              1,
              "#f0f921"
             ]
            ],
            "type": "heatmapgl"
           }
          ],
          "histogram": [
           {
            "marker": {
             "colorbar": {
              "outlinewidth": 0,
              "ticks": ""
             }
            },
            "type": "histogram"
           }
          ],
          "histogram2d": [
           {
            "colorbar": {
             "outlinewidth": 0,
             "ticks": ""
            },
            "colorscale": [
             [
              0,
              "#0d0887"
             ],
             [
              0.1111111111111111,
              "#46039f"
             ],
             [
              0.2222222222222222,
              "#7201a8"
             ],
             [
              0.3333333333333333,
              "#9c179e"
             ],
             [
              0.4444444444444444,
              "#bd3786"
             ],
             [
              0.5555555555555556,
              "#d8576b"
             ],
             [
              0.6666666666666666,
              "#ed7953"
             ],
             [
              0.7777777777777778,
              "#fb9f3a"
             ],
             [
              0.8888888888888888,
              "#fdca26"
             ],
             [
              1,
              "#f0f921"
             ]
            ],
            "type": "histogram2d"
           }
          ],
          "histogram2dcontour": [
           {
            "colorbar": {
             "outlinewidth": 0,
             "ticks": ""
            },
            "colorscale": [
             [
              0,
              "#0d0887"
             ],
             [
              0.1111111111111111,
              "#46039f"
             ],
             [
              0.2222222222222222,
              "#7201a8"
             ],
             [
              0.3333333333333333,
              "#9c179e"
             ],
             [
              0.4444444444444444,
              "#bd3786"
             ],
             [
              0.5555555555555556,
              "#d8576b"
             ],
             [
              0.6666666666666666,
              "#ed7953"
             ],
             [
              0.7777777777777778,
              "#fb9f3a"
             ],
             [
              0.8888888888888888,
              "#fdca26"
             ],
             [
              1,
              "#f0f921"
             ]
            ],
            "type": "histogram2dcontour"
           }
          ],
          "mesh3d": [
           {
            "colorbar": {
             "outlinewidth": 0,
             "ticks": ""
            },
            "type": "mesh3d"
           }
          ],
          "parcoords": [
           {
            "line": {
             "colorbar": {
              "outlinewidth": 0,
              "ticks": ""
             }
            },
            "type": "parcoords"
           }
          ],
          "pie": [
           {
            "automargin": true,
            "type": "pie"
           }
          ],
          "scatter": [
           {
            "marker": {
             "colorbar": {
              "outlinewidth": 0,
              "ticks": ""
             }
            },
            "type": "scatter"
           }
          ],
          "scatter3d": [
           {
            "line": {
             "colorbar": {
              "outlinewidth": 0,
              "ticks": ""
             }
            },
            "marker": {
             "colorbar": {
              "outlinewidth": 0,
              "ticks": ""
             }
            },
            "type": "scatter3d"
           }
          ],
          "scattercarpet": [
           {
            "marker": {
             "colorbar": {
              "outlinewidth": 0,
              "ticks": ""
             }
            },
            "type": "scattercarpet"
           }
          ],
          "scattergeo": [
           {
            "marker": {
             "colorbar": {
              "outlinewidth": 0,
              "ticks": ""
             }
            },
            "type": "scattergeo"
           }
          ],
          "scattergl": [
           {
            "marker": {
             "colorbar": {
              "outlinewidth": 0,
              "ticks": ""
             }
            },
            "type": "scattergl"
           }
          ],
          "scattermapbox": [
           {
            "marker": {
             "colorbar": {
              "outlinewidth": 0,
              "ticks": ""
             }
            },
            "type": "scattermapbox"
           }
          ],
          "scatterpolar": [
           {
            "marker": {
             "colorbar": {
              "outlinewidth": 0,
              "ticks": ""
             }
            },
            "type": "scatterpolar"
           }
          ],
          "scatterpolargl": [
           {
            "marker": {
             "colorbar": {
              "outlinewidth": 0,
              "ticks": ""
             }
            },
            "type": "scatterpolargl"
           }
          ],
          "scatterternary": [
           {
            "marker": {
             "colorbar": {
              "outlinewidth": 0,
              "ticks": ""
             }
            },
            "type": "scatterternary"
           }
          ],
          "surface": [
           {
            "colorbar": {
             "outlinewidth": 0,
             "ticks": ""
            },
            "colorscale": [
             [
              0,
              "#0d0887"
             ],
             [
              0.1111111111111111,
              "#46039f"
             ],
             [
              0.2222222222222222,
              "#7201a8"
             ],
             [
              0.3333333333333333,
              "#9c179e"
             ],
             [
              0.4444444444444444,
              "#bd3786"
             ],
             [
              0.5555555555555556,
              "#d8576b"
             ],
             [
              0.6666666666666666,
              "#ed7953"
             ],
             [
              0.7777777777777778,
              "#fb9f3a"
             ],
             [
              0.8888888888888888,
              "#fdca26"
             ],
             [
              1,
              "#f0f921"
             ]
            ],
            "type": "surface"
           }
          ],
          "table": [
           {
            "cells": {
             "fill": {
              "color": "#EBF0F8"
             },
             "line": {
              "color": "white"
             }
            },
            "header": {
             "fill": {
              "color": "#C8D4E3"
             },
             "line": {
              "color": "white"
             }
            },
            "type": "table"
           }
          ]
         },
         "layout": {
          "annotationdefaults": {
           "arrowcolor": "#2a3f5f",
           "arrowhead": 0,
           "arrowwidth": 1
          },
          "coloraxis": {
           "colorbar": {
            "outlinewidth": 0,
            "ticks": ""
           }
          },
          "colorscale": {
           "diverging": [
            [
             0,
             "#8e0152"
            ],
            [
             0.1,
             "#c51b7d"
            ],
            [
             0.2,
             "#de77ae"
            ],
            [
             0.3,
             "#f1b6da"
            ],
            [
             0.4,
             "#fde0ef"
            ],
            [
             0.5,
             "#f7f7f7"
            ],
            [
             0.6,
             "#e6f5d0"
            ],
            [
             0.7,
             "#b8e186"
            ],
            [
             0.8,
             "#7fbc41"
            ],
            [
             0.9,
             "#4d9221"
            ],
            [
             1,
             "#276419"
            ]
           ],
           "sequential": [
            [
             0,
             "#0d0887"
            ],
            [
             0.1111111111111111,
             "#46039f"
            ],
            [
             0.2222222222222222,
             "#7201a8"
            ],
            [
             0.3333333333333333,
             "#9c179e"
            ],
            [
             0.4444444444444444,
             "#bd3786"
            ],
            [
             0.5555555555555556,
             "#d8576b"
            ],
            [
             0.6666666666666666,
             "#ed7953"
            ],
            [
             0.7777777777777778,
             "#fb9f3a"
            ],
            [
             0.8888888888888888,
             "#fdca26"
            ],
            [
             1,
             "#f0f921"
            ]
           ],
           "sequentialminus": [
            [
             0,
             "#0d0887"
            ],
            [
             0.1111111111111111,
             "#46039f"
            ],
            [
             0.2222222222222222,
             "#7201a8"
            ],
            [
             0.3333333333333333,
             "#9c179e"
            ],
            [
             0.4444444444444444,
             "#bd3786"
            ],
            [
             0.5555555555555556,
             "#d8576b"
            ],
            [
             0.6666666666666666,
             "#ed7953"
            ],
            [
             0.7777777777777778,
             "#fb9f3a"
            ],
            [
             0.8888888888888888,
             "#fdca26"
            ],
            [
             1,
             "#f0f921"
            ]
           ]
          },
          "colorway": [
           "#636efa",
           "#EF553B",
           "#00cc96",
           "#ab63fa",
           "#FFA15A",
           "#19d3f3",
           "#FF6692",
           "#B6E880",
           "#FF97FF",
           "#FECB52"
          ],
          "font": {
           "color": "#2a3f5f"
          },
          "geo": {
           "bgcolor": "white",
           "lakecolor": "white",
           "landcolor": "#E5ECF6",
           "showlakes": true,
           "showland": true,
           "subunitcolor": "white"
          },
          "hoverlabel": {
           "align": "left"
          },
          "hovermode": "closest",
          "mapbox": {
           "style": "light"
          },
          "paper_bgcolor": "white",
          "plot_bgcolor": "#E5ECF6",
          "polar": {
           "angularaxis": {
            "gridcolor": "white",
            "linecolor": "white",
            "ticks": ""
           },
           "bgcolor": "#E5ECF6",
           "radialaxis": {
            "gridcolor": "white",
            "linecolor": "white",
            "ticks": ""
           }
          },
          "scene": {
           "xaxis": {
            "backgroundcolor": "#E5ECF6",
            "gridcolor": "white",
            "gridwidth": 2,
            "linecolor": "white",
            "showbackground": true,
            "ticks": "",
            "zerolinecolor": "white"
           },
           "yaxis": {
            "backgroundcolor": "#E5ECF6",
            "gridcolor": "white",
            "gridwidth": 2,
            "linecolor": "white",
            "showbackground": true,
            "ticks": "",
            "zerolinecolor": "white"
           },
           "zaxis": {
            "backgroundcolor": "#E5ECF6",
            "gridcolor": "white",
            "gridwidth": 2,
            "linecolor": "white",
            "showbackground": true,
            "ticks": "",
            "zerolinecolor": "white"
           }
          },
          "shapedefaults": {
           "line": {
            "color": "#2a3f5f"
           }
          },
          "ternary": {
           "aaxis": {
            "gridcolor": "white",
            "linecolor": "white",
            "ticks": ""
           },
           "baxis": {
            "gridcolor": "white",
            "linecolor": "white",
            "ticks": ""
           },
           "bgcolor": "#E5ECF6",
           "caxis": {
            "gridcolor": "white",
            "linecolor": "white",
            "ticks": ""
           }
          },
          "title": {
           "x": 0.05
          },
          "xaxis": {
           "automargin": true,
           "gridcolor": "white",
           "linecolor": "white",
           "ticks": "",
           "title": {
            "standoff": 15
           },
           "zerolinecolor": "white",
           "zerolinewidth": 2
          },
          "yaxis": {
           "automargin": true,
           "gridcolor": "white",
           "linecolor": "white",
           "ticks": "",
           "title": {
            "standoff": 15
           },
           "zerolinecolor": "white",
           "zerolinewidth": 2
          }
         }
        },
        "title": {
         "text": "Выводим графики по очереди"
        },
        "updatemenus": [
         {
          "buttons": [
           {
            "args": [
             null,
             {
              "fromcurrent": true
             }
            ],
            "label": "►",
            "method": "animate"
           },
           {
            "args": [
             [
              null
             ],
             {
              "frame": {
               "duration": 0,
               "redraw": false
              },
              "mode": "immediate",
              "transition": {
               "duration": 0
              }
             }
            ],
            "label": "❚❚",
            "method": "animate"
           }
          ],
          "direction": "left",
          "pad": {
           "r": 10,
           "t": 80
          },
          "showactive": false,
          "type": "buttons",
          "x": 0.1,
          "xanchor": "right",
          "y": 0,
          "yanchor": "top"
         }
        ],
        "xaxis": {
         "title": {
          "text": "Ось X"
         }
        },
        "yaxis": {
         "title": {
          "text": "Ось Y"
         }
        }
       }
      },
      "text/html": [
       "<div>\n",
       "        \n",
       "        \n",
       "            <div id=\"9a831f47-bd80-4127-8e49-b826580a7691\" class=\"plotly-graph-div\" style=\"height:525px; width:100%;\"></div>\n",
       "            <script type=\"text/javascript\">\n",
       "                require([\"plotly\"], function(Plotly) {\n",
       "                    window.PLOTLYENV=window.PLOTLYENV || {};\n",
       "                    \n",
       "                if (document.getElementById(\"9a831f47-bd80-4127-8e49-b826580a7691\")) {\n",
       "                    Plotly.newPlot(\n",
       "                        '9a831f47-bd80-4127-8e49-b826580a7691',\n",
       "                        [{\"name\": \"f(x)=x<sup>2</sup>\", \"type\": \"scatter\", \"visible\": false, \"x\": [0.0, 0.1, 0.2, 0.30000000000000004, 0.4, 0.5, 0.6000000000000001, 0.7000000000000001, 0.8, 0.9, 1.0, 1.1, 1.2000000000000002, 1.3, 1.4000000000000001, 1.5, 1.6, 1.7000000000000002, 1.8, 1.9000000000000001, 2.0, 2.1, 2.2, 2.3000000000000003, 2.4000000000000004, 2.5, 2.6, 2.7, 2.8000000000000003, 2.9000000000000004, 3.0, 3.1, 3.2, 3.3000000000000003, 3.4000000000000004, 3.5, 3.6, 3.7, 3.8000000000000003, 3.9000000000000004, 4.0, 4.1000000000000005, 4.2, 4.3, 4.4, 4.5, 4.6000000000000005, 4.7, 4.800000000000001, 4.9], \"y\": [0.0, 0.010000000000000002, 0.04000000000000001, 0.09000000000000002, 0.16000000000000003, 0.25, 0.3600000000000001, 0.4900000000000001, 0.6400000000000001, 0.81, 1.0, 1.2100000000000002, 1.4400000000000004, 1.6900000000000002, 1.9600000000000004, 2.25, 2.5600000000000005, 2.8900000000000006, 3.24, 3.6100000000000003, 4.0, 4.41, 4.840000000000001, 5.290000000000001, 5.760000000000002, 6.25, 6.760000000000001, 7.290000000000001, 7.840000000000002, 8.410000000000002, 9.0, 9.610000000000001, 10.240000000000002, 10.890000000000002, 11.560000000000002, 12.25, 12.96, 13.690000000000001, 14.440000000000001, 15.210000000000003, 16.0, 16.810000000000006, 17.64, 18.49, 19.360000000000003, 20.25, 21.160000000000004, 22.090000000000003, 23.040000000000006, 24.010000000000005]}, {\"name\": \"g(x)=x\", \"type\": \"scatter\", \"visible\": false, \"x\": [0.0, 0.1, 0.2, 0.30000000000000004, 0.4, 0.5, 0.6000000000000001, 0.7000000000000001, 0.8, 0.9, 1.0, 1.1, 1.2000000000000002, 1.3, 1.4000000000000001, 1.5, 1.6, 1.7000000000000002, 1.8, 1.9000000000000001, 2.0, 2.1, 2.2, 2.3000000000000003, 2.4000000000000004, 2.5, 2.6, 2.7, 2.8000000000000003, 2.9000000000000004, 3.0, 3.1, 3.2, 3.3000000000000003, 3.4000000000000004, 3.5, 3.6, 3.7, 3.8000000000000003, 3.9000000000000004, 4.0, 4.1000000000000005, 4.2, 4.3, 4.4, 4.5, 4.6000000000000005, 4.7, 4.800000000000001, 4.9], \"y\": [0.0, 0.1, 0.2, 0.30000000000000004, 0.4, 0.5, 0.6000000000000001, 0.7000000000000001, 0.8, 0.9, 1.0, 1.1, 1.2000000000000002, 1.3, 1.4000000000000001, 1.5, 1.6, 1.7000000000000002, 1.8, 1.9000000000000001, 2.0, 2.1, 2.2, 2.3000000000000003, 2.4000000000000004, 2.5, 2.6, 2.7, 2.8000000000000003, 2.9000000000000004, 3.0, 3.1, 3.2, 3.3000000000000003, 3.4000000000000004, 3.5, 3.6, 3.7, 3.8000000000000003, 3.9000000000000004, 4.0, 4.1000000000000005, 4.2, 4.3, 4.4, 4.5, 4.6000000000000005, 4.7, 4.800000000000001, 4.9]}, {\"name\": \"h(x)=sin(x)\", \"type\": \"scatter\", \"visible\": false, \"x\": [0.0, 0.1, 0.2, 0.30000000000000004, 0.4, 0.5, 0.6000000000000001, 0.7000000000000001, 0.8, 0.9, 1.0, 1.1, 1.2000000000000002, 1.3, 1.4000000000000001, 1.5, 1.6, 1.7000000000000002, 1.8, 1.9000000000000001, 2.0, 2.1, 2.2, 2.3000000000000003, 2.4000000000000004, 2.5, 2.6, 2.7, 2.8000000000000003, 2.9000000000000004, 3.0, 3.1, 3.2, 3.3000000000000003, 3.4000000000000004, 3.5, 3.6, 3.7, 3.8000000000000003, 3.9000000000000004, 4.0, 4.1000000000000005, 4.2, 4.3, 4.4, 4.5, 4.6000000000000005, 4.7, 4.800000000000001, 4.9], \"y\": [0.0, 0.09983341664682815, 0.19866933079506122, 0.2955202066613396, 0.3894183423086505, 0.479425538604203, 0.5646424733950355, 0.6442176872376911, 0.7173560908995228, 0.7833269096274834, 0.8414709848078965, 0.8912073600614354, 0.9320390859672264, 0.963558185417193, 0.9854497299884603, 0.9974949866040544, 0.9995736030415051, 0.9916648104524686, 0.9738476308781951, 0.9463000876874145, 0.9092974268256817, 0.8632093666488737, 0.8084964038195901, 0.74570521217672, 0.6754631805511506, 0.5984721441039564, 0.5155013718214642, 0.4273798802338298, 0.33498815015590466, 0.23924932921398198, 0.1411200080598672, 0.04158066243329049, -0.058374143427580086, -0.15774569414324865, -0.25554110202683167, -0.35078322768961984, -0.44252044329485246, -0.5298361409084934, -0.6118578909427193, -0.6877661591839741, -0.7568024953079282, -0.8182771110644108, -0.8715757724135882, -0.9161659367494549, -0.9516020738895161, -0.977530117665097, -0.9936910036334645, -0.9999232575641008, -0.9961646088358406, -0.9824526126243325]}, {\"name\": \"k(x)=cos(x)\", \"type\": \"scatter\", \"visible\": false, \"x\": [0.0, 0.1, 0.2, 0.30000000000000004, 0.4, 0.5, 0.6000000000000001, 0.7000000000000001, 0.8, 0.9, 1.0, 1.1, 1.2000000000000002, 1.3, 1.4000000000000001, 1.5, 1.6, 1.7000000000000002, 1.8, 1.9000000000000001, 2.0, 2.1, 2.2, 2.3000000000000003, 2.4000000000000004, 2.5, 2.6, 2.7, 2.8000000000000003, 2.9000000000000004, 3.0, 3.1, 3.2, 3.3000000000000003, 3.4000000000000004, 3.5, 3.6, 3.7, 3.8000000000000003, 3.9000000000000004, 4.0, 4.1000000000000005, 4.2, 4.3, 4.4, 4.5, 4.6000000000000005, 4.7, 4.800000000000001, 4.9], \"y\": [1.0, 0.9950041652780258, 0.9800665778412416, 0.955336489125606, 0.9210609940028851, 0.8775825618903728, 0.8253356149096782, 0.7648421872844884, 0.6967067093471654, 0.6216099682706644, 0.5403023058681398, 0.4535961214255773, 0.3623577544766734, 0.26749882862458735, 0.16996714290024081, 0.0707372016677029, -0.029199522301288815, -0.12884449429552486, -0.2272020946930871, -0.3232895668635036, -0.4161468365471424, -0.5048461045998576, -0.5885011172553458, -0.6662760212798244, -0.7373937155412458, -0.8011436155469337, -0.8568887533689473, -0.9040721420170612, -0.9422223406686583, -0.9709581651495907, -0.9899924966004454, -0.9991351502732795, -0.9982947757947531, -0.9874797699088649, -0.9667981925794609, -0.9364566872907963, -0.896758416334147, -0.848100031710408, -0.7909677119144165, -0.7259323042001399, -0.6536436208636119, -0.5748239465332685, -0.4902608213406994, -0.40079917207997545, -0.30733286997841935, -0.2107957994307797, -0.11215252693505398, -0.01238866346289056, 0.08749898343944727, 0.18651236942257576]}],\n",
       "                        {\"sliders\": [{\"currentvalue\": {\"font\": {\"size\": 20}, \"prefix\": \"\\u0413\\u0440\\u0430\\u0444\\u0438\\u043a\\u043e\\u0432 \\u043e\\u0442\\u043e\\u0431\\u0440\\u0430\\u0436\\u0430\\u0435\\u0442\\u0441\\u044f: \"}, \"len\": 0.9, \"pad\": {\"b\": 10, \"t\": 50}, \"steps\": [{\"args\": [[\"0\"]], \"label\": \"0\", \"method\": \"animate\"}, {\"args\": [[\"1\"]], \"label\": \"1\", \"method\": \"animate\"}, {\"args\": [[\"2\"]], \"label\": \"2\", \"method\": \"animate\"}, {\"args\": [[\"3\"]], \"label\": \"3\", \"method\": \"animate\"}, {\"args\": [[\"4\"]], \"label\": \"4\", \"method\": \"animate\"}], \"x\": 0.1}], \"template\": {\"data\": {\"bar\": [{\"error_x\": {\"color\": \"#2a3f5f\"}, \"error_y\": {\"color\": \"#2a3f5f\"}, \"marker\": {\"line\": {\"color\": \"#E5ECF6\", \"width\": 0.5}}, \"type\": \"bar\"}], \"barpolar\": [{\"marker\": {\"line\": {\"color\": \"#E5ECF6\", \"width\": 0.5}}, \"type\": \"barpolar\"}], \"carpet\": [{\"aaxis\": {\"endlinecolor\": \"#2a3f5f\", \"gridcolor\": \"white\", \"linecolor\": \"white\", \"minorgridcolor\": \"white\", \"startlinecolor\": \"#2a3f5f\"}, \"baxis\": {\"endlinecolor\": \"#2a3f5f\", \"gridcolor\": \"white\", \"linecolor\": \"white\", \"minorgridcolor\": \"white\", \"startlinecolor\": \"#2a3f5f\"}, \"type\": \"carpet\"}], \"choropleth\": [{\"colorbar\": {\"outlinewidth\": 0, \"ticks\": \"\"}, \"type\": \"choropleth\"}], \"contour\": [{\"colorbar\": {\"outlinewidth\": 0, \"ticks\": \"\"}, \"colorscale\": [[0.0, \"#0d0887\"], [0.1111111111111111, \"#46039f\"], [0.2222222222222222, \"#7201a8\"], [0.3333333333333333, \"#9c179e\"], [0.4444444444444444, \"#bd3786\"], [0.5555555555555556, \"#d8576b\"], [0.6666666666666666, \"#ed7953\"], [0.7777777777777778, \"#fb9f3a\"], [0.8888888888888888, \"#fdca26\"], [1.0, \"#f0f921\"]], \"type\": \"contour\"}], \"contourcarpet\": [{\"colorbar\": {\"outlinewidth\": 0, \"ticks\": \"\"}, \"type\": \"contourcarpet\"}], \"heatmap\": [{\"colorbar\": {\"outlinewidth\": 0, \"ticks\": \"\"}, \"colorscale\": [[0.0, \"#0d0887\"], [0.1111111111111111, \"#46039f\"], [0.2222222222222222, \"#7201a8\"], [0.3333333333333333, \"#9c179e\"], [0.4444444444444444, \"#bd3786\"], [0.5555555555555556, \"#d8576b\"], [0.6666666666666666, \"#ed7953\"], [0.7777777777777778, \"#fb9f3a\"], [0.8888888888888888, \"#fdca26\"], [1.0, \"#f0f921\"]], \"type\": \"heatmap\"}], \"heatmapgl\": [{\"colorbar\": {\"outlinewidth\": 0, \"ticks\": \"\"}, \"colorscale\": [[0.0, \"#0d0887\"], [0.1111111111111111, \"#46039f\"], [0.2222222222222222, \"#7201a8\"], [0.3333333333333333, \"#9c179e\"], [0.4444444444444444, \"#bd3786\"], [0.5555555555555556, \"#d8576b\"], [0.6666666666666666, \"#ed7953\"], [0.7777777777777778, \"#fb9f3a\"], [0.8888888888888888, \"#fdca26\"], [1.0, \"#f0f921\"]], \"type\": \"heatmapgl\"}], \"histogram\": [{\"marker\": {\"colorbar\": {\"outlinewidth\": 0, \"ticks\": \"\"}}, \"type\": \"histogram\"}], \"histogram2d\": [{\"colorbar\": {\"outlinewidth\": 0, \"ticks\": \"\"}, \"colorscale\": [[0.0, \"#0d0887\"], [0.1111111111111111, \"#46039f\"], [0.2222222222222222, \"#7201a8\"], [0.3333333333333333, \"#9c179e\"], [0.4444444444444444, \"#bd3786\"], [0.5555555555555556, \"#d8576b\"], [0.6666666666666666, \"#ed7953\"], [0.7777777777777778, \"#fb9f3a\"], [0.8888888888888888, \"#fdca26\"], [1.0, \"#f0f921\"]], \"type\": \"histogram2d\"}], \"histogram2dcontour\": [{\"colorbar\": {\"outlinewidth\": 0, \"ticks\": \"\"}, \"colorscale\": [[0.0, \"#0d0887\"], [0.1111111111111111, \"#46039f\"], [0.2222222222222222, \"#7201a8\"], [0.3333333333333333, \"#9c179e\"], [0.4444444444444444, \"#bd3786\"], [0.5555555555555556, \"#d8576b\"], [0.6666666666666666, \"#ed7953\"], [0.7777777777777778, \"#fb9f3a\"], [0.8888888888888888, \"#fdca26\"], [1.0, \"#f0f921\"]], \"type\": \"histogram2dcontour\"}], \"mesh3d\": [{\"colorbar\": {\"outlinewidth\": 0, \"ticks\": \"\"}, \"type\": \"mesh3d\"}], \"parcoords\": [{\"line\": {\"colorbar\": {\"outlinewidth\": 0, \"ticks\": \"\"}}, \"type\": \"parcoords\"}], \"pie\": [{\"automargin\": true, \"type\": \"pie\"}], \"scatter\": [{\"marker\": {\"colorbar\": {\"outlinewidth\": 0, \"ticks\": \"\"}}, \"type\": \"scatter\"}], \"scatter3d\": [{\"line\": {\"colorbar\": {\"outlinewidth\": 0, \"ticks\": \"\"}}, \"marker\": {\"colorbar\": {\"outlinewidth\": 0, \"ticks\": \"\"}}, \"type\": \"scatter3d\"}], \"scattercarpet\": [{\"marker\": {\"colorbar\": {\"outlinewidth\": 0, \"ticks\": \"\"}}, \"type\": \"scattercarpet\"}], \"scattergeo\": [{\"marker\": {\"colorbar\": {\"outlinewidth\": 0, \"ticks\": \"\"}}, \"type\": \"scattergeo\"}], \"scattergl\": [{\"marker\": {\"colorbar\": {\"outlinewidth\": 0, \"ticks\": \"\"}}, \"type\": \"scattergl\"}], \"scattermapbox\": [{\"marker\": {\"colorbar\": {\"outlinewidth\": 0, \"ticks\": \"\"}}, \"type\": \"scattermapbox\"}], \"scatterpolar\": [{\"marker\": {\"colorbar\": {\"outlinewidth\": 0, \"ticks\": \"\"}}, \"type\": \"scatterpolar\"}], \"scatterpolargl\": [{\"marker\": {\"colorbar\": {\"outlinewidth\": 0, \"ticks\": \"\"}}, \"type\": \"scatterpolargl\"}], \"scatterternary\": [{\"marker\": {\"colorbar\": {\"outlinewidth\": 0, \"ticks\": \"\"}}, \"type\": \"scatterternary\"}], \"surface\": [{\"colorbar\": {\"outlinewidth\": 0, \"ticks\": \"\"}, \"colorscale\": [[0.0, \"#0d0887\"], [0.1111111111111111, \"#46039f\"], [0.2222222222222222, \"#7201a8\"], [0.3333333333333333, \"#9c179e\"], [0.4444444444444444, \"#bd3786\"], [0.5555555555555556, \"#d8576b\"], [0.6666666666666666, \"#ed7953\"], [0.7777777777777778, \"#fb9f3a\"], [0.8888888888888888, \"#fdca26\"], [1.0, \"#f0f921\"]], \"type\": \"surface\"}], \"table\": [{\"cells\": {\"fill\": {\"color\": \"#EBF0F8\"}, \"line\": {\"color\": \"white\"}}, \"header\": {\"fill\": {\"color\": \"#C8D4E3\"}, \"line\": {\"color\": \"white\"}}, \"type\": \"table\"}]}, \"layout\": {\"annotationdefaults\": {\"arrowcolor\": \"#2a3f5f\", \"arrowhead\": 0, \"arrowwidth\": 1}, \"coloraxis\": {\"colorbar\": {\"outlinewidth\": 0, \"ticks\": \"\"}}, \"colorscale\": {\"diverging\": [[0, \"#8e0152\"], [0.1, \"#c51b7d\"], [0.2, \"#de77ae\"], [0.3, \"#f1b6da\"], [0.4, \"#fde0ef\"], [0.5, \"#f7f7f7\"], [0.6, \"#e6f5d0\"], [0.7, \"#b8e186\"], [0.8, \"#7fbc41\"], [0.9, \"#4d9221\"], [1, \"#276419\"]], \"sequential\": [[0.0, \"#0d0887\"], [0.1111111111111111, \"#46039f\"], [0.2222222222222222, \"#7201a8\"], [0.3333333333333333, \"#9c179e\"], [0.4444444444444444, \"#bd3786\"], [0.5555555555555556, \"#d8576b\"], [0.6666666666666666, \"#ed7953\"], [0.7777777777777778, \"#fb9f3a\"], [0.8888888888888888, \"#fdca26\"], [1.0, \"#f0f921\"]], \"sequentialminus\": [[0.0, \"#0d0887\"], [0.1111111111111111, \"#46039f\"], [0.2222222222222222, \"#7201a8\"], [0.3333333333333333, \"#9c179e\"], [0.4444444444444444, \"#bd3786\"], [0.5555555555555556, \"#d8576b\"], [0.6666666666666666, \"#ed7953\"], [0.7777777777777778, \"#fb9f3a\"], [0.8888888888888888, \"#fdca26\"], [1.0, \"#f0f921\"]]}, \"colorway\": [\"#636efa\", \"#EF553B\", \"#00cc96\", \"#ab63fa\", \"#FFA15A\", \"#19d3f3\", \"#FF6692\", \"#B6E880\", \"#FF97FF\", \"#FECB52\"], \"font\": {\"color\": \"#2a3f5f\"}, \"geo\": {\"bgcolor\": \"white\", \"lakecolor\": \"white\", \"landcolor\": \"#E5ECF6\", \"showlakes\": true, \"showland\": true, \"subunitcolor\": \"white\"}, \"hoverlabel\": {\"align\": \"left\"}, \"hovermode\": \"closest\", \"mapbox\": {\"style\": \"light\"}, \"paper_bgcolor\": \"white\", \"plot_bgcolor\": \"#E5ECF6\", \"polar\": {\"angularaxis\": {\"gridcolor\": \"white\", \"linecolor\": \"white\", \"ticks\": \"\"}, \"bgcolor\": \"#E5ECF6\", \"radialaxis\": {\"gridcolor\": \"white\", \"linecolor\": \"white\", \"ticks\": \"\"}}, \"scene\": {\"xaxis\": {\"backgroundcolor\": \"#E5ECF6\", \"gridcolor\": \"white\", \"gridwidth\": 2, \"linecolor\": \"white\", \"showbackground\": true, \"ticks\": \"\", \"zerolinecolor\": \"white\"}, \"yaxis\": {\"backgroundcolor\": \"#E5ECF6\", \"gridcolor\": \"white\", \"gridwidth\": 2, \"linecolor\": \"white\", \"showbackground\": true, \"ticks\": \"\", \"zerolinecolor\": \"white\"}, \"zaxis\": {\"backgroundcolor\": \"#E5ECF6\", \"gridcolor\": \"white\", \"gridwidth\": 2, \"linecolor\": \"white\", \"showbackground\": true, \"ticks\": \"\", \"zerolinecolor\": \"white\"}}, \"shapedefaults\": {\"line\": {\"color\": \"#2a3f5f\"}}, \"ternary\": {\"aaxis\": {\"gridcolor\": \"white\", \"linecolor\": \"white\", \"ticks\": \"\"}, \"baxis\": {\"gridcolor\": \"white\", \"linecolor\": \"white\", \"ticks\": \"\"}, \"bgcolor\": \"#E5ECF6\", \"caxis\": {\"gridcolor\": \"white\", \"linecolor\": \"white\", \"ticks\": \"\"}}, \"title\": {\"x\": 0.05}, \"xaxis\": {\"automargin\": true, \"gridcolor\": \"white\", \"linecolor\": \"white\", \"ticks\": \"\", \"title\": {\"standoff\": 15}, \"zerolinecolor\": \"white\", \"zerolinewidth\": 2}, \"yaxis\": {\"automargin\": true, \"gridcolor\": \"white\", \"linecolor\": \"white\", \"ticks\": \"\", \"title\": {\"standoff\": 15}, \"zerolinecolor\": \"white\", \"zerolinewidth\": 2}}}, \"title\": {\"text\": \"\\u0412\\u044b\\u0432\\u043e\\u0434\\u0438\\u043c \\u0433\\u0440\\u0430\\u0444\\u0438\\u043a\\u0438 \\u043f\\u043e \\u043e\\u0447\\u0435\\u0440\\u0435\\u0434\\u0438\"}, \"updatemenus\": [{\"buttons\": [{\"args\": [null, {\"fromcurrent\": true}], \"label\": \"\\u25ba\", \"method\": \"animate\"}, {\"args\": [[null], {\"frame\": {\"duration\": 0, \"redraw\": false}, \"mode\": \"immediate\", \"transition\": {\"duration\": 0}}], \"label\": \"\\u275a\\u275a\", \"method\": \"animate\"}], \"direction\": \"left\", \"pad\": {\"r\": 10, \"t\": 80}, \"showactive\": false, \"type\": \"buttons\", \"x\": 0.1, \"xanchor\": \"right\", \"y\": 0, \"yanchor\": \"top\"}], \"xaxis\": {\"title\": {\"text\": \"\\u041e\\u0441\\u044c X\"}}, \"yaxis\": {\"title\": {\"text\": \"\\u041e\\u0441\\u044c Y\"}}},\n",
       "                        {\"responsive\": true}\n",
       "                    ).then(function(){\n",
       "                            Plotly.addFrames('9a831f47-bd80-4127-8e49-b826580a7691', [{\"data\": [{\"name\": \"f(x)=x<sup>2</sup>\", \"visible\": false, \"x\": [0.0, 0.1, 0.2, 0.30000000000000004, 0.4, 0.5, 0.6000000000000001, 0.7000000000000001, 0.8, 0.9, 1.0, 1.1, 1.2000000000000002, 1.3, 1.4000000000000001, 1.5, 1.6, 1.7000000000000002, 1.8, 1.9000000000000001, 2.0, 2.1, 2.2, 2.3000000000000003, 2.4000000000000004, 2.5, 2.6, 2.7, 2.8000000000000003, 2.9000000000000004, 3.0, 3.1, 3.2, 3.3000000000000003, 3.4000000000000004, 3.5, 3.6, 3.7, 3.8000000000000003, 3.9000000000000004, 4.0, 4.1000000000000005, 4.2, 4.3, 4.4, 4.5, 4.6000000000000005, 4.7, 4.800000000000001, 4.9], \"y\": [0.0, 0.010000000000000002, 0.04000000000000001, 0.09000000000000002, 0.16000000000000003, 0.25, 0.3600000000000001, 0.4900000000000001, 0.6400000000000001, 0.81, 1.0, 1.2100000000000002, 1.4400000000000004, 1.6900000000000002, 1.9600000000000004, 2.25, 2.5600000000000005, 2.8900000000000006, 3.24, 3.6100000000000003, 4.0, 4.41, 4.840000000000001, 5.290000000000001, 5.760000000000002, 6.25, 6.760000000000001, 7.290000000000001, 7.840000000000002, 8.410000000000002, 9.0, 9.610000000000001, 10.240000000000002, 10.890000000000002, 11.560000000000002, 12.25, 12.96, 13.690000000000001, 14.440000000000001, 15.210000000000003, 16.0, 16.810000000000006, 17.64, 18.49, 19.360000000000003, 20.25, 21.160000000000004, 22.090000000000003, 23.040000000000006, 24.010000000000005], \"type\": \"scatter\"}, {\"name\": \"g(x)=x\", \"visible\": false, \"x\": [0.0, 0.1, 0.2, 0.30000000000000004, 0.4, 0.5, 0.6000000000000001, 0.7000000000000001, 0.8, 0.9, 1.0, 1.1, 1.2000000000000002, 1.3, 1.4000000000000001, 1.5, 1.6, 1.7000000000000002, 1.8, 1.9000000000000001, 2.0, 2.1, 2.2, 2.3000000000000003, 2.4000000000000004, 2.5, 2.6, 2.7, 2.8000000000000003, 2.9000000000000004, 3.0, 3.1, 3.2, 3.3000000000000003, 3.4000000000000004, 3.5, 3.6, 3.7, 3.8000000000000003, 3.9000000000000004, 4.0, 4.1000000000000005, 4.2, 4.3, 4.4, 4.5, 4.6000000000000005, 4.7, 4.800000000000001, 4.9], \"y\": [0.0, 0.1, 0.2, 0.30000000000000004, 0.4, 0.5, 0.6000000000000001, 0.7000000000000001, 0.8, 0.9, 1.0, 1.1, 1.2000000000000002, 1.3, 1.4000000000000001, 1.5, 1.6, 1.7000000000000002, 1.8, 1.9000000000000001, 2.0, 2.1, 2.2, 2.3000000000000003, 2.4000000000000004, 2.5, 2.6, 2.7, 2.8000000000000003, 2.9000000000000004, 3.0, 3.1, 3.2, 3.3000000000000003, 3.4000000000000004, 3.5, 3.6, 3.7, 3.8000000000000003, 3.9000000000000004, 4.0, 4.1000000000000005, 4.2, 4.3, 4.4, 4.5, 4.6000000000000005, 4.7, 4.800000000000001, 4.9], \"type\": \"scatter\"}, {\"name\": \"h(x)=sin(x)\", \"visible\": false, \"x\": [0.0, 0.1, 0.2, 0.30000000000000004, 0.4, 0.5, 0.6000000000000001, 0.7000000000000001, 0.8, 0.9, 1.0, 1.1, 1.2000000000000002, 1.3, 1.4000000000000001, 1.5, 1.6, 1.7000000000000002, 1.8, 1.9000000000000001, 2.0, 2.1, 2.2, 2.3000000000000003, 2.4000000000000004, 2.5, 2.6, 2.7, 2.8000000000000003, 2.9000000000000004, 3.0, 3.1, 3.2, 3.3000000000000003, 3.4000000000000004, 3.5, 3.6, 3.7, 3.8000000000000003, 3.9000000000000004, 4.0, 4.1000000000000005, 4.2, 4.3, 4.4, 4.5, 4.6000000000000005, 4.7, 4.800000000000001, 4.9], \"y\": [0.0, 0.09983341664682815, 0.19866933079506122, 0.2955202066613396, 0.3894183423086505, 0.479425538604203, 0.5646424733950355, 0.6442176872376911, 0.7173560908995228, 0.7833269096274834, 0.8414709848078965, 0.8912073600614354, 0.9320390859672264, 0.963558185417193, 0.9854497299884603, 0.9974949866040544, 0.9995736030415051, 0.9916648104524686, 0.9738476308781951, 0.9463000876874145, 0.9092974268256817, 0.8632093666488737, 0.8084964038195901, 0.74570521217672, 0.6754631805511506, 0.5984721441039564, 0.5155013718214642, 0.4273798802338298, 0.33498815015590466, 0.23924932921398198, 0.1411200080598672, 0.04158066243329049, -0.058374143427580086, -0.15774569414324865, -0.25554110202683167, -0.35078322768961984, -0.44252044329485246, -0.5298361409084934, -0.6118578909427193, -0.6877661591839741, -0.7568024953079282, -0.8182771110644108, -0.8715757724135882, -0.9161659367494549, -0.9516020738895161, -0.977530117665097, -0.9936910036334645, -0.9999232575641008, -0.9961646088358406, -0.9824526126243325], \"type\": \"scatter\"}, {\"name\": \"k(x)=cos(x)\", \"visible\": false, \"x\": [0.0, 0.1, 0.2, 0.30000000000000004, 0.4, 0.5, 0.6000000000000001, 0.7000000000000001, 0.8, 0.9, 1.0, 1.1, 1.2000000000000002, 1.3, 1.4000000000000001, 1.5, 1.6, 1.7000000000000002, 1.8, 1.9000000000000001, 2.0, 2.1, 2.2, 2.3000000000000003, 2.4000000000000004, 2.5, 2.6, 2.7, 2.8000000000000003, 2.9000000000000004, 3.0, 3.1, 3.2, 3.3000000000000003, 3.4000000000000004, 3.5, 3.6, 3.7, 3.8000000000000003, 3.9000000000000004, 4.0, 4.1000000000000005, 4.2, 4.3, 4.4, 4.5, 4.6000000000000005, 4.7, 4.800000000000001, 4.9], \"y\": [1.0, 0.9950041652780258, 0.9800665778412416, 0.955336489125606, 0.9210609940028851, 0.8775825618903728, 0.8253356149096782, 0.7648421872844884, 0.6967067093471654, 0.6216099682706644, 0.5403023058681398, 0.4535961214255773, 0.3623577544766734, 0.26749882862458735, 0.16996714290024081, 0.0707372016677029, -0.029199522301288815, -0.12884449429552486, -0.2272020946930871, -0.3232895668635036, -0.4161468365471424, -0.5048461045998576, -0.5885011172553458, -0.6662760212798244, -0.7373937155412458, -0.8011436155469337, -0.8568887533689473, -0.9040721420170612, -0.9422223406686583, -0.9709581651495907, -0.9899924966004454, -0.9991351502732795, -0.9982947757947531, -0.9874797699088649, -0.9667981925794609, -0.9364566872907963, -0.896758416334147, -0.848100031710408, -0.7909677119144165, -0.7259323042001399, -0.6536436208636119, -0.5748239465332685, -0.4902608213406994, -0.40079917207997545, -0.30733286997841935, -0.2107957994307797, -0.11215252693505398, -0.01238866346289056, 0.08749898343944727, 0.18651236942257576], \"type\": \"scatter\"}], \"name\": \"0\"}, {\"data\": [{\"name\": \"f(x)=x<sup>2</sup>\", \"visible\": true, \"x\": [0.0, 0.1, 0.2, 0.30000000000000004, 0.4, 0.5, 0.6000000000000001, 0.7000000000000001, 0.8, 0.9, 1.0, 1.1, 1.2000000000000002, 1.3, 1.4000000000000001, 1.5, 1.6, 1.7000000000000002, 1.8, 1.9000000000000001, 2.0, 2.1, 2.2, 2.3000000000000003, 2.4000000000000004, 2.5, 2.6, 2.7, 2.8000000000000003, 2.9000000000000004, 3.0, 3.1, 3.2, 3.3000000000000003, 3.4000000000000004, 3.5, 3.6, 3.7, 3.8000000000000003, 3.9000000000000004, 4.0, 4.1000000000000005, 4.2, 4.3, 4.4, 4.5, 4.6000000000000005, 4.7, 4.800000000000001, 4.9], \"y\": [0.0, 0.010000000000000002, 0.04000000000000001, 0.09000000000000002, 0.16000000000000003, 0.25, 0.3600000000000001, 0.4900000000000001, 0.6400000000000001, 0.81, 1.0, 1.2100000000000002, 1.4400000000000004, 1.6900000000000002, 1.9600000000000004, 2.25, 2.5600000000000005, 2.8900000000000006, 3.24, 3.6100000000000003, 4.0, 4.41, 4.840000000000001, 5.290000000000001, 5.760000000000002, 6.25, 6.760000000000001, 7.290000000000001, 7.840000000000002, 8.410000000000002, 9.0, 9.610000000000001, 10.240000000000002, 10.890000000000002, 11.560000000000002, 12.25, 12.96, 13.690000000000001, 14.440000000000001, 15.210000000000003, 16.0, 16.810000000000006, 17.64, 18.49, 19.360000000000003, 20.25, 21.160000000000004, 22.090000000000003, 23.040000000000006, 24.010000000000005], \"type\": \"scatter\"}, {\"name\": \"g(x)=x\", \"visible\": false, \"x\": [0.0, 0.1, 0.2, 0.30000000000000004, 0.4, 0.5, 0.6000000000000001, 0.7000000000000001, 0.8, 0.9, 1.0, 1.1, 1.2000000000000002, 1.3, 1.4000000000000001, 1.5, 1.6, 1.7000000000000002, 1.8, 1.9000000000000001, 2.0, 2.1, 2.2, 2.3000000000000003, 2.4000000000000004, 2.5, 2.6, 2.7, 2.8000000000000003, 2.9000000000000004, 3.0, 3.1, 3.2, 3.3000000000000003, 3.4000000000000004, 3.5, 3.6, 3.7, 3.8000000000000003, 3.9000000000000004, 4.0, 4.1000000000000005, 4.2, 4.3, 4.4, 4.5, 4.6000000000000005, 4.7, 4.800000000000001, 4.9], \"y\": [0.0, 0.1, 0.2, 0.30000000000000004, 0.4, 0.5, 0.6000000000000001, 0.7000000000000001, 0.8, 0.9, 1.0, 1.1, 1.2000000000000002, 1.3, 1.4000000000000001, 1.5, 1.6, 1.7000000000000002, 1.8, 1.9000000000000001, 2.0, 2.1, 2.2, 2.3000000000000003, 2.4000000000000004, 2.5, 2.6, 2.7, 2.8000000000000003, 2.9000000000000004, 3.0, 3.1, 3.2, 3.3000000000000003, 3.4000000000000004, 3.5, 3.6, 3.7, 3.8000000000000003, 3.9000000000000004, 4.0, 4.1000000000000005, 4.2, 4.3, 4.4, 4.5, 4.6000000000000005, 4.7, 4.800000000000001, 4.9], \"type\": \"scatter\"}, {\"name\": \"h(x)=sin(x)\", \"visible\": false, \"x\": [0.0, 0.1, 0.2, 0.30000000000000004, 0.4, 0.5, 0.6000000000000001, 0.7000000000000001, 0.8, 0.9, 1.0, 1.1, 1.2000000000000002, 1.3, 1.4000000000000001, 1.5, 1.6, 1.7000000000000002, 1.8, 1.9000000000000001, 2.0, 2.1, 2.2, 2.3000000000000003, 2.4000000000000004, 2.5, 2.6, 2.7, 2.8000000000000003, 2.9000000000000004, 3.0, 3.1, 3.2, 3.3000000000000003, 3.4000000000000004, 3.5, 3.6, 3.7, 3.8000000000000003, 3.9000000000000004, 4.0, 4.1000000000000005, 4.2, 4.3, 4.4, 4.5, 4.6000000000000005, 4.7, 4.800000000000001, 4.9], \"y\": [0.0, 0.09983341664682815, 0.19866933079506122, 0.2955202066613396, 0.3894183423086505, 0.479425538604203, 0.5646424733950355, 0.6442176872376911, 0.7173560908995228, 0.7833269096274834, 0.8414709848078965, 0.8912073600614354, 0.9320390859672264, 0.963558185417193, 0.9854497299884603, 0.9974949866040544, 0.9995736030415051, 0.9916648104524686, 0.9738476308781951, 0.9463000876874145, 0.9092974268256817, 0.8632093666488737, 0.8084964038195901, 0.74570521217672, 0.6754631805511506, 0.5984721441039564, 0.5155013718214642, 0.4273798802338298, 0.33498815015590466, 0.23924932921398198, 0.1411200080598672, 0.04158066243329049, -0.058374143427580086, -0.15774569414324865, -0.25554110202683167, -0.35078322768961984, -0.44252044329485246, -0.5298361409084934, -0.6118578909427193, -0.6877661591839741, -0.7568024953079282, -0.8182771110644108, -0.8715757724135882, -0.9161659367494549, -0.9516020738895161, -0.977530117665097, -0.9936910036334645, -0.9999232575641008, -0.9961646088358406, -0.9824526126243325], \"type\": \"scatter\"}, {\"name\": \"k(x)=cos(x)\", \"visible\": false, \"x\": [0.0, 0.1, 0.2, 0.30000000000000004, 0.4, 0.5, 0.6000000000000001, 0.7000000000000001, 0.8, 0.9, 1.0, 1.1, 1.2000000000000002, 1.3, 1.4000000000000001, 1.5, 1.6, 1.7000000000000002, 1.8, 1.9000000000000001, 2.0, 2.1, 2.2, 2.3000000000000003, 2.4000000000000004, 2.5, 2.6, 2.7, 2.8000000000000003, 2.9000000000000004, 3.0, 3.1, 3.2, 3.3000000000000003, 3.4000000000000004, 3.5, 3.6, 3.7, 3.8000000000000003, 3.9000000000000004, 4.0, 4.1000000000000005, 4.2, 4.3, 4.4, 4.5, 4.6000000000000005, 4.7, 4.800000000000001, 4.9], \"y\": [1.0, 0.9950041652780258, 0.9800665778412416, 0.955336489125606, 0.9210609940028851, 0.8775825618903728, 0.8253356149096782, 0.7648421872844884, 0.6967067093471654, 0.6216099682706644, 0.5403023058681398, 0.4535961214255773, 0.3623577544766734, 0.26749882862458735, 0.16996714290024081, 0.0707372016677029, -0.029199522301288815, -0.12884449429552486, -0.2272020946930871, -0.3232895668635036, -0.4161468365471424, -0.5048461045998576, -0.5885011172553458, -0.6662760212798244, -0.7373937155412458, -0.8011436155469337, -0.8568887533689473, -0.9040721420170612, -0.9422223406686583, -0.9709581651495907, -0.9899924966004454, -0.9991351502732795, -0.9982947757947531, -0.9874797699088649, -0.9667981925794609, -0.9364566872907963, -0.896758416334147, -0.848100031710408, -0.7909677119144165, -0.7259323042001399, -0.6536436208636119, -0.5748239465332685, -0.4902608213406994, -0.40079917207997545, -0.30733286997841935, -0.2107957994307797, -0.11215252693505398, -0.01238866346289056, 0.08749898343944727, 0.18651236942257576], \"type\": \"scatter\"}], \"name\": \"1\"}, {\"data\": [{\"name\": \"f(x)=x<sup>2</sup>\", \"visible\": true, \"x\": [0.0, 0.1, 0.2, 0.30000000000000004, 0.4, 0.5, 0.6000000000000001, 0.7000000000000001, 0.8, 0.9, 1.0, 1.1, 1.2000000000000002, 1.3, 1.4000000000000001, 1.5, 1.6, 1.7000000000000002, 1.8, 1.9000000000000001, 2.0, 2.1, 2.2, 2.3000000000000003, 2.4000000000000004, 2.5, 2.6, 2.7, 2.8000000000000003, 2.9000000000000004, 3.0, 3.1, 3.2, 3.3000000000000003, 3.4000000000000004, 3.5, 3.6, 3.7, 3.8000000000000003, 3.9000000000000004, 4.0, 4.1000000000000005, 4.2, 4.3, 4.4, 4.5, 4.6000000000000005, 4.7, 4.800000000000001, 4.9], \"y\": [0.0, 0.010000000000000002, 0.04000000000000001, 0.09000000000000002, 0.16000000000000003, 0.25, 0.3600000000000001, 0.4900000000000001, 0.6400000000000001, 0.81, 1.0, 1.2100000000000002, 1.4400000000000004, 1.6900000000000002, 1.9600000000000004, 2.25, 2.5600000000000005, 2.8900000000000006, 3.24, 3.6100000000000003, 4.0, 4.41, 4.840000000000001, 5.290000000000001, 5.760000000000002, 6.25, 6.760000000000001, 7.290000000000001, 7.840000000000002, 8.410000000000002, 9.0, 9.610000000000001, 10.240000000000002, 10.890000000000002, 11.560000000000002, 12.25, 12.96, 13.690000000000001, 14.440000000000001, 15.210000000000003, 16.0, 16.810000000000006, 17.64, 18.49, 19.360000000000003, 20.25, 21.160000000000004, 22.090000000000003, 23.040000000000006, 24.010000000000005], \"type\": \"scatter\"}, {\"name\": \"g(x)=x\", \"visible\": true, \"x\": [0.0, 0.1, 0.2, 0.30000000000000004, 0.4, 0.5, 0.6000000000000001, 0.7000000000000001, 0.8, 0.9, 1.0, 1.1, 1.2000000000000002, 1.3, 1.4000000000000001, 1.5, 1.6, 1.7000000000000002, 1.8, 1.9000000000000001, 2.0, 2.1, 2.2, 2.3000000000000003, 2.4000000000000004, 2.5, 2.6, 2.7, 2.8000000000000003, 2.9000000000000004, 3.0, 3.1, 3.2, 3.3000000000000003, 3.4000000000000004, 3.5, 3.6, 3.7, 3.8000000000000003, 3.9000000000000004, 4.0, 4.1000000000000005, 4.2, 4.3, 4.4, 4.5, 4.6000000000000005, 4.7, 4.800000000000001, 4.9], \"y\": [0.0, 0.1, 0.2, 0.30000000000000004, 0.4, 0.5, 0.6000000000000001, 0.7000000000000001, 0.8, 0.9, 1.0, 1.1, 1.2000000000000002, 1.3, 1.4000000000000001, 1.5, 1.6, 1.7000000000000002, 1.8, 1.9000000000000001, 2.0, 2.1, 2.2, 2.3000000000000003, 2.4000000000000004, 2.5, 2.6, 2.7, 2.8000000000000003, 2.9000000000000004, 3.0, 3.1, 3.2, 3.3000000000000003, 3.4000000000000004, 3.5, 3.6, 3.7, 3.8000000000000003, 3.9000000000000004, 4.0, 4.1000000000000005, 4.2, 4.3, 4.4, 4.5, 4.6000000000000005, 4.7, 4.800000000000001, 4.9], \"type\": \"scatter\"}, {\"name\": \"h(x)=sin(x)\", \"visible\": false, \"x\": [0.0, 0.1, 0.2, 0.30000000000000004, 0.4, 0.5, 0.6000000000000001, 0.7000000000000001, 0.8, 0.9, 1.0, 1.1, 1.2000000000000002, 1.3, 1.4000000000000001, 1.5, 1.6, 1.7000000000000002, 1.8, 1.9000000000000001, 2.0, 2.1, 2.2, 2.3000000000000003, 2.4000000000000004, 2.5, 2.6, 2.7, 2.8000000000000003, 2.9000000000000004, 3.0, 3.1, 3.2, 3.3000000000000003, 3.4000000000000004, 3.5, 3.6, 3.7, 3.8000000000000003, 3.9000000000000004, 4.0, 4.1000000000000005, 4.2, 4.3, 4.4, 4.5, 4.6000000000000005, 4.7, 4.800000000000001, 4.9], \"y\": [0.0, 0.09983341664682815, 0.19866933079506122, 0.2955202066613396, 0.3894183423086505, 0.479425538604203, 0.5646424733950355, 0.6442176872376911, 0.7173560908995228, 0.7833269096274834, 0.8414709848078965, 0.8912073600614354, 0.9320390859672264, 0.963558185417193, 0.9854497299884603, 0.9974949866040544, 0.9995736030415051, 0.9916648104524686, 0.9738476308781951, 0.9463000876874145, 0.9092974268256817, 0.8632093666488737, 0.8084964038195901, 0.74570521217672, 0.6754631805511506, 0.5984721441039564, 0.5155013718214642, 0.4273798802338298, 0.33498815015590466, 0.23924932921398198, 0.1411200080598672, 0.04158066243329049, -0.058374143427580086, -0.15774569414324865, -0.25554110202683167, -0.35078322768961984, -0.44252044329485246, -0.5298361409084934, -0.6118578909427193, -0.6877661591839741, -0.7568024953079282, -0.8182771110644108, -0.8715757724135882, -0.9161659367494549, -0.9516020738895161, -0.977530117665097, -0.9936910036334645, -0.9999232575641008, -0.9961646088358406, -0.9824526126243325], \"type\": \"scatter\"}, {\"name\": \"k(x)=cos(x)\", \"visible\": false, \"x\": [0.0, 0.1, 0.2, 0.30000000000000004, 0.4, 0.5, 0.6000000000000001, 0.7000000000000001, 0.8, 0.9, 1.0, 1.1, 1.2000000000000002, 1.3, 1.4000000000000001, 1.5, 1.6, 1.7000000000000002, 1.8, 1.9000000000000001, 2.0, 2.1, 2.2, 2.3000000000000003, 2.4000000000000004, 2.5, 2.6, 2.7, 2.8000000000000003, 2.9000000000000004, 3.0, 3.1, 3.2, 3.3000000000000003, 3.4000000000000004, 3.5, 3.6, 3.7, 3.8000000000000003, 3.9000000000000004, 4.0, 4.1000000000000005, 4.2, 4.3, 4.4, 4.5, 4.6000000000000005, 4.7, 4.800000000000001, 4.9], \"y\": [1.0, 0.9950041652780258, 0.9800665778412416, 0.955336489125606, 0.9210609940028851, 0.8775825618903728, 0.8253356149096782, 0.7648421872844884, 0.6967067093471654, 0.6216099682706644, 0.5403023058681398, 0.4535961214255773, 0.3623577544766734, 0.26749882862458735, 0.16996714290024081, 0.0707372016677029, -0.029199522301288815, -0.12884449429552486, -0.2272020946930871, -0.3232895668635036, -0.4161468365471424, -0.5048461045998576, -0.5885011172553458, -0.6662760212798244, -0.7373937155412458, -0.8011436155469337, -0.8568887533689473, -0.9040721420170612, -0.9422223406686583, -0.9709581651495907, -0.9899924966004454, -0.9991351502732795, -0.9982947757947531, -0.9874797699088649, -0.9667981925794609, -0.9364566872907963, -0.896758416334147, -0.848100031710408, -0.7909677119144165, -0.7259323042001399, -0.6536436208636119, -0.5748239465332685, -0.4902608213406994, -0.40079917207997545, -0.30733286997841935, -0.2107957994307797, -0.11215252693505398, -0.01238866346289056, 0.08749898343944727, 0.18651236942257576], \"type\": \"scatter\"}], \"name\": \"2\"}, {\"data\": [{\"name\": \"f(x)=x<sup>2</sup>\", \"visible\": true, \"x\": [0.0, 0.1, 0.2, 0.30000000000000004, 0.4, 0.5, 0.6000000000000001, 0.7000000000000001, 0.8, 0.9, 1.0, 1.1, 1.2000000000000002, 1.3, 1.4000000000000001, 1.5, 1.6, 1.7000000000000002, 1.8, 1.9000000000000001, 2.0, 2.1, 2.2, 2.3000000000000003, 2.4000000000000004, 2.5, 2.6, 2.7, 2.8000000000000003, 2.9000000000000004, 3.0, 3.1, 3.2, 3.3000000000000003, 3.4000000000000004, 3.5, 3.6, 3.7, 3.8000000000000003, 3.9000000000000004, 4.0, 4.1000000000000005, 4.2, 4.3, 4.4, 4.5, 4.6000000000000005, 4.7, 4.800000000000001, 4.9], \"y\": [0.0, 0.010000000000000002, 0.04000000000000001, 0.09000000000000002, 0.16000000000000003, 0.25, 0.3600000000000001, 0.4900000000000001, 0.6400000000000001, 0.81, 1.0, 1.2100000000000002, 1.4400000000000004, 1.6900000000000002, 1.9600000000000004, 2.25, 2.5600000000000005, 2.8900000000000006, 3.24, 3.6100000000000003, 4.0, 4.41, 4.840000000000001, 5.290000000000001, 5.760000000000002, 6.25, 6.760000000000001, 7.290000000000001, 7.840000000000002, 8.410000000000002, 9.0, 9.610000000000001, 10.240000000000002, 10.890000000000002, 11.560000000000002, 12.25, 12.96, 13.690000000000001, 14.440000000000001, 15.210000000000003, 16.0, 16.810000000000006, 17.64, 18.49, 19.360000000000003, 20.25, 21.160000000000004, 22.090000000000003, 23.040000000000006, 24.010000000000005], \"type\": \"scatter\"}, {\"name\": \"g(x)=x\", \"visible\": true, \"x\": [0.0, 0.1, 0.2, 0.30000000000000004, 0.4, 0.5, 0.6000000000000001, 0.7000000000000001, 0.8, 0.9, 1.0, 1.1, 1.2000000000000002, 1.3, 1.4000000000000001, 1.5, 1.6, 1.7000000000000002, 1.8, 1.9000000000000001, 2.0, 2.1, 2.2, 2.3000000000000003, 2.4000000000000004, 2.5, 2.6, 2.7, 2.8000000000000003, 2.9000000000000004, 3.0, 3.1, 3.2, 3.3000000000000003, 3.4000000000000004, 3.5, 3.6, 3.7, 3.8000000000000003, 3.9000000000000004, 4.0, 4.1000000000000005, 4.2, 4.3, 4.4, 4.5, 4.6000000000000005, 4.7, 4.800000000000001, 4.9], \"y\": [0.0, 0.1, 0.2, 0.30000000000000004, 0.4, 0.5, 0.6000000000000001, 0.7000000000000001, 0.8, 0.9, 1.0, 1.1, 1.2000000000000002, 1.3, 1.4000000000000001, 1.5, 1.6, 1.7000000000000002, 1.8, 1.9000000000000001, 2.0, 2.1, 2.2, 2.3000000000000003, 2.4000000000000004, 2.5, 2.6, 2.7, 2.8000000000000003, 2.9000000000000004, 3.0, 3.1, 3.2, 3.3000000000000003, 3.4000000000000004, 3.5, 3.6, 3.7, 3.8000000000000003, 3.9000000000000004, 4.0, 4.1000000000000005, 4.2, 4.3, 4.4, 4.5, 4.6000000000000005, 4.7, 4.800000000000001, 4.9], \"type\": \"scatter\"}, {\"name\": \"h(x)=sin(x)\", \"visible\": true, \"x\": [0.0, 0.1, 0.2, 0.30000000000000004, 0.4, 0.5, 0.6000000000000001, 0.7000000000000001, 0.8, 0.9, 1.0, 1.1, 1.2000000000000002, 1.3, 1.4000000000000001, 1.5, 1.6, 1.7000000000000002, 1.8, 1.9000000000000001, 2.0, 2.1, 2.2, 2.3000000000000003, 2.4000000000000004, 2.5, 2.6, 2.7, 2.8000000000000003, 2.9000000000000004, 3.0, 3.1, 3.2, 3.3000000000000003, 3.4000000000000004, 3.5, 3.6, 3.7, 3.8000000000000003, 3.9000000000000004, 4.0, 4.1000000000000005, 4.2, 4.3, 4.4, 4.5, 4.6000000000000005, 4.7, 4.800000000000001, 4.9], \"y\": [0.0, 0.09983341664682815, 0.19866933079506122, 0.2955202066613396, 0.3894183423086505, 0.479425538604203, 0.5646424733950355, 0.6442176872376911, 0.7173560908995228, 0.7833269096274834, 0.8414709848078965, 0.8912073600614354, 0.9320390859672264, 0.963558185417193, 0.9854497299884603, 0.9974949866040544, 0.9995736030415051, 0.9916648104524686, 0.9738476308781951, 0.9463000876874145, 0.9092974268256817, 0.8632093666488737, 0.8084964038195901, 0.74570521217672, 0.6754631805511506, 0.5984721441039564, 0.5155013718214642, 0.4273798802338298, 0.33498815015590466, 0.23924932921398198, 0.1411200080598672, 0.04158066243329049, -0.058374143427580086, -0.15774569414324865, -0.25554110202683167, -0.35078322768961984, -0.44252044329485246, -0.5298361409084934, -0.6118578909427193, -0.6877661591839741, -0.7568024953079282, -0.8182771110644108, -0.8715757724135882, -0.9161659367494549, -0.9516020738895161, -0.977530117665097, -0.9936910036334645, -0.9999232575641008, -0.9961646088358406, -0.9824526126243325], \"type\": \"scatter\"}, {\"name\": \"k(x)=cos(x)\", \"visible\": false, \"x\": [0.0, 0.1, 0.2, 0.30000000000000004, 0.4, 0.5, 0.6000000000000001, 0.7000000000000001, 0.8, 0.9, 1.0, 1.1, 1.2000000000000002, 1.3, 1.4000000000000001, 1.5, 1.6, 1.7000000000000002, 1.8, 1.9000000000000001, 2.0, 2.1, 2.2, 2.3000000000000003, 2.4000000000000004, 2.5, 2.6, 2.7, 2.8000000000000003, 2.9000000000000004, 3.0, 3.1, 3.2, 3.3000000000000003, 3.4000000000000004, 3.5, 3.6, 3.7, 3.8000000000000003, 3.9000000000000004, 4.0, 4.1000000000000005, 4.2, 4.3, 4.4, 4.5, 4.6000000000000005, 4.7, 4.800000000000001, 4.9], \"y\": [1.0, 0.9950041652780258, 0.9800665778412416, 0.955336489125606, 0.9210609940028851, 0.8775825618903728, 0.8253356149096782, 0.7648421872844884, 0.6967067093471654, 0.6216099682706644, 0.5403023058681398, 0.4535961214255773, 0.3623577544766734, 0.26749882862458735, 0.16996714290024081, 0.0707372016677029, -0.029199522301288815, -0.12884449429552486, -0.2272020946930871, -0.3232895668635036, -0.4161468365471424, -0.5048461045998576, -0.5885011172553458, -0.6662760212798244, -0.7373937155412458, -0.8011436155469337, -0.8568887533689473, -0.9040721420170612, -0.9422223406686583, -0.9709581651495907, -0.9899924966004454, -0.9991351502732795, -0.9982947757947531, -0.9874797699088649, -0.9667981925794609, -0.9364566872907963, -0.896758416334147, -0.848100031710408, -0.7909677119144165, -0.7259323042001399, -0.6536436208636119, -0.5748239465332685, -0.4902608213406994, -0.40079917207997545, -0.30733286997841935, -0.2107957994307797, -0.11215252693505398, -0.01238866346289056, 0.08749898343944727, 0.18651236942257576], \"type\": \"scatter\"}], \"name\": \"3\"}, {\"data\": [{\"name\": \"f(x)=x<sup>2</sup>\", \"visible\": true, \"x\": [0.0, 0.1, 0.2, 0.30000000000000004, 0.4, 0.5, 0.6000000000000001, 0.7000000000000001, 0.8, 0.9, 1.0, 1.1, 1.2000000000000002, 1.3, 1.4000000000000001, 1.5, 1.6, 1.7000000000000002, 1.8, 1.9000000000000001, 2.0, 2.1, 2.2, 2.3000000000000003, 2.4000000000000004, 2.5, 2.6, 2.7, 2.8000000000000003, 2.9000000000000004, 3.0, 3.1, 3.2, 3.3000000000000003, 3.4000000000000004, 3.5, 3.6, 3.7, 3.8000000000000003, 3.9000000000000004, 4.0, 4.1000000000000005, 4.2, 4.3, 4.4, 4.5, 4.6000000000000005, 4.7, 4.800000000000001, 4.9], \"y\": [0.0, 0.010000000000000002, 0.04000000000000001, 0.09000000000000002, 0.16000000000000003, 0.25, 0.3600000000000001, 0.4900000000000001, 0.6400000000000001, 0.81, 1.0, 1.2100000000000002, 1.4400000000000004, 1.6900000000000002, 1.9600000000000004, 2.25, 2.5600000000000005, 2.8900000000000006, 3.24, 3.6100000000000003, 4.0, 4.41, 4.840000000000001, 5.290000000000001, 5.760000000000002, 6.25, 6.760000000000001, 7.290000000000001, 7.840000000000002, 8.410000000000002, 9.0, 9.610000000000001, 10.240000000000002, 10.890000000000002, 11.560000000000002, 12.25, 12.96, 13.690000000000001, 14.440000000000001, 15.210000000000003, 16.0, 16.810000000000006, 17.64, 18.49, 19.360000000000003, 20.25, 21.160000000000004, 22.090000000000003, 23.040000000000006, 24.010000000000005], \"type\": \"scatter\"}, {\"name\": \"g(x)=x\", \"visible\": true, \"x\": [0.0, 0.1, 0.2, 0.30000000000000004, 0.4, 0.5, 0.6000000000000001, 0.7000000000000001, 0.8, 0.9, 1.0, 1.1, 1.2000000000000002, 1.3, 1.4000000000000001, 1.5, 1.6, 1.7000000000000002, 1.8, 1.9000000000000001, 2.0, 2.1, 2.2, 2.3000000000000003, 2.4000000000000004, 2.5, 2.6, 2.7, 2.8000000000000003, 2.9000000000000004, 3.0, 3.1, 3.2, 3.3000000000000003, 3.4000000000000004, 3.5, 3.6, 3.7, 3.8000000000000003, 3.9000000000000004, 4.0, 4.1000000000000005, 4.2, 4.3, 4.4, 4.5, 4.6000000000000005, 4.7, 4.800000000000001, 4.9], \"y\": [0.0, 0.1, 0.2, 0.30000000000000004, 0.4, 0.5, 0.6000000000000001, 0.7000000000000001, 0.8, 0.9, 1.0, 1.1, 1.2000000000000002, 1.3, 1.4000000000000001, 1.5, 1.6, 1.7000000000000002, 1.8, 1.9000000000000001, 2.0, 2.1, 2.2, 2.3000000000000003, 2.4000000000000004, 2.5, 2.6, 2.7, 2.8000000000000003, 2.9000000000000004, 3.0, 3.1, 3.2, 3.3000000000000003, 3.4000000000000004, 3.5, 3.6, 3.7, 3.8000000000000003, 3.9000000000000004, 4.0, 4.1000000000000005, 4.2, 4.3, 4.4, 4.5, 4.6000000000000005, 4.7, 4.800000000000001, 4.9], \"type\": \"scatter\"}, {\"name\": \"h(x)=sin(x)\", \"visible\": true, \"x\": [0.0, 0.1, 0.2, 0.30000000000000004, 0.4, 0.5, 0.6000000000000001, 0.7000000000000001, 0.8, 0.9, 1.0, 1.1, 1.2000000000000002, 1.3, 1.4000000000000001, 1.5, 1.6, 1.7000000000000002, 1.8, 1.9000000000000001, 2.0, 2.1, 2.2, 2.3000000000000003, 2.4000000000000004, 2.5, 2.6, 2.7, 2.8000000000000003, 2.9000000000000004, 3.0, 3.1, 3.2, 3.3000000000000003, 3.4000000000000004, 3.5, 3.6, 3.7, 3.8000000000000003, 3.9000000000000004, 4.0, 4.1000000000000005, 4.2, 4.3, 4.4, 4.5, 4.6000000000000005, 4.7, 4.800000000000001, 4.9], \"y\": [0.0, 0.09983341664682815, 0.19866933079506122, 0.2955202066613396, 0.3894183423086505, 0.479425538604203, 0.5646424733950355, 0.6442176872376911, 0.7173560908995228, 0.7833269096274834, 0.8414709848078965, 0.8912073600614354, 0.9320390859672264, 0.963558185417193, 0.9854497299884603, 0.9974949866040544, 0.9995736030415051, 0.9916648104524686, 0.9738476308781951, 0.9463000876874145, 0.9092974268256817, 0.8632093666488737, 0.8084964038195901, 0.74570521217672, 0.6754631805511506, 0.5984721441039564, 0.5155013718214642, 0.4273798802338298, 0.33498815015590466, 0.23924932921398198, 0.1411200080598672, 0.04158066243329049, -0.058374143427580086, -0.15774569414324865, -0.25554110202683167, -0.35078322768961984, -0.44252044329485246, -0.5298361409084934, -0.6118578909427193, -0.6877661591839741, -0.7568024953079282, -0.8182771110644108, -0.8715757724135882, -0.9161659367494549, -0.9516020738895161, -0.977530117665097, -0.9936910036334645, -0.9999232575641008, -0.9961646088358406, -0.9824526126243325], \"type\": \"scatter\"}, {\"name\": \"k(x)=cos(x)\", \"visible\": true, \"x\": [0.0, 0.1, 0.2, 0.30000000000000004, 0.4, 0.5, 0.6000000000000001, 0.7000000000000001, 0.8, 0.9, 1.0, 1.1, 1.2000000000000002, 1.3, 1.4000000000000001, 1.5, 1.6, 1.7000000000000002, 1.8, 1.9000000000000001, 2.0, 2.1, 2.2, 2.3000000000000003, 2.4000000000000004, 2.5, 2.6, 2.7, 2.8000000000000003, 2.9000000000000004, 3.0, 3.1, 3.2, 3.3000000000000003, 3.4000000000000004, 3.5, 3.6, 3.7, 3.8000000000000003, 3.9000000000000004, 4.0, 4.1000000000000005, 4.2, 4.3, 4.4, 4.5, 4.6000000000000005, 4.7, 4.800000000000001, 4.9], \"y\": [1.0, 0.9950041652780258, 0.9800665778412416, 0.955336489125606, 0.9210609940028851, 0.8775825618903728, 0.8253356149096782, 0.7648421872844884, 0.6967067093471654, 0.6216099682706644, 0.5403023058681398, 0.4535961214255773, 0.3623577544766734, 0.26749882862458735, 0.16996714290024081, 0.0707372016677029, -0.029199522301288815, -0.12884449429552486, -0.2272020946930871, -0.3232895668635036, -0.4161468365471424, -0.5048461045998576, -0.5885011172553458, -0.6662760212798244, -0.7373937155412458, -0.8011436155469337, -0.8568887533689473, -0.9040721420170612, -0.9422223406686583, -0.9709581651495907, -0.9899924966004454, -0.9991351502732795, -0.9982947757947531, -0.9874797699088649, -0.9667981925794609, -0.9364566872907963, -0.896758416334147, -0.848100031710408, -0.7909677119144165, -0.7259323042001399, -0.6536436208636119, -0.5748239465332685, -0.4902608213406994, -0.40079917207997545, -0.30733286997841935, -0.2107957994307797, -0.11215252693505398, -0.01238866346289056, 0.08749898343944727, 0.18651236942257576], \"type\": \"scatter\"}], \"name\": \"4\"}]);\n",
       "                        }).then(function(){\n",
       "                            \n",
       "var gd = document.getElementById('9a831f47-bd80-4127-8e49-b826580a7691');\n",
       "var x = new MutationObserver(function (mutations, observer) {{\n",
       "        var display = window.getComputedStyle(gd).display;\n",
       "        if (!display || display === 'none') {{\n",
       "            console.log([gd, 'removed!']);\n",
       "            Plotly.purge(gd);\n",
       "            observer.disconnect();\n",
       "        }}\n",
       "}});\n",
       "\n",
       "// Listen for the removal of the full notebook cells\n",
       "var notebookContainer = gd.closest('#notebook-container');\n",
       "if (notebookContainer) {{\n",
       "    x.observe(notebookContainer, {childList: true});\n",
       "}}\n",
       "\n",
       "// Listen for the clearing of the current output cell\n",
       "var outputEl = gd.closest('.output');\n",
       "if (outputEl) {{\n",
       "    x.observe(outputEl, {childList: true});\n",
       "}}\n",
       "\n",
       "                        })\n",
       "                };\n",
       "                });\n",
       "            </script>\n",
       "        </div>"
      ]
     },
     "metadata": {},
     "output_type": "display_data"
    }
   ],
   "source": [
    "graphs_invisible = [go.Scatter(visible = False, x=x, y=f(x),  name='f(x)=x<sup>2</sup>'),\n",
    "                    go.Scatter(visible = False, x=x, y=x,  name='g(x)=x'),\n",
    "                    go.Scatter(visible = False, x=x, y=h(x), name='h(x)=sin(x)'),\n",
    "                    go.Scatter(visible = False, x=x, y=k(x), name='k(x)=cos(x)')]\n",
    "graphs_visible = [go.Scatter(visible = True, x=x, y=f(x), name='f(x)=x<sup>2</sup>'),\n",
    "                  go.Scatter(visible = True, x=x, y=x,  name='g(x)=x'),\n",
    "                  go.Scatter(visible = True, x=x, y=h(x), name='h(x)=sin(x)'),\n",
    "                  go.Scatter(visible = True, x=x, y=k(x), name='k(x)=cos(x)')]\n",
    "fig = go.Figure(data=graphs_invisible)\n",
    "\n",
    "frames=[]\n",
    "for i in range(len(graphs_visible)+1):\n",
    "    frames.append(go.Frame(name=str(i),\n",
    "                           data=graphs_visible[:i]+graphs_invisible[i:])) \n",
    "\n",
    "steps = []\n",
    "for i in range(len(graphs_visible)+1):\n",
    "    step = dict(\n",
    "        label = str(i),\n",
    "        method = \"animate\",\n",
    "        args = [[str(i)]]\n",
    "    )\n",
    "    steps.append(step)\n",
    "\n",
    "sliders = [dict(\n",
    "    currentvalue = {\"prefix\": \"Графиков отображается: \", \"font\": {\"size\": 20}},\n",
    "    len = 0.9,\n",
    "    x = 0.1,\n",
    "    pad = {\"b\": 10, \"t\": 50},\n",
    "    steps = steps,\n",
    ")]\n",
    "\n",
    "fig.update_layout(title=\"Выводим графики по очереди\",\n",
    "                  xaxis_title=\"Ось X\",\n",
    "                  yaxis_title=\"Ось Y\",\n",
    "                  updatemenus=[dict(direction=\"left\",\n",
    "                                    pad = {\"r\": 10, \"t\": 80},\n",
    "                                    x = 0.1,\n",
    "                                    xanchor = \"right\",\n",
    "                                    y = 0,\n",
    "                                    yanchor = \"top\",\n",
    "                                    showactive=False,\n",
    "                                    type=\"buttons\", \n",
    "                                    buttons=[dict(label=\"►\", method=\"animate\", args=[None, {\"fromcurrent\": True}]),\n",
    "                                             dict(label=\"❚❚\", method=\"animate\", args=[[None], {\"frame\": {\"duration\": 0, \"redraw\": False},\n",
    "                                                                                               \"mode\": \"immediate\",\n",
    "                                                                                               \"transition\": {\"duration\": 0}}])])],\n",
    "                  )\n",
    "\n",
    "\n",
    "fig.layout.sliders = sliders\n",
    "fig.frames = frames  \n",
    "\n",
    "fig.show()"
   ]
  },
  {
   "cell_type": "markdown",
   "metadata": {},
   "source": [
    "## Показ plotly графиков на сайте"
   ]
  },
  {
   "cell_type": "markdown",
   "metadata": {},
   "source": [
    "Plotly — это не только библиотека для Python, но ещё и JS, это значит, что любые графики, которые вы строите в jupyter notebook, вы можете показывать и на сайте (если он на Python, либо если вы заранее выгрузите всё необходимое).\n",
    "\n",
    "В рамках этого урока мы не будем рассматривать полный цикл разработки дашборда или веб приложения, просто рассмотрим небольшой пример:"
   ]
  },
  {
   "cell_type": "code",
   "execution_count": 59,
   "metadata": {},
   "outputs": [],
   "source": [
    "import json\n",
    "\n",
    "# создадим график в фигуре fig\n",
    "graphJSON = json.dumps(fig, cls=plotly.utils.PlotlyJSONEncoder)"
   ]
  },
  {
   "cell_type": "markdown",
   "metadata": {},
   "source": [
    "В graphJSON окажется приличный JSON. Не будем вдаваться в его особенности, хотя легко заметить, что его структура соответствует нашему объекту фигуры, со всеми графиками, фреймами, подложками, кнопками и т.п.\n",
    "\n",
    "Давайте добавим немного по краям и сложим этот код в файл:"
   ]
  },
  {
   "cell_type": "code",
   "execution_count": 60,
   "metadata": {},
   "outputs": [],
   "source": [
    "with open('example.JSON', 'w') as file:\n",
    "    file.write('var graphs = {};'.format(graphJSON))"
   ]
  },
  {
   "cell_type": "markdown",
   "metadata": {},
   "source": [
    "Запустить файл example.html в браузере"
   ]
  }
 ],
 "metadata": {
  "kernelspec": {
   "display_name": "Python 3",
   "language": "python",
   "name": "python3"
  },
  "language_info": {
   "codemirror_mode": {
    "name": "ipython",
    "version": 3
   },
   "file_extension": ".py",
   "mimetype": "text/x-python",
   "name": "python",
   "nbconvert_exporter": "python",
   "pygments_lexer": "ipython3",
   "version": "3.7.4"
  }
 },
 "nbformat": 4,
 "nbformat_minor": 4
}
